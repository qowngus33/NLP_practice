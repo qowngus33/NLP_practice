{
  "cells": [
    {
      "cell_type": "markdown",
      "metadata": {
        "id": "view-in-github",
        "colab_type": "text"
      },
      "source": [
        "<a href=\"https://colab.research.google.com/github/qowngus33/NLP_practice/blob/main/%5BLab%5D_10_Classification_using_Transformer_with_Hugging_Face.ipynb\" target=\"_parent\"><img src=\"https://colab.research.google.com/assets/colab-badge.svg\" alt=\"Open In Colab\"/></a>"
      ]
    },
    {
      "cell_type": "code",
      "execution_count": 1,
      "metadata": {
        "id": "R0RYql3KYHY6",
        "colab": {
          "base_uri": "https://localhost:8080/"
        },
        "outputId": "84f0c875-3783-4706-941e-5941c65c4aeb"
      },
      "outputs": [
        {
          "output_type": "stream",
          "name": "stdout",
          "text": [
            "fatal: destination path 'nlp-with-transformers' already exists and is not an empty directory.\n",
            "/content/nlp-with-transformers\n",
            "⏳ Installing base requirements ...\n",
            "✅ Base requirements installed!\n",
            "Using transformers v4.41.1\n",
            "Using datasets v2.19.1\n",
            "Using accelerate v0.30.1\n",
            "Using sentencepiece v0.1.99\n",
            "Using umap v0.5.6\n"
          ]
        }
      ],
      "source": [
        "# Uncomment and run this cell if you're on Colab or Kaggle\n",
        "!git clone https://github.com/rickiepark/nlp-with-transformers.git\n",
        "%cd nlp-with-transformers\n",
        "from install import *\n",
        "install_requirements(chapter=2)"
      ]
    },
    {
      "cell_type": "markdown",
      "metadata": {
        "id": "93EZHicnYHY8"
      },
      "source": [
        "# Text Classification"
      ]
    },
    {
      "cell_type": "markdown",
      "metadata": {
        "id": "S1ESIABDYHY9"
      },
      "source": [
        "Text classification is one of the most common tasks in NLP; it can be used for a broad range of applications, such as tagging customer feedback into categories or routing support tickets according to their language. Chances are that your email program's spam filter is using text classification to protect your inbox from a deluge of unwanted junk!"
      ]
    },
    {
      "cell_type": "markdown",
      "metadata": {
        "id": "HII7N8gBYHY-"
      },
      "source": [
        "Another common type of text classification is sentiment analysis, which (as we saw in <<chapter_introduction>>) aims to identify the polarity of a given text. For example, a company like Tesla might analyze Twitter posts like the one in <<tesla-tweet>> to determine whether people like its new car roofs or not."
      ]
    },
    {
      "cell_type": "markdown",
      "metadata": {
        "id": "8bebtscmYHY-"
      },
      "source": [
        "<img alt=\"Tesla Tweet\" width=\"500\" caption=\"Analyzing Twitter content can yield useful feedback from customers (courtesy of Aditya Veluri)\" src=\"https://github.com/nlp-with-transformers/notebooks/blob/main/images/chapter02_tweet.png?raw=1\" id=\"tesla-tweet\"/>"
      ]
    },
    {
      "cell_type": "markdown",
      "metadata": {
        "id": "G33gWnRrYHY-"
      },
      "source": [
        "Now imagine that you are a data scientist who needs to build a system that can automatically identify emotional states such as \"anger\" or \"joy\" that people express about your company's product on Twitter. In this chapter, we'll tackle this task using a variant of BERT called DistilBERT.footnote:[V. Sanh et al., [\"DistilBERT, a Distilled Version of BERT: Smaller, Faster, Cheaper and Lighter\"](https://arxiv.org/abs/1910.01108), (2019).] The main advantage of this model is that it achieves comparable performance to BERT, while being significantly smaller and more efficient. This enables us to train a classifier in a few minutes, and if you want to train a larger BERT model you can simply change the checkpoint of the pretrained model. A _checkpoint_ corresponds to the set of weights that are loaded into a given transformer architecture.\n",
        "\n",
        "This will also be our first encounter with three of the core libraries from the Hugging Face ecosystem: image:images/logo.png[hf,13,13] Datasets, image:images/logo.png[hf,13,13] Tokenizers, and image:images/logo.png[hf,13,13] Transformers. As shown in  <<hf-libraries>>, these libraries will allow us to quickly go from raw text to a fine-tuned model that can be used for inference on new tweets. So, in the spirit of Optimus Prime, let's dive in, \"transform, and roll out!\"footnote:[Optimus Prime is the leader of a race of robots in the popular Transformers franchise for children (and for those who are young at heart!).]"
      ]
    },
    {
      "cell_type": "markdown",
      "metadata": {
        "id": "NM2WOlQrYHY_"
      },
      "source": [
        "<img alt=\"Hugging Face Pipeline\" caption=\"A typical pipeline for training transformer models with the image:images/logo.png[hf,13,13] Datasets, image:images/logo.png[hf,13,13] Tokenizers, and image:images/logo.png[hf,13,13] Transformers libraries\" src=\"https://github.com/nlp-with-transformers/notebooks/blob/main/images/chapter02_hf-libraries.png?raw=1\" id=\"hf-libraries\"/>"
      ]
    },
    {
      "cell_type": "markdown",
      "metadata": {
        "id": "Q25GMEArYHY_"
      },
      "source": [
        "## The Dataset"
      ]
    },
    {
      "cell_type": "markdown",
      "metadata": {
        "id": "t7hRmIdHYHY_"
      },
      "source": [
        "To build our emotion detector we'll use a great dataset from an article that explored how emotions are represented in English Twitter messages.footnote:[E. Saravia et al., \"CARER: Contextualized Affect Representations for Emotion Recognition,\" _Proceedings of the 2018 Conference on Empirical Methods in Natural Language Processing_ (Oct–Nov 2018): 3687–3697, http://dx.doi.org/10.18653/v1/D18-1404.] Unlike most sentiment analysis datasets that involve just \"positive\" and \"negative\" polarities, this dataset contains six basic emotions: anger, disgust, fear, joy, sadness, and surprise. Given a tweet, our task will be to train a model that can classify it into one of these emotions."
      ]
    },
    {
      "cell_type": "markdown",
      "metadata": {
        "id": "TofiY-T-YHZA"
      },
      "source": [
        "### A First Look at Hugging Face Datasets"
      ]
    },
    {
      "cell_type": "markdown",
      "metadata": {
        "id": "Vt8hW4yOYHZA"
      },
      "source": [
        "We will use image:images/logo.png[hf,13,13] Datasets to download the data from the [Hugging Face Hub](https://huggingface.co/datasets). We can use the `list_datasets()` function to see what datasets are available on the Hub:"
      ]
    },
    {
      "cell_type": "code",
      "execution_count": 2,
      "metadata": {
        "id": "vScH8C-oYHZA",
        "outputId": "d6f1c50f-58fd-405a-e087-d257d260a6c1",
        "colab": {
          "base_uri": "https://localhost:8080/"
        }
      },
      "outputs": [
        {
          "output_type": "stream",
          "name": "stderr",
          "text": [
            "<ipython-input-2-1ca6970f4f6e>:3: FutureWarning: list_datasets is deprecated and will be removed in the next major version of datasets. Use 'huggingface_hub.list_datasets' instead.\n",
            "  all_datasets = list_datasets()\n",
            "/usr/local/lib/python3.10/dist-packages/huggingface_hub/utils/_token.py:89: UserWarning: \n",
            "The secret `HF_TOKEN` does not exist in your Colab secrets.\n",
            "To authenticate with the Hugging Face Hub, create a token in your settings tab (https://huggingface.co/settings/tokens), set it as secret in your Google Colab and restart your session.\n",
            "You will be able to reuse this secret in all of your notebooks.\n",
            "Please note that authentication is recommended but still optional to access public models or datasets.\n",
            "  warnings.warn(\n"
          ]
        },
        {
          "output_type": "stream",
          "name": "stdout",
          "text": [
            "There are 151672 datasets currently available on the Hub\n",
            "The first 10 are: ['amirveyseh/acronym_identification', 'ade_corpus_v2',\n",
            "'UCLNLP/adversarial_qa', 'Yale-LILY/aeslc', 'afrikaans_ner_corpus',\n",
            "'fancyzhx/ag_news', 'allenai/ai2_arc', 'google/air_dialogue',\n",
            "'komari6/ajgt_twitter_ar', 'allegro_reviews']\n"
          ]
        }
      ],
      "source": [
        "from datasets import list_datasets\n",
        "\n",
        "all_datasets = list_datasets()\n",
        "print(f\"There are {len(all_datasets)} datasets currently available on the Hub\")\n",
        "print(f\"The first 10 are: {all_datasets[:10]}\")"
      ]
    },
    {
      "cell_type": "markdown",
      "metadata": {
        "id": "t4wG74KKYHZB"
      },
      "source": [
        "We see that each dataset is given a name, so let's load the `emotion` dataset with the `load_dataset()` function:"
      ]
    },
    {
      "cell_type": "code",
      "execution_count": 3,
      "metadata": {
        "id": "qBWCiq_MYHZB",
        "outputId": "f9efe366-f178-4615-8ec8-d330e3a894f6",
        "colab": {
          "base_uri": "https://localhost:8080/"
        }
      },
      "outputs": [
        {
          "output_type": "stream",
          "name": "stderr",
          "text": [
            "/usr/local/lib/python3.10/dist-packages/datasets/load.py:1486: FutureWarning: The repository for emotion contains custom code which must be executed to correctly load the dataset. You can inspect the repository content at https://hf.co/datasets/emotion\n",
            "You can avoid this message in future by passing the argument `trust_remote_code=True`.\n",
            "Passing `trust_remote_code=True` will be mandatory to load this dataset from the next major release of `datasets`.\n",
            "  warnings.warn(\n"
          ]
        }
      ],
      "source": [
        "# hide_output\n",
        "from datasets import load_dataset\n",
        "\n",
        "emotions = load_dataset(\"emotion\")"
      ]
    },
    {
      "cell_type": "markdown",
      "metadata": {
        "id": "eztk7vGXYHZC"
      },
      "source": [
        "If we look inside our `emotions` object:"
      ]
    },
    {
      "cell_type": "code",
      "execution_count": 4,
      "metadata": {
        "id": "6aqSLnFvYHZC",
        "outputId": "15d03746-ea9d-4bd4-e209-62c329ac6f15",
        "colab": {
          "base_uri": "https://localhost:8080/"
        }
      },
      "outputs": [
        {
          "output_type": "execute_result",
          "data": {
            "text/plain": [
              "DatasetDict({\n",
              "    train: Dataset({\n",
              "        features: ['text', 'label'],\n",
              "        num_rows: 16000\n",
              "    })\n",
              "    validation: Dataset({\n",
              "        features: ['text', 'label'],\n",
              "        num_rows: 2000\n",
              "    })\n",
              "    test: Dataset({\n",
              "        features: ['text', 'label'],\n",
              "        num_rows: 2000\n",
              "    })\n",
              "})"
            ]
          },
          "metadata": {},
          "execution_count": 4
        }
      ],
      "source": [
        "emotions"
      ]
    },
    {
      "cell_type": "markdown",
      "metadata": {
        "id": "0inKbwyWYHZC"
      },
      "source": [
        "we see it is similar to a Python dictionary, with each key corresponding to a different split. And we can use the usual dictionary syntax to access an individual split:"
      ]
    },
    {
      "cell_type": "code",
      "execution_count": 5,
      "metadata": {
        "id": "FAcPeFZxYHZC",
        "outputId": "e972530c-c287-40e4-ec77-474632b306f2",
        "colab": {
          "base_uri": "https://localhost:8080/"
        }
      },
      "outputs": [
        {
          "output_type": "execute_result",
          "data": {
            "text/plain": [
              "Dataset({\n",
              "    features: ['text', 'label'],\n",
              "    num_rows: 16000\n",
              "})"
            ]
          },
          "metadata": {},
          "execution_count": 5
        }
      ],
      "source": [
        "train_ds = emotions[\"train\"]\n",
        "train_ds"
      ]
    },
    {
      "cell_type": "markdown",
      "metadata": {
        "id": "xFuE2sAdYHZC"
      },
      "source": [
        "which returns an instance of the `Dataset` class. The `Dataset` object is one of the core data structures in image:images/logo.png[hf,13,13] Datasets, and we'll be exploring many of its features throughout the course of this book. For starters, it behaves like an ordinary Python array or list, so we can query its length:"
      ]
    },
    {
      "cell_type": "code",
      "execution_count": 6,
      "metadata": {
        "id": "oTWkkxlFYHZD",
        "outputId": "2fa860bb-c3d2-4c96-f4f0-85c85006285e",
        "colab": {
          "base_uri": "https://localhost:8080/"
        }
      },
      "outputs": [
        {
          "output_type": "execute_result",
          "data": {
            "text/plain": [
              "16000"
            ]
          },
          "metadata": {},
          "execution_count": 6
        }
      ],
      "source": [
        "len(train_ds)"
      ]
    },
    {
      "cell_type": "markdown",
      "metadata": {
        "id": "8VzPerykYHZD"
      },
      "source": [
        "or access a single example by its index:"
      ]
    },
    {
      "cell_type": "code",
      "execution_count": 7,
      "metadata": {
        "id": "4gzu4zNSYHZD",
        "outputId": "2dd37630-dba1-4f4f-c88c-c3faa64218e2",
        "colab": {
          "base_uri": "https://localhost:8080/"
        }
      },
      "outputs": [
        {
          "output_type": "execute_result",
          "data": {
            "text/plain": [
              "{'text': 'i didnt feel humiliated', 'label': 0}"
            ]
          },
          "metadata": {},
          "execution_count": 7
        }
      ],
      "source": [
        "train_ds[0]"
      ]
    },
    {
      "cell_type": "markdown",
      "metadata": {
        "id": "EALqyOFIYHZD"
      },
      "source": [
        "Here we see that a single row is represented as a dictionary, where the keys correspond to the column names:"
      ]
    },
    {
      "cell_type": "code",
      "execution_count": 8,
      "metadata": {
        "id": "PTm4nLwTYHZD",
        "outputId": "187cd1ab-4df8-4e02-ea73-333f8b96c27c",
        "colab": {
          "base_uri": "https://localhost:8080/"
        }
      },
      "outputs": [
        {
          "output_type": "execute_result",
          "data": {
            "text/plain": [
              "['text', 'label']"
            ]
          },
          "metadata": {},
          "execution_count": 8
        }
      ],
      "source": [
        "train_ds.column_names"
      ]
    },
    {
      "cell_type": "markdown",
      "metadata": {
        "id": "93NQ3IKwYHZD"
      },
      "source": [
        "and the values are the tweet and the emotion. This reflects the fact that image:images/logo.png[hf,13,13] Datasets is based on [_Apache Arrow_](https://arrow.apache.org/), which defines a typed columnar format that is more memory efficient than native Python. We can see what data types are being used under the hood by accessing the `features` attribute of a `Dataset` object:"
      ]
    },
    {
      "cell_type": "code",
      "execution_count": 9,
      "metadata": {
        "id": "-fbWjAY_YHZE",
        "outputId": "719524c1-5cdf-4db2-945b-2236e36ce8f2",
        "colab": {
          "base_uri": "https://localhost:8080/"
        }
      },
      "outputs": [
        {
          "output_type": "stream",
          "name": "stdout",
          "text": [
            "{'text': Value(dtype='string', id=None), 'label': ClassLabel(names=['sadness',\n",
            "'joy', 'love', 'anger', 'fear', 'surprise'], id=None)}\n"
          ]
        }
      ],
      "source": [
        "print(train_ds.features)"
      ]
    },
    {
      "cell_type": "markdown",
      "metadata": {
        "id": "O-p-lNtBYHZE"
      },
      "source": [
        "In this case, the data type of the `text` column is `string`, while the `label` column is a special `ClassLabel` object that contains information about the class names and their mapping to integers. We can also access several rows with a slice:"
      ]
    },
    {
      "cell_type": "code",
      "execution_count": 10,
      "metadata": {
        "id": "_oBXSTMOYHZE",
        "outputId": "01e50da3-86ad-4c5b-9c30-105cb183ffb7",
        "colab": {
          "base_uri": "https://localhost:8080/"
        }
      },
      "outputs": [
        {
          "output_type": "stream",
          "name": "stdout",
          "text": [
            "{'text': ['i didnt feel humiliated', 'i can go from feeling so hopeless to so\n",
            "damned hopeful just from being around someone who cares and is awake', 'im\n",
            "grabbing a minute to post i feel greedy wrong', 'i am ever feeling nostalgic\n",
            "about the fireplace i will know that it is still on the property', 'i am feeling\n",
            "grouchy'], 'label': [0, 0, 3, 2, 3]}\n"
          ]
        }
      ],
      "source": [
        "print(train_ds[:5])"
      ]
    },
    {
      "cell_type": "markdown",
      "metadata": {
        "id": "4ZzYe4fzYHZE"
      },
      "source": [
        "Note that in this case, the dictionary values are now lists instead of individual elements. We can also get the full column by name:"
      ]
    },
    {
      "cell_type": "code",
      "execution_count": 11,
      "metadata": {
        "id": "-fTQBg9AYHZE",
        "outputId": "14bee32d-f64f-4f52-9eb0-752a2c72745d",
        "colab": {
          "base_uri": "https://localhost:8080/"
        }
      },
      "outputs": [
        {
          "output_type": "stream",
          "name": "stdout",
          "text": [
            "['i didnt feel humiliated', 'i can go from feeling so hopeless to so damned\n",
            "hopeful just from being around someone who cares and is awake', 'im grabbing a\n",
            "minute to post i feel greedy wrong', 'i am ever feeling nostalgic about the\n",
            "fireplace i will know that it is still on the property', 'i am feeling grouchy']\n"
          ]
        }
      ],
      "source": [
        "print(train_ds[\"text\"][:5])"
      ]
    },
    {
      "cell_type": "markdown",
      "metadata": {
        "id": "lEJMH1O-YHZE"
      },
      "source": [
        "Now that we've seen how to load and inspect data with image:images/logo.png[hf,13,13] Datasets, let's do a few sanity checks about the content of our tweets."
      ]
    },
    {
      "cell_type": "markdown",
      "metadata": {
        "id": "gENhOnKaYHZZ"
      },
      "source": [
        "### From Datasets to DataFrames"
      ]
    },
    {
      "cell_type": "markdown",
      "metadata": {
        "id": "pLLrPjf3YHZa"
      },
      "source": [
        "Although image:images/logo.png[hf,13,13] Datasets provides a lot of low-level functionality to slice and dice our data, it is often convenient to convert a `Dataset` object to a Pandas `DataFrame` so we can access high-level APIs for data visualization. To enable the conversion, image:images/logo.png[hf,13,13] Datasets provides a `set_format()` method that allows us to change the _output format_ of the `Dataset`. Note that this does not change the underlying _data format_ (which is an Arrow table), and you can switch to another format later if needed:"
      ]
    },
    {
      "cell_type": "code",
      "execution_count": 12,
      "metadata": {
        "id": "Mm2nTThxYHZa",
        "outputId": "cfd01e88-9508-401d-c978-f612cf902feb",
        "colab": {
          "base_uri": "https://localhost:8080/",
          "height": 204
        }
      },
      "outputs": [
        {
          "output_type": "execute_result",
          "data": {
            "text/plain": [
              "                                                text  label\n",
              "0                            i didnt feel humiliated      0\n",
              "1  i can go from feeling so hopeless to so damned...      0\n",
              "2   im grabbing a minute to post i feel greedy wrong      3\n",
              "3  i am ever feeling nostalgic about the fireplac...      2\n",
              "4                               i am feeling grouchy      3"
            ],
            "text/html": [
              "\n",
              "  <div id=\"df-33b7e204-b7d9-44eb-9189-6fcdc78b8e20\" class=\"colab-df-container\">\n",
              "    <div>\n",
              "<style scoped>\n",
              "    .dataframe tbody tr th:only-of-type {\n",
              "        vertical-align: middle;\n",
              "    }\n",
              "\n",
              "    .dataframe tbody tr th {\n",
              "        vertical-align: top;\n",
              "    }\n",
              "\n",
              "    .dataframe thead th {\n",
              "        text-align: right;\n",
              "    }\n",
              "</style>\n",
              "<table border=\"1\" class=\"dataframe\">\n",
              "  <thead>\n",
              "    <tr style=\"text-align: right;\">\n",
              "      <th></th>\n",
              "      <th>text</th>\n",
              "      <th>label</th>\n",
              "    </tr>\n",
              "  </thead>\n",
              "  <tbody>\n",
              "    <tr>\n",
              "      <th>0</th>\n",
              "      <td>i didnt feel humiliated</td>\n",
              "      <td>0</td>\n",
              "    </tr>\n",
              "    <tr>\n",
              "      <th>1</th>\n",
              "      <td>i can go from feeling so hopeless to so damned...</td>\n",
              "      <td>0</td>\n",
              "    </tr>\n",
              "    <tr>\n",
              "      <th>2</th>\n",
              "      <td>im grabbing a minute to post i feel greedy wrong</td>\n",
              "      <td>3</td>\n",
              "    </tr>\n",
              "    <tr>\n",
              "      <th>3</th>\n",
              "      <td>i am ever feeling nostalgic about the fireplac...</td>\n",
              "      <td>2</td>\n",
              "    </tr>\n",
              "    <tr>\n",
              "      <th>4</th>\n",
              "      <td>i am feeling grouchy</td>\n",
              "      <td>3</td>\n",
              "    </tr>\n",
              "  </tbody>\n",
              "</table>\n",
              "</div>\n",
              "    <div class=\"colab-df-buttons\">\n",
              "\n",
              "  <div class=\"colab-df-container\">\n",
              "    <button class=\"colab-df-convert\" onclick=\"convertToInteractive('df-33b7e204-b7d9-44eb-9189-6fcdc78b8e20')\"\n",
              "            title=\"Convert this dataframe to an interactive table.\"\n",
              "            style=\"display:none;\">\n",
              "\n",
              "  <svg xmlns=\"http://www.w3.org/2000/svg\" height=\"24px\" viewBox=\"0 -960 960 960\">\n",
              "    <path d=\"M120-120v-720h720v720H120Zm60-500h600v-160H180v160Zm220 220h160v-160H400v160Zm0 220h160v-160H400v160ZM180-400h160v-160H180v160Zm440 0h160v-160H620v160ZM180-180h160v-160H180v160Zm440 0h160v-160H620v160Z\"/>\n",
              "  </svg>\n",
              "    </button>\n",
              "\n",
              "  <style>\n",
              "    .colab-df-container {\n",
              "      display:flex;\n",
              "      gap: 12px;\n",
              "    }\n",
              "\n",
              "    .colab-df-convert {\n",
              "      background-color: #E8F0FE;\n",
              "      border: none;\n",
              "      border-radius: 50%;\n",
              "      cursor: pointer;\n",
              "      display: none;\n",
              "      fill: #1967D2;\n",
              "      height: 32px;\n",
              "      padding: 0 0 0 0;\n",
              "      width: 32px;\n",
              "    }\n",
              "\n",
              "    .colab-df-convert:hover {\n",
              "      background-color: #E2EBFA;\n",
              "      box-shadow: 0px 1px 2px rgba(60, 64, 67, 0.3), 0px 1px 3px 1px rgba(60, 64, 67, 0.15);\n",
              "      fill: #174EA6;\n",
              "    }\n",
              "\n",
              "    .colab-df-buttons div {\n",
              "      margin-bottom: 4px;\n",
              "    }\n",
              "\n",
              "    [theme=dark] .colab-df-convert {\n",
              "      background-color: #3B4455;\n",
              "      fill: #D2E3FC;\n",
              "    }\n",
              "\n",
              "    [theme=dark] .colab-df-convert:hover {\n",
              "      background-color: #434B5C;\n",
              "      box-shadow: 0px 1px 3px 1px rgba(0, 0, 0, 0.15);\n",
              "      filter: drop-shadow(0px 1px 2px rgba(0, 0, 0, 0.3));\n",
              "      fill: #FFFFFF;\n",
              "    }\n",
              "  </style>\n",
              "\n",
              "    <script>\n",
              "      const buttonEl =\n",
              "        document.querySelector('#df-33b7e204-b7d9-44eb-9189-6fcdc78b8e20 button.colab-df-convert');\n",
              "      buttonEl.style.display =\n",
              "        google.colab.kernel.accessAllowed ? 'block' : 'none';\n",
              "\n",
              "      async function convertToInteractive(key) {\n",
              "        const element = document.querySelector('#df-33b7e204-b7d9-44eb-9189-6fcdc78b8e20');\n",
              "        const dataTable =\n",
              "          await google.colab.kernel.invokeFunction('convertToInteractive',\n",
              "                                                    [key], {});\n",
              "        if (!dataTable) return;\n",
              "\n",
              "        const docLinkHtml = 'Like what you see? Visit the ' +\n",
              "          '<a target=\"_blank\" href=https://colab.research.google.com/notebooks/data_table.ipynb>data table notebook</a>'\n",
              "          + ' to learn more about interactive tables.';\n",
              "        element.innerHTML = '';\n",
              "        dataTable['output_type'] = 'display_data';\n",
              "        await google.colab.output.renderOutput(dataTable, element);\n",
              "        const docLink = document.createElement('div');\n",
              "        docLink.innerHTML = docLinkHtml;\n",
              "        element.appendChild(docLink);\n",
              "      }\n",
              "    </script>\n",
              "  </div>\n",
              "\n",
              "\n",
              "<div id=\"df-670ef9d1-c866-418d-abba-9cd082a64ebb\">\n",
              "  <button class=\"colab-df-quickchart\" onclick=\"quickchart('df-670ef9d1-c866-418d-abba-9cd082a64ebb')\"\n",
              "            title=\"Suggest charts\"\n",
              "            style=\"display:none;\">\n",
              "\n",
              "<svg xmlns=\"http://www.w3.org/2000/svg\" height=\"24px\"viewBox=\"0 0 24 24\"\n",
              "     width=\"24px\">\n",
              "    <g>\n",
              "        <path d=\"M19 3H5c-1.1 0-2 .9-2 2v14c0 1.1.9 2 2 2h14c1.1 0 2-.9 2-2V5c0-1.1-.9-2-2-2zM9 17H7v-7h2v7zm4 0h-2V7h2v10zm4 0h-2v-4h2v4z\"/>\n",
              "    </g>\n",
              "</svg>\n",
              "  </button>\n",
              "\n",
              "<style>\n",
              "  .colab-df-quickchart {\n",
              "      --bg-color: #E8F0FE;\n",
              "      --fill-color: #1967D2;\n",
              "      --hover-bg-color: #E2EBFA;\n",
              "      --hover-fill-color: #174EA6;\n",
              "      --disabled-fill-color: #AAA;\n",
              "      --disabled-bg-color: #DDD;\n",
              "  }\n",
              "\n",
              "  [theme=dark] .colab-df-quickchart {\n",
              "      --bg-color: #3B4455;\n",
              "      --fill-color: #D2E3FC;\n",
              "      --hover-bg-color: #434B5C;\n",
              "      --hover-fill-color: #FFFFFF;\n",
              "      --disabled-bg-color: #3B4455;\n",
              "      --disabled-fill-color: #666;\n",
              "  }\n",
              "\n",
              "  .colab-df-quickchart {\n",
              "    background-color: var(--bg-color);\n",
              "    border: none;\n",
              "    border-radius: 50%;\n",
              "    cursor: pointer;\n",
              "    display: none;\n",
              "    fill: var(--fill-color);\n",
              "    height: 32px;\n",
              "    padding: 0;\n",
              "    width: 32px;\n",
              "  }\n",
              "\n",
              "  .colab-df-quickchart:hover {\n",
              "    background-color: var(--hover-bg-color);\n",
              "    box-shadow: 0 1px 2px rgba(60, 64, 67, 0.3), 0 1px 3px 1px rgba(60, 64, 67, 0.15);\n",
              "    fill: var(--button-hover-fill-color);\n",
              "  }\n",
              "\n",
              "  .colab-df-quickchart-complete:disabled,\n",
              "  .colab-df-quickchart-complete:disabled:hover {\n",
              "    background-color: var(--disabled-bg-color);\n",
              "    fill: var(--disabled-fill-color);\n",
              "    box-shadow: none;\n",
              "  }\n",
              "\n",
              "  .colab-df-spinner {\n",
              "    border: 2px solid var(--fill-color);\n",
              "    border-color: transparent;\n",
              "    border-bottom-color: var(--fill-color);\n",
              "    animation:\n",
              "      spin 1s steps(1) infinite;\n",
              "  }\n",
              "\n",
              "  @keyframes spin {\n",
              "    0% {\n",
              "      border-color: transparent;\n",
              "      border-bottom-color: var(--fill-color);\n",
              "      border-left-color: var(--fill-color);\n",
              "    }\n",
              "    20% {\n",
              "      border-color: transparent;\n",
              "      border-left-color: var(--fill-color);\n",
              "      border-top-color: var(--fill-color);\n",
              "    }\n",
              "    30% {\n",
              "      border-color: transparent;\n",
              "      border-left-color: var(--fill-color);\n",
              "      border-top-color: var(--fill-color);\n",
              "      border-right-color: var(--fill-color);\n",
              "    }\n",
              "    40% {\n",
              "      border-color: transparent;\n",
              "      border-right-color: var(--fill-color);\n",
              "      border-top-color: var(--fill-color);\n",
              "    }\n",
              "    60% {\n",
              "      border-color: transparent;\n",
              "      border-right-color: var(--fill-color);\n",
              "    }\n",
              "    80% {\n",
              "      border-color: transparent;\n",
              "      border-right-color: var(--fill-color);\n",
              "      border-bottom-color: var(--fill-color);\n",
              "    }\n",
              "    90% {\n",
              "      border-color: transparent;\n",
              "      border-bottom-color: var(--fill-color);\n",
              "    }\n",
              "  }\n",
              "</style>\n",
              "\n",
              "  <script>\n",
              "    async function quickchart(key) {\n",
              "      const quickchartButtonEl =\n",
              "        document.querySelector('#' + key + ' button');\n",
              "      quickchartButtonEl.disabled = true;  // To prevent multiple clicks.\n",
              "      quickchartButtonEl.classList.add('colab-df-spinner');\n",
              "      try {\n",
              "        const charts = await google.colab.kernel.invokeFunction(\n",
              "            'suggestCharts', [key], {});\n",
              "      } catch (error) {\n",
              "        console.error('Error during call to suggestCharts:', error);\n",
              "      }\n",
              "      quickchartButtonEl.classList.remove('colab-df-spinner');\n",
              "      quickchartButtonEl.classList.add('colab-df-quickchart-complete');\n",
              "    }\n",
              "    (() => {\n",
              "      let quickchartButtonEl =\n",
              "        document.querySelector('#df-670ef9d1-c866-418d-abba-9cd082a64ebb button');\n",
              "      quickchartButtonEl.style.display =\n",
              "        google.colab.kernel.accessAllowed ? 'block' : 'none';\n",
              "    })();\n",
              "  </script>\n",
              "</div>\n",
              "\n",
              "    </div>\n",
              "  </div>\n"
            ],
            "application/vnd.google.colaboratory.intrinsic+json": {
              "type": "dataframe",
              "variable_name": "df",
              "summary": "{\n  \"name\": \"df\",\n  \"rows\": 16000,\n  \"fields\": [\n    {\n      \"column\": \"text\",\n      \"properties\": {\n        \"dtype\": \"string\",\n        \"num_unique_values\": 15969,\n        \"samples\": [\n          \"i feel rather imbicilic or at least complacent\",\n          \"i was in the bathroom i had sat down to pee it was to make me feel submissive again per instructions\",\n          \"i am thrilled with the way my skin and hair feel if you are like me you are skeptical\"\n        ],\n        \"semantic_type\": \"\",\n        \"description\": \"\"\n      }\n    },\n    {\n      \"column\": \"label\",\n      \"properties\": {\n        \"dtype\": \"number\",\n        \"std\": 1,\n        \"min\": 0,\n        \"max\": 5,\n        \"num_unique_values\": 6,\n        \"samples\": [\n          0,\n          3,\n          1\n        ],\n        \"semantic_type\": \"\",\n        \"description\": \"\"\n      }\n    }\n  ]\n}"
            }
          },
          "metadata": {},
          "execution_count": 12
        }
      ],
      "source": [
        "import pandas as pd\n",
        "\n",
        "emotions.set_format(type=\"pandas\")\n",
        "df = emotions[\"train\"][:]\n",
        "df.head()"
      ]
    },
    {
      "cell_type": "markdown",
      "metadata": {
        "id": "YHm8qfzZYHZa"
      },
      "source": [
        "As you can see, the column headers have been preserved and the first few rows match our previous views of the data. However, the labels are represented as integers, so let's use the `int2str()` method of the `label` feature to create a new column in our `DataFrame` with the corresponding label names:"
      ]
    },
    {
      "cell_type": "code",
      "execution_count": 13,
      "metadata": {
        "id": "LiqggeJNYHZa",
        "outputId": "b7639716-e570-4dd3-c60b-b521cc2d3aaf",
        "colab": {
          "base_uri": "https://localhost:8080/",
          "height": 204
        }
      },
      "outputs": [
        {
          "output_type": "execute_result",
          "data": {
            "text/plain": [
              "                                                text  label label_name\n",
              "0                            i didnt feel humiliated      0    sadness\n",
              "1  i can go from feeling so hopeless to so damned...      0    sadness\n",
              "2   im grabbing a minute to post i feel greedy wrong      3      anger\n",
              "3  i am ever feeling nostalgic about the fireplac...      2       love\n",
              "4                               i am feeling grouchy      3      anger"
            ],
            "text/html": [
              "\n",
              "  <div id=\"df-cf6d4180-0d76-4f57-a387-56cc49c883f7\" class=\"colab-df-container\">\n",
              "    <div>\n",
              "<style scoped>\n",
              "    .dataframe tbody tr th:only-of-type {\n",
              "        vertical-align: middle;\n",
              "    }\n",
              "\n",
              "    .dataframe tbody tr th {\n",
              "        vertical-align: top;\n",
              "    }\n",
              "\n",
              "    .dataframe thead th {\n",
              "        text-align: right;\n",
              "    }\n",
              "</style>\n",
              "<table border=\"1\" class=\"dataframe\">\n",
              "  <thead>\n",
              "    <tr style=\"text-align: right;\">\n",
              "      <th></th>\n",
              "      <th>text</th>\n",
              "      <th>label</th>\n",
              "      <th>label_name</th>\n",
              "    </tr>\n",
              "  </thead>\n",
              "  <tbody>\n",
              "    <tr>\n",
              "      <th>0</th>\n",
              "      <td>i didnt feel humiliated</td>\n",
              "      <td>0</td>\n",
              "      <td>sadness</td>\n",
              "    </tr>\n",
              "    <tr>\n",
              "      <th>1</th>\n",
              "      <td>i can go from feeling so hopeless to so damned...</td>\n",
              "      <td>0</td>\n",
              "      <td>sadness</td>\n",
              "    </tr>\n",
              "    <tr>\n",
              "      <th>2</th>\n",
              "      <td>im grabbing a minute to post i feel greedy wrong</td>\n",
              "      <td>3</td>\n",
              "      <td>anger</td>\n",
              "    </tr>\n",
              "    <tr>\n",
              "      <th>3</th>\n",
              "      <td>i am ever feeling nostalgic about the fireplac...</td>\n",
              "      <td>2</td>\n",
              "      <td>love</td>\n",
              "    </tr>\n",
              "    <tr>\n",
              "      <th>4</th>\n",
              "      <td>i am feeling grouchy</td>\n",
              "      <td>3</td>\n",
              "      <td>anger</td>\n",
              "    </tr>\n",
              "  </tbody>\n",
              "</table>\n",
              "</div>\n",
              "    <div class=\"colab-df-buttons\">\n",
              "\n",
              "  <div class=\"colab-df-container\">\n",
              "    <button class=\"colab-df-convert\" onclick=\"convertToInteractive('df-cf6d4180-0d76-4f57-a387-56cc49c883f7')\"\n",
              "            title=\"Convert this dataframe to an interactive table.\"\n",
              "            style=\"display:none;\">\n",
              "\n",
              "  <svg xmlns=\"http://www.w3.org/2000/svg\" height=\"24px\" viewBox=\"0 -960 960 960\">\n",
              "    <path d=\"M120-120v-720h720v720H120Zm60-500h600v-160H180v160Zm220 220h160v-160H400v160Zm0 220h160v-160H400v160ZM180-400h160v-160H180v160Zm440 0h160v-160H620v160ZM180-180h160v-160H180v160Zm440 0h160v-160H620v160Z\"/>\n",
              "  </svg>\n",
              "    </button>\n",
              "\n",
              "  <style>\n",
              "    .colab-df-container {\n",
              "      display:flex;\n",
              "      gap: 12px;\n",
              "    }\n",
              "\n",
              "    .colab-df-convert {\n",
              "      background-color: #E8F0FE;\n",
              "      border: none;\n",
              "      border-radius: 50%;\n",
              "      cursor: pointer;\n",
              "      display: none;\n",
              "      fill: #1967D2;\n",
              "      height: 32px;\n",
              "      padding: 0 0 0 0;\n",
              "      width: 32px;\n",
              "    }\n",
              "\n",
              "    .colab-df-convert:hover {\n",
              "      background-color: #E2EBFA;\n",
              "      box-shadow: 0px 1px 2px rgba(60, 64, 67, 0.3), 0px 1px 3px 1px rgba(60, 64, 67, 0.15);\n",
              "      fill: #174EA6;\n",
              "    }\n",
              "\n",
              "    .colab-df-buttons div {\n",
              "      margin-bottom: 4px;\n",
              "    }\n",
              "\n",
              "    [theme=dark] .colab-df-convert {\n",
              "      background-color: #3B4455;\n",
              "      fill: #D2E3FC;\n",
              "    }\n",
              "\n",
              "    [theme=dark] .colab-df-convert:hover {\n",
              "      background-color: #434B5C;\n",
              "      box-shadow: 0px 1px 3px 1px rgba(0, 0, 0, 0.15);\n",
              "      filter: drop-shadow(0px 1px 2px rgba(0, 0, 0, 0.3));\n",
              "      fill: #FFFFFF;\n",
              "    }\n",
              "  </style>\n",
              "\n",
              "    <script>\n",
              "      const buttonEl =\n",
              "        document.querySelector('#df-cf6d4180-0d76-4f57-a387-56cc49c883f7 button.colab-df-convert');\n",
              "      buttonEl.style.display =\n",
              "        google.colab.kernel.accessAllowed ? 'block' : 'none';\n",
              "\n",
              "      async function convertToInteractive(key) {\n",
              "        const element = document.querySelector('#df-cf6d4180-0d76-4f57-a387-56cc49c883f7');\n",
              "        const dataTable =\n",
              "          await google.colab.kernel.invokeFunction('convertToInteractive',\n",
              "                                                    [key], {});\n",
              "        if (!dataTable) return;\n",
              "\n",
              "        const docLinkHtml = 'Like what you see? Visit the ' +\n",
              "          '<a target=\"_blank\" href=https://colab.research.google.com/notebooks/data_table.ipynb>data table notebook</a>'\n",
              "          + ' to learn more about interactive tables.';\n",
              "        element.innerHTML = '';\n",
              "        dataTable['output_type'] = 'display_data';\n",
              "        await google.colab.output.renderOutput(dataTable, element);\n",
              "        const docLink = document.createElement('div');\n",
              "        docLink.innerHTML = docLinkHtml;\n",
              "        element.appendChild(docLink);\n",
              "      }\n",
              "    </script>\n",
              "  </div>\n",
              "\n",
              "\n",
              "<div id=\"df-ef1f361d-49ca-4520-a282-b0a7256b2a4a\">\n",
              "  <button class=\"colab-df-quickchart\" onclick=\"quickchart('df-ef1f361d-49ca-4520-a282-b0a7256b2a4a')\"\n",
              "            title=\"Suggest charts\"\n",
              "            style=\"display:none;\">\n",
              "\n",
              "<svg xmlns=\"http://www.w3.org/2000/svg\" height=\"24px\"viewBox=\"0 0 24 24\"\n",
              "     width=\"24px\">\n",
              "    <g>\n",
              "        <path d=\"M19 3H5c-1.1 0-2 .9-2 2v14c0 1.1.9 2 2 2h14c1.1 0 2-.9 2-2V5c0-1.1-.9-2-2-2zM9 17H7v-7h2v7zm4 0h-2V7h2v10zm4 0h-2v-4h2v4z\"/>\n",
              "    </g>\n",
              "</svg>\n",
              "  </button>\n",
              "\n",
              "<style>\n",
              "  .colab-df-quickchart {\n",
              "      --bg-color: #E8F0FE;\n",
              "      --fill-color: #1967D2;\n",
              "      --hover-bg-color: #E2EBFA;\n",
              "      --hover-fill-color: #174EA6;\n",
              "      --disabled-fill-color: #AAA;\n",
              "      --disabled-bg-color: #DDD;\n",
              "  }\n",
              "\n",
              "  [theme=dark] .colab-df-quickchart {\n",
              "      --bg-color: #3B4455;\n",
              "      --fill-color: #D2E3FC;\n",
              "      --hover-bg-color: #434B5C;\n",
              "      --hover-fill-color: #FFFFFF;\n",
              "      --disabled-bg-color: #3B4455;\n",
              "      --disabled-fill-color: #666;\n",
              "  }\n",
              "\n",
              "  .colab-df-quickchart {\n",
              "    background-color: var(--bg-color);\n",
              "    border: none;\n",
              "    border-radius: 50%;\n",
              "    cursor: pointer;\n",
              "    display: none;\n",
              "    fill: var(--fill-color);\n",
              "    height: 32px;\n",
              "    padding: 0;\n",
              "    width: 32px;\n",
              "  }\n",
              "\n",
              "  .colab-df-quickchart:hover {\n",
              "    background-color: var(--hover-bg-color);\n",
              "    box-shadow: 0 1px 2px rgba(60, 64, 67, 0.3), 0 1px 3px 1px rgba(60, 64, 67, 0.15);\n",
              "    fill: var(--button-hover-fill-color);\n",
              "  }\n",
              "\n",
              "  .colab-df-quickchart-complete:disabled,\n",
              "  .colab-df-quickchart-complete:disabled:hover {\n",
              "    background-color: var(--disabled-bg-color);\n",
              "    fill: var(--disabled-fill-color);\n",
              "    box-shadow: none;\n",
              "  }\n",
              "\n",
              "  .colab-df-spinner {\n",
              "    border: 2px solid var(--fill-color);\n",
              "    border-color: transparent;\n",
              "    border-bottom-color: var(--fill-color);\n",
              "    animation:\n",
              "      spin 1s steps(1) infinite;\n",
              "  }\n",
              "\n",
              "  @keyframes spin {\n",
              "    0% {\n",
              "      border-color: transparent;\n",
              "      border-bottom-color: var(--fill-color);\n",
              "      border-left-color: var(--fill-color);\n",
              "    }\n",
              "    20% {\n",
              "      border-color: transparent;\n",
              "      border-left-color: var(--fill-color);\n",
              "      border-top-color: var(--fill-color);\n",
              "    }\n",
              "    30% {\n",
              "      border-color: transparent;\n",
              "      border-left-color: var(--fill-color);\n",
              "      border-top-color: var(--fill-color);\n",
              "      border-right-color: var(--fill-color);\n",
              "    }\n",
              "    40% {\n",
              "      border-color: transparent;\n",
              "      border-right-color: var(--fill-color);\n",
              "      border-top-color: var(--fill-color);\n",
              "    }\n",
              "    60% {\n",
              "      border-color: transparent;\n",
              "      border-right-color: var(--fill-color);\n",
              "    }\n",
              "    80% {\n",
              "      border-color: transparent;\n",
              "      border-right-color: var(--fill-color);\n",
              "      border-bottom-color: var(--fill-color);\n",
              "    }\n",
              "    90% {\n",
              "      border-color: transparent;\n",
              "      border-bottom-color: var(--fill-color);\n",
              "    }\n",
              "  }\n",
              "</style>\n",
              "\n",
              "  <script>\n",
              "    async function quickchart(key) {\n",
              "      const quickchartButtonEl =\n",
              "        document.querySelector('#' + key + ' button');\n",
              "      quickchartButtonEl.disabled = true;  // To prevent multiple clicks.\n",
              "      quickchartButtonEl.classList.add('colab-df-spinner');\n",
              "      try {\n",
              "        const charts = await google.colab.kernel.invokeFunction(\n",
              "            'suggestCharts', [key], {});\n",
              "      } catch (error) {\n",
              "        console.error('Error during call to suggestCharts:', error);\n",
              "      }\n",
              "      quickchartButtonEl.classList.remove('colab-df-spinner');\n",
              "      quickchartButtonEl.classList.add('colab-df-quickchart-complete');\n",
              "    }\n",
              "    (() => {\n",
              "      let quickchartButtonEl =\n",
              "        document.querySelector('#df-ef1f361d-49ca-4520-a282-b0a7256b2a4a button');\n",
              "      quickchartButtonEl.style.display =\n",
              "        google.colab.kernel.accessAllowed ? 'block' : 'none';\n",
              "    })();\n",
              "  </script>\n",
              "</div>\n",
              "\n",
              "    </div>\n",
              "  </div>\n"
            ],
            "application/vnd.google.colaboratory.intrinsic+json": {
              "type": "dataframe",
              "variable_name": "df",
              "summary": "{\n  \"name\": \"df\",\n  \"rows\": 16000,\n  \"fields\": [\n    {\n      \"column\": \"text\",\n      \"properties\": {\n        \"dtype\": \"string\",\n        \"num_unique_values\": 15969,\n        \"samples\": [\n          \"i feel rather imbicilic or at least complacent\",\n          \"i was in the bathroom i had sat down to pee it was to make me feel submissive again per instructions\",\n          \"i am thrilled with the way my skin and hair feel if you are like me you are skeptical\"\n        ],\n        \"semantic_type\": \"\",\n        \"description\": \"\"\n      }\n    },\n    {\n      \"column\": \"label\",\n      \"properties\": {\n        \"dtype\": \"number\",\n        \"std\": 1,\n        \"min\": 0,\n        \"max\": 5,\n        \"num_unique_values\": 6,\n        \"samples\": [\n          0,\n          3,\n          1\n        ],\n        \"semantic_type\": \"\",\n        \"description\": \"\"\n      }\n    },\n    {\n      \"column\": \"label_name\",\n      \"properties\": {\n        \"dtype\": \"category\",\n        \"num_unique_values\": 6,\n        \"samples\": [\n          \"sadness\",\n          \"anger\",\n          \"joy\"\n        ],\n        \"semantic_type\": \"\",\n        \"description\": \"\"\n      }\n    }\n  ]\n}"
            }
          },
          "metadata": {},
          "execution_count": 13
        }
      ],
      "source": [
        "def label_int2str(row):\n",
        "    return emotions[\"train\"].features[\"label\"].int2str(row)\n",
        "\n",
        "df[\"label_name\"] = df[\"label\"].apply(label_int2str)\n",
        "df.head()"
      ]
    },
    {
      "cell_type": "markdown",
      "metadata": {
        "id": "wBiHQE4FYHZa"
      },
      "source": [
        "Before diving into building a classifier, let's take a closer look at the dataset. As Andrej Karpathy notes in his famous blog post [\"A Recipe for Training Neural Networks\"](https://karpathy.github.io/2019/04/25/recipe), becoming \"one with the data\" is an essential step for training great models!"
      ]
    },
    {
      "cell_type": "markdown",
      "metadata": {
        "id": "FlP6l7PkYHZa"
      },
      "source": [
        "### Looking at the Class Distribution"
      ]
    },
    {
      "cell_type": "markdown",
      "metadata": {
        "id": "mJYJZdMqYHZa"
      },
      "source": [
        "Whenever you are working on text classification problems, it is a good idea to examine the distribution of examples across the classes. A dataset with a skewed class distribution might require a different treatment in terms of the training loss and evaluation metrics than a balanced one.\n",
        "\n",
        "With Pandas and Matplotlib, we can quickly visualize the class distribution as follows:"
      ]
    },
    {
      "cell_type": "code",
      "execution_count": 14,
      "metadata": {
        "id": "yr8LXctKYHZb",
        "outputId": "dc15412d-0118-4609-b18d-a12f1c9f1db7",
        "colab": {
          "base_uri": "https://localhost:8080/",
          "height": 383
        }
      },
      "outputs": [
        {
          "output_type": "display_data",
          "data": {
            "text/plain": [
              "<Figure size 600x400 with 1 Axes>"
            ],
            "image/svg+xml": "<?xml version=\"1.0\" encoding=\"utf-8\" standalone=\"no\"?>\n<!DOCTYPE svg PUBLIC \"-//W3C//DTD SVG 1.1//EN\"\n  \"http://www.w3.org/Graphics/SVG/1.1/DTD/svg11.dtd\">\n<svg xmlns:xlink=\"http://www.w3.org/1999/xlink\" width=\"420.861875pt\" height=\"271.7155pt\" viewBox=\"0 0 420.861875 271.7155\" xmlns=\"http://www.w3.org/2000/svg\" version=\"1.1\">\n <metadata>\n  <rdf:RDF xmlns:dc=\"http://purl.org/dc/elements/1.1/\" xmlns:cc=\"http://creativecommons.org/ns#\" xmlns:rdf=\"http://www.w3.org/1999/02/22-rdf-syntax-ns#\">\n   <cc:Work>\n    <dc:type rdf:resource=\"http://purl.org/dc/dcmitype/StillImage\"/>\n    <dc:date>2024-05-25T11:43:26.355596</dc:date>\n    <dc:format>image/svg+xml</dc:format>\n    <dc:creator>\n     <cc:Agent>\n      <dc:title>Matplotlib v3.7.1, https://matplotlib.org/</dc:title>\n     </cc:Agent>\n    </dc:creator>\n   </cc:Work>\n  </rdf:RDF>\n </metadata>\n <defs>\n  <style type=\"text/css\">*{stroke-linejoin: round; stroke-linecap: butt}</style>\n </defs>\n <g id=\"figure_1\">\n  <g id=\"patch_1\">\n   <path d=\"M 0 271.7155 \nL 420.861875 271.7155 \nL 420.861875 0 \nL 0 0 \nz\n\" style=\"fill: #ffffff\"/>\n  </g>\n  <g id=\"axes_1\">\n   <g id=\"patch_2\">\n    <path d=\"M 78.861875 245.90175 \nL 413.661875 245.90175 \nL 413.661875 24.14175 \nL 78.861875 24.14175 \nz\n\" style=\"fill: #ffffff\"/>\n   </g>\n   <g id=\"patch_3\">\n    <path d=\"M 78.861875 236.66175 \nL 112.876475 236.66175 \nL 112.876475 218.18175 \nL 78.861875 218.18175 \nz\n\" clip-path=\"url(#p7969270fd1)\" style=\"fill: #0071bc\"/>\n   </g>\n   <g id=\"patch_4\">\n    <path d=\"M 78.861875 199.70175 \nL 156.405649 199.70175 \nL 156.405649 181.22175 \nL 78.861875 181.22175 \nz\n\" clip-path=\"url(#p7969270fd1)\" style=\"fill: #0071bc\"/>\n   </g>\n   <g id=\"patch_5\">\n    <path d=\"M 78.861875 162.74175 \nL 194.04768 162.74175 \nL 194.04768 144.26175 \nL 78.861875 144.26175 \nz\n\" clip-path=\"url(#p7969270fd1)\" style=\"fill: #0071bc\"/>\n   </g>\n   <g id=\"patch_6\">\n    <path d=\"M 78.861875 125.78175 \nL 207.249151 125.78175 \nL 207.249151 107.30175 \nL 78.861875 107.30175 \nz\n\" clip-path=\"url(#p7969270fd1)\" style=\"fill: #0071bc\"/>\n   </g>\n   <g id=\"patch_7\">\n    <path d=\"M 78.861875 88.82175 \nL 356.330623 88.82175 \nL 356.330623 70.34175 \nL 78.861875 70.34175 \nz\n\" clip-path=\"url(#p7969270fd1)\" style=\"fill: #0071bc\"/>\n   </g>\n   <g id=\"patch_8\">\n    <path d=\"M 78.861875 51.86175 \nL 397.719018 51.86175 \nL 397.719018 33.38175 \nL 78.861875 33.38175 \nz\n\" clip-path=\"url(#p7969270fd1)\" style=\"fill: #0071bc\"/>\n   </g>\n   <g id=\"matplotlib.axis_1\">\n    <g id=\"xtick_1\">\n     <g id=\"line2d_1\">\n      <defs>\n       <path id=\"me301c1eb1e\" d=\"M 0 0 \nL 0 3.5 \n\" style=\"stroke: #000000; stroke-width: 0.8\"/>\n      </defs>\n      <g>\n       <use xlink:href=\"#me301c1eb1e\" x=\"78.861875\" y=\"245.90175\" style=\"stroke: #000000; stroke-width: 0.8\"/>\n      </g>\n     </g>\n     <g id=\"text_1\">\n      <!-- 0 -->\n      <g transform=\"translate(75.044375 262.019875) scale(0.12 -0.12)\">\n       <defs>\n        <path id=\"DejaVuSans-30\" d=\"M 2034 4250 \nQ 1547 4250 1301 3770 \nQ 1056 3291 1056 2328 \nQ 1056 1369 1301 889 \nQ 1547 409 2034 409 \nQ 2525 409 2770 889 \nQ 3016 1369 3016 2328 \nQ 3016 3291 2770 3770 \nQ 2525 4250 2034 4250 \nz\nM 2034 4750 \nQ 2819 4750 3233 4129 \nQ 3647 3509 3647 2328 \nQ 3647 1150 3233 529 \nQ 2819 -91 2034 -91 \nQ 1250 -91 836 529 \nQ 422 1150 422 2328 \nQ 422 3509 836 4129 \nQ 1250 4750 2034 4750 \nz\n\" transform=\"scale(0.015625)\"/>\n       </defs>\n       <use xlink:href=\"#DejaVuSans-30\"/>\n      </g>\n     </g>\n    </g>\n    <g id=\"xtick_2\">\n     <g id=\"line2d_2\">\n      <g>\n       <use xlink:href=\"#me301c1eb1e\" x=\"138.327959\" y=\"245.90175\" style=\"stroke: #000000; stroke-width: 0.8\"/>\n      </g>\n     </g>\n     <g id=\"text_2\">\n      <!-- 1000 -->\n      <g transform=\"translate(123.057959 262.019875) scale(0.12 -0.12)\">\n       <defs>\n        <path id=\"DejaVuSans-31\" d=\"M 794 531 \nL 1825 531 \nL 1825 4091 \nL 703 3866 \nL 703 4441 \nL 1819 4666 \nL 2450 4666 \nL 2450 531 \nL 3481 531 \nL 3481 0 \nL 794 0 \nL 794 531 \nz\n\" transform=\"scale(0.015625)\"/>\n       </defs>\n       <use xlink:href=\"#DejaVuSans-31\"/>\n       <use xlink:href=\"#DejaVuSans-30\" x=\"63.623047\"/>\n       <use xlink:href=\"#DejaVuSans-30\" x=\"127.246094\"/>\n       <use xlink:href=\"#DejaVuSans-30\" x=\"190.869141\"/>\n      </g>\n     </g>\n    </g>\n    <g id=\"xtick_3\">\n     <g id=\"line2d_3\">\n      <g>\n       <use xlink:href=\"#me301c1eb1e\" x=\"197.794043\" y=\"245.90175\" style=\"stroke: #000000; stroke-width: 0.8\"/>\n      </g>\n     </g>\n     <g id=\"text_3\">\n      <!-- 2000 -->\n      <g transform=\"translate(182.524043 262.019875) scale(0.12 -0.12)\">\n       <defs>\n        <path id=\"DejaVuSans-32\" d=\"M 1228 531 \nL 3431 531 \nL 3431 0 \nL 469 0 \nL 469 531 \nQ 828 903 1448 1529 \nQ 2069 2156 2228 2338 \nQ 2531 2678 2651 2914 \nQ 2772 3150 2772 3378 \nQ 2772 3750 2511 3984 \nQ 2250 4219 1831 4219 \nQ 1534 4219 1204 4116 \nQ 875 4013 500 3803 \nL 500 4441 \nQ 881 4594 1212 4672 \nQ 1544 4750 1819 4750 \nQ 2544 4750 2975 4387 \nQ 3406 4025 3406 3419 \nQ 3406 3131 3298 2873 \nQ 3191 2616 2906 2266 \nQ 2828 2175 2409 1742 \nQ 1991 1309 1228 531 \nz\n\" transform=\"scale(0.015625)\"/>\n       </defs>\n       <use xlink:href=\"#DejaVuSans-32\"/>\n       <use xlink:href=\"#DejaVuSans-30\" x=\"63.623047\"/>\n       <use xlink:href=\"#DejaVuSans-30\" x=\"127.246094\"/>\n       <use xlink:href=\"#DejaVuSans-30\" x=\"190.869141\"/>\n      </g>\n     </g>\n    </g>\n    <g id=\"xtick_4\">\n     <g id=\"line2d_4\">\n      <g>\n       <use xlink:href=\"#me301c1eb1e\" x=\"257.260127\" y=\"245.90175\" style=\"stroke: #000000; stroke-width: 0.8\"/>\n      </g>\n     </g>\n     <g id=\"text_4\">\n      <!-- 3000 -->\n      <g transform=\"translate(241.990127 262.019875) scale(0.12 -0.12)\">\n       <defs>\n        <path id=\"DejaVuSans-33\" d=\"M 2597 2516 \nQ 3050 2419 3304 2112 \nQ 3559 1806 3559 1356 \nQ 3559 666 3084 287 \nQ 2609 -91 1734 -91 \nQ 1441 -91 1130 -33 \nQ 819 25 488 141 \nL 488 750 \nQ 750 597 1062 519 \nQ 1375 441 1716 441 \nQ 2309 441 2620 675 \nQ 2931 909 2931 1356 \nQ 2931 1769 2642 2001 \nQ 2353 2234 1838 2234 \nL 1294 2234 \nL 1294 2753 \nL 1863 2753 \nQ 2328 2753 2575 2939 \nQ 2822 3125 2822 3475 \nQ 2822 3834 2567 4026 \nQ 2313 4219 1838 4219 \nQ 1578 4219 1281 4162 \nQ 984 4106 628 3988 \nL 628 4550 \nQ 988 4650 1302 4700 \nQ 1616 4750 1894 4750 \nQ 2613 4750 3031 4423 \nQ 3450 4097 3450 3541 \nQ 3450 3153 3228 2886 \nQ 3006 2619 2597 2516 \nz\n\" transform=\"scale(0.015625)\"/>\n       </defs>\n       <use xlink:href=\"#DejaVuSans-33\"/>\n       <use xlink:href=\"#DejaVuSans-30\" x=\"63.623047\"/>\n       <use xlink:href=\"#DejaVuSans-30\" x=\"127.246094\"/>\n       <use xlink:href=\"#DejaVuSans-30\" x=\"190.869141\"/>\n      </g>\n     </g>\n    </g>\n    <g id=\"xtick_5\">\n     <g id=\"line2d_5\">\n      <g>\n       <use xlink:href=\"#me301c1eb1e\" x=\"316.726211\" y=\"245.90175\" style=\"stroke: #000000; stroke-width: 0.8\"/>\n      </g>\n     </g>\n     <g id=\"text_5\">\n      <!-- 4000 -->\n      <g transform=\"translate(301.456211 262.019875) scale(0.12 -0.12)\">\n       <defs>\n        <path id=\"DejaVuSans-34\" d=\"M 2419 4116 \nL 825 1625 \nL 2419 1625 \nL 2419 4116 \nz\nM 2253 4666 \nL 3047 4666 \nL 3047 1625 \nL 3713 1625 \nL 3713 1100 \nL 3047 1100 \nL 3047 0 \nL 2419 0 \nL 2419 1100 \nL 313 1100 \nL 313 1709 \nL 2253 4666 \nz\n\" transform=\"scale(0.015625)\"/>\n       </defs>\n       <use xlink:href=\"#DejaVuSans-34\"/>\n       <use xlink:href=\"#DejaVuSans-30\" x=\"63.623047\"/>\n       <use xlink:href=\"#DejaVuSans-30\" x=\"127.246094\"/>\n       <use xlink:href=\"#DejaVuSans-30\" x=\"190.869141\"/>\n      </g>\n     </g>\n    </g>\n    <g id=\"xtick_6\">\n     <g id=\"line2d_6\">\n      <g>\n       <use xlink:href=\"#me301c1eb1e\" x=\"376.192295\" y=\"245.90175\" style=\"stroke: #000000; stroke-width: 0.8\"/>\n      </g>\n     </g>\n     <g id=\"text_6\">\n      <!-- 5000 -->\n      <g transform=\"translate(360.922295 262.019875) scale(0.12 -0.12)\">\n       <defs>\n        <path id=\"DejaVuSans-35\" d=\"M 691 4666 \nL 3169 4666 \nL 3169 4134 \nL 1269 4134 \nL 1269 2991 \nQ 1406 3038 1543 3061 \nQ 1681 3084 1819 3084 \nQ 2600 3084 3056 2656 \nQ 3513 2228 3513 1497 \nQ 3513 744 3044 326 \nQ 2575 -91 1722 -91 \nQ 1428 -91 1123 -41 \nQ 819 9 494 109 \nL 494 744 \nQ 775 591 1075 516 \nQ 1375 441 1709 441 \nQ 2250 441 2565 725 \nQ 2881 1009 2881 1497 \nQ 2881 1984 2565 2268 \nQ 2250 2553 1709 2553 \nQ 1456 2553 1204 2497 \nQ 953 2441 691 2322 \nL 691 4666 \nz\n\" transform=\"scale(0.015625)\"/>\n       </defs>\n       <use xlink:href=\"#DejaVuSans-35\"/>\n       <use xlink:href=\"#DejaVuSans-30\" x=\"63.623047\"/>\n       <use xlink:href=\"#DejaVuSans-30\" x=\"127.246094\"/>\n       <use xlink:href=\"#DejaVuSans-30\" x=\"190.869141\"/>\n      </g>\n     </g>\n    </g>\n   </g>\n   <g id=\"matplotlib.axis_2\">\n    <g id=\"ytick_1\">\n     <g id=\"line2d_7\">\n      <defs>\n       <path id=\"md2c7a5b485\" d=\"M 0 0 \nL -3.5 0 \n\" style=\"stroke: #000000; stroke-width: 0.8\"/>\n      </defs>\n      <g>\n       <use xlink:href=\"#md2c7a5b485\" x=\"78.861875\" y=\"227.42175\" style=\"stroke: #000000; stroke-width: 0.8\"/>\n      </g>\n     </g>\n     <g id=\"text_7\">\n      <!-- surprise -->\n      <g transform=\"translate(23.5525 231.980813) scale(0.12 -0.12)\">\n       <defs>\n        <path id=\"DejaVuSans-73\" d=\"M 2834 3397 \nL 2834 2853 \nQ 2591 2978 2328 3040 \nQ 2066 3103 1784 3103 \nQ 1356 3103 1142 2972 \nQ 928 2841 928 2578 \nQ 928 2378 1081 2264 \nQ 1234 2150 1697 2047 \nL 1894 2003 \nQ 2506 1872 2764 1633 \nQ 3022 1394 3022 966 \nQ 3022 478 2636 193 \nQ 2250 -91 1575 -91 \nQ 1294 -91 989 -36 \nQ 684 19 347 128 \nL 347 722 \nQ 666 556 975 473 \nQ 1284 391 1588 391 \nQ 1994 391 2212 530 \nQ 2431 669 2431 922 \nQ 2431 1156 2273 1281 \nQ 2116 1406 1581 1522 \nL 1381 1569 \nQ 847 1681 609 1914 \nQ 372 2147 372 2553 \nQ 372 3047 722 3315 \nQ 1072 3584 1716 3584 \nQ 2034 3584 2315 3537 \nQ 2597 3491 2834 3397 \nz\n\" transform=\"scale(0.015625)\"/>\n        <path id=\"DejaVuSans-75\" d=\"M 544 1381 \nL 544 3500 \nL 1119 3500 \nL 1119 1403 \nQ 1119 906 1312 657 \nQ 1506 409 1894 409 \nQ 2359 409 2629 706 \nQ 2900 1003 2900 1516 \nL 2900 3500 \nL 3475 3500 \nL 3475 0 \nL 2900 0 \nL 2900 538 \nQ 2691 219 2414 64 \nQ 2138 -91 1772 -91 \nQ 1169 -91 856 284 \nQ 544 659 544 1381 \nz\nM 1991 3584 \nL 1991 3584 \nz\n\" transform=\"scale(0.015625)\"/>\n        <path id=\"DejaVuSans-72\" d=\"M 2631 2963 \nQ 2534 3019 2420 3045 \nQ 2306 3072 2169 3072 \nQ 1681 3072 1420 2755 \nQ 1159 2438 1159 1844 \nL 1159 0 \nL 581 0 \nL 581 3500 \nL 1159 3500 \nL 1159 2956 \nQ 1341 3275 1631 3429 \nQ 1922 3584 2338 3584 \nQ 2397 3584 2469 3576 \nQ 2541 3569 2628 3553 \nL 2631 2963 \nz\n\" transform=\"scale(0.015625)\"/>\n        <path id=\"DejaVuSans-70\" d=\"M 1159 525 \nL 1159 -1331 \nL 581 -1331 \nL 581 3500 \nL 1159 3500 \nL 1159 2969 \nQ 1341 3281 1617 3432 \nQ 1894 3584 2278 3584 \nQ 2916 3584 3314 3078 \nQ 3713 2572 3713 1747 \nQ 3713 922 3314 415 \nQ 2916 -91 2278 -91 \nQ 1894 -91 1617 61 \nQ 1341 213 1159 525 \nz\nM 3116 1747 \nQ 3116 2381 2855 2742 \nQ 2594 3103 2138 3103 \nQ 1681 3103 1420 2742 \nQ 1159 2381 1159 1747 \nQ 1159 1113 1420 752 \nQ 1681 391 2138 391 \nQ 2594 391 2855 752 \nQ 3116 1113 3116 1747 \nz\n\" transform=\"scale(0.015625)\"/>\n        <path id=\"DejaVuSans-69\" d=\"M 603 3500 \nL 1178 3500 \nL 1178 0 \nL 603 0 \nL 603 3500 \nz\nM 603 4863 \nL 1178 4863 \nL 1178 4134 \nL 603 4134 \nL 603 4863 \nz\n\" transform=\"scale(0.015625)\"/>\n        <path id=\"DejaVuSans-65\" d=\"M 3597 1894 \nL 3597 1613 \nL 953 1613 \nQ 991 1019 1311 708 \nQ 1631 397 2203 397 \nQ 2534 397 2845 478 \nQ 3156 559 3463 722 \nL 3463 178 \nQ 3153 47 2828 -22 \nQ 2503 -91 2169 -91 \nQ 1331 -91 842 396 \nQ 353 884 353 1716 \nQ 353 2575 817 3079 \nQ 1281 3584 2069 3584 \nQ 2775 3584 3186 3129 \nQ 3597 2675 3597 1894 \nz\nM 3022 2063 \nQ 3016 2534 2758 2815 \nQ 2500 3097 2075 3097 \nQ 1594 3097 1305 2825 \nQ 1016 2553 972 2059 \nL 3022 2063 \nz\n\" transform=\"scale(0.015625)\"/>\n       </defs>\n       <use xlink:href=\"#DejaVuSans-73\"/>\n       <use xlink:href=\"#DejaVuSans-75\" x=\"52.099609\"/>\n       <use xlink:href=\"#DejaVuSans-72\" x=\"115.478516\"/>\n       <use xlink:href=\"#DejaVuSans-70\" x=\"156.591797\"/>\n       <use xlink:href=\"#DejaVuSans-72\" x=\"220.068359\"/>\n       <use xlink:href=\"#DejaVuSans-69\" x=\"261.181641\"/>\n       <use xlink:href=\"#DejaVuSans-73\" x=\"288.964844\"/>\n       <use xlink:href=\"#DejaVuSans-65\" x=\"341.064453\"/>\n      </g>\n     </g>\n    </g>\n    <g id=\"ytick_2\">\n     <g id=\"line2d_8\">\n      <g>\n       <use xlink:href=\"#md2c7a5b485\" x=\"78.861875\" y=\"190.46175\" style=\"stroke: #000000; stroke-width: 0.8\"/>\n      </g>\n     </g>\n     <g id=\"text_8\">\n      <!-- love -->\n      <g transform=\"translate(46.699375 195.020813) scale(0.12 -0.12)\">\n       <defs>\n        <path id=\"DejaVuSans-6c\" d=\"M 603 4863 \nL 1178 4863 \nL 1178 0 \nL 603 0 \nL 603 4863 \nz\n\" transform=\"scale(0.015625)\"/>\n        <path id=\"DejaVuSans-6f\" d=\"M 1959 3097 \nQ 1497 3097 1228 2736 \nQ 959 2375 959 1747 \nQ 959 1119 1226 758 \nQ 1494 397 1959 397 \nQ 2419 397 2687 759 \nQ 2956 1122 2956 1747 \nQ 2956 2369 2687 2733 \nQ 2419 3097 1959 3097 \nz\nM 1959 3584 \nQ 2709 3584 3137 3096 \nQ 3566 2609 3566 1747 \nQ 3566 888 3137 398 \nQ 2709 -91 1959 -91 \nQ 1206 -91 779 398 \nQ 353 888 353 1747 \nQ 353 2609 779 3096 \nQ 1206 3584 1959 3584 \nz\n\" transform=\"scale(0.015625)\"/>\n        <path id=\"DejaVuSans-76\" d=\"M 191 3500 \nL 800 3500 \nL 1894 563 \nL 2988 3500 \nL 3597 3500 \nL 2284 0 \nL 1503 0 \nL 191 3500 \nz\n\" transform=\"scale(0.015625)\"/>\n       </defs>\n       <use xlink:href=\"#DejaVuSans-6c\"/>\n       <use xlink:href=\"#DejaVuSans-6f\" x=\"27.783203\"/>\n       <use xlink:href=\"#DejaVuSans-76\" x=\"88.964844\"/>\n       <use xlink:href=\"#DejaVuSans-65\" x=\"148.144531\"/>\n      </g>\n     </g>\n    </g>\n    <g id=\"ytick_3\">\n     <g id=\"line2d_9\">\n      <g>\n       <use xlink:href=\"#md2c7a5b485\" x=\"78.861875\" y=\"153.50175\" style=\"stroke: #000000; stroke-width: 0.8\"/>\n      </g>\n     </g>\n     <g id=\"text_9\">\n      <!-- fear -->\n      <g transform=\"translate(47.966875 158.060813) scale(0.12 -0.12)\">\n       <defs>\n        <path id=\"DejaVuSans-66\" d=\"M 2375 4863 \nL 2375 4384 \nL 1825 4384 \nQ 1516 4384 1395 4259 \nQ 1275 4134 1275 3809 \nL 1275 3500 \nL 2222 3500 \nL 2222 3053 \nL 1275 3053 \nL 1275 0 \nL 697 0 \nL 697 3053 \nL 147 3053 \nL 147 3500 \nL 697 3500 \nL 697 3744 \nQ 697 4328 969 4595 \nQ 1241 4863 1831 4863 \nL 2375 4863 \nz\n\" transform=\"scale(0.015625)\"/>\n        <path id=\"DejaVuSans-61\" d=\"M 2194 1759 \nQ 1497 1759 1228 1600 \nQ 959 1441 959 1056 \nQ 959 750 1161 570 \nQ 1363 391 1709 391 \nQ 2188 391 2477 730 \nQ 2766 1069 2766 1631 \nL 2766 1759 \nL 2194 1759 \nz\nM 3341 1997 \nL 3341 0 \nL 2766 0 \nL 2766 531 \nQ 2569 213 2275 61 \nQ 1981 -91 1556 -91 \nQ 1019 -91 701 211 \nQ 384 513 384 1019 \nQ 384 1609 779 1909 \nQ 1175 2209 1959 2209 \nL 2766 2209 \nL 2766 2266 \nQ 2766 2663 2505 2880 \nQ 2244 3097 1772 3097 \nQ 1472 3097 1187 3025 \nQ 903 2953 641 2809 \nL 641 3341 \nQ 956 3463 1253 3523 \nQ 1550 3584 1831 3584 \nQ 2591 3584 2966 3190 \nQ 3341 2797 3341 1997 \nz\n\" transform=\"scale(0.015625)\"/>\n       </defs>\n       <use xlink:href=\"#DejaVuSans-66\"/>\n       <use xlink:href=\"#DejaVuSans-65\" x=\"35.205078\"/>\n       <use xlink:href=\"#DejaVuSans-61\" x=\"96.728516\"/>\n       <use xlink:href=\"#DejaVuSans-72\" x=\"158.007812\"/>\n      </g>\n     </g>\n    </g>\n    <g id=\"ytick_4\">\n     <g id=\"line2d_10\">\n      <g>\n       <use xlink:href=\"#md2c7a5b485\" x=\"78.861875\" y=\"116.54175\" style=\"stroke: #000000; stroke-width: 0.8\"/>\n      </g>\n     </g>\n     <g id=\"text_10\">\n      <!-- anger -->\n      <g transform=\"translate(36.968125 121.100813) scale(0.12 -0.12)\">\n       <defs>\n        <path id=\"DejaVuSans-6e\" d=\"M 3513 2113 \nL 3513 0 \nL 2938 0 \nL 2938 2094 \nQ 2938 2591 2744 2837 \nQ 2550 3084 2163 3084 \nQ 1697 3084 1428 2787 \nQ 1159 2491 1159 1978 \nL 1159 0 \nL 581 0 \nL 581 3500 \nL 1159 3500 \nL 1159 2956 \nQ 1366 3272 1645 3428 \nQ 1925 3584 2291 3584 \nQ 2894 3584 3203 3211 \nQ 3513 2838 3513 2113 \nz\n\" transform=\"scale(0.015625)\"/>\n        <path id=\"DejaVuSans-67\" d=\"M 2906 1791 \nQ 2906 2416 2648 2759 \nQ 2391 3103 1925 3103 \nQ 1463 3103 1205 2759 \nQ 947 2416 947 1791 \nQ 947 1169 1205 825 \nQ 1463 481 1925 481 \nQ 2391 481 2648 825 \nQ 2906 1169 2906 1791 \nz\nM 3481 434 \nQ 3481 -459 3084 -895 \nQ 2688 -1331 1869 -1331 \nQ 1566 -1331 1297 -1286 \nQ 1028 -1241 775 -1147 \nL 775 -588 \nQ 1028 -725 1275 -790 \nQ 1522 -856 1778 -856 \nQ 2344 -856 2625 -561 \nQ 2906 -266 2906 331 \nL 2906 616 \nQ 2728 306 2450 153 \nQ 2172 0 1784 0 \nQ 1141 0 747 490 \nQ 353 981 353 1791 \nQ 353 2603 747 3093 \nQ 1141 3584 1784 3584 \nQ 2172 3584 2450 3431 \nQ 2728 3278 2906 2969 \nL 2906 3500 \nL 3481 3500 \nL 3481 434 \nz\n\" transform=\"scale(0.015625)\"/>\n       </defs>\n       <use xlink:href=\"#DejaVuSans-61\"/>\n       <use xlink:href=\"#DejaVuSans-6e\" x=\"61.279297\"/>\n       <use xlink:href=\"#DejaVuSans-67\" x=\"124.658203\"/>\n       <use xlink:href=\"#DejaVuSans-65\" x=\"188.134766\"/>\n       <use xlink:href=\"#DejaVuSans-72\" x=\"249.658203\"/>\n      </g>\n     </g>\n    </g>\n    <g id=\"ytick_5\">\n     <g id=\"line2d_11\">\n      <g>\n       <use xlink:href=\"#md2c7a5b485\" x=\"78.861875\" y=\"79.58175\" style=\"stroke: #000000; stroke-width: 0.8\"/>\n      </g>\n     </g>\n     <g id=\"text_11\">\n      <!-- sadness -->\n      <g transform=\"translate(23.1475 84.140813) scale(0.12 -0.12)\">\n       <defs>\n        <path id=\"DejaVuSans-64\" d=\"M 2906 2969 \nL 2906 4863 \nL 3481 4863 \nL 3481 0 \nL 2906 0 \nL 2906 525 \nQ 2725 213 2448 61 \nQ 2172 -91 1784 -91 \nQ 1150 -91 751 415 \nQ 353 922 353 1747 \nQ 353 2572 751 3078 \nQ 1150 3584 1784 3584 \nQ 2172 3584 2448 3432 \nQ 2725 3281 2906 2969 \nz\nM 947 1747 \nQ 947 1113 1208 752 \nQ 1469 391 1925 391 \nQ 2381 391 2643 752 \nQ 2906 1113 2906 1747 \nQ 2906 2381 2643 2742 \nQ 2381 3103 1925 3103 \nQ 1469 3103 1208 2742 \nQ 947 2381 947 1747 \nz\n\" transform=\"scale(0.015625)\"/>\n       </defs>\n       <use xlink:href=\"#DejaVuSans-73\"/>\n       <use xlink:href=\"#DejaVuSans-61\" x=\"52.099609\"/>\n       <use xlink:href=\"#DejaVuSans-64\" x=\"113.378906\"/>\n       <use xlink:href=\"#DejaVuSans-6e\" x=\"176.855469\"/>\n       <use xlink:href=\"#DejaVuSans-65\" x=\"240.234375\"/>\n       <use xlink:href=\"#DejaVuSans-73\" x=\"301.757812\"/>\n       <use xlink:href=\"#DejaVuSans-73\" x=\"353.857422\"/>\n      </g>\n     </g>\n    </g>\n    <g id=\"ytick_6\">\n     <g id=\"line2d_12\">\n      <g>\n       <use xlink:href=\"#md2c7a5b485\" x=\"78.861875\" y=\"42.62175\" style=\"stroke: #000000; stroke-width: 0.8\"/>\n      </g>\n     </g>\n     <g id=\"text_12\">\n      <!-- joy -->\n      <g transform=\"translate(54.083125 47.180813) scale(0.12 -0.12)\">\n       <defs>\n        <path id=\"DejaVuSans-6a\" d=\"M 603 3500 \nL 1178 3500 \nL 1178 -63 \nQ 1178 -731 923 -1031 \nQ 669 -1331 103 -1331 \nL -116 -1331 \nL -116 -844 \nL 38 -844 \nQ 366 -844 484 -692 \nQ 603 -541 603 -63 \nL 603 3500 \nz\nM 603 4863 \nL 1178 4863 \nL 1178 4134 \nL 603 4134 \nL 603 4863 \nz\n\" transform=\"scale(0.015625)\"/>\n        <path id=\"DejaVuSans-79\" d=\"M 2059 -325 \nQ 1816 -950 1584 -1140 \nQ 1353 -1331 966 -1331 \nL 506 -1331 \nL 506 -850 \nL 844 -850 \nQ 1081 -850 1212 -737 \nQ 1344 -625 1503 -206 \nL 1606 56 \nL 191 3500 \nL 800 3500 \nL 1894 763 \nL 2988 3500 \nL 3597 3500 \nL 2059 -325 \nz\n\" transform=\"scale(0.015625)\"/>\n       </defs>\n       <use xlink:href=\"#DejaVuSans-6a\"/>\n       <use xlink:href=\"#DejaVuSans-6f\" x=\"27.783203\"/>\n       <use xlink:href=\"#DejaVuSans-79\" x=\"88.964844\"/>\n      </g>\n     </g>\n    </g>\n    <g id=\"text_13\">\n     <!-- label_name -->\n     <g transform=\"translate(16.318125 169.548938) rotate(-90) scale(0.12 -0.12)\">\n      <defs>\n       <path id=\"DejaVuSans-62\" d=\"M 3116 1747 \nQ 3116 2381 2855 2742 \nQ 2594 3103 2138 3103 \nQ 1681 3103 1420 2742 \nQ 1159 2381 1159 1747 \nQ 1159 1113 1420 752 \nQ 1681 391 2138 391 \nQ 2594 391 2855 752 \nQ 3116 1113 3116 1747 \nz\nM 1159 2969 \nQ 1341 3281 1617 3432 \nQ 1894 3584 2278 3584 \nQ 2916 3584 3314 3078 \nQ 3713 2572 3713 1747 \nQ 3713 922 3314 415 \nQ 2916 -91 2278 -91 \nQ 1894 -91 1617 61 \nQ 1341 213 1159 525 \nL 1159 0 \nL 581 0 \nL 581 4863 \nL 1159 4863 \nL 1159 2969 \nz\n\" transform=\"scale(0.015625)\"/>\n       <path id=\"DejaVuSans-5f\" d=\"M 3263 -1063 \nL 3263 -1509 \nL -63 -1509 \nL -63 -1063 \nL 3263 -1063 \nz\n\" transform=\"scale(0.015625)\"/>\n       <path id=\"DejaVuSans-6d\" d=\"M 3328 2828 \nQ 3544 3216 3844 3400 \nQ 4144 3584 4550 3584 \nQ 5097 3584 5394 3201 \nQ 5691 2819 5691 2113 \nL 5691 0 \nL 5113 0 \nL 5113 2094 \nQ 5113 2597 4934 2840 \nQ 4756 3084 4391 3084 \nQ 3944 3084 3684 2787 \nQ 3425 2491 3425 1978 \nL 3425 0 \nL 2847 0 \nL 2847 2094 \nQ 2847 2600 2669 2842 \nQ 2491 3084 2119 3084 \nQ 1678 3084 1418 2786 \nQ 1159 2488 1159 1978 \nL 1159 0 \nL 581 0 \nL 581 3500 \nL 1159 3500 \nL 1159 2956 \nQ 1356 3278 1631 3431 \nQ 1906 3584 2284 3584 \nQ 2666 3584 2933 3390 \nQ 3200 3197 3328 2828 \nz\n\" transform=\"scale(0.015625)\"/>\n      </defs>\n      <use xlink:href=\"#DejaVuSans-6c\"/>\n      <use xlink:href=\"#DejaVuSans-61\" x=\"27.783203\"/>\n      <use xlink:href=\"#DejaVuSans-62\" x=\"89.0625\"/>\n      <use xlink:href=\"#DejaVuSans-65\" x=\"152.539062\"/>\n      <use xlink:href=\"#DejaVuSans-6c\" x=\"214.0625\"/>\n      <use xlink:href=\"#DejaVuSans-5f\" x=\"241.845703\"/>\n      <use xlink:href=\"#DejaVuSans-6e\" x=\"291.845703\"/>\n      <use xlink:href=\"#DejaVuSans-61\" x=\"355.224609\"/>\n      <use xlink:href=\"#DejaVuSans-6d\" x=\"416.503906\"/>\n      <use xlink:href=\"#DejaVuSans-65\" x=\"513.916016\"/>\n     </g>\n    </g>\n   </g>\n   <g id=\"patch_9\">\n    <path d=\"M 78.861875 245.90175 \nL 78.861875 24.14175 \n\" style=\"fill: none; stroke: #000000; stroke-width: 0.8; stroke-linejoin: miter; stroke-linecap: square\"/>\n   </g>\n   <g id=\"patch_10\">\n    <path d=\"M 413.661875 245.90175 \nL 413.661875 24.14175 \n\" style=\"fill: none; stroke: #000000; stroke-width: 0.8; stroke-linejoin: miter; stroke-linecap: square\"/>\n   </g>\n   <g id=\"patch_11\">\n    <path d=\"M 78.861875 245.90175 \nL 413.661875 245.90175 \n\" style=\"fill: none; stroke: #000000; stroke-width: 0.8; stroke-linejoin: miter; stroke-linecap: square\"/>\n   </g>\n   <g id=\"patch_12\">\n    <path d=\"M 78.861875 24.14175 \nL 413.661875 24.14175 \n\" style=\"fill: none; stroke: #000000; stroke-width: 0.8; stroke-linejoin: miter; stroke-linecap: square\"/>\n   </g>\n   <g id=\"text_14\">\n    <!-- Frequency of Classes -->\n    <g transform=\"translate(170.427875 18.14175) scale(0.144 -0.144)\">\n     <defs>\n      <path id=\"DejaVuSans-46\" d=\"M 628 4666 \nL 3309 4666 \nL 3309 4134 \nL 1259 4134 \nL 1259 2759 \nL 3109 2759 \nL 3109 2228 \nL 1259 2228 \nL 1259 0 \nL 628 0 \nL 628 4666 \nz\n\" transform=\"scale(0.015625)\"/>\n      <path id=\"DejaVuSans-71\" d=\"M 947 1747 \nQ 947 1113 1208 752 \nQ 1469 391 1925 391 \nQ 2381 391 2643 752 \nQ 2906 1113 2906 1747 \nQ 2906 2381 2643 2742 \nQ 2381 3103 1925 3103 \nQ 1469 3103 1208 2742 \nQ 947 2381 947 1747 \nz\nM 2906 525 \nQ 2725 213 2448 61 \nQ 2172 -91 1784 -91 \nQ 1150 -91 751 415 \nQ 353 922 353 1747 \nQ 353 2572 751 3078 \nQ 1150 3584 1784 3584 \nQ 2172 3584 2448 3432 \nQ 2725 3281 2906 2969 \nL 2906 3500 \nL 3481 3500 \nL 3481 -1331 \nL 2906 -1331 \nL 2906 525 \nz\n\" transform=\"scale(0.015625)\"/>\n      <path id=\"DejaVuSans-63\" d=\"M 3122 3366 \nL 3122 2828 \nQ 2878 2963 2633 3030 \nQ 2388 3097 2138 3097 \nQ 1578 3097 1268 2742 \nQ 959 2388 959 1747 \nQ 959 1106 1268 751 \nQ 1578 397 2138 397 \nQ 2388 397 2633 464 \nQ 2878 531 3122 666 \nL 3122 134 \nQ 2881 22 2623 -34 \nQ 2366 -91 2075 -91 \nQ 1284 -91 818 406 \nQ 353 903 353 1747 \nQ 353 2603 823 3093 \nQ 1294 3584 2113 3584 \nQ 2378 3584 2631 3529 \nQ 2884 3475 3122 3366 \nz\n\" transform=\"scale(0.015625)\"/>\n      <path id=\"DejaVuSans-20\" transform=\"scale(0.015625)\"/>\n      <path id=\"DejaVuSans-43\" d=\"M 4122 4306 \nL 4122 3641 \nQ 3803 3938 3442 4084 \nQ 3081 4231 2675 4231 \nQ 1875 4231 1450 3742 \nQ 1025 3253 1025 2328 \nQ 1025 1406 1450 917 \nQ 1875 428 2675 428 \nQ 3081 428 3442 575 \nQ 3803 722 4122 1019 \nL 4122 359 \nQ 3791 134 3420 21 \nQ 3050 -91 2638 -91 \nQ 1578 -91 968 557 \nQ 359 1206 359 2328 \nQ 359 3453 968 4101 \nQ 1578 4750 2638 4750 \nQ 3056 4750 3426 4639 \nQ 3797 4528 4122 4306 \nz\n\" transform=\"scale(0.015625)\"/>\n     </defs>\n     <use xlink:href=\"#DejaVuSans-46\"/>\n     <use xlink:href=\"#DejaVuSans-72\" x=\"50.269531\"/>\n     <use xlink:href=\"#DejaVuSans-65\" x=\"89.132812\"/>\n     <use xlink:href=\"#DejaVuSans-71\" x=\"150.65625\"/>\n     <use xlink:href=\"#DejaVuSans-75\" x=\"214.132812\"/>\n     <use xlink:href=\"#DejaVuSans-65\" x=\"277.511719\"/>\n     <use xlink:href=\"#DejaVuSans-6e\" x=\"339.035156\"/>\n     <use xlink:href=\"#DejaVuSans-63\" x=\"402.414062\"/>\n     <use xlink:href=\"#DejaVuSans-79\" x=\"457.394531\"/>\n     <use xlink:href=\"#DejaVuSans-20\" x=\"516.574219\"/>\n     <use xlink:href=\"#DejaVuSans-6f\" x=\"548.361328\"/>\n     <use xlink:href=\"#DejaVuSans-66\" x=\"609.542969\"/>\n     <use xlink:href=\"#DejaVuSans-20\" x=\"644.748047\"/>\n     <use xlink:href=\"#DejaVuSans-43\" x=\"676.535156\"/>\n     <use xlink:href=\"#DejaVuSans-6c\" x=\"746.359375\"/>\n     <use xlink:href=\"#DejaVuSans-61\" x=\"774.142578\"/>\n     <use xlink:href=\"#DejaVuSans-73\" x=\"835.421875\"/>\n     <use xlink:href=\"#DejaVuSans-73\" x=\"887.521484\"/>\n     <use xlink:href=\"#DejaVuSans-65\" x=\"939.621094\"/>\n     <use xlink:href=\"#DejaVuSans-73\" x=\"1001.144531\"/>\n    </g>\n   </g>\n  </g>\n </g>\n <defs>\n  <clipPath id=\"p7969270fd1\">\n   <rect x=\"78.861875\" y=\"24.14175\" width=\"334.8\" height=\"221.76\"/>\n  </clipPath>\n </defs>\n</svg>\n",
            "application/pdf": "[encoded data removed]"
          },
          "metadata": {}
        }
      ],
      "source": [
        "import matplotlib.pyplot as plt\n",
        "\n",
        "df[\"label_name\"].value_counts(ascending=True).plot.barh()\n",
        "plt.title(\"Frequency of Classes\")\n",
        "plt.show()"
      ]
    },
    {
      "cell_type": "markdown",
      "metadata": {
        "id": "nnqy0q0mYHZb"
      },
      "source": [
        "In this case, we can see that the dataset is heavily imbalanced; the `joy` and `sadness` classes appear frequently, whereas `love` and `surprise` are about 5–10 times rarer. There are several ways to deal with imbalanced data, including:\n",
        "\n",
        "* Randomly oversample the minority class.\n",
        "* Randomly undersample the majority class.\n",
        "* Gather more labeled data from the underrepresented classes."
      ]
    },
    {
      "cell_type": "markdown",
      "metadata": {
        "id": "h-turUBWYHZb"
      },
      "source": [
        "To keep things simple in this chapter, we'll work with the raw, unbalanced class frequencies. If you want to learn more about these sampling techniques, we recommend checking out the [Imbalanced-learn library](https://imbalanced-learn.org/stable/). Just make sure that you don't apply sampling methods _before_ creating your train/test splits, or you'll get plenty of leakage between them!\n",
        "\n",
        "Now that we've looked at the classes, let's take a look at the tweets themselves."
      ]
    },
    {
      "cell_type": "markdown",
      "metadata": {
        "id": "wrKe_b_KYHZb"
      },
      "source": [
        "### How Long Are Our Tweets?"
      ]
    },
    {
      "cell_type": "markdown",
      "metadata": {
        "id": "mJYrgUJ_YHZb"
      },
      "source": [
        "Transformer models have a maximum input sequence length that is referred to as the _maximum context size_. For applications using DistilBERT, the maximum context size is 512 tokens, which amounts to a few paragraphs of text. As we'll see in the next section, a token is an atomic piece of text; for now, we'll treat a token as a single word. We can get a rough estimate of tweet lengths per emotion by looking at the distribution of words per tweet:"
      ]
    },
    {
      "cell_type": "code",
      "execution_count": 15,
      "metadata": {
        "id": "1G7CjQ7BYHZb",
        "outputId": "7040c6b1-53b1-4f26-a68d-e3c30458a019",
        "colab": {
          "base_uri": "https://localhost:8080/",
          "height": 376
        }
      },
      "outputs": [
        {
          "output_type": "display_data",
          "data": {
            "text/plain": [
              "<Figure size 600x400 with 1 Axes>"
            ],
            "image/svg+xml": "<?xml version=\"1.0\" encoding=\"utf-8\" standalone=\"no\"?>\n<!DOCTYPE svg PUBLIC \"-//W3C//DTD SVG 1.1//EN\"\n  \"http://www.w3.org/Graphics/SVG/1.1/DTD/svg11.dtd\">\n<svg xmlns:xlink=\"http://www.w3.org/1999/xlink\" width=\"382.27pt\" height=\"265.9555pt\" viewBox=\"0 0 382.27 265.9555\" xmlns=\"http://www.w3.org/2000/svg\" version=\"1.1\">\n <metadata>\n  <rdf:RDF xmlns:dc=\"http://purl.org/dc/elements/1.1/\" xmlns:cc=\"http://creativecommons.org/ns#\" xmlns:rdf=\"http://www.w3.org/1999/02/22-rdf-syntax-ns#\">\n   <cc:Work>\n    <dc:type rdf:resource=\"http://purl.org/dc/dcmitype/StillImage\"/>\n    <dc:date>2024-05-25T11:43:27.426579</dc:date>\n    <dc:format>image/svg+xml</dc:format>\n    <dc:creator>\n     <cc:Agent>\n      <dc:title>Matplotlib v3.7.1, https://matplotlib.org/</dc:title>\n     </cc:Agent>\n    </dc:creator>\n   </cc:Work>\n  </rdf:RDF>\n </metadata>\n <defs>\n  <style type=\"text/css\">*{stroke-linejoin: round; stroke-linecap: butt}</style>\n </defs>\n <g id=\"figure_1\">\n  <g id=\"patch_1\">\n   <path d=\"M 0 265.9555 \nL 382.27 265.9555 \nL 382.27 0 \nL 0 0 \nz\n\" style=\"fill: #ffffff\"/>\n  </g>\n  <g id=\"axes_1\">\n   <g id=\"patch_2\">\n    <path d=\"M 29.47 240.14175 \nL 375.07 240.14175 \nL 375.07 24.14175 \nL 29.47 24.14175 \nz\n\" style=\"fill: #ffffff\"/>\n   </g>\n   <g id=\"matplotlib.axis_1\">\n    <g id=\"xtick_1\">\n     <g id=\"line2d_1\">\n      <defs>\n       <path id=\"m117798194a\" d=\"M 0 0 \nL 0 3.5 \n\" style=\"stroke: #000000; stroke-width: 0.8\"/>\n      </defs>\n      <g>\n       <use xlink:href=\"#m117798194a\" x=\"58.27\" y=\"240.14175\" style=\"stroke: #000000; stroke-width: 0.8\"/>\n      </g>\n     </g>\n     <g id=\"text_1\">\n      <!-- anger -->\n      <g transform=\"translate(40.823125 256.259875) scale(0.12 -0.12)\">\n       <defs>\n        <path id=\"DejaVuSans-61\" d=\"M 2194 1759 \nQ 1497 1759 1228 1600 \nQ 959 1441 959 1056 \nQ 959 750 1161 570 \nQ 1363 391 1709 391 \nQ 2188 391 2477 730 \nQ 2766 1069 2766 1631 \nL 2766 1759 \nL 2194 1759 \nz\nM 3341 1997 \nL 3341 0 \nL 2766 0 \nL 2766 531 \nQ 2569 213 2275 61 \nQ 1981 -91 1556 -91 \nQ 1019 -91 701 211 \nQ 384 513 384 1019 \nQ 384 1609 779 1909 \nQ 1175 2209 1959 2209 \nL 2766 2209 \nL 2766 2266 \nQ 2766 2663 2505 2880 \nQ 2244 3097 1772 3097 \nQ 1472 3097 1187 3025 \nQ 903 2953 641 2809 \nL 641 3341 \nQ 956 3463 1253 3523 \nQ 1550 3584 1831 3584 \nQ 2591 3584 2966 3190 \nQ 3341 2797 3341 1997 \nz\n\" transform=\"scale(0.015625)\"/>\n        <path id=\"DejaVuSans-6e\" d=\"M 3513 2113 \nL 3513 0 \nL 2938 0 \nL 2938 2094 \nQ 2938 2591 2744 2837 \nQ 2550 3084 2163 3084 \nQ 1697 3084 1428 2787 \nQ 1159 2491 1159 1978 \nL 1159 0 \nL 581 0 \nL 581 3500 \nL 1159 3500 \nL 1159 2956 \nQ 1366 3272 1645 3428 \nQ 1925 3584 2291 3584 \nQ 2894 3584 3203 3211 \nQ 3513 2838 3513 2113 \nz\n\" transform=\"scale(0.015625)\"/>\n        <path id=\"DejaVuSans-67\" d=\"M 2906 1791 \nQ 2906 2416 2648 2759 \nQ 2391 3103 1925 3103 \nQ 1463 3103 1205 2759 \nQ 947 2416 947 1791 \nQ 947 1169 1205 825 \nQ 1463 481 1925 481 \nQ 2391 481 2648 825 \nQ 2906 1169 2906 1791 \nz\nM 3481 434 \nQ 3481 -459 3084 -895 \nQ 2688 -1331 1869 -1331 \nQ 1566 -1331 1297 -1286 \nQ 1028 -1241 775 -1147 \nL 775 -588 \nQ 1028 -725 1275 -790 \nQ 1522 -856 1778 -856 \nQ 2344 -856 2625 -561 \nQ 2906 -266 2906 331 \nL 2906 616 \nQ 2728 306 2450 153 \nQ 2172 0 1784 0 \nQ 1141 0 747 490 \nQ 353 981 353 1791 \nQ 353 2603 747 3093 \nQ 1141 3584 1784 3584 \nQ 2172 3584 2450 3431 \nQ 2728 3278 2906 2969 \nL 2906 3500 \nL 3481 3500 \nL 3481 434 \nz\n\" transform=\"scale(0.015625)\"/>\n        <path id=\"DejaVuSans-65\" d=\"M 3597 1894 \nL 3597 1613 \nL 953 1613 \nQ 991 1019 1311 708 \nQ 1631 397 2203 397 \nQ 2534 397 2845 478 \nQ 3156 559 3463 722 \nL 3463 178 \nQ 3153 47 2828 -22 \nQ 2503 -91 2169 -91 \nQ 1331 -91 842 396 \nQ 353 884 353 1716 \nQ 353 2575 817 3079 \nQ 1281 3584 2069 3584 \nQ 2775 3584 3186 3129 \nQ 3597 2675 3597 1894 \nz\nM 3022 2063 \nQ 3016 2534 2758 2815 \nQ 2500 3097 2075 3097 \nQ 1594 3097 1305 2825 \nQ 1016 2553 972 2059 \nL 3022 2063 \nz\n\" transform=\"scale(0.015625)\"/>\n        <path id=\"DejaVuSans-72\" d=\"M 2631 2963 \nQ 2534 3019 2420 3045 \nQ 2306 3072 2169 3072 \nQ 1681 3072 1420 2755 \nQ 1159 2438 1159 1844 \nL 1159 0 \nL 581 0 \nL 581 3500 \nL 1159 3500 \nL 1159 2956 \nQ 1341 3275 1631 3429 \nQ 1922 3584 2338 3584 \nQ 2397 3584 2469 3576 \nQ 2541 3569 2628 3553 \nL 2631 2963 \nz\n\" transform=\"scale(0.015625)\"/>\n       </defs>\n       <use xlink:href=\"#DejaVuSans-61\"/>\n       <use xlink:href=\"#DejaVuSans-6e\" x=\"61.279297\"/>\n       <use xlink:href=\"#DejaVuSans-67\" x=\"124.658203\"/>\n       <use xlink:href=\"#DejaVuSans-65\" x=\"188.134766\"/>\n       <use xlink:href=\"#DejaVuSans-72\" x=\"249.658203\"/>\n      </g>\n     </g>\n    </g>\n    <g id=\"xtick_2\">\n     <g id=\"line2d_2\">\n      <g>\n       <use xlink:href=\"#m117798194a\" x=\"115.87\" y=\"240.14175\" style=\"stroke: #000000; stroke-width: 0.8\"/>\n      </g>\n     </g>\n     <g id=\"text_2\">\n      <!-- fear -->\n      <g transform=\"translate(103.9225 256.259875) scale(0.12 -0.12)\">\n       <defs>\n        <path id=\"DejaVuSans-66\" d=\"M 2375 4863 \nL 2375 4384 \nL 1825 4384 \nQ 1516 4384 1395 4259 \nQ 1275 4134 1275 3809 \nL 1275 3500 \nL 2222 3500 \nL 2222 3053 \nL 1275 3053 \nL 1275 0 \nL 697 0 \nL 697 3053 \nL 147 3053 \nL 147 3500 \nL 697 3500 \nL 697 3744 \nQ 697 4328 969 4595 \nQ 1241 4863 1831 4863 \nL 2375 4863 \nz\n\" transform=\"scale(0.015625)\"/>\n       </defs>\n       <use xlink:href=\"#DejaVuSans-66\"/>\n       <use xlink:href=\"#DejaVuSans-65\" x=\"35.205078\"/>\n       <use xlink:href=\"#DejaVuSans-61\" x=\"96.728516\"/>\n       <use xlink:href=\"#DejaVuSans-72\" x=\"158.007812\"/>\n      </g>\n     </g>\n    </g>\n    <g id=\"xtick_3\">\n     <g id=\"line2d_3\">\n      <g>\n       <use xlink:href=\"#m117798194a\" x=\"173.47\" y=\"240.14175\" style=\"stroke: #000000; stroke-width: 0.8\"/>\n      </g>\n     </g>\n     <g id=\"text_3\">\n      <!-- joy -->\n      <g transform=\"translate(164.580625 256.259875) scale(0.12 -0.12)\">\n       <defs>\n        <path id=\"DejaVuSans-6a\" d=\"M 603 3500 \nL 1178 3500 \nL 1178 -63 \nQ 1178 -731 923 -1031 \nQ 669 -1331 103 -1331 \nL -116 -1331 \nL -116 -844 \nL 38 -844 \nQ 366 -844 484 -692 \nQ 603 -541 603 -63 \nL 603 3500 \nz\nM 603 4863 \nL 1178 4863 \nL 1178 4134 \nL 603 4134 \nL 603 4863 \nz\n\" transform=\"scale(0.015625)\"/>\n        <path id=\"DejaVuSans-6f\" d=\"M 1959 3097 \nQ 1497 3097 1228 2736 \nQ 959 2375 959 1747 \nQ 959 1119 1226 758 \nQ 1494 397 1959 397 \nQ 2419 397 2687 759 \nQ 2956 1122 2956 1747 \nQ 2956 2369 2687 2733 \nQ 2419 3097 1959 3097 \nz\nM 1959 3584 \nQ 2709 3584 3137 3096 \nQ 3566 2609 3566 1747 \nQ 3566 888 3137 398 \nQ 2709 -91 1959 -91 \nQ 1206 -91 779 398 \nQ 353 888 353 1747 \nQ 353 2609 779 3096 \nQ 1206 3584 1959 3584 \nz\n\" transform=\"scale(0.015625)\"/>\n        <path id=\"DejaVuSans-79\" d=\"M 2059 -325 \nQ 1816 -950 1584 -1140 \nQ 1353 -1331 966 -1331 \nL 506 -1331 \nL 506 -850 \nL 844 -850 \nQ 1081 -850 1212 -737 \nQ 1344 -625 1503 -206 \nL 1606 56 \nL 191 3500 \nL 800 3500 \nL 1894 763 \nL 2988 3500 \nL 3597 3500 \nL 2059 -325 \nz\n\" transform=\"scale(0.015625)\"/>\n       </defs>\n       <use xlink:href=\"#DejaVuSans-6a\"/>\n       <use xlink:href=\"#DejaVuSans-6f\" x=\"27.783203\"/>\n       <use xlink:href=\"#DejaVuSans-79\" x=\"88.964844\"/>\n      </g>\n     </g>\n    </g>\n    <g id=\"xtick_4\">\n     <g id=\"line2d_4\">\n      <g>\n       <use xlink:href=\"#m117798194a\" x=\"231.07\" y=\"240.14175\" style=\"stroke: #000000; stroke-width: 0.8\"/>\n      </g>\n     </g>\n     <g id=\"text_4\">\n      <!-- love -->\n      <g transform=\"translate(218.48875 256.259875) scale(0.12 -0.12)\">\n       <defs>\n        <path id=\"DejaVuSans-6c\" d=\"M 603 4863 \nL 1178 4863 \nL 1178 0 \nL 603 0 \nL 603 4863 \nz\n\" transform=\"scale(0.015625)\"/>\n        <path id=\"DejaVuSans-76\" d=\"M 191 3500 \nL 800 3500 \nL 1894 563 \nL 2988 3500 \nL 3597 3500 \nL 2284 0 \nL 1503 0 \nL 191 3500 \nz\n\" transform=\"scale(0.015625)\"/>\n       </defs>\n       <use xlink:href=\"#DejaVuSans-6c\"/>\n       <use xlink:href=\"#DejaVuSans-6f\" x=\"27.783203\"/>\n       <use xlink:href=\"#DejaVuSans-76\" x=\"88.964844\"/>\n       <use xlink:href=\"#DejaVuSans-65\" x=\"148.144531\"/>\n      </g>\n     </g>\n    </g>\n    <g id=\"xtick_5\">\n     <g id=\"line2d_5\">\n      <g>\n       <use xlink:href=\"#m117798194a\" x=\"288.67\" y=\"240.14175\" style=\"stroke: #000000; stroke-width: 0.8\"/>\n      </g>\n     </g>\n     <g id=\"text_5\">\n      <!-- sadness -->\n      <g transform=\"translate(264.312813 256.259875) scale(0.12 -0.12)\">\n       <defs>\n        <path id=\"DejaVuSans-73\" d=\"M 2834 3397 \nL 2834 2853 \nQ 2591 2978 2328 3040 \nQ 2066 3103 1784 3103 \nQ 1356 3103 1142 2972 \nQ 928 2841 928 2578 \nQ 928 2378 1081 2264 \nQ 1234 2150 1697 2047 \nL 1894 2003 \nQ 2506 1872 2764 1633 \nQ 3022 1394 3022 966 \nQ 3022 478 2636 193 \nQ 2250 -91 1575 -91 \nQ 1294 -91 989 -36 \nQ 684 19 347 128 \nL 347 722 \nQ 666 556 975 473 \nQ 1284 391 1588 391 \nQ 1994 391 2212 530 \nQ 2431 669 2431 922 \nQ 2431 1156 2273 1281 \nQ 2116 1406 1581 1522 \nL 1381 1569 \nQ 847 1681 609 1914 \nQ 372 2147 372 2553 \nQ 372 3047 722 3315 \nQ 1072 3584 1716 3584 \nQ 2034 3584 2315 3537 \nQ 2597 3491 2834 3397 \nz\n\" transform=\"scale(0.015625)\"/>\n        <path id=\"DejaVuSans-64\" d=\"M 2906 2969 \nL 2906 4863 \nL 3481 4863 \nL 3481 0 \nL 2906 0 \nL 2906 525 \nQ 2725 213 2448 61 \nQ 2172 -91 1784 -91 \nQ 1150 -91 751 415 \nQ 353 922 353 1747 \nQ 353 2572 751 3078 \nQ 1150 3584 1784 3584 \nQ 2172 3584 2448 3432 \nQ 2725 3281 2906 2969 \nz\nM 947 1747 \nQ 947 1113 1208 752 \nQ 1469 391 1925 391 \nQ 2381 391 2643 752 \nQ 2906 1113 2906 1747 \nQ 2906 2381 2643 2742 \nQ 2381 3103 1925 3103 \nQ 1469 3103 1208 2742 \nQ 947 2381 947 1747 \nz\n\" transform=\"scale(0.015625)\"/>\n       </defs>\n       <use xlink:href=\"#DejaVuSans-73\"/>\n       <use xlink:href=\"#DejaVuSans-61\" x=\"52.099609\"/>\n       <use xlink:href=\"#DejaVuSans-64\" x=\"113.378906\"/>\n       <use xlink:href=\"#DejaVuSans-6e\" x=\"176.855469\"/>\n       <use xlink:href=\"#DejaVuSans-65\" x=\"240.234375\"/>\n       <use xlink:href=\"#DejaVuSans-73\" x=\"301.757812\"/>\n       <use xlink:href=\"#DejaVuSans-73\" x=\"353.857422\"/>\n      </g>\n     </g>\n    </g>\n    <g id=\"xtick_6\">\n     <g id=\"line2d_6\">\n      <g>\n       <use xlink:href=\"#m117798194a\" x=\"346.27\" y=\"240.14175\" style=\"stroke: #000000; stroke-width: 0.8\"/>\n      </g>\n     </g>\n     <g id=\"text_6\">\n      <!-- surprise -->\n      <g transform=\"translate(322.115313 256.259875) scale(0.12 -0.12)\">\n       <defs>\n        <path id=\"DejaVuSans-75\" d=\"M 544 1381 \nL 544 3500 \nL 1119 3500 \nL 1119 1403 \nQ 1119 906 1312 657 \nQ 1506 409 1894 409 \nQ 2359 409 2629 706 \nQ 2900 1003 2900 1516 \nL 2900 3500 \nL 3475 3500 \nL 3475 0 \nL 2900 0 \nL 2900 538 \nQ 2691 219 2414 64 \nQ 2138 -91 1772 -91 \nQ 1169 -91 856 284 \nQ 544 659 544 1381 \nz\nM 1991 3584 \nL 1991 3584 \nz\n\" transform=\"scale(0.015625)\"/>\n        <path id=\"DejaVuSans-70\" d=\"M 1159 525 \nL 1159 -1331 \nL 581 -1331 \nL 581 3500 \nL 1159 3500 \nL 1159 2969 \nQ 1341 3281 1617 3432 \nQ 1894 3584 2278 3584 \nQ 2916 3584 3314 3078 \nQ 3713 2572 3713 1747 \nQ 3713 922 3314 415 \nQ 2916 -91 2278 -91 \nQ 1894 -91 1617 61 \nQ 1341 213 1159 525 \nz\nM 3116 1747 \nQ 3116 2381 2855 2742 \nQ 2594 3103 2138 3103 \nQ 1681 3103 1420 2742 \nQ 1159 2381 1159 1747 \nQ 1159 1113 1420 752 \nQ 1681 391 2138 391 \nQ 2594 391 2855 752 \nQ 3116 1113 3116 1747 \nz\n\" transform=\"scale(0.015625)\"/>\n        <path id=\"DejaVuSans-69\" d=\"M 603 3500 \nL 1178 3500 \nL 1178 0 \nL 603 0 \nL 603 3500 \nz\nM 603 4863 \nL 1178 4863 \nL 1178 4134 \nL 603 4134 \nL 603 4863 \nz\n\" transform=\"scale(0.015625)\"/>\n       </defs>\n       <use xlink:href=\"#DejaVuSans-73\"/>\n       <use xlink:href=\"#DejaVuSans-75\" x=\"52.099609\"/>\n       <use xlink:href=\"#DejaVuSans-72\" x=\"115.478516\"/>\n       <use xlink:href=\"#DejaVuSans-70\" x=\"156.591797\"/>\n       <use xlink:href=\"#DejaVuSans-72\" x=\"220.068359\"/>\n       <use xlink:href=\"#DejaVuSans-69\" x=\"261.181641\"/>\n       <use xlink:href=\"#DejaVuSans-73\" x=\"288.964844\"/>\n       <use xlink:href=\"#DejaVuSans-65\" x=\"341.064453\"/>\n      </g>\n     </g>\n    </g>\n   </g>\n   <g id=\"matplotlib.axis_2\">\n    <g id=\"ytick_1\">\n     <g id=\"line2d_7\">\n      <defs>\n       <path id=\"m89ad987a7f\" d=\"M 0 0 \nL -3.5 0 \n\" style=\"stroke: #000000; stroke-width: 0.8\"/>\n      </defs>\n      <g>\n       <use xlink:href=\"#m89ad987a7f\" x=\"29.47\" y=\"238.505386\" style=\"stroke: #000000; stroke-width: 0.8\"/>\n      </g>\n     </g>\n     <g id=\"text_7\">\n      <!-- 0 -->\n      <g transform=\"translate(14.835 243.064449) scale(0.12 -0.12)\">\n       <defs>\n        <path id=\"DejaVuSans-30\" d=\"M 2034 4250 \nQ 1547 4250 1301 3770 \nQ 1056 3291 1056 2328 \nQ 1056 1369 1301 889 \nQ 1547 409 2034 409 \nQ 2525 409 2770 889 \nQ 3016 1369 3016 2328 \nQ 3016 3291 2770 3770 \nQ 2525 4250 2034 4250 \nz\nM 2034 4750 \nQ 2819 4750 3233 4129 \nQ 3647 3509 3647 2328 \nQ 3647 1150 3233 529 \nQ 2819 -91 2034 -91 \nQ 1250 -91 836 529 \nQ 422 1150 422 2328 \nQ 422 3509 836 4129 \nQ 1250 4750 2034 4750 \nz\n\" transform=\"scale(0.015625)\"/>\n       </defs>\n       <use xlink:href=\"#DejaVuSans-30\"/>\n      </g>\n     </g>\n    </g>\n    <g id=\"ytick_2\">\n     <g id=\"line2d_8\">\n      <g>\n       <use xlink:href=\"#m89ad987a7f\" x=\"29.47\" y=\"197.596295\" style=\"stroke: #000000; stroke-width: 0.8\"/>\n      </g>\n     </g>\n     <g id=\"text_8\">\n      <!-- 10 -->\n      <g transform=\"translate(7.2 202.155358) scale(0.12 -0.12)\">\n       <defs>\n        <path id=\"DejaVuSans-31\" d=\"M 794 531 \nL 1825 531 \nL 1825 4091 \nL 703 3866 \nL 703 4441 \nL 1819 4666 \nL 2450 4666 \nL 2450 531 \nL 3481 531 \nL 3481 0 \nL 794 0 \nL 794 531 \nz\n\" transform=\"scale(0.015625)\"/>\n       </defs>\n       <use xlink:href=\"#DejaVuSans-31\"/>\n       <use xlink:href=\"#DejaVuSans-30\" x=\"63.623047\"/>\n      </g>\n     </g>\n    </g>\n    <g id=\"ytick_3\">\n     <g id=\"line2d_9\">\n      <g>\n       <use xlink:href=\"#m89ad987a7f\" x=\"29.47\" y=\"156.687205\" style=\"stroke: #000000; stroke-width: 0.8\"/>\n      </g>\n     </g>\n     <g id=\"text_9\">\n      <!-- 20 -->\n      <g transform=\"translate(7.2 161.246267) scale(0.12 -0.12)\">\n       <defs>\n        <path id=\"DejaVuSans-32\" d=\"M 1228 531 \nL 3431 531 \nL 3431 0 \nL 469 0 \nL 469 531 \nQ 828 903 1448 1529 \nQ 2069 2156 2228 2338 \nQ 2531 2678 2651 2914 \nQ 2772 3150 2772 3378 \nQ 2772 3750 2511 3984 \nQ 2250 4219 1831 4219 \nQ 1534 4219 1204 4116 \nQ 875 4013 500 3803 \nL 500 4441 \nQ 881 4594 1212 4672 \nQ 1544 4750 1819 4750 \nQ 2544 4750 2975 4387 \nQ 3406 4025 3406 3419 \nQ 3406 3131 3298 2873 \nQ 3191 2616 2906 2266 \nQ 2828 2175 2409 1742 \nQ 1991 1309 1228 531 \nz\n\" transform=\"scale(0.015625)\"/>\n       </defs>\n       <use xlink:href=\"#DejaVuSans-32\"/>\n       <use xlink:href=\"#DejaVuSans-30\" x=\"63.623047\"/>\n      </g>\n     </g>\n    </g>\n    <g id=\"ytick_4\">\n     <g id=\"line2d_10\">\n      <g>\n       <use xlink:href=\"#m89ad987a7f\" x=\"29.47\" y=\"115.778114\" style=\"stroke: #000000; stroke-width: 0.8\"/>\n      </g>\n     </g>\n     <g id=\"text_10\">\n      <!-- 30 -->\n      <g transform=\"translate(7.2 120.337176) scale(0.12 -0.12)\">\n       <defs>\n        <path id=\"DejaVuSans-33\" d=\"M 2597 2516 \nQ 3050 2419 3304 2112 \nQ 3559 1806 3559 1356 \nQ 3559 666 3084 287 \nQ 2609 -91 1734 -91 \nQ 1441 -91 1130 -33 \nQ 819 25 488 141 \nL 488 750 \nQ 750 597 1062 519 \nQ 1375 441 1716 441 \nQ 2309 441 2620 675 \nQ 2931 909 2931 1356 \nQ 2931 1769 2642 2001 \nQ 2353 2234 1838 2234 \nL 1294 2234 \nL 1294 2753 \nL 1863 2753 \nQ 2328 2753 2575 2939 \nQ 2822 3125 2822 3475 \nQ 2822 3834 2567 4026 \nQ 2313 4219 1838 4219 \nQ 1578 4219 1281 4162 \nQ 984 4106 628 3988 \nL 628 4550 \nQ 988 4650 1302 4700 \nQ 1616 4750 1894 4750 \nQ 2613 4750 3031 4423 \nQ 3450 4097 3450 3541 \nQ 3450 3153 3228 2886 \nQ 3006 2619 2597 2516 \nz\n\" transform=\"scale(0.015625)\"/>\n       </defs>\n       <use xlink:href=\"#DejaVuSans-33\"/>\n       <use xlink:href=\"#DejaVuSans-30\" x=\"63.623047\"/>\n      </g>\n     </g>\n    </g>\n    <g id=\"ytick_5\">\n     <g id=\"line2d_11\">\n      <g>\n       <use xlink:href=\"#m89ad987a7f\" x=\"29.47\" y=\"74.869023\" style=\"stroke: #000000; stroke-width: 0.8\"/>\n      </g>\n     </g>\n     <g id=\"text_11\">\n      <!-- 40 -->\n      <g transform=\"translate(7.2 79.428085) scale(0.12 -0.12)\">\n       <defs>\n        <path id=\"DejaVuSans-34\" d=\"M 2419 4116 \nL 825 1625 \nL 2419 1625 \nL 2419 4116 \nz\nM 2253 4666 \nL 3047 4666 \nL 3047 1625 \nL 3713 1625 \nL 3713 1100 \nL 3047 1100 \nL 3047 0 \nL 2419 0 \nL 2419 1100 \nL 313 1100 \nL 313 1709 \nL 2253 4666 \nz\n\" transform=\"scale(0.015625)\"/>\n       </defs>\n       <use xlink:href=\"#DejaVuSans-34\"/>\n       <use xlink:href=\"#DejaVuSans-30\" x=\"63.623047\"/>\n      </g>\n     </g>\n    </g>\n    <g id=\"ytick_6\">\n     <g id=\"line2d_12\">\n      <g>\n       <use xlink:href=\"#m89ad987a7f\" x=\"29.47\" y=\"33.959932\" style=\"stroke: #000000; stroke-width: 0.8\"/>\n      </g>\n     </g>\n     <g id=\"text_12\">\n      <!-- 50 -->\n      <g transform=\"translate(7.2 38.518994) scale(0.12 -0.12)\">\n       <defs>\n        <path id=\"DejaVuSans-35\" d=\"M 691 4666 \nL 3169 4666 \nL 3169 4134 \nL 1269 4134 \nL 1269 2991 \nQ 1406 3038 1543 3061 \nQ 1681 3084 1819 3084 \nQ 2600 3084 3056 2656 \nQ 3513 2228 3513 1497 \nQ 3513 744 3044 326 \nQ 2575 -91 1722 -91 \nQ 1428 -91 1123 -41 \nQ 819 9 494 109 \nL 494 744 \nQ 775 591 1075 516 \nQ 1375 441 1709 441 \nQ 2250 441 2565 725 \nQ 2881 1009 2881 1497 \nQ 2881 1984 2565 2268 \nQ 2250 2553 1709 2553 \nQ 1456 2553 1204 2497 \nQ 953 2441 691 2322 \nL 691 4666 \nz\n\" transform=\"scale(0.015625)\"/>\n       </defs>\n       <use xlink:href=\"#DejaVuSans-35\"/>\n       <use xlink:href=\"#DejaVuSans-30\" x=\"63.623047\"/>\n      </g>\n     </g>\n    </g>\n   </g>\n   <g id=\"line2d_13\">\n    <path d=\"M 43.87 197.596295 \nL 72.67 197.596295 \nL 72.67 132.14175 \nL 43.87 132.14175 \nL 43.87 197.596295 \n\" clip-path=\"url(#p7b620b3b11)\" style=\"fill: none; stroke: #000000; stroke-linecap: square\"/>\n   </g>\n   <g id=\"line2d_14\">\n    <path d=\"M 58.27 197.596295 \nL 58.27 230.323568 \n\" clip-path=\"url(#p7b620b3b11)\" style=\"fill: none; stroke: #000000; stroke-linecap: square\"/>\n   </g>\n   <g id=\"line2d_15\">\n    <path d=\"M 58.27 132.14175 \nL 58.27 33.959932 \n\" clip-path=\"url(#p7b620b3b11)\" style=\"fill: none; stroke: #000000; stroke-linecap: square\"/>\n   </g>\n   <g id=\"line2d_16\">\n    <path d=\"M 51.07 230.323568 \nL 65.47 230.323568 \n\" clip-path=\"url(#p7b620b3b11)\" style=\"fill: none; stroke: #000000; stroke-linecap: square\"/>\n   </g>\n   <g id=\"line2d_17\">\n    <path d=\"M 51.07 33.959932 \nL 65.47 33.959932 \n\" clip-path=\"url(#p7b620b3b11)\" style=\"fill: none; stroke: #000000; stroke-linecap: square\"/>\n   </g>\n   <g id=\"line2d_18\">\n    <path d=\"M 101.47 197.596295 \nL 130.27 197.596295 \nL 130.27 136.232659 \nL 101.47 136.232659 \nL 101.47 197.596295 \n\" clip-path=\"url(#p7b620b3b11)\" style=\"fill: none; stroke: #000000; stroke-linecap: square\"/>\n   </g>\n   <g id=\"line2d_19\">\n    <path d=\"M 115.87 197.596295 \nL 115.87 230.323568 \n\" clip-path=\"url(#p7b620b3b11)\" style=\"fill: none; stroke: #000000; stroke-linecap: square\"/>\n   </g>\n   <g id=\"line2d_20\">\n    <path d=\"M 115.87 136.232659 \nL 115.87 46.232659 \n\" clip-path=\"url(#p7b620b3b11)\" style=\"fill: none; stroke: #000000; stroke-linecap: square\"/>\n   </g>\n   <g id=\"line2d_21\">\n    <path d=\"M 108.67 230.323568 \nL 123.07 230.323568 \n\" clip-path=\"url(#p7b620b3b11)\" style=\"fill: none; stroke: #000000; stroke-linecap: square\"/>\n   </g>\n   <g id=\"line2d_22\">\n    <path d=\"M 108.67 46.232659 \nL 123.07 46.232659 \n\" clip-path=\"url(#p7b620b3b11)\" style=\"fill: none; stroke: #000000; stroke-linecap: square\"/>\n   </g>\n   <g id=\"line2d_23\">\n    <path d=\"M 159.07 193.505386 \nL 187.87 193.505386 \nL 187.87 132.14175 \nL 159.07 132.14175 \nL 159.07 193.505386 \n\" clip-path=\"url(#p7b620b3b11)\" style=\"fill: none; stroke: #000000; stroke-linecap: square\"/>\n   </g>\n   <g id=\"line2d_24\">\n    <path d=\"M 173.47 193.505386 \nL 173.47 230.323568 \n\" clip-path=\"url(#p7b620b3b11)\" style=\"fill: none; stroke: #000000; stroke-linecap: square\"/>\n   </g>\n   <g id=\"line2d_25\">\n    <path d=\"M 173.47 132.14175 \nL 173.47 42.14175 \n\" clip-path=\"url(#p7b620b3b11)\" style=\"fill: none; stroke: #000000; stroke-linecap: square\"/>\n   </g>\n   <g id=\"line2d_26\">\n    <path d=\"M 166.27 230.323568 \nL 180.67 230.323568 \n\" clip-path=\"url(#p7b620b3b11)\" style=\"fill: none; stroke: #000000; stroke-linecap: square\"/>\n   </g>\n   <g id=\"line2d_27\">\n    <path d=\"M 166.27 42.14175 \nL 180.67 42.14175 \n\" clip-path=\"url(#p7b620b3b11)\" style=\"fill: none; stroke: #000000; stroke-linecap: square\"/>\n   </g>\n   <g id=\"line2d_28\">\n    <path d=\"M 216.67 189.414477 \nL 245.47 189.414477 \nL 245.47 128.050841 \nL 216.67 128.050841 \nL 216.67 189.414477 \n\" clip-path=\"url(#p7b620b3b11)\" style=\"fill: none; stroke: #000000; stroke-linecap: square\"/>\n   </g>\n   <g id=\"line2d_29\">\n    <path d=\"M 231.07 189.414477 \nL 231.07 226.232659 \n\" clip-path=\"url(#p7b620b3b11)\" style=\"fill: none; stroke: #000000; stroke-linecap: square\"/>\n   </g>\n   <g id=\"line2d_30\">\n    <path d=\"M 231.07 128.050841 \nL 231.07 38.050841 \n\" clip-path=\"url(#p7b620b3b11)\" style=\"fill: none; stroke: #000000; stroke-linecap: square\"/>\n   </g>\n   <g id=\"line2d_31\">\n    <path d=\"M 223.87 226.232659 \nL 238.27 226.232659 \n\" clip-path=\"url(#p7b620b3b11)\" style=\"fill: none; stroke: #000000; stroke-linecap: square\"/>\n   </g>\n   <g id=\"line2d_32\">\n    <path d=\"M 223.87 38.050841 \nL 238.27 38.050841 \n\" clip-path=\"url(#p7b620b3b11)\" style=\"fill: none; stroke: #000000; stroke-linecap: square\"/>\n   </g>\n   <g id=\"line2d_33\">\n    <path d=\"M 274.27 197.596295 \nL 303.07 197.596295 \nL 303.07 140.323568 \nL 274.27 140.323568 \nL 274.27 197.596295 \n\" clip-path=\"url(#p7b620b3b11)\" style=\"fill: none; stroke: #000000; stroke-linecap: square\"/>\n   </g>\n   <g id=\"line2d_34\">\n    <path d=\"M 288.67 197.596295 \nL 288.67 230.323568 \n\" clip-path=\"url(#p7b620b3b11)\" style=\"fill: none; stroke: #000000; stroke-linecap: square\"/>\n   </g>\n   <g id=\"line2d_35\">\n    <path d=\"M 288.67 140.323568 \nL 288.67 54.414477 \n\" clip-path=\"url(#p7b620b3b11)\" style=\"fill: none; stroke: #000000; stroke-linecap: square\"/>\n   </g>\n   <g id=\"line2d_36\">\n    <path d=\"M 281.47 230.323568 \nL 295.87 230.323568 \n\" clip-path=\"url(#p7b620b3b11)\" style=\"fill: none; stroke: #000000; stroke-linecap: square\"/>\n   </g>\n   <g id=\"line2d_37\">\n    <path d=\"M 281.47 54.414477 \nL 295.87 54.414477 \n\" clip-path=\"url(#p7b620b3b11)\" style=\"fill: none; stroke: #000000; stroke-linecap: square\"/>\n   </g>\n   <g id=\"line2d_38\">\n    <path d=\"M 331.87 189.414477 \nL 360.67 189.414477 \nL 360.67 132.14175 \nL 331.87 132.14175 \nL 331.87 189.414477 \n\" clip-path=\"url(#p7b620b3b11)\" style=\"fill: none; stroke: #000000; stroke-linecap: square\"/>\n   </g>\n   <g id=\"line2d_39\">\n    <path d=\"M 346.27 189.414477 \nL 346.27 226.232659 \n\" clip-path=\"url(#p7b620b3b11)\" style=\"fill: none; stroke: #000000; stroke-linecap: square\"/>\n   </g>\n   <g id=\"line2d_40\">\n    <path d=\"M 346.27 132.14175 \nL 346.27 46.232659 \n\" clip-path=\"url(#p7b620b3b11)\" style=\"fill: none; stroke: #000000; stroke-linecap: square\"/>\n   </g>\n   <g id=\"line2d_41\">\n    <path d=\"M 339.07 226.232659 \nL 353.47 226.232659 \n\" clip-path=\"url(#p7b620b3b11)\" style=\"fill: none; stroke: #000000; stroke-linecap: square\"/>\n   </g>\n   <g id=\"line2d_42\">\n    <path d=\"M 339.07 46.232659 \nL 353.47 46.232659 \n\" clip-path=\"url(#p7b620b3b11)\" style=\"fill: none; stroke: #000000; stroke-linecap: square\"/>\n   </g>\n   <g id=\"line2d_43\">\n    <path d=\"M 43.87 168.959932 \nL 72.67 168.959932 \n\" clip-path=\"url(#p7b620b3b11)\" style=\"fill: none; stroke: #000000; stroke-linecap: square\"/>\n   </g>\n   <g id=\"line2d_44\">\n    <path d=\"M 101.47 168.959932 \nL 130.27 168.959932 \n\" clip-path=\"url(#p7b620b3b11)\" style=\"fill: none; stroke: #000000; stroke-linecap: square\"/>\n   </g>\n   <g id=\"line2d_45\">\n    <path d=\"M 159.07 164.869023 \nL 187.87 164.869023 \n\" clip-path=\"url(#p7b620b3b11)\" style=\"fill: none; stroke: #000000; stroke-linecap: square\"/>\n   </g>\n   <g id=\"line2d_46\">\n    <path d=\"M 216.67 160.778114 \nL 245.47 160.778114 \n\" clip-path=\"url(#p7b620b3b11)\" style=\"fill: none; stroke: #000000; stroke-linecap: square\"/>\n   </g>\n   <g id=\"line2d_47\">\n    <path d=\"M 274.27 173.050841 \nL 303.07 173.050841 \n\" clip-path=\"url(#p7b620b3b11)\" style=\"fill: none; stroke: #000000; stroke-linecap: square\"/>\n   </g>\n   <g id=\"line2d_48\">\n    <path d=\"M 331.87 164.869023 \nL 360.67 164.869023 \n\" clip-path=\"url(#p7b620b3b11)\" style=\"fill: none; stroke: #000000; stroke-linecap: square\"/>\n   </g>\n   <g id=\"patch_3\">\n    <path d=\"M 29.47 240.14175 \nL 29.47 24.14175 \n\" style=\"fill: none; stroke: #000000; stroke-width: 0.8; stroke-linejoin: miter; stroke-linecap: square\"/>\n   </g>\n   <g id=\"patch_4\">\n    <path d=\"M 375.07 240.14175 \nL 375.07 24.14175 \n\" style=\"fill: none; stroke: #000000; stroke-width: 0.8; stroke-linejoin: miter; stroke-linecap: square\"/>\n   </g>\n   <g id=\"patch_5\">\n    <path d=\"M 29.47 240.14175 \nL 375.07 240.14175 \n\" style=\"fill: none; stroke: #000000; stroke-width: 0.8; stroke-linejoin: miter; stroke-linecap: square\"/>\n   </g>\n   <g id=\"patch_6\">\n    <path d=\"M 29.47 24.14175 \nL 375.07 24.14175 \n\" style=\"fill: none; stroke: #000000; stroke-width: 0.8; stroke-linejoin: miter; stroke-linecap: square\"/>\n   </g>\n   <g id=\"text_13\">\n    <!-- Words Per Tweet -->\n    <g transform=\"translate(143.185 18.14175) scale(0.144 -0.144)\">\n     <defs>\n      <path id=\"DejaVuSans-57\" d=\"M 213 4666 \nL 850 4666 \nL 1831 722 \nL 2809 4666 \nL 3519 4666 \nL 4500 722 \nL 5478 4666 \nL 6119 4666 \nL 4947 0 \nL 4153 0 \nL 3169 4050 \nL 2175 0 \nL 1381 0 \nL 213 4666 \nz\n\" transform=\"scale(0.015625)\"/>\n      <path id=\"DejaVuSans-20\" transform=\"scale(0.015625)\"/>\n      <path id=\"DejaVuSans-50\" d=\"M 1259 4147 \nL 1259 2394 \nL 2053 2394 \nQ 2494 2394 2734 2622 \nQ 2975 2850 2975 3272 \nQ 2975 3691 2734 3919 \nQ 2494 4147 2053 4147 \nL 1259 4147 \nz\nM 628 4666 \nL 2053 4666 \nQ 2838 4666 3239 4311 \nQ 3641 3956 3641 3272 \nQ 3641 2581 3239 2228 \nQ 2838 1875 2053 1875 \nL 1259 1875 \nL 1259 0 \nL 628 0 \nL 628 4666 \nz\n\" transform=\"scale(0.015625)\"/>\n      <path id=\"DejaVuSans-54\" d=\"M -19 4666 \nL 3928 4666 \nL 3928 4134 \nL 2272 4134 \nL 2272 0 \nL 1638 0 \nL 1638 4134 \nL -19 4134 \nL -19 4666 \nz\n\" transform=\"scale(0.015625)\"/>\n      <path id=\"DejaVuSans-77\" d=\"M 269 3500 \nL 844 3500 \nL 1563 769 \nL 2278 3500 \nL 2956 3500 \nL 3675 769 \nL 4391 3500 \nL 4966 3500 \nL 4050 0 \nL 3372 0 \nL 2619 2869 \nL 1863 0 \nL 1184 0 \nL 269 3500 \nz\n\" transform=\"scale(0.015625)\"/>\n      <path id=\"DejaVuSans-74\" d=\"M 1172 4494 \nL 1172 3500 \nL 2356 3500 \nL 2356 3053 \nL 1172 3053 \nL 1172 1153 \nQ 1172 725 1289 603 \nQ 1406 481 1766 481 \nL 2356 481 \nL 2356 0 \nL 1766 0 \nQ 1100 0 847 248 \nQ 594 497 594 1153 \nL 594 3053 \nL 172 3053 \nL 172 3500 \nL 594 3500 \nL 594 4494 \nL 1172 4494 \nz\n\" transform=\"scale(0.015625)\"/>\n     </defs>\n     <use xlink:href=\"#DejaVuSans-57\"/>\n     <use xlink:href=\"#DejaVuSans-6f\" x=\"93.001953\"/>\n     <use xlink:href=\"#DejaVuSans-72\" x=\"154.183594\"/>\n     <use xlink:href=\"#DejaVuSans-64\" x=\"193.546875\"/>\n     <use xlink:href=\"#DejaVuSans-73\" x=\"257.023438\"/>\n     <use xlink:href=\"#DejaVuSans-20\" x=\"309.123047\"/>\n     <use xlink:href=\"#DejaVuSans-50\" x=\"340.910156\"/>\n     <use xlink:href=\"#DejaVuSans-65\" x=\"397.587891\"/>\n     <use xlink:href=\"#DejaVuSans-72\" x=\"459.111328\"/>\n     <use xlink:href=\"#DejaVuSans-20\" x=\"500.224609\"/>\n     <use xlink:href=\"#DejaVuSans-54\" x=\"532.011719\"/>\n     <use xlink:href=\"#DejaVuSans-77\" x=\"576.595703\"/>\n     <use xlink:href=\"#DejaVuSans-65\" x=\"658.382812\"/>\n     <use xlink:href=\"#DejaVuSans-65\" x=\"719.90625\"/>\n     <use xlink:href=\"#DejaVuSans-74\" x=\"781.429688\"/>\n    </g>\n   </g>\n  </g>\n </g>\n <defs>\n  <clipPath id=\"p7b620b3b11\">\n   <rect x=\"29.47\" y=\"24.14175\" width=\"345.6\" height=\"216\"/>\n  </clipPath>\n </defs>\n</svg>\n",
            "application/pdf": "[encoded data removed]"
          },
          "metadata": {}
        }
      ],
      "source": [
        "df[\"Words Per Tweet\"] = df[\"text\"].str.split().apply(len)\n",
        "df.boxplot(\"Words Per Tweet\", by=\"label_name\", grid=False, showfliers=False,\n",
        "           color=\"black\")\n",
        "plt.suptitle(\"\")\n",
        "plt.xlabel(\"\")\n",
        "plt.show()"
      ]
    },
    {
      "cell_type": "markdown",
      "metadata": {
        "id": "eywME5BEYHZb"
      },
      "source": [
        "From the plot we see that for each emotion, most tweets are around 15 words long and the longest tweets are well below DistilBERT's maximum context size. Texts that are longer than a model's context size need to be truncated, which can lead to a loss in performance if the truncated text contains crucial information; in this case, it looks like that won't be an issue."
      ]
    },
    {
      "cell_type": "markdown",
      "metadata": {
        "id": "PQXt1tQ7YHZc"
      },
      "source": [
        "Let's now figure out how we can convert these raw texts into a format suitable for image:images/logo.png[hf,13,13] Transformers! While we're at it, let's also reset the output format of our dataset since we don't need the `DataFrame` format anymore:"
      ]
    },
    {
      "cell_type": "code",
      "execution_count": 16,
      "metadata": {
        "id": "_SyrEz9DYHZc"
      },
      "outputs": [],
      "source": [
        "emotions.reset_format()"
      ]
    },
    {
      "cell_type": "markdown",
      "metadata": {
        "id": "pK-8S2f-YHZc"
      },
      "source": [
        "## From Text to Tokens"
      ]
    },
    {
      "cell_type": "markdown",
      "metadata": {
        "id": "ItGh3KnEYHZc"
      },
      "source": [
        "Transformer models like DistilBERT cannot receive raw strings as input; instead, they assume the text has been _tokenized_ and _encoded_ as numerical vectors. Tokenization is the step of breaking down a string into the atomic units used in the model. There are several tokenization strategies one can adopt, and the optimal splitting of words into subunits is usually learned from the corpus. Before looking at the tokenizer used for DistilBERT, let's consider two extreme cases: _character_ and _word_ tokenization."
      ]
    },
    {
      "cell_type": "markdown",
      "metadata": {
        "id": "xble8azeYHZc"
      },
      "source": [
        "### Character Tokenization"
      ]
    },
    {
      "cell_type": "markdown",
      "metadata": {
        "id": "OEwh5l7rYHZc"
      },
      "source": [
        "The simplest tokenization scheme is to feed each character individually to the model. In Python, `str` objects are really arrays under the hood, which allows us to quickly implement character-level tokenization with just one line of code:"
      ]
    },
    {
      "cell_type": "code",
      "execution_count": 17,
      "metadata": {
        "id": "lZ7y52rxYHZc",
        "outputId": "19710078-81a2-4124-cfd0-3534ccf70723",
        "colab": {
          "base_uri": "https://localhost:8080/"
        }
      },
      "outputs": [
        {
          "output_type": "stream",
          "name": "stdout",
          "text": [
            "['T', 'o', 'k', 'e', 'n', 'i', 'z', 'i', 'n', 'g', ' ', 't', 'e', 'x', 't', ' ',\n",
            "'i', 's', ' ', 'a', ' ', 'c', 'o', 'r', 'e', ' ', 't', 'a', 's', 'k', ' ', 'o',\n",
            "'f', ' ', 'N', 'L', 'P', '.']\n"
          ]
        }
      ],
      "source": [
        "text = \"Tokenizing text is a core task of NLP.\"\n",
        "tokenized_text = list(text)\n",
        "print(tokenized_text)"
      ]
    },
    {
      "cell_type": "markdown",
      "metadata": {
        "id": "AIWQvWOjYHZc"
      },
      "source": [
        "This is a good start, but we're not done yet. Our model expects each character to be  converted to an integer, a process sometimes called _numericalization_. One simple way to do this is by encoding each unique token (which are characters in this case) with a unique integer:"
      ]
    },
    {
      "cell_type": "code",
      "execution_count": 18,
      "metadata": {
        "id": "xCc0cFo-YHZc",
        "outputId": "a7a5e489-ac35-4213-a468-efd94117e62b",
        "colab": {
          "base_uri": "https://localhost:8080/"
        }
      },
      "outputs": [
        {
          "output_type": "stream",
          "name": "stdout",
          "text": [
            "{' ': 0, '.': 1, 'L': 2, 'N': 3, 'P': 4, 'T': 5, 'a': 6, 'c': 7, 'e': 8, 'f': 9,\n",
            "'g': 10, 'i': 11, 'k': 12, 'n': 13, 'o': 14, 'r': 15, 's': 16, 't': 17, 'x': 18,\n",
            "'z': 19}\n"
          ]
        }
      ],
      "source": [
        "token2idx = {ch: idx for idx, ch in enumerate(sorted(set(tokenized_text)))}\n",
        "print(token2idx)"
      ]
    },
    {
      "cell_type": "markdown",
      "metadata": {
        "id": "WZeewGwvYHZd"
      },
      "source": [
        "This gives us a mapping from each character in our vocabulary to a unique integer. We can now use `token2idx` to transform the tokenized text to a list of integers:"
      ]
    },
    {
      "cell_type": "code",
      "execution_count": 19,
      "metadata": {
        "id": "DJNFQtxvYHZd",
        "outputId": "0c1ad370-5d02-4cdf-976d-909e147cbd47",
        "colab": {
          "base_uri": "https://localhost:8080/"
        }
      },
      "outputs": [
        {
          "output_type": "stream",
          "name": "stdout",
          "text": [
            "[5, 14, 12, 8, 13, 11, 19, 11, 13, 10, 0, 17, 8, 18, 17, 0, 11, 16, 0, 6, 0, 7,\n",
            "14, 15, 8, 0, 17, 6, 16, 12, 0, 14, 9, 0, 3, 2, 4, 1]\n"
          ]
        }
      ],
      "source": [
        "input_ids = [token2idx[token] for token in tokenized_text]\n",
        "print(input_ids)"
      ]
    },
    {
      "cell_type": "markdown",
      "metadata": {
        "id": "wpWT989KYHZd"
      },
      "source": [
        "Each token has now been mapped to a unique numerical identifier (hence the name `input_ids`). The last step is to convert `input_ids` to a 2D tensor of one-hot vectors. One-hot vectors are frequently used in machine learning to encode categorical data, which can be either ordinal or nominal. For example, suppose we wanted to encode the names of characters in the _Transformers_ TV series. One way to do this would be to map each name to a unique ID, as follows:"
      ]
    },
    {
      "cell_type": "code",
      "execution_count": 20,
      "metadata": {
        "id": "gHkAd8l_YHZd",
        "outputId": "189fcdaf-e707-4f4a-80f5-065aafd576e7",
        "colab": {
          "base_uri": "https://localhost:8080/",
          "height": 142
        }
      },
      "outputs": [
        {
          "output_type": "execute_result",
          "data": {
            "text/plain": [
              "            Name  Label ID\n",
              "0      Bumblebee         0\n",
              "1  Optimus Prime         1\n",
              "2       Megatron         2"
            ],
            "text/html": [
              "\n",
              "  <div id=\"df-6c933b0b-433c-4a2c-9b65-0537918496e0\" class=\"colab-df-container\">\n",
              "    <div>\n",
              "<style scoped>\n",
              "    .dataframe tbody tr th:only-of-type {\n",
              "        vertical-align: middle;\n",
              "    }\n",
              "\n",
              "    .dataframe tbody tr th {\n",
              "        vertical-align: top;\n",
              "    }\n",
              "\n",
              "    .dataframe thead th {\n",
              "        text-align: right;\n",
              "    }\n",
              "</style>\n",
              "<table border=\"1\" class=\"dataframe\">\n",
              "  <thead>\n",
              "    <tr style=\"text-align: right;\">\n",
              "      <th></th>\n",
              "      <th>Name</th>\n",
              "      <th>Label ID</th>\n",
              "    </tr>\n",
              "  </thead>\n",
              "  <tbody>\n",
              "    <tr>\n",
              "      <th>0</th>\n",
              "      <td>Bumblebee</td>\n",
              "      <td>0</td>\n",
              "    </tr>\n",
              "    <tr>\n",
              "      <th>1</th>\n",
              "      <td>Optimus Prime</td>\n",
              "      <td>1</td>\n",
              "    </tr>\n",
              "    <tr>\n",
              "      <th>2</th>\n",
              "      <td>Megatron</td>\n",
              "      <td>2</td>\n",
              "    </tr>\n",
              "  </tbody>\n",
              "</table>\n",
              "</div>\n",
              "    <div class=\"colab-df-buttons\">\n",
              "\n",
              "  <div class=\"colab-df-container\">\n",
              "    <button class=\"colab-df-convert\" onclick=\"convertToInteractive('df-6c933b0b-433c-4a2c-9b65-0537918496e0')\"\n",
              "            title=\"Convert this dataframe to an interactive table.\"\n",
              "            style=\"display:none;\">\n",
              "\n",
              "  <svg xmlns=\"http://www.w3.org/2000/svg\" height=\"24px\" viewBox=\"0 -960 960 960\">\n",
              "    <path d=\"M120-120v-720h720v720H120Zm60-500h600v-160H180v160Zm220 220h160v-160H400v160Zm0 220h160v-160H400v160ZM180-400h160v-160H180v160Zm440 0h160v-160H620v160ZM180-180h160v-160H180v160Zm440 0h160v-160H620v160Z\"/>\n",
              "  </svg>\n",
              "    </button>\n",
              "\n",
              "  <style>\n",
              "    .colab-df-container {\n",
              "      display:flex;\n",
              "      gap: 12px;\n",
              "    }\n",
              "\n",
              "    .colab-df-convert {\n",
              "      background-color: #E8F0FE;\n",
              "      border: none;\n",
              "      border-radius: 50%;\n",
              "      cursor: pointer;\n",
              "      display: none;\n",
              "      fill: #1967D2;\n",
              "      height: 32px;\n",
              "      padding: 0 0 0 0;\n",
              "      width: 32px;\n",
              "    }\n",
              "\n",
              "    .colab-df-convert:hover {\n",
              "      background-color: #E2EBFA;\n",
              "      box-shadow: 0px 1px 2px rgba(60, 64, 67, 0.3), 0px 1px 3px 1px rgba(60, 64, 67, 0.15);\n",
              "      fill: #174EA6;\n",
              "    }\n",
              "\n",
              "    .colab-df-buttons div {\n",
              "      margin-bottom: 4px;\n",
              "    }\n",
              "\n",
              "    [theme=dark] .colab-df-convert {\n",
              "      background-color: #3B4455;\n",
              "      fill: #D2E3FC;\n",
              "    }\n",
              "\n",
              "    [theme=dark] .colab-df-convert:hover {\n",
              "      background-color: #434B5C;\n",
              "      box-shadow: 0px 1px 3px 1px rgba(0, 0, 0, 0.15);\n",
              "      filter: drop-shadow(0px 1px 2px rgba(0, 0, 0, 0.3));\n",
              "      fill: #FFFFFF;\n",
              "    }\n",
              "  </style>\n",
              "\n",
              "    <script>\n",
              "      const buttonEl =\n",
              "        document.querySelector('#df-6c933b0b-433c-4a2c-9b65-0537918496e0 button.colab-df-convert');\n",
              "      buttonEl.style.display =\n",
              "        google.colab.kernel.accessAllowed ? 'block' : 'none';\n",
              "\n",
              "      async function convertToInteractive(key) {\n",
              "        const element = document.querySelector('#df-6c933b0b-433c-4a2c-9b65-0537918496e0');\n",
              "        const dataTable =\n",
              "          await google.colab.kernel.invokeFunction('convertToInteractive',\n",
              "                                                    [key], {});\n",
              "        if (!dataTable) return;\n",
              "\n",
              "        const docLinkHtml = 'Like what you see? Visit the ' +\n",
              "          '<a target=\"_blank\" href=https://colab.research.google.com/notebooks/data_table.ipynb>data table notebook</a>'\n",
              "          + ' to learn more about interactive tables.';\n",
              "        element.innerHTML = '';\n",
              "        dataTable['output_type'] = 'display_data';\n",
              "        await google.colab.output.renderOutput(dataTable, element);\n",
              "        const docLink = document.createElement('div');\n",
              "        docLink.innerHTML = docLinkHtml;\n",
              "        element.appendChild(docLink);\n",
              "      }\n",
              "    </script>\n",
              "  </div>\n",
              "\n",
              "\n",
              "<div id=\"df-f740e3a4-ebd0-4fb4-af8d-a4b8698f9623\">\n",
              "  <button class=\"colab-df-quickchart\" onclick=\"quickchart('df-f740e3a4-ebd0-4fb4-af8d-a4b8698f9623')\"\n",
              "            title=\"Suggest charts\"\n",
              "            style=\"display:none;\">\n",
              "\n",
              "<svg xmlns=\"http://www.w3.org/2000/svg\" height=\"24px\"viewBox=\"0 0 24 24\"\n",
              "     width=\"24px\">\n",
              "    <g>\n",
              "        <path d=\"M19 3H5c-1.1 0-2 .9-2 2v14c0 1.1.9 2 2 2h14c1.1 0 2-.9 2-2V5c0-1.1-.9-2-2-2zM9 17H7v-7h2v7zm4 0h-2V7h2v10zm4 0h-2v-4h2v4z\"/>\n",
              "    </g>\n",
              "</svg>\n",
              "  </button>\n",
              "\n",
              "<style>\n",
              "  .colab-df-quickchart {\n",
              "      --bg-color: #E8F0FE;\n",
              "      --fill-color: #1967D2;\n",
              "      --hover-bg-color: #E2EBFA;\n",
              "      --hover-fill-color: #174EA6;\n",
              "      --disabled-fill-color: #AAA;\n",
              "      --disabled-bg-color: #DDD;\n",
              "  }\n",
              "\n",
              "  [theme=dark] .colab-df-quickchart {\n",
              "      --bg-color: #3B4455;\n",
              "      --fill-color: #D2E3FC;\n",
              "      --hover-bg-color: #434B5C;\n",
              "      --hover-fill-color: #FFFFFF;\n",
              "      --disabled-bg-color: #3B4455;\n",
              "      --disabled-fill-color: #666;\n",
              "  }\n",
              "\n",
              "  .colab-df-quickchart {\n",
              "    background-color: var(--bg-color);\n",
              "    border: none;\n",
              "    border-radius: 50%;\n",
              "    cursor: pointer;\n",
              "    display: none;\n",
              "    fill: var(--fill-color);\n",
              "    height: 32px;\n",
              "    padding: 0;\n",
              "    width: 32px;\n",
              "  }\n",
              "\n",
              "  .colab-df-quickchart:hover {\n",
              "    background-color: var(--hover-bg-color);\n",
              "    box-shadow: 0 1px 2px rgba(60, 64, 67, 0.3), 0 1px 3px 1px rgba(60, 64, 67, 0.15);\n",
              "    fill: var(--button-hover-fill-color);\n",
              "  }\n",
              "\n",
              "  .colab-df-quickchart-complete:disabled,\n",
              "  .colab-df-quickchart-complete:disabled:hover {\n",
              "    background-color: var(--disabled-bg-color);\n",
              "    fill: var(--disabled-fill-color);\n",
              "    box-shadow: none;\n",
              "  }\n",
              "\n",
              "  .colab-df-spinner {\n",
              "    border: 2px solid var(--fill-color);\n",
              "    border-color: transparent;\n",
              "    border-bottom-color: var(--fill-color);\n",
              "    animation:\n",
              "      spin 1s steps(1) infinite;\n",
              "  }\n",
              "\n",
              "  @keyframes spin {\n",
              "    0% {\n",
              "      border-color: transparent;\n",
              "      border-bottom-color: var(--fill-color);\n",
              "      border-left-color: var(--fill-color);\n",
              "    }\n",
              "    20% {\n",
              "      border-color: transparent;\n",
              "      border-left-color: var(--fill-color);\n",
              "      border-top-color: var(--fill-color);\n",
              "    }\n",
              "    30% {\n",
              "      border-color: transparent;\n",
              "      border-left-color: var(--fill-color);\n",
              "      border-top-color: var(--fill-color);\n",
              "      border-right-color: var(--fill-color);\n",
              "    }\n",
              "    40% {\n",
              "      border-color: transparent;\n",
              "      border-right-color: var(--fill-color);\n",
              "      border-top-color: var(--fill-color);\n",
              "    }\n",
              "    60% {\n",
              "      border-color: transparent;\n",
              "      border-right-color: var(--fill-color);\n",
              "    }\n",
              "    80% {\n",
              "      border-color: transparent;\n",
              "      border-right-color: var(--fill-color);\n",
              "      border-bottom-color: var(--fill-color);\n",
              "    }\n",
              "    90% {\n",
              "      border-color: transparent;\n",
              "      border-bottom-color: var(--fill-color);\n",
              "    }\n",
              "  }\n",
              "</style>\n",
              "\n",
              "  <script>\n",
              "    async function quickchart(key) {\n",
              "      const quickchartButtonEl =\n",
              "        document.querySelector('#' + key + ' button');\n",
              "      quickchartButtonEl.disabled = true;  // To prevent multiple clicks.\n",
              "      quickchartButtonEl.classList.add('colab-df-spinner');\n",
              "      try {\n",
              "        const charts = await google.colab.kernel.invokeFunction(\n",
              "            'suggestCharts', [key], {});\n",
              "      } catch (error) {\n",
              "        console.error('Error during call to suggestCharts:', error);\n",
              "      }\n",
              "      quickchartButtonEl.classList.remove('colab-df-spinner');\n",
              "      quickchartButtonEl.classList.add('colab-df-quickchart-complete');\n",
              "    }\n",
              "    (() => {\n",
              "      let quickchartButtonEl =\n",
              "        document.querySelector('#df-f740e3a4-ebd0-4fb4-af8d-a4b8698f9623 button');\n",
              "      quickchartButtonEl.style.display =\n",
              "        google.colab.kernel.accessAllowed ? 'block' : 'none';\n",
              "    })();\n",
              "  </script>\n",
              "</div>\n",
              "\n",
              "  <div id=\"id_403fee79-a45f-4225-a88d-1d43f144c698\">\n",
              "    <style>\n",
              "      .colab-df-generate {\n",
              "        background-color: #E8F0FE;\n",
              "        border: none;\n",
              "        border-radius: 50%;\n",
              "        cursor: pointer;\n",
              "        display: none;\n",
              "        fill: #1967D2;\n",
              "        height: 32px;\n",
              "        padding: 0 0 0 0;\n",
              "        width: 32px;\n",
              "      }\n",
              "\n",
              "      .colab-df-generate:hover {\n",
              "        background-color: #E2EBFA;\n",
              "        box-shadow: 0px 1px 2px rgba(60, 64, 67, 0.3), 0px 1px 3px 1px rgba(60, 64, 67, 0.15);\n",
              "        fill: #174EA6;\n",
              "      }\n",
              "\n",
              "      [theme=dark] .colab-df-generate {\n",
              "        background-color: #3B4455;\n",
              "        fill: #D2E3FC;\n",
              "      }\n",
              "\n",
              "      [theme=dark] .colab-df-generate:hover {\n",
              "        background-color: #434B5C;\n",
              "        box-shadow: 0px 1px 3px 1px rgba(0, 0, 0, 0.15);\n",
              "        filter: drop-shadow(0px 1px 2px rgba(0, 0, 0, 0.3));\n",
              "        fill: #FFFFFF;\n",
              "      }\n",
              "    </style>\n",
              "    <button class=\"colab-df-generate\" onclick=\"generateWithVariable('categorical_df')\"\n",
              "            title=\"Generate code using this dataframe.\"\n",
              "            style=\"display:none;\">\n",
              "\n",
              "  <svg xmlns=\"http://www.w3.org/2000/svg\" height=\"24px\"viewBox=\"0 0 24 24\"\n",
              "       width=\"24px\">\n",
              "    <path d=\"M7,19H8.4L18.45,9,17,7.55,7,17.6ZM5,21V16.75L18.45,3.32a2,2,0,0,1,2.83,0l1.4,1.43a1.91,1.91,0,0,1,.58,1.4,1.91,1.91,0,0,1-.58,1.4L9.25,21ZM18.45,9,17,7.55Zm-12,3A5.31,5.31,0,0,0,4.9,8.1,5.31,5.31,0,0,0,1,6.5,5.31,5.31,0,0,0,4.9,4.9,5.31,5.31,0,0,0,6.5,1,5.31,5.31,0,0,0,8.1,4.9,5.31,5.31,0,0,0,12,6.5,5.46,5.46,0,0,0,6.5,12Z\"/>\n",
              "  </svg>\n",
              "    </button>\n",
              "    <script>\n",
              "      (() => {\n",
              "      const buttonEl =\n",
              "        document.querySelector('#id_403fee79-a45f-4225-a88d-1d43f144c698 button.colab-df-generate');\n",
              "      buttonEl.style.display =\n",
              "        google.colab.kernel.accessAllowed ? 'block' : 'none';\n",
              "\n",
              "      buttonEl.onclick = () => {\n",
              "        google.colab.notebook.generateWithVariable('categorical_df');\n",
              "      }\n",
              "      })();\n",
              "    </script>\n",
              "  </div>\n",
              "\n",
              "    </div>\n",
              "  </div>\n"
            ],
            "application/vnd.google.colaboratory.intrinsic+json": {
              "type": "dataframe",
              "variable_name": "categorical_df",
              "summary": "{\n  \"name\": \"categorical_df\",\n  \"rows\": 3,\n  \"fields\": [\n    {\n      \"column\": \"Name\",\n      \"properties\": {\n        \"dtype\": \"string\",\n        \"num_unique_values\": 3,\n        \"samples\": [\n          \"Bumblebee\",\n          \"Optimus Prime\",\n          \"Megatron\"\n        ],\n        \"semantic_type\": \"\",\n        \"description\": \"\"\n      }\n    },\n    {\n      \"column\": \"Label ID\",\n      \"properties\": {\n        \"dtype\": \"number\",\n        \"std\": 1,\n        \"min\": 0,\n        \"max\": 2,\n        \"num_unique_values\": 3,\n        \"samples\": [\n          0,\n          1,\n          2\n        ],\n        \"semantic_type\": \"\",\n        \"description\": \"\"\n      }\n    }\n  ]\n}"
            }
          },
          "metadata": {},
          "execution_count": 20
        }
      ],
      "source": [
        "categorical_df = pd.DataFrame(\n",
        "    {\"Name\": [\"Bumblebee\", \"Optimus Prime\", \"Megatron\"], \"Label ID\": [0,1,2]})\n",
        "categorical_df"
      ]
    },
    {
      "cell_type": "markdown",
      "metadata": {
        "id": "zSQvpDK5YHZd"
      },
      "source": [
        "The problem with this approach is that it creates a fictitious ordering between the names, and neural networks are _really_ good at learning these kinds of relationships. So instead, we can create a new column for each category and assign a 1 where the category is true, and a 0 otherwise. In Pandas, this can be implemented with the `get_dummies()` function as follows:"
      ]
    },
    {
      "cell_type": "code",
      "execution_count": 21,
      "metadata": {
        "id": "-8-nfnyGYHZd",
        "outputId": "8ad666c8-2a4a-4e0c-e6c5-fec1150bb4b7",
        "colab": {
          "base_uri": "https://localhost:8080/",
          "height": 142
        }
      },
      "outputs": [
        {
          "output_type": "execute_result",
          "data": {
            "text/plain": [
              "   Bumblebee  Megatron  Optimus Prime\n",
              "0       True     False          False\n",
              "1      False     False           True\n",
              "2      False      True          False"
            ],
            "text/html": [
              "\n",
              "  <div id=\"df-5e2763b7-958a-4822-b0c2-88bbff6d2187\" class=\"colab-df-container\">\n",
              "    <div>\n",
              "<style scoped>\n",
              "    .dataframe tbody tr th:only-of-type {\n",
              "        vertical-align: middle;\n",
              "    }\n",
              "\n",
              "    .dataframe tbody tr th {\n",
              "        vertical-align: top;\n",
              "    }\n",
              "\n",
              "    .dataframe thead th {\n",
              "        text-align: right;\n",
              "    }\n",
              "</style>\n",
              "<table border=\"1\" class=\"dataframe\">\n",
              "  <thead>\n",
              "    <tr style=\"text-align: right;\">\n",
              "      <th></th>\n",
              "      <th>Bumblebee</th>\n",
              "      <th>Megatron</th>\n",
              "      <th>Optimus Prime</th>\n",
              "    </tr>\n",
              "  </thead>\n",
              "  <tbody>\n",
              "    <tr>\n",
              "      <th>0</th>\n",
              "      <td>True</td>\n",
              "      <td>False</td>\n",
              "      <td>False</td>\n",
              "    </tr>\n",
              "    <tr>\n",
              "      <th>1</th>\n",
              "      <td>False</td>\n",
              "      <td>False</td>\n",
              "      <td>True</td>\n",
              "    </tr>\n",
              "    <tr>\n",
              "      <th>2</th>\n",
              "      <td>False</td>\n",
              "      <td>True</td>\n",
              "      <td>False</td>\n",
              "    </tr>\n",
              "  </tbody>\n",
              "</table>\n",
              "</div>\n",
              "    <div class=\"colab-df-buttons\">\n",
              "\n",
              "  <div class=\"colab-df-container\">\n",
              "    <button class=\"colab-df-convert\" onclick=\"convertToInteractive('df-5e2763b7-958a-4822-b0c2-88bbff6d2187')\"\n",
              "            title=\"Convert this dataframe to an interactive table.\"\n",
              "            style=\"display:none;\">\n",
              "\n",
              "  <svg xmlns=\"http://www.w3.org/2000/svg\" height=\"24px\" viewBox=\"0 -960 960 960\">\n",
              "    <path d=\"M120-120v-720h720v720H120Zm60-500h600v-160H180v160Zm220 220h160v-160H400v160Zm0 220h160v-160H400v160ZM180-400h160v-160H180v160Zm440 0h160v-160H620v160ZM180-180h160v-160H180v160Zm440 0h160v-160H620v160Z\"/>\n",
              "  </svg>\n",
              "    </button>\n",
              "\n",
              "  <style>\n",
              "    .colab-df-container {\n",
              "      display:flex;\n",
              "      gap: 12px;\n",
              "    }\n",
              "\n",
              "    .colab-df-convert {\n",
              "      background-color: #E8F0FE;\n",
              "      border: none;\n",
              "      border-radius: 50%;\n",
              "      cursor: pointer;\n",
              "      display: none;\n",
              "      fill: #1967D2;\n",
              "      height: 32px;\n",
              "      padding: 0 0 0 0;\n",
              "      width: 32px;\n",
              "    }\n",
              "\n",
              "    .colab-df-convert:hover {\n",
              "      background-color: #E2EBFA;\n",
              "      box-shadow: 0px 1px 2px rgba(60, 64, 67, 0.3), 0px 1px 3px 1px rgba(60, 64, 67, 0.15);\n",
              "      fill: #174EA6;\n",
              "    }\n",
              "\n",
              "    .colab-df-buttons div {\n",
              "      margin-bottom: 4px;\n",
              "    }\n",
              "\n",
              "    [theme=dark] .colab-df-convert {\n",
              "      background-color: #3B4455;\n",
              "      fill: #D2E3FC;\n",
              "    }\n",
              "\n",
              "    [theme=dark] .colab-df-convert:hover {\n",
              "      background-color: #434B5C;\n",
              "      box-shadow: 0px 1px 3px 1px rgba(0, 0, 0, 0.15);\n",
              "      filter: drop-shadow(0px 1px 2px rgba(0, 0, 0, 0.3));\n",
              "      fill: #FFFFFF;\n",
              "    }\n",
              "  </style>\n",
              "\n",
              "    <script>\n",
              "      const buttonEl =\n",
              "        document.querySelector('#df-5e2763b7-958a-4822-b0c2-88bbff6d2187 button.colab-df-convert');\n",
              "      buttonEl.style.display =\n",
              "        google.colab.kernel.accessAllowed ? 'block' : 'none';\n",
              "\n",
              "      async function convertToInteractive(key) {\n",
              "        const element = document.querySelector('#df-5e2763b7-958a-4822-b0c2-88bbff6d2187');\n",
              "        const dataTable =\n",
              "          await google.colab.kernel.invokeFunction('convertToInteractive',\n",
              "                                                    [key], {});\n",
              "        if (!dataTable) return;\n",
              "\n",
              "        const docLinkHtml = 'Like what you see? Visit the ' +\n",
              "          '<a target=\"_blank\" href=https://colab.research.google.com/notebooks/data_table.ipynb>data table notebook</a>'\n",
              "          + ' to learn more about interactive tables.';\n",
              "        element.innerHTML = '';\n",
              "        dataTable['output_type'] = 'display_data';\n",
              "        await google.colab.output.renderOutput(dataTable, element);\n",
              "        const docLink = document.createElement('div');\n",
              "        docLink.innerHTML = docLinkHtml;\n",
              "        element.appendChild(docLink);\n",
              "      }\n",
              "    </script>\n",
              "  </div>\n",
              "\n",
              "\n",
              "<div id=\"df-52398a24-27fe-4b7f-9101-756101594dd6\">\n",
              "  <button class=\"colab-df-quickchart\" onclick=\"quickchart('df-52398a24-27fe-4b7f-9101-756101594dd6')\"\n",
              "            title=\"Suggest charts\"\n",
              "            style=\"display:none;\">\n",
              "\n",
              "<svg xmlns=\"http://www.w3.org/2000/svg\" height=\"24px\"viewBox=\"0 0 24 24\"\n",
              "     width=\"24px\">\n",
              "    <g>\n",
              "        <path d=\"M19 3H5c-1.1 0-2 .9-2 2v14c0 1.1.9 2 2 2h14c1.1 0 2-.9 2-2V5c0-1.1-.9-2-2-2zM9 17H7v-7h2v7zm4 0h-2V7h2v10zm4 0h-2v-4h2v4z\"/>\n",
              "    </g>\n",
              "</svg>\n",
              "  </button>\n",
              "\n",
              "<style>\n",
              "  .colab-df-quickchart {\n",
              "      --bg-color: #E8F0FE;\n",
              "      --fill-color: #1967D2;\n",
              "      --hover-bg-color: #E2EBFA;\n",
              "      --hover-fill-color: #174EA6;\n",
              "      --disabled-fill-color: #AAA;\n",
              "      --disabled-bg-color: #DDD;\n",
              "  }\n",
              "\n",
              "  [theme=dark] .colab-df-quickchart {\n",
              "      --bg-color: #3B4455;\n",
              "      --fill-color: #D2E3FC;\n",
              "      --hover-bg-color: #434B5C;\n",
              "      --hover-fill-color: #FFFFFF;\n",
              "      --disabled-bg-color: #3B4455;\n",
              "      --disabled-fill-color: #666;\n",
              "  }\n",
              "\n",
              "  .colab-df-quickchart {\n",
              "    background-color: var(--bg-color);\n",
              "    border: none;\n",
              "    border-radius: 50%;\n",
              "    cursor: pointer;\n",
              "    display: none;\n",
              "    fill: var(--fill-color);\n",
              "    height: 32px;\n",
              "    padding: 0;\n",
              "    width: 32px;\n",
              "  }\n",
              "\n",
              "  .colab-df-quickchart:hover {\n",
              "    background-color: var(--hover-bg-color);\n",
              "    box-shadow: 0 1px 2px rgba(60, 64, 67, 0.3), 0 1px 3px 1px rgba(60, 64, 67, 0.15);\n",
              "    fill: var(--button-hover-fill-color);\n",
              "  }\n",
              "\n",
              "  .colab-df-quickchart-complete:disabled,\n",
              "  .colab-df-quickchart-complete:disabled:hover {\n",
              "    background-color: var(--disabled-bg-color);\n",
              "    fill: var(--disabled-fill-color);\n",
              "    box-shadow: none;\n",
              "  }\n",
              "\n",
              "  .colab-df-spinner {\n",
              "    border: 2px solid var(--fill-color);\n",
              "    border-color: transparent;\n",
              "    border-bottom-color: var(--fill-color);\n",
              "    animation:\n",
              "      spin 1s steps(1) infinite;\n",
              "  }\n",
              "\n",
              "  @keyframes spin {\n",
              "    0% {\n",
              "      border-color: transparent;\n",
              "      border-bottom-color: var(--fill-color);\n",
              "      border-left-color: var(--fill-color);\n",
              "    }\n",
              "    20% {\n",
              "      border-color: transparent;\n",
              "      border-left-color: var(--fill-color);\n",
              "      border-top-color: var(--fill-color);\n",
              "    }\n",
              "    30% {\n",
              "      border-color: transparent;\n",
              "      border-left-color: var(--fill-color);\n",
              "      border-top-color: var(--fill-color);\n",
              "      border-right-color: var(--fill-color);\n",
              "    }\n",
              "    40% {\n",
              "      border-color: transparent;\n",
              "      border-right-color: var(--fill-color);\n",
              "      border-top-color: var(--fill-color);\n",
              "    }\n",
              "    60% {\n",
              "      border-color: transparent;\n",
              "      border-right-color: var(--fill-color);\n",
              "    }\n",
              "    80% {\n",
              "      border-color: transparent;\n",
              "      border-right-color: var(--fill-color);\n",
              "      border-bottom-color: var(--fill-color);\n",
              "    }\n",
              "    90% {\n",
              "      border-color: transparent;\n",
              "      border-bottom-color: var(--fill-color);\n",
              "    }\n",
              "  }\n",
              "</style>\n",
              "\n",
              "  <script>\n",
              "    async function quickchart(key) {\n",
              "      const quickchartButtonEl =\n",
              "        document.querySelector('#' + key + ' button');\n",
              "      quickchartButtonEl.disabled = true;  // To prevent multiple clicks.\n",
              "      quickchartButtonEl.classList.add('colab-df-spinner');\n",
              "      try {\n",
              "        const charts = await google.colab.kernel.invokeFunction(\n",
              "            'suggestCharts', [key], {});\n",
              "      } catch (error) {\n",
              "        console.error('Error during call to suggestCharts:', error);\n",
              "      }\n",
              "      quickchartButtonEl.classList.remove('colab-df-spinner');\n",
              "      quickchartButtonEl.classList.add('colab-df-quickchart-complete');\n",
              "    }\n",
              "    (() => {\n",
              "      let quickchartButtonEl =\n",
              "        document.querySelector('#df-52398a24-27fe-4b7f-9101-756101594dd6 button');\n",
              "      quickchartButtonEl.style.display =\n",
              "        google.colab.kernel.accessAllowed ? 'block' : 'none';\n",
              "    })();\n",
              "  </script>\n",
              "</div>\n",
              "\n",
              "    </div>\n",
              "  </div>\n"
            ],
            "application/vnd.google.colaboratory.intrinsic+json": {
              "type": "dataframe",
              "summary": "{\n  \"name\": \"pd\",\n  \"rows\": 3,\n  \"fields\": [\n    {\n      \"column\": \"Bumblebee\",\n      \"properties\": {\n        \"dtype\": \"boolean\",\n        \"num_unique_values\": 2,\n        \"samples\": [\n          false,\n          true\n        ],\n        \"semantic_type\": \"\",\n        \"description\": \"\"\n      }\n    },\n    {\n      \"column\": \"Megatron\",\n      \"properties\": {\n        \"dtype\": \"boolean\",\n        \"num_unique_values\": 2,\n        \"samples\": [\n          true,\n          false\n        ],\n        \"semantic_type\": \"\",\n        \"description\": \"\"\n      }\n    },\n    {\n      \"column\": \"Optimus Prime\",\n      \"properties\": {\n        \"dtype\": \"boolean\",\n        \"num_unique_values\": 2,\n        \"samples\": [\n          true,\n          false\n        ],\n        \"semantic_type\": \"\",\n        \"description\": \"\"\n      }\n    }\n  ]\n}"
            }
          },
          "metadata": {},
          "execution_count": 21
        }
      ],
      "source": [
        "pd.get_dummies(categorical_df[\"Name\"])"
      ]
    },
    {
      "cell_type": "markdown",
      "metadata": {
        "id": "-nXiduTYYHZd"
      },
      "source": [
        "The rows of this `DataFrame` are the one-hot vectors, which have a single \"hot\" entry with a 1 and 0s everywhere else. Now, looking at our `input_ids`, we have a similar problem: the elements create an ordinal scale. This means that adding or subtracting two IDs is a meaningless operation, since the result is a new ID that represents another random token.\n",
        "\n",
        "On the other hand, the result of adding two one-hot encodings can easily be interpreted: the two entries that are \"hot\" indicate that the corresponding tokens co-occur. We can create the one-hot encodings in PyTorch by converting `input_ids` to a tensor and applying the `one_hot()` function as follows:"
      ]
    },
    {
      "cell_type": "code",
      "execution_count": 22,
      "metadata": {
        "id": "4l9Ao24DYHZe",
        "outputId": "6ec74a4c-e462-400b-f3a6-6b065265d6d3",
        "colab": {
          "base_uri": "https://localhost:8080/"
        }
      },
      "outputs": [
        {
          "output_type": "execute_result",
          "data": {
            "text/plain": [
              "torch.Size([38, 20])"
            ]
          },
          "metadata": {},
          "execution_count": 22
        }
      ],
      "source": [
        "import torch\n",
        "import torch.nn.functional as F\n",
        "\n",
        "input_ids = torch.tensor(input_ids)\n",
        "one_hot_encodings = F.one_hot(input_ids, num_classes=len(token2idx))\n",
        "one_hot_encodings.shape"
      ]
    },
    {
      "cell_type": "markdown",
      "metadata": {
        "id": "xPs95qM0YHZe"
      },
      "source": [
        "For each of the 38 input tokens we now have a one-hot vector with 20 dimensions, since our vocabulary consists of 20 unique characters."
      ]
    },
    {
      "cell_type": "markdown",
      "metadata": {
        "id": "-hU7j83PYHZe"
      },
      "source": [
        "> Warning: It's important to always set `num_classes` in the `one_hot()` function because otherwise the one-hot vectors may end up being shorter than the length of the vocabulary (and need to be padded with zeros manually). In TensorFlow, the equivalent function is `tf.one_hot()`, where the `depth` argument plays the role of `num_classes`."
      ]
    },
    {
      "cell_type": "markdown",
      "metadata": {
        "id": "kqllipJiYHZe"
      },
      "source": [
        "By examining the first vector, we can verify that a 1 appears in the location indicated by `input_ids[0]`:"
      ]
    },
    {
      "cell_type": "code",
      "execution_count": 23,
      "metadata": {
        "id": "gQHIIOzyYHZe",
        "outputId": "67a0b7c5-803c-4655-9310-2b2570f50b10",
        "colab": {
          "base_uri": "https://localhost:8080/"
        }
      },
      "outputs": [
        {
          "output_type": "stream",
          "name": "stdout",
          "text": [
            "Token: T\n",
            "Tensor index: 5\n",
            "One-hot: tensor([0, 0, 0, 0, 0, 1, 0, 0, 0, 0, 0, 0, 0, 0, 0, 0, 0, 0, 0, 0])\n"
          ]
        }
      ],
      "source": [
        "print(f\"Token: {tokenized_text[0]}\")\n",
        "print(f\"Tensor index: {input_ids[0]}\")\n",
        "print(f\"One-hot: {one_hot_encodings[0]}\")"
      ]
    },
    {
      "cell_type": "markdown",
      "metadata": {
        "id": "ZQMEUWX0YHZe"
      },
      "source": [
        "From our simple example we can see that character-level tokenization ignores any structure in the text and treats the whole string as a stream of characters. Although this helps deal with misspellings and rare words, the main drawback is that linguistic structures such as words need to be _learned_ from the data. This requires significant compute, memory, and data. For this reason, character tokenization is rarely used in practice. Instead, some structure of the text is preserved during the tokenization step. _Word tokenization_ is a straightforward approach to achieve this, so let's take a look at how it works."
      ]
    },
    {
      "cell_type": "markdown",
      "metadata": {
        "id": "ebU_7gFJYHZe"
      },
      "source": [
        "### Word Tokenization"
      ]
    },
    {
      "cell_type": "markdown",
      "metadata": {
        "id": "H2OUgxIdYHZe"
      },
      "source": [
        "Instead of splitting the text into characters, we can split it into words and map each word to an integer. Using words from the outset enables the model to skip the step of learning words from characters, and thereby reduces the complexity of the training process."
      ]
    },
    {
      "cell_type": "markdown",
      "metadata": {
        "id": "9YNUHfFWYHZf"
      },
      "source": [
        "One simple class of word tokenizers uses whitespace to tokenize the text. We can do this by applying Python's `split()` function directly on the raw text (just like we did to measure the tweet lengths):"
      ]
    },
    {
      "cell_type": "code",
      "execution_count": 24,
      "metadata": {
        "id": "atrv9WH_YHZf",
        "outputId": "116d6c73-50ce-4ca6-cc1b-7f16fd1850cd",
        "colab": {
          "base_uri": "https://localhost:8080/"
        }
      },
      "outputs": [
        {
          "output_type": "stream",
          "name": "stdout",
          "text": [
            "['Tokenizing', 'text', 'is', 'a', 'core', 'task', 'of', 'NLP.']\n"
          ]
        }
      ],
      "source": [
        "tokenized_text = text.split()\n",
        "print(tokenized_text)"
      ]
    },
    {
      "cell_type": "markdown",
      "metadata": {
        "id": "UZbeOTssYHZf"
      },
      "source": [
        "From here we can take the same steps we took for the character tokenizer to map each word to an ID. However, we can already see one potential problem with this tokenization scheme: punctuation is not accounted for, so `NLP.` is treated as a single token. Given that words can include declinations, conjugations, or misspellings, the size of the vocabulary can easily grow into the millions!\n",
        "\n",
        "\n",
        "> note: Some word tokenizers have extra rules for punctuation. One can also apply stemming or lemmatization, which normalizes words to their stem (e.g., \"great\", \"greater\", and \"greatest\" all become \"great\"), at the expense of losing some information in the text."
      ]
    },
    {
      "cell_type": "markdown",
      "metadata": {
        "id": "-56vGAqJYHZf"
      },
      "source": [
        "Having a large vocabulary is a problem because it requires neural networks to have an enormous number of parameters. To illustrate this, suppose we have 1 million unique words and want to compress the 1-million-dimensional input vectors to 1-thousand-dimensional vectors in the first layer of our neural network. This is a standard step in most NLP architectures, and the resulting weight matrix of this first layer would contain 1 million $\\times$ 1 thousand = 1 billion weights. This is already comparable to the largest GPT-2 model,footnote:[GPT-2 is the successor of GPT, and it captivated the public's attention with its impressive ability to generate realistic text. We'll explore GPT-2 in detail in <<chapter_summarization>>.] which has around 1.5 billion parameters in total!"
      ]
    },
    {
      "cell_type": "markdown",
      "metadata": {
        "id": "6bMPaWWuYHZf"
      },
      "source": [
        "Naturally, we want to avoid being so wasteful with our model parameters since models are expensive to train, and larger models are more difficult to maintain. A common approach is to limit the vocabulary and discard rare words by considering, say, the 100,000 most common words in the corpus. Words that are not part of the vocabulary are classified as \"unknown\" and mapped to a shared `UNK` token. This means that we lose some potentially important information in the process of word tokenization, since the model has no information about words associated with `UNK`.\n",
        "\n",
        "Wouldn't it be nice if there was a compromise between character and word tokenization that preserved all the input information _and_ some of the input structure? There is: _subword tokenization_."
      ]
    },
    {
      "cell_type": "markdown",
      "metadata": {
        "id": "wh2-0X12YHZf"
      },
      "source": [
        "### Subword Tokenization"
      ]
    },
    {
      "cell_type": "markdown",
      "metadata": {
        "id": "6nDTfdjmYHZf"
      },
      "source": [
        "The basic idea behind subword tokenization is to combine the best aspects of character and word tokenization. On the one hand, we want to split rare words into smaller units to allow the model to deal with complex words and misspellings. On the other hand, we want to keep frequent words as unique entities so that we can keep the length of our inputs to a manageable size. The main distinguishing feature of subword tokenization (as well as word tokenization) is that it is _learned_ from the pretraining corpus using a mix of statistical rules and algorithms.\n",
        "\n",
        "There are several subword tokenization algorithms that are commonly used in NLP, but let's start with WordPiece,footnote:[M. Schuster and K. Nakajima, \"Japanese and Korean Voice Search,\" _2012 IEEE International Conference on Acoustics, Speech and Signal Processing_ (2012): 5149–5152, https://doi.org/10.1109/ICASSP.2012.6289079.] which is used by the BERT and DistilBERT tokenizers. The easiest way to understand how WordPiece works is to see it in action. image:images/logo.png[hf,13,13] Transformers provides a convenient `AutoTokenizer` class that allows you to quickly load the tokenizer associated with a pretrained model—we just call its `from_pretrained()` method, providing the ID of a model on the Hub or a local file path. Let's start by loading the tokenizer for DistilBERT:"
      ]
    },
    {
      "cell_type": "code",
      "execution_count": 25,
      "metadata": {
        "id": "zHt1MSB3YHZg"
      },
      "outputs": [],
      "source": [
        "# hide_output\n",
        "from transformers import AutoTokenizer\n",
        "\n",
        "model_ckpt = \"distilbert-base-uncased\"\n",
        "tokenizer = AutoTokenizer.from_pretrained(model_ckpt)"
      ]
    },
    {
      "cell_type": "markdown",
      "metadata": {
        "id": "dCZAm71QYHZg"
      },
      "source": [
        "The `AutoTokenizer` class belongs to a larger set of [\"auto\" classes](https://huggingface.co/docs/transformers/model_doc/auto) whose job is to automatically retrieve the model's configuration, pretrained weights, or vocabulary from the name of the checkpoint. This allows you to quickly switch between models, but if you wish to load the specific class manually you can do so as well. For example, we could have loaded the DistilBERT tokenizer as follows:\n",
        "\n",
        "```python\n",
        "from transformers import DistilBertTokenizer\n",
        "\n",
        "distilbert_tokenizer = DistilBertTokenizer.from_pretrained(model_ckpt)\n",
        "```"
      ]
    },
    {
      "cell_type": "markdown",
      "metadata": {
        "id": "w3S6sU0fYHZg"
      },
      "source": [
        "> note: When you run the `AutoTokenizer.from_pretrained()` method for the first time you will see a progress bar that shows which parameters of the pretrained tokenizer are loaded from the Hugging Face Hub. When you run the code a second time, it will load the tokenizer from the cache, usually located at _~/.cache/huggingface/_."
      ]
    },
    {
      "cell_type": "markdown",
      "metadata": {
        "id": "ZsmzsNOiYHZg"
      },
      "source": [
        "Let's examine how this tokenizer works by feeding it our simple \"Tokenizing text is a core task of NLP.\" example text:"
      ]
    },
    {
      "cell_type": "code",
      "execution_count": 26,
      "metadata": {
        "id": "bPUqHA_tYHZg",
        "outputId": "6a47eba4-3aca-45ce-9090-c86c32f97fdf",
        "colab": {
          "base_uri": "https://localhost:8080/"
        }
      },
      "outputs": [
        {
          "output_type": "stream",
          "name": "stdout",
          "text": [
            "{'input_ids': [101, 19204, 6026, 3793, 2003, 1037, 4563, 4708, 1997, 17953,\n",
            "2361, 1012, 102], 'attention_mask': [1, 1, 1, 1, 1, 1, 1, 1, 1, 1, 1, 1, 1]}\n"
          ]
        }
      ],
      "source": [
        "encoded_text = tokenizer(text)\n",
        "print(encoded_text)"
      ]
    },
    {
      "cell_type": "markdown",
      "metadata": {
        "id": "tscNfTpEYHZg"
      },
      "source": [
        "Just like we saw with character tokenization, we can see that the words have been mapped to unique integers in the `input_ids` field. We'll discuss the role of the `attention_mask` field in the next section. Now that we have the `input_ids`, we can convert them back into tokens by using the tokenizer's `convert_ids_to_tokens()` method:"
      ]
    },
    {
      "cell_type": "code",
      "execution_count": 27,
      "metadata": {
        "id": "JxovGNpBYHZg",
        "outputId": "59dfbc83-5af0-426f-e49b-1e626cb41a81",
        "colab": {
          "base_uri": "https://localhost:8080/"
        }
      },
      "outputs": [
        {
          "output_type": "stream",
          "name": "stdout",
          "text": [
            "['[CLS]', 'token', '##izing', 'text', 'is', 'a', 'core', 'task', 'of', 'nl',\n",
            "'##p', '.', '[SEP]']\n"
          ]
        }
      ],
      "source": [
        "tokens = tokenizer.convert_ids_to_tokens(encoded_text.input_ids)\n",
        "print(tokens)"
      ]
    },
    {
      "cell_type": "markdown",
      "metadata": {
        "id": "7yctsl7tYHZh"
      },
      "source": [
        "We can observe three things here. First, some special `[CLS]` and `[SEP]` tokens have been added to the start and end of the sequence. These tokens differ from model to model, but their main role is to indicate the start and end of a sequence. Second, the tokens have each been lowercased, which is a feature of this particular checkpoint. Finally, we can see that \"tokenizing\" and \"NLP\" have been split into two tokens, which makes sense since they are not common words. The `##` prefix in `##izing` and `##p` means that the preceding string is not whitespace; any token with this prefix should be merged with the previous token when you convert the tokens back to a string. The `AutoTokenizer` class has a `convert_tokens_to_string()` method for doing just that, so let's apply it to our tokens:"
      ]
    },
    {
      "cell_type": "code",
      "execution_count": 28,
      "metadata": {
        "id": "pZzlpzkHYHZh",
        "outputId": "5c1b6cc9-1ade-4079-e170-baba66458c56",
        "colab": {
          "base_uri": "https://localhost:8080/"
        }
      },
      "outputs": [
        {
          "output_type": "stream",
          "name": "stdout",
          "text": [
            "[CLS] tokenizing text is a core task of nlp. [SEP]\n"
          ]
        }
      ],
      "source": [
        "print(tokenizer.convert_tokens_to_string(tokens))"
      ]
    },
    {
      "cell_type": "markdown",
      "metadata": {
        "id": "XS8qLf5UYHZh"
      },
      "source": [
        "The `AutoTokenizer` class also has several attributes that provide information about the tokenizer. For example, we can inspect the vocabulary size:"
      ]
    },
    {
      "cell_type": "code",
      "execution_count": 29,
      "metadata": {
        "id": "G6fLuP00YHZh",
        "outputId": "60e54195-5695-4678-ad19-4f4607be7c2f",
        "colab": {
          "base_uri": "https://localhost:8080/"
        }
      },
      "outputs": [
        {
          "output_type": "execute_result",
          "data": {
            "text/plain": [
              "30522"
            ]
          },
          "metadata": {},
          "execution_count": 29
        }
      ],
      "source": [
        "tokenizer.vocab_size"
      ]
    },
    {
      "cell_type": "markdown",
      "metadata": {
        "id": "bgWuNaX0YHZh"
      },
      "source": [
        "and the corresponding model's maximum context size:"
      ]
    },
    {
      "cell_type": "code",
      "execution_count": 30,
      "metadata": {
        "id": "CZZ9txKPYHZh",
        "outputId": "a07a1a5c-e4da-48f8-aea6-9cdf8a5747b8",
        "colab": {
          "base_uri": "https://localhost:8080/"
        }
      },
      "outputs": [
        {
          "output_type": "execute_result",
          "data": {
            "text/plain": [
              "512"
            ]
          },
          "metadata": {},
          "execution_count": 30
        }
      ],
      "source": [
        "tokenizer.model_max_length"
      ]
    },
    {
      "cell_type": "markdown",
      "metadata": {
        "id": "KAdaaOlAYHZh"
      },
      "source": [
        "Another interesting attribute to know about is the names of the fields that the model expects in its forward pass:"
      ]
    },
    {
      "cell_type": "code",
      "execution_count": 31,
      "metadata": {
        "id": "4Ds8vIn3YHZi",
        "outputId": "4ed46bda-d97b-450b-a918-ee04986cd00c",
        "colab": {
          "base_uri": "https://localhost:8080/"
        }
      },
      "outputs": [
        {
          "output_type": "execute_result",
          "data": {
            "text/plain": [
              "['input_ids', 'attention_mask']"
            ]
          },
          "metadata": {},
          "execution_count": 31
        }
      ],
      "source": [
        "tokenizer.model_input_names"
      ]
    },
    {
      "cell_type": "markdown",
      "metadata": {
        "id": "WipZ-WIPYHZi"
      },
      "source": [
        "Now that we have a basic understanding of the tokenization process for a single string, let's see how we can tokenize the whole dataset!"
      ]
    },
    {
      "cell_type": "markdown",
      "metadata": {
        "id": "98_IF_PVYHZi"
      },
      "source": [
        "> warning: When using pretrained models, it is _really_ important to make sure that you use the same tokenizer that the model was trained with. From the model's perspective, switching the tokenizer is like shuffling the vocabulary. If everyone around you started swapping random words like \"house\" for \"cat,\" you'd have a hard time understanding what was going on too!"
      ]
    },
    {
      "cell_type": "markdown",
      "metadata": {
        "id": "Dz6A3pVpYHZi"
      },
      "source": [
        "### Tokenizing the Whole Dataset"
      ]
    },
    {
      "cell_type": "markdown",
      "metadata": {
        "id": "iX8aC6CDYHZi"
      },
      "source": [
        "To tokenize the whole corpus, we'll use the `map()` method of our `DatasetDict` object. We'll encounter this method many times throughout this book, as it provides a convenient way to apply a processing function to each element in a dataset. As we'll soon see, the `map()` method can also be used to create new rows and columns.\n",
        "\n",
        "To get started, the first thing we need is a processing function to tokenize our examples with:"
      ]
    },
    {
      "cell_type": "code",
      "execution_count": 32,
      "metadata": {
        "id": "ObKaF8a6YHZi"
      },
      "outputs": [],
      "source": [
        "def tokenize(batch):\n",
        "    return tokenizer(batch[\"text\"], padding=True, truncation=True)"
      ]
    },
    {
      "cell_type": "markdown",
      "metadata": {
        "id": "x7Uj3kOrYHZi"
      },
      "source": [
        "This function applies the tokenizer to a batch of examples; `padding=True` will pad the examples with zeros to the size of the longest one in a batch, and `truncation=True` will truncate the examples to the model's maximum context size. To see `tokenize()` in action, let's pass a batch of two examples from the training set:"
      ]
    },
    {
      "cell_type": "code",
      "execution_count": 33,
      "metadata": {
        "id": "ksU6TzFTYHZi",
        "outputId": "e43e976d-1cb8-488b-d9ef-cc41e2f1bab1",
        "colab": {
          "base_uri": "https://localhost:8080/"
        }
      },
      "outputs": [
        {
          "output_type": "stream",
          "name": "stdout",
          "text": [
            "{'input_ids': [[101, 1045, 2134, 2102, 2514, 26608, 102, 0, 0, 0, 0, 0, 0, 0, 0,\n",
            "0, 0, 0, 0, 0, 0, 0, 0], [101, 1045, 2064, 2175, 2013, 3110, 2061, 20625, 2000,\n",
            "2061, 9636, 17772, 2074, 2013, 2108, 2105, 2619, 2040, 14977, 1998, 2003, 8300,\n",
            "102]], 'attention_mask': [[1, 1, 1, 1, 1, 1, 1, 0, 0, 0, 0, 0, 0, 0, 0, 0, 0, 0,\n",
            "0, 0, 0, 0, 0], [1, 1, 1, 1, 1, 1, 1, 1, 1, 1, 1, 1, 1, 1, 1, 1, 1, 1, 1, 1, 1,\n",
            "1, 1]]}\n"
          ]
        }
      ],
      "source": [
        "print(tokenize(emotions[\"train\"][:2]))"
      ]
    },
    {
      "cell_type": "markdown",
      "metadata": {
        "id": "33OJjfQAYHZj"
      },
      "source": [
        "Here we can see the result of padding: the first element of `input_ids` is shorter than the second, so zeros have been added to that element to make them the same length. These zeros have a corresponding `[PAD]` token in the vocabulary, and the set of special tokens also includes the `[CLS]` and `[SEP]` tokens that we encountered earlier:"
      ]
    },
    {
      "cell_type": "code",
      "execution_count": 34,
      "metadata": {
        "id": "TfeURweZYHZj",
        "outputId": "de1ced64-bc13-4eb2-87d9-104b4aa84f19",
        "colab": {
          "base_uri": "https://localhost:8080/",
          "height": 111
        }
      },
      "outputs": [
        {
          "output_type": "execute_result",
          "data": {
            "text/plain": [
              "                      0      1      2      3       4\n",
              "Special Token     [PAD]  [UNK]  [CLS]  [SEP]  [MASK]\n",
              "Special Token ID      0    100    101    102     103"
            ],
            "text/html": [
              "\n",
              "  <div id=\"df-f69f74e1-9e3d-4d3c-8567-8160ca9c76ee\" class=\"colab-df-container\">\n",
              "    <div>\n",
              "<style scoped>\n",
              "    .dataframe tbody tr th:only-of-type {\n",
              "        vertical-align: middle;\n",
              "    }\n",
              "\n",
              "    .dataframe tbody tr th {\n",
              "        vertical-align: top;\n",
              "    }\n",
              "\n",
              "    .dataframe thead th {\n",
              "        text-align: right;\n",
              "    }\n",
              "</style>\n",
              "<table border=\"1\" class=\"dataframe\">\n",
              "  <thead>\n",
              "    <tr style=\"text-align: right;\">\n",
              "      <th></th>\n",
              "      <th>0</th>\n",
              "      <th>1</th>\n",
              "      <th>2</th>\n",
              "      <th>3</th>\n",
              "      <th>4</th>\n",
              "    </tr>\n",
              "  </thead>\n",
              "  <tbody>\n",
              "    <tr>\n",
              "      <th>Special Token</th>\n",
              "      <td>[PAD]</td>\n",
              "      <td>[UNK]</td>\n",
              "      <td>[CLS]</td>\n",
              "      <td>[SEP]</td>\n",
              "      <td>[MASK]</td>\n",
              "    </tr>\n",
              "    <tr>\n",
              "      <th>Special Token ID</th>\n",
              "      <td>0</td>\n",
              "      <td>100</td>\n",
              "      <td>101</td>\n",
              "      <td>102</td>\n",
              "      <td>103</td>\n",
              "    </tr>\n",
              "  </tbody>\n",
              "</table>\n",
              "</div>\n",
              "    <div class=\"colab-df-buttons\">\n",
              "\n",
              "  <div class=\"colab-df-container\">\n",
              "    <button class=\"colab-df-convert\" onclick=\"convertToInteractive('df-f69f74e1-9e3d-4d3c-8567-8160ca9c76ee')\"\n",
              "            title=\"Convert this dataframe to an interactive table.\"\n",
              "            style=\"display:none;\">\n",
              "\n",
              "  <svg xmlns=\"http://www.w3.org/2000/svg\" height=\"24px\" viewBox=\"0 -960 960 960\">\n",
              "    <path d=\"M120-120v-720h720v720H120Zm60-500h600v-160H180v160Zm220 220h160v-160H400v160Zm0 220h160v-160H400v160ZM180-400h160v-160H180v160Zm440 0h160v-160H620v160ZM180-180h160v-160H180v160Zm440 0h160v-160H620v160Z\"/>\n",
              "  </svg>\n",
              "    </button>\n",
              "\n",
              "  <style>\n",
              "    .colab-df-container {\n",
              "      display:flex;\n",
              "      gap: 12px;\n",
              "    }\n",
              "\n",
              "    .colab-df-convert {\n",
              "      background-color: #E8F0FE;\n",
              "      border: none;\n",
              "      border-radius: 50%;\n",
              "      cursor: pointer;\n",
              "      display: none;\n",
              "      fill: #1967D2;\n",
              "      height: 32px;\n",
              "      padding: 0 0 0 0;\n",
              "      width: 32px;\n",
              "    }\n",
              "\n",
              "    .colab-df-convert:hover {\n",
              "      background-color: #E2EBFA;\n",
              "      box-shadow: 0px 1px 2px rgba(60, 64, 67, 0.3), 0px 1px 3px 1px rgba(60, 64, 67, 0.15);\n",
              "      fill: #174EA6;\n",
              "    }\n",
              "\n",
              "    .colab-df-buttons div {\n",
              "      margin-bottom: 4px;\n",
              "    }\n",
              "\n",
              "    [theme=dark] .colab-df-convert {\n",
              "      background-color: #3B4455;\n",
              "      fill: #D2E3FC;\n",
              "    }\n",
              "\n",
              "    [theme=dark] .colab-df-convert:hover {\n",
              "      background-color: #434B5C;\n",
              "      box-shadow: 0px 1px 3px 1px rgba(0, 0, 0, 0.15);\n",
              "      filter: drop-shadow(0px 1px 2px rgba(0, 0, 0, 0.3));\n",
              "      fill: #FFFFFF;\n",
              "    }\n",
              "  </style>\n",
              "\n",
              "    <script>\n",
              "      const buttonEl =\n",
              "        document.querySelector('#df-f69f74e1-9e3d-4d3c-8567-8160ca9c76ee button.colab-df-convert');\n",
              "      buttonEl.style.display =\n",
              "        google.colab.kernel.accessAllowed ? 'block' : 'none';\n",
              "\n",
              "      async function convertToInteractive(key) {\n",
              "        const element = document.querySelector('#df-f69f74e1-9e3d-4d3c-8567-8160ca9c76ee');\n",
              "        const dataTable =\n",
              "          await google.colab.kernel.invokeFunction('convertToInteractive',\n",
              "                                                    [key], {});\n",
              "        if (!dataTable) return;\n",
              "\n",
              "        const docLinkHtml = 'Like what you see? Visit the ' +\n",
              "          '<a target=\"_blank\" href=https://colab.research.google.com/notebooks/data_table.ipynb>data table notebook</a>'\n",
              "          + ' to learn more about interactive tables.';\n",
              "        element.innerHTML = '';\n",
              "        dataTable['output_type'] = 'display_data';\n",
              "        await google.colab.output.renderOutput(dataTable, element);\n",
              "        const docLink = document.createElement('div');\n",
              "        docLink.innerHTML = docLinkHtml;\n",
              "        element.appendChild(docLink);\n",
              "      }\n",
              "    </script>\n",
              "  </div>\n",
              "\n",
              "\n",
              "<div id=\"df-9a96681e-1fbb-45d2-8df0-e45204dbf51a\">\n",
              "  <button class=\"colab-df-quickchart\" onclick=\"quickchart('df-9a96681e-1fbb-45d2-8df0-e45204dbf51a')\"\n",
              "            title=\"Suggest charts\"\n",
              "            style=\"display:none;\">\n",
              "\n",
              "<svg xmlns=\"http://www.w3.org/2000/svg\" height=\"24px\"viewBox=\"0 0 24 24\"\n",
              "     width=\"24px\">\n",
              "    <g>\n",
              "        <path d=\"M19 3H5c-1.1 0-2 .9-2 2v14c0 1.1.9 2 2 2h14c1.1 0 2-.9 2-2V5c0-1.1-.9-2-2-2zM9 17H7v-7h2v7zm4 0h-2V7h2v10zm4 0h-2v-4h2v4z\"/>\n",
              "    </g>\n",
              "</svg>\n",
              "  </button>\n",
              "\n",
              "<style>\n",
              "  .colab-df-quickchart {\n",
              "      --bg-color: #E8F0FE;\n",
              "      --fill-color: #1967D2;\n",
              "      --hover-bg-color: #E2EBFA;\n",
              "      --hover-fill-color: #174EA6;\n",
              "      --disabled-fill-color: #AAA;\n",
              "      --disabled-bg-color: #DDD;\n",
              "  }\n",
              "\n",
              "  [theme=dark] .colab-df-quickchart {\n",
              "      --bg-color: #3B4455;\n",
              "      --fill-color: #D2E3FC;\n",
              "      --hover-bg-color: #434B5C;\n",
              "      --hover-fill-color: #FFFFFF;\n",
              "      --disabled-bg-color: #3B4455;\n",
              "      --disabled-fill-color: #666;\n",
              "  }\n",
              "\n",
              "  .colab-df-quickchart {\n",
              "    background-color: var(--bg-color);\n",
              "    border: none;\n",
              "    border-radius: 50%;\n",
              "    cursor: pointer;\n",
              "    display: none;\n",
              "    fill: var(--fill-color);\n",
              "    height: 32px;\n",
              "    padding: 0;\n",
              "    width: 32px;\n",
              "  }\n",
              "\n",
              "  .colab-df-quickchart:hover {\n",
              "    background-color: var(--hover-bg-color);\n",
              "    box-shadow: 0 1px 2px rgba(60, 64, 67, 0.3), 0 1px 3px 1px rgba(60, 64, 67, 0.15);\n",
              "    fill: var(--button-hover-fill-color);\n",
              "  }\n",
              "\n",
              "  .colab-df-quickchart-complete:disabled,\n",
              "  .colab-df-quickchart-complete:disabled:hover {\n",
              "    background-color: var(--disabled-bg-color);\n",
              "    fill: var(--disabled-fill-color);\n",
              "    box-shadow: none;\n",
              "  }\n",
              "\n",
              "  .colab-df-spinner {\n",
              "    border: 2px solid var(--fill-color);\n",
              "    border-color: transparent;\n",
              "    border-bottom-color: var(--fill-color);\n",
              "    animation:\n",
              "      spin 1s steps(1) infinite;\n",
              "  }\n",
              "\n",
              "  @keyframes spin {\n",
              "    0% {\n",
              "      border-color: transparent;\n",
              "      border-bottom-color: var(--fill-color);\n",
              "      border-left-color: var(--fill-color);\n",
              "    }\n",
              "    20% {\n",
              "      border-color: transparent;\n",
              "      border-left-color: var(--fill-color);\n",
              "      border-top-color: var(--fill-color);\n",
              "    }\n",
              "    30% {\n",
              "      border-color: transparent;\n",
              "      border-left-color: var(--fill-color);\n",
              "      border-top-color: var(--fill-color);\n",
              "      border-right-color: var(--fill-color);\n",
              "    }\n",
              "    40% {\n",
              "      border-color: transparent;\n",
              "      border-right-color: var(--fill-color);\n",
              "      border-top-color: var(--fill-color);\n",
              "    }\n",
              "    60% {\n",
              "      border-color: transparent;\n",
              "      border-right-color: var(--fill-color);\n",
              "    }\n",
              "    80% {\n",
              "      border-color: transparent;\n",
              "      border-right-color: var(--fill-color);\n",
              "      border-bottom-color: var(--fill-color);\n",
              "    }\n",
              "    90% {\n",
              "      border-color: transparent;\n",
              "      border-bottom-color: var(--fill-color);\n",
              "    }\n",
              "  }\n",
              "</style>\n",
              "\n",
              "  <script>\n",
              "    async function quickchart(key) {\n",
              "      const quickchartButtonEl =\n",
              "        document.querySelector('#' + key + ' button');\n",
              "      quickchartButtonEl.disabled = true;  // To prevent multiple clicks.\n",
              "      quickchartButtonEl.classList.add('colab-df-spinner');\n",
              "      try {\n",
              "        const charts = await google.colab.kernel.invokeFunction(\n",
              "            'suggestCharts', [key], {});\n",
              "      } catch (error) {\n",
              "        console.error('Error during call to suggestCharts:', error);\n",
              "      }\n",
              "      quickchartButtonEl.classList.remove('colab-df-spinner');\n",
              "      quickchartButtonEl.classList.add('colab-df-quickchart-complete');\n",
              "    }\n",
              "    (() => {\n",
              "      let quickchartButtonEl =\n",
              "        document.querySelector('#df-9a96681e-1fbb-45d2-8df0-e45204dbf51a button');\n",
              "      quickchartButtonEl.style.display =\n",
              "        google.colab.kernel.accessAllowed ? 'block' : 'none';\n",
              "    })();\n",
              "  </script>\n",
              "</div>\n",
              "\n",
              "    </div>\n",
              "  </div>\n"
            ],
            "application/vnd.google.colaboratory.intrinsic+json": {
              "type": "dataframe",
              "summary": "{\n  \"name\": \"df\",\n  \"rows\": 2,\n  \"fields\": [\n    {\n      \"column\": 0,\n      \"properties\": {\n        \"dtype\": \"string\",\n        \"num_unique_values\": 2,\n        \"samples\": [\n          0,\n          \"[PAD]\"\n        ],\n        \"semantic_type\": \"\",\n        \"description\": \"\"\n      }\n    },\n    {\n      \"column\": 1,\n      \"properties\": {\n        \"dtype\": \"string\",\n        \"num_unique_values\": 2,\n        \"samples\": [\n          100,\n          \"[UNK]\"\n        ],\n        \"semantic_type\": \"\",\n        \"description\": \"\"\n      }\n    },\n    {\n      \"column\": 2,\n      \"properties\": {\n        \"dtype\": \"string\",\n        \"num_unique_values\": 2,\n        \"samples\": [\n          101,\n          \"[CLS]\"\n        ],\n        \"semantic_type\": \"\",\n        \"description\": \"\"\n      }\n    },\n    {\n      \"column\": 3,\n      \"properties\": {\n        \"dtype\": \"string\",\n        \"num_unique_values\": 2,\n        \"samples\": [\n          102,\n          \"[SEP]\"\n        ],\n        \"semantic_type\": \"\",\n        \"description\": \"\"\n      }\n    },\n    {\n      \"column\": 4,\n      \"properties\": {\n        \"dtype\": \"string\",\n        \"num_unique_values\": 2,\n        \"samples\": [\n          103,\n          \"[MASK]\"\n        ],\n        \"semantic_type\": \"\",\n        \"description\": \"\"\n      }\n    }\n  ]\n}"
            }
          },
          "metadata": {},
          "execution_count": 34
        }
      ],
      "source": [
        "#hide_input\n",
        "tokens2ids = list(zip(tokenizer.all_special_tokens, tokenizer.all_special_ids))\n",
        "data = sorted(tokens2ids, key=lambda x : x[-1])\n",
        "df = pd.DataFrame(data, columns=[\"Special Token\", \"Special Token ID\"])\n",
        "df.T"
      ]
    },
    {
      "cell_type": "markdown",
      "metadata": {
        "id": "cZFUVRffYHZj"
      },
      "source": [
        "Also note that in addition to returning the encoded tweets as `input_ids`, the tokenizer returns a list of `attention_mask` arrays. This is because we do not want the model to get confused by the additional padding tokens: the attention mask allows the model to ignore the padded parts of the input. <<attention-mask>> provides a visual explanation of how the input IDs and attention masks are padded.\n",
        "\n",
        "<img alt=\"attention-mask\" caption=\"For each batch, the input sequences are padded to the maximum sequence length in the batch; the attention mask is used in the model to ignore the padded areas of the input tensors\" src=\"https://github.com/nlp-with-transformers/notebooks/blob/main/images/chapter02_attention-mask.png?raw=1\" id=\"attention-mask\"/>"
      ]
    },
    {
      "cell_type": "markdown",
      "metadata": {
        "id": "l5TJDYrVYHZj"
      },
      "source": [
        "Once we've defined a processing function, we can apply it across all the splits in the corpus in a single line of code:"
      ]
    },
    {
      "cell_type": "code",
      "execution_count": 35,
      "metadata": {
        "id": "p2C8EjOiYHZj"
      },
      "outputs": [],
      "source": [
        "# hide_output\n",
        "emotions_encoded = emotions.map(tokenize, batched=True, batch_size=None)"
      ]
    },
    {
      "cell_type": "markdown",
      "metadata": {
        "id": "DxR77dMXYHZj"
      },
      "source": [
        "By default, the `map()` method operates individually on every example in the corpus, so setting `batched=True` will encode the tweets in batches. Because we've set `batch_size=None`, our `tokenize()` function will be applied on the full dataset as a single batch. This ensures that the input tensors and attention masks have the same shape globally, and we can see that this operation has added new `input_ids` and `attention_mask` columns to the dataset:"
      ]
    },
    {
      "cell_type": "code",
      "execution_count": 36,
      "metadata": {
        "id": "v4bl2_kVYHZj",
        "outputId": "b3c1c5de-8882-49de-c0de-e062ddb41156",
        "colab": {
          "base_uri": "https://localhost:8080/"
        }
      },
      "outputs": [
        {
          "output_type": "stream",
          "name": "stdout",
          "text": [
            "['text', 'label', 'input_ids', 'attention_mask']\n"
          ]
        }
      ],
      "source": [
        "print(emotions_encoded[\"train\"].column_names)"
      ]
    },
    {
      "cell_type": "markdown",
      "metadata": {
        "id": "h9D-surbYHZj"
      },
      "source": [
        "> Note: In later chapters, we'll see how _data collators_ can be used to dynamically pad the tensors in each batch. Padding globally will come in handy in the next section, where we extract a feature matrix from the whole corpus."
      ]
    },
    {
      "cell_type": "markdown",
      "metadata": {
        "id": "twowzyHXYHZk"
      },
      "source": [
        "## Training a Text Classifier"
      ]
    },
    {
      "cell_type": "markdown",
      "metadata": {
        "id": "Y2t6_T6vYHZk"
      },
      "source": [
        "As discussed in <<chapter_introduction>>, models like DistilBERT are pretrained to predict masked words in a sequence of text. However, we can't use these language models directly for text classification; we need to modify them slightly. To understand what modifications are necessary, let's take a look at the architecture of an encoder-based model like DistilBERT, which is depicted in <<encoder-classifier>>."
      ]
    },
    {
      "cell_type": "markdown",
      "metadata": {
        "id": "cTC0nmqqYHZk"
      },
      "source": [
        "<img alt=\"encoder-classifier\" caption=\"The architecture used for sequence classification with an encoder-based transformer; it consists of the model's pretrained body (blue) combined with a custom classification head (orange)\" src=\"https://github.com/nlp-with-transformers/notebooks/blob/main/images/chapter02_encoder-classifier.png?raw=1\" id=\"encoder-classifier\"/>"
      ]
    },
    {
      "cell_type": "markdown",
      "metadata": {
        "id": "w9l0j168YHZk"
      },
      "source": [
        "First, the text is tokenized and represented as one-hot vectors called _token encodings_. The size of the tokenizer vocabulary determines the dimension of the token encodings, and it usually consists of 20k–200k unique tokens. Next, these token encodings are converted to _token embeddings_, which are vectors living in a lower-dimensional space. The token embeddings are then passed through the encoder block layers to yield a _hidden state_ for each input token. For the pretraining objective of language modeling,&#x2060;footnote:[In the case of DistilBERT, it's guessing the masked tokens.] each hidden state is fed to a layer that predicts the masked input tokens. For the classification task, we replace the language modeling layer with a classification layer."
      ]
    },
    {
      "cell_type": "markdown",
      "metadata": {
        "id": "SgweRPnSYHZk"
      },
      "source": [
        "> note: In practice, PyTorch skips the step of creating one-hot vectors for token encodings because multiplying a matrix with a one-hot vector is the same as selecting a column from the matrix. This can be done directly by getting the column with the token ID from the matrix. We'll see this in <<chapter_anatomy>> when we use the `nn.Embedding` class."
      ]
    },
    {
      "cell_type": "markdown",
      "metadata": {
        "id": "vq8v9hXgYHZk"
      },
      "source": [
        "We have two options to train such a model on our Twitter dataset:\n",
        "\n",
        "- _Feature extraction_:: We use the hidden states as features and just train a classifier on them, without modifying the pretrained model.\n",
        "- _Fine-tuning_:: We train the whole model end-to-end, which also updates the parameters of the pretrained model.\n",
        "\n",
        "In the following sections we explore both options for DistilBERT and examine their trade-offs."
      ]
    },
    {
      "cell_type": "markdown",
      "metadata": {
        "id": "x1Us9Co3YHZk"
      },
      "source": [
        "### Transformers as Feature Extractors"
      ]
    },
    {
      "cell_type": "markdown",
      "metadata": {
        "id": "Mn7Zc8JbYHZk"
      },
      "source": [
        "\n",
        "Using a transformer as a feature extractor is fairly simple. As shown in <<encoder-features>>, we freeze the body's weights during training and use the hidden states as features for the classifier. The advantage of this approach is that we can quickly train a small or shallow model. Such a model could be a neural classification layer or a method that does not rely on gradients, such as a random forest. This method is especially convenient if GPUs are unavailable, since the hidden states only need to be precomputed once."
      ]
    },
    {
      "cell_type": "markdown",
      "metadata": {
        "id": "KiWbScK9YHZk"
      },
      "source": [
        "<img alt=\"encoder-features\" caption=\"In the feature-based approach, the DistilBERT model is frozen and just provides features for a classifier\" src=\"https://github.com/nlp-with-transformers/notebooks/blob/main/images/chapter02_encoder-feature-based.png?raw=1\" id=\"encoder-features\"/>"
      ]
    },
    {
      "cell_type": "markdown",
      "metadata": {
        "id": "sNX2G9a4YHZl"
      },
      "source": [
        "#### Using pretrained models"
      ]
    },
    {
      "cell_type": "markdown",
      "metadata": {
        "id": "pl1CppEaYHZl"
      },
      "source": [
        "\n",
        "We will use another convenient auto class from image:images/logo.png[hf,13,13] Transformers called `AutoModel`. Similar to the `AutoTokenizer` class, `AutoModel` has a `from_pretrained()` method to load the weights of a pretrained model. Let's use this method to load the DistilBERT checkpoint:"
      ]
    },
    {
      "cell_type": "code",
      "execution_count": 37,
      "metadata": {
        "id": "QlvjQYx0YHZl"
      },
      "outputs": [],
      "source": [
        "# hide_output\n",
        "from transformers import AutoModel\n",
        "\n",
        "model_ckpt = \"distilbert-base-uncased\"\n",
        "device = torch.device(\"cuda\" if torch.cuda.is_available() else \"cpu\")\n",
        "model = AutoModel.from_pretrained(model_ckpt).to(device)"
      ]
    },
    {
      "cell_type": "markdown",
      "metadata": {
        "id": "4cGdsDAGYHZl"
      },
      "source": [
        "Here we've used PyTorch to check whether a GPU is available or not, and then chained the PyTorch `nn.Module.to()` method to the model loader. This ensures that the model will run on the GPU if we have one. If not, the model will run on the CPU, which can be considerably slower."
      ]
    },
    {
      "cell_type": "markdown",
      "metadata": {
        "id": "Qsj8YjFpYHZl"
      },
      "source": [
        "The `AutoModel` class converts the token encodings to embeddings, and then feeds them through the encoder stack to return the hidden states. Let's take a look at how we can extract these states from our corpus."
      ]
    },
    {
      "cell_type": "markdown",
      "metadata": {
        "id": "J52ZF5wmYHZm"
      },
      "source": [
        "#### Extracting the last hidden states"
      ]
    },
    {
      "cell_type": "markdown",
      "metadata": {
        "id": "z3Oyg-UEYHZm"
      },
      "source": [
        "To warm up, let's retrieve the last hidden states for a single string. The first thing we need to do is encode the string and convert the tokens to PyTorch tensors. This can be done by providing the `return_tensors=\"pt\"` argument to the tokenizer as follows:"
      ]
    },
    {
      "cell_type": "code",
      "execution_count": 38,
      "metadata": {
        "id": "zS1-aBssYHZm",
        "outputId": "161d8ff1-41e8-43e4-c8fe-ad36f00395bf",
        "colab": {
          "base_uri": "https://localhost:8080/"
        }
      },
      "outputs": [
        {
          "output_type": "stream",
          "name": "stdout",
          "text": [
            "Input tensor shape: torch.Size([1, 6])\n"
          ]
        }
      ],
      "source": [
        "text = \"this is a test\"\n",
        "inputs = tokenizer(text, return_tensors=\"pt\")\n",
        "print(f\"Input tensor shape: {inputs['input_ids'].size()}\")"
      ]
    },
    {
      "cell_type": "markdown",
      "metadata": {
        "id": "GvsD_17uYHZm"
      },
      "source": [
        "As we can see, the resulting tensor has the shape `[batch_size, n_tokens]`. Now that we have the encodings as a tensor, the final step is to place them on the same device as the model and pass the inputs as follows:"
      ]
    },
    {
      "cell_type": "code",
      "execution_count": 39,
      "metadata": {
        "id": "qEhCVfn5YHZm",
        "outputId": "9f59b977-446e-408c-b6d0-c613a86189b0",
        "colab": {
          "base_uri": "https://localhost:8080/"
        }
      },
      "outputs": [
        {
          "output_type": "stream",
          "name": "stdout",
          "text": [
            "BaseModelOutput(last_hidden_state=tensor([[[-0.1565, -0.1862,  0.0528,  ...,\n",
            "-0.1188,  0.0662,  0.5470],\n",
            "         [-0.3575, -0.6484, -0.0618,  ..., -0.3040,  0.3508,  0.5221],\n",
            "         [-0.2772, -0.4459,  0.1818,  ..., -0.0948, -0.0076,  0.9958],\n",
            "         [-0.2841, -0.3917,  0.3753,  ..., -0.2151, -0.1173,  1.0526],\n",
            "         [ 0.2661, -0.5094, -0.3180,  ..., -0.4203,  0.0144, -0.2149],\n",
            "         [ 0.9441,  0.0112, -0.4714,  ...,  0.1439, -0.7288, -0.1619]]],\n",
            "       device='cuda:0'), hidden_states=None, attentions=None)\n"
          ]
        }
      ],
      "source": [
        "inputs = {k:v.to(device) for k,v in inputs.items()}\n",
        "with torch.no_grad():\n",
        "    outputs = model(**inputs)\n",
        "print(outputs)"
      ]
    },
    {
      "cell_type": "markdown",
      "metadata": {
        "id": "kn6hq8P-YHZm"
      },
      "source": [
        "Here we've used the `torch.no_grad()` context manager to disable the automatic calculation of the gradient. This is useful for inference since it reduces the memory footprint of the computations. Depending on the model configuration, the output can contain several objects, such as the hidden states, losses, or attentions, arranged in a class similar to a `namedtuple` in Python. In our example, the model output is an instance of `BaseModelOutput`, and we can simply access its attributes by name. The current model returns only one attribute, which is the last hidden state, so let's examine its shape:"
      ]
    },
    {
      "cell_type": "code",
      "execution_count": 40,
      "metadata": {
        "id": "SPZzRlEmYHZm",
        "outputId": "4df0b220-319b-4cd7-cda2-479f32e8d3b8",
        "colab": {
          "base_uri": "https://localhost:8080/"
        }
      },
      "outputs": [
        {
          "output_type": "execute_result",
          "data": {
            "text/plain": [
              "torch.Size([1, 6, 768])"
            ]
          },
          "metadata": {},
          "execution_count": 40
        }
      ],
      "source": [
        "outputs.last_hidden_state.size()"
      ]
    },
    {
      "cell_type": "markdown",
      "metadata": {
        "id": "D8ixQ-OIYHZn"
      },
      "source": [
        "Looking at the hidden state tensor, we see that it has the shape `[batch_size, n_tokens, hidden_dim]`. In other words, a 768-dimensional vector is returned for each of the 6 input tokens. For classification tasks, it is common practice to just use the hidden state associated with the `[CLS]` token as the input feature. Since this token appears at the start of each sequence, we can extract it by simply indexing into `outputs.last_hidden_state` as follows:"
      ]
    },
    {
      "cell_type": "code",
      "execution_count": 41,
      "metadata": {
        "id": "jaF5mLDpYHZn",
        "outputId": "19863c4a-d195-4a93-e3e9-a044d9cff394",
        "colab": {
          "base_uri": "https://localhost:8080/"
        }
      },
      "outputs": [
        {
          "output_type": "execute_result",
          "data": {
            "text/plain": [
              "torch.Size([1, 768])"
            ]
          },
          "metadata": {},
          "execution_count": 41
        }
      ],
      "source": [
        "outputs.last_hidden_state[:,0].size()"
      ]
    },
    {
      "cell_type": "markdown",
      "metadata": {
        "id": "-tJQqquaYHZn"
      },
      "source": [
        "Now that we know how to get the last hidden state for a single string, let's do the same thing for the whole dataset by creating a new `hidden_state` column that stores all these vectors. As we did with the tokenizer, we'll use the `map()` method of `DatasetDict` to extract all the hidden states in one go. The first thing we need to do is wrap the previous steps in a processing function:"
      ]
    },
    {
      "cell_type": "code",
      "execution_count": 42,
      "metadata": {
        "id": "NWt8kNZoYHZn"
      },
      "outputs": [],
      "source": [
        "def extract_hidden_states(batch):\n",
        "    # Place model inputs on the GPU\n",
        "    inputs = {k:v.to(device) for k,v in batch.items()\n",
        "              if k in tokenizer.model_input_names}\n",
        "    # Extract last hidden states\n",
        "    with torch.no_grad():\n",
        "        last_hidden_state = model(**inputs).last_hidden_state\n",
        "    # Return vector for [CLS] token\n",
        "    return {\"hidden_state\": last_hidden_state[:,0].cpu().numpy()}"
      ]
    },
    {
      "cell_type": "markdown",
      "metadata": {
        "id": "Iy9SPhhfYHZn"
      },
      "source": [
        "The only difference between this function and our previous logic is the final step where we place the final hidden state back on the CPU as a NumPy array. The `map()` method requires the processing function to return Python or NumPy objects when we're using batched inputs.\n",
        "\n",
        "Since our model expects tensors as inputs, the next thing to do is convert the `input_ids` and `attention_mask` columns to the `\"torch\"` format, as follows:"
      ]
    },
    {
      "cell_type": "code",
      "execution_count": 43,
      "metadata": {
        "id": "HaRjENL_YHZn"
      },
      "outputs": [],
      "source": [
        "emotions_encoded.set_format(\"torch\",\n",
        "                            columns=[\"input_ids\", \"attention_mask\", \"label\"])"
      ]
    },
    {
      "cell_type": "markdown",
      "metadata": {
        "id": "89WQ_1W-YHZn"
      },
      "source": [
        "We can then go ahead and extract the hidden states across all splits in one go:"
      ]
    },
    {
      "cell_type": "code",
      "execution_count": 44,
      "metadata": {
        "id": "W0VfwuXPYHZn",
        "outputId": "4a4dc2e5-edbf-43e6-893c-967a9e463152",
        "colab": {
          "referenced_widgets": [
            "d674d2dbdc88433e98739cb0fc5a2a6f",
            "72a535833d52421faebacb207dbbaa75",
            "0b15b834eae140e78faf29220f5e4402",
            "99d8d62f666242aaa484abc5b38086bf",
            "83aadd5e3f974da4a25943d0147bcc03",
            "9a8f8b9490c546aaaa416f94ef3e8ca1",
            "3064c669b28c4c03bfb55b41751f02fd",
            "130920df59e543afbcd3d2c981f22426",
            "1a5d9d1334914c569831a3d9d82489bd",
            "cf867a9057c24100bd99bf9053f9bd39",
            "d1fcdc696ba84e299c2f3b8b7578bcdd",
            "bc39b4c704b64a798dbdfbfc2b3bcbae",
            "8eb00a58a2ee4789b23bb79c8fd3ef65",
            "fd289563b42b4f3f95a5dd5be6edc534",
            "c5354afdbbca496da70907a65bb4d8be",
            "d3dab9f378044a0389e82d6a30366c37",
            "6be5b30f999c4360bac414079531b9d3",
            "f4c7fbaa3eca42ff92c086872c5deb2c",
            "f5e0880df5024776a49e4aa73c31553f",
            "4e4f143f797c4f94a0d09a5ea6f6076e",
            "ad911132b52f40048eb087db06e920cf",
            "e008e88b5e5a4f74a983f872a90a6bfe",
            "e2ed02dfe88d447a84f69124b2b57aec",
            "e03ee832de90437b969b7af201cd669a",
            "fbead73977734afea79d9afc9b13a5b4",
            "9a19103bfd814dd7bb6be56c44175893",
            "6cc4857f95d54c7d8e916e7f518a896a",
            "68389f529ac241f4aa1fc95b808d3d5a",
            "54fd0e03e8f846f5b098ed72838f6e8c",
            "d26cb0e23f9e46d593d28938ad7b9201",
            "fc390c35aafb433dac9f708339a21e27",
            "7e9283ce8dff4777b6a5741c28dc93d2",
            "e168aad3cd35494090c9f27d5838c9e4"
          ],
          "base_uri": "https://localhost:8080/",
          "height": 113
        }
      },
      "outputs": [
        {
          "output_type": "display_data",
          "data": {
            "text/plain": [
              "Map:   0%|          | 0/16000 [00:00<?, ? examples/s]"
            ],
            "application/vnd.jupyter.widget-view+json": {
              "version_major": 2,
              "version_minor": 0,
              "model_id": "d674d2dbdc88433e98739cb0fc5a2a6f"
            }
          },
          "metadata": {}
        },
        {
          "output_type": "display_data",
          "data": {
            "text/plain": [
              "Map:   0%|          | 0/2000 [00:00<?, ? examples/s]"
            ],
            "application/vnd.jupyter.widget-view+json": {
              "version_major": 2,
              "version_minor": 0,
              "model_id": "bc39b4c704b64a798dbdfbfc2b3bcbae"
            }
          },
          "metadata": {}
        },
        {
          "output_type": "display_data",
          "data": {
            "text/plain": [
              "Map:   0%|          | 0/2000 [00:00<?, ? examples/s]"
            ],
            "application/vnd.jupyter.widget-view+json": {
              "version_major": 2,
              "version_minor": 0,
              "model_id": "e2ed02dfe88d447a84f69124b2b57aec"
            }
          },
          "metadata": {}
        }
      ],
      "source": [
        "#hide_output\n",
        "emotions_hidden = emotions_encoded.map(extract_hidden_states, batched=True)"
      ]
    },
    {
      "cell_type": "markdown",
      "metadata": {
        "id": "9iJB5YtiYHZo"
      },
      "source": [
        "Note that we did not set `batch_size=None` in this case, so the default `batch_size=1000` is used instead. As expected, applying the +extract_&#x200b;hid&#x2060;den_&#x200b;states()+ function has added a new `hidden_state` column to our dataset:"
      ]
    },
    {
      "cell_type": "code",
      "execution_count": 45,
      "metadata": {
        "id": "rzbHsPeXYHZo",
        "outputId": "6b5dcdb6-5435-44c9-8d0f-1a51e0eade7b",
        "colab": {
          "base_uri": "https://localhost:8080/"
        }
      },
      "outputs": [
        {
          "output_type": "execute_result",
          "data": {
            "text/plain": [
              "['text', 'label', 'input_ids', 'attention_mask', 'hidden_state']"
            ]
          },
          "metadata": {},
          "execution_count": 45
        }
      ],
      "source": [
        "emotions_hidden[\"train\"].column_names"
      ]
    },
    {
      "cell_type": "markdown",
      "metadata": {
        "id": "gGipAIQcYHZo"
      },
      "source": [
        "Now that we have the hidden states associated with each tweet, the next step is to train a classifier on them. To do that, we'll need a feature matrix - let's take a look."
      ]
    },
    {
      "cell_type": "markdown",
      "metadata": {
        "id": "TyPQKsoqYHZo"
      },
      "source": [
        "#### Creating a feature matrix"
      ]
    },
    {
      "cell_type": "markdown",
      "metadata": {
        "id": "hdNTPLd9YHZo"
      },
      "source": [
        "The preprocessed dataset now contains all the information we need to train a classifier on it. We will use the hidden states as input features and the labels as targets. We can easily create the corresponding arrays in the well-known Scikit-Learn format as follows:"
      ]
    },
    {
      "cell_type": "code",
      "execution_count": 46,
      "metadata": {
        "id": "5JRjXGPnYHZo",
        "outputId": "2dea2a89-53fa-4e78-c856-d2b51df36a16",
        "colab": {
          "base_uri": "https://localhost:8080/"
        }
      },
      "outputs": [
        {
          "output_type": "execute_result",
          "data": {
            "text/plain": [
              "((16000, 768), (2000, 768))"
            ]
          },
          "metadata": {},
          "execution_count": 46
        }
      ],
      "source": [
        "import numpy as np\n",
        "\n",
        "X_train = np.array(emotions_hidden[\"train\"][\"hidden_state\"])\n",
        "X_valid = np.array(emotions_hidden[\"validation\"][\"hidden_state\"])\n",
        "y_train = np.array(emotions_hidden[\"train\"][\"label\"])\n",
        "y_valid = np.array(emotions_hidden[\"validation\"][\"label\"])\n",
        "X_train.shape, X_valid.shape"
      ]
    },
    {
      "cell_type": "markdown",
      "metadata": {
        "id": "q-qVrq09YHZo"
      },
      "source": [
        "Before we train a model on the hidden states, it's good practice to perform a sanity check to ensure that they provide a useful representation of the emotions we want to classify. In the next section, we'll see how visualizing the features provides a fast way to achieve this."
      ]
    },
    {
      "cell_type": "markdown",
      "metadata": {
        "id": "KqBUP2iBYHZo"
      },
      "source": [
        "#### Visualizing the training set"
      ]
    },
    {
      "cell_type": "markdown",
      "metadata": {
        "id": "pt3FgqeYYHZo"
      },
      "source": [
        "Since visualizing the hidden states in 768 dimensions is tricky to say the least, we'll use the powerful UMAPfootnote:[L. McInnes, J. Healy, and J. Melville, [\"UMAP: Uniform Manifold Approximation and Projection for Dimension Reduction\"](https://arxiv.org/abs/1802.03426), (2018).] algorithm to project the vectors down to 2D.  Since UMAP works best when the features are scaled to lie in the [0,1] interval, we'll first apply a `MinMaxScaler` and then use the UMAP implementation from the `umap-learn` library to reduce the hidden states:"
      ]
    },
    {
      "cell_type": "code",
      "execution_count": 47,
      "metadata": {
        "id": "3eAiWRrUYHZp",
        "outputId": "8fd1a2b9-858f-401c-b3d3-95a6119bdb04",
        "colab": {
          "base_uri": "https://localhost:8080/",
          "height": 204
        }
      },
      "outputs": [
        {
          "output_type": "execute_result",
          "data": {
            "text/plain": [
              "          X         Y  label\n",
              "0  4.588121  6.124313      0\n",
              "1 -2.705314  5.648994      0\n",
              "2  5.436605  2.636023      3\n",
              "3 -2.192183  3.401024      2\n",
              "4 -3.162838  3.711373      3"
            ],
            "text/html": [
              "\n",
              "  <div id=\"df-274bcdfd-59e2-401d-9393-c2816e7aa1ea\" class=\"colab-df-container\">\n",
              "    <div>\n",
              "<style scoped>\n",
              "    .dataframe tbody tr th:only-of-type {\n",
              "        vertical-align: middle;\n",
              "    }\n",
              "\n",
              "    .dataframe tbody tr th {\n",
              "        vertical-align: top;\n",
              "    }\n",
              "\n",
              "    .dataframe thead th {\n",
              "        text-align: right;\n",
              "    }\n",
              "</style>\n",
              "<table border=\"1\" class=\"dataframe\">\n",
              "  <thead>\n",
              "    <tr style=\"text-align: right;\">\n",
              "      <th></th>\n",
              "      <th>X</th>\n",
              "      <th>Y</th>\n",
              "      <th>label</th>\n",
              "    </tr>\n",
              "  </thead>\n",
              "  <tbody>\n",
              "    <tr>\n",
              "      <th>0</th>\n",
              "      <td>4.588121</td>\n",
              "      <td>6.124313</td>\n",
              "      <td>0</td>\n",
              "    </tr>\n",
              "    <tr>\n",
              "      <th>1</th>\n",
              "      <td>-2.705314</td>\n",
              "      <td>5.648994</td>\n",
              "      <td>0</td>\n",
              "    </tr>\n",
              "    <tr>\n",
              "      <th>2</th>\n",
              "      <td>5.436605</td>\n",
              "      <td>2.636023</td>\n",
              "      <td>3</td>\n",
              "    </tr>\n",
              "    <tr>\n",
              "      <th>3</th>\n",
              "      <td>-2.192183</td>\n",
              "      <td>3.401024</td>\n",
              "      <td>2</td>\n",
              "    </tr>\n",
              "    <tr>\n",
              "      <th>4</th>\n",
              "      <td>-3.162838</td>\n",
              "      <td>3.711373</td>\n",
              "      <td>3</td>\n",
              "    </tr>\n",
              "  </tbody>\n",
              "</table>\n",
              "</div>\n",
              "    <div class=\"colab-df-buttons\">\n",
              "\n",
              "  <div class=\"colab-df-container\">\n",
              "    <button class=\"colab-df-convert\" onclick=\"convertToInteractive('df-274bcdfd-59e2-401d-9393-c2816e7aa1ea')\"\n",
              "            title=\"Convert this dataframe to an interactive table.\"\n",
              "            style=\"display:none;\">\n",
              "\n",
              "  <svg xmlns=\"http://www.w3.org/2000/svg\" height=\"24px\" viewBox=\"0 -960 960 960\">\n",
              "    <path d=\"M120-120v-720h720v720H120Zm60-500h600v-160H180v160Zm220 220h160v-160H400v160Zm0 220h160v-160H400v160ZM180-400h160v-160H180v160Zm440 0h160v-160H620v160ZM180-180h160v-160H180v160Zm440 0h160v-160H620v160Z\"/>\n",
              "  </svg>\n",
              "    </button>\n",
              "\n",
              "  <style>\n",
              "    .colab-df-container {\n",
              "      display:flex;\n",
              "      gap: 12px;\n",
              "    }\n",
              "\n",
              "    .colab-df-convert {\n",
              "      background-color: #E8F0FE;\n",
              "      border: none;\n",
              "      border-radius: 50%;\n",
              "      cursor: pointer;\n",
              "      display: none;\n",
              "      fill: #1967D2;\n",
              "      height: 32px;\n",
              "      padding: 0 0 0 0;\n",
              "      width: 32px;\n",
              "    }\n",
              "\n",
              "    .colab-df-convert:hover {\n",
              "      background-color: #E2EBFA;\n",
              "      box-shadow: 0px 1px 2px rgba(60, 64, 67, 0.3), 0px 1px 3px 1px rgba(60, 64, 67, 0.15);\n",
              "      fill: #174EA6;\n",
              "    }\n",
              "\n",
              "    .colab-df-buttons div {\n",
              "      margin-bottom: 4px;\n",
              "    }\n",
              "\n",
              "    [theme=dark] .colab-df-convert {\n",
              "      background-color: #3B4455;\n",
              "      fill: #D2E3FC;\n",
              "    }\n",
              "\n",
              "    [theme=dark] .colab-df-convert:hover {\n",
              "      background-color: #434B5C;\n",
              "      box-shadow: 0px 1px 3px 1px rgba(0, 0, 0, 0.15);\n",
              "      filter: drop-shadow(0px 1px 2px rgba(0, 0, 0, 0.3));\n",
              "      fill: #FFFFFF;\n",
              "    }\n",
              "  </style>\n",
              "\n",
              "    <script>\n",
              "      const buttonEl =\n",
              "        document.querySelector('#df-274bcdfd-59e2-401d-9393-c2816e7aa1ea button.colab-df-convert');\n",
              "      buttonEl.style.display =\n",
              "        google.colab.kernel.accessAllowed ? 'block' : 'none';\n",
              "\n",
              "      async function convertToInteractive(key) {\n",
              "        const element = document.querySelector('#df-274bcdfd-59e2-401d-9393-c2816e7aa1ea');\n",
              "        const dataTable =\n",
              "          await google.colab.kernel.invokeFunction('convertToInteractive',\n",
              "                                                    [key], {});\n",
              "        if (!dataTable) return;\n",
              "\n",
              "        const docLinkHtml = 'Like what you see? Visit the ' +\n",
              "          '<a target=\"_blank\" href=https://colab.research.google.com/notebooks/data_table.ipynb>data table notebook</a>'\n",
              "          + ' to learn more about interactive tables.';\n",
              "        element.innerHTML = '';\n",
              "        dataTable['output_type'] = 'display_data';\n",
              "        await google.colab.output.renderOutput(dataTable, element);\n",
              "        const docLink = document.createElement('div');\n",
              "        docLink.innerHTML = docLinkHtml;\n",
              "        element.appendChild(docLink);\n",
              "      }\n",
              "    </script>\n",
              "  </div>\n",
              "\n",
              "\n",
              "<div id=\"df-aa51f81f-e867-41a3-af78-edf6d8649311\">\n",
              "  <button class=\"colab-df-quickchart\" onclick=\"quickchart('df-aa51f81f-e867-41a3-af78-edf6d8649311')\"\n",
              "            title=\"Suggest charts\"\n",
              "            style=\"display:none;\">\n",
              "\n",
              "<svg xmlns=\"http://www.w3.org/2000/svg\" height=\"24px\"viewBox=\"0 0 24 24\"\n",
              "     width=\"24px\">\n",
              "    <g>\n",
              "        <path d=\"M19 3H5c-1.1 0-2 .9-2 2v14c0 1.1.9 2 2 2h14c1.1 0 2-.9 2-2V5c0-1.1-.9-2-2-2zM9 17H7v-7h2v7zm4 0h-2V7h2v10zm4 0h-2v-4h2v4z\"/>\n",
              "    </g>\n",
              "</svg>\n",
              "  </button>\n",
              "\n",
              "<style>\n",
              "  .colab-df-quickchart {\n",
              "      --bg-color: #E8F0FE;\n",
              "      --fill-color: #1967D2;\n",
              "      --hover-bg-color: #E2EBFA;\n",
              "      --hover-fill-color: #174EA6;\n",
              "      --disabled-fill-color: #AAA;\n",
              "      --disabled-bg-color: #DDD;\n",
              "  }\n",
              "\n",
              "  [theme=dark] .colab-df-quickchart {\n",
              "      --bg-color: #3B4455;\n",
              "      --fill-color: #D2E3FC;\n",
              "      --hover-bg-color: #434B5C;\n",
              "      --hover-fill-color: #FFFFFF;\n",
              "      --disabled-bg-color: #3B4455;\n",
              "      --disabled-fill-color: #666;\n",
              "  }\n",
              "\n",
              "  .colab-df-quickchart {\n",
              "    background-color: var(--bg-color);\n",
              "    border: none;\n",
              "    border-radius: 50%;\n",
              "    cursor: pointer;\n",
              "    display: none;\n",
              "    fill: var(--fill-color);\n",
              "    height: 32px;\n",
              "    padding: 0;\n",
              "    width: 32px;\n",
              "  }\n",
              "\n",
              "  .colab-df-quickchart:hover {\n",
              "    background-color: var(--hover-bg-color);\n",
              "    box-shadow: 0 1px 2px rgba(60, 64, 67, 0.3), 0 1px 3px 1px rgba(60, 64, 67, 0.15);\n",
              "    fill: var(--button-hover-fill-color);\n",
              "  }\n",
              "\n",
              "  .colab-df-quickchart-complete:disabled,\n",
              "  .colab-df-quickchart-complete:disabled:hover {\n",
              "    background-color: var(--disabled-bg-color);\n",
              "    fill: var(--disabled-fill-color);\n",
              "    box-shadow: none;\n",
              "  }\n",
              "\n",
              "  .colab-df-spinner {\n",
              "    border: 2px solid var(--fill-color);\n",
              "    border-color: transparent;\n",
              "    border-bottom-color: var(--fill-color);\n",
              "    animation:\n",
              "      spin 1s steps(1) infinite;\n",
              "  }\n",
              "\n",
              "  @keyframes spin {\n",
              "    0% {\n",
              "      border-color: transparent;\n",
              "      border-bottom-color: var(--fill-color);\n",
              "      border-left-color: var(--fill-color);\n",
              "    }\n",
              "    20% {\n",
              "      border-color: transparent;\n",
              "      border-left-color: var(--fill-color);\n",
              "      border-top-color: var(--fill-color);\n",
              "    }\n",
              "    30% {\n",
              "      border-color: transparent;\n",
              "      border-left-color: var(--fill-color);\n",
              "      border-top-color: var(--fill-color);\n",
              "      border-right-color: var(--fill-color);\n",
              "    }\n",
              "    40% {\n",
              "      border-color: transparent;\n",
              "      border-right-color: var(--fill-color);\n",
              "      border-top-color: var(--fill-color);\n",
              "    }\n",
              "    60% {\n",
              "      border-color: transparent;\n",
              "      border-right-color: var(--fill-color);\n",
              "    }\n",
              "    80% {\n",
              "      border-color: transparent;\n",
              "      border-right-color: var(--fill-color);\n",
              "      border-bottom-color: var(--fill-color);\n",
              "    }\n",
              "    90% {\n",
              "      border-color: transparent;\n",
              "      border-bottom-color: var(--fill-color);\n",
              "    }\n",
              "  }\n",
              "</style>\n",
              "\n",
              "  <script>\n",
              "    async function quickchart(key) {\n",
              "      const quickchartButtonEl =\n",
              "        document.querySelector('#' + key + ' button');\n",
              "      quickchartButtonEl.disabled = true;  // To prevent multiple clicks.\n",
              "      quickchartButtonEl.classList.add('colab-df-spinner');\n",
              "      try {\n",
              "        const charts = await google.colab.kernel.invokeFunction(\n",
              "            'suggestCharts', [key], {});\n",
              "      } catch (error) {\n",
              "        console.error('Error during call to suggestCharts:', error);\n",
              "      }\n",
              "      quickchartButtonEl.classList.remove('colab-df-spinner');\n",
              "      quickchartButtonEl.classList.add('colab-df-quickchart-complete');\n",
              "    }\n",
              "    (() => {\n",
              "      let quickchartButtonEl =\n",
              "        document.querySelector('#df-aa51f81f-e867-41a3-af78-edf6d8649311 button');\n",
              "      quickchartButtonEl.style.display =\n",
              "        google.colab.kernel.accessAllowed ? 'block' : 'none';\n",
              "    })();\n",
              "  </script>\n",
              "</div>\n",
              "\n",
              "    </div>\n",
              "  </div>\n"
            ],
            "application/vnd.google.colaboratory.intrinsic+json": {
              "type": "dataframe",
              "variable_name": "df_emb",
              "summary": "{\n  \"name\": \"df_emb\",\n  \"rows\": 16000,\n  \"fields\": [\n    {\n      \"column\": \"X\",\n      \"properties\": {\n        \"dtype\": \"float32\",\n        \"num_unique_values\": 15994,\n        \"samples\": [\n          5.20387601852417,\n          -3.9443671703338623,\n          -0.5141758322715759\n        ],\n        \"semantic_type\": \"\",\n        \"description\": \"\"\n      }\n    },\n    {\n      \"column\": \"Y\",\n      \"properties\": {\n        \"dtype\": \"float32\",\n        \"num_unique_values\": 15992,\n        \"samples\": [\n          4.354288101196289,\n          6.130161285400391,\n          7.960210800170898\n        ],\n        \"semantic_type\": \"\",\n        \"description\": \"\"\n      }\n    },\n    {\n      \"column\": \"label\",\n      \"properties\": {\n        \"dtype\": \"number\",\n        \"std\": 1,\n        \"min\": 0,\n        \"max\": 5,\n        \"num_unique_values\": 6,\n        \"samples\": [\n          0,\n          3,\n          1\n        ],\n        \"semantic_type\": \"\",\n        \"description\": \"\"\n      }\n    }\n  ]\n}"
            }
          },
          "metadata": {},
          "execution_count": 47
        }
      ],
      "source": [
        "from umap import UMAP\n",
        "from sklearn.preprocessing import MinMaxScaler\n",
        "\n",
        "# Scale features to [0,1] range\n",
        "X_scaled = MinMaxScaler().fit_transform(X_train)\n",
        "# Initialize and fit UMAP\n",
        "mapper = UMAP(n_components=2, metric=\"cosine\").fit(X_scaled)\n",
        "# Create a DataFrame of 2D embeddings\n",
        "df_emb = pd.DataFrame(mapper.embedding_, columns=[\"X\", \"Y\"])\n",
        "df_emb[\"label\"] = y_train\n",
        "df_emb.head()"
      ]
    },
    {
      "cell_type": "markdown",
      "metadata": {
        "id": "jeb2_7JUYHZp"
      },
      "source": [
        "The result is an array with the same number of training samples, but with only 2 features instead of the 768 we started with! Let's investigate the compressed data a little bit further and plot the density of points for each category separately:"
      ]
    },
    {
      "cell_type": "code",
      "execution_count": 48,
      "metadata": {
        "id": "4E3ucjBOYHZp",
        "outputId": "9ccf64f5-a853-48fe-c1f2-d4834cd53b44",
        "colab": {
          "base_uri": "https://localhost:8080/",
          "height": 486
        }
      },
      "outputs": [
        {
          "output_type": "display_data",
          "data": {
            "text/plain": [
              "<Figure size 700x500 with 6 Axes>"
            ],
            "image/svg+xml": "<?xml version=\"1.0\" encoding=\"utf-8\" standalone=\"no\"?>\n<!DOCTYPE svg PUBLIC \"-//W3C//DTD SVG 1.1//EN\"\n  \"http://www.w3.org/Graphics/SVG/1.1/DTD/svg11.dtd\">\n<svg xmlns:xlink=\"http://www.w3.org/1999/xlink\" width=\"492.48pt\" height=\"348.62175pt\" viewBox=\"0 0 492.48 348.62175\" xmlns=\"http://www.w3.org/2000/svg\" version=\"1.1\">\n <metadata>\n  <rdf:RDF xmlns:dc=\"http://purl.org/dc/elements/1.1/\" xmlns:cc=\"http://creativecommons.org/ns#\" xmlns:rdf=\"http://www.w3.org/1999/02/22-rdf-syntax-ns#\">\n   <cc:Work>\n    <dc:type rdf:resource=\"http://purl.org/dc/dcmitype/StillImage\"/>\n    <dc:date>2024-05-25T11:45:30.386214</dc:date>\n    <dc:format>image/svg+xml</dc:format>\n    <dc:creator>\n     <cc:Agent>\n      <dc:title>Matplotlib v3.7.1, https://matplotlib.org/</dc:title>\n     </cc:Agent>\n    </dc:creator>\n   </cc:Work>\n  </rdf:RDF>\n </metadata>\n <defs>\n  <style type=\"text/css\">*{stroke-linejoin: round; stroke-linecap: butt}</style>\n </defs>\n <g id=\"figure_1\">\n  <g id=\"patch_1\">\n   <path d=\"M 0 348.62175 \nL 492.48 348.62175 \nL 492.48 0 \nL 0 0 \nz\n\" style=\"fill: #ffffff\"/>\n  </g>\n  <g id=\"axes_1\">\n   <g id=\"patch_2\">\n    <path d=\"M 7.2 167.90175 \nL 157.92 167.90175 \nL 157.92 24.14175 \nL 7.2 24.14175 \nz\n\" style=\"fill: #ffffff\"/>\n   </g>\n   <g id=\"PolyCollection_1\">\n    <defs>\n     <path id=\"C0_0_5b2d5d60d4\" d=\"M 70.56841 -177.006148 \nL 70.56841 -180.966479 \nL 67.142956 -182.946644 \nL 63.717501 -180.966479 \nL 63.717501 -177.006148 \nL 67.142956 -175.025983 \nz\n\"/>\n    </defs>\n    <g clip-path=\"url(#p2bd379c5d3)\">\n     <use xlink:href=\"#C0_0_5b2d5d60d4\" x=\"-53.092047\" y=\"340.353518\" style=\"fill: #ffffff\"/>\n    </g>\n    <g clip-path=\"url(#p2bd379c5d3)\">\n     <use xlink:href=\"#C0_0_5b2d5d60d4\" x=\"-53.092047\" y=\"328.472527\" style=\"fill: #ffffff\"/>\n    </g>\n    <g clip-path=\"url(#p2bd379c5d3)\">\n     <use xlink:href=\"#C0_0_5b2d5d60d4\" x=\"-53.092047\" y=\"316.591535\" style=\"fill: #ffffff\"/>\n    </g>\n    <g clip-path=\"url(#p2bd379c5d3)\">\n     <use xlink:href=\"#C0_0_5b2d5d60d4\" x=\"-53.092047\" y=\"304.710543\" style=\"fill: #ffffff\"/>\n    </g>\n    <g clip-path=\"url(#p2bd379c5d3)\">\n     <use xlink:href=\"#C0_0_5b2d5d60d4\" x=\"-53.092047\" y=\"292.829551\" style=\"fill: #f9f9f9\"/>\n    </g>\n    <g clip-path=\"url(#p2bd379c5d3)\">\n     <use xlink:href=\"#C0_0_5b2d5d60d4\" x=\"-53.092047\" y=\"280.94856\" style=\"fill: #f2f2f2\"/>\n    </g>\n    <g clip-path=\"url(#p2bd379c5d3)\">\n     <use xlink:href=\"#C0_0_5b2d5d60d4\" x=\"-53.092047\" y=\"269.067568\" style=\"fill: #d8d8d8\"/>\n    </g>\n    <g clip-path=\"url(#p2bd379c5d3)\">\n     <use xlink:href=\"#C0_0_5b2d5d60d4\" x=\"-53.092047\" y=\"257.186576\" style=\"fill: #f8f8f8\"/>\n    </g>\n    <g clip-path=\"url(#p2bd379c5d3)\">\n     <use xlink:href=\"#C0_0_5b2d5d60d4\" x=\"-53.092047\" y=\"245.305584\" style=\"fill: #ffffff\"/>\n    </g>\n    <g clip-path=\"url(#p2bd379c5d3)\">\n     <use xlink:href=\"#C0_0_5b2d5d60d4\" x=\"-53.092047\" y=\"233.424593\" style=\"fill: #ffffff\"/>\n    </g>\n    <g clip-path=\"url(#p2bd379c5d3)\">\n     <use xlink:href=\"#C0_0_5b2d5d60d4\" x=\"-53.092047\" y=\"221.543601\" style=\"fill: #ffffff\"/>\n    </g>\n    <g clip-path=\"url(#p2bd379c5d3)\">\n     <use xlink:href=\"#C0_0_5b2d5d60d4\" x=\"-53.092047\" y=\"209.662609\" style=\"fill: #ffffff\"/>\n    </g>\n    <g clip-path=\"url(#p2bd379c5d3)\">\n     <use xlink:href=\"#C0_0_5b2d5d60d4\" x=\"-46.241138\" y=\"340.353518\" style=\"fill: #ffffff\"/>\n    </g>\n    <g clip-path=\"url(#p2bd379c5d3)\">\n     <use xlink:href=\"#C0_0_5b2d5d60d4\" x=\"-46.241138\" y=\"328.472527\" style=\"fill: #ffffff\"/>\n    </g>\n    <g clip-path=\"url(#p2bd379c5d3)\">\n     <use xlink:href=\"#C0_0_5b2d5d60d4\" x=\"-46.241138\" y=\"316.591535\" style=\"fill: #ffffff\"/>\n    </g>\n    <g clip-path=\"url(#p2bd379c5d3)\">\n     <use xlink:href=\"#C0_0_5b2d5d60d4\" x=\"-46.241138\" y=\"304.710543\" style=\"fill: #f0f0f0\"/>\n    </g>\n    <g clip-path=\"url(#p2bd379c5d3)\">\n     <use xlink:href=\"#C0_0_5b2d5d60d4\" x=\"-46.241138\" y=\"292.829551\" style=\"fill: #b4b4b4\"/>\n    </g>\n    <g clip-path=\"url(#p2bd379c5d3)\">\n     <use xlink:href=\"#C0_0_5b2d5d60d4\" x=\"-46.241138\" y=\"280.94856\" style=\"fill: #828282\"/>\n    </g>\n    <g clip-path=\"url(#p2bd379c5d3)\">\n     <use xlink:href=\"#C0_0_5b2d5d60d4\" x=\"-46.241138\" y=\"269.067568\" style=\"fill: #242424\"/>\n    </g>\n    <g clip-path=\"url(#p2bd379c5d3)\">\n     <use xlink:href=\"#C0_0_5b2d5d60d4\" x=\"-46.241138\" y=\"257.186576\" style=\"fill: #828282\"/>\n    </g>\n    <g clip-path=\"url(#p2bd379c5d3)\">\n     <use xlink:href=\"#C0_0_5b2d5d60d4\" x=\"-46.241138\" y=\"245.305584\" style=\"fill: #ffffff\"/>\n    </g>\n    <g clip-path=\"url(#p2bd379c5d3)\">\n     <use xlink:href=\"#C0_0_5b2d5d60d4\" x=\"-46.241138\" y=\"233.424593\" style=\"fill: #ffffff\"/>\n    </g>\n    <g clip-path=\"url(#p2bd379c5d3)\">\n     <use xlink:href=\"#C0_0_5b2d5d60d4\" x=\"-46.241138\" y=\"221.543601\" style=\"fill: #ffffff\"/>\n    </g>\n    <g clip-path=\"url(#p2bd379c5d3)\">\n     <use xlink:href=\"#C0_0_5b2d5d60d4\" x=\"-46.241138\" y=\"209.662609\" style=\"fill: #ffffff\"/>\n    </g>\n    <g clip-path=\"url(#p2bd379c5d3)\">\n     <use xlink:href=\"#C0_0_5b2d5d60d4\" x=\"-39.390229\" y=\"340.353518\" style=\"fill: #ffffff\"/>\n    </g>\n    <g clip-path=\"url(#p2bd379c5d3)\">\n     <use xlink:href=\"#C0_0_5b2d5d60d4\" x=\"-39.390229\" y=\"328.472527\" style=\"fill: #ffffff\"/>\n    </g>\n    <g clip-path=\"url(#p2bd379c5d3)\">\n     <use xlink:href=\"#C0_0_5b2d5d60d4\" x=\"-39.390229\" y=\"316.591535\" style=\"fill: #ececec\"/>\n    </g>\n    <g clip-path=\"url(#p2bd379c5d3)\">\n     <use xlink:href=\"#C0_0_5b2d5d60d4\" x=\"-39.390229\" y=\"304.710543\" style=\"fill: #d0d0d0\"/>\n    </g>\n    <g clip-path=\"url(#p2bd379c5d3)\">\n     <use xlink:href=\"#C0_0_5b2d5d60d4\" x=\"-39.390229\" y=\"292.829551\" style=\"fill: #a5a5a5\"/>\n    </g>\n    <g clip-path=\"url(#p2bd379c5d3)\">\n     <use xlink:href=\"#C0_0_5b2d5d60d4\" x=\"-39.390229\" y=\"280.94856\" style=\"fill: #828282\"/>\n    </g>\n    <g clip-path=\"url(#p2bd379c5d3)\">\n     <use xlink:href=\"#C0_0_5b2d5d60d4\" x=\"-39.390229\" y=\"269.067568\" style=\"fill: #2c2c2c\"/>\n    </g>\n    <g clip-path=\"url(#p2bd379c5d3)\">\n     <use xlink:href=\"#C0_0_5b2d5d60d4\" x=\"-39.390229\" y=\"257.186576\" style=\"fill: #5a5a5a\"/>\n    </g>\n    <g clip-path=\"url(#p2bd379c5d3)\">\n     <use xlink:href=\"#C0_0_5b2d5d60d4\" x=\"-39.390229\" y=\"245.305584\" style=\"fill: #e6e6e6\"/>\n    </g>\n    <g clip-path=\"url(#p2bd379c5d3)\">\n     <use xlink:href=\"#C0_0_5b2d5d60d4\" x=\"-39.390229\" y=\"233.424593\" style=\"fill: #ffffff\"/>\n    </g>\n    <g clip-path=\"url(#p2bd379c5d3)\">\n     <use xlink:href=\"#C0_0_5b2d5d60d4\" x=\"-39.390229\" y=\"221.543601\" style=\"fill: #ffffff\"/>\n    </g>\n    <g clip-path=\"url(#p2bd379c5d3)\">\n     <use xlink:href=\"#C0_0_5b2d5d60d4\" x=\"-39.390229\" y=\"209.662609\" style=\"fill: #ffffff\"/>\n    </g>\n    <g clip-path=\"url(#p2bd379c5d3)\">\n     <use xlink:href=\"#C0_0_5b2d5d60d4\" x=\"-32.539319\" y=\"340.353518\" style=\"fill: #ffffff\"/>\n    </g>\n    <g clip-path=\"url(#p2bd379c5d3)\">\n     <use xlink:href=\"#C0_0_5b2d5d60d4\" x=\"-32.539319\" y=\"328.472527\" style=\"fill: #ffffff\"/>\n    </g>\n    <g clip-path=\"url(#p2bd379c5d3)\">\n     <use xlink:href=\"#C0_0_5b2d5d60d4\" x=\"-32.539319\" y=\"316.591535\" style=\"fill: #fbfbfb\"/>\n    </g>\n    <g clip-path=\"url(#p2bd379c5d3)\">\n     <use xlink:href=\"#C0_0_5b2d5d60d4\" x=\"-32.539319\" y=\"304.710543\" style=\"fill: #f8f8f8\"/>\n    </g>\n    <g clip-path=\"url(#p2bd379c5d3)\">\n     <use xlink:href=\"#C0_0_5b2d5d60d4\" x=\"-32.539319\" y=\"292.829551\" style=\"fill: #cacaca\"/>\n    </g>\n    <g clip-path=\"url(#p2bd379c5d3)\">\n     <use xlink:href=\"#C0_0_5b2d5d60d4\" x=\"-32.539319\" y=\"280.94856\" style=\"fill: #bfbfbf\"/>\n    </g>\n    <g clip-path=\"url(#p2bd379c5d3)\">\n     <use xlink:href=\"#C0_0_5b2d5d60d4\" x=\"-32.539319\" y=\"269.067568\" style=\"fill: #7b7b7b\"/>\n    </g>\n    <g clip-path=\"url(#p2bd379c5d3)\">\n     <use xlink:href=\"#C0_0_5b2d5d60d4\" x=\"-32.539319\" y=\"257.186576\" style=\"fill: #5d5d5d\"/>\n    </g>\n    <g clip-path=\"url(#p2bd379c5d3)\">\n     <use xlink:href=\"#C0_0_5b2d5d60d4\" x=\"-32.539319\" y=\"245.305584\" style=\"fill: #e8e8e8\"/>\n    </g>\n    <g clip-path=\"url(#p2bd379c5d3)\">\n     <use xlink:href=\"#C0_0_5b2d5d60d4\" x=\"-32.539319\" y=\"233.424593\" style=\"fill: #ffffff\"/>\n    </g>\n    <g clip-path=\"url(#p2bd379c5d3)\">\n     <use xlink:href=\"#C0_0_5b2d5d60d4\" x=\"-32.539319\" y=\"221.543601\" style=\"fill: #ffffff\"/>\n    </g>\n    <g clip-path=\"url(#p2bd379c5d3)\">\n     <use xlink:href=\"#C0_0_5b2d5d60d4\" x=\"-32.539319\" y=\"209.662609\" style=\"fill: #ffffff\"/>\n    </g>\n    <g clip-path=\"url(#p2bd379c5d3)\">\n     <use xlink:href=\"#C0_0_5b2d5d60d4\" x=\"-25.68841\" y=\"340.353518\" style=\"fill: #ffffff\"/>\n    </g>\n    <g clip-path=\"url(#p2bd379c5d3)\">\n     <use xlink:href=\"#C0_0_5b2d5d60d4\" x=\"-25.68841\" y=\"328.472527\" style=\"fill: #fbfbfb\"/>\n    </g>\n    <g clip-path=\"url(#p2bd379c5d3)\">\n     <use xlink:href=\"#C0_0_5b2d5d60d4\" x=\"-25.68841\" y=\"316.591535\" style=\"fill: #ffffff\"/>\n    </g>\n    <g clip-path=\"url(#p2bd379c5d3)\">\n     <use xlink:href=\"#C0_0_5b2d5d60d4\" x=\"-25.68841\" y=\"304.710543\" style=\"fill: #f5f5f5\"/>\n    </g>\n    <g clip-path=\"url(#p2bd379c5d3)\">\n     <use xlink:href=\"#C0_0_5b2d5d60d4\" x=\"-25.68841\" y=\"292.829551\" style=\"fill: #ececec\"/>\n    </g>\n    <g clip-path=\"url(#p2bd379c5d3)\">\n     <use xlink:href=\"#C0_0_5b2d5d60d4\" x=\"-25.68841\" y=\"280.94856\" style=\"fill: #c7c7c7\"/>\n    </g>\n    <g clip-path=\"url(#p2bd379c5d3)\">\n     <use xlink:href=\"#C0_0_5b2d5d60d4\" x=\"-25.68841\" y=\"269.067568\" style=\"fill: #9e9e9e\"/>\n    </g>\n    <g clip-path=\"url(#p2bd379c5d3)\">\n     <use xlink:href=\"#C0_0_5b2d5d60d4\" x=\"-25.68841\" y=\"257.186576\" style=\"fill: #565656\"/>\n    </g>\n    <g clip-path=\"url(#p2bd379c5d3)\">\n     <use xlink:href=\"#C0_0_5b2d5d60d4\" x=\"-25.68841\" y=\"245.305584\" style=\"fill: #dadada\"/>\n    </g>\n    <g clip-path=\"url(#p2bd379c5d3)\">\n     <use xlink:href=\"#C0_0_5b2d5d60d4\" x=\"-25.68841\" y=\"233.424593\" style=\"fill: #ffffff\"/>\n    </g>\n    <g clip-path=\"url(#p2bd379c5d3)\">\n     <use xlink:href=\"#C0_0_5b2d5d60d4\" x=\"-25.68841\" y=\"221.543601\" style=\"fill: #e8e8e8\"/>\n    </g>\n    <g clip-path=\"url(#p2bd379c5d3)\">\n     <use xlink:href=\"#C0_0_5b2d5d60d4\" x=\"-25.68841\" y=\"209.662609\" style=\"fill: #ffffff\"/>\n    </g>\n    <g clip-path=\"url(#p2bd379c5d3)\">\n     <use xlink:href=\"#C0_0_5b2d5d60d4\" x=\"-18.837501\" y=\"340.353518\" style=\"fill: #ffffff\"/>\n    </g>\n    <g clip-path=\"url(#p2bd379c5d3)\">\n     <use xlink:href=\"#C0_0_5b2d5d60d4\" x=\"-18.837501\" y=\"328.472527\" style=\"fill: #f5f5f5\"/>\n    </g>\n    <g clip-path=\"url(#p2bd379c5d3)\">\n     <use xlink:href=\"#C0_0_5b2d5d60d4\" x=\"-18.837501\" y=\"316.591535\" style=\"fill: #f5f5f5\"/>\n    </g>\n    <g clip-path=\"url(#p2bd379c5d3)\">\n     <use xlink:href=\"#C0_0_5b2d5d60d4\" x=\"-18.837501\" y=\"304.710543\" style=\"fill: #bdbdbd\"/>\n    </g>\n    <g clip-path=\"url(#p2bd379c5d3)\">\n     <use xlink:href=\"#C0_0_5b2d5d60d4\" x=\"-18.837501\" y=\"292.829551\" style=\"fill: #eeeeee\"/>\n    </g>\n    <g clip-path=\"url(#p2bd379c5d3)\">\n     <use xlink:href=\"#C0_0_5b2d5d60d4\" x=\"-18.837501\" y=\"280.94856\" style=\"fill: #cacaca\"/>\n    </g>\n    <g clip-path=\"url(#p2bd379c5d3)\">\n     <use xlink:href=\"#C0_0_5b2d5d60d4\" x=\"-18.837501\" y=\"269.067568\" style=\"fill: #a5a5a5\"/>\n    </g>\n    <g clip-path=\"url(#p2bd379c5d3)\">\n     <use xlink:href=\"#C0_0_5b2d5d60d4\" x=\"-18.837501\" y=\"257.186576\" style=\"fill: #8c8c8c\"/>\n    </g>\n    <g clip-path=\"url(#p2bd379c5d3)\">\n     <use xlink:href=\"#C0_0_5b2d5d60d4\" x=\"-18.837501\" y=\"245.305584\" style=\"fill: #f0f0f0\"/>\n    </g>\n    <g clip-path=\"url(#p2bd379c5d3)\">\n     <use xlink:href=\"#C0_0_5b2d5d60d4\" x=\"-18.837501\" y=\"233.424593\" style=\"fill: #f7f7f7\"/>\n    </g>\n    <g clip-path=\"url(#p2bd379c5d3)\">\n     <use xlink:href=\"#C0_0_5b2d5d60d4\" x=\"-18.837501\" y=\"221.543601\" style=\"fill: #e1e1e1\"/>\n    </g>\n    <g clip-path=\"url(#p2bd379c5d3)\">\n     <use xlink:href=\"#C0_0_5b2d5d60d4\" x=\"-18.837501\" y=\"209.662609\" style=\"fill: #ffffff\"/>\n    </g>\n    <g clip-path=\"url(#p2bd379c5d3)\">\n     <use xlink:href=\"#C0_0_5b2d5d60d4\" x=\"-11.986592\" y=\"340.353518\" style=\"fill: #ffffff\"/>\n    </g>\n    <g clip-path=\"url(#p2bd379c5d3)\">\n     <use xlink:href=\"#C0_0_5b2d5d60d4\" x=\"-11.986592\" y=\"328.472527\" style=\"fill: #fefefe\"/>\n    </g>\n    <g clip-path=\"url(#p2bd379c5d3)\">\n     <use xlink:href=\"#C0_0_5b2d5d60d4\" x=\"-11.986592\" y=\"316.591535\" style=\"fill: #f8f8f8\"/>\n    </g>\n    <g clip-path=\"url(#p2bd379c5d3)\">\n     <use xlink:href=\"#C0_0_5b2d5d60d4\" x=\"-11.986592\" y=\"304.710543\" style=\"fill: #ececec\"/>\n    </g>\n    <g clip-path=\"url(#p2bd379c5d3)\">\n     <use xlink:href=\"#C0_0_5b2d5d60d4\" x=\"-11.986592\" y=\"292.829551\" style=\"fill: #e8e8e8\"/>\n    </g>\n    <g clip-path=\"url(#p2bd379c5d3)\">\n     <use xlink:href=\"#C0_0_5b2d5d60d4\" x=\"-11.986592\" y=\"280.94856\" style=\"fill: #dfdfdf\"/>\n    </g>\n    <g clip-path=\"url(#p2bd379c5d3)\">\n     <use xlink:href=\"#C0_0_5b2d5d60d4\" x=\"-11.986592\" y=\"269.067568\" style=\"fill: #b4b4b4\"/>\n    </g>\n    <g clip-path=\"url(#p2bd379c5d3)\">\n     <use xlink:href=\"#C0_0_5b2d5d60d4\" x=\"-11.986592\" y=\"257.186576\" style=\"fill: #9e9e9e\"/>\n    </g>\n    <g clip-path=\"url(#p2bd379c5d3)\">\n     <use xlink:href=\"#C0_0_5b2d5d60d4\" x=\"-11.986592\" y=\"245.305584\" style=\"fill: #eeeeee\"/>\n    </g>\n    <g clip-path=\"url(#p2bd379c5d3)\">\n     <use xlink:href=\"#C0_0_5b2d5d60d4\" x=\"-11.986592\" y=\"233.424593\" style=\"fill: #d8d8d8\"/>\n    </g>\n    <g clip-path=\"url(#p2bd379c5d3)\">\n     <use xlink:href=\"#C0_0_5b2d5d60d4\" x=\"-11.986592\" y=\"221.543601\" style=\"fill: #b4b4b4\"/>\n    </g>\n    <g clip-path=\"url(#p2bd379c5d3)\">\n     <use xlink:href=\"#C0_0_5b2d5d60d4\" x=\"-11.986592\" y=\"209.662609\" style=\"fill: #ffffff\"/>\n    </g>\n    <g clip-path=\"url(#p2bd379c5d3)\">\n     <use xlink:href=\"#C0_0_5b2d5d60d4\" x=\"-5.135683\" y=\"340.353518\" style=\"fill: #ffffff\"/>\n    </g>\n    <g clip-path=\"url(#p2bd379c5d3)\">\n     <use xlink:href=\"#C0_0_5b2d5d60d4\" x=\"-5.135683\" y=\"328.472527\" style=\"fill: #fefefe\"/>\n    </g>\n    <g clip-path=\"url(#p2bd379c5d3)\">\n     <use xlink:href=\"#C0_0_5b2d5d60d4\" x=\"-5.135683\" y=\"316.591535\" style=\"fill: #ffffff\"/>\n    </g>\n    <g clip-path=\"url(#p2bd379c5d3)\">\n     <use xlink:href=\"#C0_0_5b2d5d60d4\" x=\"-5.135683\" y=\"304.710543\" style=\"fill: #f9f9f9\"/>\n    </g>\n    <g clip-path=\"url(#p2bd379c5d3)\">\n     <use xlink:href=\"#C0_0_5b2d5d60d4\" x=\"-5.135683\" y=\"292.829551\" style=\"fill: #f2f2f2\"/>\n    </g>\n    <g clip-path=\"url(#p2bd379c5d3)\">\n     <use xlink:href=\"#C0_0_5b2d5d60d4\" x=\"-5.135683\" y=\"280.94856\" style=\"fill: #e8e8e8\"/>\n    </g>\n    <g clip-path=\"url(#p2bd379c5d3)\">\n     <use xlink:href=\"#C0_0_5b2d5d60d4\" x=\"-5.135683\" y=\"269.067568\" style=\"fill: #dadada\"/>\n    </g>\n    <g clip-path=\"url(#p2bd379c5d3)\">\n     <use xlink:href=\"#C0_0_5b2d5d60d4\" x=\"-5.135683\" y=\"257.186576\" style=\"fill: #9a9a9a\"/>\n    </g>\n    <g clip-path=\"url(#p2bd379c5d3)\">\n     <use xlink:href=\"#C0_0_5b2d5d60d4\" x=\"-5.135683\" y=\"245.305584\" style=\"fill: #eaeaea\"/>\n    </g>\n    <g clip-path=\"url(#p2bd379c5d3)\">\n     <use xlink:href=\"#C0_0_5b2d5d60d4\" x=\"-5.135683\" y=\"233.424593\" style=\"fill: #b0b0b0\"/>\n    </g>\n    <g clip-path=\"url(#p2bd379c5d3)\">\n     <use xlink:href=\"#C0_0_5b2d5d60d4\" x=\"-5.135683\" y=\"221.543601\" style=\"fill: #9a9a9a\"/>\n    </g>\n    <g clip-path=\"url(#p2bd379c5d3)\">\n     <use xlink:href=\"#C0_0_5b2d5d60d4\" x=\"-5.135683\" y=\"209.662609\" style=\"fill: #fcfcfc\"/>\n    </g>\n    <g clip-path=\"url(#p2bd379c5d3)\">\n     <use xlink:href=\"#C0_0_5b2d5d60d4\" x=\"1.715226\" y=\"340.353518\" style=\"fill: #f9f9f9\"/>\n    </g>\n    <g clip-path=\"url(#p2bd379c5d3)\">\n     <use xlink:href=\"#C0_0_5b2d5d60d4\" x=\"1.715226\" y=\"328.472527\" style=\"fill: #e6e6e6\"/>\n    </g>\n    <g clip-path=\"url(#p2bd379c5d3)\">\n     <use xlink:href=\"#C0_0_5b2d5d60d4\" x=\"1.715226\" y=\"316.591535\" style=\"fill: #fbfbfb\"/>\n    </g>\n    <g clip-path=\"url(#p2bd379c5d3)\">\n     <use xlink:href=\"#C0_0_5b2d5d60d4\" x=\"1.715226\" y=\"304.710543\" style=\"fill: #fefefe\"/>\n    </g>\n    <g clip-path=\"url(#p2bd379c5d3)\">\n     <use xlink:href=\"#C0_0_5b2d5d60d4\" x=\"1.715226\" y=\"292.829551\" style=\"fill: #bfbfbf\"/>\n    </g>\n    <g clip-path=\"url(#p2bd379c5d3)\">\n     <use xlink:href=\"#C0_0_5b2d5d60d4\" x=\"1.715226\" y=\"280.94856\" style=\"fill: #ececec\"/>\n    </g>\n    <g clip-path=\"url(#p2bd379c5d3)\">\n     <use xlink:href=\"#C0_0_5b2d5d60d4\" x=\"1.715226\" y=\"269.067568\" style=\"fill: #e1e1e1\"/>\n    </g>\n    <g clip-path=\"url(#p2bd379c5d3)\">\n     <use xlink:href=\"#C0_0_5b2d5d60d4\" x=\"1.715226\" y=\"257.186576\" style=\"fill: #f2f2f2\"/>\n    </g>\n    <g clip-path=\"url(#p2bd379c5d3)\">\n     <use xlink:href=\"#C0_0_5b2d5d60d4\" x=\"1.715226\" y=\"245.305584\" style=\"fill: #eeeeee\"/>\n    </g>\n    <g clip-path=\"url(#p2bd379c5d3)\">\n     <use xlink:href=\"#C0_0_5b2d5d60d4\" x=\"1.715226\" y=\"233.424593\" style=\"fill: #b9b9b9\"/>\n    </g>\n    <g clip-path=\"url(#p2bd379c5d3)\">\n     <use xlink:href=\"#C0_0_5b2d5d60d4\" x=\"1.715226\" y=\"221.543601\" style=\"fill: #e4e4e4\"/>\n    </g>\n    <g clip-path=\"url(#p2bd379c5d3)\">\n     <use xlink:href=\"#C0_0_5b2d5d60d4\" x=\"1.715226\" y=\"209.662609\" style=\"fill: #ffffff\"/>\n    </g>\n    <g clip-path=\"url(#p2bd379c5d3)\">\n     <use xlink:href=\"#C0_0_5b2d5d60d4\" x=\"8.566135\" y=\"340.353518\" style=\"fill: #ffffff\"/>\n    </g>\n    <g clip-path=\"url(#p2bd379c5d3)\">\n     <use xlink:href=\"#C0_0_5b2d5d60d4\" x=\"8.566135\" y=\"328.472527\" style=\"fill: #d5d5d5\"/>\n    </g>\n    <g clip-path=\"url(#p2bd379c5d3)\">\n     <use xlink:href=\"#C0_0_5b2d5d60d4\" x=\"8.566135\" y=\"316.591535\" style=\"fill: #fbfbfb\"/>\n    </g>\n    <g clip-path=\"url(#p2bd379c5d3)\">\n     <use xlink:href=\"#C0_0_5b2d5d60d4\" x=\"8.566135\" y=\"304.710543\" style=\"fill: #f8f8f8\"/>\n    </g>\n    <g clip-path=\"url(#p2bd379c5d3)\">\n     <use xlink:href=\"#C0_0_5b2d5d60d4\" x=\"8.566135\" y=\"292.829551\" style=\"fill: #f2f2f2\"/>\n    </g>\n    <g clip-path=\"url(#p2bd379c5d3)\">\n     <use xlink:href=\"#C0_0_5b2d5d60d4\" x=\"8.566135\" y=\"280.94856\" style=\"fill: #f8f8f8\"/>\n    </g>\n    <g clip-path=\"url(#p2bd379c5d3)\">\n     <use xlink:href=\"#C0_0_5b2d5d60d4\" x=\"8.566135\" y=\"269.067568\" style=\"fill: #eeeeee\"/>\n    </g>\n    <g clip-path=\"url(#p2bd379c5d3)\">\n     <use xlink:href=\"#C0_0_5b2d5d60d4\" x=\"8.566135\" y=\"257.186576\" style=\"fill: #f5f5f5\"/>\n    </g>\n    <g clip-path=\"url(#p2bd379c5d3)\">\n     <use xlink:href=\"#C0_0_5b2d5d60d4\" x=\"8.566135\" y=\"245.305584\" style=\"fill: #fefefe\"/>\n    </g>\n    <g clip-path=\"url(#p2bd379c5d3)\">\n     <use xlink:href=\"#C0_0_5b2d5d60d4\" x=\"8.566135\" y=\"233.424593\" style=\"fill: #fcfcfc\"/>\n    </g>\n    <g clip-path=\"url(#p2bd379c5d3)\">\n     <use xlink:href=\"#C0_0_5b2d5d60d4\" x=\"8.566135\" y=\"221.543601\" style=\"fill: #ffffff\"/>\n    </g>\n    <g clip-path=\"url(#p2bd379c5d3)\">\n     <use xlink:href=\"#C0_0_5b2d5d60d4\" x=\"8.566135\" y=\"209.662609\" style=\"fill: #ffffff\"/>\n    </g>\n    <g clip-path=\"url(#p2bd379c5d3)\">\n     <use xlink:href=\"#C0_0_5b2d5d60d4\" x=\"15.417044\" y=\"340.353518\" style=\"fill: #ffffff\"/>\n    </g>\n    <g clip-path=\"url(#p2bd379c5d3)\">\n     <use xlink:href=\"#C0_0_5b2d5d60d4\" x=\"15.417044\" y=\"328.472527\" style=\"fill: #ffffff\"/>\n    </g>\n    <g clip-path=\"url(#p2bd379c5d3)\">\n     <use xlink:href=\"#C0_0_5b2d5d60d4\" x=\"15.417044\" y=\"316.591535\" style=\"fill: #fcfcfc\"/>\n    </g>\n    <g clip-path=\"url(#p2bd379c5d3)\">\n     <use xlink:href=\"#C0_0_5b2d5d60d4\" x=\"15.417044\" y=\"304.710543\" style=\"fill: #f0f0f0\"/>\n    </g>\n    <g clip-path=\"url(#p2bd379c5d3)\">\n     <use xlink:href=\"#C0_0_5b2d5d60d4\" x=\"15.417044\" y=\"292.829551\" style=\"fill: #fbfbfb\"/>\n    </g>\n    <g clip-path=\"url(#p2bd379c5d3)\">\n     <use xlink:href=\"#C0_0_5b2d5d60d4\" x=\"15.417044\" y=\"280.94856\" style=\"fill: #f9f9f9\"/>\n    </g>\n    <g clip-path=\"url(#p2bd379c5d3)\">\n     <use xlink:href=\"#C0_0_5b2d5d60d4\" x=\"15.417044\" y=\"269.067568\" style=\"fill: #fbfbfb\"/>\n    </g>\n    <g clip-path=\"url(#p2bd379c5d3)\">\n     <use xlink:href=\"#C0_0_5b2d5d60d4\" x=\"15.417044\" y=\"257.186576\" style=\"fill: #fefefe\"/>\n    </g>\n    <g clip-path=\"url(#p2bd379c5d3)\">\n     <use xlink:href=\"#C0_0_5b2d5d60d4\" x=\"15.417044\" y=\"245.305584\" style=\"fill: #ffffff\"/>\n    </g>\n    <g clip-path=\"url(#p2bd379c5d3)\">\n     <use xlink:href=\"#C0_0_5b2d5d60d4\" x=\"15.417044\" y=\"233.424593\" style=\"fill: #ffffff\"/>\n    </g>\n    <g clip-path=\"url(#p2bd379c5d3)\">\n     <use xlink:href=\"#C0_0_5b2d5d60d4\" x=\"15.417044\" y=\"221.543601\" style=\"fill: #ffffff\"/>\n    </g>\n    <g clip-path=\"url(#p2bd379c5d3)\">\n     <use xlink:href=\"#C0_0_5b2d5d60d4\" x=\"15.417044\" y=\"209.662609\" style=\"fill: #ffffff\"/>\n    </g>\n    <g clip-path=\"url(#p2bd379c5d3)\">\n     <use xlink:href=\"#C0_0_5b2d5d60d4\" x=\"22.267953\" y=\"340.353518\" style=\"fill: #ffffff\"/>\n    </g>\n    <g clip-path=\"url(#p2bd379c5d3)\">\n     <use xlink:href=\"#C0_0_5b2d5d60d4\" x=\"22.267953\" y=\"328.472527\" style=\"fill: #ffffff\"/>\n    </g>\n    <g clip-path=\"url(#p2bd379c5d3)\">\n     <use xlink:href=\"#C0_0_5b2d5d60d4\" x=\"22.267953\" y=\"316.591535\" style=\"fill: #ffffff\"/>\n    </g>\n    <g clip-path=\"url(#p2bd379c5d3)\">\n     <use xlink:href=\"#C0_0_5b2d5d60d4\" x=\"22.267953\" y=\"304.710543\" style=\"fill: #a5a5a5\"/>\n    </g>\n    <g clip-path=\"url(#p2bd379c5d3)\">\n     <use xlink:href=\"#C0_0_5b2d5d60d4\" x=\"22.267953\" y=\"292.829551\" style=\"fill: #ffffff\"/>\n    </g>\n    <g clip-path=\"url(#p2bd379c5d3)\">\n     <use xlink:href=\"#C0_0_5b2d5d60d4\" x=\"22.267953\" y=\"280.94856\" style=\"fill: #ffffff\"/>\n    </g>\n    <g clip-path=\"url(#p2bd379c5d3)\">\n     <use xlink:href=\"#C0_0_5b2d5d60d4\" x=\"22.267953\" y=\"269.067568\" style=\"fill: #ffffff\"/>\n    </g>\n    <g clip-path=\"url(#p2bd379c5d3)\">\n     <use xlink:href=\"#C0_0_5b2d5d60d4\" x=\"22.267953\" y=\"257.186576\" style=\"fill: #ffffff\"/>\n    </g>\n    <g clip-path=\"url(#p2bd379c5d3)\">\n     <use xlink:href=\"#C0_0_5b2d5d60d4\" x=\"22.267953\" y=\"245.305584\" style=\"fill: #ffffff\"/>\n    </g>\n    <g clip-path=\"url(#p2bd379c5d3)\">\n     <use xlink:href=\"#C0_0_5b2d5d60d4\" x=\"22.267953\" y=\"233.424593\" style=\"fill: #ffffff\"/>\n    </g>\n    <g clip-path=\"url(#p2bd379c5d3)\">\n     <use xlink:href=\"#C0_0_5b2d5d60d4\" x=\"22.267953\" y=\"221.543601\" style=\"fill: #ffffff\"/>\n    </g>\n    <g clip-path=\"url(#p2bd379c5d3)\">\n     <use xlink:href=\"#C0_0_5b2d5d60d4\" x=\"22.267953\" y=\"209.662609\" style=\"fill: #ffffff\"/>\n    </g>\n    <g clip-path=\"url(#p2bd379c5d3)\">\n     <use xlink:href=\"#C0_0_5b2d5d60d4\" x=\"29.118862\" y=\"340.353518\" style=\"fill: #ffffff\"/>\n    </g>\n    <g clip-path=\"url(#p2bd379c5d3)\">\n     <use xlink:href=\"#C0_0_5b2d5d60d4\" x=\"29.118862\" y=\"328.472527\" style=\"fill: #ffffff\"/>\n    </g>\n    <g clip-path=\"url(#p2bd379c5d3)\">\n     <use xlink:href=\"#C0_0_5b2d5d60d4\" x=\"29.118862\" y=\"316.591535\" style=\"fill: #ffffff\"/>\n    </g>\n    <g clip-path=\"url(#p2bd379c5d3)\">\n     <use xlink:href=\"#C0_0_5b2d5d60d4\" x=\"29.118862\" y=\"304.710543\" style=\"fill: #fefefe\"/>\n    </g>\n    <g clip-path=\"url(#p2bd379c5d3)\">\n     <use xlink:href=\"#C0_0_5b2d5d60d4\" x=\"29.118862\" y=\"292.829551\" style=\"fill: #ffffff\"/>\n    </g>\n    <g clip-path=\"url(#p2bd379c5d3)\">\n     <use xlink:href=\"#C0_0_5b2d5d60d4\" x=\"29.118862\" y=\"280.94856\" style=\"fill: #ffffff\"/>\n    </g>\n    <g clip-path=\"url(#p2bd379c5d3)\">\n     <use xlink:href=\"#C0_0_5b2d5d60d4\" x=\"29.118862\" y=\"269.067568\" style=\"fill: #ffffff\"/>\n    </g>\n    <g clip-path=\"url(#p2bd379c5d3)\">\n     <use xlink:href=\"#C0_0_5b2d5d60d4\" x=\"29.118862\" y=\"257.186576\" style=\"fill: #ffffff\"/>\n    </g>\n    <g clip-path=\"url(#p2bd379c5d3)\">\n     <use xlink:href=\"#C0_0_5b2d5d60d4\" x=\"29.118862\" y=\"245.305584\" style=\"fill: #ffffff\"/>\n    </g>\n    <g clip-path=\"url(#p2bd379c5d3)\">\n     <use xlink:href=\"#C0_0_5b2d5d60d4\" x=\"29.118862\" y=\"233.424593\" style=\"fill: #ffffff\"/>\n    </g>\n    <g clip-path=\"url(#p2bd379c5d3)\">\n     <use xlink:href=\"#C0_0_5b2d5d60d4\" x=\"29.118862\" y=\"221.543601\" style=\"fill: #ffffff\"/>\n    </g>\n    <g clip-path=\"url(#p2bd379c5d3)\">\n     <use xlink:href=\"#C0_0_5b2d5d60d4\" x=\"29.118862\" y=\"209.662609\" style=\"fill: #ffffff\"/>\n    </g>\n    <g clip-path=\"url(#p2bd379c5d3)\">\n     <use xlink:href=\"#C0_0_5b2d5d60d4\" x=\"35.969771\" y=\"340.353518\" style=\"fill: #ffffff\"/>\n    </g>\n    <g clip-path=\"url(#p2bd379c5d3)\">\n     <use xlink:href=\"#C0_0_5b2d5d60d4\" x=\"35.969771\" y=\"328.472527\" style=\"fill: #ffffff\"/>\n    </g>\n    <g clip-path=\"url(#p2bd379c5d3)\">\n     <use xlink:href=\"#C0_0_5b2d5d60d4\" x=\"35.969771\" y=\"316.591535\" style=\"fill: #ffffff\"/>\n    </g>\n    <g clip-path=\"url(#p2bd379c5d3)\">\n     <use xlink:href=\"#C0_0_5b2d5d60d4\" x=\"35.969771\" y=\"304.710543\" style=\"fill: #ffffff\"/>\n    </g>\n    <g clip-path=\"url(#p2bd379c5d3)\">\n     <use xlink:href=\"#C0_0_5b2d5d60d4\" x=\"35.969771\" y=\"292.829551\" style=\"fill: #ffffff\"/>\n    </g>\n    <g clip-path=\"url(#p2bd379c5d3)\">\n     <use xlink:href=\"#C0_0_5b2d5d60d4\" x=\"35.969771\" y=\"280.94856\" style=\"fill: #fefefe\"/>\n    </g>\n    <g clip-path=\"url(#p2bd379c5d3)\">\n     <use xlink:href=\"#C0_0_5b2d5d60d4\" x=\"35.969771\" y=\"269.067568\" style=\"fill: #ffffff\"/>\n    </g>\n    <g clip-path=\"url(#p2bd379c5d3)\">\n     <use xlink:href=\"#C0_0_5b2d5d60d4\" x=\"35.969771\" y=\"257.186576\" style=\"fill: #ffffff\"/>\n    </g>\n    <g clip-path=\"url(#p2bd379c5d3)\">\n     <use xlink:href=\"#C0_0_5b2d5d60d4\" x=\"35.969771\" y=\"245.305584\" style=\"fill: #ffffff\"/>\n    </g>\n    <g clip-path=\"url(#p2bd379c5d3)\">\n     <use xlink:href=\"#C0_0_5b2d5d60d4\" x=\"35.969771\" y=\"233.424593\" style=\"fill: #ffffff\"/>\n    </g>\n    <g clip-path=\"url(#p2bd379c5d3)\">\n     <use xlink:href=\"#C0_0_5b2d5d60d4\" x=\"35.969771\" y=\"221.543601\" style=\"fill: #ffffff\"/>\n    </g>\n    <g clip-path=\"url(#p2bd379c5d3)\">\n     <use xlink:href=\"#C0_0_5b2d5d60d4\" x=\"35.969771\" y=\"209.662609\" style=\"fill: #ffffff\"/>\n    </g>\n    <g clip-path=\"url(#p2bd379c5d3)\">\n     <use xlink:href=\"#C0_0_5b2d5d60d4\" x=\"42.820681\" y=\"340.353518\" style=\"fill: #ffffff\"/>\n    </g>\n    <g clip-path=\"url(#p2bd379c5d3)\">\n     <use xlink:href=\"#C0_0_5b2d5d60d4\" x=\"42.820681\" y=\"328.472527\" style=\"fill: #ffffff\"/>\n    </g>\n    <g clip-path=\"url(#p2bd379c5d3)\">\n     <use xlink:href=\"#C0_0_5b2d5d60d4\" x=\"42.820681\" y=\"316.591535\" style=\"fill: #ffffff\"/>\n    </g>\n    <g clip-path=\"url(#p2bd379c5d3)\">\n     <use xlink:href=\"#C0_0_5b2d5d60d4\" x=\"42.820681\" y=\"304.710543\" style=\"fill: #ffffff\"/>\n    </g>\n    <g clip-path=\"url(#p2bd379c5d3)\">\n     <use xlink:href=\"#C0_0_5b2d5d60d4\" x=\"42.820681\" y=\"292.829551\" style=\"fill: #ffffff\"/>\n    </g>\n    <g clip-path=\"url(#p2bd379c5d3)\">\n     <use xlink:href=\"#C0_0_5b2d5d60d4\" x=\"42.820681\" y=\"280.94856\" style=\"fill: #fcfcfc\"/>\n    </g>\n    <g clip-path=\"url(#p2bd379c5d3)\">\n     <use xlink:href=\"#C0_0_5b2d5d60d4\" x=\"42.820681\" y=\"269.067568\" style=\"fill: #ffffff\"/>\n    </g>\n    <g clip-path=\"url(#p2bd379c5d3)\">\n     <use xlink:href=\"#C0_0_5b2d5d60d4\" x=\"42.820681\" y=\"257.186576\" style=\"fill: #ffffff\"/>\n    </g>\n    <g clip-path=\"url(#p2bd379c5d3)\">\n     <use xlink:href=\"#C0_0_5b2d5d60d4\" x=\"42.820681\" y=\"245.305584\" style=\"fill: #ffffff\"/>\n    </g>\n    <g clip-path=\"url(#p2bd379c5d3)\">\n     <use xlink:href=\"#C0_0_5b2d5d60d4\" x=\"42.820681\" y=\"233.424593\" style=\"fill: #ffffff\"/>\n    </g>\n    <g clip-path=\"url(#p2bd379c5d3)\">\n     <use xlink:href=\"#C0_0_5b2d5d60d4\" x=\"42.820681\" y=\"221.543601\" style=\"fill: #ffffff\"/>\n    </g>\n    <g clip-path=\"url(#p2bd379c5d3)\">\n     <use xlink:href=\"#C0_0_5b2d5d60d4\" x=\"42.820681\" y=\"209.662609\" style=\"fill: #ffffff\"/>\n    </g>\n    <g clip-path=\"url(#p2bd379c5d3)\">\n     <use xlink:href=\"#C0_0_5b2d5d60d4\" x=\"49.67159\" y=\"340.353518\" style=\"fill: #ffffff\"/>\n    </g>\n    <g clip-path=\"url(#p2bd379c5d3)\">\n     <use xlink:href=\"#C0_0_5b2d5d60d4\" x=\"49.67159\" y=\"328.472527\" style=\"fill: #ffffff\"/>\n    </g>\n    <g clip-path=\"url(#p2bd379c5d3)\">\n     <use xlink:href=\"#C0_0_5b2d5d60d4\" x=\"49.67159\" y=\"316.591535\" style=\"fill: #ffffff\"/>\n    </g>\n    <g clip-path=\"url(#p2bd379c5d3)\">\n     <use xlink:href=\"#C0_0_5b2d5d60d4\" x=\"49.67159\" y=\"304.710543\" style=\"fill: #ffffff\"/>\n    </g>\n    <g clip-path=\"url(#p2bd379c5d3)\">\n     <use xlink:href=\"#C0_0_5b2d5d60d4\" x=\"49.67159\" y=\"292.829551\" style=\"fill: #fbfbfb\"/>\n    </g>\n    <g clip-path=\"url(#p2bd379c5d3)\">\n     <use xlink:href=\"#C0_0_5b2d5d60d4\" x=\"49.67159\" y=\"280.94856\" style=\"fill: #f4f4f4\"/>\n    </g>\n    <g clip-path=\"url(#p2bd379c5d3)\">\n     <use xlink:href=\"#C0_0_5b2d5d60d4\" x=\"49.67159\" y=\"269.067568\" style=\"fill: #e4e4e4\"/>\n    </g>\n    <g clip-path=\"url(#p2bd379c5d3)\">\n     <use xlink:href=\"#C0_0_5b2d5d60d4\" x=\"49.67159\" y=\"257.186576\" style=\"fill: #e4e4e4\"/>\n    </g>\n    <g clip-path=\"url(#p2bd379c5d3)\">\n     <use xlink:href=\"#C0_0_5b2d5d60d4\" x=\"49.67159\" y=\"245.305584\" style=\"fill: #ffffff\"/>\n    </g>\n    <g clip-path=\"url(#p2bd379c5d3)\">\n     <use xlink:href=\"#C0_0_5b2d5d60d4\" x=\"49.67159\" y=\"233.424593\" style=\"fill: #ffffff\"/>\n    </g>\n    <g clip-path=\"url(#p2bd379c5d3)\">\n     <use xlink:href=\"#C0_0_5b2d5d60d4\" x=\"49.67159\" y=\"221.543601\" style=\"fill: #ffffff\"/>\n    </g>\n    <g clip-path=\"url(#p2bd379c5d3)\">\n     <use xlink:href=\"#C0_0_5b2d5d60d4\" x=\"49.67159\" y=\"209.662609\" style=\"fill: #ffffff\"/>\n    </g>\n    <g clip-path=\"url(#p2bd379c5d3)\">\n     <use xlink:href=\"#C0_0_5b2d5d60d4\" x=\"56.522499\" y=\"340.353518\" style=\"fill: #ffffff\"/>\n    </g>\n    <g clip-path=\"url(#p2bd379c5d3)\">\n     <use xlink:href=\"#C0_0_5b2d5d60d4\" x=\"56.522499\" y=\"328.472527\" style=\"fill: #ffffff\"/>\n    </g>\n    <g clip-path=\"url(#p2bd379c5d3)\">\n     <use xlink:href=\"#C0_0_5b2d5d60d4\" x=\"56.522499\" y=\"316.591535\" style=\"fill: #ffffff\"/>\n    </g>\n    <g clip-path=\"url(#p2bd379c5d3)\">\n     <use xlink:href=\"#C0_0_5b2d5d60d4\" x=\"56.522499\" y=\"304.710543\" style=\"fill: #f9f9f9\"/>\n    </g>\n    <g clip-path=\"url(#p2bd379c5d3)\">\n     <use xlink:href=\"#C0_0_5b2d5d60d4\" x=\"56.522499\" y=\"292.829551\" style=\"fill: #ececec\"/>\n    </g>\n    <g clip-path=\"url(#p2bd379c5d3)\">\n     <use xlink:href=\"#C0_0_5b2d5d60d4\" x=\"56.522499\" y=\"280.94856\" style=\"fill: #d8d8d8\"/>\n    </g>\n    <g clip-path=\"url(#p2bd379c5d3)\">\n     <use xlink:href=\"#C0_0_5b2d5d60d4\" x=\"56.522499\" y=\"269.067568\" style=\"fill: #929292\"/>\n    </g>\n    <g clip-path=\"url(#p2bd379c5d3)\">\n     <use xlink:href=\"#C0_0_5b2d5d60d4\" x=\"56.522499\" y=\"257.186576\" style=\"fill: #929292\"/>\n    </g>\n    <g clip-path=\"url(#p2bd379c5d3)\">\n     <use xlink:href=\"#C0_0_5b2d5d60d4\" x=\"56.522499\" y=\"245.305584\" style=\"fill: #fefefe\"/>\n    </g>\n    <g clip-path=\"url(#p2bd379c5d3)\">\n     <use xlink:href=\"#C0_0_5b2d5d60d4\" x=\"56.522499\" y=\"233.424593\" style=\"fill: #ffffff\"/>\n    </g>\n    <g clip-path=\"url(#p2bd379c5d3)\">\n     <use xlink:href=\"#C0_0_5b2d5d60d4\" x=\"56.522499\" y=\"221.543601\" style=\"fill: #ffffff\"/>\n    </g>\n    <g clip-path=\"url(#p2bd379c5d3)\">\n     <use xlink:href=\"#C0_0_5b2d5d60d4\" x=\"56.522499\" y=\"209.662609\" style=\"fill: #ffffff\"/>\n    </g>\n    <g clip-path=\"url(#p2bd379c5d3)\">\n     <use xlink:href=\"#C0_0_5b2d5d60d4\" x=\"63.373408\" y=\"340.353518\" style=\"fill: #ffffff\"/>\n    </g>\n    <g clip-path=\"url(#p2bd379c5d3)\">\n     <use xlink:href=\"#C0_0_5b2d5d60d4\" x=\"63.373408\" y=\"328.472527\" style=\"fill: #ffffff\"/>\n    </g>\n    <g clip-path=\"url(#p2bd379c5d3)\">\n     <use xlink:href=\"#C0_0_5b2d5d60d4\" x=\"63.373408\" y=\"316.591535\" style=\"fill: #ffffff\"/>\n    </g>\n    <g clip-path=\"url(#p2bd379c5d3)\">\n     <use xlink:href=\"#C0_0_5b2d5d60d4\" x=\"63.373408\" y=\"304.710543\" style=\"fill: #dfdfdf\"/>\n    </g>\n    <g clip-path=\"url(#p2bd379c5d3)\">\n     <use xlink:href=\"#C0_0_5b2d5d60d4\" x=\"63.373408\" y=\"292.829551\" style=\"fill: #a9a9a9\"/>\n    </g>\n    <g clip-path=\"url(#p2bd379c5d3)\">\n     <use xlink:href=\"#C0_0_5b2d5d60d4\" x=\"63.373408\" y=\"280.94856\" style=\"fill: #c2c2c2\"/>\n    </g>\n    <g clip-path=\"url(#p2bd379c5d3)\">\n     <use xlink:href=\"#C0_0_5b2d5d60d4\" x=\"63.373408\" y=\"269.067568\" style=\"fill: #d8d8d8\"/>\n    </g>\n    <g clip-path=\"url(#p2bd379c5d3)\">\n     <use xlink:href=\"#C0_0_5b2d5d60d4\" x=\"63.373408\" y=\"257.186576\" style=\"fill: #e1e1e1\"/>\n    </g>\n    <g clip-path=\"url(#p2bd379c5d3)\">\n     <use xlink:href=\"#C0_0_5b2d5d60d4\" x=\"63.373408\" y=\"245.305584\" style=\"fill: #ffffff\"/>\n    </g>\n    <g clip-path=\"url(#p2bd379c5d3)\">\n     <use xlink:href=\"#C0_0_5b2d5d60d4\" x=\"63.373408\" y=\"233.424593\" style=\"fill: #ffffff\"/>\n    </g>\n    <g clip-path=\"url(#p2bd379c5d3)\">\n     <use xlink:href=\"#C0_0_5b2d5d60d4\" x=\"63.373408\" y=\"221.543601\" style=\"fill: #ffffff\"/>\n    </g>\n    <g clip-path=\"url(#p2bd379c5d3)\">\n     <use xlink:href=\"#C0_0_5b2d5d60d4\" x=\"63.373408\" y=\"209.662609\" style=\"fill: #ffffff\"/>\n    </g>\n    <g clip-path=\"url(#p2bd379c5d3)\">\n     <use xlink:href=\"#C0_0_5b2d5d60d4\" x=\"70.224317\" y=\"340.353518\" style=\"fill: #ffffff\"/>\n    </g>\n    <g clip-path=\"url(#p2bd379c5d3)\">\n     <use xlink:href=\"#C0_0_5b2d5d60d4\" x=\"70.224317\" y=\"328.472527\" style=\"fill: #ffffff\"/>\n    </g>\n    <g clip-path=\"url(#p2bd379c5d3)\">\n     <use xlink:href=\"#C0_0_5b2d5d60d4\" x=\"70.224317\" y=\"316.591535\" style=\"fill: #fefefe\"/>\n    </g>\n    <g clip-path=\"url(#p2bd379c5d3)\">\n     <use xlink:href=\"#C0_0_5b2d5d60d4\" x=\"70.224317\" y=\"304.710543\" style=\"fill: #f7f7f7\"/>\n    </g>\n    <g clip-path=\"url(#p2bd379c5d3)\">\n     <use xlink:href=\"#C0_0_5b2d5d60d4\" x=\"70.224317\" y=\"292.829551\" style=\"fill: #d5d5d5\"/>\n    </g>\n    <g clip-path=\"url(#p2bd379c5d3)\">\n     <use xlink:href=\"#C0_0_5b2d5d60d4\" x=\"70.224317\" y=\"280.94856\" style=\"fill: #adadad\"/>\n    </g>\n    <g clip-path=\"url(#p2bd379c5d3)\">\n     <use xlink:href=\"#C0_0_5b2d5d60d4\" x=\"70.224317\" y=\"269.067568\" style=\"fill: #d0d0d0\"/>\n    </g>\n    <g clip-path=\"url(#p2bd379c5d3)\">\n     <use xlink:href=\"#C0_0_5b2d5d60d4\" x=\"70.224317\" y=\"257.186576\" style=\"fill: #fefefe\"/>\n    </g>\n    <g clip-path=\"url(#p2bd379c5d3)\">\n     <use xlink:href=\"#C0_0_5b2d5d60d4\" x=\"70.224317\" y=\"245.305584\" style=\"fill: #ffffff\"/>\n    </g>\n    <g clip-path=\"url(#p2bd379c5d3)\">\n     <use xlink:href=\"#C0_0_5b2d5d60d4\" x=\"70.224317\" y=\"233.424593\" style=\"fill: #ffffff\"/>\n    </g>\n    <g clip-path=\"url(#p2bd379c5d3)\">\n     <use xlink:href=\"#C0_0_5b2d5d60d4\" x=\"70.224317\" y=\"221.543601\" style=\"fill: #ffffff\"/>\n    </g>\n    <g clip-path=\"url(#p2bd379c5d3)\">\n     <use xlink:href=\"#C0_0_5b2d5d60d4\" x=\"70.224317\" y=\"209.662609\" style=\"fill: #ffffff\"/>\n    </g>\n    <g clip-path=\"url(#p2bd379c5d3)\">\n     <use xlink:href=\"#C0_0_5b2d5d60d4\" x=\"77.075226\" y=\"340.353518\" style=\"fill: #ffffff\"/>\n    </g>\n    <g clip-path=\"url(#p2bd379c5d3)\">\n     <use xlink:href=\"#C0_0_5b2d5d60d4\" x=\"77.075226\" y=\"328.472527\" style=\"fill: #ffffff\"/>\n    </g>\n    <g clip-path=\"url(#p2bd379c5d3)\">\n     <use xlink:href=\"#C0_0_5b2d5d60d4\" x=\"77.075226\" y=\"316.591535\" style=\"fill: #fbfbfb\"/>\n    </g>\n    <g clip-path=\"url(#p2bd379c5d3)\">\n     <use xlink:href=\"#C0_0_5b2d5d60d4\" x=\"77.075226\" y=\"304.710543\" style=\"fill: #a9a9a9\"/>\n    </g>\n    <g clip-path=\"url(#p2bd379c5d3)\">\n     <use xlink:href=\"#C0_0_5b2d5d60d4\" x=\"77.075226\" y=\"292.829551\" style=\"fill: #d0d0d0\"/>\n    </g>\n    <g clip-path=\"url(#p2bd379c5d3)\">\n     <use xlink:href=\"#C0_0_5b2d5d60d4\" x=\"77.075226\" y=\"280.94856\" style=\"fill: #dadada\"/>\n    </g>\n    <g clip-path=\"url(#p2bd379c5d3)\">\n     <use xlink:href=\"#C0_0_5b2d5d60d4\" x=\"77.075226\" y=\"269.067568\" style=\"fill: #c7c7c7\"/>\n    </g>\n    <g clip-path=\"url(#p2bd379c5d3)\">\n     <use xlink:href=\"#C0_0_5b2d5d60d4\" x=\"77.075226\" y=\"257.186576\" style=\"fill: #ffffff\"/>\n    </g>\n    <g clip-path=\"url(#p2bd379c5d3)\">\n     <use xlink:href=\"#C0_0_5b2d5d60d4\" x=\"77.075226\" y=\"245.305584\" style=\"fill: #ffffff\"/>\n    </g>\n    <g clip-path=\"url(#p2bd379c5d3)\">\n     <use xlink:href=\"#C0_0_5b2d5d60d4\" x=\"77.075226\" y=\"233.424593\" style=\"fill: #ffffff\"/>\n    </g>\n    <g clip-path=\"url(#p2bd379c5d3)\">\n     <use xlink:href=\"#C0_0_5b2d5d60d4\" x=\"77.075226\" y=\"221.543601\" style=\"fill: #ffffff\"/>\n    </g>\n    <g clip-path=\"url(#p2bd379c5d3)\">\n     <use xlink:href=\"#C0_0_5b2d5d60d4\" x=\"77.075226\" y=\"209.662609\" style=\"fill: #ffffff\"/>\n    </g>\n    <g clip-path=\"url(#p2bd379c5d3)\">\n     <use xlink:href=\"#C0_0_5b2d5d60d4\" x=\"83.926135\" y=\"340.353518\" style=\"fill: #ffffff\"/>\n    </g>\n    <g clip-path=\"url(#p2bd379c5d3)\">\n     <use xlink:href=\"#C0_0_5b2d5d60d4\" x=\"83.926135\" y=\"328.472527\" style=\"fill: #ffffff\"/>\n    </g>\n    <g clip-path=\"url(#p2bd379c5d3)\">\n     <use xlink:href=\"#C0_0_5b2d5d60d4\" x=\"83.926135\" y=\"316.591535\" style=\"fill: #ffffff\"/>\n    </g>\n    <g clip-path=\"url(#p2bd379c5d3)\">\n     <use xlink:href=\"#C0_0_5b2d5d60d4\" x=\"83.926135\" y=\"304.710543\" style=\"fill: #e6e6e6\"/>\n    </g>\n    <g clip-path=\"url(#p2bd379c5d3)\">\n     <use xlink:href=\"#C0_0_5b2d5d60d4\" x=\"83.926135\" y=\"292.829551\" style=\"fill: #c7c7c7\"/>\n    </g>\n    <g clip-path=\"url(#p2bd379c5d3)\">\n     <use xlink:href=\"#C0_0_5b2d5d60d4\" x=\"83.926135\" y=\"280.94856\" style=\"fill: #dfdfdf\"/>\n    </g>\n    <g clip-path=\"url(#p2bd379c5d3)\">\n     <use xlink:href=\"#C0_0_5b2d5d60d4\" x=\"83.926135\" y=\"269.067568\" style=\"fill: #c5c5c5\"/>\n    </g>\n    <g clip-path=\"url(#p2bd379c5d3)\">\n     <use xlink:href=\"#C0_0_5b2d5d60d4\" x=\"83.926135\" y=\"257.186576\" style=\"fill: #ffffff\"/>\n    </g>\n    <g clip-path=\"url(#p2bd379c5d3)\">\n     <use xlink:href=\"#C0_0_5b2d5d60d4\" x=\"83.926135\" y=\"245.305584\" style=\"fill: #ffffff\"/>\n    </g>\n    <g clip-path=\"url(#p2bd379c5d3)\">\n     <use xlink:href=\"#C0_0_5b2d5d60d4\" x=\"83.926135\" y=\"233.424593\" style=\"fill: #ffffff\"/>\n    </g>\n    <g clip-path=\"url(#p2bd379c5d3)\">\n     <use xlink:href=\"#C0_0_5b2d5d60d4\" x=\"83.926135\" y=\"221.543601\" style=\"fill: #ffffff\"/>\n    </g>\n    <g clip-path=\"url(#p2bd379c5d3)\">\n     <use xlink:href=\"#C0_0_5b2d5d60d4\" x=\"83.926135\" y=\"209.662609\" style=\"fill: #ffffff\"/>\n    </g>\n    <g clip-path=\"url(#p2bd379c5d3)\">\n     <use xlink:href=\"#C0_0_5b2d5d60d4\" x=\"-49.666592\" y=\"334.413022\" style=\"fill: #ffffff\"/>\n    </g>\n    <g clip-path=\"url(#p2bd379c5d3)\">\n     <use xlink:href=\"#C0_0_5b2d5d60d4\" x=\"-49.666592\" y=\"322.532031\" style=\"fill: #ffffff\"/>\n    </g>\n    <g clip-path=\"url(#p2bd379c5d3)\">\n     <use xlink:href=\"#C0_0_5b2d5d60d4\" x=\"-49.666592\" y=\"310.651039\" style=\"fill: #ffffff\"/>\n    </g>\n    <g clip-path=\"url(#p2bd379c5d3)\">\n     <use xlink:href=\"#C0_0_5b2d5d60d4\" x=\"-49.666592\" y=\"298.770047\" style=\"fill: #f0f0f0\"/>\n    </g>\n    <g clip-path=\"url(#p2bd379c5d3)\">\n     <use xlink:href=\"#C0_0_5b2d5d60d4\" x=\"-49.666592\" y=\"286.889055\" style=\"fill: #adadad\"/>\n    </g>\n    <g clip-path=\"url(#p2bd379c5d3)\">\n     <use xlink:href=\"#C0_0_5b2d5d60d4\" x=\"-49.666592\" y=\"275.008064\" style=\"fill: #676767\"/>\n    </g>\n    <g clip-path=\"url(#p2bd379c5d3)\">\n     <use xlink:href=\"#C0_0_5b2d5d60d4\" x=\"-49.666592\" y=\"263.127072\" style=\"fill: #9a9a9a\"/>\n    </g>\n    <g clip-path=\"url(#p2bd379c5d3)\">\n     <use xlink:href=\"#C0_0_5b2d5d60d4\" x=\"-49.666592\" y=\"251.24608\" style=\"fill: #fbfbfb\"/>\n    </g>\n    <g clip-path=\"url(#p2bd379c5d3)\">\n     <use xlink:href=\"#C0_0_5b2d5d60d4\" x=\"-49.666592\" y=\"239.365089\" style=\"fill: #ffffff\"/>\n    </g>\n    <g clip-path=\"url(#p2bd379c5d3)\">\n     <use xlink:href=\"#C0_0_5b2d5d60d4\" x=\"-49.666592\" y=\"227.484097\" style=\"fill: #ffffff\"/>\n    </g>\n    <g clip-path=\"url(#p2bd379c5d3)\">\n     <use xlink:href=\"#C0_0_5b2d5d60d4\" x=\"-49.666592\" y=\"215.603105\" style=\"fill: #ffffff\"/>\n    </g>\n    <g clip-path=\"url(#p2bd379c5d3)\">\n     <use xlink:href=\"#C0_0_5b2d5d60d4\" x=\"-42.815683\" y=\"334.413022\" style=\"fill: #ffffff\"/>\n    </g>\n    <g clip-path=\"url(#p2bd379c5d3)\">\n     <use xlink:href=\"#C0_0_5b2d5d60d4\" x=\"-42.815683\" y=\"322.532031\" style=\"fill: #ffffff\"/>\n    </g>\n    <g clip-path=\"url(#p2bd379c5d3)\">\n     <use xlink:href=\"#C0_0_5b2d5d60d4\" x=\"-42.815683\" y=\"310.651039\" style=\"fill: #eaeaea\"/>\n    </g>\n    <g clip-path=\"url(#p2bd379c5d3)\">\n     <use xlink:href=\"#C0_0_5b2d5d60d4\" x=\"-42.815683\" y=\"298.770047\" style=\"fill: #dcdcdc\"/>\n    </g>\n    <g clip-path=\"url(#p2bd379c5d3)\">\n     <use xlink:href=\"#C0_0_5b2d5d60d4\" x=\"-42.815683\" y=\"286.889055\" style=\"fill: #737373\"/>\n    </g>\n    <g clip-path=\"url(#p2bd379c5d3)\">\n     <use xlink:href=\"#C0_0_5b2d5d60d4\" x=\"-42.815683\" y=\"275.008064\" style=\"fill: #737373\"/>\n    </g>\n    <g clip-path=\"url(#p2bd379c5d3)\">\n     <use xlink:href=\"#C0_0_5b2d5d60d4\" x=\"-42.815683\" y=\"263.127072\" style=\"fill: #151515\"/>\n    </g>\n    <g clip-path=\"url(#p2bd379c5d3)\">\n     <use xlink:href=\"#C0_0_5b2d5d60d4\" x=\"-42.815683\" y=\"251.24608\"/>\n    </g>\n    <g clip-path=\"url(#p2bd379c5d3)\">\n     <use xlink:href=\"#C0_0_5b2d5d60d4\" x=\"-42.815683\" y=\"239.365089\" style=\"fill: #ffffff\"/>\n    </g>\n    <g clip-path=\"url(#p2bd379c5d3)\">\n     <use xlink:href=\"#C0_0_5b2d5d60d4\" x=\"-42.815683\" y=\"227.484097\" style=\"fill: #ffffff\"/>\n    </g>\n    <g clip-path=\"url(#p2bd379c5d3)\">\n     <use xlink:href=\"#C0_0_5b2d5d60d4\" x=\"-42.815683\" y=\"215.603105\" style=\"fill: #ffffff\"/>\n    </g>\n    <g clip-path=\"url(#p2bd379c5d3)\">\n     <use xlink:href=\"#C0_0_5b2d5d60d4\" x=\"-35.964774\" y=\"334.413022\" style=\"fill: #ffffff\"/>\n    </g>\n    <g clip-path=\"url(#p2bd379c5d3)\">\n     <use xlink:href=\"#C0_0_5b2d5d60d4\" x=\"-35.964774\" y=\"322.532031\" style=\"fill: #fcfcfc\"/>\n    </g>\n    <g clip-path=\"url(#p2bd379c5d3)\">\n     <use xlink:href=\"#C0_0_5b2d5d60d4\" x=\"-35.964774\" y=\"310.651039\" style=\"fill: #d5d5d5\"/>\n    </g>\n    <g clip-path=\"url(#p2bd379c5d3)\">\n     <use xlink:href=\"#C0_0_5b2d5d60d4\" x=\"-35.964774\" y=\"298.770047\" style=\"fill: #f0f0f0\"/>\n    </g>\n    <g clip-path=\"url(#p2bd379c5d3)\">\n     <use xlink:href=\"#C0_0_5b2d5d60d4\" x=\"-35.964774\" y=\"286.889055\" style=\"fill: #c5c5c5\"/>\n    </g>\n    <g clip-path=\"url(#p2bd379c5d3)\">\n     <use xlink:href=\"#C0_0_5b2d5d60d4\" x=\"-35.964774\" y=\"275.008064\" style=\"fill: #858585\"/>\n    </g>\n    <g clip-path=\"url(#p2bd379c5d3)\">\n     <use xlink:href=\"#C0_0_5b2d5d60d4\" x=\"-35.964774\" y=\"263.127072\" style=\"fill: #6d6d6d\"/>\n    </g>\n    <g clip-path=\"url(#p2bd379c5d3)\">\n     <use xlink:href=\"#C0_0_5b2d5d60d4\" x=\"-35.964774\" y=\"251.24608\" style=\"fill: #a9a9a9\"/>\n    </g>\n    <g clip-path=\"url(#p2bd379c5d3)\">\n     <use xlink:href=\"#C0_0_5b2d5d60d4\" x=\"-35.964774\" y=\"239.365089\" style=\"fill: #ffffff\"/>\n    </g>\n    <g clip-path=\"url(#p2bd379c5d3)\">\n     <use xlink:href=\"#C0_0_5b2d5d60d4\" x=\"-35.964774\" y=\"227.484097\" style=\"fill: #ffffff\"/>\n    </g>\n    <g clip-path=\"url(#p2bd379c5d3)\">\n     <use xlink:href=\"#C0_0_5b2d5d60d4\" x=\"-35.964774\" y=\"215.603105\" style=\"fill: #ffffff\"/>\n    </g>\n    <g clip-path=\"url(#p2bd379c5d3)\">\n     <use xlink:href=\"#C0_0_5b2d5d60d4\" x=\"-29.113865\" y=\"334.413022\" style=\"fill: #ffffff\"/>\n    </g>\n    <g clip-path=\"url(#p2bd379c5d3)\">\n     <use xlink:href=\"#C0_0_5b2d5d60d4\" x=\"-29.113865\" y=\"322.532031\" style=\"fill: #fcfcfc\"/>\n    </g>\n    <g clip-path=\"url(#p2bd379c5d3)\">\n     <use xlink:href=\"#C0_0_5b2d5d60d4\" x=\"-29.113865\" y=\"310.651039\" style=\"fill: #fcfcfc\"/>\n    </g>\n    <g clip-path=\"url(#p2bd379c5d3)\">\n     <use xlink:href=\"#C0_0_5b2d5d60d4\" x=\"-29.113865\" y=\"298.770047\" style=\"fill: #e8e8e8\"/>\n    </g>\n    <g clip-path=\"url(#p2bd379c5d3)\">\n     <use xlink:href=\"#C0_0_5b2d5d60d4\" x=\"-29.113865\" y=\"286.889055\" style=\"fill: #dadada\"/>\n    </g>\n    <g clip-path=\"url(#p2bd379c5d3)\">\n     <use xlink:href=\"#C0_0_5b2d5d60d4\" x=\"-29.113865\" y=\"275.008064\" style=\"fill: #d3d3d3\"/>\n    </g>\n    <g clip-path=\"url(#p2bd379c5d3)\">\n     <use xlink:href=\"#C0_0_5b2d5d60d4\" x=\"-29.113865\" y=\"263.127072\" style=\"fill: #959595\"/>\n    </g>\n    <g clip-path=\"url(#p2bd379c5d3)\">\n     <use xlink:href=\"#C0_0_5b2d5d60d4\" x=\"-29.113865\" y=\"251.24608\" style=\"fill: #858585\"/>\n    </g>\n    <g clip-path=\"url(#p2bd379c5d3)\">\n     <use xlink:href=\"#C0_0_5b2d5d60d4\" x=\"-29.113865\" y=\"239.365089\" style=\"fill: #f9f9f9\"/>\n    </g>\n    <g clip-path=\"url(#p2bd379c5d3)\">\n     <use xlink:href=\"#C0_0_5b2d5d60d4\" x=\"-29.113865\" y=\"227.484097\" style=\"fill: #fbfbfb\"/>\n    </g>\n    <g clip-path=\"url(#p2bd379c5d3)\">\n     <use xlink:href=\"#C0_0_5b2d5d60d4\" x=\"-29.113865\" y=\"215.603105\" style=\"fill: #ffffff\"/>\n    </g>\n    <g clip-path=\"url(#p2bd379c5d3)\">\n     <use xlink:href=\"#C0_0_5b2d5d60d4\" x=\"-22.262956\" y=\"334.413022\" style=\"fill: #ffffff\"/>\n    </g>\n    <g clip-path=\"url(#p2bd379c5d3)\">\n     <use xlink:href=\"#C0_0_5b2d5d60d4\" x=\"-22.262956\" y=\"322.532031\" style=\"fill: #eaeaea\"/>\n    </g>\n    <g clip-path=\"url(#p2bd379c5d3)\">\n     <use xlink:href=\"#C0_0_5b2d5d60d4\" x=\"-22.262956\" y=\"310.651039\" style=\"fill: #f4f4f4\"/>\n    </g>\n    <g clip-path=\"url(#p2bd379c5d3)\">\n     <use xlink:href=\"#C0_0_5b2d5d60d4\" x=\"-22.262956\" y=\"298.770047\" style=\"fill: #dadada\"/>\n    </g>\n    <g clip-path=\"url(#p2bd379c5d3)\">\n     <use xlink:href=\"#C0_0_5b2d5d60d4\" x=\"-22.262956\" y=\"286.889055\" style=\"fill: #e4e4e4\"/>\n    </g>\n    <g clip-path=\"url(#p2bd379c5d3)\">\n     <use xlink:href=\"#C0_0_5b2d5d60d4\" x=\"-22.262956\" y=\"275.008064\" style=\"fill: #bfbfbf\"/>\n    </g>\n    <g clip-path=\"url(#p2bd379c5d3)\">\n     <use xlink:href=\"#C0_0_5b2d5d60d4\" x=\"-22.262956\" y=\"263.127072\" style=\"fill: #adadad\"/>\n    </g>\n    <g clip-path=\"url(#p2bd379c5d3)\">\n     <use xlink:href=\"#C0_0_5b2d5d60d4\" x=\"-22.262956\" y=\"251.24608\" style=\"fill: #cacaca\"/>\n    </g>\n    <g clip-path=\"url(#p2bd379c5d3)\">\n     <use xlink:href=\"#C0_0_5b2d5d60d4\" x=\"-22.262956\" y=\"239.365089\" style=\"fill: #fbfbfb\"/>\n    </g>\n    <g clip-path=\"url(#p2bd379c5d3)\">\n     <use xlink:href=\"#C0_0_5b2d5d60d4\" x=\"-22.262956\" y=\"227.484097\" style=\"fill: #f9f9f9\"/>\n    </g>\n    <g clip-path=\"url(#p2bd379c5d3)\">\n     <use xlink:href=\"#C0_0_5b2d5d60d4\" x=\"-22.262956\" y=\"215.603105\" style=\"fill: #f9f9f9\"/>\n    </g>\n    <g clip-path=\"url(#p2bd379c5d3)\">\n     <use xlink:href=\"#C0_0_5b2d5d60d4\" x=\"-15.412047\" y=\"334.413022\" style=\"fill: #ffffff\"/>\n    </g>\n    <g clip-path=\"url(#p2bd379c5d3)\">\n     <use xlink:href=\"#C0_0_5b2d5d60d4\" x=\"-15.412047\" y=\"322.532031\" style=\"fill: #fbfbfb\"/>\n    </g>\n    <g clip-path=\"url(#p2bd379c5d3)\">\n     <use xlink:href=\"#C0_0_5b2d5d60d4\" x=\"-15.412047\" y=\"310.651039\" style=\"fill: #f0f0f0\"/>\n    </g>\n    <g clip-path=\"url(#p2bd379c5d3)\">\n     <use xlink:href=\"#C0_0_5b2d5d60d4\" x=\"-15.412047\" y=\"298.770047\" style=\"fill: #dfdfdf\"/>\n    </g>\n    <g clip-path=\"url(#p2bd379c5d3)\">\n     <use xlink:href=\"#C0_0_5b2d5d60d4\" x=\"-15.412047\" y=\"286.889055\" style=\"fill: #d0d0d0\"/>\n    </g>\n    <g clip-path=\"url(#p2bd379c5d3)\">\n     <use xlink:href=\"#C0_0_5b2d5d60d4\" x=\"-15.412047\" y=\"275.008064\" style=\"fill: #b4b4b4\"/>\n    </g>\n    <g clip-path=\"url(#p2bd379c5d3)\">\n     <use xlink:href=\"#C0_0_5b2d5d60d4\" x=\"-15.412047\" y=\"263.127072\" style=\"fill: #b9b9b9\"/>\n    </g>\n    <g clip-path=\"url(#p2bd379c5d3)\">\n     <use xlink:href=\"#C0_0_5b2d5d60d4\" x=\"-15.412047\" y=\"251.24608\" style=\"fill: #e1e1e1\"/>\n    </g>\n    <g clip-path=\"url(#p2bd379c5d3)\">\n     <use xlink:href=\"#C0_0_5b2d5d60d4\" x=\"-15.412047\" y=\"239.365089\" style=\"fill: #f0f0f0\"/>\n    </g>\n    <g clip-path=\"url(#p2bd379c5d3)\">\n     <use xlink:href=\"#C0_0_5b2d5d60d4\" x=\"-15.412047\" y=\"227.484097\" style=\"fill: #adadad\"/>\n    </g>\n    <g clip-path=\"url(#p2bd379c5d3)\">\n     <use xlink:href=\"#C0_0_5b2d5d60d4\" x=\"-15.412047\" y=\"215.603105\" style=\"fill: #b4b4b4\"/>\n    </g>\n    <g clip-path=\"url(#p2bd379c5d3)\">\n     <use xlink:href=\"#C0_0_5b2d5d60d4\" x=\"-8.561138\" y=\"334.413022\" style=\"fill: #ffffff\"/>\n    </g>\n    <g clip-path=\"url(#p2bd379c5d3)\">\n     <use xlink:href=\"#C0_0_5b2d5d60d4\" x=\"-8.561138\" y=\"322.532031\" style=\"fill: #ffffff\"/>\n    </g>\n    <g clip-path=\"url(#p2bd379c5d3)\">\n     <use xlink:href=\"#C0_0_5b2d5d60d4\" x=\"-8.561138\" y=\"310.651039\" style=\"fill: #f9f9f9\"/>\n    </g>\n    <g clip-path=\"url(#p2bd379c5d3)\">\n     <use xlink:href=\"#C0_0_5b2d5d60d4\" x=\"-8.561138\" y=\"298.770047\" style=\"fill: #f4f4f4\"/>\n    </g>\n    <g clip-path=\"url(#p2bd379c5d3)\">\n     <use xlink:href=\"#C0_0_5b2d5d60d4\" x=\"-8.561138\" y=\"286.889055\" style=\"fill: #dfdfdf\"/>\n    </g>\n    <g clip-path=\"url(#p2bd379c5d3)\">\n     <use xlink:href=\"#C0_0_5b2d5d60d4\" x=\"-8.561138\" y=\"275.008064\" style=\"fill: #cccccc\"/>\n    </g>\n    <g clip-path=\"url(#p2bd379c5d3)\">\n     <use xlink:href=\"#C0_0_5b2d5d60d4\" x=\"-8.561138\" y=\"263.127072\" style=\"fill: #bdbdbd\"/>\n    </g>\n    <g clip-path=\"url(#p2bd379c5d3)\">\n     <use xlink:href=\"#C0_0_5b2d5d60d4\" x=\"-8.561138\" y=\"251.24608\" style=\"fill: #e6e6e6\"/>\n    </g>\n    <g clip-path=\"url(#p2bd379c5d3)\">\n     <use xlink:href=\"#C0_0_5b2d5d60d4\" x=\"-8.561138\" y=\"239.365089\" style=\"fill: #d0d0d0\"/>\n    </g>\n    <g clip-path=\"url(#p2bd379c5d3)\">\n     <use xlink:href=\"#C0_0_5b2d5d60d4\" x=\"-8.561138\" y=\"227.484097\" style=\"fill: #828282\"/>\n    </g>\n    <g clip-path=\"url(#p2bd379c5d3)\">\n     <use xlink:href=\"#C0_0_5b2d5d60d4\" x=\"-8.561138\" y=\"215.603105\" style=\"fill: #bdbdbd\"/>\n    </g>\n    <g clip-path=\"url(#p2bd379c5d3)\">\n     <use xlink:href=\"#C0_0_5b2d5d60d4\" x=\"-1.710229\" y=\"334.413022\" style=\"fill: #f7f7f7\"/>\n    </g>\n    <g clip-path=\"url(#p2bd379c5d3)\">\n     <use xlink:href=\"#C0_0_5b2d5d60d4\" x=\"-1.710229\" y=\"322.532031\" style=\"fill: #fefefe\"/>\n    </g>\n    <g clip-path=\"url(#p2bd379c5d3)\">\n     <use xlink:href=\"#C0_0_5b2d5d60d4\" x=\"-1.710229\" y=\"310.651039\" style=\"fill: #fefefe\"/>\n    </g>\n    <g clip-path=\"url(#p2bd379c5d3)\">\n     <use xlink:href=\"#C0_0_5b2d5d60d4\" x=\"-1.710229\" y=\"298.770047\" style=\"fill: #f5f5f5\"/>\n    </g>\n    <g clip-path=\"url(#p2bd379c5d3)\">\n     <use xlink:href=\"#C0_0_5b2d5d60d4\" x=\"-1.710229\" y=\"286.889055\" style=\"fill: #e4e4e4\"/>\n    </g>\n    <g clip-path=\"url(#p2bd379c5d3)\">\n     <use xlink:href=\"#C0_0_5b2d5d60d4\" x=\"-1.710229\" y=\"275.008064\" style=\"fill: #dcdcdc\"/>\n    </g>\n    <g clip-path=\"url(#p2bd379c5d3)\">\n     <use xlink:href=\"#C0_0_5b2d5d60d4\" x=\"-1.710229\" y=\"263.127072\" style=\"fill: #9a9a9a\"/>\n    </g>\n    <g clip-path=\"url(#p2bd379c5d3)\">\n     <use xlink:href=\"#C0_0_5b2d5d60d4\" x=\"-1.710229\" y=\"251.24608\" style=\"fill: #dfdfdf\"/>\n    </g>\n    <g clip-path=\"url(#p2bd379c5d3)\">\n     <use xlink:href=\"#C0_0_5b2d5d60d4\" x=\"-1.710229\" y=\"239.365089\" style=\"fill: #d8d8d8\"/>\n    </g>\n    <g clip-path=\"url(#p2bd379c5d3)\">\n     <use xlink:href=\"#C0_0_5b2d5d60d4\" x=\"-1.710229\" y=\"227.484097\" style=\"fill: #9e9e9e\"/>\n    </g>\n    <g clip-path=\"url(#p2bd379c5d3)\">\n     <use xlink:href=\"#C0_0_5b2d5d60d4\" x=\"-1.710229\" y=\"215.603105\" style=\"fill: #eeeeee\"/>\n    </g>\n    <g clip-path=\"url(#p2bd379c5d3)\">\n     <use xlink:href=\"#C0_0_5b2d5d60d4\" x=\"5.140681\" y=\"334.413022\" style=\"fill: #b4b4b4\"/>\n    </g>\n    <g clip-path=\"url(#p2bd379c5d3)\">\n     <use xlink:href=\"#C0_0_5b2d5d60d4\" x=\"5.140681\" y=\"322.532031\" style=\"fill: #e4e4e4\"/>\n    </g>\n    <g clip-path=\"url(#p2bd379c5d3)\">\n     <use xlink:href=\"#C0_0_5b2d5d60d4\" x=\"5.140681\" y=\"310.651039\" style=\"fill: #f7f7f7\"/>\n    </g>\n    <g clip-path=\"url(#p2bd379c5d3)\">\n     <use xlink:href=\"#C0_0_5b2d5d60d4\" x=\"5.140681\" y=\"298.770047\" style=\"fill: #ececec\"/>\n    </g>\n    <g clip-path=\"url(#p2bd379c5d3)\">\n     <use xlink:href=\"#C0_0_5b2d5d60d4\" x=\"5.140681\" y=\"286.889055\" style=\"fill: #d5d5d5\"/>\n    </g>\n    <g clip-path=\"url(#p2bd379c5d3)\">\n     <use xlink:href=\"#C0_0_5b2d5d60d4\" x=\"5.140681\" y=\"275.008064\" style=\"fill: #eeeeee\"/>\n    </g>\n    <g clip-path=\"url(#p2bd379c5d3)\">\n     <use xlink:href=\"#C0_0_5b2d5d60d4\" x=\"5.140681\" y=\"263.127072\" style=\"fill: #c2c2c2\"/>\n    </g>\n    <g clip-path=\"url(#p2bd379c5d3)\">\n     <use xlink:href=\"#C0_0_5b2d5d60d4\" x=\"5.140681\" y=\"251.24608\" style=\"fill: #eeeeee\"/>\n    </g>\n    <g clip-path=\"url(#p2bd379c5d3)\">\n     <use xlink:href=\"#C0_0_5b2d5d60d4\" x=\"5.140681\" y=\"239.365089\" style=\"fill: #f0f0f0\"/>\n    </g>\n    <g clip-path=\"url(#p2bd379c5d3)\">\n     <use xlink:href=\"#C0_0_5b2d5d60d4\" x=\"5.140681\" y=\"227.484097\" style=\"fill: #f2f2f2\"/>\n    </g>\n    <g clip-path=\"url(#p2bd379c5d3)\">\n     <use xlink:href=\"#C0_0_5b2d5d60d4\" x=\"5.140681\" y=\"215.603105\" style=\"fill: #ffffff\"/>\n    </g>\n    <g clip-path=\"url(#p2bd379c5d3)\">\n     <use xlink:href=\"#C0_0_5b2d5d60d4\" x=\"11.99159\" y=\"334.413022\" style=\"fill: #e8e8e8\"/>\n    </g>\n    <g clip-path=\"url(#p2bd379c5d3)\">\n     <use xlink:href=\"#C0_0_5b2d5d60d4\" x=\"11.99159\" y=\"322.532031\" style=\"fill: #fefefe\"/>\n    </g>\n    <g clip-path=\"url(#p2bd379c5d3)\">\n     <use xlink:href=\"#C0_0_5b2d5d60d4\" x=\"11.99159\" y=\"310.651039\" style=\"fill: #ffffff\"/>\n    </g>\n    <g clip-path=\"url(#p2bd379c5d3)\">\n     <use xlink:href=\"#C0_0_5b2d5d60d4\" x=\"11.99159\" y=\"298.770047\" style=\"fill: #ececec\"/>\n    </g>\n    <g clip-path=\"url(#p2bd379c5d3)\">\n     <use xlink:href=\"#C0_0_5b2d5d60d4\" x=\"11.99159\" y=\"286.889055\" style=\"fill: #e6e6e6\"/>\n    </g>\n    <g clip-path=\"url(#p2bd379c5d3)\">\n     <use xlink:href=\"#C0_0_5b2d5d60d4\" x=\"11.99159\" y=\"275.008064\" style=\"fill: #f8f8f8\"/>\n    </g>\n    <g clip-path=\"url(#p2bd379c5d3)\">\n     <use xlink:href=\"#C0_0_5b2d5d60d4\" x=\"11.99159\" y=\"263.127072\" style=\"fill: #f7f7f7\"/>\n    </g>\n    <g clip-path=\"url(#p2bd379c5d3)\">\n     <use xlink:href=\"#C0_0_5b2d5d60d4\" x=\"11.99159\" y=\"251.24608\" style=\"fill: #ffffff\"/>\n    </g>\n    <g clip-path=\"url(#p2bd379c5d3)\">\n     <use xlink:href=\"#C0_0_5b2d5d60d4\" x=\"11.99159\" y=\"239.365089\" style=\"fill: #ffffff\"/>\n    </g>\n    <g clip-path=\"url(#p2bd379c5d3)\">\n     <use xlink:href=\"#C0_0_5b2d5d60d4\" x=\"11.99159\" y=\"227.484097\" style=\"fill: #ffffff\"/>\n    </g>\n    <g clip-path=\"url(#p2bd379c5d3)\">\n     <use xlink:href=\"#C0_0_5b2d5d60d4\" x=\"11.99159\" y=\"215.603105\" style=\"fill: #ffffff\"/>\n    </g>\n    <g clip-path=\"url(#p2bd379c5d3)\">\n     <use xlink:href=\"#C0_0_5b2d5d60d4\" x=\"18.842499\" y=\"334.413022\" style=\"fill: #ffffff\"/>\n    </g>\n    <g clip-path=\"url(#p2bd379c5d3)\">\n     <use xlink:href=\"#C0_0_5b2d5d60d4\" x=\"18.842499\" y=\"322.532031\" style=\"fill: #ffffff\"/>\n    </g>\n    <g clip-path=\"url(#p2bd379c5d3)\">\n     <use xlink:href=\"#C0_0_5b2d5d60d4\" x=\"18.842499\" y=\"310.651039\" style=\"fill: #d8d8d8\"/>\n    </g>\n    <g clip-path=\"url(#p2bd379c5d3)\">\n     <use xlink:href=\"#C0_0_5b2d5d60d4\" x=\"18.842499\" y=\"298.770047\" style=\"fill: #fcfcfc\"/>\n    </g>\n    <g clip-path=\"url(#p2bd379c5d3)\">\n     <use xlink:href=\"#C0_0_5b2d5d60d4\" x=\"18.842499\" y=\"286.889055\" style=\"fill: #fcfcfc\"/>\n    </g>\n    <g clip-path=\"url(#p2bd379c5d3)\">\n     <use xlink:href=\"#C0_0_5b2d5d60d4\" x=\"18.842499\" y=\"275.008064\" style=\"fill: #ffffff\"/>\n    </g>\n    <g clip-path=\"url(#p2bd379c5d3)\">\n     <use xlink:href=\"#C0_0_5b2d5d60d4\" x=\"18.842499\" y=\"263.127072\" style=\"fill: #ffffff\"/>\n    </g>\n    <g clip-path=\"url(#p2bd379c5d3)\">\n     <use xlink:href=\"#C0_0_5b2d5d60d4\" x=\"18.842499\" y=\"251.24608\" style=\"fill: #ffffff\"/>\n    </g>\n    <g clip-path=\"url(#p2bd379c5d3)\">\n     <use xlink:href=\"#C0_0_5b2d5d60d4\" x=\"18.842499\" y=\"239.365089\" style=\"fill: #ffffff\"/>\n    </g>\n    <g clip-path=\"url(#p2bd379c5d3)\">\n     <use xlink:href=\"#C0_0_5b2d5d60d4\" x=\"18.842499\" y=\"227.484097\" style=\"fill: #ffffff\"/>\n    </g>\n    <g clip-path=\"url(#p2bd379c5d3)\">\n     <use xlink:href=\"#C0_0_5b2d5d60d4\" x=\"18.842499\" y=\"215.603105\" style=\"fill: #ffffff\"/>\n    </g>\n    <g clip-path=\"url(#p2bd379c5d3)\">\n     <use xlink:href=\"#C0_0_5b2d5d60d4\" x=\"25.693408\" y=\"334.413022\" style=\"fill: #ffffff\"/>\n    </g>\n    <g clip-path=\"url(#p2bd379c5d3)\">\n     <use xlink:href=\"#C0_0_5b2d5d60d4\" x=\"25.693408\" y=\"322.532031\" style=\"fill: #ffffff\"/>\n    </g>\n    <g clip-path=\"url(#p2bd379c5d3)\">\n     <use xlink:href=\"#C0_0_5b2d5d60d4\" x=\"25.693408\" y=\"310.651039\" style=\"fill: #ffffff\"/>\n    </g>\n    <g clip-path=\"url(#p2bd379c5d3)\">\n     <use xlink:href=\"#C0_0_5b2d5d60d4\" x=\"25.693408\" y=\"298.770047\" style=\"fill: #fefefe\"/>\n    </g>\n    <g clip-path=\"url(#p2bd379c5d3)\">\n     <use xlink:href=\"#C0_0_5b2d5d60d4\" x=\"25.693408\" y=\"286.889055\" style=\"fill: #ffffff\"/>\n    </g>\n    <g clip-path=\"url(#p2bd379c5d3)\">\n     <use xlink:href=\"#C0_0_5b2d5d60d4\" x=\"25.693408\" y=\"275.008064\" style=\"fill: #ffffff\"/>\n    </g>\n    <g clip-path=\"url(#p2bd379c5d3)\">\n     <use xlink:href=\"#C0_0_5b2d5d60d4\" x=\"25.693408\" y=\"263.127072\" style=\"fill: #ffffff\"/>\n    </g>\n    <g clip-path=\"url(#p2bd379c5d3)\">\n     <use xlink:href=\"#C0_0_5b2d5d60d4\" x=\"25.693408\" y=\"251.24608\" style=\"fill: #ffffff\"/>\n    </g>\n    <g clip-path=\"url(#p2bd379c5d3)\">\n     <use xlink:href=\"#C0_0_5b2d5d60d4\" x=\"25.693408\" y=\"239.365089\" style=\"fill: #ffffff\"/>\n    </g>\n    <g clip-path=\"url(#p2bd379c5d3)\">\n     <use xlink:href=\"#C0_0_5b2d5d60d4\" x=\"25.693408\" y=\"227.484097\" style=\"fill: #ffffff\"/>\n    </g>\n    <g clip-path=\"url(#p2bd379c5d3)\">\n     <use xlink:href=\"#C0_0_5b2d5d60d4\" x=\"25.693408\" y=\"215.603105\" style=\"fill: #ffffff\"/>\n    </g>\n    <g clip-path=\"url(#p2bd379c5d3)\">\n     <use xlink:href=\"#C0_0_5b2d5d60d4\" x=\"32.544317\" y=\"334.413022\" style=\"fill: #ffffff\"/>\n    </g>\n    <g clip-path=\"url(#p2bd379c5d3)\">\n     <use xlink:href=\"#C0_0_5b2d5d60d4\" x=\"32.544317\" y=\"322.532031\" style=\"fill: #ffffff\"/>\n    </g>\n    <g clip-path=\"url(#p2bd379c5d3)\">\n     <use xlink:href=\"#C0_0_5b2d5d60d4\" x=\"32.544317\" y=\"310.651039\" style=\"fill: #ffffff\"/>\n    </g>\n    <g clip-path=\"url(#p2bd379c5d3)\">\n     <use xlink:href=\"#C0_0_5b2d5d60d4\" x=\"32.544317\" y=\"298.770047\" style=\"fill: #ffffff\"/>\n    </g>\n    <g clip-path=\"url(#p2bd379c5d3)\">\n     <use xlink:href=\"#C0_0_5b2d5d60d4\" x=\"32.544317\" y=\"286.889055\" style=\"fill: #ffffff\"/>\n    </g>\n    <g clip-path=\"url(#p2bd379c5d3)\">\n     <use xlink:href=\"#C0_0_5b2d5d60d4\" x=\"32.544317\" y=\"275.008064\" style=\"fill: #ffffff\"/>\n    </g>\n    <g clip-path=\"url(#p2bd379c5d3)\">\n     <use xlink:href=\"#C0_0_5b2d5d60d4\" x=\"32.544317\" y=\"263.127072\" style=\"fill: #ffffff\"/>\n    </g>\n    <g clip-path=\"url(#p2bd379c5d3)\">\n     <use xlink:href=\"#C0_0_5b2d5d60d4\" x=\"32.544317\" y=\"251.24608\" style=\"fill: #ffffff\"/>\n    </g>\n    <g clip-path=\"url(#p2bd379c5d3)\">\n     <use xlink:href=\"#C0_0_5b2d5d60d4\" x=\"32.544317\" y=\"239.365089\" style=\"fill: #ffffff\"/>\n    </g>\n    <g clip-path=\"url(#p2bd379c5d3)\">\n     <use xlink:href=\"#C0_0_5b2d5d60d4\" x=\"32.544317\" y=\"227.484097\" style=\"fill: #ffffff\"/>\n    </g>\n    <g clip-path=\"url(#p2bd379c5d3)\">\n     <use xlink:href=\"#C0_0_5b2d5d60d4\" x=\"32.544317\" y=\"215.603105\" style=\"fill: #ffffff\"/>\n    </g>\n    <g clip-path=\"url(#p2bd379c5d3)\">\n     <use xlink:href=\"#C0_0_5b2d5d60d4\" x=\"39.395226\" y=\"334.413022\" style=\"fill: #ffffff\"/>\n    </g>\n    <g clip-path=\"url(#p2bd379c5d3)\">\n     <use xlink:href=\"#C0_0_5b2d5d60d4\" x=\"39.395226\" y=\"322.532031\" style=\"fill: #ffffff\"/>\n    </g>\n    <g clip-path=\"url(#p2bd379c5d3)\">\n     <use xlink:href=\"#C0_0_5b2d5d60d4\" x=\"39.395226\" y=\"310.651039\" style=\"fill: #ffffff\"/>\n    </g>\n    <g clip-path=\"url(#p2bd379c5d3)\">\n     <use xlink:href=\"#C0_0_5b2d5d60d4\" x=\"39.395226\" y=\"298.770047\" style=\"fill: #ffffff\"/>\n    </g>\n    <g clip-path=\"url(#p2bd379c5d3)\">\n     <use xlink:href=\"#C0_0_5b2d5d60d4\" x=\"39.395226\" y=\"286.889055\" style=\"fill: #fefefe\"/>\n    </g>\n    <g clip-path=\"url(#p2bd379c5d3)\">\n     <use xlink:href=\"#C0_0_5b2d5d60d4\" x=\"39.395226\" y=\"275.008064\" style=\"fill: #fefefe\"/>\n    </g>\n    <g clip-path=\"url(#p2bd379c5d3)\">\n     <use xlink:href=\"#C0_0_5b2d5d60d4\" x=\"39.395226\" y=\"263.127072\" style=\"fill: #ffffff\"/>\n    </g>\n    <g clip-path=\"url(#p2bd379c5d3)\">\n     <use xlink:href=\"#C0_0_5b2d5d60d4\" x=\"39.395226\" y=\"251.24608\" style=\"fill: #ffffff\"/>\n    </g>\n    <g clip-path=\"url(#p2bd379c5d3)\">\n     <use xlink:href=\"#C0_0_5b2d5d60d4\" x=\"39.395226\" y=\"239.365089\" style=\"fill: #ffffff\"/>\n    </g>\n    <g clip-path=\"url(#p2bd379c5d3)\">\n     <use xlink:href=\"#C0_0_5b2d5d60d4\" x=\"39.395226\" y=\"227.484097\" style=\"fill: #ffffff\"/>\n    </g>\n    <g clip-path=\"url(#p2bd379c5d3)\">\n     <use xlink:href=\"#C0_0_5b2d5d60d4\" x=\"39.395226\" y=\"215.603105\" style=\"fill: #ffffff\"/>\n    </g>\n    <g clip-path=\"url(#p2bd379c5d3)\">\n     <use xlink:href=\"#C0_0_5b2d5d60d4\" x=\"46.246135\" y=\"334.413022\" style=\"fill: #ffffff\"/>\n    </g>\n    <g clip-path=\"url(#p2bd379c5d3)\">\n     <use xlink:href=\"#C0_0_5b2d5d60d4\" x=\"46.246135\" y=\"322.532031\" style=\"fill: #ffffff\"/>\n    </g>\n    <g clip-path=\"url(#p2bd379c5d3)\">\n     <use xlink:href=\"#C0_0_5b2d5d60d4\" x=\"46.246135\" y=\"310.651039\" style=\"fill: #ffffff\"/>\n    </g>\n    <g clip-path=\"url(#p2bd379c5d3)\">\n     <use xlink:href=\"#C0_0_5b2d5d60d4\" x=\"46.246135\" y=\"298.770047\" style=\"fill: #ffffff\"/>\n    </g>\n    <g clip-path=\"url(#p2bd379c5d3)\">\n     <use xlink:href=\"#C0_0_5b2d5d60d4\" x=\"46.246135\" y=\"286.889055\" style=\"fill: #f9f9f9\"/>\n    </g>\n    <g clip-path=\"url(#p2bd379c5d3)\">\n     <use xlink:href=\"#C0_0_5b2d5d60d4\" x=\"46.246135\" y=\"275.008064\" style=\"fill: #eaeaea\"/>\n    </g>\n    <g clip-path=\"url(#p2bd379c5d3)\">\n     <use xlink:href=\"#C0_0_5b2d5d60d4\" x=\"46.246135\" y=\"263.127072\" style=\"fill: #fcfcfc\"/>\n    </g>\n    <g clip-path=\"url(#p2bd379c5d3)\">\n     <use xlink:href=\"#C0_0_5b2d5d60d4\" x=\"46.246135\" y=\"251.24608\" style=\"fill: #ffffff\"/>\n    </g>\n    <g clip-path=\"url(#p2bd379c5d3)\">\n     <use xlink:href=\"#C0_0_5b2d5d60d4\" x=\"46.246135\" y=\"239.365089\" style=\"fill: #ffffff\"/>\n    </g>\n    <g clip-path=\"url(#p2bd379c5d3)\">\n     <use xlink:href=\"#C0_0_5b2d5d60d4\" x=\"46.246135\" y=\"227.484097\" style=\"fill: #ffffff\"/>\n    </g>\n    <g clip-path=\"url(#p2bd379c5d3)\">\n     <use xlink:href=\"#C0_0_5b2d5d60d4\" x=\"46.246135\" y=\"215.603105\" style=\"fill: #ffffff\"/>\n    </g>\n    <g clip-path=\"url(#p2bd379c5d3)\">\n     <use xlink:href=\"#C0_0_5b2d5d60d4\" x=\"53.097044\" y=\"334.413022\" style=\"fill: #ffffff\"/>\n    </g>\n    <g clip-path=\"url(#p2bd379c5d3)\">\n     <use xlink:href=\"#C0_0_5b2d5d60d4\" x=\"53.097044\" y=\"322.532031\" style=\"fill: #ffffff\"/>\n    </g>\n    <g clip-path=\"url(#p2bd379c5d3)\">\n     <use xlink:href=\"#C0_0_5b2d5d60d4\" x=\"53.097044\" y=\"310.651039\" style=\"fill: #ffffff\"/>\n    </g>\n    <g clip-path=\"url(#p2bd379c5d3)\">\n     <use xlink:href=\"#C0_0_5b2d5d60d4\" x=\"53.097044\" y=\"298.770047\" style=\"fill: #f8f8f8\"/>\n    </g>\n    <g clip-path=\"url(#p2bd379c5d3)\">\n     <use xlink:href=\"#C0_0_5b2d5d60d4\" x=\"53.097044\" y=\"286.889055\" style=\"fill: #e4e4e4\"/>\n    </g>\n    <g clip-path=\"url(#p2bd379c5d3)\">\n     <use xlink:href=\"#C0_0_5b2d5d60d4\" x=\"53.097044\" y=\"275.008064\" style=\"fill: #dfdfdf\"/>\n    </g>\n    <g clip-path=\"url(#p2bd379c5d3)\">\n     <use xlink:href=\"#C0_0_5b2d5d60d4\" x=\"53.097044\" y=\"263.127072\" style=\"fill: #a5a5a5\"/>\n    </g>\n    <g clip-path=\"url(#p2bd379c5d3)\">\n     <use xlink:href=\"#C0_0_5b2d5d60d4\" x=\"53.097044\" y=\"251.24608\" style=\"fill: #828282\"/>\n    </g>\n    <g clip-path=\"url(#p2bd379c5d3)\">\n     <use xlink:href=\"#C0_0_5b2d5d60d4\" x=\"53.097044\" y=\"239.365089\" style=\"fill: #ffffff\"/>\n    </g>\n    <g clip-path=\"url(#p2bd379c5d3)\">\n     <use xlink:href=\"#C0_0_5b2d5d60d4\" x=\"53.097044\" y=\"227.484097\" style=\"fill: #ffffff\"/>\n    </g>\n    <g clip-path=\"url(#p2bd379c5d3)\">\n     <use xlink:href=\"#C0_0_5b2d5d60d4\" x=\"53.097044\" y=\"215.603105\" style=\"fill: #ffffff\"/>\n    </g>\n    <g clip-path=\"url(#p2bd379c5d3)\">\n     <use xlink:href=\"#C0_0_5b2d5d60d4\" x=\"59.947953\" y=\"334.413022\" style=\"fill: #ffffff\"/>\n    </g>\n    <g clip-path=\"url(#p2bd379c5d3)\">\n     <use xlink:href=\"#C0_0_5b2d5d60d4\" x=\"59.947953\" y=\"322.532031\" style=\"fill: #ffffff\"/>\n    </g>\n    <g clip-path=\"url(#p2bd379c5d3)\">\n     <use xlink:href=\"#C0_0_5b2d5d60d4\" x=\"59.947953\" y=\"310.651039\" style=\"fill: #ffffff\"/>\n    </g>\n    <g clip-path=\"url(#p2bd379c5d3)\">\n     <use xlink:href=\"#C0_0_5b2d5d60d4\" x=\"59.947953\" y=\"298.770047\" style=\"fill: #858585\"/>\n    </g>\n    <g clip-path=\"url(#p2bd379c5d3)\">\n     <use xlink:href=\"#C0_0_5b2d5d60d4\" x=\"59.947953\" y=\"286.889055\" style=\"fill: #d3d3d3\"/>\n    </g>\n    <g clip-path=\"url(#p2bd379c5d3)\">\n     <use xlink:href=\"#C0_0_5b2d5d60d4\" x=\"59.947953\" y=\"275.008064\" style=\"fill: #d3d3d3\"/>\n    </g>\n    <g clip-path=\"url(#p2bd379c5d3)\">\n     <use xlink:href=\"#C0_0_5b2d5d60d4\" x=\"59.947953\" y=\"263.127072\" style=\"fill: #707070\"/>\n    </g>\n    <g clip-path=\"url(#p2bd379c5d3)\">\n     <use xlink:href=\"#C0_0_5b2d5d60d4\" x=\"59.947953\" y=\"251.24608\" style=\"fill: #f8f8f8\"/>\n    </g>\n    <g clip-path=\"url(#p2bd379c5d3)\">\n     <use xlink:href=\"#C0_0_5b2d5d60d4\" x=\"59.947953\" y=\"239.365089\" style=\"fill: #ffffff\"/>\n    </g>\n    <g clip-path=\"url(#p2bd379c5d3)\">\n     <use xlink:href=\"#C0_0_5b2d5d60d4\" x=\"59.947953\" y=\"227.484097\" style=\"fill: #ffffff\"/>\n    </g>\n    <g clip-path=\"url(#p2bd379c5d3)\">\n     <use xlink:href=\"#C0_0_5b2d5d60d4\" x=\"59.947953\" y=\"215.603105\" style=\"fill: #ffffff\"/>\n    </g>\n    <g clip-path=\"url(#p2bd379c5d3)\">\n     <use xlink:href=\"#C0_0_5b2d5d60d4\" x=\"66.798862\" y=\"334.413022\" style=\"fill: #ffffff\"/>\n    </g>\n    <g clip-path=\"url(#p2bd379c5d3)\">\n     <use xlink:href=\"#C0_0_5b2d5d60d4\" x=\"66.798862\" y=\"322.532031\" style=\"fill: #ffffff\"/>\n    </g>\n    <g clip-path=\"url(#p2bd379c5d3)\">\n     <use xlink:href=\"#C0_0_5b2d5d60d4\" x=\"66.798862\" y=\"310.651039\" style=\"fill: #f5f5f5\"/>\n    </g>\n    <g clip-path=\"url(#p2bd379c5d3)\">\n     <use xlink:href=\"#C0_0_5b2d5d60d4\" x=\"66.798862\" y=\"298.770047\" style=\"fill: #dadada\"/>\n    </g>\n    <g clip-path=\"url(#p2bd379c5d3)\">\n     <use xlink:href=\"#C0_0_5b2d5d60d4\" x=\"66.798862\" y=\"286.889055\" style=\"fill: #b9b9b9\"/>\n    </g>\n    <g clip-path=\"url(#p2bd379c5d3)\">\n     <use xlink:href=\"#C0_0_5b2d5d60d4\" x=\"66.798862\" y=\"275.008064\" style=\"fill: #d3d3d3\"/>\n    </g>\n    <g clip-path=\"url(#p2bd379c5d3)\">\n     <use xlink:href=\"#C0_0_5b2d5d60d4\" x=\"66.798862\" y=\"263.127072\" style=\"fill: #f5f5f5\"/>\n    </g>\n    <g clip-path=\"url(#p2bd379c5d3)\">\n     <use xlink:href=\"#C0_0_5b2d5d60d4\" x=\"66.798862\" y=\"251.24608\" style=\"fill: #ffffff\"/>\n    </g>\n    <g clip-path=\"url(#p2bd379c5d3)\">\n     <use xlink:href=\"#C0_0_5b2d5d60d4\" x=\"66.798862\" y=\"239.365089\" style=\"fill: #ffffff\"/>\n    </g>\n    <g clip-path=\"url(#p2bd379c5d3)\">\n     <use xlink:href=\"#C0_0_5b2d5d60d4\" x=\"66.798862\" y=\"227.484097\" style=\"fill: #ffffff\"/>\n    </g>\n    <g clip-path=\"url(#p2bd379c5d3)\">\n     <use xlink:href=\"#C0_0_5b2d5d60d4\" x=\"66.798862\" y=\"215.603105\" style=\"fill: #ffffff\"/>\n    </g>\n    <g clip-path=\"url(#p2bd379c5d3)\">\n     <use xlink:href=\"#C0_0_5b2d5d60d4\" x=\"73.649771\" y=\"334.413022\" style=\"fill: #ffffff\"/>\n    </g>\n    <g clip-path=\"url(#p2bd379c5d3)\">\n     <use xlink:href=\"#C0_0_5b2d5d60d4\" x=\"73.649771\" y=\"322.532031\" style=\"fill: #ffffff\"/>\n    </g>\n    <g clip-path=\"url(#p2bd379c5d3)\">\n     <use xlink:href=\"#C0_0_5b2d5d60d4\" x=\"73.649771\" y=\"310.651039\" style=\"fill: #b9b9b9\"/>\n    </g>\n    <g clip-path=\"url(#p2bd379c5d3)\">\n     <use xlink:href=\"#C0_0_5b2d5d60d4\" x=\"73.649771\" y=\"298.770047\" style=\"fill: #d0d0d0\"/>\n    </g>\n    <g clip-path=\"url(#p2bd379c5d3)\">\n     <use xlink:href=\"#C0_0_5b2d5d60d4\" x=\"73.649771\" y=\"286.889055\" style=\"fill: #d5d5d5\"/>\n    </g>\n    <g clip-path=\"url(#p2bd379c5d3)\">\n     <use xlink:href=\"#C0_0_5b2d5d60d4\" x=\"73.649771\" y=\"275.008064\" style=\"fill: #d5d5d5\"/>\n    </g>\n    <g clip-path=\"url(#p2bd379c5d3)\">\n     <use xlink:href=\"#C0_0_5b2d5d60d4\" x=\"73.649771\" y=\"263.127072\" style=\"fill: #cacaca\"/>\n    </g>\n    <g clip-path=\"url(#p2bd379c5d3)\">\n     <use xlink:href=\"#C0_0_5b2d5d60d4\" x=\"73.649771\" y=\"251.24608\" style=\"fill: #ffffff\"/>\n    </g>\n    <g clip-path=\"url(#p2bd379c5d3)\">\n     <use xlink:href=\"#C0_0_5b2d5d60d4\" x=\"73.649771\" y=\"239.365089\" style=\"fill: #ffffff\"/>\n    </g>\n    <g clip-path=\"url(#p2bd379c5d3)\">\n     <use xlink:href=\"#C0_0_5b2d5d60d4\" x=\"73.649771\" y=\"227.484097\" style=\"fill: #ffffff\"/>\n    </g>\n    <g clip-path=\"url(#p2bd379c5d3)\">\n     <use xlink:href=\"#C0_0_5b2d5d60d4\" x=\"73.649771\" y=\"215.603105\" style=\"fill: #ffffff\"/>\n    </g>\n    <g clip-path=\"url(#p2bd379c5d3)\">\n     <use xlink:href=\"#C0_0_5b2d5d60d4\" x=\"80.500681\" y=\"334.413022\" style=\"fill: #ffffff\"/>\n    </g>\n    <g clip-path=\"url(#p2bd379c5d3)\">\n     <use xlink:href=\"#C0_0_5b2d5d60d4\" x=\"80.500681\" y=\"322.532031\" style=\"fill: #ffffff\"/>\n    </g>\n    <g clip-path=\"url(#p2bd379c5d3)\">\n     <use xlink:href=\"#C0_0_5b2d5d60d4\" x=\"80.500681\" y=\"310.651039\" style=\"fill: #d8d8d8\"/>\n    </g>\n    <g clip-path=\"url(#p2bd379c5d3)\">\n     <use xlink:href=\"#C0_0_5b2d5d60d4\" x=\"80.500681\" y=\"298.770047\" style=\"fill: #bdbdbd\"/>\n    </g>\n    <g clip-path=\"url(#p2bd379c5d3)\">\n     <use xlink:href=\"#C0_0_5b2d5d60d4\" x=\"80.500681\" y=\"286.889055\" style=\"fill: #dadada\"/>\n    </g>\n    <g clip-path=\"url(#p2bd379c5d3)\">\n     <use xlink:href=\"#C0_0_5b2d5d60d4\" x=\"80.500681\" y=\"275.008064\" style=\"fill: #ececec\"/>\n    </g>\n    <g clip-path=\"url(#p2bd379c5d3)\">\n     <use xlink:href=\"#C0_0_5b2d5d60d4\" x=\"80.500681\" y=\"263.127072\" style=\"fill: #fcfcfc\"/>\n    </g>\n    <g clip-path=\"url(#p2bd379c5d3)\">\n     <use xlink:href=\"#C0_0_5b2d5d60d4\" x=\"80.500681\" y=\"251.24608\" style=\"fill: #ffffff\"/>\n    </g>\n    <g clip-path=\"url(#p2bd379c5d3)\">\n     <use xlink:href=\"#C0_0_5b2d5d60d4\" x=\"80.500681\" y=\"239.365089\" style=\"fill: #ffffff\"/>\n    </g>\n    <g clip-path=\"url(#p2bd379c5d3)\">\n     <use xlink:href=\"#C0_0_5b2d5d60d4\" x=\"80.500681\" y=\"227.484097\" style=\"fill: #ffffff\"/>\n    </g>\n    <g clip-path=\"url(#p2bd379c5d3)\">\n     <use xlink:href=\"#C0_0_5b2d5d60d4\" x=\"80.500681\" y=\"215.603105\" style=\"fill: #ffffff\"/>\n    </g>\n   </g>\n   <g id=\"matplotlib.axis_1\"/>\n   <g id=\"matplotlib.axis_2\"/>\n   <g id=\"patch_3\">\n    <path d=\"M 7.2 167.90175 \nL 7.2 24.14175 \n\" style=\"fill: none; stroke: #000000; stroke-width: 0.8; stroke-linejoin: miter; stroke-linecap: square\"/>\n   </g>\n   <g id=\"patch_4\">\n    <path d=\"M 157.92 167.90175 \nL 157.92 24.14175 \n\" style=\"fill: none; stroke: #000000; stroke-width: 0.8; stroke-linejoin: miter; stroke-linecap: square\"/>\n   </g>\n   <g id=\"patch_5\">\n    <path d=\"M 7.2 167.90175 \nL 157.92 167.90175 \n\" style=\"fill: none; stroke: #000000; stroke-width: 0.8; stroke-linejoin: miter; stroke-linecap: square\"/>\n   </g>\n   <g id=\"patch_6\">\n    <path d=\"M 7.2 24.14175 \nL 157.92 24.14175 \n\" style=\"fill: none; stroke: #000000; stroke-width: 0.8; stroke-linejoin: miter; stroke-linecap: square\"/>\n   </g>\n   <g id=\"text_1\">\n    <!-- sadness -->\n    <g transform=\"translate(53.331375 18.14175) scale(0.144 -0.144)\">\n     <defs>\n      <path id=\"DejaVuSans-73\" d=\"M 2834 3397 \nL 2834 2853 \nQ 2591 2978 2328 3040 \nQ 2066 3103 1784 3103 \nQ 1356 3103 1142 2972 \nQ 928 2841 928 2578 \nQ 928 2378 1081 2264 \nQ 1234 2150 1697 2047 \nL 1894 2003 \nQ 2506 1872 2764 1633 \nQ 3022 1394 3022 966 \nQ 3022 478 2636 193 \nQ 2250 -91 1575 -91 \nQ 1294 -91 989 -36 \nQ 684 19 347 128 \nL 347 722 \nQ 666 556 975 473 \nQ 1284 391 1588 391 \nQ 1994 391 2212 530 \nQ 2431 669 2431 922 \nQ 2431 1156 2273 1281 \nQ 2116 1406 1581 1522 \nL 1381 1569 \nQ 847 1681 609 1914 \nQ 372 2147 372 2553 \nQ 372 3047 722 3315 \nQ 1072 3584 1716 3584 \nQ 2034 3584 2315 3537 \nQ 2597 3491 2834 3397 \nz\n\" transform=\"scale(0.015625)\"/>\n      <path id=\"DejaVuSans-61\" d=\"M 2194 1759 \nQ 1497 1759 1228 1600 \nQ 959 1441 959 1056 \nQ 959 750 1161 570 \nQ 1363 391 1709 391 \nQ 2188 391 2477 730 \nQ 2766 1069 2766 1631 \nL 2766 1759 \nL 2194 1759 \nz\nM 3341 1997 \nL 3341 0 \nL 2766 0 \nL 2766 531 \nQ 2569 213 2275 61 \nQ 1981 -91 1556 -91 \nQ 1019 -91 701 211 \nQ 384 513 384 1019 \nQ 384 1609 779 1909 \nQ 1175 2209 1959 2209 \nL 2766 2209 \nL 2766 2266 \nQ 2766 2663 2505 2880 \nQ 2244 3097 1772 3097 \nQ 1472 3097 1187 3025 \nQ 903 2953 641 2809 \nL 641 3341 \nQ 956 3463 1253 3523 \nQ 1550 3584 1831 3584 \nQ 2591 3584 2966 3190 \nQ 3341 2797 3341 1997 \nz\n\" transform=\"scale(0.015625)\"/>\n      <path id=\"DejaVuSans-64\" d=\"M 2906 2969 \nL 2906 4863 \nL 3481 4863 \nL 3481 0 \nL 2906 0 \nL 2906 525 \nQ 2725 213 2448 61 \nQ 2172 -91 1784 -91 \nQ 1150 -91 751 415 \nQ 353 922 353 1747 \nQ 353 2572 751 3078 \nQ 1150 3584 1784 3584 \nQ 2172 3584 2448 3432 \nQ 2725 3281 2906 2969 \nz\nM 947 1747 \nQ 947 1113 1208 752 \nQ 1469 391 1925 391 \nQ 2381 391 2643 752 \nQ 2906 1113 2906 1747 \nQ 2906 2381 2643 2742 \nQ 2381 3103 1925 3103 \nQ 1469 3103 1208 2742 \nQ 947 2381 947 1747 \nz\n\" transform=\"scale(0.015625)\"/>\n      <path id=\"DejaVuSans-6e\" d=\"M 3513 2113 \nL 3513 0 \nL 2938 0 \nL 2938 2094 \nQ 2938 2591 2744 2837 \nQ 2550 3084 2163 3084 \nQ 1697 3084 1428 2787 \nQ 1159 2491 1159 1978 \nL 1159 0 \nL 581 0 \nL 581 3500 \nL 1159 3500 \nL 1159 2956 \nQ 1366 3272 1645 3428 \nQ 1925 3584 2291 3584 \nQ 2894 3584 3203 3211 \nQ 3513 2838 3513 2113 \nz\n\" transform=\"scale(0.015625)\"/>\n      <path id=\"DejaVuSans-65\" d=\"M 3597 1894 \nL 3597 1613 \nL 953 1613 \nQ 991 1019 1311 708 \nQ 1631 397 2203 397 \nQ 2534 397 2845 478 \nQ 3156 559 3463 722 \nL 3463 178 \nQ 3153 47 2828 -22 \nQ 2503 -91 2169 -91 \nQ 1331 -91 842 396 \nQ 353 884 353 1716 \nQ 353 2575 817 3079 \nQ 1281 3584 2069 3584 \nQ 2775 3584 3186 3129 \nQ 3597 2675 3597 1894 \nz\nM 3022 2063 \nQ 3016 2534 2758 2815 \nQ 2500 3097 2075 3097 \nQ 1594 3097 1305 2825 \nQ 1016 2553 972 2059 \nL 3022 2063 \nz\n\" transform=\"scale(0.015625)\"/>\n     </defs>\n     <use xlink:href=\"#DejaVuSans-73\"/>\n     <use xlink:href=\"#DejaVuSans-61\" x=\"52.099609\"/>\n     <use xlink:href=\"#DejaVuSans-64\" x=\"113.378906\"/>\n     <use xlink:href=\"#DejaVuSans-6e\" x=\"176.855469\"/>\n     <use xlink:href=\"#DejaVuSans-65\" x=\"240.234375\"/>\n     <use xlink:href=\"#DejaVuSans-73\" x=\"301.757812\"/>\n     <use xlink:href=\"#DejaVuSans-73\" x=\"353.857422\"/>\n    </g>\n   </g>\n  </g>\n  <g id=\"axes_2\">\n   <g id=\"patch_7\">\n    <path d=\"M 170.88 167.90175 \nL 321.6 167.90175 \nL 321.6 24.14175 \nL 170.88 24.14175 \nz\n\" style=\"fill: #ffffff\"/>\n   </g>\n   <g id=\"PolyCollection_2\">\n    <defs>\n     <path id=\"C1_0_a4d616e3c7\" d=\"M 236.028719 -176.498009 \nL 236.028719 -180.45834 \nL 232.603265 -182.438505 \nL 229.17781 -180.45834 \nL 229.17781 -176.498009 \nL 232.603265 -174.517844 \nz\n\"/>\n    </defs>\n    <g clip-path=\"url(#p2ec8309aaa)\">\n     <use xlink:href=\"#C1_0_a4d616e3c7\" x=\"-54.872356\" y=\"339.845379\" style=\"fill: #f7fbff\"/>\n    </g>\n    <g clip-path=\"url(#p2ec8309aaa)\">\n     <use xlink:href=\"#C1_0_a4d616e3c7\" x=\"-54.872356\" y=\"327.964387\" style=\"fill: #f7fbff\"/>\n    </g>\n    <g clip-path=\"url(#p2ec8309aaa)\">\n     <use xlink:href=\"#C1_0_a4d616e3c7\" x=\"-54.872356\" y=\"316.083395\" style=\"fill: #f7fbff\"/>\n    </g>\n    <g clip-path=\"url(#p2ec8309aaa)\">\n     <use xlink:href=\"#C1_0_a4d616e3c7\" x=\"-54.872356\" y=\"304.202404\" style=\"fill: #f7fbff\"/>\n    </g>\n    <g clip-path=\"url(#p2ec8309aaa)\">\n     <use xlink:href=\"#C1_0_a4d616e3c7\" x=\"-54.872356\" y=\"292.321412\" style=\"fill: #f7fbff\"/>\n    </g>\n    <g clip-path=\"url(#p2ec8309aaa)\">\n     <use xlink:href=\"#C1_0_a4d616e3c7\" x=\"-54.872356\" y=\"280.44042\" style=\"fill: #f5f9fe\"/>\n    </g>\n    <g clip-path=\"url(#p2ec8309aaa)\">\n     <use xlink:href=\"#C1_0_a4d616e3c7\" x=\"-54.872356\" y=\"268.559428\" style=\"fill: #ebf3fb\"/>\n    </g>\n    <g clip-path=\"url(#p2ec8309aaa)\">\n     <use xlink:href=\"#C1_0_a4d616e3c7\" x=\"-54.872356\" y=\"256.678437\" style=\"fill: #f7fbff\"/>\n    </g>\n    <g clip-path=\"url(#p2ec8309aaa)\">\n     <use xlink:href=\"#C1_0_a4d616e3c7\" x=\"-54.872356\" y=\"244.797445\" style=\"fill: #f7fbff\"/>\n    </g>\n    <g clip-path=\"url(#p2ec8309aaa)\">\n     <use xlink:href=\"#C1_0_a4d616e3c7\" x=\"-54.872356\" y=\"232.916453\" style=\"fill: #f7fbff\"/>\n    </g>\n    <g clip-path=\"url(#p2ec8309aaa)\">\n     <use xlink:href=\"#C1_0_a4d616e3c7\" x=\"-54.872356\" y=\"221.035461\" style=\"fill: #f7fbff\"/>\n    </g>\n    <g clip-path=\"url(#p2ec8309aaa)\">\n     <use xlink:href=\"#C1_0_a4d616e3c7\" x=\"-54.872356\" y=\"209.15447\" style=\"fill: #f7fbff\"/>\n    </g>\n    <g clip-path=\"url(#p2ec8309aaa)\">\n     <use xlink:href=\"#C1_0_a4d616e3c7\" x=\"-48.021447\" y=\"339.845379\" style=\"fill: #f7fbff\"/>\n    </g>\n    <g clip-path=\"url(#p2ec8309aaa)\">\n     <use xlink:href=\"#C1_0_a4d616e3c7\" x=\"-48.021447\" y=\"327.964387\" style=\"fill: #f7fbff\"/>\n    </g>\n    <g clip-path=\"url(#p2ec8309aaa)\">\n     <use xlink:href=\"#C1_0_a4d616e3c7\" x=\"-48.021447\" y=\"316.083395\" style=\"fill: #f7fbff\"/>\n    </g>\n    <g clip-path=\"url(#p2ec8309aaa)\">\n     <use xlink:href=\"#C1_0_a4d616e3c7\" x=\"-48.021447\" y=\"304.202404\" style=\"fill: #f5f9fe\"/>\n    </g>\n    <g clip-path=\"url(#p2ec8309aaa)\">\n     <use xlink:href=\"#C1_0_a4d616e3c7\" x=\"-48.021447\" y=\"292.321412\" style=\"fill: #dbe9f6\"/>\n    </g>\n    <g clip-path=\"url(#p2ec8309aaa)\">\n     <use xlink:href=\"#C1_0_a4d616e3c7\" x=\"-48.021447\" y=\"280.44042\" style=\"fill: #d6e6f4\"/>\n    </g>\n    <g clip-path=\"url(#p2ec8309aaa)\">\n     <use xlink:href=\"#C1_0_a4d616e3c7\" x=\"-48.021447\" y=\"268.559428\" style=\"fill: #dbe9f6\"/>\n    </g>\n    <g clip-path=\"url(#p2ec8309aaa)\">\n     <use xlink:href=\"#C1_0_a4d616e3c7\" x=\"-48.021447\" y=\"256.678437\" style=\"fill: #f2f8fd\"/>\n    </g>\n    <g clip-path=\"url(#p2ec8309aaa)\">\n     <use xlink:href=\"#C1_0_a4d616e3c7\" x=\"-48.021447\" y=\"244.797445\" style=\"fill: #f7fbff\"/>\n    </g>\n    <g clip-path=\"url(#p2ec8309aaa)\">\n     <use xlink:href=\"#C1_0_a4d616e3c7\" x=\"-48.021447\" y=\"232.916453\" style=\"fill: #f7fbff\"/>\n    </g>\n    <g clip-path=\"url(#p2ec8309aaa)\">\n     <use xlink:href=\"#C1_0_a4d616e3c7\" x=\"-48.021447\" y=\"221.035461\" style=\"fill: #f7fbff\"/>\n    </g>\n    <g clip-path=\"url(#p2ec8309aaa)\">\n     <use xlink:href=\"#C1_0_a4d616e3c7\" x=\"-48.021447\" y=\"209.15447\" style=\"fill: #f7fbff\"/>\n    </g>\n    <g clip-path=\"url(#p2ec8309aaa)\">\n     <use xlink:href=\"#C1_0_a4d616e3c7\" x=\"-41.170538\" y=\"339.845379\" style=\"fill: #f7fbff\"/>\n    </g>\n    <g clip-path=\"url(#p2ec8309aaa)\">\n     <use xlink:href=\"#C1_0_a4d616e3c7\" x=\"-41.170538\" y=\"327.964387\" style=\"fill: #f7fbff\"/>\n    </g>\n    <g clip-path=\"url(#p2ec8309aaa)\">\n     <use xlink:href=\"#C1_0_a4d616e3c7\" x=\"-41.170538\" y=\"316.083395\" style=\"fill: #ebf3fb\"/>\n    </g>\n    <g clip-path=\"url(#p2ec8309aaa)\">\n     <use xlink:href=\"#C1_0_a4d616e3c7\" x=\"-41.170538\" y=\"304.202404\" style=\"fill: #8fc2de\"/>\n    </g>\n    <g clip-path=\"url(#p2ec8309aaa)\">\n     <use xlink:href=\"#C1_0_a4d616e3c7\" x=\"-41.170538\" y=\"292.321412\" style=\"fill: #3c8cc3\"/>\n    </g>\n    <g clip-path=\"url(#p2ec8309aaa)\">\n     <use xlink:href=\"#C1_0_a4d616e3c7\" x=\"-41.170538\" y=\"280.44042\" style=\"fill: #72b2d8\"/>\n    </g>\n    <g clip-path=\"url(#p2ec8309aaa)\">\n     <use xlink:href=\"#C1_0_a4d616e3c7\" x=\"-41.170538\" y=\"268.559428\" style=\"fill: #d6e6f4\"/>\n    </g>\n    <g clip-path=\"url(#p2ec8309aaa)\">\n     <use xlink:href=\"#C1_0_a4d616e3c7\" x=\"-41.170538\" y=\"256.678437\" style=\"fill: #eef5fc\"/>\n    </g>\n    <g clip-path=\"url(#p2ec8309aaa)\">\n     <use xlink:href=\"#C1_0_a4d616e3c7\" x=\"-41.170538\" y=\"244.797445\" style=\"fill: #f7fbff\"/>\n    </g>\n    <g clip-path=\"url(#p2ec8309aaa)\">\n     <use xlink:href=\"#C1_0_a4d616e3c7\" x=\"-41.170538\" y=\"232.916453\" style=\"fill: #f7fbff\"/>\n    </g>\n    <g clip-path=\"url(#p2ec8309aaa)\">\n     <use xlink:href=\"#C1_0_a4d616e3c7\" x=\"-41.170538\" y=\"221.035461\" style=\"fill: #f7fbff\"/>\n    </g>\n    <g clip-path=\"url(#p2ec8309aaa)\">\n     <use xlink:href=\"#C1_0_a4d616e3c7\" x=\"-41.170538\" y=\"209.15447\" style=\"fill: #f7fbff\"/>\n    </g>\n    <g clip-path=\"url(#p2ec8309aaa)\">\n     <use xlink:href=\"#C1_0_a4d616e3c7\" x=\"-34.319628\" y=\"339.845379\" style=\"fill: #f7fbff\"/>\n    </g>\n    <g clip-path=\"url(#p2ec8309aaa)\">\n     <use xlink:href=\"#C1_0_a4d616e3c7\" x=\"-34.319628\" y=\"327.964387\" style=\"fill: #f7fbff\"/>\n    </g>\n    <g clip-path=\"url(#p2ec8309aaa)\">\n     <use xlink:href=\"#C1_0_a4d616e3c7\" x=\"-34.319628\" y=\"316.083395\" style=\"fill: #d6e6f4\"/>\n    </g>\n    <g clip-path=\"url(#p2ec8309aaa)\">\n     <use xlink:href=\"#C1_0_a4d616e3c7\" x=\"-34.319628\" y=\"304.202404\" style=\"fill: #4695c8\"/>\n    </g>\n    <g clip-path=\"url(#p2ec8309aaa)\">\n     <use xlink:href=\"#C1_0_a4d616e3c7\" x=\"-34.319628\" y=\"292.321412\" style=\"fill: #2a7ab9\"/>\n    </g>\n    <g clip-path=\"url(#p2ec8309aaa)\">\n     <use xlink:href=\"#C1_0_a4d616e3c7\" x=\"-34.319628\" y=\"280.44042\" style=\"fill: #6dafd7\"/>\n    </g>\n    <g clip-path=\"url(#p2ec8309aaa)\">\n     <use xlink:href=\"#C1_0_a4d616e3c7\" x=\"-34.319628\" y=\"268.559428\" style=\"fill: #cbdef1\"/>\n    </g>\n    <g clip-path=\"url(#p2ec8309aaa)\">\n     <use xlink:href=\"#C1_0_a4d616e3c7\" x=\"-34.319628\" y=\"256.678437\" style=\"fill: #dbe9f6\"/>\n    </g>\n    <g clip-path=\"url(#p2ec8309aaa)\">\n     <use xlink:href=\"#C1_0_a4d616e3c7\" x=\"-34.319628\" y=\"244.797445\" style=\"fill: #f2f8fd\"/>\n    </g>\n    <g clip-path=\"url(#p2ec8309aaa)\">\n     <use xlink:href=\"#C1_0_a4d616e3c7\" x=\"-34.319628\" y=\"232.916453\" style=\"fill: #f7fbff\"/>\n    </g>\n    <g clip-path=\"url(#p2ec8309aaa)\">\n     <use xlink:href=\"#C1_0_a4d616e3c7\" x=\"-34.319628\" y=\"221.035461\" style=\"fill: #f7fbff\"/>\n    </g>\n    <g clip-path=\"url(#p2ec8309aaa)\">\n     <use xlink:href=\"#C1_0_a4d616e3c7\" x=\"-34.319628\" y=\"209.15447\" style=\"fill: #f7fbff\"/>\n    </g>\n    <g clip-path=\"url(#p2ec8309aaa)\">\n     <use xlink:href=\"#C1_0_a4d616e3c7\" x=\"-27.468719\" y=\"339.845379\" style=\"fill: #f7fbff\"/>\n    </g>\n    <g clip-path=\"url(#p2ec8309aaa)\">\n     <use xlink:href=\"#C1_0_a4d616e3c7\" x=\"-27.468719\" y=\"327.964387\" style=\"fill: #f2f8fd\"/>\n    </g>\n    <g clip-path=\"url(#p2ec8309aaa)\">\n     <use xlink:href=\"#C1_0_a4d616e3c7\" x=\"-27.468719\" y=\"316.083395\" style=\"fill: #084f99\"/>\n    </g>\n    <g clip-path=\"url(#p2ec8309aaa)\">\n     <use xlink:href=\"#C1_0_a4d616e3c7\" x=\"-27.468719\" y=\"304.202404\" style=\"fill: #1764ab\"/>\n    </g>\n    <g clip-path=\"url(#p2ec8309aaa)\">\n     <use xlink:href=\"#C1_0_a4d616e3c7\" x=\"-27.468719\" y=\"292.321412\" style=\"fill: #1e6db2\"/>\n    </g>\n    <g clip-path=\"url(#p2ec8309aaa)\">\n     <use xlink:href=\"#C1_0_a4d616e3c7\" x=\"-27.468719\" y=\"280.44042\" style=\"fill: #81badb\"/>\n    </g>\n    <g clip-path=\"url(#p2ec8309aaa)\">\n     <use xlink:href=\"#C1_0_a4d616e3c7\" x=\"-27.468719\" y=\"268.559428\" style=\"fill: #99c7e0\"/>\n    </g>\n    <g clip-path=\"url(#p2ec8309aaa)\">\n     <use xlink:href=\"#C1_0_a4d616e3c7\" x=\"-27.468719\" y=\"256.678437\" style=\"fill: #c9ddf0\"/>\n    </g>\n    <g clip-path=\"url(#p2ec8309aaa)\">\n     <use xlink:href=\"#C1_0_a4d616e3c7\" x=\"-27.468719\" y=\"244.797445\" style=\"fill: #f0f6fd\"/>\n    </g>\n    <g clip-path=\"url(#p2ec8309aaa)\">\n     <use xlink:href=\"#C1_0_a4d616e3c7\" x=\"-27.468719\" y=\"232.916453\" style=\"fill: #f7fbff\"/>\n    </g>\n    <g clip-path=\"url(#p2ec8309aaa)\">\n     <use xlink:href=\"#C1_0_a4d616e3c7\" x=\"-27.468719\" y=\"221.035461\" style=\"fill: #ebf3fb\"/>\n    </g>\n    <g clip-path=\"url(#p2ec8309aaa)\">\n     <use xlink:href=\"#C1_0_a4d616e3c7\" x=\"-27.468719\" y=\"209.15447\" style=\"fill: #f7fbff\"/>\n    </g>\n    <g clip-path=\"url(#p2ec8309aaa)\">\n     <use xlink:href=\"#C1_0_a4d616e3c7\" x=\"-20.61781\" y=\"339.845379\" style=\"fill: #f7fbff\"/>\n    </g>\n    <g clip-path=\"url(#p2ec8309aaa)\">\n     <use xlink:href=\"#C1_0_a4d616e3c7\" x=\"-20.61781\" y=\"327.964387\" style=\"fill: #a5cde3\"/>\n    </g>\n    <g clip-path=\"url(#p2ec8309aaa)\">\n     <use xlink:href=\"#C1_0_a4d616e3c7\" x=\"-20.61781\" y=\"316.083395\" style=\"fill: #3080bd\"/>\n    </g>\n    <g clip-path=\"url(#p2ec8309aaa)\">\n     <use xlink:href=\"#C1_0_a4d616e3c7\" x=\"-20.61781\" y=\"304.202404\" style=\"fill: #5da5d1\"/>\n    </g>\n    <g clip-path=\"url(#p2ec8309aaa)\">\n     <use xlink:href=\"#C1_0_a4d616e3c7\" x=\"-20.61781\" y=\"292.321412\" style=\"fill: #3f8fc5\"/>\n    </g>\n    <g clip-path=\"url(#p2ec8309aaa)\">\n     <use xlink:href=\"#C1_0_a4d616e3c7\" x=\"-20.61781\" y=\"280.44042\" style=\"fill: #9dcae1\"/>\n    </g>\n    <g clip-path=\"url(#p2ec8309aaa)\">\n     <use xlink:href=\"#C1_0_a4d616e3c7\" x=\"-20.61781\" y=\"268.559428\" style=\"fill: #cbdef1\"/>\n    </g>\n    <g clip-path=\"url(#p2ec8309aaa)\">\n     <use xlink:href=\"#C1_0_a4d616e3c7\" x=\"-20.61781\" y=\"256.678437\" style=\"fill: #d2e3f3\"/>\n    </g>\n    <g clip-path=\"url(#p2ec8309aaa)\">\n     <use xlink:href=\"#C1_0_a4d616e3c7\" x=\"-20.61781\" y=\"244.797445\" style=\"fill: #f5f9fe\"/>\n    </g>\n    <g clip-path=\"url(#p2ec8309aaa)\">\n     <use xlink:href=\"#C1_0_a4d616e3c7\" x=\"-20.61781\" y=\"232.916453\" style=\"fill: #f2f8fd\"/>\n    </g>\n    <g clip-path=\"url(#p2ec8309aaa)\">\n     <use xlink:href=\"#C1_0_a4d616e3c7\" x=\"-20.61781\" y=\"221.035461\" style=\"fill: #d0e1f2\"/>\n    </g>\n    <g clip-path=\"url(#p2ec8309aaa)\">\n     <use xlink:href=\"#C1_0_a4d616e3c7\" x=\"-20.61781\" y=\"209.15447\" style=\"fill: #f7fbff\"/>\n    </g>\n    <g clip-path=\"url(#p2ec8309aaa)\">\n     <use xlink:href=\"#C1_0_a4d616e3c7\" x=\"-13.766901\" y=\"339.845379\" style=\"fill: #f7fbff\"/>\n    </g>\n    <g clip-path=\"url(#p2ec8309aaa)\">\n     <use xlink:href=\"#C1_0_a4d616e3c7\" x=\"-13.766901\" y=\"327.964387\" style=\"fill: #c3daee\"/>\n    </g>\n    <g clip-path=\"url(#p2ec8309aaa)\">\n     <use xlink:href=\"#C1_0_a4d616e3c7\" x=\"-13.766901\" y=\"316.083395\" style=\"fill: #3c8cc3\"/>\n    </g>\n    <g clip-path=\"url(#p2ec8309aaa)\">\n     <use xlink:href=\"#C1_0_a4d616e3c7\" x=\"-13.766901\" y=\"304.202404\" style=\"fill: #1764ab\"/>\n    </g>\n    <g clip-path=\"url(#p2ec8309aaa)\">\n     <use xlink:href=\"#C1_0_a4d616e3c7\" x=\"-13.766901\" y=\"292.321412\" style=\"fill: #4695c8\"/>\n    </g>\n    <g clip-path=\"url(#p2ec8309aaa)\">\n     <use xlink:href=\"#C1_0_a4d616e3c7\" x=\"-13.766901\" y=\"280.44042\" style=\"fill: #2d7dbb\"/>\n    </g>\n    <g clip-path=\"url(#p2ec8309aaa)\">\n     <use xlink:href=\"#C1_0_a4d616e3c7\" x=\"-13.766901\" y=\"268.559428\" style=\"fill: #8fc2de\"/>\n    </g>\n    <g clip-path=\"url(#p2ec8309aaa)\">\n     <use xlink:href=\"#C1_0_a4d616e3c7\" x=\"-13.766901\" y=\"256.678437\" style=\"fill: #d0e1f2\"/>\n    </g>\n    <g clip-path=\"url(#p2ec8309aaa)\">\n     <use xlink:href=\"#C1_0_a4d616e3c7\" x=\"-13.766901\" y=\"244.797445\" style=\"fill: #d4e4f4\"/>\n    </g>\n    <g clip-path=\"url(#p2ec8309aaa)\">\n     <use xlink:href=\"#C1_0_a4d616e3c7\" x=\"-13.766901\" y=\"232.916453\" style=\"fill: #d4e4f4\"/>\n    </g>\n    <g clip-path=\"url(#p2ec8309aaa)\">\n     <use xlink:href=\"#C1_0_a4d616e3c7\" x=\"-13.766901\" y=\"221.035461\" style=\"fill: #9dcae1\"/>\n    </g>\n    <g clip-path=\"url(#p2ec8309aaa)\">\n     <use xlink:href=\"#C1_0_a4d616e3c7\" x=\"-13.766901\" y=\"209.15447\" style=\"fill: #f2f8fd\"/>\n    </g>\n    <g clip-path=\"url(#p2ec8309aaa)\">\n     <use xlink:href=\"#C1_0_a4d616e3c7\" x=\"-6.915992\" y=\"339.845379\" style=\"fill: #f7fbff\"/>\n    </g>\n    <g clip-path=\"url(#p2ec8309aaa)\">\n     <use xlink:href=\"#C1_0_a4d616e3c7\" x=\"-6.915992\" y=\"327.964387\" style=\"fill: #eef5fc\"/>\n    </g>\n    <g clip-path=\"url(#p2ec8309aaa)\">\n     <use xlink:href=\"#C1_0_a4d616e3c7\" x=\"-6.915992\" y=\"316.083395\" style=\"fill: #5da5d1\"/>\n    </g>\n    <g clip-path=\"url(#p2ec8309aaa)\">\n     <use xlink:href=\"#C1_0_a4d616e3c7\" x=\"-6.915992\" y=\"304.202404\" style=\"fill: #4e9acb\"/>\n    </g>\n    <g clip-path=\"url(#p2ec8309aaa)\">\n     <use xlink:href=\"#C1_0_a4d616e3c7\" x=\"-6.915992\" y=\"292.321412\" style=\"fill: #9dcae1\"/>\n    </g>\n    <g clip-path=\"url(#p2ec8309aaa)\">\n     <use xlink:href=\"#C1_0_a4d616e3c7\" x=\"-6.915992\" y=\"280.44042\" style=\"fill: #4292c6\"/>\n    </g>\n    <g clip-path=\"url(#p2ec8309aaa)\">\n     <use xlink:href=\"#C1_0_a4d616e3c7\" x=\"-6.915992\" y=\"268.559428\" style=\"fill: #b8d5ea\"/>\n    </g>\n    <g clip-path=\"url(#p2ec8309aaa)\">\n     <use xlink:href=\"#C1_0_a4d616e3c7\" x=\"-6.915992\" y=\"256.678437\" style=\"fill: #dbe9f6\"/>\n    </g>\n    <g clip-path=\"url(#p2ec8309aaa)\">\n     <use xlink:href=\"#C1_0_a4d616e3c7\" x=\"-6.915992\" y=\"244.797445\" style=\"fill: #d4e4f4\"/>\n    </g>\n    <g clip-path=\"url(#p2ec8309aaa)\">\n     <use xlink:href=\"#C1_0_a4d616e3c7\" x=\"-6.915992\" y=\"232.916453\" style=\"fill: #cbdef1\"/>\n    </g>\n    <g clip-path=\"url(#p2ec8309aaa)\">\n     <use xlink:href=\"#C1_0_a4d616e3c7\" x=\"-6.915992\" y=\"221.035461\" style=\"fill: #65aad4\"/>\n    </g>\n    <g clip-path=\"url(#p2ec8309aaa)\">\n     <use xlink:href=\"#C1_0_a4d616e3c7\" x=\"-6.915992\" y=\"209.15447\" style=\"fill: #e4eff9\"/>\n    </g>\n    <g clip-path=\"url(#p2ec8309aaa)\">\n     <use xlink:href=\"#C1_0_a4d616e3c7\" x=\"-0.065083\" y=\"339.845379\" style=\"fill: #eef5fc\"/>\n    </g>\n    <g clip-path=\"url(#p2ec8309aaa)\">\n     <use xlink:href=\"#C1_0_a4d616e3c7\" x=\"-0.065083\" y=\"327.964387\" style=\"fill: #d4e4f4\"/>\n    </g>\n    <g clip-path=\"url(#p2ec8309aaa)\">\n     <use xlink:href=\"#C1_0_a4d616e3c7\" x=\"-0.065083\" y=\"316.083395\" style=\"fill: #dfecf7\"/>\n    </g>\n    <g clip-path=\"url(#p2ec8309aaa)\">\n     <use xlink:href=\"#C1_0_a4d616e3c7\" x=\"-0.065083\" y=\"304.202404\" style=\"fill: #b0d2e7\"/>\n    </g>\n    <g clip-path=\"url(#p2ec8309aaa)\">\n     <use xlink:href=\"#C1_0_a4d616e3c7\" x=\"-0.065083\" y=\"292.321412\" style=\"fill: #a1cbe2\"/>\n    </g>\n    <g clip-path=\"url(#p2ec8309aaa)\">\n     <use xlink:href=\"#C1_0_a4d616e3c7\" x=\"-0.065083\" y=\"280.44042\" style=\"fill: #bfd8ed\"/>\n    </g>\n    <g clip-path=\"url(#p2ec8309aaa)\">\n     <use xlink:href=\"#C1_0_a4d616e3c7\" x=\"-0.065083\" y=\"268.559428\" style=\"fill: #b4d3e9\"/>\n    </g>\n    <g clip-path=\"url(#p2ec8309aaa)\">\n     <use xlink:href=\"#C1_0_a4d616e3c7\" x=\"-0.065083\" y=\"256.678437\" style=\"fill: #dfecf7\"/>\n    </g>\n    <g clip-path=\"url(#p2ec8309aaa)\">\n     <use xlink:href=\"#C1_0_a4d616e3c7\" x=\"-0.065083\" y=\"244.797445\" style=\"fill: #bcd7eb\"/>\n    </g>\n    <g clip-path=\"url(#p2ec8309aaa)\">\n     <use xlink:href=\"#C1_0_a4d616e3c7\" x=\"-0.065083\" y=\"232.916453\" style=\"fill: #81badb\"/>\n    </g>\n    <g clip-path=\"url(#p2ec8309aaa)\">\n     <use xlink:href=\"#C1_0_a4d616e3c7\" x=\"-0.065083\" y=\"221.035461\" style=\"fill: #d9e7f5\"/>\n    </g>\n    <g clip-path=\"url(#p2ec8309aaa)\">\n     <use xlink:href=\"#C1_0_a4d616e3c7\" x=\"-0.065083\" y=\"209.15447\" style=\"fill: #f7fbff\"/>\n    </g>\n    <g clip-path=\"url(#p2ec8309aaa)\">\n     <use xlink:href=\"#C1_0_a4d616e3c7\" x=\"6.785826\" y=\"339.845379\" style=\"fill: #e9f2fa\"/>\n    </g>\n    <g clip-path=\"url(#p2ec8309aaa)\">\n     <use xlink:href=\"#C1_0_a4d616e3c7\" x=\"6.785826\" y=\"327.964387\" style=\"fill: #add0e6\"/>\n    </g>\n    <g clip-path=\"url(#p2ec8309aaa)\">\n     <use xlink:href=\"#C1_0_a4d616e3c7\" x=\"6.785826\" y=\"316.083395\" style=\"fill: #dfecf7\"/>\n    </g>\n    <g clip-path=\"url(#p2ec8309aaa)\">\n     <use xlink:href=\"#C1_0_a4d616e3c7\" x=\"6.785826\" y=\"304.202404\" style=\"fill: #d9e7f5\"/>\n    </g>\n    <g clip-path=\"url(#p2ec8309aaa)\">\n     <use xlink:href=\"#C1_0_a4d616e3c7\" x=\"6.785826\" y=\"292.321412\" style=\"fill: #bcd7eb\"/>\n    </g>\n    <g clip-path=\"url(#p2ec8309aaa)\">\n     <use xlink:href=\"#C1_0_a4d616e3c7\" x=\"6.785826\" y=\"280.44042\" style=\"fill: #bfd8ed\"/>\n    </g>\n    <g clip-path=\"url(#p2ec8309aaa)\">\n     <use xlink:href=\"#C1_0_a4d616e3c7\" x=\"6.785826\" y=\"268.559428\" style=\"fill: #bfd8ed\"/>\n    </g>\n    <g clip-path=\"url(#p2ec8309aaa)\">\n     <use xlink:href=\"#C1_0_a4d616e3c7\" x=\"6.785826\" y=\"256.678437\" style=\"fill: #e4eff9\"/>\n    </g>\n    <g clip-path=\"url(#p2ec8309aaa)\">\n     <use xlink:href=\"#C1_0_a4d616e3c7\" x=\"6.785826\" y=\"244.797445\" style=\"fill: #ebf3fb\"/>\n    </g>\n    <g clip-path=\"url(#p2ec8309aaa)\">\n     <use xlink:href=\"#C1_0_a4d616e3c7\" x=\"6.785826\" y=\"232.916453\" style=\"fill: #dbe9f6\"/>\n    </g>\n    <g clip-path=\"url(#p2ec8309aaa)\">\n     <use xlink:href=\"#C1_0_a4d616e3c7\" x=\"6.785826\" y=\"221.035461\" style=\"fill: #f7fbff\"/>\n    </g>\n    <g clip-path=\"url(#p2ec8309aaa)\">\n     <use xlink:href=\"#C1_0_a4d616e3c7\" x=\"6.785826\" y=\"209.15447\" style=\"fill: #f7fbff\"/>\n    </g>\n    <g clip-path=\"url(#p2ec8309aaa)\">\n     <use xlink:href=\"#C1_0_a4d616e3c7\" x=\"13.636735\" y=\"339.845379\" style=\"fill: #f7fbff\"/>\n    </g>\n    <g clip-path=\"url(#p2ec8309aaa)\">\n     <use xlink:href=\"#C1_0_a4d616e3c7\" x=\"13.636735\" y=\"327.964387\" style=\"fill: #f7fbff\"/>\n    </g>\n    <g clip-path=\"url(#p2ec8309aaa)\">\n     <use xlink:href=\"#C1_0_a4d616e3c7\" x=\"13.636735\" y=\"316.083395\" style=\"fill: #e2edf8\"/>\n    </g>\n    <g clip-path=\"url(#p2ec8309aaa)\">\n     <use xlink:href=\"#C1_0_a4d616e3c7\" x=\"13.636735\" y=\"304.202404\" style=\"fill: #c9ddf0\"/>\n    </g>\n    <g clip-path=\"url(#p2ec8309aaa)\">\n     <use xlink:href=\"#C1_0_a4d616e3c7\" x=\"13.636735\" y=\"292.321412\" style=\"fill: #ddeaf7\"/>\n    </g>\n    <g clip-path=\"url(#p2ec8309aaa)\">\n     <use xlink:href=\"#C1_0_a4d616e3c7\" x=\"13.636735\" y=\"280.44042\" style=\"fill: #d6e6f4\"/>\n    </g>\n    <g clip-path=\"url(#p2ec8309aaa)\">\n     <use xlink:href=\"#C1_0_a4d616e3c7\" x=\"13.636735\" y=\"268.559428\" style=\"fill: #e2edf8\"/>\n    </g>\n    <g clip-path=\"url(#p2ec8309aaa)\">\n     <use xlink:href=\"#C1_0_a4d616e3c7\" x=\"13.636735\" y=\"256.678437\" style=\"fill: #f7fbff\"/>\n    </g>\n    <g clip-path=\"url(#p2ec8309aaa)\">\n     <use xlink:href=\"#C1_0_a4d616e3c7\" x=\"13.636735\" y=\"244.797445\" style=\"fill: #f7fbff\"/>\n    </g>\n    <g clip-path=\"url(#p2ec8309aaa)\">\n     <use xlink:href=\"#C1_0_a4d616e3c7\" x=\"13.636735\" y=\"232.916453\" style=\"fill: #f7fbff\"/>\n    </g>\n    <g clip-path=\"url(#p2ec8309aaa)\">\n     <use xlink:href=\"#C1_0_a4d616e3c7\" x=\"13.636735\" y=\"221.035461\" style=\"fill: #f7fbff\"/>\n    </g>\n    <g clip-path=\"url(#p2ec8309aaa)\">\n     <use xlink:href=\"#C1_0_a4d616e3c7\" x=\"13.636735\" y=\"209.15447\" style=\"fill: #f7fbff\"/>\n    </g>\n    <g clip-path=\"url(#p2ec8309aaa)\">\n     <use xlink:href=\"#C1_0_a4d616e3c7\" x=\"20.487644\" y=\"339.845379\" style=\"fill: #f7fbff\"/>\n    </g>\n    <g clip-path=\"url(#p2ec8309aaa)\">\n     <use xlink:href=\"#C1_0_a4d616e3c7\" x=\"20.487644\" y=\"327.964387\" style=\"fill: #f7fbff\"/>\n    </g>\n    <g clip-path=\"url(#p2ec8309aaa)\">\n     <use xlink:href=\"#C1_0_a4d616e3c7\" x=\"20.487644\" y=\"316.083395\" style=\"fill: #f5f9fe\"/>\n    </g>\n    <g clip-path=\"url(#p2ec8309aaa)\">\n     <use xlink:href=\"#C1_0_a4d616e3c7\" x=\"20.487644\" y=\"304.202404\" style=\"fill: #94c4df\"/>\n    </g>\n    <g clip-path=\"url(#p2ec8309aaa)\">\n     <use xlink:href=\"#C1_0_a4d616e3c7\" x=\"20.487644\" y=\"292.321412\" style=\"fill: #f2f8fd\"/>\n    </g>\n    <g clip-path=\"url(#p2ec8309aaa)\">\n     <use xlink:href=\"#C1_0_a4d616e3c7\" x=\"20.487644\" y=\"280.44042\" style=\"fill: #f7fbff\"/>\n    </g>\n    <g clip-path=\"url(#p2ec8309aaa)\">\n     <use xlink:href=\"#C1_0_a4d616e3c7\" x=\"20.487644\" y=\"268.559428\" style=\"fill: #f7fbff\"/>\n    </g>\n    <g clip-path=\"url(#p2ec8309aaa)\">\n     <use xlink:href=\"#C1_0_a4d616e3c7\" x=\"20.487644\" y=\"256.678437\" style=\"fill: #f7fbff\"/>\n    </g>\n    <g clip-path=\"url(#p2ec8309aaa)\">\n     <use xlink:href=\"#C1_0_a4d616e3c7\" x=\"20.487644\" y=\"244.797445\" style=\"fill: #f7fbff\"/>\n    </g>\n    <g clip-path=\"url(#p2ec8309aaa)\">\n     <use xlink:href=\"#C1_0_a4d616e3c7\" x=\"20.487644\" y=\"232.916453\" style=\"fill: #f7fbff\"/>\n    </g>\n    <g clip-path=\"url(#p2ec8309aaa)\">\n     <use xlink:href=\"#C1_0_a4d616e3c7\" x=\"20.487644\" y=\"221.035461\" style=\"fill: #f7fbff\"/>\n    </g>\n    <g clip-path=\"url(#p2ec8309aaa)\">\n     <use xlink:href=\"#C1_0_a4d616e3c7\" x=\"20.487644\" y=\"209.15447\" style=\"fill: #f7fbff\"/>\n    </g>\n    <g clip-path=\"url(#p2ec8309aaa)\">\n     <use xlink:href=\"#C1_0_a4d616e3c7\" x=\"27.338553\" y=\"339.845379\" style=\"fill: #f7fbff\"/>\n    </g>\n    <g clip-path=\"url(#p2ec8309aaa)\">\n     <use xlink:href=\"#C1_0_a4d616e3c7\" x=\"27.338553\" y=\"327.964387\" style=\"fill: #f7fbff\"/>\n    </g>\n    <g clip-path=\"url(#p2ec8309aaa)\">\n     <use xlink:href=\"#C1_0_a4d616e3c7\" x=\"27.338553\" y=\"316.083395\" style=\"fill: #f7fbff\"/>\n    </g>\n    <g clip-path=\"url(#p2ec8309aaa)\">\n     <use xlink:href=\"#C1_0_a4d616e3c7\" x=\"27.338553\" y=\"304.202404\" style=\"fill: #eef5fc\"/>\n    </g>\n    <g clip-path=\"url(#p2ec8309aaa)\">\n     <use xlink:href=\"#C1_0_a4d616e3c7\" x=\"27.338553\" y=\"292.321412\" style=\"fill: #f7fbff\"/>\n    </g>\n    <g clip-path=\"url(#p2ec8309aaa)\">\n     <use xlink:href=\"#C1_0_a4d616e3c7\" x=\"27.338553\" y=\"280.44042\" style=\"fill: #f7fbff\"/>\n    </g>\n    <g clip-path=\"url(#p2ec8309aaa)\">\n     <use xlink:href=\"#C1_0_a4d616e3c7\" x=\"27.338553\" y=\"268.559428\" style=\"fill: #f7fbff\"/>\n    </g>\n    <g clip-path=\"url(#p2ec8309aaa)\">\n     <use xlink:href=\"#C1_0_a4d616e3c7\" x=\"27.338553\" y=\"256.678437\" style=\"fill: #f7fbff\"/>\n    </g>\n    <g clip-path=\"url(#p2ec8309aaa)\">\n     <use xlink:href=\"#C1_0_a4d616e3c7\" x=\"27.338553\" y=\"244.797445\" style=\"fill: #f7fbff\"/>\n    </g>\n    <g clip-path=\"url(#p2ec8309aaa)\">\n     <use xlink:href=\"#C1_0_a4d616e3c7\" x=\"27.338553\" y=\"232.916453\" style=\"fill: #f7fbff\"/>\n    </g>\n    <g clip-path=\"url(#p2ec8309aaa)\">\n     <use xlink:href=\"#C1_0_a4d616e3c7\" x=\"27.338553\" y=\"221.035461\" style=\"fill: #f7fbff\"/>\n    </g>\n    <g clip-path=\"url(#p2ec8309aaa)\">\n     <use xlink:href=\"#C1_0_a4d616e3c7\" x=\"27.338553\" y=\"209.15447\" style=\"fill: #f7fbff\"/>\n    </g>\n    <g clip-path=\"url(#p2ec8309aaa)\">\n     <use xlink:href=\"#C1_0_a4d616e3c7\" x=\"34.189462\" y=\"339.845379\" style=\"fill: #f7fbff\"/>\n    </g>\n    <g clip-path=\"url(#p2ec8309aaa)\">\n     <use xlink:href=\"#C1_0_a4d616e3c7\" x=\"34.189462\" y=\"327.964387\" style=\"fill: #f7fbff\"/>\n    </g>\n    <g clip-path=\"url(#p2ec8309aaa)\">\n     <use xlink:href=\"#C1_0_a4d616e3c7\" x=\"34.189462\" y=\"316.083395\" style=\"fill: #f7fbff\"/>\n    </g>\n    <g clip-path=\"url(#p2ec8309aaa)\">\n     <use xlink:href=\"#C1_0_a4d616e3c7\" x=\"34.189462\" y=\"304.202404\" style=\"fill: #f7fbff\"/>\n    </g>\n    <g clip-path=\"url(#p2ec8309aaa)\">\n     <use xlink:href=\"#C1_0_a4d616e3c7\" x=\"34.189462\" y=\"292.321412\" style=\"fill: #f7fbff\"/>\n    </g>\n    <g clip-path=\"url(#p2ec8309aaa)\">\n     <use xlink:href=\"#C1_0_a4d616e3c7\" x=\"34.189462\" y=\"280.44042\" style=\"fill: #f7fbff\"/>\n    </g>\n    <g clip-path=\"url(#p2ec8309aaa)\">\n     <use xlink:href=\"#C1_0_a4d616e3c7\" x=\"34.189462\" y=\"268.559428\" style=\"fill: #f7fbff\"/>\n    </g>\n    <g clip-path=\"url(#p2ec8309aaa)\">\n     <use xlink:href=\"#C1_0_a4d616e3c7\" x=\"34.189462\" y=\"256.678437\" style=\"fill: #f7fbff\"/>\n    </g>\n    <g clip-path=\"url(#p2ec8309aaa)\">\n     <use xlink:href=\"#C1_0_a4d616e3c7\" x=\"34.189462\" y=\"244.797445\" style=\"fill: #f7fbff\"/>\n    </g>\n    <g clip-path=\"url(#p2ec8309aaa)\">\n     <use xlink:href=\"#C1_0_a4d616e3c7\" x=\"34.189462\" y=\"232.916453\" style=\"fill: #f7fbff\"/>\n    </g>\n    <g clip-path=\"url(#p2ec8309aaa)\">\n     <use xlink:href=\"#C1_0_a4d616e3c7\" x=\"34.189462\" y=\"221.035461\" style=\"fill: #f7fbff\"/>\n    </g>\n    <g clip-path=\"url(#p2ec8309aaa)\">\n     <use xlink:href=\"#C1_0_a4d616e3c7\" x=\"34.189462\" y=\"209.15447\" style=\"fill: #f7fbff\"/>\n    </g>\n    <g clip-path=\"url(#p2ec8309aaa)\">\n     <use xlink:href=\"#C1_0_a4d616e3c7\" x=\"41.040372\" y=\"339.845379\" style=\"fill: #f7fbff\"/>\n    </g>\n    <g clip-path=\"url(#p2ec8309aaa)\">\n     <use xlink:href=\"#C1_0_a4d616e3c7\" x=\"41.040372\" y=\"327.964387\" style=\"fill: #f7fbff\"/>\n    </g>\n    <g clip-path=\"url(#p2ec8309aaa)\">\n     <use xlink:href=\"#C1_0_a4d616e3c7\" x=\"41.040372\" y=\"316.083395\" style=\"fill: #f7fbff\"/>\n    </g>\n    <g clip-path=\"url(#p2ec8309aaa)\">\n     <use xlink:href=\"#C1_0_a4d616e3c7\" x=\"41.040372\" y=\"304.202404\" style=\"fill: #f7fbff\"/>\n    </g>\n    <g clip-path=\"url(#p2ec8309aaa)\">\n     <use xlink:href=\"#C1_0_a4d616e3c7\" x=\"41.040372\" y=\"292.321412\" style=\"fill: #ebf3fb\"/>\n    </g>\n    <g clip-path=\"url(#p2ec8309aaa)\">\n     <use xlink:href=\"#C1_0_a4d616e3c7\" x=\"41.040372\" y=\"280.44042\" style=\"fill: #eef5fc\"/>\n    </g>\n    <g clip-path=\"url(#p2ec8309aaa)\">\n     <use xlink:href=\"#C1_0_a4d616e3c7\" x=\"41.040372\" y=\"268.559428\" style=\"fill: #f5f9fe\"/>\n    </g>\n    <g clip-path=\"url(#p2ec8309aaa)\">\n     <use xlink:href=\"#C1_0_a4d616e3c7\" x=\"41.040372\" y=\"256.678437\" style=\"fill: #f5f9fe\"/>\n    </g>\n    <g clip-path=\"url(#p2ec8309aaa)\">\n     <use xlink:href=\"#C1_0_a4d616e3c7\" x=\"41.040372\" y=\"244.797445\" style=\"fill: #f7fbff\"/>\n    </g>\n    <g clip-path=\"url(#p2ec8309aaa)\">\n     <use xlink:href=\"#C1_0_a4d616e3c7\" x=\"41.040372\" y=\"232.916453\" style=\"fill: #f7fbff\"/>\n    </g>\n    <g clip-path=\"url(#p2ec8309aaa)\">\n     <use xlink:href=\"#C1_0_a4d616e3c7\" x=\"41.040372\" y=\"221.035461\" style=\"fill: #f7fbff\"/>\n    </g>\n    <g clip-path=\"url(#p2ec8309aaa)\">\n     <use xlink:href=\"#C1_0_a4d616e3c7\" x=\"41.040372\" y=\"209.15447\" style=\"fill: #f7fbff\"/>\n    </g>\n    <g clip-path=\"url(#p2ec8309aaa)\">\n     <use xlink:href=\"#C1_0_a4d616e3c7\" x=\"47.891281\" y=\"339.845379\" style=\"fill: #f7fbff\"/>\n    </g>\n    <g clip-path=\"url(#p2ec8309aaa)\">\n     <use xlink:href=\"#C1_0_a4d616e3c7\" x=\"47.891281\" y=\"327.964387\" style=\"fill: #f7fbff\"/>\n    </g>\n    <g clip-path=\"url(#p2ec8309aaa)\">\n     <use xlink:href=\"#C1_0_a4d616e3c7\" x=\"47.891281\" y=\"316.083395\" style=\"fill: #f7fbff\"/>\n    </g>\n    <g clip-path=\"url(#p2ec8309aaa)\">\n     <use xlink:href=\"#C1_0_a4d616e3c7\" x=\"47.891281\" y=\"304.202404\" style=\"fill: #f7fbff\"/>\n    </g>\n    <g clip-path=\"url(#p2ec8309aaa)\">\n     <use xlink:href=\"#C1_0_a4d616e3c7\" x=\"47.891281\" y=\"292.321412\" style=\"fill: #dbe9f6\"/>\n    </g>\n    <g clip-path=\"url(#p2ec8309aaa)\">\n     <use xlink:href=\"#C1_0_a4d616e3c7\" x=\"47.891281\" y=\"280.44042\" style=\"fill: #d2e3f3\"/>\n    </g>\n    <g clip-path=\"url(#p2ec8309aaa)\">\n     <use xlink:href=\"#C1_0_a4d616e3c7\" x=\"47.891281\" y=\"268.559428\" style=\"fill: #ebf3fb\"/>\n    </g>\n    <g clip-path=\"url(#p2ec8309aaa)\">\n     <use xlink:href=\"#C1_0_a4d616e3c7\" x=\"47.891281\" y=\"256.678437\" style=\"fill: #eef5fc\"/>\n    </g>\n    <g clip-path=\"url(#p2ec8309aaa)\">\n     <use xlink:href=\"#C1_0_a4d616e3c7\" x=\"47.891281\" y=\"244.797445\" style=\"fill: #f7fbff\"/>\n    </g>\n    <g clip-path=\"url(#p2ec8309aaa)\">\n     <use xlink:href=\"#C1_0_a4d616e3c7\" x=\"47.891281\" y=\"232.916453\" style=\"fill: #f7fbff\"/>\n    </g>\n    <g clip-path=\"url(#p2ec8309aaa)\">\n     <use xlink:href=\"#C1_0_a4d616e3c7\" x=\"47.891281\" y=\"221.035461\" style=\"fill: #f7fbff\"/>\n    </g>\n    <g clip-path=\"url(#p2ec8309aaa)\">\n     <use xlink:href=\"#C1_0_a4d616e3c7\" x=\"47.891281\" y=\"209.15447\" style=\"fill: #f7fbff\"/>\n    </g>\n    <g clip-path=\"url(#p2ec8309aaa)\">\n     <use xlink:href=\"#C1_0_a4d616e3c7\" x=\"54.74219\" y=\"339.845379\" style=\"fill: #f7fbff\"/>\n    </g>\n    <g clip-path=\"url(#p2ec8309aaa)\">\n     <use xlink:href=\"#C1_0_a4d616e3c7\" x=\"54.74219\" y=\"327.964387\" style=\"fill: #f7fbff\"/>\n    </g>\n    <g clip-path=\"url(#p2ec8309aaa)\">\n     <use xlink:href=\"#C1_0_a4d616e3c7\" x=\"54.74219\" y=\"316.083395\" style=\"fill: #f7fbff\"/>\n    </g>\n    <g clip-path=\"url(#p2ec8309aaa)\">\n     <use xlink:href=\"#C1_0_a4d616e3c7\" x=\"54.74219\" y=\"304.202404\" style=\"fill: #dbe9f6\"/>\n    </g>\n    <g clip-path=\"url(#p2ec8309aaa)\">\n     <use xlink:href=\"#C1_0_a4d616e3c7\" x=\"54.74219\" y=\"292.321412\" style=\"fill: #b4d3e9\"/>\n    </g>\n    <g clip-path=\"url(#p2ec8309aaa)\">\n     <use xlink:href=\"#C1_0_a4d616e3c7\" x=\"54.74219\" y=\"280.44042\" style=\"fill: #c7dbef\"/>\n    </g>\n    <g clip-path=\"url(#p2ec8309aaa)\">\n     <use xlink:href=\"#C1_0_a4d616e3c7\" x=\"54.74219\" y=\"268.559428\" style=\"fill: #a1cbe2\"/>\n    </g>\n    <g clip-path=\"url(#p2ec8309aaa)\">\n     <use xlink:href=\"#C1_0_a4d616e3c7\" x=\"54.74219\" y=\"256.678437\" style=\"fill: #b0d2e7\"/>\n    </g>\n    <g clip-path=\"url(#p2ec8309aaa)\">\n     <use xlink:href=\"#C1_0_a4d616e3c7\" x=\"54.74219\" y=\"244.797445\" style=\"fill: #f5f9fe\"/>\n    </g>\n    <g clip-path=\"url(#p2ec8309aaa)\">\n     <use xlink:href=\"#C1_0_a4d616e3c7\" x=\"54.74219\" y=\"232.916453\" style=\"fill: #f7fbff\"/>\n    </g>\n    <g clip-path=\"url(#p2ec8309aaa)\">\n     <use xlink:href=\"#C1_0_a4d616e3c7\" x=\"54.74219\" y=\"221.035461\" style=\"fill: #f7fbff\"/>\n    </g>\n    <g clip-path=\"url(#p2ec8309aaa)\">\n     <use xlink:href=\"#C1_0_a4d616e3c7\" x=\"54.74219\" y=\"209.15447\" style=\"fill: #f7fbff\"/>\n    </g>\n    <g clip-path=\"url(#p2ec8309aaa)\">\n     <use xlink:href=\"#C1_0_a4d616e3c7\" x=\"61.593099\" y=\"339.845379\" style=\"fill: #f7fbff\"/>\n    </g>\n    <g clip-path=\"url(#p2ec8309aaa)\">\n     <use xlink:href=\"#C1_0_a4d616e3c7\" x=\"61.593099\" y=\"327.964387\" style=\"fill: #f7fbff\"/>\n    </g>\n    <g clip-path=\"url(#p2ec8309aaa)\">\n     <use xlink:href=\"#C1_0_a4d616e3c7\" x=\"61.593099\" y=\"316.083395\" style=\"fill: #f7fbff\"/>\n    </g>\n    <g clip-path=\"url(#p2ec8309aaa)\">\n     <use xlink:href=\"#C1_0_a4d616e3c7\" x=\"61.593099\" y=\"304.202404\" style=\"fill: #bcd7eb\"/>\n    </g>\n    <g clip-path=\"url(#p2ec8309aaa)\">\n     <use xlink:href=\"#C1_0_a4d616e3c7\" x=\"61.593099\" y=\"292.321412\" style=\"fill: #77b5d9\"/>\n    </g>\n    <g clip-path=\"url(#p2ec8309aaa)\">\n     <use xlink:href=\"#C1_0_a4d616e3c7\" x=\"61.593099\" y=\"280.44042\" style=\"fill: #81badb\"/>\n    </g>\n    <g clip-path=\"url(#p2ec8309aaa)\">\n     <use xlink:href=\"#C1_0_a4d616e3c7\" x=\"61.593099\" y=\"268.559428\" style=\"fill: #d6e6f4\"/>\n    </g>\n    <g clip-path=\"url(#p2ec8309aaa)\">\n     <use xlink:href=\"#C1_0_a4d616e3c7\" x=\"61.593099\" y=\"256.678437\" style=\"fill: #d0e1f2\"/>\n    </g>\n    <g clip-path=\"url(#p2ec8309aaa)\">\n     <use xlink:href=\"#C1_0_a4d616e3c7\" x=\"61.593099\" y=\"244.797445\" style=\"fill: #f7fbff\"/>\n    </g>\n    <g clip-path=\"url(#p2ec8309aaa)\">\n     <use xlink:href=\"#C1_0_a4d616e3c7\" x=\"61.593099\" y=\"232.916453\" style=\"fill: #f7fbff\"/>\n    </g>\n    <g clip-path=\"url(#p2ec8309aaa)\">\n     <use xlink:href=\"#C1_0_a4d616e3c7\" x=\"61.593099\" y=\"221.035461\" style=\"fill: #f7fbff\"/>\n    </g>\n    <g clip-path=\"url(#p2ec8309aaa)\">\n     <use xlink:href=\"#C1_0_a4d616e3c7\" x=\"61.593099\" y=\"209.15447\" style=\"fill: #f7fbff\"/>\n    </g>\n    <g clip-path=\"url(#p2ec8309aaa)\">\n     <use xlink:href=\"#C1_0_a4d616e3c7\" x=\"68.444008\" y=\"339.845379\" style=\"fill: #f7fbff\"/>\n    </g>\n    <g clip-path=\"url(#p2ec8309aaa)\">\n     <use xlink:href=\"#C1_0_a4d616e3c7\" x=\"68.444008\" y=\"327.964387\" style=\"fill: #f7fbff\"/>\n    </g>\n    <g clip-path=\"url(#p2ec8309aaa)\">\n     <use xlink:href=\"#C1_0_a4d616e3c7\" x=\"68.444008\" y=\"316.083395\" style=\"fill: #f7fbff\"/>\n    </g>\n    <g clip-path=\"url(#p2ec8309aaa)\">\n     <use xlink:href=\"#C1_0_a4d616e3c7\" x=\"68.444008\" y=\"304.202404\" style=\"fill: #81badb\"/>\n    </g>\n    <g clip-path=\"url(#p2ec8309aaa)\">\n     <use xlink:href=\"#C1_0_a4d616e3c7\" x=\"68.444008\" y=\"292.321412\" style=\"fill: #99c7e0\"/>\n    </g>\n    <g clip-path=\"url(#p2ec8309aaa)\">\n     <use xlink:href=\"#C1_0_a4d616e3c7\" x=\"68.444008\" y=\"280.44042\" style=\"fill: #b0d2e7\"/>\n    </g>\n    <g clip-path=\"url(#p2ec8309aaa)\">\n     <use xlink:href=\"#C1_0_a4d616e3c7\" x=\"68.444008\" y=\"268.559428\" style=\"fill: #b8d5ea\"/>\n    </g>\n    <g clip-path=\"url(#p2ec8309aaa)\">\n     <use xlink:href=\"#C1_0_a4d616e3c7\" x=\"68.444008\" y=\"256.678437\" style=\"fill: #f7fbff\"/>\n    </g>\n    <g clip-path=\"url(#p2ec8309aaa)\">\n     <use xlink:href=\"#C1_0_a4d616e3c7\" x=\"68.444008\" y=\"244.797445\" style=\"fill: #f7fbff\"/>\n    </g>\n    <g clip-path=\"url(#p2ec8309aaa)\">\n     <use xlink:href=\"#C1_0_a4d616e3c7\" x=\"68.444008\" y=\"232.916453\" style=\"fill: #f7fbff\"/>\n    </g>\n    <g clip-path=\"url(#p2ec8309aaa)\">\n     <use xlink:href=\"#C1_0_a4d616e3c7\" x=\"68.444008\" y=\"221.035461\" style=\"fill: #f7fbff\"/>\n    </g>\n    <g clip-path=\"url(#p2ec8309aaa)\">\n     <use xlink:href=\"#C1_0_a4d616e3c7\" x=\"68.444008\" y=\"209.15447\" style=\"fill: #f7fbff\"/>\n    </g>\n    <g clip-path=\"url(#p2ec8309aaa)\">\n     <use xlink:href=\"#C1_0_a4d616e3c7\" x=\"75.294917\" y=\"339.845379\" style=\"fill: #f7fbff\"/>\n    </g>\n    <g clip-path=\"url(#p2ec8309aaa)\">\n     <use xlink:href=\"#C1_0_a4d616e3c7\" x=\"75.294917\" y=\"327.964387\" style=\"fill: #f7fbff\"/>\n    </g>\n    <g clip-path=\"url(#p2ec8309aaa)\">\n     <use xlink:href=\"#C1_0_a4d616e3c7\" x=\"75.294917\" y=\"316.083395\" style=\"fill: #e9f2fa\"/>\n    </g>\n    <g clip-path=\"url(#p2ec8309aaa)\">\n     <use xlink:href=\"#C1_0_a4d616e3c7\" x=\"75.294917\" y=\"304.202404\" style=\"fill: #81badb\"/>\n    </g>\n    <g clip-path=\"url(#p2ec8309aaa)\">\n     <use xlink:href=\"#C1_0_a4d616e3c7\" x=\"75.294917\" y=\"292.321412\" style=\"fill: #cbdef1\"/>\n    </g>\n    <g clip-path=\"url(#p2ec8309aaa)\">\n     <use xlink:href=\"#C1_0_a4d616e3c7\" x=\"75.294917\" y=\"280.44042\" style=\"fill: #c3daee\"/>\n    </g>\n    <g clip-path=\"url(#p2ec8309aaa)\">\n     <use xlink:href=\"#C1_0_a4d616e3c7\" x=\"75.294917\" y=\"268.559428\" style=\"fill: #dbe9f6\"/>\n    </g>\n    <g clip-path=\"url(#p2ec8309aaa)\">\n     <use xlink:href=\"#C1_0_a4d616e3c7\" x=\"75.294917\" y=\"256.678437\" style=\"fill: #f7fbff\"/>\n    </g>\n    <g clip-path=\"url(#p2ec8309aaa)\">\n     <use xlink:href=\"#C1_0_a4d616e3c7\" x=\"75.294917\" y=\"244.797445\" style=\"fill: #f7fbff\"/>\n    </g>\n    <g clip-path=\"url(#p2ec8309aaa)\">\n     <use xlink:href=\"#C1_0_a4d616e3c7\" x=\"75.294917\" y=\"232.916453\" style=\"fill: #f7fbff\"/>\n    </g>\n    <g clip-path=\"url(#p2ec8309aaa)\">\n     <use xlink:href=\"#C1_0_a4d616e3c7\" x=\"75.294917\" y=\"221.035461\" style=\"fill: #f7fbff\"/>\n    </g>\n    <g clip-path=\"url(#p2ec8309aaa)\">\n     <use xlink:href=\"#C1_0_a4d616e3c7\" x=\"75.294917\" y=\"209.15447\" style=\"fill: #f7fbff\"/>\n    </g>\n    <g clip-path=\"url(#p2ec8309aaa)\">\n     <use xlink:href=\"#C1_0_a4d616e3c7\" x=\"82.145826\" y=\"339.845379\" style=\"fill: #f7fbff\"/>\n    </g>\n    <g clip-path=\"url(#p2ec8309aaa)\">\n     <use xlink:href=\"#C1_0_a4d616e3c7\" x=\"82.145826\" y=\"327.964387\" style=\"fill: #f7fbff\"/>\n    </g>\n    <g clip-path=\"url(#p2ec8309aaa)\">\n     <use xlink:href=\"#C1_0_a4d616e3c7\" x=\"82.145826\" y=\"316.083395\" style=\"fill: #f7fbff\"/>\n    </g>\n    <g clip-path=\"url(#p2ec8309aaa)\">\n     <use xlink:href=\"#C1_0_a4d616e3c7\" x=\"82.145826\" y=\"304.202404\" style=\"fill: #ebf3fb\"/>\n    </g>\n    <g clip-path=\"url(#p2ec8309aaa)\">\n     <use xlink:href=\"#C1_0_a4d616e3c7\" x=\"82.145826\" y=\"292.321412\" style=\"fill: #d9e7f5\"/>\n    </g>\n    <g clip-path=\"url(#p2ec8309aaa)\">\n     <use xlink:href=\"#C1_0_a4d616e3c7\" x=\"82.145826\" y=\"280.44042\" style=\"fill: #ebf3fb\"/>\n    </g>\n    <g clip-path=\"url(#p2ec8309aaa)\">\n     <use xlink:href=\"#C1_0_a4d616e3c7\" x=\"82.145826\" y=\"268.559428\" style=\"fill: #e7f0fa\"/>\n    </g>\n    <g clip-path=\"url(#p2ec8309aaa)\">\n     <use xlink:href=\"#C1_0_a4d616e3c7\" x=\"82.145826\" y=\"256.678437\" style=\"fill: #f7fbff\"/>\n    </g>\n    <g clip-path=\"url(#p2ec8309aaa)\">\n     <use xlink:href=\"#C1_0_a4d616e3c7\" x=\"82.145826\" y=\"244.797445\" style=\"fill: #f7fbff\"/>\n    </g>\n    <g clip-path=\"url(#p2ec8309aaa)\">\n     <use xlink:href=\"#C1_0_a4d616e3c7\" x=\"82.145826\" y=\"232.916453\" style=\"fill: #f7fbff\"/>\n    </g>\n    <g clip-path=\"url(#p2ec8309aaa)\">\n     <use xlink:href=\"#C1_0_a4d616e3c7\" x=\"82.145826\" y=\"221.035461\" style=\"fill: #f7fbff\"/>\n    </g>\n    <g clip-path=\"url(#p2ec8309aaa)\">\n     <use xlink:href=\"#C1_0_a4d616e3c7\" x=\"82.145826\" y=\"209.15447\" style=\"fill: #f7fbff\"/>\n    </g>\n    <g clip-path=\"url(#p2ec8309aaa)\">\n     <use xlink:href=\"#C1_0_a4d616e3c7\" x=\"-51.446901\" y=\"333.904883\" style=\"fill: #f7fbff\"/>\n    </g>\n    <g clip-path=\"url(#p2ec8309aaa)\">\n     <use xlink:href=\"#C1_0_a4d616e3c7\" x=\"-51.446901\" y=\"322.023891\" style=\"fill: #f7fbff\"/>\n    </g>\n    <g clip-path=\"url(#p2ec8309aaa)\">\n     <use xlink:href=\"#C1_0_a4d616e3c7\" x=\"-51.446901\" y=\"310.142899\" style=\"fill: #f7fbff\"/>\n    </g>\n    <g clip-path=\"url(#p2ec8309aaa)\">\n     <use xlink:href=\"#C1_0_a4d616e3c7\" x=\"-51.446901\" y=\"298.261908\" style=\"fill: #f5f9fe\"/>\n    </g>\n    <g clip-path=\"url(#p2ec8309aaa)\">\n     <use xlink:href=\"#C1_0_a4d616e3c7\" x=\"-51.446901\" y=\"286.380916\" style=\"fill: #eef5fc\"/>\n    </g>\n    <g clip-path=\"url(#p2ec8309aaa)\">\n     <use xlink:href=\"#C1_0_a4d616e3c7\" x=\"-51.446901\" y=\"274.499924\" style=\"fill: #e2edf8\"/>\n    </g>\n    <g clip-path=\"url(#p2ec8309aaa)\">\n     <use xlink:href=\"#C1_0_a4d616e3c7\" x=\"-51.446901\" y=\"262.618933\" style=\"fill: #e4eff9\"/>\n    </g>\n    <g clip-path=\"url(#p2ec8309aaa)\">\n     <use xlink:href=\"#C1_0_a4d616e3c7\" x=\"-51.446901\" y=\"250.737941\" style=\"fill: #f7fbff\"/>\n    </g>\n    <g clip-path=\"url(#p2ec8309aaa)\">\n     <use xlink:href=\"#C1_0_a4d616e3c7\" x=\"-51.446901\" y=\"238.856949\" style=\"fill: #f7fbff\"/>\n    </g>\n    <g clip-path=\"url(#p2ec8309aaa)\">\n     <use xlink:href=\"#C1_0_a4d616e3c7\" x=\"-51.446901\" y=\"226.975957\" style=\"fill: #f7fbff\"/>\n    </g>\n    <g clip-path=\"url(#p2ec8309aaa)\">\n     <use xlink:href=\"#C1_0_a4d616e3c7\" x=\"-51.446901\" y=\"215.094966\" style=\"fill: #f7fbff\"/>\n    </g>\n    <g clip-path=\"url(#p2ec8309aaa)\">\n     <use xlink:href=\"#C1_0_a4d616e3c7\" x=\"-44.595992\" y=\"333.904883\" style=\"fill: #f7fbff\"/>\n    </g>\n    <g clip-path=\"url(#p2ec8309aaa)\">\n     <use xlink:href=\"#C1_0_a4d616e3c7\" x=\"-44.595992\" y=\"322.023891\" style=\"fill: #f7fbff\"/>\n    </g>\n    <g clip-path=\"url(#p2ec8309aaa)\">\n     <use xlink:href=\"#C1_0_a4d616e3c7\" x=\"-44.595992\" y=\"310.142899\" style=\"fill: #e4eff9\"/>\n    </g>\n    <g clip-path=\"url(#p2ec8309aaa)\">\n     <use xlink:href=\"#C1_0_a4d616e3c7\" x=\"-44.595992\" y=\"298.261908\" style=\"fill: #6dafd7\"/>\n    </g>\n    <g clip-path=\"url(#p2ec8309aaa)\">\n     <use xlink:href=\"#C1_0_a4d616e3c7\" x=\"-44.595992\" y=\"286.380916\" style=\"fill: #cde0f1\"/>\n    </g>\n    <g clip-path=\"url(#p2ec8309aaa)\">\n     <use xlink:href=\"#C1_0_a4d616e3c7\" x=\"-44.595992\" y=\"274.499924\" style=\"fill: #e4eff9\"/>\n    </g>\n    <g clip-path=\"url(#p2ec8309aaa)\">\n     <use xlink:href=\"#C1_0_a4d616e3c7\" x=\"-44.595992\" y=\"262.618933\" style=\"fill: #f2f8fd\"/>\n    </g>\n    <g clip-path=\"url(#p2ec8309aaa)\">\n     <use xlink:href=\"#C1_0_a4d616e3c7\" x=\"-44.595992\" y=\"250.737941\" style=\"fill: #f7fbff\"/>\n    </g>\n    <g clip-path=\"url(#p2ec8309aaa)\">\n     <use xlink:href=\"#C1_0_a4d616e3c7\" x=\"-44.595992\" y=\"238.856949\" style=\"fill: #f7fbff\"/>\n    </g>\n    <g clip-path=\"url(#p2ec8309aaa)\">\n     <use xlink:href=\"#C1_0_a4d616e3c7\" x=\"-44.595992\" y=\"226.975957\" style=\"fill: #f7fbff\"/>\n    </g>\n    <g clip-path=\"url(#p2ec8309aaa)\">\n     <use xlink:href=\"#C1_0_a4d616e3c7\" x=\"-44.595992\" y=\"215.094966\" style=\"fill: #f7fbff\"/>\n    </g>\n    <g clip-path=\"url(#p2ec8309aaa)\">\n     <use xlink:href=\"#C1_0_a4d616e3c7\" x=\"-37.745083\" y=\"333.904883\" style=\"fill: #f7fbff\"/>\n    </g>\n    <g clip-path=\"url(#p2ec8309aaa)\">\n     <use xlink:href=\"#C1_0_a4d616e3c7\" x=\"-37.745083\" y=\"322.023891\" style=\"fill: #f2f8fd\"/>\n    </g>\n    <g clip-path=\"url(#p2ec8309aaa)\">\n     <use xlink:href=\"#C1_0_a4d616e3c7\" x=\"-37.745083\" y=\"310.142899\" style=\"fill: #77b5d9\"/>\n    </g>\n    <g clip-path=\"url(#p2ec8309aaa)\">\n     <use xlink:href=\"#C1_0_a4d616e3c7\" x=\"-37.745083\" y=\"298.261908\" style=\"fill: #4292c6\"/>\n    </g>\n    <g clip-path=\"url(#p2ec8309aaa)\">\n     <use xlink:href=\"#C1_0_a4d616e3c7\" x=\"-37.745083\" y=\"286.380916\" style=\"fill: #4292c6\"/>\n    </g>\n    <g clip-path=\"url(#p2ec8309aaa)\">\n     <use xlink:href=\"#C1_0_a4d616e3c7\" x=\"-37.745083\" y=\"274.499924\" style=\"fill: #b8d5ea\"/>\n    </g>\n    <g clip-path=\"url(#p2ec8309aaa)\">\n     <use xlink:href=\"#C1_0_a4d616e3c7\" x=\"-37.745083\" y=\"262.618933\" style=\"fill: #e2edf8\"/>\n    </g>\n    <g clip-path=\"url(#p2ec8309aaa)\">\n     <use xlink:href=\"#C1_0_a4d616e3c7\" x=\"-37.745083\" y=\"250.737941\" style=\"fill: #f2f8fd\"/>\n    </g>\n    <g clip-path=\"url(#p2ec8309aaa)\">\n     <use xlink:href=\"#C1_0_a4d616e3c7\" x=\"-37.745083\" y=\"238.856949\" style=\"fill: #f7fbff\"/>\n    </g>\n    <g clip-path=\"url(#p2ec8309aaa)\">\n     <use xlink:href=\"#C1_0_a4d616e3c7\" x=\"-37.745083\" y=\"226.975957\" style=\"fill: #f7fbff\"/>\n    </g>\n    <g clip-path=\"url(#p2ec8309aaa)\">\n     <use xlink:href=\"#C1_0_a4d616e3c7\" x=\"-37.745083\" y=\"215.094966\" style=\"fill: #f7fbff\"/>\n    </g>\n    <g clip-path=\"url(#p2ec8309aaa)\">\n     <use xlink:href=\"#C1_0_a4d616e3c7\" x=\"-30.894174\" y=\"333.904883\" style=\"fill: #f7fbff\"/>\n    </g>\n    <g clip-path=\"url(#p2ec8309aaa)\">\n     <use xlink:href=\"#C1_0_a4d616e3c7\" x=\"-30.894174\" y=\"322.023891\" style=\"fill: #cde0f1\"/>\n    </g>\n    <g clip-path=\"url(#p2ec8309aaa)\">\n     <use xlink:href=\"#C1_0_a4d616e3c7\" x=\"-30.894174\" y=\"310.142899\" style=\"fill: #3989c1\"/>\n    </g>\n    <g clip-path=\"url(#p2ec8309aaa)\">\n     <use xlink:href=\"#C1_0_a4d616e3c7\" x=\"-30.894174\" y=\"298.261908\" style=\"fill: #08306b\"/>\n    </g>\n    <g clip-path=\"url(#p2ec8309aaa)\">\n     <use xlink:href=\"#C1_0_a4d616e3c7\" x=\"-30.894174\" y=\"286.380916\" style=\"fill: #5aa2cf\"/>\n    </g>\n    <g clip-path=\"url(#p2ec8309aaa)\">\n     <use xlink:href=\"#C1_0_a4d616e3c7\" x=\"-30.894174\" y=\"274.499924\" style=\"fill: #9dcae1\"/>\n    </g>\n    <g clip-path=\"url(#p2ec8309aaa)\">\n     <use xlink:href=\"#C1_0_a4d616e3c7\" x=\"-30.894174\" y=\"262.618933\" style=\"fill: #d9e7f5\"/>\n    </g>\n    <g clip-path=\"url(#p2ec8309aaa)\">\n     <use xlink:href=\"#C1_0_a4d616e3c7\" x=\"-30.894174\" y=\"250.737941\" style=\"fill: #dfecf7\"/>\n    </g>\n    <g clip-path=\"url(#p2ec8309aaa)\">\n     <use xlink:href=\"#C1_0_a4d616e3c7\" x=\"-30.894174\" y=\"238.856949\" style=\"fill: #f7fbff\"/>\n    </g>\n    <g clip-path=\"url(#p2ec8309aaa)\">\n     <use xlink:href=\"#C1_0_a4d616e3c7\" x=\"-30.894174\" y=\"226.975957\" style=\"fill: #f2f8fd\"/>\n    </g>\n    <g clip-path=\"url(#p2ec8309aaa)\">\n     <use xlink:href=\"#C1_0_a4d616e3c7\" x=\"-30.894174\" y=\"215.094966\" style=\"fill: #f7fbff\"/>\n    </g>\n    <g clip-path=\"url(#p2ec8309aaa)\">\n     <use xlink:href=\"#C1_0_a4d616e3c7\" x=\"-24.043265\" y=\"333.904883\" style=\"fill: #f7fbff\"/>\n    </g>\n    <g clip-path=\"url(#p2ec8309aaa)\">\n     <use xlink:href=\"#C1_0_a4d616e3c7\" x=\"-24.043265\" y=\"322.023891\" style=\"fill: #8fc2de\"/>\n    </g>\n    <g clip-path=\"url(#p2ec8309aaa)\">\n     <use xlink:href=\"#C1_0_a4d616e3c7\" x=\"-24.043265\" y=\"310.142899\" style=\"fill: #3080bd\"/>\n    </g>\n    <g clip-path=\"url(#p2ec8309aaa)\">\n     <use xlink:href=\"#C1_0_a4d616e3c7\" x=\"-24.043265\" y=\"298.261908\" style=\"fill: #1e6db2\"/>\n    </g>\n    <g clip-path=\"url(#p2ec8309aaa)\">\n     <use xlink:href=\"#C1_0_a4d616e3c7\" x=\"-24.043265\" y=\"286.380916\" style=\"fill: #77b5d9\"/>\n    </g>\n    <g clip-path=\"url(#p2ec8309aaa)\">\n     <use xlink:href=\"#C1_0_a4d616e3c7\" x=\"-24.043265\" y=\"274.499924\" style=\"fill: #c7dbef\"/>\n    </g>\n    <g clip-path=\"url(#p2ec8309aaa)\">\n     <use xlink:href=\"#C1_0_a4d616e3c7\" x=\"-24.043265\" y=\"262.618933\" style=\"fill: #d4e4f4\"/>\n    </g>\n    <g clip-path=\"url(#p2ec8309aaa)\">\n     <use xlink:href=\"#C1_0_a4d616e3c7\" x=\"-24.043265\" y=\"250.737941\" style=\"fill: #e2edf8\"/>\n    </g>\n    <g clip-path=\"url(#p2ec8309aaa)\">\n     <use xlink:href=\"#C1_0_a4d616e3c7\" x=\"-24.043265\" y=\"238.856949\" style=\"fill: #f2f8fd\"/>\n    </g>\n    <g clip-path=\"url(#p2ec8309aaa)\">\n     <use xlink:href=\"#C1_0_a4d616e3c7\" x=\"-24.043265\" y=\"226.975957\" style=\"fill: #ddeaf7\"/>\n    </g>\n    <g clip-path=\"url(#p2ec8309aaa)\">\n     <use xlink:href=\"#C1_0_a4d616e3c7\" x=\"-24.043265\" y=\"215.094966\" style=\"fill: #f7fbff\"/>\n    </g>\n    <g clip-path=\"url(#p2ec8309aaa)\">\n     <use xlink:href=\"#C1_0_a4d616e3c7\" x=\"-17.192356\" y=\"333.904883\" style=\"fill: #f5f9fe\"/>\n    </g>\n    <g clip-path=\"url(#p2ec8309aaa)\">\n     <use xlink:href=\"#C1_0_a4d616e3c7\" x=\"-17.192356\" y=\"322.023891\" style=\"fill: #5aa2cf\"/>\n    </g>\n    <g clip-path=\"url(#p2ec8309aaa)\">\n     <use xlink:href=\"#C1_0_a4d616e3c7\" x=\"-17.192356\" y=\"310.142899\" style=\"fill: #5da5d1\"/>\n    </g>\n    <g clip-path=\"url(#p2ec8309aaa)\">\n     <use xlink:href=\"#C1_0_a4d616e3c7\" x=\"-17.192356\" y=\"298.261908\" style=\"fill: #7cb7da\"/>\n    </g>\n    <g clip-path=\"url(#p2ec8309aaa)\">\n     <use xlink:href=\"#C1_0_a4d616e3c7\" x=\"-17.192356\" y=\"286.380916\" style=\"fill: #5aa2cf\"/>\n    </g>\n    <g clip-path=\"url(#p2ec8309aaa)\">\n     <use xlink:href=\"#C1_0_a4d616e3c7\" x=\"-17.192356\" y=\"274.499924\" style=\"fill: #b4d3e9\"/>\n    </g>\n    <g clip-path=\"url(#p2ec8309aaa)\">\n     <use xlink:href=\"#C1_0_a4d616e3c7\" x=\"-17.192356\" y=\"262.618933\" style=\"fill: #d2e3f3\"/>\n    </g>\n    <g clip-path=\"url(#p2ec8309aaa)\">\n     <use xlink:href=\"#C1_0_a4d616e3c7\" x=\"-17.192356\" y=\"250.737941\" style=\"fill: #ddeaf7\"/>\n    </g>\n    <g clip-path=\"url(#p2ec8309aaa)\">\n     <use xlink:href=\"#C1_0_a4d616e3c7\" x=\"-17.192356\" y=\"238.856949\" style=\"fill: #f0f6fd\"/>\n    </g>\n    <g clip-path=\"url(#p2ec8309aaa)\">\n     <use xlink:href=\"#C1_0_a4d616e3c7\" x=\"-17.192356\" y=\"226.975957\" style=\"fill: #ddeaf7\"/>\n    </g>\n    <g clip-path=\"url(#p2ec8309aaa)\">\n     <use xlink:href=\"#C1_0_a4d616e3c7\" x=\"-17.192356\" y=\"215.094966\" style=\"fill: #a1cbe2\"/>\n    </g>\n    <g clip-path=\"url(#p2ec8309aaa)\">\n     <use xlink:href=\"#C1_0_a4d616e3c7\" x=\"-10.341447\" y=\"333.904883\" style=\"fill: #f7fbff\"/>\n    </g>\n    <g clip-path=\"url(#p2ec8309aaa)\">\n     <use xlink:href=\"#C1_0_a4d616e3c7\" x=\"-10.341447\" y=\"322.023891\" style=\"fill: #bcd7eb\"/>\n    </g>\n    <g clip-path=\"url(#p2ec8309aaa)\">\n     <use xlink:href=\"#C1_0_a4d616e3c7\" x=\"-10.341447\" y=\"310.142899\" style=\"fill: #3686c0\"/>\n    </g>\n    <g clip-path=\"url(#p2ec8309aaa)\">\n     <use xlink:href=\"#C1_0_a4d616e3c7\" x=\"-10.341447\" y=\"298.261908\" style=\"fill: #4a98c9\"/>\n    </g>\n    <g clip-path=\"url(#p2ec8309aaa)\">\n     <use xlink:href=\"#C1_0_a4d616e3c7\" x=\"-10.341447\" y=\"286.380916\" style=\"fill: #77b5d9\"/>\n    </g>\n    <g clip-path=\"url(#p2ec8309aaa)\">\n     <use xlink:href=\"#C1_0_a4d616e3c7\" x=\"-10.341447\" y=\"274.499924\" style=\"fill: #77b5d9\"/>\n    </g>\n    <g clip-path=\"url(#p2ec8309aaa)\">\n     <use xlink:href=\"#C1_0_a4d616e3c7\" x=\"-10.341447\" y=\"262.618933\" style=\"fill: #a5cde3\"/>\n    </g>\n    <g clip-path=\"url(#p2ec8309aaa)\">\n     <use xlink:href=\"#C1_0_a4d616e3c7\" x=\"-10.341447\" y=\"250.737941\" style=\"fill: #e9f2fa\"/>\n    </g>\n    <g clip-path=\"url(#p2ec8309aaa)\">\n     <use xlink:href=\"#C1_0_a4d616e3c7\" x=\"-10.341447\" y=\"238.856949\" style=\"fill: #dbe9f6\"/>\n    </g>\n    <g clip-path=\"url(#p2ec8309aaa)\">\n     <use xlink:href=\"#C1_0_a4d616e3c7\" x=\"-10.341447\" y=\"226.975957\" style=\"fill: #cbdef1\"/>\n    </g>\n    <g clip-path=\"url(#p2ec8309aaa)\">\n     <use xlink:href=\"#C1_0_a4d616e3c7\" x=\"-10.341447\" y=\"215.094966\" style=\"fill: #94c4df\"/>\n    </g>\n    <g clip-path=\"url(#p2ec8309aaa)\">\n     <use xlink:href=\"#C1_0_a4d616e3c7\" x=\"-3.490538\" y=\"333.904883\" style=\"fill: #eef5fc\"/>\n    </g>\n    <g clip-path=\"url(#p2ec8309aaa)\">\n     <use xlink:href=\"#C1_0_a4d616e3c7\" x=\"-3.490538\" y=\"322.023891\" style=\"fill: #e9f2fa\"/>\n    </g>\n    <g clip-path=\"url(#p2ec8309aaa)\">\n     <use xlink:href=\"#C1_0_a4d616e3c7\" x=\"-3.490538\" y=\"310.142899\" style=\"fill: #b0d2e7\"/>\n    </g>\n    <g clip-path=\"url(#p2ec8309aaa)\">\n     <use xlink:href=\"#C1_0_a4d616e3c7\" x=\"-3.490538\" y=\"298.261908\" style=\"fill: #3f8fc5\"/>\n    </g>\n    <g clip-path=\"url(#p2ec8309aaa)\">\n     <use xlink:href=\"#C1_0_a4d616e3c7\" x=\"-3.490538\" y=\"286.380916\" style=\"fill: #a9cfe5\"/>\n    </g>\n    <g clip-path=\"url(#p2ec8309aaa)\">\n     <use xlink:href=\"#C1_0_a4d616e3c7\" x=\"-3.490538\" y=\"274.499924\" style=\"fill: #a9cfe5\"/>\n    </g>\n    <g clip-path=\"url(#p2ec8309aaa)\">\n     <use xlink:href=\"#C1_0_a4d616e3c7\" x=\"-3.490538\" y=\"262.618933\" style=\"fill: #d2e3f3\"/>\n    </g>\n    <g clip-path=\"url(#p2ec8309aaa)\">\n     <use xlink:href=\"#C1_0_a4d616e3c7\" x=\"-3.490538\" y=\"250.737941\" style=\"fill: #dfecf7\"/>\n    </g>\n    <g clip-path=\"url(#p2ec8309aaa)\">\n     <use xlink:href=\"#C1_0_a4d616e3c7\" x=\"-3.490538\" y=\"238.856949\" style=\"fill: #d6e6f4\"/>\n    </g>\n    <g clip-path=\"url(#p2ec8309aaa)\">\n     <use xlink:href=\"#C1_0_a4d616e3c7\" x=\"-3.490538\" y=\"226.975957\" style=\"fill: #9dcae1\"/>\n    </g>\n    <g clip-path=\"url(#p2ec8309aaa)\">\n     <use xlink:href=\"#C1_0_a4d616e3c7\" x=\"-3.490538\" y=\"215.094966\" style=\"fill: #e9f2fa\"/>\n    </g>\n    <g clip-path=\"url(#p2ec8309aaa)\">\n     <use xlink:href=\"#C1_0_a4d616e3c7\" x=\"3.360372\" y=\"333.904883\" style=\"fill: #5da5d1\"/>\n    </g>\n    <g clip-path=\"url(#p2ec8309aaa)\">\n     <use xlink:href=\"#C1_0_a4d616e3c7\" x=\"3.360372\" y=\"322.023891\" style=\"fill: #d6e6f4\"/>\n    </g>\n    <g clip-path=\"url(#p2ec8309aaa)\">\n     <use xlink:href=\"#C1_0_a4d616e3c7\" x=\"3.360372\" y=\"310.142899\" style=\"fill: #dbe9f6\"/>\n    </g>\n    <g clip-path=\"url(#p2ec8309aaa)\">\n     <use xlink:href=\"#C1_0_a4d616e3c7\" x=\"3.360372\" y=\"298.261908\" style=\"fill: #72b2d8\"/>\n    </g>\n    <g clip-path=\"url(#p2ec8309aaa)\">\n     <use xlink:href=\"#C1_0_a4d616e3c7\" x=\"3.360372\" y=\"286.380916\" style=\"fill: #b0d2e7\"/>\n    </g>\n    <g clip-path=\"url(#p2ec8309aaa)\">\n     <use xlink:href=\"#C1_0_a4d616e3c7\" x=\"3.360372\" y=\"274.499924\" style=\"fill: #94c4df\"/>\n    </g>\n    <g clip-path=\"url(#p2ec8309aaa)\">\n     <use xlink:href=\"#C1_0_a4d616e3c7\" x=\"3.360372\" y=\"262.618933\" style=\"fill: #d0e1f2\"/>\n    </g>\n    <g clip-path=\"url(#p2ec8309aaa)\">\n     <use xlink:href=\"#C1_0_a4d616e3c7\" x=\"3.360372\" y=\"250.737941\" style=\"fill: #d6e6f4\"/>\n    </g>\n    <g clip-path=\"url(#p2ec8309aaa)\">\n     <use xlink:href=\"#C1_0_a4d616e3c7\" x=\"3.360372\" y=\"238.856949\" style=\"fill: #a9cfe5\"/>\n    </g>\n    <g clip-path=\"url(#p2ec8309aaa)\">\n     <use xlink:href=\"#C1_0_a4d616e3c7\" x=\"3.360372\" y=\"226.975957\" style=\"fill: #c9ddf0\"/>\n    </g>\n    <g clip-path=\"url(#p2ec8309aaa)\">\n     <use xlink:href=\"#C1_0_a4d616e3c7\" x=\"3.360372\" y=\"215.094966\" style=\"fill: #f7fbff\"/>\n    </g>\n    <g clip-path=\"url(#p2ec8309aaa)\">\n     <use xlink:href=\"#C1_0_a4d616e3c7\" x=\"10.211281\" y=\"333.904883\" style=\"fill: #d9e7f5\"/>\n    </g>\n    <g clip-path=\"url(#p2ec8309aaa)\">\n     <use xlink:href=\"#C1_0_a4d616e3c7\" x=\"10.211281\" y=\"322.023891\" style=\"fill: #dbe9f6\"/>\n    </g>\n    <g clip-path=\"url(#p2ec8309aaa)\">\n     <use xlink:href=\"#C1_0_a4d616e3c7\" x=\"10.211281\" y=\"310.142899\" style=\"fill: #e2edf8\"/>\n    </g>\n    <g clip-path=\"url(#p2ec8309aaa)\">\n     <use xlink:href=\"#C1_0_a4d616e3c7\" x=\"10.211281\" y=\"298.261908\" style=\"fill: #b0d2e7\"/>\n    </g>\n    <g clip-path=\"url(#p2ec8309aaa)\">\n     <use xlink:href=\"#C1_0_a4d616e3c7\" x=\"10.211281\" y=\"286.380916\" style=\"fill: #d9e7f5\"/>\n    </g>\n    <g clip-path=\"url(#p2ec8309aaa)\">\n     <use xlink:href=\"#C1_0_a4d616e3c7\" x=\"10.211281\" y=\"274.499924\" style=\"fill: #d6e6f4\"/>\n    </g>\n    <g clip-path=\"url(#p2ec8309aaa)\">\n     <use xlink:href=\"#C1_0_a4d616e3c7\" x=\"10.211281\" y=\"262.618933\" style=\"fill: #e4eff9\"/>\n    </g>\n    <g clip-path=\"url(#p2ec8309aaa)\">\n     <use xlink:href=\"#C1_0_a4d616e3c7\" x=\"10.211281\" y=\"250.737941\" style=\"fill: #f2f8fd\"/>\n    </g>\n    <g clip-path=\"url(#p2ec8309aaa)\">\n     <use xlink:href=\"#C1_0_a4d616e3c7\" x=\"10.211281\" y=\"238.856949\" style=\"fill: #f7fbff\"/>\n    </g>\n    <g clip-path=\"url(#p2ec8309aaa)\">\n     <use xlink:href=\"#C1_0_a4d616e3c7\" x=\"10.211281\" y=\"226.975957\" style=\"fill: #f7fbff\"/>\n    </g>\n    <g clip-path=\"url(#p2ec8309aaa)\">\n     <use xlink:href=\"#C1_0_a4d616e3c7\" x=\"10.211281\" y=\"215.094966\" style=\"fill: #f7fbff\"/>\n    </g>\n    <g clip-path=\"url(#p2ec8309aaa)\">\n     <use xlink:href=\"#C1_0_a4d616e3c7\" x=\"17.06219\" y=\"333.904883\" style=\"fill: #f7fbff\"/>\n    </g>\n    <g clip-path=\"url(#p2ec8309aaa)\">\n     <use xlink:href=\"#C1_0_a4d616e3c7\" x=\"17.06219\" y=\"322.023891\" style=\"fill: #f7fbff\"/>\n    </g>\n    <g clip-path=\"url(#p2ec8309aaa)\">\n     <use xlink:href=\"#C1_0_a4d616e3c7\" x=\"17.06219\" y=\"310.142899\" style=\"fill: #c7dbef\"/>\n    </g>\n    <g clip-path=\"url(#p2ec8309aaa)\">\n     <use xlink:href=\"#C1_0_a4d616e3c7\" x=\"17.06219\" y=\"298.261908\" style=\"fill: #ebf3fb\"/>\n    </g>\n    <g clip-path=\"url(#p2ec8309aaa)\">\n     <use xlink:href=\"#C1_0_a4d616e3c7\" x=\"17.06219\" y=\"286.380916\" style=\"fill: #eef5fc\"/>\n    </g>\n    <g clip-path=\"url(#p2ec8309aaa)\">\n     <use xlink:href=\"#C1_0_a4d616e3c7\" x=\"17.06219\" y=\"274.499924\" style=\"fill: #f5f9fe\"/>\n    </g>\n    <g clip-path=\"url(#p2ec8309aaa)\">\n     <use xlink:href=\"#C1_0_a4d616e3c7\" x=\"17.06219\" y=\"262.618933\" style=\"fill: #f7fbff\"/>\n    </g>\n    <g clip-path=\"url(#p2ec8309aaa)\">\n     <use xlink:href=\"#C1_0_a4d616e3c7\" x=\"17.06219\" y=\"250.737941\" style=\"fill: #f7fbff\"/>\n    </g>\n    <g clip-path=\"url(#p2ec8309aaa)\">\n     <use xlink:href=\"#C1_0_a4d616e3c7\" x=\"17.06219\" y=\"238.856949\" style=\"fill: #f7fbff\"/>\n    </g>\n    <g clip-path=\"url(#p2ec8309aaa)\">\n     <use xlink:href=\"#C1_0_a4d616e3c7\" x=\"17.06219\" y=\"226.975957\" style=\"fill: #f7fbff\"/>\n    </g>\n    <g clip-path=\"url(#p2ec8309aaa)\">\n     <use xlink:href=\"#C1_0_a4d616e3c7\" x=\"17.06219\" y=\"215.094966\" style=\"fill: #f7fbff\"/>\n    </g>\n    <g clip-path=\"url(#p2ec8309aaa)\">\n     <use xlink:href=\"#C1_0_a4d616e3c7\" x=\"23.913099\" y=\"333.904883\" style=\"fill: #f7fbff\"/>\n    </g>\n    <g clip-path=\"url(#p2ec8309aaa)\">\n     <use xlink:href=\"#C1_0_a4d616e3c7\" x=\"23.913099\" y=\"322.023891\" style=\"fill: #f7fbff\"/>\n    </g>\n    <g clip-path=\"url(#p2ec8309aaa)\">\n     <use xlink:href=\"#C1_0_a4d616e3c7\" x=\"23.913099\" y=\"310.142899\" style=\"fill: #d0e1f2\"/>\n    </g>\n    <g clip-path=\"url(#p2ec8309aaa)\">\n     <use xlink:href=\"#C1_0_a4d616e3c7\" x=\"23.913099\" y=\"298.261908\" style=\"fill: #f5f9fe\"/>\n    </g>\n    <g clip-path=\"url(#p2ec8309aaa)\">\n     <use xlink:href=\"#C1_0_a4d616e3c7\" x=\"23.913099\" y=\"286.380916\" style=\"fill: #f2f8fd\"/>\n    </g>\n    <g clip-path=\"url(#p2ec8309aaa)\">\n     <use xlink:href=\"#C1_0_a4d616e3c7\" x=\"23.913099\" y=\"274.499924\" style=\"fill: #f7fbff\"/>\n    </g>\n    <g clip-path=\"url(#p2ec8309aaa)\">\n     <use xlink:href=\"#C1_0_a4d616e3c7\" x=\"23.913099\" y=\"262.618933\" style=\"fill: #f7fbff\"/>\n    </g>\n    <g clip-path=\"url(#p2ec8309aaa)\">\n     <use xlink:href=\"#C1_0_a4d616e3c7\" x=\"23.913099\" y=\"250.737941\" style=\"fill: #f7fbff\"/>\n    </g>\n    <g clip-path=\"url(#p2ec8309aaa)\">\n     <use xlink:href=\"#C1_0_a4d616e3c7\" x=\"23.913099\" y=\"238.856949\" style=\"fill: #f7fbff\"/>\n    </g>\n    <g clip-path=\"url(#p2ec8309aaa)\">\n     <use xlink:href=\"#C1_0_a4d616e3c7\" x=\"23.913099\" y=\"226.975957\" style=\"fill: #f7fbff\"/>\n    </g>\n    <g clip-path=\"url(#p2ec8309aaa)\">\n     <use xlink:href=\"#C1_0_a4d616e3c7\" x=\"23.913099\" y=\"215.094966\" style=\"fill: #f7fbff\"/>\n    </g>\n    <g clip-path=\"url(#p2ec8309aaa)\">\n     <use xlink:href=\"#C1_0_a4d616e3c7\" x=\"30.764008\" y=\"333.904883\" style=\"fill: #f7fbff\"/>\n    </g>\n    <g clip-path=\"url(#p2ec8309aaa)\">\n     <use xlink:href=\"#C1_0_a4d616e3c7\" x=\"30.764008\" y=\"322.023891\" style=\"fill: #f7fbff\"/>\n    </g>\n    <g clip-path=\"url(#p2ec8309aaa)\">\n     <use xlink:href=\"#C1_0_a4d616e3c7\" x=\"30.764008\" y=\"310.142899\" style=\"fill: #f7fbff\"/>\n    </g>\n    <g clip-path=\"url(#p2ec8309aaa)\">\n     <use xlink:href=\"#C1_0_a4d616e3c7\" x=\"30.764008\" y=\"298.261908\" style=\"fill: #f7fbff\"/>\n    </g>\n    <g clip-path=\"url(#p2ec8309aaa)\">\n     <use xlink:href=\"#C1_0_a4d616e3c7\" x=\"30.764008\" y=\"286.380916\" style=\"fill: #f7fbff\"/>\n    </g>\n    <g clip-path=\"url(#p2ec8309aaa)\">\n     <use xlink:href=\"#C1_0_a4d616e3c7\" x=\"30.764008\" y=\"274.499924\" style=\"fill: #f7fbff\"/>\n    </g>\n    <g clip-path=\"url(#p2ec8309aaa)\">\n     <use xlink:href=\"#C1_0_a4d616e3c7\" x=\"30.764008\" y=\"262.618933\" style=\"fill: #f7fbff\"/>\n    </g>\n    <g clip-path=\"url(#p2ec8309aaa)\">\n     <use xlink:href=\"#C1_0_a4d616e3c7\" x=\"30.764008\" y=\"250.737941\" style=\"fill: #f7fbff\"/>\n    </g>\n    <g clip-path=\"url(#p2ec8309aaa)\">\n     <use xlink:href=\"#C1_0_a4d616e3c7\" x=\"30.764008\" y=\"238.856949\" style=\"fill: #f7fbff\"/>\n    </g>\n    <g clip-path=\"url(#p2ec8309aaa)\">\n     <use xlink:href=\"#C1_0_a4d616e3c7\" x=\"30.764008\" y=\"226.975957\" style=\"fill: #f7fbff\"/>\n    </g>\n    <g clip-path=\"url(#p2ec8309aaa)\">\n     <use xlink:href=\"#C1_0_a4d616e3c7\" x=\"30.764008\" y=\"215.094966\" style=\"fill: #f7fbff\"/>\n    </g>\n    <g clip-path=\"url(#p2ec8309aaa)\">\n     <use xlink:href=\"#C1_0_a4d616e3c7\" x=\"37.614917\" y=\"333.904883\" style=\"fill: #f7fbff\"/>\n    </g>\n    <g clip-path=\"url(#p2ec8309aaa)\">\n     <use xlink:href=\"#C1_0_a4d616e3c7\" x=\"37.614917\" y=\"322.023891\" style=\"fill: #f7fbff\"/>\n    </g>\n    <g clip-path=\"url(#p2ec8309aaa)\">\n     <use xlink:href=\"#C1_0_a4d616e3c7\" x=\"37.614917\" y=\"310.142899\" style=\"fill: #f7fbff\"/>\n    </g>\n    <g clip-path=\"url(#p2ec8309aaa)\">\n     <use xlink:href=\"#C1_0_a4d616e3c7\" x=\"37.614917\" y=\"298.261908\" style=\"fill: #f7fbff\"/>\n    </g>\n    <g clip-path=\"url(#p2ec8309aaa)\">\n     <use xlink:href=\"#C1_0_a4d616e3c7\" x=\"37.614917\" y=\"286.380916\" style=\"fill: #f7fbff\"/>\n    </g>\n    <g clip-path=\"url(#p2ec8309aaa)\">\n     <use xlink:href=\"#C1_0_a4d616e3c7\" x=\"37.614917\" y=\"274.499924\" style=\"fill: #f5f9fe\"/>\n    </g>\n    <g clip-path=\"url(#p2ec8309aaa)\">\n     <use xlink:href=\"#C1_0_a4d616e3c7\" x=\"37.614917\" y=\"262.618933\" style=\"fill: #f7fbff\"/>\n    </g>\n    <g clip-path=\"url(#p2ec8309aaa)\">\n     <use xlink:href=\"#C1_0_a4d616e3c7\" x=\"37.614917\" y=\"250.737941\" style=\"fill: #f7fbff\"/>\n    </g>\n    <g clip-path=\"url(#p2ec8309aaa)\">\n     <use xlink:href=\"#C1_0_a4d616e3c7\" x=\"37.614917\" y=\"238.856949\" style=\"fill: #f7fbff\"/>\n    </g>\n    <g clip-path=\"url(#p2ec8309aaa)\">\n     <use xlink:href=\"#C1_0_a4d616e3c7\" x=\"37.614917\" y=\"226.975957\" style=\"fill: #f7fbff\"/>\n    </g>\n    <g clip-path=\"url(#p2ec8309aaa)\">\n     <use xlink:href=\"#C1_0_a4d616e3c7\" x=\"37.614917\" y=\"215.094966\" style=\"fill: #f7fbff\"/>\n    </g>\n    <g clip-path=\"url(#p2ec8309aaa)\">\n     <use xlink:href=\"#C1_0_a4d616e3c7\" x=\"44.465826\" y=\"333.904883\" style=\"fill: #f7fbff\"/>\n    </g>\n    <g clip-path=\"url(#p2ec8309aaa)\">\n     <use xlink:href=\"#C1_0_a4d616e3c7\" x=\"44.465826\" y=\"322.023891\" style=\"fill: #f7fbff\"/>\n    </g>\n    <g clip-path=\"url(#p2ec8309aaa)\">\n     <use xlink:href=\"#C1_0_a4d616e3c7\" x=\"44.465826\" y=\"310.142899\" style=\"fill: #f7fbff\"/>\n    </g>\n    <g clip-path=\"url(#p2ec8309aaa)\">\n     <use xlink:href=\"#C1_0_a4d616e3c7\" x=\"44.465826\" y=\"298.261908\" style=\"fill: #ebf3fb\"/>\n    </g>\n    <g clip-path=\"url(#p2ec8309aaa)\">\n     <use xlink:href=\"#C1_0_a4d616e3c7\" x=\"44.465826\" y=\"286.380916\" style=\"fill: #eef5fc\"/>\n    </g>\n    <g clip-path=\"url(#p2ec8309aaa)\">\n     <use xlink:href=\"#C1_0_a4d616e3c7\" x=\"44.465826\" y=\"274.499924\" style=\"fill: #e7f0fa\"/>\n    </g>\n    <g clip-path=\"url(#p2ec8309aaa)\">\n     <use xlink:href=\"#C1_0_a4d616e3c7\" x=\"44.465826\" y=\"262.618933\" style=\"fill: #f5f9fe\"/>\n    </g>\n    <g clip-path=\"url(#p2ec8309aaa)\">\n     <use xlink:href=\"#C1_0_a4d616e3c7\" x=\"44.465826\" y=\"250.737941\" style=\"fill: #f7fbff\"/>\n    </g>\n    <g clip-path=\"url(#p2ec8309aaa)\">\n     <use xlink:href=\"#C1_0_a4d616e3c7\" x=\"44.465826\" y=\"238.856949\" style=\"fill: #f7fbff\"/>\n    </g>\n    <g clip-path=\"url(#p2ec8309aaa)\">\n     <use xlink:href=\"#C1_0_a4d616e3c7\" x=\"44.465826\" y=\"226.975957\" style=\"fill: #f7fbff\"/>\n    </g>\n    <g clip-path=\"url(#p2ec8309aaa)\">\n     <use xlink:href=\"#C1_0_a4d616e3c7\" x=\"44.465826\" y=\"215.094966\" style=\"fill: #f7fbff\"/>\n    </g>\n    <g clip-path=\"url(#p2ec8309aaa)\">\n     <use xlink:href=\"#C1_0_a4d616e3c7\" x=\"51.316735\" y=\"333.904883\" style=\"fill: #f7fbff\"/>\n    </g>\n    <g clip-path=\"url(#p2ec8309aaa)\">\n     <use xlink:href=\"#C1_0_a4d616e3c7\" x=\"51.316735\" y=\"322.023891\" style=\"fill: #f7fbff\"/>\n    </g>\n    <g clip-path=\"url(#p2ec8309aaa)\">\n     <use xlink:href=\"#C1_0_a4d616e3c7\" x=\"51.316735\" y=\"310.142899\" style=\"fill: #f7fbff\"/>\n    </g>\n    <g clip-path=\"url(#p2ec8309aaa)\">\n     <use xlink:href=\"#C1_0_a4d616e3c7\" x=\"51.316735\" y=\"298.261908\" style=\"fill: #ddeaf7\"/>\n    </g>\n    <g clip-path=\"url(#p2ec8309aaa)\">\n     <use xlink:href=\"#C1_0_a4d616e3c7\" x=\"51.316735\" y=\"286.380916\" style=\"fill: #a1cbe2\"/>\n    </g>\n    <g clip-path=\"url(#p2ec8309aaa)\">\n     <use xlink:href=\"#C1_0_a4d616e3c7\" x=\"51.316735\" y=\"274.499924\" style=\"fill: #ddeaf7\"/>\n    </g>\n    <g clip-path=\"url(#p2ec8309aaa)\">\n     <use xlink:href=\"#C1_0_a4d616e3c7\" x=\"51.316735\" y=\"262.618933\" style=\"fill: #a1cbe2\"/>\n    </g>\n    <g clip-path=\"url(#p2ec8309aaa)\">\n     <use xlink:href=\"#C1_0_a4d616e3c7\" x=\"51.316735\" y=\"250.737941\" style=\"fill: #9dcae1\"/>\n    </g>\n    <g clip-path=\"url(#p2ec8309aaa)\">\n     <use xlink:href=\"#C1_0_a4d616e3c7\" x=\"51.316735\" y=\"238.856949\" style=\"fill: #f7fbff\"/>\n    </g>\n    <g clip-path=\"url(#p2ec8309aaa)\">\n     <use xlink:href=\"#C1_0_a4d616e3c7\" x=\"51.316735\" y=\"226.975957\" style=\"fill: #f7fbff\"/>\n    </g>\n    <g clip-path=\"url(#p2ec8309aaa)\">\n     <use xlink:href=\"#C1_0_a4d616e3c7\" x=\"51.316735\" y=\"215.094966\" style=\"fill: #f7fbff\"/>\n    </g>\n    <g clip-path=\"url(#p2ec8309aaa)\">\n     <use xlink:href=\"#C1_0_a4d616e3c7\" x=\"58.167644\" y=\"333.904883\" style=\"fill: #f7fbff\"/>\n    </g>\n    <g clip-path=\"url(#p2ec8309aaa)\">\n     <use xlink:href=\"#C1_0_a4d616e3c7\" x=\"58.167644\" y=\"322.023891\" style=\"fill: #f7fbff\"/>\n    </g>\n    <g clip-path=\"url(#p2ec8309aaa)\">\n     <use xlink:href=\"#C1_0_a4d616e3c7\" x=\"58.167644\" y=\"310.142899\" style=\"fill: #e9f2fa\"/>\n    </g>\n    <g clip-path=\"url(#p2ec8309aaa)\">\n     <use xlink:href=\"#C1_0_a4d616e3c7\" x=\"58.167644\" y=\"298.261908\" style=\"fill: #8abfdd\"/>\n    </g>\n    <g clip-path=\"url(#p2ec8309aaa)\">\n     <use xlink:href=\"#C1_0_a4d616e3c7\" x=\"58.167644\" y=\"286.380916\" style=\"fill: #7cb7da\"/>\n    </g>\n    <g clip-path=\"url(#p2ec8309aaa)\">\n     <use xlink:href=\"#C1_0_a4d616e3c7\" x=\"58.167644\" y=\"274.499924\" style=\"fill: #b8d5ea\"/>\n    </g>\n    <g clip-path=\"url(#p2ec8309aaa)\">\n     <use xlink:href=\"#C1_0_a4d616e3c7\" x=\"58.167644\" y=\"262.618933\" style=\"fill: #bcd7eb\"/>\n    </g>\n    <g clip-path=\"url(#p2ec8309aaa)\">\n     <use xlink:href=\"#C1_0_a4d616e3c7\" x=\"58.167644\" y=\"250.737941\" style=\"fill: #f0f6fd\"/>\n    </g>\n    <g clip-path=\"url(#p2ec8309aaa)\">\n     <use xlink:href=\"#C1_0_a4d616e3c7\" x=\"58.167644\" y=\"238.856949\" style=\"fill: #f7fbff\"/>\n    </g>\n    <g clip-path=\"url(#p2ec8309aaa)\">\n     <use xlink:href=\"#C1_0_a4d616e3c7\" x=\"58.167644\" y=\"226.975957\" style=\"fill: #f7fbff\"/>\n    </g>\n    <g clip-path=\"url(#p2ec8309aaa)\">\n     <use xlink:href=\"#C1_0_a4d616e3c7\" x=\"58.167644\" y=\"215.094966\" style=\"fill: #f7fbff\"/>\n    </g>\n    <g clip-path=\"url(#p2ec8309aaa)\">\n     <use xlink:href=\"#C1_0_a4d616e3c7\" x=\"65.018553\" y=\"333.904883\" style=\"fill: #f7fbff\"/>\n    </g>\n    <g clip-path=\"url(#p2ec8309aaa)\">\n     <use xlink:href=\"#C1_0_a4d616e3c7\" x=\"65.018553\" y=\"322.023891\" style=\"fill: #f7fbff\"/>\n    </g>\n    <g clip-path=\"url(#p2ec8309aaa)\">\n     <use xlink:href=\"#C1_0_a4d616e3c7\" x=\"65.018553\" y=\"310.142899\" style=\"fill: #d2e3f3\"/>\n    </g>\n    <g clip-path=\"url(#p2ec8309aaa)\">\n     <use xlink:href=\"#C1_0_a4d616e3c7\" x=\"65.018553\" y=\"298.261908\" style=\"fill: #99c7e0\"/>\n    </g>\n    <g clip-path=\"url(#p2ec8309aaa)\">\n     <use xlink:href=\"#C1_0_a4d616e3c7\" x=\"65.018553\" y=\"286.380916\" style=\"fill: #6dafd7\"/>\n    </g>\n    <g clip-path=\"url(#p2ec8309aaa)\">\n     <use xlink:href=\"#C1_0_a4d616e3c7\" x=\"65.018553\" y=\"274.499924\" style=\"fill: #add0e6\"/>\n    </g>\n    <g clip-path=\"url(#p2ec8309aaa)\">\n     <use xlink:href=\"#C1_0_a4d616e3c7\" x=\"65.018553\" y=\"262.618933\" style=\"fill: #e9f2fa\"/>\n    </g>\n    <g clip-path=\"url(#p2ec8309aaa)\">\n     <use xlink:href=\"#C1_0_a4d616e3c7\" x=\"65.018553\" y=\"250.737941\" style=\"fill: #f7fbff\"/>\n    </g>\n    <g clip-path=\"url(#p2ec8309aaa)\">\n     <use xlink:href=\"#C1_0_a4d616e3c7\" x=\"65.018553\" y=\"238.856949\" style=\"fill: #f7fbff\"/>\n    </g>\n    <g clip-path=\"url(#p2ec8309aaa)\">\n     <use xlink:href=\"#C1_0_a4d616e3c7\" x=\"65.018553\" y=\"226.975957\" style=\"fill: #f7fbff\"/>\n    </g>\n    <g clip-path=\"url(#p2ec8309aaa)\">\n     <use xlink:href=\"#C1_0_a4d616e3c7\" x=\"65.018553\" y=\"215.094966\" style=\"fill: #f7fbff\"/>\n    </g>\n    <g clip-path=\"url(#p2ec8309aaa)\">\n     <use xlink:href=\"#C1_0_a4d616e3c7\" x=\"71.869462\" y=\"333.904883\" style=\"fill: #f7fbff\"/>\n    </g>\n    <g clip-path=\"url(#p2ec8309aaa)\">\n     <use xlink:href=\"#C1_0_a4d616e3c7\" x=\"71.869462\" y=\"322.023891\" style=\"fill: #f7fbff\"/>\n    </g>\n    <g clip-path=\"url(#p2ec8309aaa)\">\n     <use xlink:href=\"#C1_0_a4d616e3c7\" x=\"71.869462\" y=\"310.142899\" style=\"fill: #1e6db2\"/>\n    </g>\n    <g clip-path=\"url(#p2ec8309aaa)\">\n     <use xlink:href=\"#C1_0_a4d616e3c7\" x=\"71.869462\" y=\"298.261908\" style=\"fill: #6dafd7\"/>\n    </g>\n    <g clip-path=\"url(#p2ec8309aaa)\">\n     <use xlink:href=\"#C1_0_a4d616e3c7\" x=\"71.869462\" y=\"286.380916\" style=\"fill: #85bcdc\"/>\n    </g>\n    <g clip-path=\"url(#p2ec8309aaa)\">\n     <use xlink:href=\"#C1_0_a4d616e3c7\" x=\"71.869462\" y=\"274.499924\" style=\"fill: #d2e3f3\"/>\n    </g>\n    <g clip-path=\"url(#p2ec8309aaa)\">\n     <use xlink:href=\"#C1_0_a4d616e3c7\" x=\"71.869462\" y=\"262.618933\" style=\"fill: #d9e7f5\"/>\n    </g>\n    <g clip-path=\"url(#p2ec8309aaa)\">\n     <use xlink:href=\"#C1_0_a4d616e3c7\" x=\"71.869462\" y=\"250.737941\" style=\"fill: #f7fbff\"/>\n    </g>\n    <g clip-path=\"url(#p2ec8309aaa)\">\n     <use xlink:href=\"#C1_0_a4d616e3c7\" x=\"71.869462\" y=\"238.856949\" style=\"fill: #f7fbff\"/>\n    </g>\n    <g clip-path=\"url(#p2ec8309aaa)\">\n     <use xlink:href=\"#C1_0_a4d616e3c7\" x=\"71.869462\" y=\"226.975957\" style=\"fill: #f7fbff\"/>\n    </g>\n    <g clip-path=\"url(#p2ec8309aaa)\">\n     <use xlink:href=\"#C1_0_a4d616e3c7\" x=\"71.869462\" y=\"215.094966\" style=\"fill: #f7fbff\"/>\n    </g>\n    <g clip-path=\"url(#p2ec8309aaa)\">\n     <use xlink:href=\"#C1_0_a4d616e3c7\" x=\"78.720372\" y=\"333.904883\" style=\"fill: #f7fbff\"/>\n    </g>\n    <g clip-path=\"url(#p2ec8309aaa)\">\n     <use xlink:href=\"#C1_0_a4d616e3c7\" x=\"78.720372\" y=\"322.023891\" style=\"fill: #f7fbff\"/>\n    </g>\n    <g clip-path=\"url(#p2ec8309aaa)\">\n     <use xlink:href=\"#C1_0_a4d616e3c7\" x=\"78.720372\" y=\"310.142899\" style=\"fill: #c3daee\"/>\n    </g>\n    <g clip-path=\"url(#p2ec8309aaa)\">\n     <use xlink:href=\"#C1_0_a4d616e3c7\" x=\"78.720372\" y=\"298.261908\" style=\"fill: #b8d5ea\"/>\n    </g>\n    <g clip-path=\"url(#p2ec8309aaa)\">\n     <use xlink:href=\"#C1_0_a4d616e3c7\" x=\"78.720372\" y=\"286.380916\" style=\"fill: #cbdef1\"/>\n    </g>\n    <g clip-path=\"url(#p2ec8309aaa)\">\n     <use xlink:href=\"#C1_0_a4d616e3c7\" x=\"78.720372\" y=\"274.499924\" style=\"fill: #ddeaf7\"/>\n    </g>\n    <g clip-path=\"url(#p2ec8309aaa)\">\n     <use xlink:href=\"#C1_0_a4d616e3c7\" x=\"78.720372\" y=\"262.618933\" style=\"fill: #f7fbff\"/>\n    </g>\n    <g clip-path=\"url(#p2ec8309aaa)\">\n     <use xlink:href=\"#C1_0_a4d616e3c7\" x=\"78.720372\" y=\"250.737941\" style=\"fill: #f7fbff\"/>\n    </g>\n    <g clip-path=\"url(#p2ec8309aaa)\">\n     <use xlink:href=\"#C1_0_a4d616e3c7\" x=\"78.720372\" y=\"238.856949\" style=\"fill: #f7fbff\"/>\n    </g>\n    <g clip-path=\"url(#p2ec8309aaa)\">\n     <use xlink:href=\"#C1_0_a4d616e3c7\" x=\"78.720372\" y=\"226.975957\" style=\"fill: #f7fbff\"/>\n    </g>\n    <g clip-path=\"url(#p2ec8309aaa)\">\n     <use xlink:href=\"#C1_0_a4d616e3c7\" x=\"78.720372\" y=\"215.094966\" style=\"fill: #f7fbff\"/>\n    </g>\n   </g>\n   <g id=\"matplotlib.axis_3\"/>\n   <g id=\"matplotlib.axis_4\"/>\n   <g id=\"patch_8\">\n    <path d=\"M 170.88 167.90175 \nL 170.88 24.14175 \n\" style=\"fill: none; stroke: #000000; stroke-width: 0.8; stroke-linejoin: miter; stroke-linecap: square\"/>\n   </g>\n   <g id=\"patch_9\">\n    <path d=\"M 321.6 167.90175 \nL 321.6 24.14175 \n\" style=\"fill: none; stroke: #000000; stroke-width: 0.8; stroke-linejoin: miter; stroke-linecap: square\"/>\n   </g>\n   <g id=\"patch_10\">\n    <path d=\"M 170.88 167.90175 \nL 321.6 167.90175 \n\" style=\"fill: none; stroke: #000000; stroke-width: 0.8; stroke-linejoin: miter; stroke-linecap: square\"/>\n   </g>\n   <g id=\"patch_11\">\n    <path d=\"M 170.88 24.14175 \nL 321.6 24.14175 \n\" style=\"fill: none; stroke: #000000; stroke-width: 0.8; stroke-linejoin: miter; stroke-linecap: square\"/>\n   </g>\n   <g id=\"text_2\">\n    <!-- joy -->\n    <g transform=\"translate(235.57275 18.14175) scale(0.144 -0.144)\">\n     <defs>\n      <path id=\"DejaVuSans-6a\" d=\"M 603 3500 \nL 1178 3500 \nL 1178 -63 \nQ 1178 -731 923 -1031 \nQ 669 -1331 103 -1331 \nL -116 -1331 \nL -116 -844 \nL 38 -844 \nQ 366 -844 484 -692 \nQ 603 -541 603 -63 \nL 603 3500 \nz\nM 603 4863 \nL 1178 4863 \nL 1178 4134 \nL 603 4134 \nL 603 4863 \nz\n\" transform=\"scale(0.015625)\"/>\n      <path id=\"DejaVuSans-6f\" d=\"M 1959 3097 \nQ 1497 3097 1228 2736 \nQ 959 2375 959 1747 \nQ 959 1119 1226 758 \nQ 1494 397 1959 397 \nQ 2419 397 2687 759 \nQ 2956 1122 2956 1747 \nQ 2956 2369 2687 2733 \nQ 2419 3097 1959 3097 \nz\nM 1959 3584 \nQ 2709 3584 3137 3096 \nQ 3566 2609 3566 1747 \nQ 3566 888 3137 398 \nQ 2709 -91 1959 -91 \nQ 1206 -91 779 398 \nQ 353 888 353 1747 \nQ 353 2609 779 3096 \nQ 1206 3584 1959 3584 \nz\n\" transform=\"scale(0.015625)\"/>\n      <path id=\"DejaVuSans-79\" d=\"M 2059 -325 \nQ 1816 -950 1584 -1140 \nQ 1353 -1331 966 -1331 \nL 506 -1331 \nL 506 -850 \nL 844 -850 \nQ 1081 -850 1212 -737 \nQ 1344 -625 1503 -206 \nL 1606 56 \nL 191 3500 \nL 800 3500 \nL 1894 763 \nL 2988 3500 \nL 3597 3500 \nL 2059 -325 \nz\n\" transform=\"scale(0.015625)\"/>\n     </defs>\n     <use xlink:href=\"#DejaVuSans-6a\"/>\n     <use xlink:href=\"#DejaVuSans-6f\" x=\"27.783203\"/>\n     <use xlink:href=\"#DejaVuSans-79\" x=\"88.964844\"/>\n    </g>\n   </g>\n  </g>\n  <g id=\"axes_3\">\n   <g id=\"patch_12\">\n    <path d=\"M 334.56 167.90175 \nL 485.28 167.90175 \nL 485.28 24.14175 \nL 334.56 24.14175 \nz\n\" style=\"fill: #ffffff\"/>\n   </g>\n   <g id=\"PolyCollection_3\">\n    <defs>\n     <path id=\"C2_0_7cfb8620bf\" d=\"M 399.369231 -177.319782 \nL 399.369231 -181.280112 \nL 395.943777 -183.260278 \nL 392.518322 -181.280112 \nL 392.518322 -177.319782 \nL 395.943777 -175.339616 \nz\n\"/>\n    </defs>\n    <g clip-path=\"url(#pd7ab39bf1b)\">\n     <use xlink:href=\"#C2_0_7cfb8620bf\" x=\"-54.532867\" y=\"340.667152\" style=\"fill: #fff5eb\"/>\n    </g>\n    <g clip-path=\"url(#pd7ab39bf1b)\">\n     <use xlink:href=\"#C2_0_7cfb8620bf\" x=\"-54.532867\" y=\"328.78616\" style=\"fill: #fff5eb\"/>\n    </g>\n    <g clip-path=\"url(#pd7ab39bf1b)\">\n     <use xlink:href=\"#C2_0_7cfb8620bf\" x=\"-54.532867\" y=\"316.905168\" style=\"fill: #fff5eb\"/>\n    </g>\n    <g clip-path=\"url(#pd7ab39bf1b)\">\n     <use xlink:href=\"#C2_0_7cfb8620bf\" x=\"-54.532867\" y=\"305.024176\" style=\"fill: #fff5eb\"/>\n    </g>\n    <g clip-path=\"url(#pd7ab39bf1b)\">\n     <use xlink:href=\"#C2_0_7cfb8620bf\" x=\"-54.532867\" y=\"293.143185\" style=\"fill: #ffefe0\"/>\n    </g>\n    <g clip-path=\"url(#pd7ab39bf1b)\">\n     <use xlink:href=\"#C2_0_7cfb8620bf\" x=\"-54.532867\" y=\"281.262193\" style=\"fill: #fff5eb\"/>\n    </g>\n    <g clip-path=\"url(#pd7ab39bf1b)\">\n     <use xlink:href=\"#C2_0_7cfb8620bf\" x=\"-54.532867\" y=\"269.381201\" style=\"fill: #fdd0a2\"/>\n    </g>\n    <g clip-path=\"url(#pd7ab39bf1b)\">\n     <use xlink:href=\"#C2_0_7cfb8620bf\" x=\"-54.532867\" y=\"257.500209\" style=\"fill: #fff5eb\"/>\n    </g>\n    <g clip-path=\"url(#pd7ab39bf1b)\">\n     <use xlink:href=\"#C2_0_7cfb8620bf\" x=\"-54.532867\" y=\"245.619218\" style=\"fill: #fff5eb\"/>\n    </g>\n    <g clip-path=\"url(#pd7ab39bf1b)\">\n     <use xlink:href=\"#C2_0_7cfb8620bf\" x=\"-54.532867\" y=\"233.738226\" style=\"fill: #fff5eb\"/>\n    </g>\n    <g clip-path=\"url(#pd7ab39bf1b)\">\n     <use xlink:href=\"#C2_0_7cfb8620bf\" x=\"-54.532867\" y=\"221.857234\" style=\"fill: #fff5eb\"/>\n    </g>\n    <g clip-path=\"url(#pd7ab39bf1b)\">\n     <use xlink:href=\"#C2_0_7cfb8620bf\" x=\"-54.532867\" y=\"209.976242\" style=\"fill: #fff5eb\"/>\n    </g>\n    <g clip-path=\"url(#pd7ab39bf1b)\">\n     <use xlink:href=\"#C2_0_7cfb8620bf\" x=\"-47.681958\" y=\"340.667152\" style=\"fill: #fff5eb\"/>\n    </g>\n    <g clip-path=\"url(#pd7ab39bf1b)\">\n     <use xlink:href=\"#C2_0_7cfb8620bf\" x=\"-47.681958\" y=\"328.78616\" style=\"fill: #fff5eb\"/>\n    </g>\n    <g clip-path=\"url(#pd7ab39bf1b)\">\n     <use xlink:href=\"#C2_0_7cfb8620bf\" x=\"-47.681958\" y=\"316.905168\" style=\"fill: #fff5eb\"/>\n    </g>\n    <g clip-path=\"url(#pd7ab39bf1b)\">\n     <use xlink:href=\"#C2_0_7cfb8620bf\" x=\"-47.681958\" y=\"305.024176\" style=\"fill: #ffefe0\"/>\n    </g>\n    <g clip-path=\"url(#pd7ab39bf1b)\">\n     <use xlink:href=\"#C2_0_7cfb8620bf\" x=\"-47.681958\" y=\"293.143185\" style=\"fill: #fdc38d\"/>\n    </g>\n    <g clip-path=\"url(#pd7ab39bf1b)\">\n     <use xlink:href=\"#C2_0_7cfb8620bf\" x=\"-47.681958\" y=\"281.262193\" style=\"fill: #fdd9b4\"/>\n    </g>\n    <g clip-path=\"url(#pd7ab39bf1b)\">\n     <use xlink:href=\"#C2_0_7cfb8620bf\" x=\"-47.681958\" y=\"269.381201\" style=\"fill: #fd9a4e\"/>\n    </g>\n    <g clip-path=\"url(#pd7ab39bf1b)\">\n     <use xlink:href=\"#C2_0_7cfb8620bf\" x=\"-47.681958\" y=\"257.500209\" style=\"fill: #fee9d4\"/>\n    </g>\n    <g clip-path=\"url(#pd7ab39bf1b)\">\n     <use xlink:href=\"#C2_0_7cfb8620bf\" x=\"-47.681958\" y=\"245.619218\" style=\"fill: #fff5eb\"/>\n    </g>\n    <g clip-path=\"url(#pd7ab39bf1b)\">\n     <use xlink:href=\"#C2_0_7cfb8620bf\" x=\"-47.681958\" y=\"233.738226\" style=\"fill: #fff5eb\"/>\n    </g>\n    <g clip-path=\"url(#pd7ab39bf1b)\">\n     <use xlink:href=\"#C2_0_7cfb8620bf\" x=\"-47.681958\" y=\"221.857234\" style=\"fill: #fff5eb\"/>\n    </g>\n    <g clip-path=\"url(#pd7ab39bf1b)\">\n     <use xlink:href=\"#C2_0_7cfb8620bf\" x=\"-47.681958\" y=\"209.976242\" style=\"fill: #fff5eb\"/>\n    </g>\n    <g clip-path=\"url(#pd7ab39bf1b)\">\n     <use xlink:href=\"#C2_0_7cfb8620bf\" x=\"-40.831049\" y=\"340.667152\" style=\"fill: #fff5eb\"/>\n    </g>\n    <g clip-path=\"url(#pd7ab39bf1b)\">\n     <use xlink:href=\"#C2_0_7cfb8620bf\" x=\"-40.831049\" y=\"328.78616\" style=\"fill: #fff5eb\"/>\n    </g>\n    <g clip-path=\"url(#pd7ab39bf1b)\">\n     <use xlink:href=\"#C2_0_7cfb8620bf\" x=\"-40.831049\" y=\"316.905168\" style=\"fill: #fee9d4\"/>\n    </g>\n    <g clip-path=\"url(#pd7ab39bf1b)\">\n     <use xlink:href=\"#C2_0_7cfb8620bf\" x=\"-40.831049\" y=\"305.024176\" style=\"fill: #9e3303\"/>\n    </g>\n    <g clip-path=\"url(#pd7ab39bf1b)\">\n     <use xlink:href=\"#C2_0_7cfb8620bf\" x=\"-40.831049\" y=\"293.143185\" style=\"fill: #fdd0a2\"/>\n    </g>\n    <g clip-path=\"url(#pd7ab39bf1b)\">\n     <use xlink:href=\"#C2_0_7cfb8620bf\" x=\"-40.831049\" y=\"281.262193\" style=\"fill: #ec620f\"/>\n    </g>\n    <g clip-path=\"url(#pd7ab39bf1b)\">\n     <use xlink:href=\"#C2_0_7cfb8620bf\" x=\"-40.831049\" y=\"269.381201\" style=\"fill: #fdd0a2\"/>\n    </g>\n    <g clip-path=\"url(#pd7ab39bf1b)\">\n     <use xlink:href=\"#C2_0_7cfb8620bf\" x=\"-40.831049\" y=\"257.500209\" style=\"fill: #fdd0a2\"/>\n    </g>\n    <g clip-path=\"url(#pd7ab39bf1b)\">\n     <use xlink:href=\"#C2_0_7cfb8620bf\" x=\"-40.831049\" y=\"245.619218\" style=\"fill: #fff5eb\"/>\n    </g>\n    <g clip-path=\"url(#pd7ab39bf1b)\">\n     <use xlink:href=\"#C2_0_7cfb8620bf\" x=\"-40.831049\" y=\"233.738226\" style=\"fill: #fff5eb\"/>\n    </g>\n    <g clip-path=\"url(#pd7ab39bf1b)\">\n     <use xlink:href=\"#C2_0_7cfb8620bf\" x=\"-40.831049\" y=\"221.857234\" style=\"fill: #fff5eb\"/>\n    </g>\n    <g clip-path=\"url(#pd7ab39bf1b)\">\n     <use xlink:href=\"#C2_0_7cfb8620bf\" x=\"-40.831049\" y=\"209.976242\" style=\"fill: #fff5eb\"/>\n    </g>\n    <g clip-path=\"url(#pd7ab39bf1b)\">\n     <use xlink:href=\"#C2_0_7cfb8620bf\" x=\"-33.98014\" y=\"340.667152\" style=\"fill: #fff5eb\"/>\n    </g>\n    <g clip-path=\"url(#pd7ab39bf1b)\">\n     <use xlink:href=\"#C2_0_7cfb8620bf\" x=\"-33.98014\" y=\"328.78616\" style=\"fill: #fff5eb\"/>\n    </g>\n    <g clip-path=\"url(#pd7ab39bf1b)\">\n     <use xlink:href=\"#C2_0_7cfb8620bf\" x=\"-33.98014\" y=\"316.905168\" style=\"fill: #fee2c6\"/>\n    </g>\n    <g clip-path=\"url(#pd7ab39bf1b)\">\n     <use xlink:href=\"#C2_0_7cfb8620bf\" x=\"-33.98014\" y=\"305.024176\" style=\"fill: #fd8c3b\"/>\n    </g>\n    <g clip-path=\"url(#pd7ab39bf1b)\">\n     <use xlink:href=\"#C2_0_7cfb8620bf\" x=\"-33.98014\" y=\"293.143185\" style=\"fill: #fdd0a2\"/>\n    </g>\n    <g clip-path=\"url(#pd7ab39bf1b)\">\n     <use xlink:href=\"#C2_0_7cfb8620bf\" x=\"-33.98014\" y=\"281.262193\" style=\"fill: #fdd9b4\"/>\n    </g>\n    <g clip-path=\"url(#pd7ab39bf1b)\">\n     <use xlink:href=\"#C2_0_7cfb8620bf\" x=\"-33.98014\" y=\"269.381201\" style=\"fill: #fee2c6\"/>\n    </g>\n    <g clip-path=\"url(#pd7ab39bf1b)\">\n     <use xlink:href=\"#C2_0_7cfb8620bf\" x=\"-33.98014\" y=\"257.500209\" style=\"fill: #fdd0a2\"/>\n    </g>\n    <g clip-path=\"url(#pd7ab39bf1b)\">\n     <use xlink:href=\"#C2_0_7cfb8620bf\" x=\"-33.98014\" y=\"245.619218\" style=\"fill: #fee9d4\"/>\n    </g>\n    <g clip-path=\"url(#pd7ab39bf1b)\">\n     <use xlink:href=\"#C2_0_7cfb8620bf\" x=\"-33.98014\" y=\"233.738226\" style=\"fill: #fff5eb\"/>\n    </g>\n    <g clip-path=\"url(#pd7ab39bf1b)\">\n     <use xlink:href=\"#C2_0_7cfb8620bf\" x=\"-33.98014\" y=\"221.857234\" style=\"fill: #fff5eb\"/>\n    </g>\n    <g clip-path=\"url(#pd7ab39bf1b)\">\n     <use xlink:href=\"#C2_0_7cfb8620bf\" x=\"-33.98014\" y=\"209.976242\" style=\"fill: #fff5eb\"/>\n    </g>\n    <g clip-path=\"url(#pd7ab39bf1b)\">\n     <use xlink:href=\"#C2_0_7cfb8620bf\" x=\"-27.129231\" y=\"340.667152\" style=\"fill: #fff5eb\"/>\n    </g>\n    <g clip-path=\"url(#pd7ab39bf1b)\">\n     <use xlink:href=\"#C2_0_7cfb8620bf\" x=\"-27.129231\" y=\"328.78616\" style=\"fill: #ffefe0\"/>\n    </g>\n    <g clip-path=\"url(#pd7ab39bf1b)\">\n     <use xlink:href=\"#C2_0_7cfb8620bf\" x=\"-27.129231\" y=\"316.905168\" style=\"fill: #d84801\"/>\n    </g>\n    <g clip-path=\"url(#pd7ab39bf1b)\">\n     <use xlink:href=\"#C2_0_7cfb8620bf\" x=\"-27.129231\" y=\"305.024176\" style=\"fill: #fdd9b4\"/>\n    </g>\n    <g clip-path=\"url(#pd7ab39bf1b)\">\n     <use xlink:href=\"#C2_0_7cfb8620bf\" x=\"-27.129231\" y=\"293.143185\" style=\"fill: #fdc38d\"/>\n    </g>\n    <g clip-path=\"url(#pd7ab39bf1b)\">\n     <use xlink:href=\"#C2_0_7cfb8620bf\" x=\"-27.129231\" y=\"281.262193\" style=\"fill: #fdc38d\"/>\n    </g>\n    <g clip-path=\"url(#pd7ab39bf1b)\">\n     <use xlink:href=\"#C2_0_7cfb8620bf\" x=\"-27.129231\" y=\"269.381201\" style=\"fill: #fd8c3b\"/>\n    </g>\n    <g clip-path=\"url(#pd7ab39bf1b)\">\n     <use xlink:href=\"#C2_0_7cfb8620bf\" x=\"-27.129231\" y=\"257.500209\" style=\"fill: #fdc38d\"/>\n    </g>\n    <g clip-path=\"url(#pd7ab39bf1b)\">\n     <use xlink:href=\"#C2_0_7cfb8620bf\" x=\"-27.129231\" y=\"245.619218\" style=\"fill: #ffefe0\"/>\n    </g>\n    <g clip-path=\"url(#pd7ab39bf1b)\">\n     <use xlink:href=\"#C2_0_7cfb8620bf\" x=\"-27.129231\" y=\"233.738226\" style=\"fill: #fff5eb\"/>\n    </g>\n    <g clip-path=\"url(#pd7ab39bf1b)\">\n     <use xlink:href=\"#C2_0_7cfb8620bf\" x=\"-27.129231\" y=\"221.857234\" style=\"fill: #fff5eb\"/>\n    </g>\n    <g clip-path=\"url(#pd7ab39bf1b)\">\n     <use xlink:href=\"#C2_0_7cfb8620bf\" x=\"-27.129231\" y=\"209.976242\" style=\"fill: #fff5eb\"/>\n    </g>\n    <g clip-path=\"url(#pd7ab39bf1b)\">\n     <use xlink:href=\"#C2_0_7cfb8620bf\" x=\"-20.278322\" y=\"340.667152\" style=\"fill: #fff5eb\"/>\n    </g>\n    <g clip-path=\"url(#pd7ab39bf1b)\">\n     <use xlink:href=\"#C2_0_7cfb8620bf\" x=\"-20.278322\" y=\"328.78616\" style=\"fill: #d84801\"/>\n    </g>\n    <g clip-path=\"url(#pd7ab39bf1b)\">\n     <use xlink:href=\"#C2_0_7cfb8620bf\" x=\"-20.278322\" y=\"316.905168\" style=\"fill: #fdb576\"/>\n    </g>\n    <g clip-path=\"url(#pd7ab39bf1b)\">\n     <use xlink:href=\"#C2_0_7cfb8620bf\" x=\"-20.278322\" y=\"305.024176\" style=\"fill: #fd8c3b\"/>\n    </g>\n    <g clip-path=\"url(#pd7ab39bf1b)\">\n     <use xlink:href=\"#C2_0_7cfb8620bf\" x=\"-20.278322\" y=\"293.143185\" style=\"fill: #fd9a4e\"/>\n    </g>\n    <g clip-path=\"url(#pd7ab39bf1b)\">\n     <use xlink:href=\"#C2_0_7cfb8620bf\" x=\"-20.278322\" y=\"281.262193\" style=\"fill: #fd8c3b\"/>\n    </g>\n    <g clip-path=\"url(#pd7ab39bf1b)\">\n     <use xlink:href=\"#C2_0_7cfb8620bf\" x=\"-20.278322\" y=\"269.381201\" style=\"fill: #fda762\"/>\n    </g>\n    <g clip-path=\"url(#pd7ab39bf1b)\">\n     <use xlink:href=\"#C2_0_7cfb8620bf\" x=\"-20.278322\" y=\"257.500209\" style=\"fill: #fdd0a2\"/>\n    </g>\n    <g clip-path=\"url(#pd7ab39bf1b)\">\n     <use xlink:href=\"#C2_0_7cfb8620bf\" x=\"-20.278322\" y=\"245.619218\" style=\"fill: #fff5eb\"/>\n    </g>\n    <g clip-path=\"url(#pd7ab39bf1b)\">\n     <use xlink:href=\"#C2_0_7cfb8620bf\" x=\"-20.278322\" y=\"233.738226\" style=\"fill: #ffefe0\"/>\n    </g>\n    <g clip-path=\"url(#pd7ab39bf1b)\">\n     <use xlink:href=\"#C2_0_7cfb8620bf\" x=\"-20.278322\" y=\"221.857234\" style=\"fill: #fdc38d\"/>\n    </g>\n    <g clip-path=\"url(#pd7ab39bf1b)\">\n     <use xlink:href=\"#C2_0_7cfb8620bf\" x=\"-20.278322\" y=\"209.976242\" style=\"fill: #fff5eb\"/>\n    </g>\n    <g clip-path=\"url(#pd7ab39bf1b)\">\n     <use xlink:href=\"#C2_0_7cfb8620bf\" x=\"-13.427413\" y=\"340.667152\" style=\"fill: #fff5eb\"/>\n    </g>\n    <g clip-path=\"url(#pd7ab39bf1b)\">\n     <use xlink:href=\"#C2_0_7cfb8620bf\" x=\"-13.427413\" y=\"328.78616\" style=\"fill: #fd9a4e\"/>\n    </g>\n    <g clip-path=\"url(#pd7ab39bf1b)\">\n     <use xlink:href=\"#C2_0_7cfb8620bf\" x=\"-13.427413\" y=\"316.905168\" style=\"fill: #9e3303\"/>\n    </g>\n    <g clip-path=\"url(#pd7ab39bf1b)\">\n     <use xlink:href=\"#C2_0_7cfb8620bf\" x=\"-13.427413\" y=\"305.024176\" style=\"fill: #d84801\"/>\n    </g>\n    <g clip-path=\"url(#pd7ab39bf1b)\">\n     <use xlink:href=\"#C2_0_7cfb8620bf\" x=\"-13.427413\" y=\"293.143185\" style=\"fill: #fda762\"/>\n    </g>\n    <g clip-path=\"url(#pd7ab39bf1b)\">\n     <use xlink:href=\"#C2_0_7cfb8620bf\" x=\"-13.427413\" y=\"281.262193\" style=\"fill: #f87f2c\"/>\n    </g>\n    <g clip-path=\"url(#pd7ab39bf1b)\">\n     <use xlink:href=\"#C2_0_7cfb8620bf\" x=\"-13.427413\" y=\"269.381201\" style=\"fill: #fdd9b4\"/>\n    </g>\n    <g clip-path=\"url(#pd7ab39bf1b)\">\n     <use xlink:href=\"#C2_0_7cfb8620bf\" x=\"-13.427413\" y=\"257.500209\" style=\"fill: #fdd9b4\"/>\n    </g>\n    <g clip-path=\"url(#pd7ab39bf1b)\">\n     <use xlink:href=\"#C2_0_7cfb8620bf\" x=\"-13.427413\" y=\"245.619218\" style=\"fill: #fee9d4\"/>\n    </g>\n    <g clip-path=\"url(#pd7ab39bf1b)\">\n     <use xlink:href=\"#C2_0_7cfb8620bf\" x=\"-13.427413\" y=\"233.738226\" style=\"fill: #fdd0a2\"/>\n    </g>\n    <g clip-path=\"url(#pd7ab39bf1b)\">\n     <use xlink:href=\"#C2_0_7cfb8620bf\" x=\"-13.427413\" y=\"221.857234\" style=\"fill: #fd9a4e\"/>\n    </g>\n    <g clip-path=\"url(#pd7ab39bf1b)\">\n     <use xlink:href=\"#C2_0_7cfb8620bf\" x=\"-13.427413\" y=\"209.976242\" style=\"fill: #fff5eb\"/>\n    </g>\n    <g clip-path=\"url(#pd7ab39bf1b)\">\n     <use xlink:href=\"#C2_0_7cfb8620bf\" x=\"-6.576504\" y=\"340.667152\" style=\"fill: #fff5eb\"/>\n    </g>\n    <g clip-path=\"url(#pd7ab39bf1b)\">\n     <use xlink:href=\"#C2_0_7cfb8620bf\" x=\"-6.576504\" y=\"328.78616\" style=\"fill: #fee9d4\"/>\n    </g>\n    <g clip-path=\"url(#pd7ab39bf1b)\">\n     <use xlink:href=\"#C2_0_7cfb8620bf\" x=\"-6.576504\" y=\"316.905168\" style=\"fill: #fd9a4e\"/>\n    </g>\n    <g clip-path=\"url(#pd7ab39bf1b)\">\n     <use xlink:href=\"#C2_0_7cfb8620bf\" x=\"-6.576504\" y=\"305.024176\" style=\"fill: #f87f2c\"/>\n    </g>\n    <g clip-path=\"url(#pd7ab39bf1b)\">\n     <use xlink:href=\"#C2_0_7cfb8620bf\" x=\"-6.576504\" y=\"293.143185\" style=\"fill: #fd9a4e\"/>\n    </g>\n    <g clip-path=\"url(#pd7ab39bf1b)\">\n     <use xlink:href=\"#C2_0_7cfb8620bf\" x=\"-6.576504\" y=\"281.262193\" style=\"fill: #fdd0a2\"/>\n    </g>\n    <g clip-path=\"url(#pd7ab39bf1b)\">\n     <use xlink:href=\"#C2_0_7cfb8620bf\" x=\"-6.576504\" y=\"269.381201\" style=\"fill: #fee2c6\"/>\n    </g>\n    <g clip-path=\"url(#pd7ab39bf1b)\">\n     <use xlink:href=\"#C2_0_7cfb8620bf\" x=\"-6.576504\" y=\"257.500209\" style=\"fill: #fdd9b4\"/>\n    </g>\n    <g clip-path=\"url(#pd7ab39bf1b)\">\n     <use xlink:href=\"#C2_0_7cfb8620bf\" x=\"-6.576504\" y=\"245.619218\" style=\"fill: #ec620f\"/>\n    </g>\n    <g clip-path=\"url(#pd7ab39bf1b)\">\n     <use xlink:href=\"#C2_0_7cfb8620bf\" x=\"-6.576504\" y=\"233.738226\" style=\"fill: #fee2c6\"/>\n    </g>\n    <g clip-path=\"url(#pd7ab39bf1b)\">\n     <use xlink:href=\"#C2_0_7cfb8620bf\" x=\"-6.576504\" y=\"221.857234\" style=\"fill: #fd8c3b\"/>\n    </g>\n    <g clip-path=\"url(#pd7ab39bf1b)\">\n     <use xlink:href=\"#C2_0_7cfb8620bf\" x=\"-6.576504\" y=\"209.976242\" style=\"fill: #fdc38d\"/>\n    </g>\n    <g clip-path=\"url(#pd7ab39bf1b)\">\n     <use xlink:href=\"#C2_0_7cfb8620bf\" x=\"0.274405\" y=\"340.667152\" style=\"fill: #fdb576\"/>\n    </g>\n    <g clip-path=\"url(#pd7ab39bf1b)\">\n     <use xlink:href=\"#C2_0_7cfb8620bf\" x=\"0.274405\" y=\"328.78616\" style=\"fill: #ffefe0\"/>\n    </g>\n    <g clip-path=\"url(#pd7ab39bf1b)\">\n     <use xlink:href=\"#C2_0_7cfb8620bf\" x=\"0.274405\" y=\"316.905168\" style=\"fill: #fdd9b4\"/>\n    </g>\n    <g clip-path=\"url(#pd7ab39bf1b)\">\n     <use xlink:href=\"#C2_0_7cfb8620bf\" x=\"0.274405\" y=\"305.024176\" style=\"fill: #fdd0a2\"/>\n    </g>\n    <g clip-path=\"url(#pd7ab39bf1b)\">\n     <use xlink:href=\"#C2_0_7cfb8620bf\" x=\"0.274405\" y=\"293.143185\" style=\"fill: #fdd0a2\"/>\n    </g>\n    <g clip-path=\"url(#pd7ab39bf1b)\">\n     <use xlink:href=\"#C2_0_7cfb8620bf\" x=\"0.274405\" y=\"281.262193\" style=\"fill: #fdd0a2\"/>\n    </g>\n    <g clip-path=\"url(#pd7ab39bf1b)\">\n     <use xlink:href=\"#C2_0_7cfb8620bf\" x=\"0.274405\" y=\"269.381201\" style=\"fill: #fee9d4\"/>\n    </g>\n    <g clip-path=\"url(#pd7ab39bf1b)\">\n     <use xlink:href=\"#C2_0_7cfb8620bf\" x=\"0.274405\" y=\"257.500209\" style=\"fill: #fee9d4\"/>\n    </g>\n    <g clip-path=\"url(#pd7ab39bf1b)\">\n     <use xlink:href=\"#C2_0_7cfb8620bf\" x=\"0.274405\" y=\"245.619218\" style=\"fill: #fdc38d\"/>\n    </g>\n    <g clip-path=\"url(#pd7ab39bf1b)\">\n     <use xlink:href=\"#C2_0_7cfb8620bf\" x=\"0.274405\" y=\"233.738226\" style=\"fill: #fdd9b4\"/>\n    </g>\n    <g clip-path=\"url(#pd7ab39bf1b)\">\n     <use xlink:href=\"#C2_0_7cfb8620bf\" x=\"0.274405\" y=\"221.857234\" style=\"fill: #fee2c6\"/>\n    </g>\n    <g clip-path=\"url(#pd7ab39bf1b)\">\n     <use xlink:href=\"#C2_0_7cfb8620bf\" x=\"0.274405\" y=\"209.976242\" style=\"fill: #fff5eb\"/>\n    </g>\n    <g clip-path=\"url(#pd7ab39bf1b)\">\n     <use xlink:href=\"#C2_0_7cfb8620bf\" x=\"7.125314\" y=\"340.667152\" style=\"fill: #f3701b\"/>\n    </g>\n    <g clip-path=\"url(#pd7ab39bf1b)\">\n     <use xlink:href=\"#C2_0_7cfb8620bf\" x=\"7.125314\" y=\"328.78616\" style=\"fill: #f87f2c\"/>\n    </g>\n    <g clip-path=\"url(#pd7ab39bf1b)\">\n     <use xlink:href=\"#C2_0_7cfb8620bf\" x=\"7.125314\" y=\"316.905168\" style=\"fill: #fdd0a2\"/>\n    </g>\n    <g clip-path=\"url(#pd7ab39bf1b)\">\n     <use xlink:href=\"#C2_0_7cfb8620bf\" x=\"7.125314\" y=\"305.024176\" style=\"fill: #fee2c6\"/>\n    </g>\n    <g clip-path=\"url(#pd7ab39bf1b)\">\n     <use xlink:href=\"#C2_0_7cfb8620bf\" x=\"7.125314\" y=\"293.143185\" style=\"fill: #f87f2c\"/>\n    </g>\n    <g clip-path=\"url(#pd7ab39bf1b)\">\n     <use xlink:href=\"#C2_0_7cfb8620bf\" x=\"7.125314\" y=\"281.262193\" style=\"fill: #fdd9b4\"/>\n    </g>\n    <g clip-path=\"url(#pd7ab39bf1b)\">\n     <use xlink:href=\"#C2_0_7cfb8620bf\" x=\"7.125314\" y=\"269.381201\" style=\"fill: #fdd0a2\"/>\n    </g>\n    <g clip-path=\"url(#pd7ab39bf1b)\">\n     <use xlink:href=\"#C2_0_7cfb8620bf\" x=\"7.125314\" y=\"257.500209\" style=\"fill: #fee9d4\"/>\n    </g>\n    <g clip-path=\"url(#pd7ab39bf1b)\">\n     <use xlink:href=\"#C2_0_7cfb8620bf\" x=\"7.125314\" y=\"245.619218\" style=\"fill: #fff5eb\"/>\n    </g>\n    <g clip-path=\"url(#pd7ab39bf1b)\">\n     <use xlink:href=\"#C2_0_7cfb8620bf\" x=\"7.125314\" y=\"233.738226\" style=\"fill: #ffefe0\"/>\n    </g>\n    <g clip-path=\"url(#pd7ab39bf1b)\">\n     <use xlink:href=\"#C2_0_7cfb8620bf\" x=\"7.125314\" y=\"221.857234\" style=\"fill: #fff5eb\"/>\n    </g>\n    <g clip-path=\"url(#pd7ab39bf1b)\">\n     <use xlink:href=\"#C2_0_7cfb8620bf\" x=\"7.125314\" y=\"209.976242\" style=\"fill: #fff5eb\"/>\n    </g>\n    <g clip-path=\"url(#pd7ab39bf1b)\">\n     <use xlink:href=\"#C2_0_7cfb8620bf\" x=\"13.976223\" y=\"340.667152\" style=\"fill: #fff5eb\"/>\n    </g>\n    <g clip-path=\"url(#pd7ab39bf1b)\">\n     <use xlink:href=\"#C2_0_7cfb8620bf\" x=\"13.976223\" y=\"328.78616\" style=\"fill: #fff5eb\"/>\n    </g>\n    <g clip-path=\"url(#pd7ab39bf1b)\">\n     <use xlink:href=\"#C2_0_7cfb8620bf\" x=\"13.976223\" y=\"316.905168\" style=\"fill: #fee9d4\"/>\n    </g>\n    <g clip-path=\"url(#pd7ab39bf1b)\">\n     <use xlink:href=\"#C2_0_7cfb8620bf\" x=\"13.976223\" y=\"305.024176\" style=\"fill: #fee9d4\"/>\n    </g>\n    <g clip-path=\"url(#pd7ab39bf1b)\">\n     <use xlink:href=\"#C2_0_7cfb8620bf\" x=\"13.976223\" y=\"293.143185\" style=\"fill: #fdd9b4\"/>\n    </g>\n    <g clip-path=\"url(#pd7ab39bf1b)\">\n     <use xlink:href=\"#C2_0_7cfb8620bf\" x=\"13.976223\" y=\"281.262193\" style=\"fill: #ffefe0\"/>\n    </g>\n    <g clip-path=\"url(#pd7ab39bf1b)\">\n     <use xlink:href=\"#C2_0_7cfb8620bf\" x=\"13.976223\" y=\"269.381201\" style=\"fill: #fff5eb\"/>\n    </g>\n    <g clip-path=\"url(#pd7ab39bf1b)\">\n     <use xlink:href=\"#C2_0_7cfb8620bf\" x=\"13.976223\" y=\"257.500209\" style=\"fill: #fff5eb\"/>\n    </g>\n    <g clip-path=\"url(#pd7ab39bf1b)\">\n     <use xlink:href=\"#C2_0_7cfb8620bf\" x=\"13.976223\" y=\"245.619218\" style=\"fill: #fff5eb\"/>\n    </g>\n    <g clip-path=\"url(#pd7ab39bf1b)\">\n     <use xlink:href=\"#C2_0_7cfb8620bf\" x=\"13.976223\" y=\"233.738226\" style=\"fill: #fff5eb\"/>\n    </g>\n    <g clip-path=\"url(#pd7ab39bf1b)\">\n     <use xlink:href=\"#C2_0_7cfb8620bf\" x=\"13.976223\" y=\"221.857234\" style=\"fill: #fff5eb\"/>\n    </g>\n    <g clip-path=\"url(#pd7ab39bf1b)\">\n     <use xlink:href=\"#C2_0_7cfb8620bf\" x=\"13.976223\" y=\"209.976242\" style=\"fill: #fff5eb\"/>\n    </g>\n    <g clip-path=\"url(#pd7ab39bf1b)\">\n     <use xlink:href=\"#C2_0_7cfb8620bf\" x=\"20.827133\" y=\"340.667152\" style=\"fill: #fff5eb\"/>\n    </g>\n    <g clip-path=\"url(#pd7ab39bf1b)\">\n     <use xlink:href=\"#C2_0_7cfb8620bf\" x=\"20.827133\" y=\"328.78616\" style=\"fill: #fff5eb\"/>\n    </g>\n    <g clip-path=\"url(#pd7ab39bf1b)\">\n     <use xlink:href=\"#C2_0_7cfb8620bf\" x=\"20.827133\" y=\"316.905168\" style=\"fill: #fff5eb\"/>\n    </g>\n    <g clip-path=\"url(#pd7ab39bf1b)\">\n     <use xlink:href=\"#C2_0_7cfb8620bf\" x=\"20.827133\" y=\"305.024176\" style=\"fill: #f87f2c\"/>\n    </g>\n    <g clip-path=\"url(#pd7ab39bf1b)\">\n     <use xlink:href=\"#C2_0_7cfb8620bf\" x=\"20.827133\" y=\"293.143185\" style=\"fill: #fff5eb\"/>\n    </g>\n    <g clip-path=\"url(#pd7ab39bf1b)\">\n     <use xlink:href=\"#C2_0_7cfb8620bf\" x=\"20.827133\" y=\"281.262193\" style=\"fill: #fff5eb\"/>\n    </g>\n    <g clip-path=\"url(#pd7ab39bf1b)\">\n     <use xlink:href=\"#C2_0_7cfb8620bf\" x=\"20.827133\" y=\"269.381201\" style=\"fill: #fff5eb\"/>\n    </g>\n    <g clip-path=\"url(#pd7ab39bf1b)\">\n     <use xlink:href=\"#C2_0_7cfb8620bf\" x=\"20.827133\" y=\"257.500209\" style=\"fill: #fff5eb\"/>\n    </g>\n    <g clip-path=\"url(#pd7ab39bf1b)\">\n     <use xlink:href=\"#C2_0_7cfb8620bf\" x=\"20.827133\" y=\"245.619218\" style=\"fill: #fff5eb\"/>\n    </g>\n    <g clip-path=\"url(#pd7ab39bf1b)\">\n     <use xlink:href=\"#C2_0_7cfb8620bf\" x=\"20.827133\" y=\"233.738226\" style=\"fill: #fff5eb\"/>\n    </g>\n    <g clip-path=\"url(#pd7ab39bf1b)\">\n     <use xlink:href=\"#C2_0_7cfb8620bf\" x=\"20.827133\" y=\"221.857234\" style=\"fill: #fff5eb\"/>\n    </g>\n    <g clip-path=\"url(#pd7ab39bf1b)\">\n     <use xlink:href=\"#C2_0_7cfb8620bf\" x=\"20.827133\" y=\"209.976242\" style=\"fill: #fff5eb\"/>\n    </g>\n    <g clip-path=\"url(#pd7ab39bf1b)\">\n     <use xlink:href=\"#C2_0_7cfb8620bf\" x=\"27.678042\" y=\"340.667152\" style=\"fill: #fff5eb\"/>\n    </g>\n    <g clip-path=\"url(#pd7ab39bf1b)\">\n     <use xlink:href=\"#C2_0_7cfb8620bf\" x=\"27.678042\" y=\"328.78616\" style=\"fill: #fff5eb\"/>\n    </g>\n    <g clip-path=\"url(#pd7ab39bf1b)\">\n     <use xlink:href=\"#C2_0_7cfb8620bf\" x=\"27.678042\" y=\"316.905168\" style=\"fill: #fff5eb\"/>\n    </g>\n    <g clip-path=\"url(#pd7ab39bf1b)\">\n     <use xlink:href=\"#C2_0_7cfb8620bf\" x=\"27.678042\" y=\"305.024176\" style=\"fill: #fff5eb\"/>\n    </g>\n    <g clip-path=\"url(#pd7ab39bf1b)\">\n     <use xlink:href=\"#C2_0_7cfb8620bf\" x=\"27.678042\" y=\"293.143185\" style=\"fill: #fff5eb\"/>\n    </g>\n    <g clip-path=\"url(#pd7ab39bf1b)\">\n     <use xlink:href=\"#C2_0_7cfb8620bf\" x=\"27.678042\" y=\"281.262193\" style=\"fill: #fff5eb\"/>\n    </g>\n    <g clip-path=\"url(#pd7ab39bf1b)\">\n     <use xlink:href=\"#C2_0_7cfb8620bf\" x=\"27.678042\" y=\"269.381201\" style=\"fill: #fff5eb\"/>\n    </g>\n    <g clip-path=\"url(#pd7ab39bf1b)\">\n     <use xlink:href=\"#C2_0_7cfb8620bf\" x=\"27.678042\" y=\"257.500209\" style=\"fill: #fff5eb\"/>\n    </g>\n    <g clip-path=\"url(#pd7ab39bf1b)\">\n     <use xlink:href=\"#C2_0_7cfb8620bf\" x=\"27.678042\" y=\"245.619218\" style=\"fill: #fff5eb\"/>\n    </g>\n    <g clip-path=\"url(#pd7ab39bf1b)\">\n     <use xlink:href=\"#C2_0_7cfb8620bf\" x=\"27.678042\" y=\"233.738226\" style=\"fill: #fff5eb\"/>\n    </g>\n    <g clip-path=\"url(#pd7ab39bf1b)\">\n     <use xlink:href=\"#C2_0_7cfb8620bf\" x=\"27.678042\" y=\"221.857234\" style=\"fill: #fff5eb\"/>\n    </g>\n    <g clip-path=\"url(#pd7ab39bf1b)\">\n     <use xlink:href=\"#C2_0_7cfb8620bf\" x=\"27.678042\" y=\"209.976242\" style=\"fill: #fff5eb\"/>\n    </g>\n    <g clip-path=\"url(#pd7ab39bf1b)\">\n     <use xlink:href=\"#C2_0_7cfb8620bf\" x=\"34.528951\" y=\"340.667152\" style=\"fill: #fff5eb\"/>\n    </g>\n    <g clip-path=\"url(#pd7ab39bf1b)\">\n     <use xlink:href=\"#C2_0_7cfb8620bf\" x=\"34.528951\" y=\"328.78616\" style=\"fill: #fff5eb\"/>\n    </g>\n    <g clip-path=\"url(#pd7ab39bf1b)\">\n     <use xlink:href=\"#C2_0_7cfb8620bf\" x=\"34.528951\" y=\"316.905168\" style=\"fill: #fff5eb\"/>\n    </g>\n    <g clip-path=\"url(#pd7ab39bf1b)\">\n     <use xlink:href=\"#C2_0_7cfb8620bf\" x=\"34.528951\" y=\"305.024176\" style=\"fill: #fff5eb\"/>\n    </g>\n    <g clip-path=\"url(#pd7ab39bf1b)\">\n     <use xlink:href=\"#C2_0_7cfb8620bf\" x=\"34.528951\" y=\"293.143185\" style=\"fill: #fff5eb\"/>\n    </g>\n    <g clip-path=\"url(#pd7ab39bf1b)\">\n     <use xlink:href=\"#C2_0_7cfb8620bf\" x=\"34.528951\" y=\"281.262193\" style=\"fill: #fff5eb\"/>\n    </g>\n    <g clip-path=\"url(#pd7ab39bf1b)\">\n     <use xlink:href=\"#C2_0_7cfb8620bf\" x=\"34.528951\" y=\"269.381201\" style=\"fill: #fff5eb\"/>\n    </g>\n    <g clip-path=\"url(#pd7ab39bf1b)\">\n     <use xlink:href=\"#C2_0_7cfb8620bf\" x=\"34.528951\" y=\"257.500209\" style=\"fill: #fff5eb\"/>\n    </g>\n    <g clip-path=\"url(#pd7ab39bf1b)\">\n     <use xlink:href=\"#C2_0_7cfb8620bf\" x=\"34.528951\" y=\"245.619218\" style=\"fill: #fff5eb\"/>\n    </g>\n    <g clip-path=\"url(#pd7ab39bf1b)\">\n     <use xlink:href=\"#C2_0_7cfb8620bf\" x=\"34.528951\" y=\"233.738226\" style=\"fill: #fff5eb\"/>\n    </g>\n    <g clip-path=\"url(#pd7ab39bf1b)\">\n     <use xlink:href=\"#C2_0_7cfb8620bf\" x=\"34.528951\" y=\"221.857234\" style=\"fill: #fff5eb\"/>\n    </g>\n    <g clip-path=\"url(#pd7ab39bf1b)\">\n     <use xlink:href=\"#C2_0_7cfb8620bf\" x=\"34.528951\" y=\"209.976242\" style=\"fill: #fff5eb\"/>\n    </g>\n    <g clip-path=\"url(#pd7ab39bf1b)\">\n     <use xlink:href=\"#C2_0_7cfb8620bf\" x=\"41.37986\" y=\"340.667152\" style=\"fill: #fff5eb\"/>\n    </g>\n    <g clip-path=\"url(#pd7ab39bf1b)\">\n     <use xlink:href=\"#C2_0_7cfb8620bf\" x=\"41.37986\" y=\"328.78616\" style=\"fill: #fff5eb\"/>\n    </g>\n    <g clip-path=\"url(#pd7ab39bf1b)\">\n     <use xlink:href=\"#C2_0_7cfb8620bf\" x=\"41.37986\" y=\"316.905168\" style=\"fill: #fff5eb\"/>\n    </g>\n    <g clip-path=\"url(#pd7ab39bf1b)\">\n     <use xlink:href=\"#C2_0_7cfb8620bf\" x=\"41.37986\" y=\"305.024176\" style=\"fill: #fff5eb\"/>\n    </g>\n    <g clip-path=\"url(#pd7ab39bf1b)\">\n     <use xlink:href=\"#C2_0_7cfb8620bf\" x=\"41.37986\" y=\"293.143185\" style=\"fill: #ffefe0\"/>\n    </g>\n    <g clip-path=\"url(#pd7ab39bf1b)\">\n     <use xlink:href=\"#C2_0_7cfb8620bf\" x=\"41.37986\" y=\"281.262193\" style=\"fill: #ffefe0\"/>\n    </g>\n    <g clip-path=\"url(#pd7ab39bf1b)\">\n     <use xlink:href=\"#C2_0_7cfb8620bf\" x=\"41.37986\" y=\"269.381201\" style=\"fill: #fff5eb\"/>\n    </g>\n    <g clip-path=\"url(#pd7ab39bf1b)\">\n     <use xlink:href=\"#C2_0_7cfb8620bf\" x=\"41.37986\" y=\"257.500209\" style=\"fill: #fff5eb\"/>\n    </g>\n    <g clip-path=\"url(#pd7ab39bf1b)\">\n     <use xlink:href=\"#C2_0_7cfb8620bf\" x=\"41.37986\" y=\"245.619218\" style=\"fill: #fff5eb\"/>\n    </g>\n    <g clip-path=\"url(#pd7ab39bf1b)\">\n     <use xlink:href=\"#C2_0_7cfb8620bf\" x=\"41.37986\" y=\"233.738226\" style=\"fill: #fff5eb\"/>\n    </g>\n    <g clip-path=\"url(#pd7ab39bf1b)\">\n     <use xlink:href=\"#C2_0_7cfb8620bf\" x=\"41.37986\" y=\"221.857234\" style=\"fill: #fff5eb\"/>\n    </g>\n    <g clip-path=\"url(#pd7ab39bf1b)\">\n     <use xlink:href=\"#C2_0_7cfb8620bf\" x=\"41.37986\" y=\"209.976242\" style=\"fill: #fff5eb\"/>\n    </g>\n    <g clip-path=\"url(#pd7ab39bf1b)\">\n     <use xlink:href=\"#C2_0_7cfb8620bf\" x=\"48.230769\" y=\"340.667152\" style=\"fill: #fff5eb\"/>\n    </g>\n    <g clip-path=\"url(#pd7ab39bf1b)\">\n     <use xlink:href=\"#C2_0_7cfb8620bf\" x=\"48.230769\" y=\"328.78616\" style=\"fill: #fff5eb\"/>\n    </g>\n    <g clip-path=\"url(#pd7ab39bf1b)\">\n     <use xlink:href=\"#C2_0_7cfb8620bf\" x=\"48.230769\" y=\"316.905168\" style=\"fill: #fff5eb\"/>\n    </g>\n    <g clip-path=\"url(#pd7ab39bf1b)\">\n     <use xlink:href=\"#C2_0_7cfb8620bf\" x=\"48.230769\" y=\"305.024176\" style=\"fill: #fff5eb\"/>\n    </g>\n    <g clip-path=\"url(#pd7ab39bf1b)\">\n     <use xlink:href=\"#C2_0_7cfb8620bf\" x=\"48.230769\" y=\"293.143185\" style=\"fill: #fff5eb\"/>\n    </g>\n    <g clip-path=\"url(#pd7ab39bf1b)\">\n     <use xlink:href=\"#C2_0_7cfb8620bf\" x=\"48.230769\" y=\"281.262193\" style=\"fill: #fdd0a2\"/>\n    </g>\n    <g clip-path=\"url(#pd7ab39bf1b)\">\n     <use xlink:href=\"#C2_0_7cfb8620bf\" x=\"48.230769\" y=\"269.381201\" style=\"fill: #ffefe0\"/>\n    </g>\n    <g clip-path=\"url(#pd7ab39bf1b)\">\n     <use xlink:href=\"#C2_0_7cfb8620bf\" x=\"48.230769\" y=\"257.500209\" style=\"fill: #fee2c6\"/>\n    </g>\n    <g clip-path=\"url(#pd7ab39bf1b)\">\n     <use xlink:href=\"#C2_0_7cfb8620bf\" x=\"48.230769\" y=\"245.619218\" style=\"fill: #fff5eb\"/>\n    </g>\n    <g clip-path=\"url(#pd7ab39bf1b)\">\n     <use xlink:href=\"#C2_0_7cfb8620bf\" x=\"48.230769\" y=\"233.738226\" style=\"fill: #fff5eb\"/>\n    </g>\n    <g clip-path=\"url(#pd7ab39bf1b)\">\n     <use xlink:href=\"#C2_0_7cfb8620bf\" x=\"48.230769\" y=\"221.857234\" style=\"fill: #fff5eb\"/>\n    </g>\n    <g clip-path=\"url(#pd7ab39bf1b)\">\n     <use xlink:href=\"#C2_0_7cfb8620bf\" x=\"48.230769\" y=\"209.976242\" style=\"fill: #fff5eb\"/>\n    </g>\n    <g clip-path=\"url(#pd7ab39bf1b)\">\n     <use xlink:href=\"#C2_0_7cfb8620bf\" x=\"55.081678\" y=\"340.667152\" style=\"fill: #fff5eb\"/>\n    </g>\n    <g clip-path=\"url(#pd7ab39bf1b)\">\n     <use xlink:href=\"#C2_0_7cfb8620bf\" x=\"55.081678\" y=\"328.78616\" style=\"fill: #fff5eb\"/>\n    </g>\n    <g clip-path=\"url(#pd7ab39bf1b)\">\n     <use xlink:href=\"#C2_0_7cfb8620bf\" x=\"55.081678\" y=\"316.905168\" style=\"fill: #fff5eb\"/>\n    </g>\n    <g clip-path=\"url(#pd7ab39bf1b)\">\n     <use xlink:href=\"#C2_0_7cfb8620bf\" x=\"55.081678\" y=\"305.024176\" style=\"fill: #ffefe0\"/>\n    </g>\n    <g clip-path=\"url(#pd7ab39bf1b)\">\n     <use xlink:href=\"#C2_0_7cfb8620bf\" x=\"55.081678\" y=\"293.143185\" style=\"fill: #fd8c3b\"/>\n    </g>\n    <g clip-path=\"url(#pd7ab39bf1b)\">\n     <use xlink:href=\"#C2_0_7cfb8620bf\" x=\"55.081678\" y=\"281.262193\" style=\"fill: #fdc38d\"/>\n    </g>\n    <g clip-path=\"url(#pd7ab39bf1b)\">\n     <use xlink:href=\"#C2_0_7cfb8620bf\" x=\"55.081678\" y=\"269.381201\" style=\"fill: #fdd0a2\"/>\n    </g>\n    <g clip-path=\"url(#pd7ab39bf1b)\">\n     <use xlink:href=\"#C2_0_7cfb8620bf\" x=\"55.081678\" y=\"257.500209\" style=\"fill: #fd9a4e\"/>\n    </g>\n    <g clip-path=\"url(#pd7ab39bf1b)\">\n     <use xlink:href=\"#C2_0_7cfb8620bf\" x=\"55.081678\" y=\"245.619218\" style=\"fill: #fff5eb\"/>\n    </g>\n    <g clip-path=\"url(#pd7ab39bf1b)\">\n     <use xlink:href=\"#C2_0_7cfb8620bf\" x=\"55.081678\" y=\"233.738226\" style=\"fill: #fff5eb\"/>\n    </g>\n    <g clip-path=\"url(#pd7ab39bf1b)\">\n     <use xlink:href=\"#C2_0_7cfb8620bf\" x=\"55.081678\" y=\"221.857234\" style=\"fill: #fff5eb\"/>\n    </g>\n    <g clip-path=\"url(#pd7ab39bf1b)\">\n     <use xlink:href=\"#C2_0_7cfb8620bf\" x=\"55.081678\" y=\"209.976242\" style=\"fill: #fff5eb\"/>\n    </g>\n    <g clip-path=\"url(#pd7ab39bf1b)\">\n     <use xlink:href=\"#C2_0_7cfb8620bf\" x=\"61.932587\" y=\"340.667152\" style=\"fill: #fff5eb\"/>\n    </g>\n    <g clip-path=\"url(#pd7ab39bf1b)\">\n     <use xlink:href=\"#C2_0_7cfb8620bf\" x=\"61.932587\" y=\"328.78616\" style=\"fill: #fff5eb\"/>\n    </g>\n    <g clip-path=\"url(#pd7ab39bf1b)\">\n     <use xlink:href=\"#C2_0_7cfb8620bf\" x=\"61.932587\" y=\"316.905168\" style=\"fill: #fff5eb\"/>\n    </g>\n    <g clip-path=\"url(#pd7ab39bf1b)\">\n     <use xlink:href=\"#C2_0_7cfb8620bf\" x=\"61.932587\" y=\"305.024176\" style=\"fill: #fd9a4e\"/>\n    </g>\n    <g clip-path=\"url(#pd7ab39bf1b)\">\n     <use xlink:href=\"#C2_0_7cfb8620bf\" x=\"61.932587\" y=\"293.143185\" style=\"fill: #f3701b\"/>\n    </g>\n    <g clip-path=\"url(#pd7ab39bf1b)\">\n     <use xlink:href=\"#C2_0_7cfb8620bf\" x=\"61.932587\" y=\"281.262193\" style=\"fill: #fd8c3b\"/>\n    </g>\n    <g clip-path=\"url(#pd7ab39bf1b)\">\n     <use xlink:href=\"#C2_0_7cfb8620bf\" x=\"61.932587\" y=\"269.381201\" style=\"fill: #fda762\"/>\n    </g>\n    <g clip-path=\"url(#pd7ab39bf1b)\">\n     <use xlink:href=\"#C2_0_7cfb8620bf\" x=\"61.932587\" y=\"257.500209\" style=\"fill: #fdd0a2\"/>\n    </g>\n    <g clip-path=\"url(#pd7ab39bf1b)\">\n     <use xlink:href=\"#C2_0_7cfb8620bf\" x=\"61.932587\" y=\"245.619218\" style=\"fill: #fff5eb\"/>\n    </g>\n    <g clip-path=\"url(#pd7ab39bf1b)\">\n     <use xlink:href=\"#C2_0_7cfb8620bf\" x=\"61.932587\" y=\"233.738226\" style=\"fill: #fff5eb\"/>\n    </g>\n    <g clip-path=\"url(#pd7ab39bf1b)\">\n     <use xlink:href=\"#C2_0_7cfb8620bf\" x=\"61.932587\" y=\"221.857234\" style=\"fill: #fff5eb\"/>\n    </g>\n    <g clip-path=\"url(#pd7ab39bf1b)\">\n     <use xlink:href=\"#C2_0_7cfb8620bf\" x=\"61.932587\" y=\"209.976242\" style=\"fill: #fff5eb\"/>\n    </g>\n    <g clip-path=\"url(#pd7ab39bf1b)\">\n     <use xlink:href=\"#C2_0_7cfb8620bf\" x=\"68.783496\" y=\"340.667152\" style=\"fill: #fff5eb\"/>\n    </g>\n    <g clip-path=\"url(#pd7ab39bf1b)\">\n     <use xlink:href=\"#C2_0_7cfb8620bf\" x=\"68.783496\" y=\"328.78616\" style=\"fill: #fff5eb\"/>\n    </g>\n    <g clip-path=\"url(#pd7ab39bf1b)\">\n     <use xlink:href=\"#C2_0_7cfb8620bf\" x=\"68.783496\" y=\"316.905168\" style=\"fill: #fff5eb\"/>\n    </g>\n    <g clip-path=\"url(#pd7ab39bf1b)\">\n     <use xlink:href=\"#C2_0_7cfb8620bf\" x=\"68.783496\" y=\"305.024176\" style=\"fill: #e25508\"/>\n    </g>\n    <g clip-path=\"url(#pd7ab39bf1b)\">\n     <use xlink:href=\"#C2_0_7cfb8620bf\" x=\"68.783496\" y=\"293.143185\" style=\"fill: #fdc38d\"/>\n    </g>\n    <g clip-path=\"url(#pd7ab39bf1b)\">\n     <use xlink:href=\"#C2_0_7cfb8620bf\" x=\"68.783496\" y=\"281.262193\" style=\"fill: #fda762\"/>\n    </g>\n    <g clip-path=\"url(#pd7ab39bf1b)\">\n     <use xlink:href=\"#C2_0_7cfb8620bf\" x=\"68.783496\" y=\"269.381201\" style=\"fill: #fdd0a2\"/>\n    </g>\n    <g clip-path=\"url(#pd7ab39bf1b)\">\n     <use xlink:href=\"#C2_0_7cfb8620bf\" x=\"68.783496\" y=\"257.500209\" style=\"fill: #fff5eb\"/>\n    </g>\n    <g clip-path=\"url(#pd7ab39bf1b)\">\n     <use xlink:href=\"#C2_0_7cfb8620bf\" x=\"68.783496\" y=\"245.619218\" style=\"fill: #fff5eb\"/>\n    </g>\n    <g clip-path=\"url(#pd7ab39bf1b)\">\n     <use xlink:href=\"#C2_0_7cfb8620bf\" x=\"68.783496\" y=\"233.738226\" style=\"fill: #fff5eb\"/>\n    </g>\n    <g clip-path=\"url(#pd7ab39bf1b)\">\n     <use xlink:href=\"#C2_0_7cfb8620bf\" x=\"68.783496\" y=\"221.857234\" style=\"fill: #fff5eb\"/>\n    </g>\n    <g clip-path=\"url(#pd7ab39bf1b)\">\n     <use xlink:href=\"#C2_0_7cfb8620bf\" x=\"68.783496\" y=\"209.976242\" style=\"fill: #fff5eb\"/>\n    </g>\n    <g clip-path=\"url(#pd7ab39bf1b)\">\n     <use xlink:href=\"#C2_0_7cfb8620bf\" x=\"75.634405\" y=\"340.667152\" style=\"fill: #fff5eb\"/>\n    </g>\n    <g clip-path=\"url(#pd7ab39bf1b)\">\n     <use xlink:href=\"#C2_0_7cfb8620bf\" x=\"75.634405\" y=\"328.78616\" style=\"fill: #fff5eb\"/>\n    </g>\n    <g clip-path=\"url(#pd7ab39bf1b)\">\n     <use xlink:href=\"#C2_0_7cfb8620bf\" x=\"75.634405\" y=\"316.905168\" style=\"fill: #fff5eb\"/>\n    </g>\n    <g clip-path=\"url(#pd7ab39bf1b)\">\n     <use xlink:href=\"#C2_0_7cfb8620bf\" x=\"75.634405\" y=\"305.024176\" style=\"fill: #fd8c3b\"/>\n    </g>\n    <g clip-path=\"url(#pd7ab39bf1b)\">\n     <use xlink:href=\"#C2_0_7cfb8620bf\" x=\"75.634405\" y=\"293.143185\" style=\"fill: #fff5eb\"/>\n    </g>\n    <g clip-path=\"url(#pd7ab39bf1b)\">\n     <use xlink:href=\"#C2_0_7cfb8620bf\" x=\"75.634405\" y=\"281.262193\" style=\"fill: #fdd9b4\"/>\n    </g>\n    <g clip-path=\"url(#pd7ab39bf1b)\">\n     <use xlink:href=\"#C2_0_7cfb8620bf\" x=\"75.634405\" y=\"269.381201\" style=\"fill: #fdd0a2\"/>\n    </g>\n    <g clip-path=\"url(#pd7ab39bf1b)\">\n     <use xlink:href=\"#C2_0_7cfb8620bf\" x=\"75.634405\" y=\"257.500209\" style=\"fill: #fff5eb\"/>\n    </g>\n    <g clip-path=\"url(#pd7ab39bf1b)\">\n     <use xlink:href=\"#C2_0_7cfb8620bf\" x=\"75.634405\" y=\"245.619218\" style=\"fill: #fff5eb\"/>\n    </g>\n    <g clip-path=\"url(#pd7ab39bf1b)\">\n     <use xlink:href=\"#C2_0_7cfb8620bf\" x=\"75.634405\" y=\"233.738226\" style=\"fill: #fff5eb\"/>\n    </g>\n    <g clip-path=\"url(#pd7ab39bf1b)\">\n     <use xlink:href=\"#C2_0_7cfb8620bf\" x=\"75.634405\" y=\"221.857234\" style=\"fill: #fff5eb\"/>\n    </g>\n    <g clip-path=\"url(#pd7ab39bf1b)\">\n     <use xlink:href=\"#C2_0_7cfb8620bf\" x=\"75.634405\" y=\"209.976242\" style=\"fill: #fff5eb\"/>\n    </g>\n    <g clip-path=\"url(#pd7ab39bf1b)\">\n     <use xlink:href=\"#C2_0_7cfb8620bf\" x=\"82.485314\" y=\"340.667152\" style=\"fill: #fff5eb\"/>\n    </g>\n    <g clip-path=\"url(#pd7ab39bf1b)\">\n     <use xlink:href=\"#C2_0_7cfb8620bf\" x=\"82.485314\" y=\"328.78616\" style=\"fill: #fff5eb\"/>\n    </g>\n    <g clip-path=\"url(#pd7ab39bf1b)\">\n     <use xlink:href=\"#C2_0_7cfb8620bf\" x=\"82.485314\" y=\"316.905168\" style=\"fill: #fff5eb\"/>\n    </g>\n    <g clip-path=\"url(#pd7ab39bf1b)\">\n     <use xlink:href=\"#C2_0_7cfb8620bf\" x=\"82.485314\" y=\"305.024176\" style=\"fill: #fdc38d\"/>\n    </g>\n    <g clip-path=\"url(#pd7ab39bf1b)\">\n     <use xlink:href=\"#C2_0_7cfb8620bf\" x=\"82.485314\" y=\"293.143185\" style=\"fill: #fdc38d\"/>\n    </g>\n    <g clip-path=\"url(#pd7ab39bf1b)\">\n     <use xlink:href=\"#C2_0_7cfb8620bf\" x=\"82.485314\" y=\"281.262193\" style=\"fill: #ffefe0\"/>\n    </g>\n    <g clip-path=\"url(#pd7ab39bf1b)\">\n     <use xlink:href=\"#C2_0_7cfb8620bf\" x=\"82.485314\" y=\"269.381201\" style=\"fill: #fee9d4\"/>\n    </g>\n    <g clip-path=\"url(#pd7ab39bf1b)\">\n     <use xlink:href=\"#C2_0_7cfb8620bf\" x=\"82.485314\" y=\"257.500209\" style=\"fill: #fff5eb\"/>\n    </g>\n    <g clip-path=\"url(#pd7ab39bf1b)\">\n     <use xlink:href=\"#C2_0_7cfb8620bf\" x=\"82.485314\" y=\"245.619218\" style=\"fill: #fff5eb\"/>\n    </g>\n    <g clip-path=\"url(#pd7ab39bf1b)\">\n     <use xlink:href=\"#C2_0_7cfb8620bf\" x=\"82.485314\" y=\"233.738226\" style=\"fill: #fff5eb\"/>\n    </g>\n    <g clip-path=\"url(#pd7ab39bf1b)\">\n     <use xlink:href=\"#C2_0_7cfb8620bf\" x=\"82.485314\" y=\"221.857234\" style=\"fill: #fff5eb\"/>\n    </g>\n    <g clip-path=\"url(#pd7ab39bf1b)\">\n     <use xlink:href=\"#C2_0_7cfb8620bf\" x=\"82.485314\" y=\"209.976242\" style=\"fill: #fff5eb\"/>\n    </g>\n    <g clip-path=\"url(#pd7ab39bf1b)\">\n     <use xlink:href=\"#C2_0_7cfb8620bf\" x=\"-51.107413\" y=\"334.726656\" style=\"fill: #fff5eb\"/>\n    </g>\n    <g clip-path=\"url(#pd7ab39bf1b)\">\n     <use xlink:href=\"#C2_0_7cfb8620bf\" x=\"-51.107413\" y=\"322.845664\" style=\"fill: #fff5eb\"/>\n    </g>\n    <g clip-path=\"url(#pd7ab39bf1b)\">\n     <use xlink:href=\"#C2_0_7cfb8620bf\" x=\"-51.107413\" y=\"310.964672\" style=\"fill: #fff5eb\"/>\n    </g>\n    <g clip-path=\"url(#pd7ab39bf1b)\">\n     <use xlink:href=\"#C2_0_7cfb8620bf\" x=\"-51.107413\" y=\"299.08368\" style=\"fill: #ffefe0\"/>\n    </g>\n    <g clip-path=\"url(#pd7ab39bf1b)\">\n     <use xlink:href=\"#C2_0_7cfb8620bf\" x=\"-51.107413\" y=\"287.202689\" style=\"fill: #fdd9b4\"/>\n    </g>\n    <g clip-path=\"url(#pd7ab39bf1b)\">\n     <use xlink:href=\"#C2_0_7cfb8620bf\" x=\"-51.107413\" y=\"275.321697\" style=\"fill: #fdd9b4\"/>\n    </g>\n    <g clip-path=\"url(#pd7ab39bf1b)\">\n     <use xlink:href=\"#C2_0_7cfb8620bf\" x=\"-51.107413\" y=\"263.440705\" style=\"fill: #fd9a4e\"/>\n    </g>\n    <g clip-path=\"url(#pd7ab39bf1b)\">\n     <use xlink:href=\"#C2_0_7cfb8620bf\" x=\"-51.107413\" y=\"251.559714\" style=\"fill: #fff5eb\"/>\n    </g>\n    <g clip-path=\"url(#pd7ab39bf1b)\">\n     <use xlink:href=\"#C2_0_7cfb8620bf\" x=\"-51.107413\" y=\"239.678722\" style=\"fill: #fff5eb\"/>\n    </g>\n    <g clip-path=\"url(#pd7ab39bf1b)\">\n     <use xlink:href=\"#C2_0_7cfb8620bf\" x=\"-51.107413\" y=\"227.79773\" style=\"fill: #fff5eb\"/>\n    </g>\n    <g clip-path=\"url(#pd7ab39bf1b)\">\n     <use xlink:href=\"#C2_0_7cfb8620bf\" x=\"-51.107413\" y=\"215.916738\" style=\"fill: #fff5eb\"/>\n    </g>\n    <g clip-path=\"url(#pd7ab39bf1b)\">\n     <use xlink:href=\"#C2_0_7cfb8620bf\" x=\"-44.256504\" y=\"334.726656\" style=\"fill: #fff5eb\"/>\n    </g>\n    <g clip-path=\"url(#pd7ab39bf1b)\">\n     <use xlink:href=\"#C2_0_7cfb8620bf\" x=\"-44.256504\" y=\"322.845664\" style=\"fill: #fff5eb\"/>\n    </g>\n    <g clip-path=\"url(#pd7ab39bf1b)\">\n     <use xlink:href=\"#C2_0_7cfb8620bf\" x=\"-44.256504\" y=\"310.964672\" style=\"fill: #fff5eb\"/>\n    </g>\n    <g clip-path=\"url(#pd7ab39bf1b)\">\n     <use xlink:href=\"#C2_0_7cfb8620bf\" x=\"-44.256504\" y=\"299.08368\" style=\"fill: #ec620f\"/>\n    </g>\n    <g clip-path=\"url(#pd7ab39bf1b)\">\n     <use xlink:href=\"#C2_0_7cfb8620bf\" x=\"-44.256504\" y=\"287.202689\" style=\"fill: #fdb576\"/>\n    </g>\n    <g clip-path=\"url(#pd7ab39bf1b)\">\n     <use xlink:href=\"#C2_0_7cfb8620bf\" x=\"-44.256504\" y=\"275.321697\" style=\"fill: #fee2c6\"/>\n    </g>\n    <g clip-path=\"url(#pd7ab39bf1b)\">\n     <use xlink:href=\"#C2_0_7cfb8620bf\" x=\"-44.256504\" y=\"263.440705\" style=\"fill: #fda762\"/>\n    </g>\n    <g clip-path=\"url(#pd7ab39bf1b)\">\n     <use xlink:href=\"#C2_0_7cfb8620bf\" x=\"-44.256504\" y=\"251.559714\" style=\"fill: #ffefe0\"/>\n    </g>\n    <g clip-path=\"url(#pd7ab39bf1b)\">\n     <use xlink:href=\"#C2_0_7cfb8620bf\" x=\"-44.256504\" y=\"239.678722\" style=\"fill: #fff5eb\"/>\n    </g>\n    <g clip-path=\"url(#pd7ab39bf1b)\">\n     <use xlink:href=\"#C2_0_7cfb8620bf\" x=\"-44.256504\" y=\"227.79773\" style=\"fill: #fff5eb\"/>\n    </g>\n    <g clip-path=\"url(#pd7ab39bf1b)\">\n     <use xlink:href=\"#C2_0_7cfb8620bf\" x=\"-44.256504\" y=\"215.916738\" style=\"fill: #fff5eb\"/>\n    </g>\n    <g clip-path=\"url(#pd7ab39bf1b)\">\n     <use xlink:href=\"#C2_0_7cfb8620bf\" x=\"-37.405595\" y=\"334.726656\" style=\"fill: #fff5eb\"/>\n    </g>\n    <g clip-path=\"url(#pd7ab39bf1b)\">\n     <use xlink:href=\"#C2_0_7cfb8620bf\" x=\"-37.405595\" y=\"322.845664\" style=\"fill: #fff5eb\"/>\n    </g>\n    <g clip-path=\"url(#pd7ab39bf1b)\">\n     <use xlink:href=\"#C2_0_7cfb8620bf\" x=\"-37.405595\" y=\"310.964672\" style=\"fill: #fdd9b4\"/>\n    </g>\n    <g clip-path=\"url(#pd7ab39bf1b)\">\n     <use xlink:href=\"#C2_0_7cfb8620bf\" x=\"-37.405595\" y=\"299.08368\" style=\"fill: #fdb576\"/>\n    </g>\n    <g clip-path=\"url(#pd7ab39bf1b)\">\n     <use xlink:href=\"#C2_0_7cfb8620bf\" x=\"-37.405595\" y=\"287.202689\" style=\"fill: #fdb576\"/>\n    </g>\n    <g clip-path=\"url(#pd7ab39bf1b)\">\n     <use xlink:href=\"#C2_0_7cfb8620bf\" x=\"-37.405595\" y=\"275.321697\" style=\"fill: #f87f2c\"/>\n    </g>\n    <g clip-path=\"url(#pd7ab39bf1b)\">\n     <use xlink:href=\"#C2_0_7cfb8620bf\" x=\"-37.405595\" y=\"263.440705\" style=\"fill: #fdb576\"/>\n    </g>\n    <g clip-path=\"url(#pd7ab39bf1b)\">\n     <use xlink:href=\"#C2_0_7cfb8620bf\" x=\"-37.405595\" y=\"251.559714\" style=\"fill: #fdd0a2\"/>\n    </g>\n    <g clip-path=\"url(#pd7ab39bf1b)\">\n     <use xlink:href=\"#C2_0_7cfb8620bf\" x=\"-37.405595\" y=\"239.678722\" style=\"fill: #fff5eb\"/>\n    </g>\n    <g clip-path=\"url(#pd7ab39bf1b)\">\n     <use xlink:href=\"#C2_0_7cfb8620bf\" x=\"-37.405595\" y=\"227.79773\" style=\"fill: #fff5eb\"/>\n    </g>\n    <g clip-path=\"url(#pd7ab39bf1b)\">\n     <use xlink:href=\"#C2_0_7cfb8620bf\" x=\"-37.405595\" y=\"215.916738\" style=\"fill: #fff5eb\"/>\n    </g>\n    <g clip-path=\"url(#pd7ab39bf1b)\">\n     <use xlink:href=\"#C2_0_7cfb8620bf\" x=\"-30.554686\" y=\"334.726656\" style=\"fill: #fff5eb\"/>\n    </g>\n    <g clip-path=\"url(#pd7ab39bf1b)\">\n     <use xlink:href=\"#C2_0_7cfb8620bf\" x=\"-30.554686\" y=\"322.845664\" style=\"fill: #fee2c6\"/>\n    </g>\n    <g clip-path=\"url(#pd7ab39bf1b)\">\n     <use xlink:href=\"#C2_0_7cfb8620bf\" x=\"-30.554686\" y=\"310.964672\" style=\"fill: #f3701b\"/>\n    </g>\n    <g clip-path=\"url(#pd7ab39bf1b)\">\n     <use xlink:href=\"#C2_0_7cfb8620bf\" x=\"-30.554686\" y=\"299.08368\" style=\"fill: #fdd0a2\"/>\n    </g>\n    <g clip-path=\"url(#pd7ab39bf1b)\">\n     <use xlink:href=\"#C2_0_7cfb8620bf\" x=\"-30.554686\" y=\"287.202689\" style=\"fill: #fd8c3b\"/>\n    </g>\n    <g clip-path=\"url(#pd7ab39bf1b)\">\n     <use xlink:href=\"#C2_0_7cfb8620bf\" x=\"-30.554686\" y=\"275.321697\" style=\"fill: #fdc38d\"/>\n    </g>\n    <g clip-path=\"url(#pd7ab39bf1b)\">\n     <use xlink:href=\"#C2_0_7cfb8620bf\" x=\"-30.554686\" y=\"263.440705\" style=\"fill: #fee9d4\"/>\n    </g>\n    <g clip-path=\"url(#pd7ab39bf1b)\">\n     <use xlink:href=\"#C2_0_7cfb8620bf\" x=\"-30.554686\" y=\"251.559714\" style=\"fill: #fdb576\"/>\n    </g>\n    <g clip-path=\"url(#pd7ab39bf1b)\">\n     <use xlink:href=\"#C2_0_7cfb8620bf\" x=\"-30.554686\" y=\"239.678722\" style=\"fill: #fff5eb\"/>\n    </g>\n    <g clip-path=\"url(#pd7ab39bf1b)\">\n     <use xlink:href=\"#C2_0_7cfb8620bf\" x=\"-30.554686\" y=\"227.79773\" style=\"fill: #fff5eb\"/>\n    </g>\n    <g clip-path=\"url(#pd7ab39bf1b)\">\n     <use xlink:href=\"#C2_0_7cfb8620bf\" x=\"-30.554686\" y=\"215.916738\" style=\"fill: #fff5eb\"/>\n    </g>\n    <g clip-path=\"url(#pd7ab39bf1b)\">\n     <use xlink:href=\"#C2_0_7cfb8620bf\" x=\"-23.703777\" y=\"334.726656\" style=\"fill: #fff5eb\"/>\n    </g>\n    <g clip-path=\"url(#pd7ab39bf1b)\">\n     <use xlink:href=\"#C2_0_7cfb8620bf\" x=\"-23.703777\" y=\"322.845664\" style=\"fill: #f87f2c\"/>\n    </g>\n    <g clip-path=\"url(#pd7ab39bf1b)\">\n     <use xlink:href=\"#C2_0_7cfb8620bf\" x=\"-23.703777\" y=\"310.964672\" style=\"fill: #9e3303\"/>\n    </g>\n    <g clip-path=\"url(#pd7ab39bf1b)\">\n     <use xlink:href=\"#C2_0_7cfb8620bf\" x=\"-23.703777\" y=\"299.08368\" style=\"fill: #e25508\"/>\n    </g>\n    <g clip-path=\"url(#pd7ab39bf1b)\">\n     <use xlink:href=\"#C2_0_7cfb8620bf\" x=\"-23.703777\" y=\"287.202689\" style=\"fill: #fdc38d\"/>\n    </g>\n    <g clip-path=\"url(#pd7ab39bf1b)\">\n     <use xlink:href=\"#C2_0_7cfb8620bf\" x=\"-23.703777\" y=\"275.321697\" style=\"fill: #fda762\"/>\n    </g>\n    <g clip-path=\"url(#pd7ab39bf1b)\">\n     <use xlink:href=\"#C2_0_7cfb8620bf\" x=\"-23.703777\" y=\"263.440705\" style=\"fill: #fee2c6\"/>\n    </g>\n    <g clip-path=\"url(#pd7ab39bf1b)\">\n     <use xlink:href=\"#C2_0_7cfb8620bf\" x=\"-23.703777\" y=\"251.559714\" style=\"fill: #fdd9b4\"/>\n    </g>\n    <g clip-path=\"url(#pd7ab39bf1b)\">\n     <use xlink:href=\"#C2_0_7cfb8620bf\" x=\"-23.703777\" y=\"239.678722\" style=\"fill: #ffefe0\"/>\n    </g>\n    <g clip-path=\"url(#pd7ab39bf1b)\">\n     <use xlink:href=\"#C2_0_7cfb8620bf\" x=\"-23.703777\" y=\"227.79773\" style=\"fill: #fff5eb\"/>\n    </g>\n    <g clip-path=\"url(#pd7ab39bf1b)\">\n     <use xlink:href=\"#C2_0_7cfb8620bf\" x=\"-23.703777\" y=\"215.916738\" style=\"fill: #fff5eb\"/>\n    </g>\n    <g clip-path=\"url(#pd7ab39bf1b)\">\n     <use xlink:href=\"#C2_0_7cfb8620bf\" x=\"-16.852867\" y=\"334.726656\" style=\"fill: #ffefe0\"/>\n    </g>\n    <g clip-path=\"url(#pd7ab39bf1b)\">\n     <use xlink:href=\"#C2_0_7cfb8620bf\" x=\"-16.852867\" y=\"322.845664\" style=\"fill: #d84801\"/>\n    </g>\n    <g clip-path=\"url(#pd7ab39bf1b)\">\n     <use xlink:href=\"#C2_0_7cfb8620bf\" x=\"-16.852867\" y=\"310.964672\" style=\"fill: #ec620f\"/>\n    </g>\n    <g clip-path=\"url(#pd7ab39bf1b)\">\n     <use xlink:href=\"#C2_0_7cfb8620bf\" x=\"-16.852867\" y=\"299.08368\" style=\"fill: #f3701b\"/>\n    </g>\n    <g clip-path=\"url(#pd7ab39bf1b)\">\n     <use xlink:href=\"#C2_0_7cfb8620bf\" x=\"-16.852867\" y=\"287.202689\" style=\"fill: #fdc38d\"/>\n    </g>\n    <g clip-path=\"url(#pd7ab39bf1b)\">\n     <use xlink:href=\"#C2_0_7cfb8620bf\" x=\"-16.852867\" y=\"275.321697\" style=\"fill: #fee9d4\"/>\n    </g>\n    <g clip-path=\"url(#pd7ab39bf1b)\">\n     <use xlink:href=\"#C2_0_7cfb8620bf\" x=\"-16.852867\" y=\"263.440705\" style=\"fill: #fdd0a2\"/>\n    </g>\n    <g clip-path=\"url(#pd7ab39bf1b)\">\n     <use xlink:href=\"#C2_0_7cfb8620bf\" x=\"-16.852867\" y=\"251.559714\" style=\"fill: #fdd0a2\"/>\n    </g>\n    <g clip-path=\"url(#pd7ab39bf1b)\">\n     <use xlink:href=\"#C2_0_7cfb8620bf\" x=\"-16.852867\" y=\"239.678722\" style=\"fill: #fff5eb\"/>\n    </g>\n    <g clip-path=\"url(#pd7ab39bf1b)\">\n     <use xlink:href=\"#C2_0_7cfb8620bf\" x=\"-16.852867\" y=\"227.79773\" style=\"fill: #fdc38d\"/>\n    </g>\n    <g clip-path=\"url(#pd7ab39bf1b)\">\n     <use xlink:href=\"#C2_0_7cfb8620bf\" x=\"-16.852867\" y=\"215.916738\" style=\"fill: #fdd9b4\"/>\n    </g>\n    <g clip-path=\"url(#pd7ab39bf1b)\">\n     <use xlink:href=\"#C2_0_7cfb8620bf\" x=\"-10.001958\" y=\"334.726656\" style=\"fill: #fff5eb\"/>\n    </g>\n    <g clip-path=\"url(#pd7ab39bf1b)\">\n     <use xlink:href=\"#C2_0_7cfb8620bf\" x=\"-10.001958\" y=\"322.845664\" style=\"fill: #fd8c3b\"/>\n    </g>\n    <g clip-path=\"url(#pd7ab39bf1b)\">\n     <use xlink:href=\"#C2_0_7cfb8620bf\" x=\"-10.001958\" y=\"310.964672\" style=\"fill: #fdb576\"/>\n    </g>\n    <g clip-path=\"url(#pd7ab39bf1b)\">\n     <use xlink:href=\"#C2_0_7cfb8620bf\" x=\"-10.001958\" y=\"299.08368\" style=\"fill: #fda762\"/>\n    </g>\n    <g clip-path=\"url(#pd7ab39bf1b)\">\n     <use xlink:href=\"#C2_0_7cfb8620bf\" x=\"-10.001958\" y=\"287.202689\" style=\"fill: #9e3303\"/>\n    </g>\n    <g clip-path=\"url(#pd7ab39bf1b)\">\n     <use xlink:href=\"#C2_0_7cfb8620bf\" x=\"-10.001958\" y=\"275.321697\" style=\"fill: #fda762\"/>\n    </g>\n    <g clip-path=\"url(#pd7ab39bf1b)\">\n     <use xlink:href=\"#C2_0_7cfb8620bf\" x=\"-10.001958\" y=\"263.440705\" style=\"fill: #fdd0a2\"/>\n    </g>\n    <g clip-path=\"url(#pd7ab39bf1b)\">\n     <use xlink:href=\"#C2_0_7cfb8620bf\" x=\"-10.001958\" y=\"251.559714\" style=\"fill: #fdd0a2\"/>\n    </g>\n    <g clip-path=\"url(#pd7ab39bf1b)\">\n     <use xlink:href=\"#C2_0_7cfb8620bf\" x=\"-10.001958\" y=\"239.678722\" style=\"fill: #fee2c6\"/>\n    </g>\n    <g clip-path=\"url(#pd7ab39bf1b)\">\n     <use xlink:href=\"#C2_0_7cfb8620bf\" x=\"-10.001958\" y=\"227.79773\" style=\"fill: #fd8c3b\"/>\n    </g>\n    <g clip-path=\"url(#pd7ab39bf1b)\">\n     <use xlink:href=\"#C2_0_7cfb8620bf\" x=\"-10.001958\" y=\"215.916738\" style=\"fill: #fd8c3b\"/>\n    </g>\n    <g clip-path=\"url(#pd7ab39bf1b)\">\n     <use xlink:href=\"#C2_0_7cfb8620bf\" x=\"-3.151049\" y=\"334.726656\" style=\"fill: #ffefe0\"/>\n    </g>\n    <g clip-path=\"url(#pd7ab39bf1b)\">\n     <use xlink:href=\"#C2_0_7cfb8620bf\" x=\"-3.151049\" y=\"322.845664\" style=\"fill: #fee9d4\"/>\n    </g>\n    <g clip-path=\"url(#pd7ab39bf1b)\">\n     <use xlink:href=\"#C2_0_7cfb8620bf\" x=\"-3.151049\" y=\"310.964672\" style=\"fill: #fdd9b4\"/>\n    </g>\n    <g clip-path=\"url(#pd7ab39bf1b)\">\n     <use xlink:href=\"#C2_0_7cfb8620bf\" x=\"-3.151049\" y=\"299.08368\" style=\"fill: #fdd0a2\"/>\n    </g>\n    <g clip-path=\"url(#pd7ab39bf1b)\">\n     <use xlink:href=\"#C2_0_7cfb8620bf\" x=\"-3.151049\" y=\"287.202689\" style=\"fill: #fdb576\"/>\n    </g>\n    <g clip-path=\"url(#pd7ab39bf1b)\">\n     <use xlink:href=\"#C2_0_7cfb8620bf\" x=\"-3.151049\" y=\"275.321697\" style=\"fill: #fd8c3b\"/>\n    </g>\n    <g clip-path=\"url(#pd7ab39bf1b)\">\n     <use xlink:href=\"#C2_0_7cfb8620bf\" x=\"-3.151049\" y=\"263.440705\" style=\"fill: #fdd0a2\"/>\n    </g>\n    <g clip-path=\"url(#pd7ab39bf1b)\">\n     <use xlink:href=\"#C2_0_7cfb8620bf\" x=\"-3.151049\" y=\"251.559714\" style=\"fill: #ffefe0\"/>\n    </g>\n    <g clip-path=\"url(#pd7ab39bf1b)\">\n     <use xlink:href=\"#C2_0_7cfb8620bf\" x=\"-3.151049\" y=\"239.678722\" style=\"fill: #fda762\"/>\n    </g>\n    <g clip-path=\"url(#pd7ab39bf1b)\">\n     <use xlink:href=\"#C2_0_7cfb8620bf\" x=\"-3.151049\" y=\"227.79773\" style=\"fill: #fee2c6\"/>\n    </g>\n    <g clip-path=\"url(#pd7ab39bf1b)\">\n     <use xlink:href=\"#C2_0_7cfb8620bf\" x=\"-3.151049\" y=\"215.916738\" style=\"fill: #fee2c6\"/>\n    </g>\n    <g clip-path=\"url(#pd7ab39bf1b)\">\n     <use xlink:href=\"#C2_0_7cfb8620bf\" x=\"3.69986\" y=\"334.726656\" style=\"fill: #7f2704\"/>\n    </g>\n    <g clip-path=\"url(#pd7ab39bf1b)\">\n     <use xlink:href=\"#C2_0_7cfb8620bf\" x=\"3.69986\" y=\"322.845664\" style=\"fill: #fda762\"/>\n    </g>\n    <g clip-path=\"url(#pd7ab39bf1b)\">\n     <use xlink:href=\"#C2_0_7cfb8620bf\" x=\"3.69986\" y=\"310.964672\" style=\"fill: #fee2c6\"/>\n    </g>\n    <g clip-path=\"url(#pd7ab39bf1b)\">\n     <use xlink:href=\"#C2_0_7cfb8620bf\" x=\"3.69986\" y=\"299.08368\" style=\"fill: #fd9a4e\"/>\n    </g>\n    <g clip-path=\"url(#pd7ab39bf1b)\">\n     <use xlink:href=\"#C2_0_7cfb8620bf\" x=\"3.69986\" y=\"287.202689\" style=\"fill: #fd8c3b\"/>\n    </g>\n    <g clip-path=\"url(#pd7ab39bf1b)\">\n     <use xlink:href=\"#C2_0_7cfb8620bf\" x=\"3.69986\" y=\"275.321697\" style=\"fill: #fdd0a2\"/>\n    </g>\n    <g clip-path=\"url(#pd7ab39bf1b)\">\n     <use xlink:href=\"#C2_0_7cfb8620bf\" x=\"3.69986\" y=\"263.440705\" style=\"fill: #fdd0a2\"/>\n    </g>\n    <g clip-path=\"url(#pd7ab39bf1b)\">\n     <use xlink:href=\"#C2_0_7cfb8620bf\" x=\"3.69986\" y=\"251.559714\" style=\"fill: #fee2c6\"/>\n    </g>\n    <g clip-path=\"url(#pd7ab39bf1b)\">\n     <use xlink:href=\"#C2_0_7cfb8620bf\" x=\"3.69986\" y=\"239.678722\" style=\"fill: #fdd9b4\"/>\n    </g>\n    <g clip-path=\"url(#pd7ab39bf1b)\">\n     <use xlink:href=\"#C2_0_7cfb8620bf\" x=\"3.69986\" y=\"227.79773\" style=\"fill: #fee2c6\"/>\n    </g>\n    <g clip-path=\"url(#pd7ab39bf1b)\">\n     <use xlink:href=\"#C2_0_7cfb8620bf\" x=\"3.69986\" y=\"215.916738\" style=\"fill: #fff5eb\"/>\n    </g>\n    <g clip-path=\"url(#pd7ab39bf1b)\">\n     <use xlink:href=\"#C2_0_7cfb8620bf\" x=\"10.550769\" y=\"334.726656\" style=\"fill: #fee9d4\"/>\n    </g>\n    <g clip-path=\"url(#pd7ab39bf1b)\">\n     <use xlink:href=\"#C2_0_7cfb8620bf\" x=\"10.550769\" y=\"322.845664\" style=\"fill: #fee9d4\"/>\n    </g>\n    <g clip-path=\"url(#pd7ab39bf1b)\">\n     <use xlink:href=\"#C2_0_7cfb8620bf\" x=\"10.550769\" y=\"310.964672\" style=\"fill: #ffefe0\"/>\n    </g>\n    <g clip-path=\"url(#pd7ab39bf1b)\">\n     <use xlink:href=\"#C2_0_7cfb8620bf\" x=\"10.550769\" y=\"299.08368\" style=\"fill: #fdd0a2\"/>\n    </g>\n    <g clip-path=\"url(#pd7ab39bf1b)\">\n     <use xlink:href=\"#C2_0_7cfb8620bf\" x=\"10.550769\" y=\"287.202689\" style=\"fill: #fdc38d\"/>\n    </g>\n    <g clip-path=\"url(#pd7ab39bf1b)\">\n     <use xlink:href=\"#C2_0_7cfb8620bf\" x=\"10.550769\" y=\"275.321697\" style=\"fill: #fdd0a2\"/>\n    </g>\n    <g clip-path=\"url(#pd7ab39bf1b)\">\n     <use xlink:href=\"#C2_0_7cfb8620bf\" x=\"10.550769\" y=\"263.440705\" style=\"fill: #fee2c6\"/>\n    </g>\n    <g clip-path=\"url(#pd7ab39bf1b)\">\n     <use xlink:href=\"#C2_0_7cfb8620bf\" x=\"10.550769\" y=\"251.559714\" style=\"fill: #fff5eb\"/>\n    </g>\n    <g clip-path=\"url(#pd7ab39bf1b)\">\n     <use xlink:href=\"#C2_0_7cfb8620bf\" x=\"10.550769\" y=\"239.678722\" style=\"fill: #fff5eb\"/>\n    </g>\n    <g clip-path=\"url(#pd7ab39bf1b)\">\n     <use xlink:href=\"#C2_0_7cfb8620bf\" x=\"10.550769\" y=\"227.79773\" style=\"fill: #fff5eb\"/>\n    </g>\n    <g clip-path=\"url(#pd7ab39bf1b)\">\n     <use xlink:href=\"#C2_0_7cfb8620bf\" x=\"10.550769\" y=\"215.916738\" style=\"fill: #fff5eb\"/>\n    </g>\n    <g clip-path=\"url(#pd7ab39bf1b)\">\n     <use xlink:href=\"#C2_0_7cfb8620bf\" x=\"17.401678\" y=\"334.726656\" style=\"fill: #fff5eb\"/>\n    </g>\n    <g clip-path=\"url(#pd7ab39bf1b)\">\n     <use xlink:href=\"#C2_0_7cfb8620bf\" x=\"17.401678\" y=\"322.845664\" style=\"fill: #fff5eb\"/>\n    </g>\n    <g clip-path=\"url(#pd7ab39bf1b)\">\n     <use xlink:href=\"#C2_0_7cfb8620bf\" x=\"17.401678\" y=\"310.964672\" style=\"fill: #fee2c6\"/>\n    </g>\n    <g clip-path=\"url(#pd7ab39bf1b)\">\n     <use xlink:href=\"#C2_0_7cfb8620bf\" x=\"17.401678\" y=\"299.08368\" style=\"fill: #fee9d4\"/>\n    </g>\n    <g clip-path=\"url(#pd7ab39bf1b)\">\n     <use xlink:href=\"#C2_0_7cfb8620bf\" x=\"17.401678\" y=\"287.202689\" style=\"fill: #fff5eb\"/>\n    </g>\n    <g clip-path=\"url(#pd7ab39bf1b)\">\n     <use xlink:href=\"#C2_0_7cfb8620bf\" x=\"17.401678\" y=\"275.321697\" style=\"fill: #fff5eb\"/>\n    </g>\n    <g clip-path=\"url(#pd7ab39bf1b)\">\n     <use xlink:href=\"#C2_0_7cfb8620bf\" x=\"17.401678\" y=\"263.440705\" style=\"fill: #fff5eb\"/>\n    </g>\n    <g clip-path=\"url(#pd7ab39bf1b)\">\n     <use xlink:href=\"#C2_0_7cfb8620bf\" x=\"17.401678\" y=\"251.559714\" style=\"fill: #fff5eb\"/>\n    </g>\n    <g clip-path=\"url(#pd7ab39bf1b)\">\n     <use xlink:href=\"#C2_0_7cfb8620bf\" x=\"17.401678\" y=\"239.678722\" style=\"fill: #fff5eb\"/>\n    </g>\n    <g clip-path=\"url(#pd7ab39bf1b)\">\n     <use xlink:href=\"#C2_0_7cfb8620bf\" x=\"17.401678\" y=\"227.79773\" style=\"fill: #fff5eb\"/>\n    </g>\n    <g clip-path=\"url(#pd7ab39bf1b)\">\n     <use xlink:href=\"#C2_0_7cfb8620bf\" x=\"17.401678\" y=\"215.916738\" style=\"fill: #fff5eb\"/>\n    </g>\n    <g clip-path=\"url(#pd7ab39bf1b)\">\n     <use xlink:href=\"#C2_0_7cfb8620bf\" x=\"24.252587\" y=\"334.726656\" style=\"fill: #fff5eb\"/>\n    </g>\n    <g clip-path=\"url(#pd7ab39bf1b)\">\n     <use xlink:href=\"#C2_0_7cfb8620bf\" x=\"24.252587\" y=\"322.845664\" style=\"fill: #fff5eb\"/>\n    </g>\n    <g clip-path=\"url(#pd7ab39bf1b)\">\n     <use xlink:href=\"#C2_0_7cfb8620bf\" x=\"24.252587\" y=\"310.964672\" style=\"fill: #ffefe0\"/>\n    </g>\n    <g clip-path=\"url(#pd7ab39bf1b)\">\n     <use xlink:href=\"#C2_0_7cfb8620bf\" x=\"24.252587\" y=\"299.08368\" style=\"fill: #fff5eb\"/>\n    </g>\n    <g clip-path=\"url(#pd7ab39bf1b)\">\n     <use xlink:href=\"#C2_0_7cfb8620bf\" x=\"24.252587\" y=\"287.202689\" style=\"fill: #ffefe0\"/>\n    </g>\n    <g clip-path=\"url(#pd7ab39bf1b)\">\n     <use xlink:href=\"#C2_0_7cfb8620bf\" x=\"24.252587\" y=\"275.321697\" style=\"fill: #fff5eb\"/>\n    </g>\n    <g clip-path=\"url(#pd7ab39bf1b)\">\n     <use xlink:href=\"#C2_0_7cfb8620bf\" x=\"24.252587\" y=\"263.440705\" style=\"fill: #fff5eb\"/>\n    </g>\n    <g clip-path=\"url(#pd7ab39bf1b)\">\n     <use xlink:href=\"#C2_0_7cfb8620bf\" x=\"24.252587\" y=\"251.559714\" style=\"fill: #fff5eb\"/>\n    </g>\n    <g clip-path=\"url(#pd7ab39bf1b)\">\n     <use xlink:href=\"#C2_0_7cfb8620bf\" x=\"24.252587\" y=\"239.678722\" style=\"fill: #fff5eb\"/>\n    </g>\n    <g clip-path=\"url(#pd7ab39bf1b)\">\n     <use xlink:href=\"#C2_0_7cfb8620bf\" x=\"24.252587\" y=\"227.79773\" style=\"fill: #fff5eb\"/>\n    </g>\n    <g clip-path=\"url(#pd7ab39bf1b)\">\n     <use xlink:href=\"#C2_0_7cfb8620bf\" x=\"24.252587\" y=\"215.916738\" style=\"fill: #fff5eb\"/>\n    </g>\n    <g clip-path=\"url(#pd7ab39bf1b)\">\n     <use xlink:href=\"#C2_0_7cfb8620bf\" x=\"31.103496\" y=\"334.726656\" style=\"fill: #fff5eb\"/>\n    </g>\n    <g clip-path=\"url(#pd7ab39bf1b)\">\n     <use xlink:href=\"#C2_0_7cfb8620bf\" x=\"31.103496\" y=\"322.845664\" style=\"fill: #fff5eb\"/>\n    </g>\n    <g clip-path=\"url(#pd7ab39bf1b)\">\n     <use xlink:href=\"#C2_0_7cfb8620bf\" x=\"31.103496\" y=\"310.964672\" style=\"fill: #fff5eb\"/>\n    </g>\n    <g clip-path=\"url(#pd7ab39bf1b)\">\n     <use xlink:href=\"#C2_0_7cfb8620bf\" x=\"31.103496\" y=\"299.08368\" style=\"fill: #fff5eb\"/>\n    </g>\n    <g clip-path=\"url(#pd7ab39bf1b)\">\n     <use xlink:href=\"#C2_0_7cfb8620bf\" x=\"31.103496\" y=\"287.202689\" style=\"fill: #fff5eb\"/>\n    </g>\n    <g clip-path=\"url(#pd7ab39bf1b)\">\n     <use xlink:href=\"#C2_0_7cfb8620bf\" x=\"31.103496\" y=\"275.321697\" style=\"fill: #fff5eb\"/>\n    </g>\n    <g clip-path=\"url(#pd7ab39bf1b)\">\n     <use xlink:href=\"#C2_0_7cfb8620bf\" x=\"31.103496\" y=\"263.440705\" style=\"fill: #fff5eb\"/>\n    </g>\n    <g clip-path=\"url(#pd7ab39bf1b)\">\n     <use xlink:href=\"#C2_0_7cfb8620bf\" x=\"31.103496\" y=\"251.559714\" style=\"fill: #fff5eb\"/>\n    </g>\n    <g clip-path=\"url(#pd7ab39bf1b)\">\n     <use xlink:href=\"#C2_0_7cfb8620bf\" x=\"31.103496\" y=\"239.678722\" style=\"fill: #fff5eb\"/>\n    </g>\n    <g clip-path=\"url(#pd7ab39bf1b)\">\n     <use xlink:href=\"#C2_0_7cfb8620bf\" x=\"31.103496\" y=\"227.79773\" style=\"fill: #fff5eb\"/>\n    </g>\n    <g clip-path=\"url(#pd7ab39bf1b)\">\n     <use xlink:href=\"#C2_0_7cfb8620bf\" x=\"31.103496\" y=\"215.916738\" style=\"fill: #fff5eb\"/>\n    </g>\n    <g clip-path=\"url(#pd7ab39bf1b)\">\n     <use xlink:href=\"#C2_0_7cfb8620bf\" x=\"37.954405\" y=\"334.726656\" style=\"fill: #fff5eb\"/>\n    </g>\n    <g clip-path=\"url(#pd7ab39bf1b)\">\n     <use xlink:href=\"#C2_0_7cfb8620bf\" x=\"37.954405\" y=\"322.845664\" style=\"fill: #fff5eb\"/>\n    </g>\n    <g clip-path=\"url(#pd7ab39bf1b)\">\n     <use xlink:href=\"#C2_0_7cfb8620bf\" x=\"37.954405\" y=\"310.964672\" style=\"fill: #fff5eb\"/>\n    </g>\n    <g clip-path=\"url(#pd7ab39bf1b)\">\n     <use xlink:href=\"#C2_0_7cfb8620bf\" x=\"37.954405\" y=\"299.08368\" style=\"fill: #fff5eb\"/>\n    </g>\n    <g clip-path=\"url(#pd7ab39bf1b)\">\n     <use xlink:href=\"#C2_0_7cfb8620bf\" x=\"37.954405\" y=\"287.202689\" style=\"fill: #fff5eb\"/>\n    </g>\n    <g clip-path=\"url(#pd7ab39bf1b)\">\n     <use xlink:href=\"#C2_0_7cfb8620bf\" x=\"37.954405\" y=\"275.321697\" style=\"fill: #fff5eb\"/>\n    </g>\n    <g clip-path=\"url(#pd7ab39bf1b)\">\n     <use xlink:href=\"#C2_0_7cfb8620bf\" x=\"37.954405\" y=\"263.440705\" style=\"fill: #fff5eb\"/>\n    </g>\n    <g clip-path=\"url(#pd7ab39bf1b)\">\n     <use xlink:href=\"#C2_0_7cfb8620bf\" x=\"37.954405\" y=\"251.559714\" style=\"fill: #fff5eb\"/>\n    </g>\n    <g clip-path=\"url(#pd7ab39bf1b)\">\n     <use xlink:href=\"#C2_0_7cfb8620bf\" x=\"37.954405\" y=\"239.678722\" style=\"fill: #fff5eb\"/>\n    </g>\n    <g clip-path=\"url(#pd7ab39bf1b)\">\n     <use xlink:href=\"#C2_0_7cfb8620bf\" x=\"37.954405\" y=\"227.79773\" style=\"fill: #fff5eb\"/>\n    </g>\n    <g clip-path=\"url(#pd7ab39bf1b)\">\n     <use xlink:href=\"#C2_0_7cfb8620bf\" x=\"37.954405\" y=\"215.916738\" style=\"fill: #fff5eb\"/>\n    </g>\n    <g clip-path=\"url(#pd7ab39bf1b)\">\n     <use xlink:href=\"#C2_0_7cfb8620bf\" x=\"44.805314\" y=\"334.726656\" style=\"fill: #fff5eb\"/>\n    </g>\n    <g clip-path=\"url(#pd7ab39bf1b)\">\n     <use xlink:href=\"#C2_0_7cfb8620bf\" x=\"44.805314\" y=\"322.845664\" style=\"fill: #fff5eb\"/>\n    </g>\n    <g clip-path=\"url(#pd7ab39bf1b)\">\n     <use xlink:href=\"#C2_0_7cfb8620bf\" x=\"44.805314\" y=\"310.964672\" style=\"fill: #fff5eb\"/>\n    </g>\n    <g clip-path=\"url(#pd7ab39bf1b)\">\n     <use xlink:href=\"#C2_0_7cfb8620bf\" x=\"44.805314\" y=\"299.08368\" style=\"fill: #fff5eb\"/>\n    </g>\n    <g clip-path=\"url(#pd7ab39bf1b)\">\n     <use xlink:href=\"#C2_0_7cfb8620bf\" x=\"44.805314\" y=\"287.202689\" style=\"fill: #fee2c6\"/>\n    </g>\n    <g clip-path=\"url(#pd7ab39bf1b)\">\n     <use xlink:href=\"#C2_0_7cfb8620bf\" x=\"44.805314\" y=\"275.321697\" style=\"fill: #fee9d4\"/>\n    </g>\n    <g clip-path=\"url(#pd7ab39bf1b)\">\n     <use xlink:href=\"#C2_0_7cfb8620bf\" x=\"44.805314\" y=\"263.440705\" style=\"fill: #fff5eb\"/>\n    </g>\n    <g clip-path=\"url(#pd7ab39bf1b)\">\n     <use xlink:href=\"#C2_0_7cfb8620bf\" x=\"44.805314\" y=\"251.559714\" style=\"fill: #fff5eb\"/>\n    </g>\n    <g clip-path=\"url(#pd7ab39bf1b)\">\n     <use xlink:href=\"#C2_0_7cfb8620bf\" x=\"44.805314\" y=\"239.678722\" style=\"fill: #fff5eb\"/>\n    </g>\n    <g clip-path=\"url(#pd7ab39bf1b)\">\n     <use xlink:href=\"#C2_0_7cfb8620bf\" x=\"44.805314\" y=\"227.79773\" style=\"fill: #fff5eb\"/>\n    </g>\n    <g clip-path=\"url(#pd7ab39bf1b)\">\n     <use xlink:href=\"#C2_0_7cfb8620bf\" x=\"44.805314\" y=\"215.916738\" style=\"fill: #fff5eb\"/>\n    </g>\n    <g clip-path=\"url(#pd7ab39bf1b)\">\n     <use xlink:href=\"#C2_0_7cfb8620bf\" x=\"51.656223\" y=\"334.726656\" style=\"fill: #fff5eb\"/>\n    </g>\n    <g clip-path=\"url(#pd7ab39bf1b)\">\n     <use xlink:href=\"#C2_0_7cfb8620bf\" x=\"51.656223\" y=\"322.845664\" style=\"fill: #fff5eb\"/>\n    </g>\n    <g clip-path=\"url(#pd7ab39bf1b)\">\n     <use xlink:href=\"#C2_0_7cfb8620bf\" x=\"51.656223\" y=\"310.964672\" style=\"fill: #fff5eb\"/>\n    </g>\n    <g clip-path=\"url(#pd7ab39bf1b)\">\n     <use xlink:href=\"#C2_0_7cfb8620bf\" x=\"51.656223\" y=\"299.08368\" style=\"fill: #fee9d4\"/>\n    </g>\n    <g clip-path=\"url(#pd7ab39bf1b)\">\n     <use xlink:href=\"#C2_0_7cfb8620bf\" x=\"51.656223\" y=\"287.202689\" style=\"fill: #fda762\"/>\n    </g>\n    <g clip-path=\"url(#pd7ab39bf1b)\">\n     <use xlink:href=\"#C2_0_7cfb8620bf\" x=\"51.656223\" y=\"275.321697\" style=\"fill: #fdb576\"/>\n    </g>\n    <g clip-path=\"url(#pd7ab39bf1b)\">\n     <use xlink:href=\"#C2_0_7cfb8620bf\" x=\"51.656223\" y=\"263.440705\" style=\"fill: #fee2c6\"/>\n    </g>\n    <g clip-path=\"url(#pd7ab39bf1b)\">\n     <use xlink:href=\"#C2_0_7cfb8620bf\" x=\"51.656223\" y=\"251.559714\" style=\"fill: #fdb576\"/>\n    </g>\n    <g clip-path=\"url(#pd7ab39bf1b)\">\n     <use xlink:href=\"#C2_0_7cfb8620bf\" x=\"51.656223\" y=\"239.678722\" style=\"fill: #fff5eb\"/>\n    </g>\n    <g clip-path=\"url(#pd7ab39bf1b)\">\n     <use xlink:href=\"#C2_0_7cfb8620bf\" x=\"51.656223\" y=\"227.79773\" style=\"fill: #fff5eb\"/>\n    </g>\n    <g clip-path=\"url(#pd7ab39bf1b)\">\n     <use xlink:href=\"#C2_0_7cfb8620bf\" x=\"51.656223\" y=\"215.916738\" style=\"fill: #fff5eb\"/>\n    </g>\n    <g clip-path=\"url(#pd7ab39bf1b)\">\n     <use xlink:href=\"#C2_0_7cfb8620bf\" x=\"58.507133\" y=\"334.726656\" style=\"fill: #fff5eb\"/>\n    </g>\n    <g clip-path=\"url(#pd7ab39bf1b)\">\n     <use xlink:href=\"#C2_0_7cfb8620bf\" x=\"58.507133\" y=\"322.845664\" style=\"fill: #fff5eb\"/>\n    </g>\n    <g clip-path=\"url(#pd7ab39bf1b)\">\n     <use xlink:href=\"#C2_0_7cfb8620bf\" x=\"58.507133\" y=\"310.964672\" style=\"fill: #fee9d4\"/>\n    </g>\n    <g clip-path=\"url(#pd7ab39bf1b)\">\n     <use xlink:href=\"#C2_0_7cfb8620bf\" x=\"58.507133\" y=\"299.08368\" style=\"fill: #fd9a4e\"/>\n    </g>\n    <g clip-path=\"url(#pd7ab39bf1b)\">\n     <use xlink:href=\"#C2_0_7cfb8620bf\" x=\"58.507133\" y=\"287.202689\" style=\"fill: #fd9a4e\"/>\n    </g>\n    <g clip-path=\"url(#pd7ab39bf1b)\">\n     <use xlink:href=\"#C2_0_7cfb8620bf\" x=\"58.507133\" y=\"275.321697\" style=\"fill: #fdd9b4\"/>\n    </g>\n    <g clip-path=\"url(#pd7ab39bf1b)\">\n     <use xlink:href=\"#C2_0_7cfb8620bf\" x=\"58.507133\" y=\"263.440705\" style=\"fill: #fda762\"/>\n    </g>\n    <g clip-path=\"url(#pd7ab39bf1b)\">\n     <use xlink:href=\"#C2_0_7cfb8620bf\" x=\"58.507133\" y=\"251.559714\" style=\"fill: #ffefe0\"/>\n    </g>\n    <g clip-path=\"url(#pd7ab39bf1b)\">\n     <use xlink:href=\"#C2_0_7cfb8620bf\" x=\"58.507133\" y=\"239.678722\" style=\"fill: #fff5eb\"/>\n    </g>\n    <g clip-path=\"url(#pd7ab39bf1b)\">\n     <use xlink:href=\"#C2_0_7cfb8620bf\" x=\"58.507133\" y=\"227.79773\" style=\"fill: #fff5eb\"/>\n    </g>\n    <g clip-path=\"url(#pd7ab39bf1b)\">\n     <use xlink:href=\"#C2_0_7cfb8620bf\" x=\"58.507133\" y=\"215.916738\" style=\"fill: #fff5eb\"/>\n    </g>\n    <g clip-path=\"url(#pd7ab39bf1b)\">\n     <use xlink:href=\"#C2_0_7cfb8620bf\" x=\"65.358042\" y=\"334.726656\" style=\"fill: #fff5eb\"/>\n    </g>\n    <g clip-path=\"url(#pd7ab39bf1b)\">\n     <use xlink:href=\"#C2_0_7cfb8620bf\" x=\"65.358042\" y=\"322.845664\" style=\"fill: #fff5eb\"/>\n    </g>\n    <g clip-path=\"url(#pd7ab39bf1b)\">\n     <use xlink:href=\"#C2_0_7cfb8620bf\" x=\"65.358042\" y=\"310.964672\" style=\"fill: #fdd9b4\"/>\n    </g>\n    <g clip-path=\"url(#pd7ab39bf1b)\">\n     <use xlink:href=\"#C2_0_7cfb8620bf\" x=\"65.358042\" y=\"299.08368\" style=\"fill: #fda762\"/>\n    </g>\n    <g clip-path=\"url(#pd7ab39bf1b)\">\n     <use xlink:href=\"#C2_0_7cfb8620bf\" x=\"65.358042\" y=\"287.202689\" style=\"fill: #fdd9b4\"/>\n    </g>\n    <g clip-path=\"url(#pd7ab39bf1b)\">\n     <use xlink:href=\"#C2_0_7cfb8620bf\" x=\"65.358042\" y=\"275.321697\" style=\"fill: #fdb576\"/>\n    </g>\n    <g clip-path=\"url(#pd7ab39bf1b)\">\n     <use xlink:href=\"#C2_0_7cfb8620bf\" x=\"65.358042\" y=\"263.440705\" style=\"fill: #fee9d4\"/>\n    </g>\n    <g clip-path=\"url(#pd7ab39bf1b)\">\n     <use xlink:href=\"#C2_0_7cfb8620bf\" x=\"65.358042\" y=\"251.559714\" style=\"fill: #fff5eb\"/>\n    </g>\n    <g clip-path=\"url(#pd7ab39bf1b)\">\n     <use xlink:href=\"#C2_0_7cfb8620bf\" x=\"65.358042\" y=\"239.678722\" style=\"fill: #fff5eb\"/>\n    </g>\n    <g clip-path=\"url(#pd7ab39bf1b)\">\n     <use xlink:href=\"#C2_0_7cfb8620bf\" x=\"65.358042\" y=\"227.79773\" style=\"fill: #fff5eb\"/>\n    </g>\n    <g clip-path=\"url(#pd7ab39bf1b)\">\n     <use xlink:href=\"#C2_0_7cfb8620bf\" x=\"65.358042\" y=\"215.916738\" style=\"fill: #fff5eb\"/>\n    </g>\n    <g clip-path=\"url(#pd7ab39bf1b)\">\n     <use xlink:href=\"#C2_0_7cfb8620bf\" x=\"72.208951\" y=\"334.726656\" style=\"fill: #fff5eb\"/>\n    </g>\n    <g clip-path=\"url(#pd7ab39bf1b)\">\n     <use xlink:href=\"#C2_0_7cfb8620bf\" x=\"72.208951\" y=\"322.845664\" style=\"fill: #fff5eb\"/>\n    </g>\n    <g clip-path=\"url(#pd7ab39bf1b)\">\n     <use xlink:href=\"#C2_0_7cfb8620bf\" x=\"72.208951\" y=\"310.964672\" style=\"fill: #fdc38d\"/>\n    </g>\n    <g clip-path=\"url(#pd7ab39bf1b)\">\n     <use xlink:href=\"#C2_0_7cfb8620bf\" x=\"72.208951\" y=\"299.08368\" style=\"fill: #f3701b\"/>\n    </g>\n    <g clip-path=\"url(#pd7ab39bf1b)\">\n     <use xlink:href=\"#C2_0_7cfb8620bf\" x=\"72.208951\" y=\"287.202689\" style=\"fill: #fda762\"/>\n    </g>\n    <g clip-path=\"url(#pd7ab39bf1b)\">\n     <use xlink:href=\"#C2_0_7cfb8620bf\" x=\"72.208951\" y=\"275.321697\" style=\"fill: #fdc38d\"/>\n    </g>\n    <g clip-path=\"url(#pd7ab39bf1b)\">\n     <use xlink:href=\"#C2_0_7cfb8620bf\" x=\"72.208951\" y=\"263.440705\" style=\"fill: #fee2c6\"/>\n    </g>\n    <g clip-path=\"url(#pd7ab39bf1b)\">\n     <use xlink:href=\"#C2_0_7cfb8620bf\" x=\"72.208951\" y=\"251.559714\" style=\"fill: #fff5eb\"/>\n    </g>\n    <g clip-path=\"url(#pd7ab39bf1b)\">\n     <use xlink:href=\"#C2_0_7cfb8620bf\" x=\"72.208951\" y=\"239.678722\" style=\"fill: #fff5eb\"/>\n    </g>\n    <g clip-path=\"url(#pd7ab39bf1b)\">\n     <use xlink:href=\"#C2_0_7cfb8620bf\" x=\"72.208951\" y=\"227.79773\" style=\"fill: #fff5eb\"/>\n    </g>\n    <g clip-path=\"url(#pd7ab39bf1b)\">\n     <use xlink:href=\"#C2_0_7cfb8620bf\" x=\"72.208951\" y=\"215.916738\" style=\"fill: #fff5eb\"/>\n    </g>\n    <g clip-path=\"url(#pd7ab39bf1b)\">\n     <use xlink:href=\"#C2_0_7cfb8620bf\" x=\"79.05986\" y=\"334.726656\" style=\"fill: #fff5eb\"/>\n    </g>\n    <g clip-path=\"url(#pd7ab39bf1b)\">\n     <use xlink:href=\"#C2_0_7cfb8620bf\" x=\"79.05986\" y=\"322.845664\" style=\"fill: #fff5eb\"/>\n    </g>\n    <g clip-path=\"url(#pd7ab39bf1b)\">\n     <use xlink:href=\"#C2_0_7cfb8620bf\" x=\"79.05986\" y=\"310.964672\" style=\"fill: #fdd0a2\"/>\n    </g>\n    <g clip-path=\"url(#pd7ab39bf1b)\">\n     <use xlink:href=\"#C2_0_7cfb8620bf\" x=\"79.05986\" y=\"299.08368\" style=\"fill: #fdd0a2\"/>\n    </g>\n    <g clip-path=\"url(#pd7ab39bf1b)\">\n     <use xlink:href=\"#C2_0_7cfb8620bf\" x=\"79.05986\" y=\"287.202689\" style=\"fill: #fdd9b4\"/>\n    </g>\n    <g clip-path=\"url(#pd7ab39bf1b)\">\n     <use xlink:href=\"#C2_0_7cfb8620bf\" x=\"79.05986\" y=\"275.321697\" style=\"fill: #fee9d4\"/>\n    </g>\n    <g clip-path=\"url(#pd7ab39bf1b)\">\n     <use xlink:href=\"#C2_0_7cfb8620bf\" x=\"79.05986\" y=\"263.440705\" style=\"fill: #fff5eb\"/>\n    </g>\n    <g clip-path=\"url(#pd7ab39bf1b)\">\n     <use xlink:href=\"#C2_0_7cfb8620bf\" x=\"79.05986\" y=\"251.559714\" style=\"fill: #fff5eb\"/>\n    </g>\n    <g clip-path=\"url(#pd7ab39bf1b)\">\n     <use xlink:href=\"#C2_0_7cfb8620bf\" x=\"79.05986\" y=\"239.678722\" style=\"fill: #fff5eb\"/>\n    </g>\n    <g clip-path=\"url(#pd7ab39bf1b)\">\n     <use xlink:href=\"#C2_0_7cfb8620bf\" x=\"79.05986\" y=\"227.79773\" style=\"fill: #fff5eb\"/>\n    </g>\n    <g clip-path=\"url(#pd7ab39bf1b)\">\n     <use xlink:href=\"#C2_0_7cfb8620bf\" x=\"79.05986\" y=\"215.916738\" style=\"fill: #fff5eb\"/>\n    </g>\n   </g>\n   <g id=\"matplotlib.axis_5\"/>\n   <g id=\"matplotlib.axis_6\"/>\n   <g id=\"patch_13\">\n    <path d=\"M 334.56 167.90175 \nL 334.56 24.14175 \n\" style=\"fill: none; stroke: #000000; stroke-width: 0.8; stroke-linejoin: miter; stroke-linecap: square\"/>\n   </g>\n   <g id=\"patch_14\">\n    <path d=\"M 485.28 167.90175 \nL 485.28 24.14175 \n\" style=\"fill: none; stroke: #000000; stroke-width: 0.8; stroke-linejoin: miter; stroke-linecap: square\"/>\n   </g>\n   <g id=\"patch_15\">\n    <path d=\"M 334.56 167.90175 \nL 485.28 167.90175 \n\" style=\"fill: none; stroke: #000000; stroke-width: 0.8; stroke-linejoin: miter; stroke-linecap: square\"/>\n   </g>\n   <g id=\"patch_16\">\n    <path d=\"M 334.56 24.14175 \nL 485.28 24.14175 \n\" style=\"fill: none; stroke: #000000; stroke-width: 0.8; stroke-linejoin: miter; stroke-linecap: square\"/>\n   </g>\n   <g id=\"text_3\">\n    <!-- love -->\n    <g transform=\"translate(394.8225 18.14175) scale(0.144 -0.144)\">\n     <defs>\n      <path id=\"DejaVuSans-6c\" d=\"M 603 4863 \nL 1178 4863 \nL 1178 0 \nL 603 0 \nL 603 4863 \nz\n\" transform=\"scale(0.015625)\"/>\n      <path id=\"DejaVuSans-76\" d=\"M 191 3500 \nL 800 3500 \nL 1894 563 \nL 2988 3500 \nL 3597 3500 \nL 2284 0 \nL 1503 0 \nL 191 3500 \nz\n\" transform=\"scale(0.015625)\"/>\n     </defs>\n     <use xlink:href=\"#DejaVuSans-6c\"/>\n     <use xlink:href=\"#DejaVuSans-6f\" x=\"27.783203\"/>\n     <use xlink:href=\"#DejaVuSans-76\" x=\"88.964844\"/>\n     <use xlink:href=\"#DejaVuSans-65\" x=\"148.144531\"/>\n    </g>\n   </g>\n  </g>\n  <g id=\"axes_4\">\n   <g id=\"patch_17\">\n    <path d=\"M 7.2 341.42175 \nL 157.92 341.42175 \nL 157.92 197.66175 \nL 7.2 197.66175 \nz\n\" style=\"fill: #ffffff\"/>\n   </g>\n   <g id=\"PolyCollection_4\">\n    <defs>\n     <path id=\"C3_0_5a05fc0a87\" d=\"M 70.602126 0.766512 \nL 70.602126 -3.193818 \nL 67.176671 -5.173983 \nL 63.751216 -3.193818 \nL 63.751216 0.766512 \nL 67.176671 2.746678 \nz\n\"/>\n    </defs>\n    <g clip-path=\"url(#pcf6fd9e426)\">\n     <use xlink:href=\"#C3_0_5a05fc0a87\" x=\"-53.125762\" y=\"336.100857\" style=\"fill: #fff5f0\"/>\n    </g>\n    <g clip-path=\"url(#pcf6fd9e426)\">\n     <use xlink:href=\"#C3_0_5a05fc0a87\" x=\"-53.125762\" y=\"324.219866\" style=\"fill: #fff5f0\"/>\n    </g>\n    <g clip-path=\"url(#pcf6fd9e426)\">\n     <use xlink:href=\"#C3_0_5a05fc0a87\" x=\"-53.125762\" y=\"312.338874\" style=\"fill: #fff5f0\"/>\n    </g>\n    <g clip-path=\"url(#pcf6fd9e426)\">\n     <use xlink:href=\"#C3_0_5a05fc0a87\" x=\"-53.125762\" y=\"300.457882\" style=\"fill: #fff5f0\"/>\n    </g>\n    <g clip-path=\"url(#pcf6fd9e426)\">\n     <use xlink:href=\"#C3_0_5a05fc0a87\" x=\"-53.125762\" y=\"288.576891\" style=\"fill: #fee2d5\"/>\n    </g>\n    <g clip-path=\"url(#pcf6fd9e426)\">\n     <use xlink:href=\"#C3_0_5a05fc0a87\" x=\"-53.125762\" y=\"276.695899\" style=\"fill: #fff0e9\"/>\n    </g>\n    <g clip-path=\"url(#pcf6fd9e426)\">\n     <use xlink:href=\"#C3_0_5a05fc0a87\" x=\"-53.125762\" y=\"264.814907\" style=\"fill: #fee2d5\"/>\n    </g>\n    <g clip-path=\"url(#pcf6fd9e426)\">\n     <use xlink:href=\"#C3_0_5a05fc0a87\" x=\"-53.125762\" y=\"252.933915\" style=\"fill: #ffece3\"/>\n    </g>\n    <g clip-path=\"url(#pcf6fd9e426)\">\n     <use xlink:href=\"#C3_0_5a05fc0a87\" x=\"-53.125762\" y=\"241.052924\" style=\"fill: #fff5f0\"/>\n    </g>\n    <g clip-path=\"url(#pcf6fd9e426)\">\n     <use xlink:href=\"#C3_0_5a05fc0a87\" x=\"-53.125762\" y=\"229.171932\" style=\"fill: #fff5f0\"/>\n    </g>\n    <g clip-path=\"url(#pcf6fd9e426)\">\n     <use xlink:href=\"#C3_0_5a05fc0a87\" x=\"-53.125762\" y=\"217.29094\" style=\"fill: #fff5f0\"/>\n    </g>\n    <g clip-path=\"url(#pcf6fd9e426)\">\n     <use xlink:href=\"#C3_0_5a05fc0a87\" x=\"-53.125762\" y=\"205.409948\" style=\"fill: #fff5f0\"/>\n    </g>\n    <g clip-path=\"url(#pcf6fd9e426)\">\n     <use xlink:href=\"#C3_0_5a05fc0a87\" x=\"-46.274853\" y=\"336.100857\" style=\"fill: #fff5f0\"/>\n    </g>\n    <g clip-path=\"url(#pcf6fd9e426)\">\n     <use xlink:href=\"#C3_0_5a05fc0a87\" x=\"-46.274853\" y=\"324.219866\" style=\"fill: #fff5f0\"/>\n    </g>\n    <g clip-path=\"url(#pcf6fd9e426)\">\n     <use xlink:href=\"#C3_0_5a05fc0a87\" x=\"-46.274853\" y=\"312.338874\" style=\"fill: #fff5f0\"/>\n    </g>\n    <g clip-path=\"url(#pcf6fd9e426)\">\n     <use xlink:href=\"#C3_0_5a05fc0a87\" x=\"-46.274853\" y=\"300.457882\" style=\"fill: #fee7dc\"/>\n    </g>\n    <g clip-path=\"url(#pcf6fd9e426)\">\n     <use xlink:href=\"#C3_0_5a05fc0a87\" x=\"-46.274853\" y=\"288.576891\" style=\"fill: #fdd3c1\"/>\n    </g>\n    <g clip-path=\"url(#pcf6fd9e426)\">\n     <use xlink:href=\"#C3_0_5a05fc0a87\" x=\"-46.274853\" y=\"276.695899\" style=\"fill: #67000d\"/>\n    </g>\n    <g clip-path=\"url(#pcf6fd9e426)\">\n     <use xlink:href=\"#C3_0_5a05fc0a87\" x=\"-46.274853\" y=\"264.814907\" style=\"fill: #75030f\"/>\n    </g>\n    <g clip-path=\"url(#pcf6fd9e426)\">\n     <use xlink:href=\"#C3_0_5a05fc0a87\" x=\"-46.274853\" y=\"252.933915\" style=\"fill: #fcb99f\"/>\n    </g>\n    <g clip-path=\"url(#pcf6fd9e426)\">\n     <use xlink:href=\"#C3_0_5a05fc0a87\" x=\"-46.274853\" y=\"241.052924\" style=\"fill: #fff5f0\"/>\n    </g>\n    <g clip-path=\"url(#pcf6fd9e426)\">\n     <use xlink:href=\"#C3_0_5a05fc0a87\" x=\"-46.274853\" y=\"229.171932\" style=\"fill: #fff5f0\"/>\n    </g>\n    <g clip-path=\"url(#pcf6fd9e426)\">\n     <use xlink:href=\"#C3_0_5a05fc0a87\" x=\"-46.274853\" y=\"217.29094\" style=\"fill: #fff5f0\"/>\n    </g>\n    <g clip-path=\"url(#pcf6fd9e426)\">\n     <use xlink:href=\"#C3_0_5a05fc0a87\" x=\"-46.274853\" y=\"205.409948\" style=\"fill: #fff5f0\"/>\n    </g>\n    <g clip-path=\"url(#pcf6fd9e426)\">\n     <use xlink:href=\"#C3_0_5a05fc0a87\" x=\"-39.423944\" y=\"336.100857\" style=\"fill: #fff5f0\"/>\n    </g>\n    <g clip-path=\"url(#pcf6fd9e426)\">\n     <use xlink:href=\"#C3_0_5a05fc0a87\" x=\"-39.423944\" y=\"324.219866\" style=\"fill: #fff5f0\"/>\n    </g>\n    <g clip-path=\"url(#pcf6fd9e426)\">\n     <use xlink:href=\"#C3_0_5a05fc0a87\" x=\"-39.423944\" y=\"312.338874\" style=\"fill: #fee2d5\"/>\n    </g>\n    <g clip-path=\"url(#pcf6fd9e426)\">\n     <use xlink:href=\"#C3_0_5a05fc0a87\" x=\"-39.423944\" y=\"300.457882\" style=\"fill: #fcaf93\"/>\n    </g>\n    <g clip-path=\"url(#pcf6fd9e426)\">\n     <use xlink:href=\"#C3_0_5a05fc0a87\" x=\"-39.423944\" y=\"288.576891\" style=\"fill: #fcc2aa\"/>\n    </g>\n    <g clip-path=\"url(#pcf6fd9e426)\">\n     <use xlink:href=\"#C3_0_5a05fc0a87\" x=\"-39.423944\" y=\"276.695899\" style=\"fill: #c4161c\"/>\n    </g>\n    <g clip-path=\"url(#pcf6fd9e426)\">\n     <use xlink:href=\"#C3_0_5a05fc0a87\" x=\"-39.423944\" y=\"264.814907\" style=\"fill: #e53228\"/>\n    </g>\n    <g clip-path=\"url(#pcf6fd9e426)\">\n     <use xlink:href=\"#C3_0_5a05fc0a87\" x=\"-39.423944\" y=\"252.933915\" style=\"fill: #900a12\"/>\n    </g>\n    <g clip-path=\"url(#pcf6fd9e426)\">\n     <use xlink:href=\"#C3_0_5a05fc0a87\" x=\"-39.423944\" y=\"241.052924\" style=\"fill: #fee7dc\"/>\n    </g>\n    <g clip-path=\"url(#pcf6fd9e426)\">\n     <use xlink:href=\"#C3_0_5a05fc0a87\" x=\"-39.423944\" y=\"229.171932\" style=\"fill: #fff5f0\"/>\n    </g>\n    <g clip-path=\"url(#pcf6fd9e426)\">\n     <use xlink:href=\"#C3_0_5a05fc0a87\" x=\"-39.423944\" y=\"217.29094\" style=\"fill: #fff5f0\"/>\n    </g>\n    <g clip-path=\"url(#pcf6fd9e426)\">\n     <use xlink:href=\"#C3_0_5a05fc0a87\" x=\"-39.423944\" y=\"205.409948\" style=\"fill: #fff5f0\"/>\n    </g>\n    <g clip-path=\"url(#pcf6fd9e426)\">\n     <use xlink:href=\"#C3_0_5a05fc0a87\" x=\"-32.573035\" y=\"336.100857\" style=\"fill: #fff5f0\"/>\n    </g>\n    <g clip-path=\"url(#pcf6fd9e426)\">\n     <use xlink:href=\"#C3_0_5a05fc0a87\" x=\"-32.573035\" y=\"324.219866\" style=\"fill: #fff5f0\"/>\n    </g>\n    <g clip-path=\"url(#pcf6fd9e426)\">\n     <use xlink:href=\"#C3_0_5a05fc0a87\" x=\"-32.573035\" y=\"312.338874\" style=\"fill: #fff0e9\"/>\n    </g>\n    <g clip-path=\"url(#pcf6fd9e426)\">\n     <use xlink:href=\"#C3_0_5a05fc0a87\" x=\"-32.573035\" y=\"300.457882\" style=\"fill: #fee2d5\"/>\n    </g>\n    <g clip-path=\"url(#pcf6fd9e426)\">\n     <use xlink:href=\"#C3_0_5a05fc0a87\" x=\"-32.573035\" y=\"288.576891\" style=\"fill: #fdd3c1\"/>\n    </g>\n    <g clip-path=\"url(#pcf6fd9e426)\">\n     <use xlink:href=\"#C3_0_5a05fc0a87\" x=\"-32.573035\" y=\"276.695899\" style=\"fill: #fc9373\"/>\n    </g>\n    <g clip-path=\"url(#pcf6fd9e426)\">\n     <use xlink:href=\"#C3_0_5a05fc0a87\" x=\"-32.573035\" y=\"264.814907\" style=\"fill: #f75b40\"/>\n    </g>\n    <g clip-path=\"url(#pcf6fd9e426)\">\n     <use xlink:href=\"#C3_0_5a05fc0a87\" x=\"-32.573035\" y=\"252.933915\" style=\"fill: #fb7757\"/>\n    </g>\n    <g clip-path=\"url(#pcf6fd9e426)\">\n     <use xlink:href=\"#C3_0_5a05fc0a87\" x=\"-32.573035\" y=\"241.052924\" style=\"fill: #fff0e9\"/>\n    </g>\n    <g clip-path=\"url(#pcf6fd9e426)\">\n     <use xlink:href=\"#C3_0_5a05fc0a87\" x=\"-32.573035\" y=\"229.171932\" style=\"fill: #fff5f0\"/>\n    </g>\n    <g clip-path=\"url(#pcf6fd9e426)\">\n     <use xlink:href=\"#C3_0_5a05fc0a87\" x=\"-32.573035\" y=\"217.29094\" style=\"fill: #fff5f0\"/>\n    </g>\n    <g clip-path=\"url(#pcf6fd9e426)\">\n     <use xlink:href=\"#C3_0_5a05fc0a87\" x=\"-32.573035\" y=\"205.409948\" style=\"fill: #fff5f0\"/>\n    </g>\n    <g clip-path=\"url(#pcf6fd9e426)\">\n     <use xlink:href=\"#C3_0_5a05fc0a87\" x=\"-25.722126\" y=\"336.100857\" style=\"fill: #fff5f0\"/>\n    </g>\n    <g clip-path=\"url(#pcf6fd9e426)\">\n     <use xlink:href=\"#C3_0_5a05fc0a87\" x=\"-25.722126\" y=\"324.219866\" style=\"fill: #ffece3\"/>\n    </g>\n    <g clip-path=\"url(#pcf6fd9e426)\">\n     <use xlink:href=\"#C3_0_5a05fc0a87\" x=\"-25.722126\" y=\"312.338874\" style=\"fill: #fff5f0\"/>\n    </g>\n    <g clip-path=\"url(#pcf6fd9e426)\">\n     <use xlink:href=\"#C3_0_5a05fc0a87\" x=\"-25.722126\" y=\"300.457882\" style=\"fill: #fff0e9\"/>\n    </g>\n    <g clip-path=\"url(#pcf6fd9e426)\">\n     <use xlink:href=\"#C3_0_5a05fc0a87\" x=\"-25.722126\" y=\"288.576891\" style=\"fill: #fc8a6a\"/>\n    </g>\n    <g clip-path=\"url(#pcf6fd9e426)\">\n     <use xlink:href=\"#C3_0_5a05fc0a87\" x=\"-25.722126\" y=\"276.695899\" style=\"fill: #ee3a2c\"/>\n    </g>\n    <g clip-path=\"url(#pcf6fd9e426)\">\n     <use xlink:href=\"#C3_0_5a05fc0a87\" x=\"-25.722126\" y=\"264.814907\" style=\"fill: #cc191e\"/>\n    </g>\n    <g clip-path=\"url(#pcf6fd9e426)\">\n     <use xlink:href=\"#C3_0_5a05fc0a87\" x=\"-25.722126\" y=\"252.933915\" style=\"fill: #67000d\"/>\n    </g>\n    <g clip-path=\"url(#pcf6fd9e426)\">\n     <use xlink:href=\"#C3_0_5a05fc0a87\" x=\"-25.722126\" y=\"241.052924\" style=\"fill: #fedbcc\"/>\n    </g>\n    <g clip-path=\"url(#pcf6fd9e426)\">\n     <use xlink:href=\"#C3_0_5a05fc0a87\" x=\"-25.722126\" y=\"229.171932\" style=\"fill: #fff5f0\"/>\n    </g>\n    <g clip-path=\"url(#pcf6fd9e426)\">\n     <use xlink:href=\"#C3_0_5a05fc0a87\" x=\"-25.722126\" y=\"217.29094\" style=\"fill: #fc8a6a\"/>\n    </g>\n    <g clip-path=\"url(#pcf6fd9e426)\">\n     <use xlink:href=\"#C3_0_5a05fc0a87\" x=\"-25.722126\" y=\"205.409948\" style=\"fill: #fff5f0\"/>\n    </g>\n    <g clip-path=\"url(#pcf6fd9e426)\">\n     <use xlink:href=\"#C3_0_5a05fc0a87\" x=\"-18.871216\" y=\"336.100857\" style=\"fill: #fff5f0\"/>\n    </g>\n    <g clip-path=\"url(#pcf6fd9e426)\">\n     <use xlink:href=\"#C3_0_5a05fc0a87\" x=\"-18.871216\" y=\"324.219866\" style=\"fill: #fee2d5\"/>\n    </g>\n    <g clip-path=\"url(#pcf6fd9e426)\">\n     <use xlink:href=\"#C3_0_5a05fc0a87\" x=\"-18.871216\" y=\"312.338874\" style=\"fill: #fff5f0\"/>\n    </g>\n    <g clip-path=\"url(#pcf6fd9e426)\">\n     <use xlink:href=\"#C3_0_5a05fc0a87\" x=\"-18.871216\" y=\"300.457882\" style=\"fill: #fc8a6a\"/>\n    </g>\n    <g clip-path=\"url(#pcf6fd9e426)\">\n     <use xlink:href=\"#C3_0_5a05fc0a87\" x=\"-18.871216\" y=\"288.576891\" style=\"fill: #fcaf93\"/>\n    </g>\n    <g clip-path=\"url(#pcf6fd9e426)\">\n     <use xlink:href=\"#C3_0_5a05fc0a87\" x=\"-18.871216\" y=\"276.695899\" style=\"fill: #fcb99f\"/>\n    </g>\n    <g clip-path=\"url(#pcf6fd9e426)\">\n     <use xlink:href=\"#C3_0_5a05fc0a87\" x=\"-18.871216\" y=\"264.814907\" style=\"fill: #fb6e4e\"/>\n    </g>\n    <g clip-path=\"url(#pcf6fd9e426)\">\n     <use xlink:href=\"#C3_0_5a05fc0a87\" x=\"-18.871216\" y=\"252.933915\" style=\"fill: #f14432\"/>\n    </g>\n    <g clip-path=\"url(#pcf6fd9e426)\">\n     <use xlink:href=\"#C3_0_5a05fc0a87\" x=\"-18.871216\" y=\"241.052924\" style=\"fill: #fee7dc\"/>\n    </g>\n    <g clip-path=\"url(#pcf6fd9e426)\">\n     <use xlink:href=\"#C3_0_5a05fc0a87\" x=\"-18.871216\" y=\"229.171932\" style=\"fill: #fee2d5\"/>\n    </g>\n    <g clip-path=\"url(#pcf6fd9e426)\">\n     <use xlink:href=\"#C3_0_5a05fc0a87\" x=\"-18.871216\" y=\"217.29094\" style=\"fill: #fee7dc\"/>\n    </g>\n    <g clip-path=\"url(#pcf6fd9e426)\">\n     <use xlink:href=\"#C3_0_5a05fc0a87\" x=\"-18.871216\" y=\"205.409948\" style=\"fill: #fff5f0\"/>\n    </g>\n    <g clip-path=\"url(#pcf6fd9e426)\">\n     <use xlink:href=\"#C3_0_5a05fc0a87\" x=\"-12.020307\" y=\"336.100857\" style=\"fill: #fff5f0\"/>\n    </g>\n    <g clip-path=\"url(#pcf6fd9e426)\">\n     <use xlink:href=\"#C3_0_5a05fc0a87\" x=\"-12.020307\" y=\"324.219866\" style=\"fill: #fff5f0\"/>\n    </g>\n    <g clip-path=\"url(#pcf6fd9e426)\">\n     <use xlink:href=\"#C3_0_5a05fc0a87\" x=\"-12.020307\" y=\"312.338874\" style=\"fill: #fff0e9\"/>\n    </g>\n    <g clip-path=\"url(#pcf6fd9e426)\">\n     <use xlink:href=\"#C3_0_5a05fc0a87\" x=\"-12.020307\" y=\"300.457882\" style=\"fill: #fcaf93\"/>\n    </g>\n    <g clip-path=\"url(#pcf6fd9e426)\">\n     <use xlink:href=\"#C3_0_5a05fc0a87\" x=\"-12.020307\" y=\"288.576891\" style=\"fill: #fdcab5\"/>\n    </g>\n    <g clip-path=\"url(#pcf6fd9e426)\">\n     <use xlink:href=\"#C3_0_5a05fc0a87\" x=\"-12.020307\" y=\"276.695899\" style=\"fill: #fdcab5\"/>\n    </g>\n    <g clip-path=\"url(#pcf6fd9e426)\">\n     <use xlink:href=\"#C3_0_5a05fc0a87\" x=\"-12.020307\" y=\"264.814907\" style=\"fill: #f44f39\"/>\n    </g>\n    <g clip-path=\"url(#pcf6fd9e426)\">\n     <use xlink:href=\"#C3_0_5a05fc0a87\" x=\"-12.020307\" y=\"252.933915\" style=\"fill: #fc8161\"/>\n    </g>\n    <g clip-path=\"url(#pcf6fd9e426)\">\n     <use xlink:href=\"#C3_0_5a05fc0a87\" x=\"-12.020307\" y=\"241.052924\" style=\"fill: #ffece3\"/>\n    </g>\n    <g clip-path=\"url(#pcf6fd9e426)\">\n     <use xlink:href=\"#C3_0_5a05fc0a87\" x=\"-12.020307\" y=\"229.171932\" style=\"fill: #fc8a6a\"/>\n    </g>\n    <g clip-path=\"url(#pcf6fd9e426)\">\n     <use xlink:href=\"#C3_0_5a05fc0a87\" x=\"-12.020307\" y=\"217.29094\" style=\"fill: #fc8a6a\"/>\n    </g>\n    <g clip-path=\"url(#pcf6fd9e426)\">\n     <use xlink:href=\"#C3_0_5a05fc0a87\" x=\"-12.020307\" y=\"205.409948\" style=\"fill: #ffece3\"/>\n    </g>\n    <g clip-path=\"url(#pcf6fd9e426)\">\n     <use xlink:href=\"#C3_0_5a05fc0a87\" x=\"-5.169398\" y=\"336.100857\" style=\"fill: #fff5f0\"/>\n    </g>\n    <g clip-path=\"url(#pcf6fd9e426)\">\n     <use xlink:href=\"#C3_0_5a05fc0a87\" x=\"-5.169398\" y=\"324.219866\" style=\"fill: #fff5f0\"/>\n    </g>\n    <g clip-path=\"url(#pcf6fd9e426)\">\n     <use xlink:href=\"#C3_0_5a05fc0a87\" x=\"-5.169398\" y=\"312.338874\" style=\"fill: #fff5f0\"/>\n    </g>\n    <g clip-path=\"url(#pcf6fd9e426)\">\n     <use xlink:href=\"#C3_0_5a05fc0a87\" x=\"-5.169398\" y=\"300.457882\" style=\"fill: #fee7dc\"/>\n    </g>\n    <g clip-path=\"url(#pcf6fd9e426)\">\n     <use xlink:href=\"#C3_0_5a05fc0a87\" x=\"-5.169398\" y=\"288.576891\" style=\"fill: #fee7dc\"/>\n    </g>\n    <g clip-path=\"url(#pcf6fd9e426)\">\n     <use xlink:href=\"#C3_0_5a05fc0a87\" x=\"-5.169398\" y=\"276.695899\" style=\"fill: #fee7dc\"/>\n    </g>\n    <g clip-path=\"url(#pcf6fd9e426)\">\n     <use xlink:href=\"#C3_0_5a05fc0a87\" x=\"-5.169398\" y=\"264.814907\" style=\"fill: #fb6e4e\"/>\n    </g>\n    <g clip-path=\"url(#pcf6fd9e426)\">\n     <use xlink:href=\"#C3_0_5a05fc0a87\" x=\"-5.169398\" y=\"252.933915\" style=\"fill: #fcc2aa\"/>\n    </g>\n    <g clip-path=\"url(#pcf6fd9e426)\">\n     <use xlink:href=\"#C3_0_5a05fc0a87\" x=\"-5.169398\" y=\"241.052924\" style=\"fill: #fc9d7f\"/>\n    </g>\n    <g clip-path=\"url(#pcf6fd9e426)\">\n     <use xlink:href=\"#C3_0_5a05fc0a87\" x=\"-5.169398\" y=\"229.171932\" style=\"fill: #fc8161\"/>\n    </g>\n    <g clip-path=\"url(#pcf6fd9e426)\">\n     <use xlink:href=\"#C3_0_5a05fc0a87\" x=\"-5.169398\" y=\"217.29094\" style=\"fill: #d52221\"/>\n    </g>\n    <g clip-path=\"url(#pcf6fd9e426)\">\n     <use xlink:href=\"#C3_0_5a05fc0a87\" x=\"-5.169398\" y=\"205.409948\" style=\"fill: #fee7dc\"/>\n    </g>\n    <g clip-path=\"url(#pcf6fd9e426)\">\n     <use xlink:href=\"#C3_0_5a05fc0a87\" x=\"1.681511\" y=\"336.100857\" style=\"fill: #fedbcc\"/>\n    </g>\n    <g clip-path=\"url(#pcf6fd9e426)\">\n     <use xlink:href=\"#C3_0_5a05fc0a87\" x=\"1.681511\" y=\"324.219866\" style=\"fill: #fee2d5\"/>\n    </g>\n    <g clip-path=\"url(#pcf6fd9e426)\">\n     <use xlink:href=\"#C3_0_5a05fc0a87\" x=\"1.681511\" y=\"312.338874\" style=\"fill: #fff0e9\"/>\n    </g>\n    <g clip-path=\"url(#pcf6fd9e426)\">\n     <use xlink:href=\"#C3_0_5a05fc0a87\" x=\"1.681511\" y=\"300.457882\" style=\"fill: #fff0e9\"/>\n    </g>\n    <g clip-path=\"url(#pcf6fd9e426)\">\n     <use xlink:href=\"#C3_0_5a05fc0a87\" x=\"1.681511\" y=\"288.576891\" style=\"fill: #fc8a6a\"/>\n    </g>\n    <g clip-path=\"url(#pcf6fd9e426)\">\n     <use xlink:href=\"#C3_0_5a05fc0a87\" x=\"1.681511\" y=\"276.695899\" style=\"fill: #fee7dc\"/>\n    </g>\n    <g clip-path=\"url(#pcf6fd9e426)\">\n     <use xlink:href=\"#C3_0_5a05fc0a87\" x=\"1.681511\" y=\"264.814907\" style=\"fill: #fc9d7f\"/>\n    </g>\n    <g clip-path=\"url(#pcf6fd9e426)\">\n     <use xlink:href=\"#C3_0_5a05fc0a87\" x=\"1.681511\" y=\"252.933915\" style=\"fill: #fee7dc\"/>\n    </g>\n    <g clip-path=\"url(#pcf6fd9e426)\">\n     <use xlink:href=\"#C3_0_5a05fc0a87\" x=\"1.681511\" y=\"241.052924\" style=\"fill: #fcb99f\"/>\n    </g>\n    <g clip-path=\"url(#pcf6fd9e426)\">\n     <use xlink:href=\"#C3_0_5a05fc0a87\" x=\"1.681511\" y=\"229.171932\" style=\"fill: #fc9d7f\"/>\n    </g>\n    <g clip-path=\"url(#pcf6fd9e426)\">\n     <use xlink:href=\"#C3_0_5a05fc0a87\" x=\"1.681511\" y=\"217.29094\" style=\"fill: #fff0e9\"/>\n    </g>\n    <g clip-path=\"url(#pcf6fd9e426)\">\n     <use xlink:href=\"#C3_0_5a05fc0a87\" x=\"1.681511\" y=\"205.409948\" style=\"fill: #fff5f0\"/>\n    </g>\n    <g clip-path=\"url(#pcf6fd9e426)\">\n     <use xlink:href=\"#C3_0_5a05fc0a87\" x=\"8.53242\" y=\"336.100857\" style=\"fill: #fdd3c1\"/>\n    </g>\n    <g clip-path=\"url(#pcf6fd9e426)\">\n     <use xlink:href=\"#C3_0_5a05fc0a87\" x=\"8.53242\" y=\"324.219866\" style=\"fill: #fc9373\"/>\n    </g>\n    <g clip-path=\"url(#pcf6fd9e426)\">\n     <use xlink:href=\"#C3_0_5a05fc0a87\" x=\"8.53242\" y=\"312.338874\" style=\"fill: #fee7dc\"/>\n    </g>\n    <g clip-path=\"url(#pcf6fd9e426)\">\n     <use xlink:href=\"#C3_0_5a05fc0a87\" x=\"8.53242\" y=\"300.457882\" style=\"fill: #fff5f0\"/>\n    </g>\n    <g clip-path=\"url(#pcf6fd9e426)\">\n     <use xlink:href=\"#C3_0_5a05fc0a87\" x=\"8.53242\" y=\"288.576891\" style=\"fill: #fdd3c1\"/>\n    </g>\n    <g clip-path=\"url(#pcf6fd9e426)\">\n     <use xlink:href=\"#C3_0_5a05fc0a87\" x=\"8.53242\" y=\"276.695899\" style=\"fill: #fdd3c1\"/>\n    </g>\n    <g clip-path=\"url(#pcf6fd9e426)\">\n     <use xlink:href=\"#C3_0_5a05fc0a87\" x=\"8.53242\" y=\"264.814907\" style=\"fill: #fcc2aa\"/>\n    </g>\n    <g clip-path=\"url(#pcf6fd9e426)\">\n     <use xlink:href=\"#C3_0_5a05fc0a87\" x=\"8.53242\" y=\"252.933915\" style=\"fill: #fff0e9\"/>\n    </g>\n    <g clip-path=\"url(#pcf6fd9e426)\">\n     <use xlink:href=\"#C3_0_5a05fc0a87\" x=\"8.53242\" y=\"241.052924\" style=\"fill: #fff5f0\"/>\n    </g>\n    <g clip-path=\"url(#pcf6fd9e426)\">\n     <use xlink:href=\"#C3_0_5a05fc0a87\" x=\"8.53242\" y=\"229.171932\" style=\"fill: #fff0e9\"/>\n    </g>\n    <g clip-path=\"url(#pcf6fd9e426)\">\n     <use xlink:href=\"#C3_0_5a05fc0a87\" x=\"8.53242\" y=\"217.29094\" style=\"fill: #fff5f0\"/>\n    </g>\n    <g clip-path=\"url(#pcf6fd9e426)\">\n     <use xlink:href=\"#C3_0_5a05fc0a87\" x=\"8.53242\" y=\"205.409948\" style=\"fill: #fff5f0\"/>\n    </g>\n    <g clip-path=\"url(#pcf6fd9e426)\">\n     <use xlink:href=\"#C3_0_5a05fc0a87\" x=\"15.383329\" y=\"336.100857\" style=\"fill: #fff5f0\"/>\n    </g>\n    <g clip-path=\"url(#pcf6fd9e426)\">\n     <use xlink:href=\"#C3_0_5a05fc0a87\" x=\"15.383329\" y=\"324.219866\" style=\"fill: #fff5f0\"/>\n    </g>\n    <g clip-path=\"url(#pcf6fd9e426)\">\n     <use xlink:href=\"#C3_0_5a05fc0a87\" x=\"15.383329\" y=\"312.338874\" style=\"fill: #fff0e9\"/>\n    </g>\n    <g clip-path=\"url(#pcf6fd9e426)\">\n     <use xlink:href=\"#C3_0_5a05fc0a87\" x=\"15.383329\" y=\"300.457882\" style=\"fill: #fff5f0\"/>\n    </g>\n    <g clip-path=\"url(#pcf6fd9e426)\">\n     <use xlink:href=\"#C3_0_5a05fc0a87\" x=\"15.383329\" y=\"288.576891\" style=\"fill: #fff0e9\"/>\n    </g>\n    <g clip-path=\"url(#pcf6fd9e426)\">\n     <use xlink:href=\"#C3_0_5a05fc0a87\" x=\"15.383329\" y=\"276.695899\" style=\"fill: #fff0e9\"/>\n    </g>\n    <g clip-path=\"url(#pcf6fd9e426)\">\n     <use xlink:href=\"#C3_0_5a05fc0a87\" x=\"15.383329\" y=\"264.814907\" style=\"fill: #fff0e9\"/>\n    </g>\n    <g clip-path=\"url(#pcf6fd9e426)\">\n     <use xlink:href=\"#C3_0_5a05fc0a87\" x=\"15.383329\" y=\"252.933915\" style=\"fill: #ffece3\"/>\n    </g>\n    <g clip-path=\"url(#pcf6fd9e426)\">\n     <use xlink:href=\"#C3_0_5a05fc0a87\" x=\"15.383329\" y=\"241.052924\" style=\"fill: #fff5f0\"/>\n    </g>\n    <g clip-path=\"url(#pcf6fd9e426)\">\n     <use xlink:href=\"#C3_0_5a05fc0a87\" x=\"15.383329\" y=\"229.171932\" style=\"fill: #fff5f0\"/>\n    </g>\n    <g clip-path=\"url(#pcf6fd9e426)\">\n     <use xlink:href=\"#C3_0_5a05fc0a87\" x=\"15.383329\" y=\"217.29094\" style=\"fill: #fff5f0\"/>\n    </g>\n    <g clip-path=\"url(#pcf6fd9e426)\">\n     <use xlink:href=\"#C3_0_5a05fc0a87\" x=\"15.383329\" y=\"205.409948\" style=\"fill: #fff5f0\"/>\n    </g>\n    <g clip-path=\"url(#pcf6fd9e426)\">\n     <use xlink:href=\"#C3_0_5a05fc0a87\" x=\"22.234238\" y=\"336.100857\" style=\"fill: #fff5f0\"/>\n    </g>\n    <g clip-path=\"url(#pcf6fd9e426)\">\n     <use xlink:href=\"#C3_0_5a05fc0a87\" x=\"22.234238\" y=\"324.219866\" style=\"fill: #fff5f0\"/>\n    </g>\n    <g clip-path=\"url(#pcf6fd9e426)\">\n     <use xlink:href=\"#C3_0_5a05fc0a87\" x=\"22.234238\" y=\"312.338874\" style=\"fill: #fff5f0\"/>\n    </g>\n    <g clip-path=\"url(#pcf6fd9e426)\">\n     <use xlink:href=\"#C3_0_5a05fc0a87\" x=\"22.234238\" y=\"300.457882\" style=\"fill: #ffece3\"/>\n    </g>\n    <g clip-path=\"url(#pcf6fd9e426)\">\n     <use xlink:href=\"#C3_0_5a05fc0a87\" x=\"22.234238\" y=\"288.576891\" style=\"fill: #fff0e9\"/>\n    </g>\n    <g clip-path=\"url(#pcf6fd9e426)\">\n     <use xlink:href=\"#C3_0_5a05fc0a87\" x=\"22.234238\" y=\"276.695899\" style=\"fill: #fff5f0\"/>\n    </g>\n    <g clip-path=\"url(#pcf6fd9e426)\">\n     <use xlink:href=\"#C3_0_5a05fc0a87\" x=\"22.234238\" y=\"264.814907\" style=\"fill: #fff5f0\"/>\n    </g>\n    <g clip-path=\"url(#pcf6fd9e426)\">\n     <use xlink:href=\"#C3_0_5a05fc0a87\" x=\"22.234238\" y=\"252.933915\" style=\"fill: #fff5f0\"/>\n    </g>\n    <g clip-path=\"url(#pcf6fd9e426)\">\n     <use xlink:href=\"#C3_0_5a05fc0a87\" x=\"22.234238\" y=\"241.052924\" style=\"fill: #fff5f0\"/>\n    </g>\n    <g clip-path=\"url(#pcf6fd9e426)\">\n     <use xlink:href=\"#C3_0_5a05fc0a87\" x=\"22.234238\" y=\"229.171932\" style=\"fill: #fff5f0\"/>\n    </g>\n    <g clip-path=\"url(#pcf6fd9e426)\">\n     <use xlink:href=\"#C3_0_5a05fc0a87\" x=\"22.234238\" y=\"217.29094\" style=\"fill: #fff5f0\"/>\n    </g>\n    <g clip-path=\"url(#pcf6fd9e426)\">\n     <use xlink:href=\"#C3_0_5a05fc0a87\" x=\"22.234238\" y=\"205.409948\" style=\"fill: #fff5f0\"/>\n    </g>\n    <g clip-path=\"url(#pcf6fd9e426)\">\n     <use xlink:href=\"#C3_0_5a05fc0a87\" x=\"29.085147\" y=\"336.100857\" style=\"fill: #fff5f0\"/>\n    </g>\n    <g clip-path=\"url(#pcf6fd9e426)\">\n     <use xlink:href=\"#C3_0_5a05fc0a87\" x=\"29.085147\" y=\"324.219866\" style=\"fill: #fff5f0\"/>\n    </g>\n    <g clip-path=\"url(#pcf6fd9e426)\">\n     <use xlink:href=\"#C3_0_5a05fc0a87\" x=\"29.085147\" y=\"312.338874\" style=\"fill: #fff5f0\"/>\n    </g>\n    <g clip-path=\"url(#pcf6fd9e426)\">\n     <use xlink:href=\"#C3_0_5a05fc0a87\" x=\"29.085147\" y=\"300.457882\" style=\"fill: #fff5f0\"/>\n    </g>\n    <g clip-path=\"url(#pcf6fd9e426)\">\n     <use xlink:href=\"#C3_0_5a05fc0a87\" x=\"29.085147\" y=\"288.576891\" style=\"fill: #fff5f0\"/>\n    </g>\n    <g clip-path=\"url(#pcf6fd9e426)\">\n     <use xlink:href=\"#C3_0_5a05fc0a87\" x=\"29.085147\" y=\"276.695899\" style=\"fill: #fff5f0\"/>\n    </g>\n    <g clip-path=\"url(#pcf6fd9e426)\">\n     <use xlink:href=\"#C3_0_5a05fc0a87\" x=\"29.085147\" y=\"264.814907\" style=\"fill: #fff5f0\"/>\n    </g>\n    <g clip-path=\"url(#pcf6fd9e426)\">\n     <use xlink:href=\"#C3_0_5a05fc0a87\" x=\"29.085147\" y=\"252.933915\" style=\"fill: #fff5f0\"/>\n    </g>\n    <g clip-path=\"url(#pcf6fd9e426)\">\n     <use xlink:href=\"#C3_0_5a05fc0a87\" x=\"29.085147\" y=\"241.052924\" style=\"fill: #fff5f0\"/>\n    </g>\n    <g clip-path=\"url(#pcf6fd9e426)\">\n     <use xlink:href=\"#C3_0_5a05fc0a87\" x=\"29.085147\" y=\"229.171932\" style=\"fill: #fff5f0\"/>\n    </g>\n    <g clip-path=\"url(#pcf6fd9e426)\">\n     <use xlink:href=\"#C3_0_5a05fc0a87\" x=\"29.085147\" y=\"217.29094\" style=\"fill: #fff5f0\"/>\n    </g>\n    <g clip-path=\"url(#pcf6fd9e426)\">\n     <use xlink:href=\"#C3_0_5a05fc0a87\" x=\"29.085147\" y=\"205.409948\" style=\"fill: #fff5f0\"/>\n    </g>\n    <g clip-path=\"url(#pcf6fd9e426)\">\n     <use xlink:href=\"#C3_0_5a05fc0a87\" x=\"35.936056\" y=\"336.100857\" style=\"fill: #fff5f0\"/>\n    </g>\n    <g clip-path=\"url(#pcf6fd9e426)\">\n     <use xlink:href=\"#C3_0_5a05fc0a87\" x=\"35.936056\" y=\"324.219866\" style=\"fill: #fff5f0\"/>\n    </g>\n    <g clip-path=\"url(#pcf6fd9e426)\">\n     <use xlink:href=\"#C3_0_5a05fc0a87\" x=\"35.936056\" y=\"312.338874\" style=\"fill: #fff5f0\"/>\n    </g>\n    <g clip-path=\"url(#pcf6fd9e426)\">\n     <use xlink:href=\"#C3_0_5a05fc0a87\" x=\"35.936056\" y=\"300.457882\" style=\"fill: #fff5f0\"/>\n    </g>\n    <g clip-path=\"url(#pcf6fd9e426)\">\n     <use xlink:href=\"#C3_0_5a05fc0a87\" x=\"35.936056\" y=\"288.576891\" style=\"fill: #fff5f0\"/>\n    </g>\n    <g clip-path=\"url(#pcf6fd9e426)\">\n     <use xlink:href=\"#C3_0_5a05fc0a87\" x=\"35.936056\" y=\"276.695899\" style=\"fill: #fff5f0\"/>\n    </g>\n    <g clip-path=\"url(#pcf6fd9e426)\">\n     <use xlink:href=\"#C3_0_5a05fc0a87\" x=\"35.936056\" y=\"264.814907\" style=\"fill: #fff0e9\"/>\n    </g>\n    <g clip-path=\"url(#pcf6fd9e426)\">\n     <use xlink:href=\"#C3_0_5a05fc0a87\" x=\"35.936056\" y=\"252.933915\" style=\"fill: #fff5f0\"/>\n    </g>\n    <g clip-path=\"url(#pcf6fd9e426)\">\n     <use xlink:href=\"#C3_0_5a05fc0a87\" x=\"35.936056\" y=\"241.052924\" style=\"fill: #fff5f0\"/>\n    </g>\n    <g clip-path=\"url(#pcf6fd9e426)\">\n     <use xlink:href=\"#C3_0_5a05fc0a87\" x=\"35.936056\" y=\"229.171932\" style=\"fill: #fff5f0\"/>\n    </g>\n    <g clip-path=\"url(#pcf6fd9e426)\">\n     <use xlink:href=\"#C3_0_5a05fc0a87\" x=\"35.936056\" y=\"217.29094\" style=\"fill: #fff5f0\"/>\n    </g>\n    <g clip-path=\"url(#pcf6fd9e426)\">\n     <use xlink:href=\"#C3_0_5a05fc0a87\" x=\"35.936056\" y=\"205.409948\" style=\"fill: #fff5f0\"/>\n    </g>\n    <g clip-path=\"url(#pcf6fd9e426)\">\n     <use xlink:href=\"#C3_0_5a05fc0a87\" x=\"42.786965\" y=\"336.100857\" style=\"fill: #fff5f0\"/>\n    </g>\n    <g clip-path=\"url(#pcf6fd9e426)\">\n     <use xlink:href=\"#C3_0_5a05fc0a87\" x=\"42.786965\" y=\"324.219866\" style=\"fill: #fff5f0\"/>\n    </g>\n    <g clip-path=\"url(#pcf6fd9e426)\">\n     <use xlink:href=\"#C3_0_5a05fc0a87\" x=\"42.786965\" y=\"312.338874\" style=\"fill: #fff5f0\"/>\n    </g>\n    <g clip-path=\"url(#pcf6fd9e426)\">\n     <use xlink:href=\"#C3_0_5a05fc0a87\" x=\"42.786965\" y=\"300.457882\" style=\"fill: #fff5f0\"/>\n    </g>\n    <g clip-path=\"url(#pcf6fd9e426)\">\n     <use xlink:href=\"#C3_0_5a05fc0a87\" x=\"42.786965\" y=\"288.576891\" style=\"fill: #fee7dc\"/>\n    </g>\n    <g clip-path=\"url(#pcf6fd9e426)\">\n     <use xlink:href=\"#C3_0_5a05fc0a87\" x=\"42.786965\" y=\"276.695899\" style=\"fill: #fee7dc\"/>\n    </g>\n    <g clip-path=\"url(#pcf6fd9e426)\">\n     <use xlink:href=\"#C3_0_5a05fc0a87\" x=\"42.786965\" y=\"264.814907\" style=\"fill: #fff5f0\"/>\n    </g>\n    <g clip-path=\"url(#pcf6fd9e426)\">\n     <use xlink:href=\"#C3_0_5a05fc0a87\" x=\"42.786965\" y=\"252.933915\" style=\"fill: #fff5f0\"/>\n    </g>\n    <g clip-path=\"url(#pcf6fd9e426)\">\n     <use xlink:href=\"#C3_0_5a05fc0a87\" x=\"42.786965\" y=\"241.052924\" style=\"fill: #fff5f0\"/>\n    </g>\n    <g clip-path=\"url(#pcf6fd9e426)\">\n     <use xlink:href=\"#C3_0_5a05fc0a87\" x=\"42.786965\" y=\"229.171932\" style=\"fill: #fff5f0\"/>\n    </g>\n    <g clip-path=\"url(#pcf6fd9e426)\">\n     <use xlink:href=\"#C3_0_5a05fc0a87\" x=\"42.786965\" y=\"217.29094\" style=\"fill: #fff5f0\"/>\n    </g>\n    <g clip-path=\"url(#pcf6fd9e426)\">\n     <use xlink:href=\"#C3_0_5a05fc0a87\" x=\"42.786965\" y=\"205.409948\" style=\"fill: #fff5f0\"/>\n    </g>\n    <g clip-path=\"url(#pcf6fd9e426)\">\n     <use xlink:href=\"#C3_0_5a05fc0a87\" x=\"49.637874\" y=\"336.100857\" style=\"fill: #fff5f0\"/>\n    </g>\n    <g clip-path=\"url(#pcf6fd9e426)\">\n     <use xlink:href=\"#C3_0_5a05fc0a87\" x=\"49.637874\" y=\"324.219866\" style=\"fill: #fff5f0\"/>\n    </g>\n    <g clip-path=\"url(#pcf6fd9e426)\">\n     <use xlink:href=\"#C3_0_5a05fc0a87\" x=\"49.637874\" y=\"312.338874\" style=\"fill: #fff5f0\"/>\n    </g>\n    <g clip-path=\"url(#pcf6fd9e426)\">\n     <use xlink:href=\"#C3_0_5a05fc0a87\" x=\"49.637874\" y=\"300.457882\" style=\"fill: #fff5f0\"/>\n    </g>\n    <g clip-path=\"url(#pcf6fd9e426)\">\n     <use xlink:href=\"#C3_0_5a05fc0a87\" x=\"49.637874\" y=\"288.576891\" style=\"fill: #fedbcc\"/>\n    </g>\n    <g clip-path=\"url(#pcf6fd9e426)\">\n     <use xlink:href=\"#C3_0_5a05fc0a87\" x=\"49.637874\" y=\"276.695899\" style=\"fill: #fdcab5\"/>\n    </g>\n    <g clip-path=\"url(#pcf6fd9e426)\">\n     <use xlink:href=\"#C3_0_5a05fc0a87\" x=\"49.637874\" y=\"264.814907\" style=\"fill: #fcc2aa\"/>\n    </g>\n    <g clip-path=\"url(#pcf6fd9e426)\">\n     <use xlink:href=\"#C3_0_5a05fc0a87\" x=\"49.637874\" y=\"252.933915\" style=\"fill: #fcaf93\"/>\n    </g>\n    <g clip-path=\"url(#pcf6fd9e426)\">\n     <use xlink:href=\"#C3_0_5a05fc0a87\" x=\"49.637874\" y=\"241.052924\" style=\"fill: #fff5f0\"/>\n    </g>\n    <g clip-path=\"url(#pcf6fd9e426)\">\n     <use xlink:href=\"#C3_0_5a05fc0a87\" x=\"49.637874\" y=\"229.171932\" style=\"fill: #fff5f0\"/>\n    </g>\n    <g clip-path=\"url(#pcf6fd9e426)\">\n     <use xlink:href=\"#C3_0_5a05fc0a87\" x=\"49.637874\" y=\"217.29094\" style=\"fill: #fff5f0\"/>\n    </g>\n    <g clip-path=\"url(#pcf6fd9e426)\">\n     <use xlink:href=\"#C3_0_5a05fc0a87\" x=\"49.637874\" y=\"205.409948\" style=\"fill: #fff5f0\"/>\n    </g>\n    <g clip-path=\"url(#pcf6fd9e426)\">\n     <use xlink:href=\"#C3_0_5a05fc0a87\" x=\"56.488784\" y=\"336.100857\" style=\"fill: #fff5f0\"/>\n    </g>\n    <g clip-path=\"url(#pcf6fd9e426)\">\n     <use xlink:href=\"#C3_0_5a05fc0a87\" x=\"56.488784\" y=\"324.219866\" style=\"fill: #fff5f0\"/>\n    </g>\n    <g clip-path=\"url(#pcf6fd9e426)\">\n     <use xlink:href=\"#C3_0_5a05fc0a87\" x=\"56.488784\" y=\"312.338874\" style=\"fill: #fff5f0\"/>\n    </g>\n    <g clip-path=\"url(#pcf6fd9e426)\">\n     <use xlink:href=\"#C3_0_5a05fc0a87\" x=\"56.488784\" y=\"300.457882\" style=\"fill: #fcc2aa\"/>\n    </g>\n    <g clip-path=\"url(#pcf6fd9e426)\">\n     <use xlink:href=\"#C3_0_5a05fc0a87\" x=\"56.488784\" y=\"288.576891\" style=\"fill: #fcaf93\"/>\n    </g>\n    <g clip-path=\"url(#pcf6fd9e426)\">\n     <use xlink:href=\"#C3_0_5a05fc0a87\" x=\"56.488784\" y=\"276.695899\" style=\"fill: #f75b40\"/>\n    </g>\n    <g clip-path=\"url(#pcf6fd9e426)\">\n     <use xlink:href=\"#C3_0_5a05fc0a87\" x=\"56.488784\" y=\"264.814907\" style=\"fill: #f14432\"/>\n    </g>\n    <g clip-path=\"url(#pcf6fd9e426)\">\n     <use xlink:href=\"#C3_0_5a05fc0a87\" x=\"56.488784\" y=\"252.933915\" style=\"fill: #fb7757\"/>\n    </g>\n    <g clip-path=\"url(#pcf6fd9e426)\">\n     <use xlink:href=\"#C3_0_5a05fc0a87\" x=\"56.488784\" y=\"241.052924\" style=\"fill: #fff5f0\"/>\n    </g>\n    <g clip-path=\"url(#pcf6fd9e426)\">\n     <use xlink:href=\"#C3_0_5a05fc0a87\" x=\"56.488784\" y=\"229.171932\" style=\"fill: #fff5f0\"/>\n    </g>\n    <g clip-path=\"url(#pcf6fd9e426)\">\n     <use xlink:href=\"#C3_0_5a05fc0a87\" x=\"56.488784\" y=\"217.29094\" style=\"fill: #fff5f0\"/>\n    </g>\n    <g clip-path=\"url(#pcf6fd9e426)\">\n     <use xlink:href=\"#C3_0_5a05fc0a87\" x=\"56.488784\" y=\"205.409948\" style=\"fill: #fff5f0\"/>\n    </g>\n    <g clip-path=\"url(#pcf6fd9e426)\">\n     <use xlink:href=\"#C3_0_5a05fc0a87\" x=\"63.339693\" y=\"336.100857\" style=\"fill: #fff5f0\"/>\n    </g>\n    <g clip-path=\"url(#pcf6fd9e426)\">\n     <use xlink:href=\"#C3_0_5a05fc0a87\" x=\"63.339693\" y=\"324.219866\" style=\"fill: #fff5f0\"/>\n    </g>\n    <g clip-path=\"url(#pcf6fd9e426)\">\n     <use xlink:href=\"#C3_0_5a05fc0a87\" x=\"63.339693\" y=\"312.338874\" style=\"fill: #fff0e9\"/>\n    </g>\n    <g clip-path=\"url(#pcf6fd9e426)\">\n     <use xlink:href=\"#C3_0_5a05fc0a87\" x=\"63.339693\" y=\"300.457882\" style=\"fill: #f75b40\"/>\n    </g>\n    <g clip-path=\"url(#pcf6fd9e426)\">\n     <use xlink:href=\"#C3_0_5a05fc0a87\" x=\"63.339693\" y=\"288.576891\" style=\"fill: #fc9d7f\"/>\n    </g>\n    <g clip-path=\"url(#pcf6fd9e426)\">\n     <use xlink:href=\"#C3_0_5a05fc0a87\" x=\"63.339693\" y=\"276.695899\" style=\"fill: #fb6e4e\"/>\n    </g>\n    <g clip-path=\"url(#pcf6fd9e426)\">\n     <use xlink:href=\"#C3_0_5a05fc0a87\" x=\"63.339693\" y=\"264.814907\" style=\"fill: #fcaf93\"/>\n    </g>\n    <g clip-path=\"url(#pcf6fd9e426)\">\n     <use xlink:href=\"#C3_0_5a05fc0a87\" x=\"63.339693\" y=\"252.933915\" style=\"fill: #fee7dc\"/>\n    </g>\n    <g clip-path=\"url(#pcf6fd9e426)\">\n     <use xlink:href=\"#C3_0_5a05fc0a87\" x=\"63.339693\" y=\"241.052924\" style=\"fill: #fff5f0\"/>\n    </g>\n    <g clip-path=\"url(#pcf6fd9e426)\">\n     <use xlink:href=\"#C3_0_5a05fc0a87\" x=\"63.339693\" y=\"229.171932\" style=\"fill: #fff5f0\"/>\n    </g>\n    <g clip-path=\"url(#pcf6fd9e426)\">\n     <use xlink:href=\"#C3_0_5a05fc0a87\" x=\"63.339693\" y=\"217.29094\" style=\"fill: #fff5f0\"/>\n    </g>\n    <g clip-path=\"url(#pcf6fd9e426)\">\n     <use xlink:href=\"#C3_0_5a05fc0a87\" x=\"63.339693\" y=\"205.409948\" style=\"fill: #fff5f0\"/>\n    </g>\n    <g clip-path=\"url(#pcf6fd9e426)\">\n     <use xlink:href=\"#C3_0_5a05fc0a87\" x=\"70.190602\" y=\"336.100857\" style=\"fill: #fff5f0\"/>\n    </g>\n    <g clip-path=\"url(#pcf6fd9e426)\">\n     <use xlink:href=\"#C3_0_5a05fc0a87\" x=\"70.190602\" y=\"324.219866\" style=\"fill: #fff5f0\"/>\n    </g>\n    <g clip-path=\"url(#pcf6fd9e426)\">\n     <use xlink:href=\"#C3_0_5a05fc0a87\" x=\"70.190602\" y=\"312.338874\" style=\"fill: #fdcab5\"/>\n    </g>\n    <g clip-path=\"url(#pcf6fd9e426)\">\n     <use xlink:href=\"#C3_0_5a05fc0a87\" x=\"70.190602\" y=\"300.457882\" style=\"fill: #fdcab5\"/>\n    </g>\n    <g clip-path=\"url(#pcf6fd9e426)\">\n     <use xlink:href=\"#C3_0_5a05fc0a87\" x=\"70.190602\" y=\"288.576891\" style=\"fill: #fca689\"/>\n    </g>\n    <g clip-path=\"url(#pcf6fd9e426)\">\n     <use xlink:href=\"#C3_0_5a05fc0a87\" x=\"70.190602\" y=\"276.695899\" style=\"fill: #f75b40\"/>\n    </g>\n    <g clip-path=\"url(#pcf6fd9e426)\">\n     <use xlink:href=\"#C3_0_5a05fc0a87\" x=\"70.190602\" y=\"264.814907\" style=\"fill: #fcb99f\"/>\n    </g>\n    <g clip-path=\"url(#pcf6fd9e426)\">\n     <use xlink:href=\"#C3_0_5a05fc0a87\" x=\"70.190602\" y=\"252.933915\" style=\"fill: #fff5f0\"/>\n    </g>\n    <g clip-path=\"url(#pcf6fd9e426)\">\n     <use xlink:href=\"#C3_0_5a05fc0a87\" x=\"70.190602\" y=\"241.052924\" style=\"fill: #fff5f0\"/>\n    </g>\n    <g clip-path=\"url(#pcf6fd9e426)\">\n     <use xlink:href=\"#C3_0_5a05fc0a87\" x=\"70.190602\" y=\"229.171932\" style=\"fill: #fff5f0\"/>\n    </g>\n    <g clip-path=\"url(#pcf6fd9e426)\">\n     <use xlink:href=\"#C3_0_5a05fc0a87\" x=\"70.190602\" y=\"217.29094\" style=\"fill: #fff5f0\"/>\n    </g>\n    <g clip-path=\"url(#pcf6fd9e426)\">\n     <use xlink:href=\"#C3_0_5a05fc0a87\" x=\"70.190602\" y=\"205.409948\" style=\"fill: #fff5f0\"/>\n    </g>\n    <g clip-path=\"url(#pcf6fd9e426)\">\n     <use xlink:href=\"#C3_0_5a05fc0a87\" x=\"77.041511\" y=\"336.100857\" style=\"fill: #fff5f0\"/>\n    </g>\n    <g clip-path=\"url(#pcf6fd9e426)\">\n     <use xlink:href=\"#C3_0_5a05fc0a87\" x=\"77.041511\" y=\"324.219866\" style=\"fill: #fff5f0\"/>\n    </g>\n    <g clip-path=\"url(#pcf6fd9e426)\">\n     <use xlink:href=\"#C3_0_5a05fc0a87\" x=\"77.041511\" y=\"312.338874\" style=\"fill: #fdcab5\"/>\n    </g>\n    <g clip-path=\"url(#pcf6fd9e426)\">\n     <use xlink:href=\"#C3_0_5a05fc0a87\" x=\"77.041511\" y=\"300.457882\" style=\"fill: #f44f39\"/>\n    </g>\n    <g clip-path=\"url(#pcf6fd9e426)\">\n     <use xlink:href=\"#C3_0_5a05fc0a87\" x=\"77.041511\" y=\"288.576891\" style=\"fill: #fcaf93\"/>\n    </g>\n    <g clip-path=\"url(#pcf6fd9e426)\">\n     <use xlink:href=\"#C3_0_5a05fc0a87\" x=\"77.041511\" y=\"276.695899\" style=\"fill: #fca689\"/>\n    </g>\n    <g clip-path=\"url(#pcf6fd9e426)\">\n     <use xlink:href=\"#C3_0_5a05fc0a87\" x=\"77.041511\" y=\"264.814907\" style=\"fill: #fdcab5\"/>\n    </g>\n    <g clip-path=\"url(#pcf6fd9e426)\">\n     <use xlink:href=\"#C3_0_5a05fc0a87\" x=\"77.041511\" y=\"252.933915\" style=\"fill: #fff5f0\"/>\n    </g>\n    <g clip-path=\"url(#pcf6fd9e426)\">\n     <use xlink:href=\"#C3_0_5a05fc0a87\" x=\"77.041511\" y=\"241.052924\" style=\"fill: #fff5f0\"/>\n    </g>\n    <g clip-path=\"url(#pcf6fd9e426)\">\n     <use xlink:href=\"#C3_0_5a05fc0a87\" x=\"77.041511\" y=\"229.171932\" style=\"fill: #fff5f0\"/>\n    </g>\n    <g clip-path=\"url(#pcf6fd9e426)\">\n     <use xlink:href=\"#C3_0_5a05fc0a87\" x=\"77.041511\" y=\"217.29094\" style=\"fill: #fff5f0\"/>\n    </g>\n    <g clip-path=\"url(#pcf6fd9e426)\">\n     <use xlink:href=\"#C3_0_5a05fc0a87\" x=\"77.041511\" y=\"205.409948\" style=\"fill: #fff5f0\"/>\n    </g>\n    <g clip-path=\"url(#pcf6fd9e426)\">\n     <use xlink:href=\"#C3_0_5a05fc0a87\" x=\"83.89242\" y=\"336.100857\" style=\"fill: #fff5f0\"/>\n    </g>\n    <g clip-path=\"url(#pcf6fd9e426)\">\n     <use xlink:href=\"#C3_0_5a05fc0a87\" x=\"83.89242\" y=\"324.219866\" style=\"fill: #fff5f0\"/>\n    </g>\n    <g clip-path=\"url(#pcf6fd9e426)\">\n     <use xlink:href=\"#C3_0_5a05fc0a87\" x=\"83.89242\" y=\"312.338874\" style=\"fill: #fff5f0\"/>\n    </g>\n    <g clip-path=\"url(#pcf6fd9e426)\">\n     <use xlink:href=\"#C3_0_5a05fc0a87\" x=\"83.89242\" y=\"300.457882\" style=\"fill: #fc8a6a\"/>\n    </g>\n    <g clip-path=\"url(#pcf6fd9e426)\">\n     <use xlink:href=\"#C3_0_5a05fc0a87\" x=\"83.89242\" y=\"288.576891\" style=\"fill: #fdd3c1\"/>\n    </g>\n    <g clip-path=\"url(#pcf6fd9e426)\">\n     <use xlink:href=\"#C3_0_5a05fc0a87\" x=\"83.89242\" y=\"276.695899\" style=\"fill: #ffece3\"/>\n    </g>\n    <g clip-path=\"url(#pcf6fd9e426)\">\n     <use xlink:href=\"#C3_0_5a05fc0a87\" x=\"83.89242\" y=\"264.814907\" style=\"fill: #fee2d5\"/>\n    </g>\n    <g clip-path=\"url(#pcf6fd9e426)\">\n     <use xlink:href=\"#C3_0_5a05fc0a87\" x=\"83.89242\" y=\"252.933915\" style=\"fill: #fff5f0\"/>\n    </g>\n    <g clip-path=\"url(#pcf6fd9e426)\">\n     <use xlink:href=\"#C3_0_5a05fc0a87\" x=\"83.89242\" y=\"241.052924\" style=\"fill: #fff5f0\"/>\n    </g>\n    <g clip-path=\"url(#pcf6fd9e426)\">\n     <use xlink:href=\"#C3_0_5a05fc0a87\" x=\"83.89242\" y=\"229.171932\" style=\"fill: #fff5f0\"/>\n    </g>\n    <g clip-path=\"url(#pcf6fd9e426)\">\n     <use xlink:href=\"#C3_0_5a05fc0a87\" x=\"83.89242\" y=\"217.29094\" style=\"fill: #fff5f0\"/>\n    </g>\n    <g clip-path=\"url(#pcf6fd9e426)\">\n     <use xlink:href=\"#C3_0_5a05fc0a87\" x=\"83.89242\" y=\"205.409948\" style=\"fill: #fff5f0\"/>\n    </g>\n    <g clip-path=\"url(#pcf6fd9e426)\">\n     <use xlink:href=\"#C3_0_5a05fc0a87\" x=\"-49.700307\" y=\"330.160362\" style=\"fill: #fff5f0\"/>\n    </g>\n    <g clip-path=\"url(#pcf6fd9e426)\">\n     <use xlink:href=\"#C3_0_5a05fc0a87\" x=\"-49.700307\" y=\"318.27937\" style=\"fill: #fff5f0\"/>\n    </g>\n    <g clip-path=\"url(#pcf6fd9e426)\">\n     <use xlink:href=\"#C3_0_5a05fc0a87\" x=\"-49.700307\" y=\"306.398378\" style=\"fill: #fff5f0\"/>\n    </g>\n    <g clip-path=\"url(#pcf6fd9e426)\">\n     <use xlink:href=\"#C3_0_5a05fc0a87\" x=\"-49.700307\" y=\"294.517386\" style=\"fill: #fee7dc\"/>\n    </g>\n    <g clip-path=\"url(#pcf6fd9e426)\">\n     <use xlink:href=\"#C3_0_5a05fc0a87\" x=\"-49.700307\" y=\"282.636395\" style=\"fill: #f14432\"/>\n    </g>\n    <g clip-path=\"url(#pcf6fd9e426)\">\n     <use xlink:href=\"#C3_0_5a05fc0a87\" x=\"-49.700307\" y=\"270.755403\" style=\"fill: #f75b40\"/>\n    </g>\n    <g clip-path=\"url(#pcf6fd9e426)\">\n     <use xlink:href=\"#C3_0_5a05fc0a87\" x=\"-49.700307\" y=\"258.874411\" style=\"fill: #fcc2aa\"/>\n    </g>\n    <g clip-path=\"url(#pcf6fd9e426)\">\n     <use xlink:href=\"#C3_0_5a05fc0a87\" x=\"-49.700307\" y=\"246.993419\" style=\"fill: #fff5f0\"/>\n    </g>\n    <g clip-path=\"url(#pcf6fd9e426)\">\n     <use xlink:href=\"#C3_0_5a05fc0a87\" x=\"-49.700307\" y=\"235.112428\" style=\"fill: #fff5f0\"/>\n    </g>\n    <g clip-path=\"url(#pcf6fd9e426)\">\n     <use xlink:href=\"#C3_0_5a05fc0a87\" x=\"-49.700307\" y=\"223.231436\" style=\"fill: #fff5f0\"/>\n    </g>\n    <g clip-path=\"url(#pcf6fd9e426)\">\n     <use xlink:href=\"#C3_0_5a05fc0a87\" x=\"-49.700307\" y=\"211.350444\" style=\"fill: #fff5f0\"/>\n    </g>\n    <g clip-path=\"url(#pcf6fd9e426)\">\n     <use xlink:href=\"#C3_0_5a05fc0a87\" x=\"-42.849398\" y=\"330.160362\" style=\"fill: #fff5f0\"/>\n    </g>\n    <g clip-path=\"url(#pcf6fd9e426)\">\n     <use xlink:href=\"#C3_0_5a05fc0a87\" x=\"-42.849398\" y=\"318.27937\" style=\"fill: #fff5f0\"/>\n    </g>\n    <g clip-path=\"url(#pcf6fd9e426)\">\n     <use xlink:href=\"#C3_0_5a05fc0a87\" x=\"-42.849398\" y=\"306.398378\" style=\"fill: #fdd3c1\"/>\n    </g>\n    <g clip-path=\"url(#pcf6fd9e426)\">\n     <use xlink:href=\"#C3_0_5a05fc0a87\" x=\"-42.849398\" y=\"294.517386\" style=\"fill: #fcc2aa\"/>\n    </g>\n    <g clip-path=\"url(#pcf6fd9e426)\">\n     <use xlink:href=\"#C3_0_5a05fc0a87\" x=\"-42.849398\" y=\"282.636395\" style=\"fill: #fb6e4e\"/>\n    </g>\n    <g clip-path=\"url(#pcf6fd9e426)\">\n     <use xlink:href=\"#C3_0_5a05fc0a87\" x=\"-42.849398\" y=\"270.755403\" style=\"fill: #820711\"/>\n    </g>\n    <g clip-path=\"url(#pcf6fd9e426)\">\n     <use xlink:href=\"#C3_0_5a05fc0a87\" x=\"-42.849398\" y=\"258.874411\" style=\"fill: #f14432\"/>\n    </g>\n    <g clip-path=\"url(#pcf6fd9e426)\">\n     <use xlink:href=\"#C3_0_5a05fc0a87\" x=\"-42.849398\" y=\"246.993419\" style=\"fill: #fcaf93\"/>\n    </g>\n    <g clip-path=\"url(#pcf6fd9e426)\">\n     <use xlink:href=\"#C3_0_5a05fc0a87\" x=\"-42.849398\" y=\"235.112428\" style=\"fill: #fff5f0\"/>\n    </g>\n    <g clip-path=\"url(#pcf6fd9e426)\">\n     <use xlink:href=\"#C3_0_5a05fc0a87\" x=\"-42.849398\" y=\"223.231436\" style=\"fill: #fff5f0\"/>\n    </g>\n    <g clip-path=\"url(#pcf6fd9e426)\">\n     <use xlink:href=\"#C3_0_5a05fc0a87\" x=\"-42.849398\" y=\"211.350444\" style=\"fill: #fff5f0\"/>\n    </g>\n    <g clip-path=\"url(#pcf6fd9e426)\">\n     <use xlink:href=\"#C3_0_5a05fc0a87\" x=\"-35.998489\" y=\"330.160362\" style=\"fill: #fff5f0\"/>\n    </g>\n    <g clip-path=\"url(#pcf6fd9e426)\">\n     <use xlink:href=\"#C3_0_5a05fc0a87\" x=\"-35.998489\" y=\"318.27937\" style=\"fill: #fee7dc\"/>\n    </g>\n    <g clip-path=\"url(#pcf6fd9e426)\">\n     <use xlink:href=\"#C3_0_5a05fc0a87\" x=\"-35.998489\" y=\"306.398378\" style=\"fill: #fdcab5\"/>\n    </g>\n    <g clip-path=\"url(#pcf6fd9e426)\">\n     <use xlink:href=\"#C3_0_5a05fc0a87\" x=\"-35.998489\" y=\"294.517386\" style=\"fill: #fc9d7f\"/>\n    </g>\n    <g clip-path=\"url(#pcf6fd9e426)\">\n     <use xlink:href=\"#C3_0_5a05fc0a87\" x=\"-35.998489\" y=\"282.636395\" style=\"fill: #fa6547\"/>\n    </g>\n    <g clip-path=\"url(#pcf6fd9e426)\">\n     <use xlink:href=\"#C3_0_5a05fc0a87\" x=\"-35.998489\" y=\"270.755403\" style=\"fill: #cc191e\"/>\n    </g>\n    <g clip-path=\"url(#pcf6fd9e426)\">\n     <use xlink:href=\"#C3_0_5a05fc0a87\" x=\"-35.998489\" y=\"258.874411\" style=\"fill: #d52221\"/>\n    </g>\n    <g clip-path=\"url(#pcf6fd9e426)\">\n     <use xlink:href=\"#C3_0_5a05fc0a87\" x=\"-35.998489\" y=\"246.993419\" style=\"fill: #dd2a25\"/>\n    </g>\n    <g clip-path=\"url(#pcf6fd9e426)\">\n     <use xlink:href=\"#C3_0_5a05fc0a87\" x=\"-35.998489\" y=\"235.112428\" style=\"fill: #fff5f0\"/>\n    </g>\n    <g clip-path=\"url(#pcf6fd9e426)\">\n     <use xlink:href=\"#C3_0_5a05fc0a87\" x=\"-35.998489\" y=\"223.231436\" style=\"fill: #fff5f0\"/>\n    </g>\n    <g clip-path=\"url(#pcf6fd9e426)\">\n     <use xlink:href=\"#C3_0_5a05fc0a87\" x=\"-35.998489\" y=\"211.350444\" style=\"fill: #fff5f0\"/>\n    </g>\n    <g clip-path=\"url(#pcf6fd9e426)\">\n     <use xlink:href=\"#C3_0_5a05fc0a87\" x=\"-29.14758\" y=\"330.160362\" style=\"fill: #fff5f0\"/>\n    </g>\n    <g clip-path=\"url(#pcf6fd9e426)\">\n     <use xlink:href=\"#C3_0_5a05fc0a87\" x=\"-29.14758\" y=\"318.27937\" style=\"fill: #ffece3\"/>\n    </g>\n    <g clip-path=\"url(#pcf6fd9e426)\">\n     <use xlink:href=\"#C3_0_5a05fc0a87\" x=\"-29.14758\" y=\"306.398378\" style=\"fill: #ffece3\"/>\n    </g>\n    <g clip-path=\"url(#pcf6fd9e426)\">\n     <use xlink:href=\"#C3_0_5a05fc0a87\" x=\"-29.14758\" y=\"294.517386\" style=\"fill: #fcb99f\"/>\n    </g>\n    <g clip-path=\"url(#pcf6fd9e426)\">\n     <use xlink:href=\"#C3_0_5a05fc0a87\" x=\"-29.14758\" y=\"282.636395\" style=\"fill: #fca689\"/>\n    </g>\n    <g clip-path=\"url(#pcf6fd9e426)\">\n     <use xlink:href=\"#C3_0_5a05fc0a87\" x=\"-29.14758\" y=\"270.755403\" style=\"fill: #f14432\"/>\n    </g>\n    <g clip-path=\"url(#pcf6fd9e426)\">\n     <use xlink:href=\"#C3_0_5a05fc0a87\" x=\"-29.14758\" y=\"258.874411\" style=\"fill: #ee3a2c\"/>\n    </g>\n    <g clip-path=\"url(#pcf6fd9e426)\">\n     <use xlink:href=\"#C3_0_5a05fc0a87\" x=\"-29.14758\" y=\"246.993419\" style=\"fill: #fb6e4e\"/>\n    </g>\n    <g clip-path=\"url(#pcf6fd9e426)\">\n     <use xlink:href=\"#C3_0_5a05fc0a87\" x=\"-29.14758\" y=\"235.112428\" style=\"fill: #fff5f0\"/>\n    </g>\n    <g clip-path=\"url(#pcf6fd9e426)\">\n     <use xlink:href=\"#C3_0_5a05fc0a87\" x=\"-29.14758\" y=\"223.231436\" style=\"fill: #fc9373\"/>\n    </g>\n    <g clip-path=\"url(#pcf6fd9e426)\">\n     <use xlink:href=\"#C3_0_5a05fc0a87\" x=\"-29.14758\" y=\"211.350444\" style=\"fill: #fff5f0\"/>\n    </g>\n    <g clip-path=\"url(#pcf6fd9e426)\">\n     <use xlink:href=\"#C3_0_5a05fc0a87\" x=\"-22.296671\" y=\"330.160362\" style=\"fill: #ffece3\"/>\n    </g>\n    <g clip-path=\"url(#pcf6fd9e426)\">\n     <use xlink:href=\"#C3_0_5a05fc0a87\" x=\"-22.296671\" y=\"318.27937\" style=\"fill: #ffece3\"/>\n    </g>\n    <g clip-path=\"url(#pcf6fd9e426)\">\n     <use xlink:href=\"#C3_0_5a05fc0a87\" x=\"-22.296671\" y=\"306.398378\" style=\"fill: #fee2d5\"/>\n    </g>\n    <g clip-path=\"url(#pcf6fd9e426)\">\n     <use xlink:href=\"#C3_0_5a05fc0a87\" x=\"-22.296671\" y=\"294.517386\" style=\"fill: #fdcab5\"/>\n    </g>\n    <g clip-path=\"url(#pcf6fd9e426)\">\n     <use xlink:href=\"#C3_0_5a05fc0a87\" x=\"-22.296671\" y=\"282.636395\" style=\"fill: #fdcab5\"/>\n    </g>\n    <g clip-path=\"url(#pcf6fd9e426)\">\n     <use xlink:href=\"#C3_0_5a05fc0a87\" x=\"-22.296671\" y=\"270.755403\" style=\"fill: #f75b40\"/>\n    </g>\n    <g clip-path=\"url(#pcf6fd9e426)\">\n     <use xlink:href=\"#C3_0_5a05fc0a87\" x=\"-22.296671\" y=\"258.874411\" style=\"fill: #f44f39\"/>\n    </g>\n    <g clip-path=\"url(#pcf6fd9e426)\">\n     <use xlink:href=\"#C3_0_5a05fc0a87\" x=\"-22.296671\" y=\"246.993419\" style=\"fill: #fc8a6a\"/>\n    </g>\n    <g clip-path=\"url(#pcf6fd9e426)\">\n     <use xlink:href=\"#C3_0_5a05fc0a87\" x=\"-22.296671\" y=\"235.112428\" style=\"fill: #fff5f0\"/>\n    </g>\n    <g clip-path=\"url(#pcf6fd9e426)\">\n     <use xlink:href=\"#C3_0_5a05fc0a87\" x=\"-22.296671\" y=\"223.231436\" style=\"fill: #fcc2aa\"/>\n    </g>\n    <g clip-path=\"url(#pcf6fd9e426)\">\n     <use xlink:href=\"#C3_0_5a05fc0a87\" x=\"-22.296671\" y=\"211.350444\" style=\"fill: #fff0e9\"/>\n    </g>\n    <g clip-path=\"url(#pcf6fd9e426)\">\n     <use xlink:href=\"#C3_0_5a05fc0a87\" x=\"-15.445762\" y=\"330.160362\" style=\"fill: #fff5f0\"/>\n    </g>\n    <g clip-path=\"url(#pcf6fd9e426)\">\n     <use xlink:href=\"#C3_0_5a05fc0a87\" x=\"-15.445762\" y=\"318.27937\" style=\"fill: #fff5f0\"/>\n    </g>\n    <g clip-path=\"url(#pcf6fd9e426)\">\n     <use xlink:href=\"#C3_0_5a05fc0a87\" x=\"-15.445762\" y=\"306.398378\" style=\"fill: #fcc2aa\"/>\n    </g>\n    <g clip-path=\"url(#pcf6fd9e426)\">\n     <use xlink:href=\"#C3_0_5a05fc0a87\" x=\"-15.445762\" y=\"294.517386\" style=\"fill: #fcc2aa\"/>\n    </g>\n    <g clip-path=\"url(#pcf6fd9e426)\">\n     <use xlink:href=\"#C3_0_5a05fc0a87\" x=\"-15.445762\" y=\"282.636395\" style=\"fill: #fc9373\"/>\n    </g>\n    <g clip-path=\"url(#pcf6fd9e426)\">\n     <use xlink:href=\"#C3_0_5a05fc0a87\" x=\"-15.445762\" y=\"270.755403\" style=\"fill: #fc8a6a\"/>\n    </g>\n    <g clip-path=\"url(#pcf6fd9e426)\">\n     <use xlink:href=\"#C3_0_5a05fc0a87\" x=\"-15.445762\" y=\"258.874411\" style=\"fill: #f75b40\"/>\n    </g>\n    <g clip-path=\"url(#pcf6fd9e426)\">\n     <use xlink:href=\"#C3_0_5a05fc0a87\" x=\"-15.445762\" y=\"246.993419\" style=\"fill: #fee2d5\"/>\n    </g>\n    <g clip-path=\"url(#pcf6fd9e426)\">\n     <use xlink:href=\"#C3_0_5a05fc0a87\" x=\"-15.445762\" y=\"235.112428\" style=\"fill: #fee2d5\"/>\n    </g>\n    <g clip-path=\"url(#pcf6fd9e426)\">\n     <use xlink:href=\"#C3_0_5a05fc0a87\" x=\"-15.445762\" y=\"223.231436\" style=\"fill: #fb6e4e\"/>\n    </g>\n    <g clip-path=\"url(#pcf6fd9e426)\">\n     <use xlink:href=\"#C3_0_5a05fc0a87\" x=\"-15.445762\" y=\"211.350444\" style=\"fill: #fcaf93\"/>\n    </g>\n    <g clip-path=\"url(#pcf6fd9e426)\">\n     <use xlink:href=\"#C3_0_5a05fc0a87\" x=\"-8.594853\" y=\"330.160362\" style=\"fill: #fff0e9\"/>\n    </g>\n    <g clip-path=\"url(#pcf6fd9e426)\">\n     <use xlink:href=\"#C3_0_5a05fc0a87\" x=\"-8.594853\" y=\"318.27937\" style=\"fill: #fff5f0\"/>\n    </g>\n    <g clip-path=\"url(#pcf6fd9e426)\">\n     <use xlink:href=\"#C3_0_5a05fc0a87\" x=\"-8.594853\" y=\"306.398378\" style=\"fill: #fff5f0\"/>\n    </g>\n    <g clip-path=\"url(#pcf6fd9e426)\">\n     <use xlink:href=\"#C3_0_5a05fc0a87\" x=\"-8.594853\" y=\"294.517386\" style=\"fill: #fdd3c1\"/>\n    </g>\n    <g clip-path=\"url(#pcf6fd9e426)\">\n     <use xlink:href=\"#C3_0_5a05fc0a87\" x=\"-8.594853\" y=\"282.636395\" style=\"fill: #fcaf93\"/>\n    </g>\n    <g clip-path=\"url(#pcf6fd9e426)\">\n     <use xlink:href=\"#C3_0_5a05fc0a87\" x=\"-8.594853\" y=\"270.755403\" style=\"fill: #fdd3c1\"/>\n    </g>\n    <g clip-path=\"url(#pcf6fd9e426)\">\n     <use xlink:href=\"#C3_0_5a05fc0a87\" x=\"-8.594853\" y=\"258.874411\" style=\"fill: #f44f39\"/>\n    </g>\n    <g clip-path=\"url(#pcf6fd9e426)\">\n     <use xlink:href=\"#C3_0_5a05fc0a87\" x=\"-8.594853\" y=\"246.993419\" style=\"fill: #fee2d5\"/>\n    </g>\n    <g clip-path=\"url(#pcf6fd9e426)\">\n     <use xlink:href=\"#C3_0_5a05fc0a87\" x=\"-8.594853\" y=\"235.112428\" style=\"fill: #fc9373\"/>\n    </g>\n    <g clip-path=\"url(#pcf6fd9e426)\">\n     <use xlink:href=\"#C3_0_5a05fc0a87\" x=\"-8.594853\" y=\"223.231436\" style=\"fill: #f14432\"/>\n    </g>\n    <g clip-path=\"url(#pcf6fd9e426)\">\n     <use xlink:href=\"#C3_0_5a05fc0a87\" x=\"-8.594853\" y=\"211.350444\" style=\"fill: #f14432\"/>\n    </g>\n    <g clip-path=\"url(#pcf6fd9e426)\">\n     <use xlink:href=\"#C3_0_5a05fc0a87\" x=\"-1.743944\" y=\"330.160362\" style=\"fill: #fff5f0\"/>\n    </g>\n    <g clip-path=\"url(#pcf6fd9e426)\">\n     <use xlink:href=\"#C3_0_5a05fc0a87\" x=\"-1.743944\" y=\"318.27937\" style=\"fill: #fff5f0\"/>\n    </g>\n    <g clip-path=\"url(#pcf6fd9e426)\">\n     <use xlink:href=\"#C3_0_5a05fc0a87\" x=\"-1.743944\" y=\"306.398378\" style=\"fill: #fff0e9\"/>\n    </g>\n    <g clip-path=\"url(#pcf6fd9e426)\">\n     <use xlink:href=\"#C3_0_5a05fc0a87\" x=\"-1.743944\" y=\"294.517386\" style=\"fill: #fdcab5\"/>\n    </g>\n    <g clip-path=\"url(#pcf6fd9e426)\">\n     <use xlink:href=\"#C3_0_5a05fc0a87\" x=\"-1.743944\" y=\"282.636395\" style=\"fill: #fcc2aa\"/>\n    </g>\n    <g clip-path=\"url(#pcf6fd9e426)\">\n     <use xlink:href=\"#C3_0_5a05fc0a87\" x=\"-1.743944\" y=\"270.755403\" style=\"fill: #fdd3c1\"/>\n    </g>\n    <g clip-path=\"url(#pcf6fd9e426)\">\n     <use xlink:href=\"#C3_0_5a05fc0a87\" x=\"-1.743944\" y=\"258.874411\" style=\"fill: #fcc2aa\"/>\n    </g>\n    <g clip-path=\"url(#pcf6fd9e426)\">\n     <use xlink:href=\"#C3_0_5a05fc0a87\" x=\"-1.743944\" y=\"246.993419\" style=\"fill: #fee7dc\"/>\n    </g>\n    <g clip-path=\"url(#pcf6fd9e426)\">\n     <use xlink:href=\"#C3_0_5a05fc0a87\" x=\"-1.743944\" y=\"235.112428\" style=\"fill: #fb7757\"/>\n    </g>\n    <g clip-path=\"url(#pcf6fd9e426)\">\n     <use xlink:href=\"#C3_0_5a05fc0a87\" x=\"-1.743944\" y=\"223.231436\" style=\"fill: #fb6e4e\"/>\n    </g>\n    <g clip-path=\"url(#pcf6fd9e426)\">\n     <use xlink:href=\"#C3_0_5a05fc0a87\" x=\"-1.743944\" y=\"211.350444\" style=\"fill: #fcaf93\"/>\n    </g>\n    <g clip-path=\"url(#pcf6fd9e426)\">\n     <use xlink:href=\"#C3_0_5a05fc0a87\" x=\"5.106965\" y=\"330.160362\" style=\"fill: #f14432\"/>\n    </g>\n    <g clip-path=\"url(#pcf6fd9e426)\">\n     <use xlink:href=\"#C3_0_5a05fc0a87\" x=\"5.106965\" y=\"318.27937\" style=\"fill: #fdcab5\"/>\n    </g>\n    <g clip-path=\"url(#pcf6fd9e426)\">\n     <use xlink:href=\"#C3_0_5a05fc0a87\" x=\"5.106965\" y=\"306.398378\" style=\"fill: #fff5f0\"/>\n    </g>\n    <g clip-path=\"url(#pcf6fd9e426)\">\n     <use xlink:href=\"#C3_0_5a05fc0a87\" x=\"5.106965\" y=\"294.517386\" style=\"fill: #fdcab5\"/>\n    </g>\n    <g clip-path=\"url(#pcf6fd9e426)\">\n     <use xlink:href=\"#C3_0_5a05fc0a87\" x=\"5.106965\" y=\"282.636395\" style=\"fill: #fca689\"/>\n    </g>\n    <g clip-path=\"url(#pcf6fd9e426)\">\n     <use xlink:href=\"#C3_0_5a05fc0a87\" x=\"5.106965\" y=\"270.755403\" style=\"fill: #fedbcc\"/>\n    </g>\n    <g clip-path=\"url(#pcf6fd9e426)\">\n     <use xlink:href=\"#C3_0_5a05fc0a87\" x=\"5.106965\" y=\"258.874411\" style=\"fill: #fdcab5\"/>\n    </g>\n    <g clip-path=\"url(#pcf6fd9e426)\">\n     <use xlink:href=\"#C3_0_5a05fc0a87\" x=\"5.106965\" y=\"246.993419\" style=\"fill: #fee7dc\"/>\n    </g>\n    <g clip-path=\"url(#pcf6fd9e426)\">\n     <use xlink:href=\"#C3_0_5a05fc0a87\" x=\"5.106965\" y=\"235.112428\" style=\"fill: #fedbcc\"/>\n    </g>\n    <g clip-path=\"url(#pcf6fd9e426)\">\n     <use xlink:href=\"#C3_0_5a05fc0a87\" x=\"5.106965\" y=\"223.231436\" style=\"fill: #fedbcc\"/>\n    </g>\n    <g clip-path=\"url(#pcf6fd9e426)\">\n     <use xlink:href=\"#C3_0_5a05fc0a87\" x=\"5.106965\" y=\"211.350444\" style=\"fill: #fff5f0\"/>\n    </g>\n    <g clip-path=\"url(#pcf6fd9e426)\">\n     <use xlink:href=\"#C3_0_5a05fc0a87\" x=\"11.957874\" y=\"330.160362\" style=\"fill: #fee2d5\"/>\n    </g>\n    <g clip-path=\"url(#pcf6fd9e426)\">\n     <use xlink:href=\"#C3_0_5a05fc0a87\" x=\"11.957874\" y=\"318.27937\" style=\"fill: #fff5f0\"/>\n    </g>\n    <g clip-path=\"url(#pcf6fd9e426)\">\n     <use xlink:href=\"#C3_0_5a05fc0a87\" x=\"11.957874\" y=\"306.398378\" style=\"fill: #fee2d5\"/>\n    </g>\n    <g clip-path=\"url(#pcf6fd9e426)\">\n     <use xlink:href=\"#C3_0_5a05fc0a87\" x=\"11.957874\" y=\"294.517386\" style=\"fill: #fdcab5\"/>\n    </g>\n    <g clip-path=\"url(#pcf6fd9e426)\">\n     <use xlink:href=\"#C3_0_5a05fc0a87\" x=\"11.957874\" y=\"282.636395\" style=\"fill: #fedbcc\"/>\n    </g>\n    <g clip-path=\"url(#pcf6fd9e426)\">\n     <use xlink:href=\"#C3_0_5a05fc0a87\" x=\"11.957874\" y=\"270.755403\" style=\"fill: #ffece3\"/>\n    </g>\n    <g clip-path=\"url(#pcf6fd9e426)\">\n     <use xlink:href=\"#C3_0_5a05fc0a87\" x=\"11.957874\" y=\"258.874411\" style=\"fill: #fedbcc\"/>\n    </g>\n    <g clip-path=\"url(#pcf6fd9e426)\">\n     <use xlink:href=\"#C3_0_5a05fc0a87\" x=\"11.957874\" y=\"246.993419\" style=\"fill: #fff5f0\"/>\n    </g>\n    <g clip-path=\"url(#pcf6fd9e426)\">\n     <use xlink:href=\"#C3_0_5a05fc0a87\" x=\"11.957874\" y=\"235.112428\" style=\"fill: #fff5f0\"/>\n    </g>\n    <g clip-path=\"url(#pcf6fd9e426)\">\n     <use xlink:href=\"#C3_0_5a05fc0a87\" x=\"11.957874\" y=\"223.231436\" style=\"fill: #fff5f0\"/>\n    </g>\n    <g clip-path=\"url(#pcf6fd9e426)\">\n     <use xlink:href=\"#C3_0_5a05fc0a87\" x=\"11.957874\" y=\"211.350444\" style=\"fill: #fff5f0\"/>\n    </g>\n    <g clip-path=\"url(#pcf6fd9e426)\">\n     <use xlink:href=\"#C3_0_5a05fc0a87\" x=\"18.808784\" y=\"330.160362\" style=\"fill: #fff5f0\"/>\n    </g>\n    <g clip-path=\"url(#pcf6fd9e426)\">\n     <use xlink:href=\"#C3_0_5a05fc0a87\" x=\"18.808784\" y=\"318.27937\" style=\"fill: #fff5f0\"/>\n    </g>\n    <g clip-path=\"url(#pcf6fd9e426)\">\n     <use xlink:href=\"#C3_0_5a05fc0a87\" x=\"18.808784\" y=\"306.398378\" style=\"fill: #fdcab5\"/>\n    </g>\n    <g clip-path=\"url(#pcf6fd9e426)\">\n     <use xlink:href=\"#C3_0_5a05fc0a87\" x=\"18.808784\" y=\"294.517386\" style=\"fill: #fff5f0\"/>\n    </g>\n    <g clip-path=\"url(#pcf6fd9e426)\">\n     <use xlink:href=\"#C3_0_5a05fc0a87\" x=\"18.808784\" y=\"282.636395\" style=\"fill: #fff5f0\"/>\n    </g>\n    <g clip-path=\"url(#pcf6fd9e426)\">\n     <use xlink:href=\"#C3_0_5a05fc0a87\" x=\"18.808784\" y=\"270.755403\" style=\"fill: #fff5f0\"/>\n    </g>\n    <g clip-path=\"url(#pcf6fd9e426)\">\n     <use xlink:href=\"#C3_0_5a05fc0a87\" x=\"18.808784\" y=\"258.874411\" style=\"fill: #fff5f0\"/>\n    </g>\n    <g clip-path=\"url(#pcf6fd9e426)\">\n     <use xlink:href=\"#C3_0_5a05fc0a87\" x=\"18.808784\" y=\"246.993419\" style=\"fill: #fff5f0\"/>\n    </g>\n    <g clip-path=\"url(#pcf6fd9e426)\">\n     <use xlink:href=\"#C3_0_5a05fc0a87\" x=\"18.808784\" y=\"235.112428\" style=\"fill: #fff5f0\"/>\n    </g>\n    <g clip-path=\"url(#pcf6fd9e426)\">\n     <use xlink:href=\"#C3_0_5a05fc0a87\" x=\"18.808784\" y=\"223.231436\" style=\"fill: #fff5f0\"/>\n    </g>\n    <g clip-path=\"url(#pcf6fd9e426)\">\n     <use xlink:href=\"#C3_0_5a05fc0a87\" x=\"18.808784\" y=\"211.350444\" style=\"fill: #fff5f0\"/>\n    </g>\n    <g clip-path=\"url(#pcf6fd9e426)\">\n     <use xlink:href=\"#C3_0_5a05fc0a87\" x=\"25.659693\" y=\"330.160362\" style=\"fill: #fff5f0\"/>\n    </g>\n    <g clip-path=\"url(#pcf6fd9e426)\">\n     <use xlink:href=\"#C3_0_5a05fc0a87\" x=\"25.659693\" y=\"318.27937\" style=\"fill: #fff5f0\"/>\n    </g>\n    <g clip-path=\"url(#pcf6fd9e426)\">\n     <use xlink:href=\"#C3_0_5a05fc0a87\" x=\"25.659693\" y=\"306.398378\" style=\"fill: #ffece3\"/>\n    </g>\n    <g clip-path=\"url(#pcf6fd9e426)\">\n     <use xlink:href=\"#C3_0_5a05fc0a87\" x=\"25.659693\" y=\"294.517386\" style=\"fill: #fff5f0\"/>\n    </g>\n    <g clip-path=\"url(#pcf6fd9e426)\">\n     <use xlink:href=\"#C3_0_5a05fc0a87\" x=\"25.659693\" y=\"282.636395\" style=\"fill: #fff5f0\"/>\n    </g>\n    <g clip-path=\"url(#pcf6fd9e426)\">\n     <use xlink:href=\"#C3_0_5a05fc0a87\" x=\"25.659693\" y=\"270.755403\" style=\"fill: #fff5f0\"/>\n    </g>\n    <g clip-path=\"url(#pcf6fd9e426)\">\n     <use xlink:href=\"#C3_0_5a05fc0a87\" x=\"25.659693\" y=\"258.874411\" style=\"fill: #fff5f0\"/>\n    </g>\n    <g clip-path=\"url(#pcf6fd9e426)\">\n     <use xlink:href=\"#C3_0_5a05fc0a87\" x=\"25.659693\" y=\"246.993419\" style=\"fill: #fff5f0\"/>\n    </g>\n    <g clip-path=\"url(#pcf6fd9e426)\">\n     <use xlink:href=\"#C3_0_5a05fc0a87\" x=\"25.659693\" y=\"235.112428\" style=\"fill: #fff5f0\"/>\n    </g>\n    <g clip-path=\"url(#pcf6fd9e426)\">\n     <use xlink:href=\"#C3_0_5a05fc0a87\" x=\"25.659693\" y=\"223.231436\" style=\"fill: #fff5f0\"/>\n    </g>\n    <g clip-path=\"url(#pcf6fd9e426)\">\n     <use xlink:href=\"#C3_0_5a05fc0a87\" x=\"25.659693\" y=\"211.350444\" style=\"fill: #fff5f0\"/>\n    </g>\n    <g clip-path=\"url(#pcf6fd9e426)\">\n     <use xlink:href=\"#C3_0_5a05fc0a87\" x=\"32.510602\" y=\"330.160362\" style=\"fill: #fff5f0\"/>\n    </g>\n    <g clip-path=\"url(#pcf6fd9e426)\">\n     <use xlink:href=\"#C3_0_5a05fc0a87\" x=\"32.510602\" y=\"318.27937\" style=\"fill: #fff5f0\"/>\n    </g>\n    <g clip-path=\"url(#pcf6fd9e426)\">\n     <use xlink:href=\"#C3_0_5a05fc0a87\" x=\"32.510602\" y=\"306.398378\" style=\"fill: #fff5f0\"/>\n    </g>\n    <g clip-path=\"url(#pcf6fd9e426)\">\n     <use xlink:href=\"#C3_0_5a05fc0a87\" x=\"32.510602\" y=\"294.517386\" style=\"fill: #fff5f0\"/>\n    </g>\n    <g clip-path=\"url(#pcf6fd9e426)\">\n     <use xlink:href=\"#C3_0_5a05fc0a87\" x=\"32.510602\" y=\"282.636395\" style=\"fill: #fff5f0\"/>\n    </g>\n    <g clip-path=\"url(#pcf6fd9e426)\">\n     <use xlink:href=\"#C3_0_5a05fc0a87\" x=\"32.510602\" y=\"270.755403\" style=\"fill: #fff5f0\"/>\n    </g>\n    <g clip-path=\"url(#pcf6fd9e426)\">\n     <use xlink:href=\"#C3_0_5a05fc0a87\" x=\"32.510602\" y=\"258.874411\" style=\"fill: #fff5f0\"/>\n    </g>\n    <g clip-path=\"url(#pcf6fd9e426)\">\n     <use xlink:href=\"#C3_0_5a05fc0a87\" x=\"32.510602\" y=\"246.993419\" style=\"fill: #fff5f0\"/>\n    </g>\n    <g clip-path=\"url(#pcf6fd9e426)\">\n     <use xlink:href=\"#C3_0_5a05fc0a87\" x=\"32.510602\" y=\"235.112428\" style=\"fill: #fff5f0\"/>\n    </g>\n    <g clip-path=\"url(#pcf6fd9e426)\">\n     <use xlink:href=\"#C3_0_5a05fc0a87\" x=\"32.510602\" y=\"223.231436\" style=\"fill: #fff5f0\"/>\n    </g>\n    <g clip-path=\"url(#pcf6fd9e426)\">\n     <use xlink:href=\"#C3_0_5a05fc0a87\" x=\"32.510602\" y=\"211.350444\" style=\"fill: #fff5f0\"/>\n    </g>\n    <g clip-path=\"url(#pcf6fd9e426)\">\n     <use xlink:href=\"#C3_0_5a05fc0a87\" x=\"39.361511\" y=\"330.160362\" style=\"fill: #fff5f0\"/>\n    </g>\n    <g clip-path=\"url(#pcf6fd9e426)\">\n     <use xlink:href=\"#C3_0_5a05fc0a87\" x=\"39.361511\" y=\"318.27937\" style=\"fill: #fff5f0\"/>\n    </g>\n    <g clip-path=\"url(#pcf6fd9e426)\">\n     <use xlink:href=\"#C3_0_5a05fc0a87\" x=\"39.361511\" y=\"306.398378\" style=\"fill: #fff5f0\"/>\n    </g>\n    <g clip-path=\"url(#pcf6fd9e426)\">\n     <use xlink:href=\"#C3_0_5a05fc0a87\" x=\"39.361511\" y=\"294.517386\" style=\"fill: #fff5f0\"/>\n    </g>\n    <g clip-path=\"url(#pcf6fd9e426)\">\n     <use xlink:href=\"#C3_0_5a05fc0a87\" x=\"39.361511\" y=\"282.636395\" style=\"fill: #fff5f0\"/>\n    </g>\n    <g clip-path=\"url(#pcf6fd9e426)\">\n     <use xlink:href=\"#C3_0_5a05fc0a87\" x=\"39.361511\" y=\"270.755403\" style=\"fill: #fff0e9\"/>\n    </g>\n    <g clip-path=\"url(#pcf6fd9e426)\">\n     <use xlink:href=\"#C3_0_5a05fc0a87\" x=\"39.361511\" y=\"258.874411\" style=\"fill: #fff5f0\"/>\n    </g>\n    <g clip-path=\"url(#pcf6fd9e426)\">\n     <use xlink:href=\"#C3_0_5a05fc0a87\" x=\"39.361511\" y=\"246.993419\" style=\"fill: #fff5f0\"/>\n    </g>\n    <g clip-path=\"url(#pcf6fd9e426)\">\n     <use xlink:href=\"#C3_0_5a05fc0a87\" x=\"39.361511\" y=\"235.112428\" style=\"fill: #fff5f0\"/>\n    </g>\n    <g clip-path=\"url(#pcf6fd9e426)\">\n     <use xlink:href=\"#C3_0_5a05fc0a87\" x=\"39.361511\" y=\"223.231436\" style=\"fill: #fff5f0\"/>\n    </g>\n    <g clip-path=\"url(#pcf6fd9e426)\">\n     <use xlink:href=\"#C3_0_5a05fc0a87\" x=\"39.361511\" y=\"211.350444\" style=\"fill: #fff5f0\"/>\n    </g>\n    <g clip-path=\"url(#pcf6fd9e426)\">\n     <use xlink:href=\"#C3_0_5a05fc0a87\" x=\"46.21242\" y=\"330.160362\" style=\"fill: #fff5f0\"/>\n    </g>\n    <g clip-path=\"url(#pcf6fd9e426)\">\n     <use xlink:href=\"#C3_0_5a05fc0a87\" x=\"46.21242\" y=\"318.27937\" style=\"fill: #fff5f0\"/>\n    </g>\n    <g clip-path=\"url(#pcf6fd9e426)\">\n     <use xlink:href=\"#C3_0_5a05fc0a87\" x=\"46.21242\" y=\"306.398378\" style=\"fill: #fff5f0\"/>\n    </g>\n    <g clip-path=\"url(#pcf6fd9e426)\">\n     <use xlink:href=\"#C3_0_5a05fc0a87\" x=\"46.21242\" y=\"294.517386\" style=\"fill: #fff0e9\"/>\n    </g>\n    <g clip-path=\"url(#pcf6fd9e426)\">\n     <use xlink:href=\"#C3_0_5a05fc0a87\" x=\"46.21242\" y=\"282.636395\" style=\"fill: #ffece3\"/>\n    </g>\n    <g clip-path=\"url(#pcf6fd9e426)\">\n     <use xlink:href=\"#C3_0_5a05fc0a87\" x=\"46.21242\" y=\"270.755403\" style=\"fill: #ffece3\"/>\n    </g>\n    <g clip-path=\"url(#pcf6fd9e426)\">\n     <use xlink:href=\"#C3_0_5a05fc0a87\" x=\"46.21242\" y=\"258.874411\" style=\"fill: #ffece3\"/>\n    </g>\n    <g clip-path=\"url(#pcf6fd9e426)\">\n     <use xlink:href=\"#C3_0_5a05fc0a87\" x=\"46.21242\" y=\"246.993419\" style=\"fill: #fff0e9\"/>\n    </g>\n    <g clip-path=\"url(#pcf6fd9e426)\">\n     <use xlink:href=\"#C3_0_5a05fc0a87\" x=\"46.21242\" y=\"235.112428\" style=\"fill: #fff5f0\"/>\n    </g>\n    <g clip-path=\"url(#pcf6fd9e426)\">\n     <use xlink:href=\"#C3_0_5a05fc0a87\" x=\"46.21242\" y=\"223.231436\" style=\"fill: #fff5f0\"/>\n    </g>\n    <g clip-path=\"url(#pcf6fd9e426)\">\n     <use xlink:href=\"#C3_0_5a05fc0a87\" x=\"46.21242\" y=\"211.350444\" style=\"fill: #fff5f0\"/>\n    </g>\n    <g clip-path=\"url(#pcf6fd9e426)\">\n     <use xlink:href=\"#C3_0_5a05fc0a87\" x=\"53.063329\" y=\"330.160362\" style=\"fill: #fff5f0\"/>\n    </g>\n    <g clip-path=\"url(#pcf6fd9e426)\">\n     <use xlink:href=\"#C3_0_5a05fc0a87\" x=\"53.063329\" y=\"318.27937\" style=\"fill: #fff5f0\"/>\n    </g>\n    <g clip-path=\"url(#pcf6fd9e426)\">\n     <use xlink:href=\"#C3_0_5a05fc0a87\" x=\"53.063329\" y=\"306.398378\" style=\"fill: #fee7dc\"/>\n    </g>\n    <g clip-path=\"url(#pcf6fd9e426)\">\n     <use xlink:href=\"#C3_0_5a05fc0a87\" x=\"53.063329\" y=\"294.517386\" style=\"fill: #fff0e9\"/>\n    </g>\n    <g clip-path=\"url(#pcf6fd9e426)\">\n     <use xlink:href=\"#C3_0_5a05fc0a87\" x=\"53.063329\" y=\"282.636395\" style=\"fill: #fc8a6a\"/>\n    </g>\n    <g clip-path=\"url(#pcf6fd9e426)\">\n     <use xlink:href=\"#C3_0_5a05fc0a87\" x=\"53.063329\" y=\"270.755403\" style=\"fill: #fcc2aa\"/>\n    </g>\n    <g clip-path=\"url(#pcf6fd9e426)\">\n     <use xlink:href=\"#C3_0_5a05fc0a87\" x=\"53.063329\" y=\"258.874411\" style=\"fill: #fc8a6a\"/>\n    </g>\n    <g clip-path=\"url(#pcf6fd9e426)\">\n     <use xlink:href=\"#C3_0_5a05fc0a87\" x=\"53.063329\" y=\"246.993419\" style=\"fill: #f44f39\"/>\n    </g>\n    <g clip-path=\"url(#pcf6fd9e426)\">\n     <use xlink:href=\"#C3_0_5a05fc0a87\" x=\"53.063329\" y=\"235.112428\" style=\"fill: #fff5f0\"/>\n    </g>\n    <g clip-path=\"url(#pcf6fd9e426)\">\n     <use xlink:href=\"#C3_0_5a05fc0a87\" x=\"53.063329\" y=\"223.231436\" style=\"fill: #fff5f0\"/>\n    </g>\n    <g clip-path=\"url(#pcf6fd9e426)\">\n     <use xlink:href=\"#C3_0_5a05fc0a87\" x=\"53.063329\" y=\"211.350444\" style=\"fill: #fff5f0\"/>\n    </g>\n    <g clip-path=\"url(#pcf6fd9e426)\">\n     <use xlink:href=\"#C3_0_5a05fc0a87\" x=\"59.914238\" y=\"330.160362\" style=\"fill: #fff5f0\"/>\n    </g>\n    <g clip-path=\"url(#pcf6fd9e426)\">\n     <use xlink:href=\"#C3_0_5a05fc0a87\" x=\"59.914238\" y=\"318.27937\" style=\"fill: #fff5f0\"/>\n    </g>\n    <g clip-path=\"url(#pcf6fd9e426)\">\n     <use xlink:href=\"#C3_0_5a05fc0a87\" x=\"59.914238\" y=\"306.398378\" style=\"fill: #fff0e9\"/>\n    </g>\n    <g clip-path=\"url(#pcf6fd9e426)\">\n     <use xlink:href=\"#C3_0_5a05fc0a87\" x=\"59.914238\" y=\"294.517386\" style=\"fill: #d52221\"/>\n    </g>\n    <g clip-path=\"url(#pcf6fd9e426)\">\n     <use xlink:href=\"#C3_0_5a05fc0a87\" x=\"59.914238\" y=\"282.636395\" style=\"fill: #fc9d7f\"/>\n    </g>\n    <g clip-path=\"url(#pcf6fd9e426)\">\n     <use xlink:href=\"#C3_0_5a05fc0a87\" x=\"59.914238\" y=\"270.755403\" style=\"fill: #fdcab5\"/>\n    </g>\n    <g clip-path=\"url(#pcf6fd9e426)\">\n     <use xlink:href=\"#C3_0_5a05fc0a87\" x=\"59.914238\" y=\"258.874411\" style=\"fill: #75030f\"/>\n    </g>\n    <g clip-path=\"url(#pcf6fd9e426)\">\n     <use xlink:href=\"#C3_0_5a05fc0a87\" x=\"59.914238\" y=\"246.993419\" style=\"fill: #fff5f0\"/>\n    </g>\n    <g clip-path=\"url(#pcf6fd9e426)\">\n     <use xlink:href=\"#C3_0_5a05fc0a87\" x=\"59.914238\" y=\"235.112428\" style=\"fill: #fff5f0\"/>\n    </g>\n    <g clip-path=\"url(#pcf6fd9e426)\">\n     <use xlink:href=\"#C3_0_5a05fc0a87\" x=\"59.914238\" y=\"223.231436\" style=\"fill: #fff5f0\"/>\n    </g>\n    <g clip-path=\"url(#pcf6fd9e426)\">\n     <use xlink:href=\"#C3_0_5a05fc0a87\" x=\"59.914238\" y=\"211.350444\" style=\"fill: #fff5f0\"/>\n    </g>\n    <g clip-path=\"url(#pcf6fd9e426)\">\n     <use xlink:href=\"#C3_0_5a05fc0a87\" x=\"66.765147\" y=\"330.160362\" style=\"fill: #fff5f0\"/>\n    </g>\n    <g clip-path=\"url(#pcf6fd9e426)\">\n     <use xlink:href=\"#C3_0_5a05fc0a87\" x=\"66.765147\" y=\"318.27937\" style=\"fill: #fff5f0\"/>\n    </g>\n    <g clip-path=\"url(#pcf6fd9e426)\">\n     <use xlink:href=\"#C3_0_5a05fc0a87\" x=\"66.765147\" y=\"306.398378\" style=\"fill: #fcb99f\"/>\n    </g>\n    <g clip-path=\"url(#pcf6fd9e426)\">\n     <use xlink:href=\"#C3_0_5a05fc0a87\" x=\"66.765147\" y=\"294.517386\" style=\"fill: #fdd3c1\"/>\n    </g>\n    <g clip-path=\"url(#pcf6fd9e426)\">\n     <use xlink:href=\"#C3_0_5a05fc0a87\" x=\"66.765147\" y=\"282.636395\" style=\"fill: #fcb99f\"/>\n    </g>\n    <g clip-path=\"url(#pcf6fd9e426)\">\n     <use xlink:href=\"#C3_0_5a05fc0a87\" x=\"66.765147\" y=\"270.755403\" style=\"fill: #fdd3c1\"/>\n    </g>\n    <g clip-path=\"url(#pcf6fd9e426)\">\n     <use xlink:href=\"#C3_0_5a05fc0a87\" x=\"66.765147\" y=\"258.874411\" style=\"fill: #ffece3\"/>\n    </g>\n    <g clip-path=\"url(#pcf6fd9e426)\">\n     <use xlink:href=\"#C3_0_5a05fc0a87\" x=\"66.765147\" y=\"246.993419\" style=\"fill: #fff5f0\"/>\n    </g>\n    <g clip-path=\"url(#pcf6fd9e426)\">\n     <use xlink:href=\"#C3_0_5a05fc0a87\" x=\"66.765147\" y=\"235.112428\" style=\"fill: #fff5f0\"/>\n    </g>\n    <g clip-path=\"url(#pcf6fd9e426)\">\n     <use xlink:href=\"#C3_0_5a05fc0a87\" x=\"66.765147\" y=\"223.231436\" style=\"fill: #fff5f0\"/>\n    </g>\n    <g clip-path=\"url(#pcf6fd9e426)\">\n     <use xlink:href=\"#C3_0_5a05fc0a87\" x=\"66.765147\" y=\"211.350444\" style=\"fill: #fff5f0\"/>\n    </g>\n    <g clip-path=\"url(#pcf6fd9e426)\">\n     <use xlink:href=\"#C3_0_5a05fc0a87\" x=\"73.616056\" y=\"330.160362\" style=\"fill: #fff5f0\"/>\n    </g>\n    <g clip-path=\"url(#pcf6fd9e426)\">\n     <use xlink:href=\"#C3_0_5a05fc0a87\" x=\"73.616056\" y=\"318.27937\" style=\"fill: #fff5f0\"/>\n    </g>\n    <g clip-path=\"url(#pcf6fd9e426)\">\n     <use xlink:href=\"#C3_0_5a05fc0a87\" x=\"73.616056\" y=\"306.398378\" style=\"fill: #fc8161\"/>\n    </g>\n    <g clip-path=\"url(#pcf6fd9e426)\">\n     <use xlink:href=\"#C3_0_5a05fc0a87\" x=\"73.616056\" y=\"294.517386\" style=\"fill: #fedbcc\"/>\n    </g>\n    <g clip-path=\"url(#pcf6fd9e426)\">\n     <use xlink:href=\"#C3_0_5a05fc0a87\" x=\"73.616056\" y=\"282.636395\" style=\"fill: #fc8161\"/>\n    </g>\n    <g clip-path=\"url(#pcf6fd9e426)\">\n     <use xlink:href=\"#C3_0_5a05fc0a87\" x=\"73.616056\" y=\"270.755403\" style=\"fill: #fdd3c1\"/>\n    </g>\n    <g clip-path=\"url(#pcf6fd9e426)\">\n     <use xlink:href=\"#C3_0_5a05fc0a87\" x=\"73.616056\" y=\"258.874411\" style=\"fill: #fee2d5\"/>\n    </g>\n    <g clip-path=\"url(#pcf6fd9e426)\">\n     <use xlink:href=\"#C3_0_5a05fc0a87\" x=\"73.616056\" y=\"246.993419\" style=\"fill: #fff5f0\"/>\n    </g>\n    <g clip-path=\"url(#pcf6fd9e426)\">\n     <use xlink:href=\"#C3_0_5a05fc0a87\" x=\"73.616056\" y=\"235.112428\" style=\"fill: #fff5f0\"/>\n    </g>\n    <g clip-path=\"url(#pcf6fd9e426)\">\n     <use xlink:href=\"#C3_0_5a05fc0a87\" x=\"73.616056\" y=\"223.231436\" style=\"fill: #fff5f0\"/>\n    </g>\n    <g clip-path=\"url(#pcf6fd9e426)\">\n     <use xlink:href=\"#C3_0_5a05fc0a87\" x=\"73.616056\" y=\"211.350444\" style=\"fill: #fff5f0\"/>\n    </g>\n    <g clip-path=\"url(#pcf6fd9e426)\">\n     <use xlink:href=\"#C3_0_5a05fc0a87\" x=\"80.466965\" y=\"330.160362\" style=\"fill: #fff5f0\"/>\n    </g>\n    <g clip-path=\"url(#pcf6fd9e426)\">\n     <use xlink:href=\"#C3_0_5a05fc0a87\" x=\"80.466965\" y=\"318.27937\" style=\"fill: #fff5f0\"/>\n    </g>\n    <g clip-path=\"url(#pcf6fd9e426)\">\n     <use xlink:href=\"#C3_0_5a05fc0a87\" x=\"80.466965\" y=\"306.398378\" style=\"fill: #fc9373\"/>\n    </g>\n    <g clip-path=\"url(#pcf6fd9e426)\">\n     <use xlink:href=\"#C3_0_5a05fc0a87\" x=\"80.466965\" y=\"294.517386\" style=\"fill: #fca689\"/>\n    </g>\n    <g clip-path=\"url(#pcf6fd9e426)\">\n     <use xlink:href=\"#C3_0_5a05fc0a87\" x=\"80.466965\" y=\"282.636395\" style=\"fill: #fcc2aa\"/>\n    </g>\n    <g clip-path=\"url(#pcf6fd9e426)\">\n     <use xlink:href=\"#C3_0_5a05fc0a87\" x=\"80.466965\" y=\"270.755403\" style=\"fill: #fee7dc\"/>\n    </g>\n    <g clip-path=\"url(#pcf6fd9e426)\">\n     <use xlink:href=\"#C3_0_5a05fc0a87\" x=\"80.466965\" y=\"258.874411\" style=\"fill: #fff5f0\"/>\n    </g>\n    <g clip-path=\"url(#pcf6fd9e426)\">\n     <use xlink:href=\"#C3_0_5a05fc0a87\" x=\"80.466965\" y=\"246.993419\" style=\"fill: #fff5f0\"/>\n    </g>\n    <g clip-path=\"url(#pcf6fd9e426)\">\n     <use xlink:href=\"#C3_0_5a05fc0a87\" x=\"80.466965\" y=\"235.112428\" style=\"fill: #fff5f0\"/>\n    </g>\n    <g clip-path=\"url(#pcf6fd9e426)\">\n     <use xlink:href=\"#C3_0_5a05fc0a87\" x=\"80.466965\" y=\"223.231436\" style=\"fill: #fff5f0\"/>\n    </g>\n    <g clip-path=\"url(#pcf6fd9e426)\">\n     <use xlink:href=\"#C3_0_5a05fc0a87\" x=\"80.466965\" y=\"211.350444\" style=\"fill: #fff5f0\"/>\n    </g>\n   </g>\n   <g id=\"matplotlib.axis_7\"/>\n   <g id=\"matplotlib.axis_8\"/>\n   <g id=\"patch_18\">\n    <path d=\"M 7.2 341.42175 \nL 7.2 197.66175 \n\" style=\"fill: none; stroke: #000000; stroke-width: 0.8; stroke-linejoin: miter; stroke-linecap: square\"/>\n   </g>\n   <g id=\"patch_19\">\n    <path d=\"M 157.92 341.42175 \nL 157.92 197.66175 \n\" style=\"fill: none; stroke: #000000; stroke-width: 0.8; stroke-linejoin: miter; stroke-linecap: square\"/>\n   </g>\n   <g id=\"patch_20\">\n    <path d=\"M 7.2 341.42175 \nL 157.92 341.42175 \n\" style=\"fill: none; stroke: #000000; stroke-width: 0.8; stroke-linejoin: miter; stroke-linecap: square\"/>\n   </g>\n   <g id=\"patch_21\">\n    <path d=\"M 7.2 197.66175 \nL 157.92 197.66175 \n\" style=\"fill: none; stroke: #000000; stroke-width: 0.8; stroke-linejoin: miter; stroke-linecap: square\"/>\n   </g>\n   <g id=\"text_4\">\n    <!-- anger -->\n    <g transform=\"translate(61.62375 191.66175) scale(0.144 -0.144)\">\n     <defs>\n      <path id=\"DejaVuSans-67\" d=\"M 2906 1791 \nQ 2906 2416 2648 2759 \nQ 2391 3103 1925 3103 \nQ 1463 3103 1205 2759 \nQ 947 2416 947 1791 \nQ 947 1169 1205 825 \nQ 1463 481 1925 481 \nQ 2391 481 2648 825 \nQ 2906 1169 2906 1791 \nz\nM 3481 434 \nQ 3481 -459 3084 -895 \nQ 2688 -1331 1869 -1331 \nQ 1566 -1331 1297 -1286 \nQ 1028 -1241 775 -1147 \nL 775 -588 \nQ 1028 -725 1275 -790 \nQ 1522 -856 1778 -856 \nQ 2344 -856 2625 -561 \nQ 2906 -266 2906 331 \nL 2906 616 \nQ 2728 306 2450 153 \nQ 2172 0 1784 0 \nQ 1141 0 747 490 \nQ 353 981 353 1791 \nQ 353 2603 747 3093 \nQ 1141 3584 1784 3584 \nQ 2172 3584 2450 3431 \nQ 2728 3278 2906 2969 \nL 2906 3500 \nL 3481 3500 \nL 3481 434 \nz\n\" transform=\"scale(0.015625)\"/>\n      <path id=\"DejaVuSans-72\" d=\"M 2631 2963 \nQ 2534 3019 2420 3045 \nQ 2306 3072 2169 3072 \nQ 1681 3072 1420 2755 \nQ 1159 2438 1159 1844 \nL 1159 0 \nL 581 0 \nL 581 3500 \nL 1159 3500 \nL 1159 2956 \nQ 1341 3275 1631 3429 \nQ 1922 3584 2338 3584 \nQ 2397 3584 2469 3576 \nQ 2541 3569 2628 3553 \nL 2631 2963 \nz\n\" transform=\"scale(0.015625)\"/>\n     </defs>\n     <use xlink:href=\"#DejaVuSans-61\"/>\n     <use xlink:href=\"#DejaVuSans-6e\" x=\"61.279297\"/>\n     <use xlink:href=\"#DejaVuSans-67\" x=\"124.658203\"/>\n     <use xlink:href=\"#DejaVuSans-65\" x=\"188.134766\"/>\n     <use xlink:href=\"#DejaVuSans-72\" x=\"249.658203\"/>\n    </g>\n   </g>\n  </g>\n  <g id=\"axes_5\">\n   <g id=\"patch_22\">\n    <path d=\"M 170.88 341.42175 \nL 321.6 341.42175 \nL 321.6 197.66175 \nL 170.88 197.66175 \nz\n\" style=\"fill: #ffffff\"/>\n   </g>\n   <g id=\"PolyCollection_5\">\n    <defs>\n     <path id=\"C4_0_3702706369\" d=\"M 234.380316 -2.834562 \nL 234.380316 -6.794892 \nL 230.954861 -8.775057 \nL 227.529407 -6.794892 \nL 227.529407 -2.834562 \nL 230.954861 -0.854396 \nz\n\"/>\n    </defs>\n    <g clip-path=\"url(#p3274d853a0)\">\n     <use xlink:href=\"#C4_0_3702706369\" x=\"-53.223952\" y=\"339.701931\" style=\"fill: #fcfbfd\"/>\n    </g>\n    <g clip-path=\"url(#p3274d853a0)\">\n     <use xlink:href=\"#C4_0_3702706369\" x=\"-53.223952\" y=\"327.82094\" style=\"fill: #fcfbfd\"/>\n    </g>\n    <g clip-path=\"url(#p3274d853a0)\">\n     <use xlink:href=\"#C4_0_3702706369\" x=\"-53.223952\" y=\"315.939948\" style=\"fill: #fcfbfd\"/>\n    </g>\n    <g clip-path=\"url(#p3274d853a0)\">\n     <use xlink:href=\"#C4_0_3702706369\" x=\"-53.223952\" y=\"304.058956\" style=\"fill: #fcfbfd\"/>\n    </g>\n    <g clip-path=\"url(#p3274d853a0)\">\n     <use xlink:href=\"#C4_0_3702706369\" x=\"-53.223952\" y=\"292.177964\" style=\"fill: #f5f4f9\"/>\n    </g>\n    <g clip-path=\"url(#p3274d853a0)\">\n     <use xlink:href=\"#C4_0_3702706369\" x=\"-53.223952\" y=\"280.296973\" style=\"fill: #f2f0f7\"/>\n    </g>\n    <g clip-path=\"url(#p3274d853a0)\">\n     <use xlink:href=\"#C4_0_3702706369\" x=\"-53.223952\" y=\"268.415981\" style=\"fill: #f9f7fb\"/>\n    </g>\n    <g clip-path=\"url(#p3274d853a0)\">\n     <use xlink:href=\"#C4_0_3702706369\" x=\"-53.223952\" y=\"256.534989\" style=\"fill: #f5f4f9\"/>\n    </g>\n    <g clip-path=\"url(#p3274d853a0)\">\n     <use xlink:href=\"#C4_0_3702706369\" x=\"-53.223952\" y=\"244.653997\" style=\"fill: #fcfbfd\"/>\n    </g>\n    <g clip-path=\"url(#p3274d853a0)\">\n     <use xlink:href=\"#C4_0_3702706369\" x=\"-53.223952\" y=\"232.773006\" style=\"fill: #fcfbfd\"/>\n    </g>\n    <g clip-path=\"url(#p3274d853a0)\">\n     <use xlink:href=\"#C4_0_3702706369\" x=\"-53.223952\" y=\"220.892014\" style=\"fill: #fcfbfd\"/>\n    </g>\n    <g clip-path=\"url(#p3274d853a0)\">\n     <use xlink:href=\"#C4_0_3702706369\" x=\"-53.223952\" y=\"209.011022\" style=\"fill: #fcfbfd\"/>\n    </g>\n    <g clip-path=\"url(#p3274d853a0)\">\n     <use xlink:href=\"#C4_0_3702706369\" x=\"-46.373043\" y=\"339.701931\" style=\"fill: #fcfbfd\"/>\n    </g>\n    <g clip-path=\"url(#p3274d853a0)\">\n     <use xlink:href=\"#C4_0_3702706369\" x=\"-46.373043\" y=\"327.82094\" style=\"fill: #fcfbfd\"/>\n    </g>\n    <g clip-path=\"url(#p3274d853a0)\">\n     <use xlink:href=\"#C4_0_3702706369\" x=\"-46.373043\" y=\"315.939948\" style=\"fill: #fcfbfd\"/>\n    </g>\n    <g clip-path=\"url(#p3274d853a0)\">\n     <use xlink:href=\"#C4_0_3702706369\" x=\"-46.373043\" y=\"304.058956\" style=\"fill: #eae8f2\"/>\n    </g>\n    <g clip-path=\"url(#p3274d853a0)\">\n     <use xlink:href=\"#C4_0_3702706369\" x=\"-46.373043\" y=\"292.177964\" style=\"fill: #a5a2cd\"/>\n    </g>\n    <g clip-path=\"url(#p3274d853a0)\">\n     <use xlink:href=\"#C4_0_3702706369\" x=\"-46.373043\" y=\"280.296973\" style=\"fill: #5e3b98\"/>\n    </g>\n    <g clip-path=\"url(#p3274d853a0)\">\n     <use xlink:href=\"#C4_0_3702706369\" x=\"-46.373043\" y=\"268.415981\" style=\"fill: #adabd2\"/>\n    </g>\n    <g clip-path=\"url(#p3274d853a0)\">\n     <use xlink:href=\"#C4_0_3702706369\" x=\"-46.373043\" y=\"256.534989\" style=\"fill: #b4b4d7\"/>\n    </g>\n    <g clip-path=\"url(#p3274d853a0)\">\n     <use xlink:href=\"#C4_0_3702706369\" x=\"-46.373043\" y=\"244.653997\" style=\"fill: #fcfbfd\"/>\n    </g>\n    <g clip-path=\"url(#p3274d853a0)\">\n     <use xlink:href=\"#C4_0_3702706369\" x=\"-46.373043\" y=\"232.773006\" style=\"fill: #fcfbfd\"/>\n    </g>\n    <g clip-path=\"url(#p3274d853a0)\">\n     <use xlink:href=\"#C4_0_3702706369\" x=\"-46.373043\" y=\"220.892014\" style=\"fill: #fcfbfd\"/>\n    </g>\n    <g clip-path=\"url(#p3274d853a0)\">\n     <use xlink:href=\"#C4_0_3702706369\" x=\"-46.373043\" y=\"209.011022\" style=\"fill: #fcfbfd\"/>\n    </g>\n    <g clip-path=\"url(#p3274d853a0)\">\n     <use xlink:href=\"#C4_0_3702706369\" x=\"-39.522134\" y=\"339.701931\" style=\"fill: #fcfbfd\"/>\n    </g>\n    <g clip-path=\"url(#p3274d853a0)\">\n     <use xlink:href=\"#C4_0_3702706369\" x=\"-39.522134\" y=\"327.82094\" style=\"fill: #fcfbfd\"/>\n    </g>\n    <g clip-path=\"url(#p3274d853a0)\">\n     <use xlink:href=\"#C4_0_3702706369\" x=\"-39.522134\" y=\"315.939948\" style=\"fill: #eae8f2\"/>\n    </g>\n    <g clip-path=\"url(#p3274d853a0)\">\n     <use xlink:href=\"#C4_0_3702706369\" x=\"-39.522134\" y=\"304.058956\" style=\"fill: #e4e3f0\"/>\n    </g>\n    <g clip-path=\"url(#p3274d853a0)\">\n     <use xlink:href=\"#C4_0_3702706369\" x=\"-39.522134\" y=\"292.177964\" style=\"fill: #adabd2\"/>\n    </g>\n    <g clip-path=\"url(#p3274d853a0)\">\n     <use xlink:href=\"#C4_0_3702706369\" x=\"-39.522134\" y=\"280.296973\" style=\"fill: #9692c4\"/>\n    </g>\n    <g clip-path=\"url(#p3274d853a0)\">\n     <use xlink:href=\"#C4_0_3702706369\" x=\"-39.522134\" y=\"268.415981\" style=\"fill: #6950a3\"/>\n    </g>\n    <g clip-path=\"url(#p3274d853a0)\">\n     <use xlink:href=\"#C4_0_3702706369\" x=\"-39.522134\" y=\"256.534989\" style=\"fill: #9692c4\"/>\n    </g>\n    <g clip-path=\"url(#p3274d853a0)\">\n     <use xlink:href=\"#C4_0_3702706369\" x=\"-39.522134\" y=\"244.653997\" style=\"fill: #f2f0f7\"/>\n    </g>\n    <g clip-path=\"url(#p3274d853a0)\">\n     <use xlink:href=\"#C4_0_3702706369\" x=\"-39.522134\" y=\"232.773006\" style=\"fill: #fcfbfd\"/>\n    </g>\n    <g clip-path=\"url(#p3274d853a0)\">\n     <use xlink:href=\"#C4_0_3702706369\" x=\"-39.522134\" y=\"220.892014\" style=\"fill: #fcfbfd\"/>\n    </g>\n    <g clip-path=\"url(#p3274d853a0)\">\n     <use xlink:href=\"#C4_0_3702706369\" x=\"-39.522134\" y=\"209.011022\" style=\"fill: #fcfbfd\"/>\n    </g>\n    <g clip-path=\"url(#p3274d853a0)\">\n     <use xlink:href=\"#C4_0_3702706369\" x=\"-32.671225\" y=\"339.701931\" style=\"fill: #fcfbfd\"/>\n    </g>\n    <g clip-path=\"url(#p3274d853a0)\">\n     <use xlink:href=\"#C4_0_3702706369\" x=\"-32.671225\" y=\"327.82094\" style=\"fill: #fcfbfd\"/>\n    </g>\n    <g clip-path=\"url(#p3274d853a0)\">\n     <use xlink:href=\"#C4_0_3702706369\" x=\"-32.671225\" y=\"315.939948\" style=\"fill: #f5f4f9\"/>\n    </g>\n    <g clip-path=\"url(#p3274d853a0)\">\n     <use xlink:href=\"#C4_0_3702706369\" x=\"-32.671225\" y=\"304.058956\" style=\"fill: #e4e3f0\"/>\n    </g>\n    <g clip-path=\"url(#p3274d853a0)\">\n     <use xlink:href=\"#C4_0_3702706369\" x=\"-32.671225\" y=\"292.177964\" style=\"fill: #f2f0f7\"/>\n    </g>\n    <g clip-path=\"url(#p3274d853a0)\">\n     <use xlink:href=\"#C4_0_3702706369\" x=\"-32.671225\" y=\"280.296973\" style=\"fill: #a5a2cd\"/>\n    </g>\n    <g clip-path=\"url(#p3274d853a0)\">\n     <use xlink:href=\"#C4_0_3702706369\" x=\"-32.671225\" y=\"268.415981\" style=\"fill: #cbcbe3\"/>\n    </g>\n    <g clip-path=\"url(#p3274d853a0)\">\n     <use xlink:href=\"#C4_0_3702706369\" x=\"-32.671225\" y=\"256.534989\" style=\"fill: #adabd2\"/>\n    </g>\n    <g clip-path=\"url(#p3274d853a0)\">\n     <use xlink:href=\"#C4_0_3702706369\" x=\"-32.671225\" y=\"244.653997\" style=\"fill: #f2f0f7\"/>\n    </g>\n    <g clip-path=\"url(#p3274d853a0)\">\n     <use xlink:href=\"#C4_0_3702706369\" x=\"-32.671225\" y=\"232.773006\" style=\"fill: #fcfbfd\"/>\n    </g>\n    <g clip-path=\"url(#p3274d853a0)\">\n     <use xlink:href=\"#C4_0_3702706369\" x=\"-32.671225\" y=\"220.892014\" style=\"fill: #fcfbfd\"/>\n    </g>\n    <g clip-path=\"url(#p3274d853a0)\">\n     <use xlink:href=\"#C4_0_3702706369\" x=\"-32.671225\" y=\"209.011022\" style=\"fill: #fcfbfd\"/>\n    </g>\n    <g clip-path=\"url(#p3274d853a0)\">\n     <use xlink:href=\"#C4_0_3702706369\" x=\"-25.820316\" y=\"339.701931\" style=\"fill: #fcfbfd\"/>\n    </g>\n    <g clip-path=\"url(#p3274d853a0)\">\n     <use xlink:href=\"#C4_0_3702706369\" x=\"-25.820316\" y=\"327.82094\" style=\"fill: #efedf5\"/>\n    </g>\n    <g clip-path=\"url(#p3274d853a0)\">\n     <use xlink:href=\"#C4_0_3702706369\" x=\"-25.820316\" y=\"315.939948\" style=\"fill: #f9f7fb\"/>\n    </g>\n    <g clip-path=\"url(#p3274d853a0)\">\n     <use xlink:href=\"#C4_0_3702706369\" x=\"-25.820316\" y=\"304.058956\" style=\"fill: #efedf5\"/>\n    </g>\n    <g clip-path=\"url(#p3274d853a0)\">\n     <use xlink:href=\"#C4_0_3702706369\" x=\"-25.820316\" y=\"292.177964\" style=\"fill: #bcbddc\"/>\n    </g>\n    <g clip-path=\"url(#p3274d853a0)\">\n     <use xlink:href=\"#C4_0_3702706369\" x=\"-25.820316\" y=\"280.296973\" style=\"fill: #6f5ba8\"/>\n    </g>\n    <g clip-path=\"url(#p3274d853a0)\">\n     <use xlink:href=\"#C4_0_3702706369\" x=\"-25.820316\" y=\"268.415981\" style=\"fill: #7566ae\"/>\n    </g>\n    <g clip-path=\"url(#p3274d853a0)\">\n     <use xlink:href=\"#C4_0_3702706369\" x=\"-25.820316\" y=\"256.534989\" style=\"fill: #8e8bc1\"/>\n    </g>\n    <g clip-path=\"url(#p3274d853a0)\">\n     <use xlink:href=\"#C4_0_3702706369\" x=\"-25.820316\" y=\"244.653997\" style=\"fill: #d2d2e7\"/>\n    </g>\n    <g clip-path=\"url(#p3274d853a0)\">\n     <use xlink:href=\"#C4_0_3702706369\" x=\"-25.820316\" y=\"232.773006\" style=\"fill: #fcfbfd\"/>\n    </g>\n    <g clip-path=\"url(#p3274d853a0)\">\n     <use xlink:href=\"#C4_0_3702706369\" x=\"-25.820316\" y=\"220.892014\" style=\"fill: #bcbddc\"/>\n    </g>\n    <g clip-path=\"url(#p3274d853a0)\">\n     <use xlink:href=\"#C4_0_3702706369\" x=\"-25.820316\" y=\"209.011022\" style=\"fill: #fcfbfd\"/>\n    </g>\n    <g clip-path=\"url(#p3274d853a0)\">\n     <use xlink:href=\"#C4_0_3702706369\" x=\"-18.969407\" y=\"339.701931\" style=\"fill: #fcfbfd\"/>\n    </g>\n    <g clip-path=\"url(#p3274d853a0)\">\n     <use xlink:href=\"#C4_0_3702706369\" x=\"-18.969407\" y=\"327.82094\" style=\"fill: #f2f0f7\"/>\n    </g>\n    <g clip-path=\"url(#p3274d853a0)\">\n     <use xlink:href=\"#C4_0_3702706369\" x=\"-18.969407\" y=\"315.939948\" style=\"fill: #eae8f2\"/>\n    </g>\n    <g clip-path=\"url(#p3274d853a0)\">\n     <use xlink:href=\"#C4_0_3702706369\" x=\"-18.969407\" y=\"304.058956\" style=\"fill: #dadaeb\"/>\n    </g>\n    <g clip-path=\"url(#p3274d853a0)\">\n     <use xlink:href=\"#C4_0_3702706369\" x=\"-18.969407\" y=\"292.177964\" style=\"fill: #d2d2e7\"/>\n    </g>\n    <g clip-path=\"url(#p3274d853a0)\">\n     <use xlink:href=\"#C4_0_3702706369\" x=\"-18.969407\" y=\"280.296973\" style=\"fill: #d2d2e7\"/>\n    </g>\n    <g clip-path=\"url(#p3274d853a0)\">\n     <use xlink:href=\"#C4_0_3702706369\" x=\"-18.969407\" y=\"268.415981\" style=\"fill: #a5a2cd\"/>\n    </g>\n    <g clip-path=\"url(#p3274d853a0)\">\n     <use xlink:href=\"#C4_0_3702706369\" x=\"-18.969407\" y=\"256.534989\" style=\"fill: #7a71b4\"/>\n    </g>\n    <g clip-path=\"url(#p3274d853a0)\">\n     <use xlink:href=\"#C4_0_3702706369\" x=\"-18.969407\" y=\"244.653997\" style=\"fill: #dfdfed\"/>\n    </g>\n    <g clip-path=\"url(#p3274d853a0)\">\n     <use xlink:href=\"#C4_0_3702706369\" x=\"-18.969407\" y=\"232.773006\" style=\"fill: #f5f4f9\"/>\n    </g>\n    <g clip-path=\"url(#p3274d853a0)\">\n     <use xlink:href=\"#C4_0_3702706369\" x=\"-18.969407\" y=\"220.892014\" style=\"fill: #eae8f2\"/>\n    </g>\n    <g clip-path=\"url(#p3274d853a0)\">\n     <use xlink:href=\"#C4_0_3702706369\" x=\"-18.969407\" y=\"209.011022\" style=\"fill: #fcfbfd\"/>\n    </g>\n    <g clip-path=\"url(#p3274d853a0)\">\n     <use xlink:href=\"#C4_0_3702706369\" x=\"-12.118498\" y=\"339.701931\" style=\"fill: #fcfbfd\"/>\n    </g>\n    <g clip-path=\"url(#p3274d853a0)\">\n     <use xlink:href=\"#C4_0_3702706369\" x=\"-12.118498\" y=\"327.82094\" style=\"fill: #f9f7fb\"/>\n    </g>\n    <g clip-path=\"url(#p3274d853a0)\">\n     <use xlink:href=\"#C4_0_3702706369\" x=\"-12.118498\" y=\"315.939948\" style=\"fill: #f5f4f9\"/>\n    </g>\n    <g clip-path=\"url(#p3274d853a0)\">\n     <use xlink:href=\"#C4_0_3702706369\" x=\"-12.118498\" y=\"304.058956\" style=\"fill: #eae8f2\"/>\n    </g>\n    <g clip-path=\"url(#p3274d853a0)\">\n     <use xlink:href=\"#C4_0_3702706369\" x=\"-12.118498\" y=\"292.177964\" style=\"fill: #a5a2cd\"/>\n    </g>\n    <g clip-path=\"url(#p3274d853a0)\">\n     <use xlink:href=\"#C4_0_3702706369\" x=\"-12.118498\" y=\"280.296973\" style=\"fill: #cbcbe3\"/>\n    </g>\n    <g clip-path=\"url(#p3274d853a0)\">\n     <use xlink:href=\"#C4_0_3702706369\" x=\"-12.118498\" y=\"268.415981\" style=\"fill: #bcbddc\"/>\n    </g>\n    <g clip-path=\"url(#p3274d853a0)\">\n     <use xlink:href=\"#C4_0_3702706369\" x=\"-12.118498\" y=\"256.534989\" style=\"fill: #cbcbe3\"/>\n    </g>\n    <g clip-path=\"url(#p3274d853a0)\">\n     <use xlink:href=\"#C4_0_3702706369\" x=\"-12.118498\" y=\"244.653997\" style=\"fill: #e4e3f0\"/>\n    </g>\n    <g clip-path=\"url(#p3274d853a0)\">\n     <use xlink:href=\"#C4_0_3702706369\" x=\"-12.118498\" y=\"232.773006\" style=\"fill: #dfdfed\"/>\n    </g>\n    <g clip-path=\"url(#p3274d853a0)\">\n     <use xlink:href=\"#C4_0_3702706369\" x=\"-12.118498\" y=\"220.892014\" style=\"fill: #807cba\"/>\n    </g>\n    <g clip-path=\"url(#p3274d853a0)\">\n     <use xlink:href=\"#C4_0_3702706369\" x=\"-12.118498\" y=\"209.011022\" style=\"fill: #dfdfed\"/>\n    </g>\n    <g clip-path=\"url(#p3274d853a0)\">\n     <use xlink:href=\"#C4_0_3702706369\" x=\"-5.267589\" y=\"339.701931\" style=\"fill: #fcfbfd\"/>\n    </g>\n    <g clip-path=\"url(#p3274d853a0)\">\n     <use xlink:href=\"#C4_0_3702706369\" x=\"-5.267589\" y=\"327.82094\" style=\"fill: #fcfbfd\"/>\n    </g>\n    <g clip-path=\"url(#p3274d853a0)\">\n     <use xlink:href=\"#C4_0_3702706369\" x=\"-5.267589\" y=\"315.939948\" style=\"fill: #fcfbfd\"/>\n    </g>\n    <g clip-path=\"url(#p3274d853a0)\">\n     <use xlink:href=\"#C4_0_3702706369\" x=\"-5.267589\" y=\"304.058956\" style=\"fill: #efedf5\"/>\n    </g>\n    <g clip-path=\"url(#p3274d853a0)\">\n     <use xlink:href=\"#C4_0_3702706369\" x=\"-5.267589\" y=\"292.177964\" style=\"fill: #eae8f2\"/>\n    </g>\n    <g clip-path=\"url(#p3274d853a0)\">\n     <use xlink:href=\"#C4_0_3702706369\" x=\"-5.267589\" y=\"280.296973\" style=\"fill: #dfdfed\"/>\n    </g>\n    <g clip-path=\"url(#p3274d853a0)\">\n     <use xlink:href=\"#C4_0_3702706369\" x=\"-5.267589\" y=\"268.415981\" style=\"fill: #e4e3f0\"/>\n    </g>\n    <g clip-path=\"url(#p3274d853a0)\">\n     <use xlink:href=\"#C4_0_3702706369\" x=\"-5.267589\" y=\"256.534989\" style=\"fill: #dadaeb\"/>\n    </g>\n    <g clip-path=\"url(#p3274d853a0)\">\n     <use xlink:href=\"#C4_0_3702706369\" x=\"-5.267589\" y=\"244.653997\" style=\"fill: #efedf5\"/>\n    </g>\n    <g clip-path=\"url(#p3274d853a0)\">\n     <use xlink:href=\"#C4_0_3702706369\" x=\"-5.267589\" y=\"232.773006\" style=\"fill: #9692c4\"/>\n    </g>\n    <g clip-path=\"url(#p3274d853a0)\">\n     <use xlink:href=\"#C4_0_3702706369\" x=\"-5.267589\" y=\"220.892014\" style=\"fill: #440981\"/>\n    </g>\n    <g clip-path=\"url(#p3274d853a0)\">\n     <use xlink:href=\"#C4_0_3702706369\" x=\"-5.267589\" y=\"209.011022\" style=\"fill: #eae8f2\"/>\n    </g>\n    <g clip-path=\"url(#p3274d853a0)\">\n     <use xlink:href=\"#C4_0_3702706369\" x=\"1.583321\" y=\"339.701931\" style=\"fill: #fcfbfd\"/>\n    </g>\n    <g clip-path=\"url(#p3274d853a0)\">\n     <use xlink:href=\"#C4_0_3702706369\" x=\"1.583321\" y=\"327.82094\" style=\"fill: #eae8f2\"/>\n    </g>\n    <g clip-path=\"url(#p3274d853a0)\">\n     <use xlink:href=\"#C4_0_3702706369\" x=\"1.583321\" y=\"315.939948\" style=\"fill: #f5f4f9\"/>\n    </g>\n    <g clip-path=\"url(#p3274d853a0)\">\n     <use xlink:href=\"#C4_0_3702706369\" x=\"1.583321\" y=\"304.058956\" style=\"fill: #f9f7fb\"/>\n    </g>\n    <g clip-path=\"url(#p3274d853a0)\">\n     <use xlink:href=\"#C4_0_3702706369\" x=\"1.583321\" y=\"292.177964\" style=\"fill: #9692c4\"/>\n    </g>\n    <g clip-path=\"url(#p3274d853a0)\">\n     <use xlink:href=\"#C4_0_3702706369\" x=\"1.583321\" y=\"280.296973\" style=\"fill: #f5f4f9\"/>\n    </g>\n    <g clip-path=\"url(#p3274d853a0)\">\n     <use xlink:href=\"#C4_0_3702706369\" x=\"1.583321\" y=\"268.415981\" style=\"fill: #e4e3f0\"/>\n    </g>\n    <g clip-path=\"url(#p3274d853a0)\">\n     <use xlink:href=\"#C4_0_3702706369\" x=\"1.583321\" y=\"256.534989\" style=\"fill: #e4e3f0\"/>\n    </g>\n    <g clip-path=\"url(#p3274d853a0)\">\n     <use xlink:href=\"#C4_0_3702706369\" x=\"1.583321\" y=\"244.653997\" style=\"fill: #e4e3f0\"/>\n    </g>\n    <g clip-path=\"url(#p3274d853a0)\">\n     <use xlink:href=\"#C4_0_3702706369\" x=\"1.583321\" y=\"232.773006\" style=\"fill: #7a71b4\"/>\n    </g>\n    <g clip-path=\"url(#p3274d853a0)\">\n     <use xlink:href=\"#C4_0_3702706369\" x=\"1.583321\" y=\"220.892014\" style=\"fill: #c3c4e0\"/>\n    </g>\n    <g clip-path=\"url(#p3274d853a0)\">\n     <use xlink:href=\"#C4_0_3702706369\" x=\"1.583321\" y=\"209.011022\" style=\"fill: #fcfbfd\"/>\n    </g>\n    <g clip-path=\"url(#p3274d853a0)\">\n     <use xlink:href=\"#C4_0_3702706369\" x=\"8.43423\" y=\"339.701931\" style=\"fill: #f9f7fb\"/>\n    </g>\n    <g clip-path=\"url(#p3274d853a0)\">\n     <use xlink:href=\"#C4_0_3702706369\" x=\"8.43423\" y=\"327.82094\" style=\"fill: #cbcbe3\"/>\n    </g>\n    <g clip-path=\"url(#p3274d853a0)\">\n     <use xlink:href=\"#C4_0_3702706369\" x=\"8.43423\" y=\"315.939948\" style=\"fill: #f9f7fb\"/>\n    </g>\n    <g clip-path=\"url(#p3274d853a0)\">\n     <use xlink:href=\"#C4_0_3702706369\" x=\"8.43423\" y=\"304.058956\" style=\"fill: #f5f4f9\"/>\n    </g>\n    <g clip-path=\"url(#p3274d853a0)\">\n     <use xlink:href=\"#C4_0_3702706369\" x=\"8.43423\" y=\"292.177964\" style=\"fill: #d2d2e7\"/>\n    </g>\n    <g clip-path=\"url(#p3274d853a0)\">\n     <use xlink:href=\"#C4_0_3702706369\" x=\"8.43423\" y=\"280.296973\" style=\"fill: #f9f7fb\"/>\n    </g>\n    <g clip-path=\"url(#p3274d853a0)\">\n     <use xlink:href=\"#C4_0_3702706369\" x=\"8.43423\" y=\"268.415981\" style=\"fill: #cbcbe3\"/>\n    </g>\n    <g clip-path=\"url(#p3274d853a0)\">\n     <use xlink:href=\"#C4_0_3702706369\" x=\"8.43423\" y=\"256.534989\" style=\"fill: #f2f0f7\"/>\n    </g>\n    <g clip-path=\"url(#p3274d853a0)\">\n     <use xlink:href=\"#C4_0_3702706369\" x=\"8.43423\" y=\"244.653997\" style=\"fill: #fcfbfd\"/>\n    </g>\n    <g clip-path=\"url(#p3274d853a0)\">\n     <use xlink:href=\"#C4_0_3702706369\" x=\"8.43423\" y=\"232.773006\" style=\"fill: #fcfbfd\"/>\n    </g>\n    <g clip-path=\"url(#p3274d853a0)\">\n     <use xlink:href=\"#C4_0_3702706369\" x=\"8.43423\" y=\"220.892014\" style=\"fill: #fcfbfd\"/>\n    </g>\n    <g clip-path=\"url(#p3274d853a0)\">\n     <use xlink:href=\"#C4_0_3702706369\" x=\"8.43423\" y=\"209.011022\" style=\"fill: #fcfbfd\"/>\n    </g>\n    <g clip-path=\"url(#p3274d853a0)\">\n     <use xlink:href=\"#C4_0_3702706369\" x=\"15.285139\" y=\"339.701931\" style=\"fill: #fcfbfd\"/>\n    </g>\n    <g clip-path=\"url(#p3274d853a0)\">\n     <use xlink:href=\"#C4_0_3702706369\" x=\"15.285139\" y=\"327.82094\" style=\"fill: #fcfbfd\"/>\n    </g>\n    <g clip-path=\"url(#p3274d853a0)\">\n     <use xlink:href=\"#C4_0_3702706369\" x=\"15.285139\" y=\"315.939948\" style=\"fill: #fcfbfd\"/>\n    </g>\n    <g clip-path=\"url(#p3274d853a0)\">\n     <use xlink:href=\"#C4_0_3702706369\" x=\"15.285139\" y=\"304.058956\" style=\"fill: #f9f7fb\"/>\n    </g>\n    <g clip-path=\"url(#p3274d853a0)\">\n     <use xlink:href=\"#C4_0_3702706369\" x=\"15.285139\" y=\"292.177964\" style=\"fill: #efedf5\"/>\n    </g>\n    <g clip-path=\"url(#p3274d853a0)\">\n     <use xlink:href=\"#C4_0_3702706369\" x=\"15.285139\" y=\"280.296973\" style=\"fill: #fcfbfd\"/>\n    </g>\n    <g clip-path=\"url(#p3274d853a0)\">\n     <use xlink:href=\"#C4_0_3702706369\" x=\"15.285139\" y=\"268.415981\" style=\"fill: #f5f4f9\"/>\n    </g>\n    <g clip-path=\"url(#p3274d853a0)\">\n     <use xlink:href=\"#C4_0_3702706369\" x=\"15.285139\" y=\"256.534989\" style=\"fill: #fcfbfd\"/>\n    </g>\n    <g clip-path=\"url(#p3274d853a0)\">\n     <use xlink:href=\"#C4_0_3702706369\" x=\"15.285139\" y=\"244.653997\" style=\"fill: #fcfbfd\"/>\n    </g>\n    <g clip-path=\"url(#p3274d853a0)\">\n     <use xlink:href=\"#C4_0_3702706369\" x=\"15.285139\" y=\"232.773006\" style=\"fill: #fcfbfd\"/>\n    </g>\n    <g clip-path=\"url(#p3274d853a0)\">\n     <use xlink:href=\"#C4_0_3702706369\" x=\"15.285139\" y=\"220.892014\" style=\"fill: #fcfbfd\"/>\n    </g>\n    <g clip-path=\"url(#p3274d853a0)\">\n     <use xlink:href=\"#C4_0_3702706369\" x=\"15.285139\" y=\"209.011022\" style=\"fill: #fcfbfd\"/>\n    </g>\n    <g clip-path=\"url(#p3274d853a0)\">\n     <use xlink:href=\"#C4_0_3702706369\" x=\"22.136048\" y=\"339.701931\" style=\"fill: #fcfbfd\"/>\n    </g>\n    <g clip-path=\"url(#p3274d853a0)\">\n     <use xlink:href=\"#C4_0_3702706369\" x=\"22.136048\" y=\"327.82094\" style=\"fill: #fcfbfd\"/>\n    </g>\n    <g clip-path=\"url(#p3274d853a0)\">\n     <use xlink:href=\"#C4_0_3702706369\" x=\"22.136048\" y=\"315.939948\" style=\"fill: #fcfbfd\"/>\n    </g>\n    <g clip-path=\"url(#p3274d853a0)\">\n     <use xlink:href=\"#C4_0_3702706369\" x=\"22.136048\" y=\"304.058956\" style=\"fill: #f2f0f7\"/>\n    </g>\n    <g clip-path=\"url(#p3274d853a0)\">\n     <use xlink:href=\"#C4_0_3702706369\" x=\"22.136048\" y=\"292.177964\" style=\"fill: #fcfbfd\"/>\n    </g>\n    <g clip-path=\"url(#p3274d853a0)\">\n     <use xlink:href=\"#C4_0_3702706369\" x=\"22.136048\" y=\"280.296973\" style=\"fill: #fcfbfd\"/>\n    </g>\n    <g clip-path=\"url(#p3274d853a0)\">\n     <use xlink:href=\"#C4_0_3702706369\" x=\"22.136048\" y=\"268.415981\" style=\"fill: #fcfbfd\"/>\n    </g>\n    <g clip-path=\"url(#p3274d853a0)\">\n     <use xlink:href=\"#C4_0_3702706369\" x=\"22.136048\" y=\"256.534989\" style=\"fill: #fcfbfd\"/>\n    </g>\n    <g clip-path=\"url(#p3274d853a0)\">\n     <use xlink:href=\"#C4_0_3702706369\" x=\"22.136048\" y=\"244.653997\" style=\"fill: #fcfbfd\"/>\n    </g>\n    <g clip-path=\"url(#p3274d853a0)\">\n     <use xlink:href=\"#C4_0_3702706369\" x=\"22.136048\" y=\"232.773006\" style=\"fill: #fcfbfd\"/>\n    </g>\n    <g clip-path=\"url(#p3274d853a0)\">\n     <use xlink:href=\"#C4_0_3702706369\" x=\"22.136048\" y=\"220.892014\" style=\"fill: #fcfbfd\"/>\n    </g>\n    <g clip-path=\"url(#p3274d853a0)\">\n     <use xlink:href=\"#C4_0_3702706369\" x=\"22.136048\" y=\"209.011022\" style=\"fill: #fcfbfd\"/>\n    </g>\n    <g clip-path=\"url(#p3274d853a0)\">\n     <use xlink:href=\"#C4_0_3702706369\" x=\"28.986957\" y=\"339.701931\" style=\"fill: #fcfbfd\"/>\n    </g>\n    <g clip-path=\"url(#p3274d853a0)\">\n     <use xlink:href=\"#C4_0_3702706369\" x=\"28.986957\" y=\"327.82094\" style=\"fill: #fcfbfd\"/>\n    </g>\n    <g clip-path=\"url(#p3274d853a0)\">\n     <use xlink:href=\"#C4_0_3702706369\" x=\"28.986957\" y=\"315.939948\" style=\"fill: #fcfbfd\"/>\n    </g>\n    <g clip-path=\"url(#p3274d853a0)\">\n     <use xlink:href=\"#C4_0_3702706369\" x=\"28.986957\" y=\"304.058956\" style=\"fill: #fcfbfd\"/>\n    </g>\n    <g clip-path=\"url(#p3274d853a0)\">\n     <use xlink:href=\"#C4_0_3702706369\" x=\"28.986957\" y=\"292.177964\" style=\"fill: #fcfbfd\"/>\n    </g>\n    <g clip-path=\"url(#p3274d853a0)\">\n     <use xlink:href=\"#C4_0_3702706369\" x=\"28.986957\" y=\"280.296973\" style=\"fill: #fcfbfd\"/>\n    </g>\n    <g clip-path=\"url(#p3274d853a0)\">\n     <use xlink:href=\"#C4_0_3702706369\" x=\"28.986957\" y=\"268.415981\" style=\"fill: #fcfbfd\"/>\n    </g>\n    <g clip-path=\"url(#p3274d853a0)\">\n     <use xlink:href=\"#C4_0_3702706369\" x=\"28.986957\" y=\"256.534989\" style=\"fill: #fcfbfd\"/>\n    </g>\n    <g clip-path=\"url(#p3274d853a0)\">\n     <use xlink:href=\"#C4_0_3702706369\" x=\"28.986957\" y=\"244.653997\" style=\"fill: #fcfbfd\"/>\n    </g>\n    <g clip-path=\"url(#p3274d853a0)\">\n     <use xlink:href=\"#C4_0_3702706369\" x=\"28.986957\" y=\"232.773006\" style=\"fill: #fcfbfd\"/>\n    </g>\n    <g clip-path=\"url(#p3274d853a0)\">\n     <use xlink:href=\"#C4_0_3702706369\" x=\"28.986957\" y=\"220.892014\" style=\"fill: #fcfbfd\"/>\n    </g>\n    <g clip-path=\"url(#p3274d853a0)\">\n     <use xlink:href=\"#C4_0_3702706369\" x=\"28.986957\" y=\"209.011022\" style=\"fill: #fcfbfd\"/>\n    </g>\n    <g clip-path=\"url(#p3274d853a0)\">\n     <use xlink:href=\"#C4_0_3702706369\" x=\"35.837866\" y=\"339.701931\" style=\"fill: #fcfbfd\"/>\n    </g>\n    <g clip-path=\"url(#p3274d853a0)\">\n     <use xlink:href=\"#C4_0_3702706369\" x=\"35.837866\" y=\"327.82094\" style=\"fill: #fcfbfd\"/>\n    </g>\n    <g clip-path=\"url(#p3274d853a0)\">\n     <use xlink:href=\"#C4_0_3702706369\" x=\"35.837866\" y=\"315.939948\" style=\"fill: #fcfbfd\"/>\n    </g>\n    <g clip-path=\"url(#p3274d853a0)\">\n     <use xlink:href=\"#C4_0_3702706369\" x=\"35.837866\" y=\"304.058956\" style=\"fill: #fcfbfd\"/>\n    </g>\n    <g clip-path=\"url(#p3274d853a0)\">\n     <use xlink:href=\"#C4_0_3702706369\" x=\"35.837866\" y=\"292.177964\" style=\"fill: #fcfbfd\"/>\n    </g>\n    <g clip-path=\"url(#p3274d853a0)\">\n     <use xlink:href=\"#C4_0_3702706369\" x=\"35.837866\" y=\"280.296973\" style=\"fill: #fcfbfd\"/>\n    </g>\n    <g clip-path=\"url(#p3274d853a0)\">\n     <use xlink:href=\"#C4_0_3702706369\" x=\"35.837866\" y=\"268.415981\" style=\"fill: #fcfbfd\"/>\n    </g>\n    <g clip-path=\"url(#p3274d853a0)\">\n     <use xlink:href=\"#C4_0_3702706369\" x=\"35.837866\" y=\"256.534989\" style=\"fill: #fcfbfd\"/>\n    </g>\n    <g clip-path=\"url(#p3274d853a0)\">\n     <use xlink:href=\"#C4_0_3702706369\" x=\"35.837866\" y=\"244.653997\" style=\"fill: #fcfbfd\"/>\n    </g>\n    <g clip-path=\"url(#p3274d853a0)\">\n     <use xlink:href=\"#C4_0_3702706369\" x=\"35.837866\" y=\"232.773006\" style=\"fill: #fcfbfd\"/>\n    </g>\n    <g clip-path=\"url(#p3274d853a0)\">\n     <use xlink:href=\"#C4_0_3702706369\" x=\"35.837866\" y=\"220.892014\" style=\"fill: #fcfbfd\"/>\n    </g>\n    <g clip-path=\"url(#p3274d853a0)\">\n     <use xlink:href=\"#C4_0_3702706369\" x=\"35.837866\" y=\"209.011022\" style=\"fill: #fcfbfd\"/>\n    </g>\n    <g clip-path=\"url(#p3274d853a0)\">\n     <use xlink:href=\"#C4_0_3702706369\" x=\"42.688775\" y=\"339.701931\" style=\"fill: #fcfbfd\"/>\n    </g>\n    <g clip-path=\"url(#p3274d853a0)\">\n     <use xlink:href=\"#C4_0_3702706369\" x=\"42.688775\" y=\"327.82094\" style=\"fill: #fcfbfd\"/>\n    </g>\n    <g clip-path=\"url(#p3274d853a0)\">\n     <use xlink:href=\"#C4_0_3702706369\" x=\"42.688775\" y=\"315.939948\" style=\"fill: #fcfbfd\"/>\n    </g>\n    <g clip-path=\"url(#p3274d853a0)\">\n     <use xlink:href=\"#C4_0_3702706369\" x=\"42.688775\" y=\"304.058956\" style=\"fill: #fcfbfd\"/>\n    </g>\n    <g clip-path=\"url(#p3274d853a0)\">\n     <use xlink:href=\"#C4_0_3702706369\" x=\"42.688775\" y=\"292.177964\" style=\"fill: #fcfbfd\"/>\n    </g>\n    <g clip-path=\"url(#p3274d853a0)\">\n     <use xlink:href=\"#C4_0_3702706369\" x=\"42.688775\" y=\"280.296973\" style=\"fill: #fcfbfd\"/>\n    </g>\n    <g clip-path=\"url(#p3274d853a0)\">\n     <use xlink:href=\"#C4_0_3702706369\" x=\"42.688775\" y=\"268.415981\" style=\"fill: #fcfbfd\"/>\n    </g>\n    <g clip-path=\"url(#p3274d853a0)\">\n     <use xlink:href=\"#C4_0_3702706369\" x=\"42.688775\" y=\"256.534989\" style=\"fill: #fcfbfd\"/>\n    </g>\n    <g clip-path=\"url(#p3274d853a0)\">\n     <use xlink:href=\"#C4_0_3702706369\" x=\"42.688775\" y=\"244.653997\" style=\"fill: #fcfbfd\"/>\n    </g>\n    <g clip-path=\"url(#p3274d853a0)\">\n     <use xlink:href=\"#C4_0_3702706369\" x=\"42.688775\" y=\"232.773006\" style=\"fill: #fcfbfd\"/>\n    </g>\n    <g clip-path=\"url(#p3274d853a0)\">\n     <use xlink:href=\"#C4_0_3702706369\" x=\"42.688775\" y=\"220.892014\" style=\"fill: #fcfbfd\"/>\n    </g>\n    <g clip-path=\"url(#p3274d853a0)\">\n     <use xlink:href=\"#C4_0_3702706369\" x=\"42.688775\" y=\"209.011022\" style=\"fill: #fcfbfd\"/>\n    </g>\n    <g clip-path=\"url(#p3274d853a0)\">\n     <use xlink:href=\"#C4_0_3702706369\" x=\"49.539684\" y=\"339.701931\" style=\"fill: #fcfbfd\"/>\n    </g>\n    <g clip-path=\"url(#p3274d853a0)\">\n     <use xlink:href=\"#C4_0_3702706369\" x=\"49.539684\" y=\"327.82094\" style=\"fill: #fcfbfd\"/>\n    </g>\n    <g clip-path=\"url(#p3274d853a0)\">\n     <use xlink:href=\"#C4_0_3702706369\" x=\"49.539684\" y=\"315.939948\" style=\"fill: #fcfbfd\"/>\n    </g>\n    <g clip-path=\"url(#p3274d853a0)\">\n     <use xlink:href=\"#C4_0_3702706369\" x=\"49.539684\" y=\"304.058956\" style=\"fill: #fcfbfd\"/>\n    </g>\n    <g clip-path=\"url(#p3274d853a0)\">\n     <use xlink:href=\"#C4_0_3702706369\" x=\"49.539684\" y=\"292.177964\" style=\"fill: #eae8f2\"/>\n    </g>\n    <g clip-path=\"url(#p3274d853a0)\">\n     <use xlink:href=\"#C4_0_3702706369\" x=\"49.539684\" y=\"280.296973\" style=\"fill: #f9f7fb\"/>\n    </g>\n    <g clip-path=\"url(#p3274d853a0)\">\n     <use xlink:href=\"#C4_0_3702706369\" x=\"49.539684\" y=\"268.415981\" style=\"fill: #dadaeb\"/>\n    </g>\n    <g clip-path=\"url(#p3274d853a0)\">\n     <use xlink:href=\"#C4_0_3702706369\" x=\"49.539684\" y=\"256.534989\" style=\"fill: #dfdfed\"/>\n    </g>\n    <g clip-path=\"url(#p3274d853a0)\">\n     <use xlink:href=\"#C4_0_3702706369\" x=\"49.539684\" y=\"244.653997\" style=\"fill: #fcfbfd\"/>\n    </g>\n    <g clip-path=\"url(#p3274d853a0)\">\n     <use xlink:href=\"#C4_0_3702706369\" x=\"49.539684\" y=\"232.773006\" style=\"fill: #fcfbfd\"/>\n    </g>\n    <g clip-path=\"url(#p3274d853a0)\">\n     <use xlink:href=\"#C4_0_3702706369\" x=\"49.539684\" y=\"220.892014\" style=\"fill: #fcfbfd\"/>\n    </g>\n    <g clip-path=\"url(#p3274d853a0)\">\n     <use xlink:href=\"#C4_0_3702706369\" x=\"49.539684\" y=\"209.011022\" style=\"fill: #fcfbfd\"/>\n    </g>\n    <g clip-path=\"url(#p3274d853a0)\">\n     <use xlink:href=\"#C4_0_3702706369\" x=\"56.390593\" y=\"339.701931\" style=\"fill: #fcfbfd\"/>\n    </g>\n    <g clip-path=\"url(#p3274d853a0)\">\n     <use xlink:href=\"#C4_0_3702706369\" x=\"56.390593\" y=\"327.82094\" style=\"fill: #fcfbfd\"/>\n    </g>\n    <g clip-path=\"url(#p3274d853a0)\">\n     <use xlink:href=\"#C4_0_3702706369\" x=\"56.390593\" y=\"315.939948\" style=\"fill: #fcfbfd\"/>\n    </g>\n    <g clip-path=\"url(#p3274d853a0)\">\n     <use xlink:href=\"#C4_0_3702706369\" x=\"56.390593\" y=\"304.058956\" style=\"fill: #fcfbfd\"/>\n    </g>\n    <g clip-path=\"url(#p3274d853a0)\">\n     <use xlink:href=\"#C4_0_3702706369\" x=\"56.390593\" y=\"292.177964\" style=\"fill: #eae8f2\"/>\n    </g>\n    <g clip-path=\"url(#p3274d853a0)\">\n     <use xlink:href=\"#C4_0_3702706369\" x=\"56.390593\" y=\"280.296973\" style=\"fill: #bcbddc\"/>\n    </g>\n    <g clip-path=\"url(#p3274d853a0)\">\n     <use xlink:href=\"#C4_0_3702706369\" x=\"56.390593\" y=\"268.415981\" style=\"fill: #9e9ac8\"/>\n    </g>\n    <g clip-path=\"url(#p3274d853a0)\">\n     <use xlink:href=\"#C4_0_3702706369\" x=\"56.390593\" y=\"256.534989\" style=\"fill: #7a71b4\"/>\n    </g>\n    <g clip-path=\"url(#p3274d853a0)\">\n     <use xlink:href=\"#C4_0_3702706369\" x=\"56.390593\" y=\"244.653997\" style=\"fill: #fcfbfd\"/>\n    </g>\n    <g clip-path=\"url(#p3274d853a0)\">\n     <use xlink:href=\"#C4_0_3702706369\" x=\"56.390593\" y=\"232.773006\" style=\"fill: #fcfbfd\"/>\n    </g>\n    <g clip-path=\"url(#p3274d853a0)\">\n     <use xlink:href=\"#C4_0_3702706369\" x=\"56.390593\" y=\"220.892014\" style=\"fill: #fcfbfd\"/>\n    </g>\n    <g clip-path=\"url(#p3274d853a0)\">\n     <use xlink:href=\"#C4_0_3702706369\" x=\"56.390593\" y=\"209.011022\" style=\"fill: #fcfbfd\"/>\n    </g>\n    <g clip-path=\"url(#p3274d853a0)\">\n     <use xlink:href=\"#C4_0_3702706369\" x=\"63.241502\" y=\"339.701931\" style=\"fill: #fcfbfd\"/>\n    </g>\n    <g clip-path=\"url(#p3274d853a0)\">\n     <use xlink:href=\"#C4_0_3702706369\" x=\"63.241502\" y=\"327.82094\" style=\"fill: #fcfbfd\"/>\n    </g>\n    <g clip-path=\"url(#p3274d853a0)\">\n     <use xlink:href=\"#C4_0_3702706369\" x=\"63.241502\" y=\"315.939948\" style=\"fill: #fcfbfd\"/>\n    </g>\n    <g clip-path=\"url(#p3274d853a0)\">\n     <use xlink:href=\"#C4_0_3702706369\" x=\"63.241502\" y=\"304.058956\" style=\"fill: #e4e3f0\"/>\n    </g>\n    <g clip-path=\"url(#p3274d853a0)\">\n     <use xlink:href=\"#C4_0_3702706369\" x=\"63.241502\" y=\"292.177964\" style=\"fill: #8784bd\"/>\n    </g>\n    <g clip-path=\"url(#p3274d853a0)\">\n     <use xlink:href=\"#C4_0_3702706369\" x=\"63.241502\" y=\"280.296973\" style=\"fill: #c3c4e0\"/>\n    </g>\n    <g clip-path=\"url(#p3274d853a0)\">\n     <use xlink:href=\"#C4_0_3702706369\" x=\"63.241502\" y=\"268.415981\" style=\"fill: #cbcbe3\"/>\n    </g>\n    <g clip-path=\"url(#p3274d853a0)\">\n     <use xlink:href=\"#C4_0_3702706369\" x=\"63.241502\" y=\"256.534989\" style=\"fill: #f9f7fb\"/>\n    </g>\n    <g clip-path=\"url(#p3274d853a0)\">\n     <use xlink:href=\"#C4_0_3702706369\" x=\"63.241502\" y=\"244.653997\" style=\"fill: #fcfbfd\"/>\n    </g>\n    <g clip-path=\"url(#p3274d853a0)\">\n     <use xlink:href=\"#C4_0_3702706369\" x=\"63.241502\" y=\"232.773006\" style=\"fill: #fcfbfd\"/>\n    </g>\n    <g clip-path=\"url(#p3274d853a0)\">\n     <use xlink:href=\"#C4_0_3702706369\" x=\"63.241502\" y=\"220.892014\" style=\"fill: #fcfbfd\"/>\n    </g>\n    <g clip-path=\"url(#p3274d853a0)\">\n     <use xlink:href=\"#C4_0_3702706369\" x=\"63.241502\" y=\"209.011022\" style=\"fill: #fcfbfd\"/>\n    </g>\n    <g clip-path=\"url(#p3274d853a0)\">\n     <use xlink:href=\"#C4_0_3702706369\" x=\"70.092411\" y=\"339.701931\" style=\"fill: #fcfbfd\"/>\n    </g>\n    <g clip-path=\"url(#p3274d853a0)\">\n     <use xlink:href=\"#C4_0_3702706369\" x=\"70.092411\" y=\"327.82094\" style=\"fill: #fcfbfd\"/>\n    </g>\n    <g clip-path=\"url(#p3274d853a0)\">\n     <use xlink:href=\"#C4_0_3702706369\" x=\"70.092411\" y=\"315.939948\" style=\"fill: #f9f7fb\"/>\n    </g>\n    <g clip-path=\"url(#p3274d853a0)\">\n     <use xlink:href=\"#C4_0_3702706369\" x=\"70.092411\" y=\"304.058956\" style=\"fill: #dadaeb\"/>\n    </g>\n    <g clip-path=\"url(#p3274d853a0)\">\n     <use xlink:href=\"#C4_0_3702706369\" x=\"70.092411\" y=\"292.177964\" style=\"fill: #bcbddc\"/>\n    </g>\n    <g clip-path=\"url(#p3274d853a0)\">\n     <use xlink:href=\"#C4_0_3702706369\" x=\"70.092411\" y=\"280.296973\" style=\"fill: #8e8bc1\"/>\n    </g>\n    <g clip-path=\"url(#p3274d853a0)\">\n     <use xlink:href=\"#C4_0_3702706369\" x=\"70.092411\" y=\"268.415981\" style=\"fill: #cbcbe3\"/>\n    </g>\n    <g clip-path=\"url(#p3274d853a0)\">\n     <use xlink:href=\"#C4_0_3702706369\" x=\"70.092411\" y=\"256.534989\" style=\"fill: #fcfbfd\"/>\n    </g>\n    <g clip-path=\"url(#p3274d853a0)\">\n     <use xlink:href=\"#C4_0_3702706369\" x=\"70.092411\" y=\"244.653997\" style=\"fill: #fcfbfd\"/>\n    </g>\n    <g clip-path=\"url(#p3274d853a0)\">\n     <use xlink:href=\"#C4_0_3702706369\" x=\"70.092411\" y=\"232.773006\" style=\"fill: #fcfbfd\"/>\n    </g>\n    <g clip-path=\"url(#p3274d853a0)\">\n     <use xlink:href=\"#C4_0_3702706369\" x=\"70.092411\" y=\"220.892014\" style=\"fill: #fcfbfd\"/>\n    </g>\n    <g clip-path=\"url(#p3274d853a0)\">\n     <use xlink:href=\"#C4_0_3702706369\" x=\"70.092411\" y=\"209.011022\" style=\"fill: #fcfbfd\"/>\n    </g>\n    <g clip-path=\"url(#p3274d853a0)\">\n     <use xlink:href=\"#C4_0_3702706369\" x=\"76.943321\" y=\"339.701931\" style=\"fill: #fcfbfd\"/>\n    </g>\n    <g clip-path=\"url(#p3274d853a0)\">\n     <use xlink:href=\"#C4_0_3702706369\" x=\"76.943321\" y=\"327.82094\" style=\"fill: #fcfbfd\"/>\n    </g>\n    <g clip-path=\"url(#p3274d853a0)\">\n     <use xlink:href=\"#C4_0_3702706369\" x=\"76.943321\" y=\"315.939948\" style=\"fill: #f2f0f7\"/>\n    </g>\n    <g clip-path=\"url(#p3274d853a0)\">\n     <use xlink:href=\"#C4_0_3702706369\" x=\"76.943321\" y=\"304.058956\" style=\"fill: #adabd2\"/>\n    </g>\n    <g clip-path=\"url(#p3274d853a0)\">\n     <use xlink:href=\"#C4_0_3702706369\" x=\"76.943321\" y=\"292.177964\" style=\"fill: #dadaeb\"/>\n    </g>\n    <g clip-path=\"url(#p3274d853a0)\">\n     <use xlink:href=\"#C4_0_3702706369\" x=\"76.943321\" y=\"280.296973\" style=\"fill: #dfdfed\"/>\n    </g>\n    <g clip-path=\"url(#p3274d853a0)\">\n     <use xlink:href=\"#C4_0_3702706369\" x=\"76.943321\" y=\"268.415981\" style=\"fill: #cbcbe3\"/>\n    </g>\n    <g clip-path=\"url(#p3274d853a0)\">\n     <use xlink:href=\"#C4_0_3702706369\" x=\"76.943321\" y=\"256.534989\" style=\"fill: #fcfbfd\"/>\n    </g>\n    <g clip-path=\"url(#p3274d853a0)\">\n     <use xlink:href=\"#C4_0_3702706369\" x=\"76.943321\" y=\"244.653997\" style=\"fill: #fcfbfd\"/>\n    </g>\n    <g clip-path=\"url(#p3274d853a0)\">\n     <use xlink:href=\"#C4_0_3702706369\" x=\"76.943321\" y=\"232.773006\" style=\"fill: #fcfbfd\"/>\n    </g>\n    <g clip-path=\"url(#p3274d853a0)\">\n     <use xlink:href=\"#C4_0_3702706369\" x=\"76.943321\" y=\"220.892014\" style=\"fill: #fcfbfd\"/>\n    </g>\n    <g clip-path=\"url(#p3274d853a0)\">\n     <use xlink:href=\"#C4_0_3702706369\" x=\"76.943321\" y=\"209.011022\" style=\"fill: #fcfbfd\"/>\n    </g>\n    <g clip-path=\"url(#p3274d853a0)\">\n     <use xlink:href=\"#C4_0_3702706369\" x=\"83.79423\" y=\"339.701931\" style=\"fill: #fcfbfd\"/>\n    </g>\n    <g clip-path=\"url(#p3274d853a0)\">\n     <use xlink:href=\"#C4_0_3702706369\" x=\"83.79423\" y=\"327.82094\" style=\"fill: #fcfbfd\"/>\n    </g>\n    <g clip-path=\"url(#p3274d853a0)\">\n     <use xlink:href=\"#C4_0_3702706369\" x=\"83.79423\" y=\"315.939948\" style=\"fill: #fcfbfd\"/>\n    </g>\n    <g clip-path=\"url(#p3274d853a0)\">\n     <use xlink:href=\"#C4_0_3702706369\" x=\"83.79423\" y=\"304.058956\" style=\"fill: #dadaeb\"/>\n    </g>\n    <g clip-path=\"url(#p3274d853a0)\">\n     <use xlink:href=\"#C4_0_3702706369\" x=\"83.79423\" y=\"292.177964\" style=\"fill: #bcbddc\"/>\n    </g>\n    <g clip-path=\"url(#p3274d853a0)\">\n     <use xlink:href=\"#C4_0_3702706369\" x=\"83.79423\" y=\"280.296973\" style=\"fill: #eae8f2\"/>\n    </g>\n    <g clip-path=\"url(#p3274d853a0)\">\n     <use xlink:href=\"#C4_0_3702706369\" x=\"83.79423\" y=\"268.415981\" style=\"fill: #c3c4e0\"/>\n    </g>\n    <g clip-path=\"url(#p3274d853a0)\">\n     <use xlink:href=\"#C4_0_3702706369\" x=\"83.79423\" y=\"256.534989\" style=\"fill: #fcfbfd\"/>\n    </g>\n    <g clip-path=\"url(#p3274d853a0)\">\n     <use xlink:href=\"#C4_0_3702706369\" x=\"83.79423\" y=\"244.653997\" style=\"fill: #fcfbfd\"/>\n    </g>\n    <g clip-path=\"url(#p3274d853a0)\">\n     <use xlink:href=\"#C4_0_3702706369\" x=\"83.79423\" y=\"232.773006\" style=\"fill: #fcfbfd\"/>\n    </g>\n    <g clip-path=\"url(#p3274d853a0)\">\n     <use xlink:href=\"#C4_0_3702706369\" x=\"83.79423\" y=\"220.892014\" style=\"fill: #fcfbfd\"/>\n    </g>\n    <g clip-path=\"url(#p3274d853a0)\">\n     <use xlink:href=\"#C4_0_3702706369\" x=\"83.79423\" y=\"209.011022\" style=\"fill: #fcfbfd\"/>\n    </g>\n    <g clip-path=\"url(#p3274d853a0)\">\n     <use xlink:href=\"#C4_0_3702706369\" x=\"-49.798498\" y=\"333.761436\" style=\"fill: #fcfbfd\"/>\n    </g>\n    <g clip-path=\"url(#p3274d853a0)\">\n     <use xlink:href=\"#C4_0_3702706369\" x=\"-49.798498\" y=\"321.880444\" style=\"fill: #fcfbfd\"/>\n    </g>\n    <g clip-path=\"url(#p3274d853a0)\">\n     <use xlink:href=\"#C4_0_3702706369\" x=\"-49.798498\" y=\"309.999452\" style=\"fill: #fcfbfd\"/>\n    </g>\n    <g clip-path=\"url(#p3274d853a0)\">\n     <use xlink:href=\"#C4_0_3702706369\" x=\"-49.798498\" y=\"298.11846\" style=\"fill: #eae8f2\"/>\n    </g>\n    <g clip-path=\"url(#p3274d853a0)\">\n     <use xlink:href=\"#C4_0_3702706369\" x=\"-49.798498\" y=\"286.237469\" style=\"fill: #cbcbe3\"/>\n    </g>\n    <g clip-path=\"url(#p3274d853a0)\">\n     <use xlink:href=\"#C4_0_3702706369\" x=\"-49.798498\" y=\"274.356477\" style=\"fill: #a5a2cd\"/>\n    </g>\n    <g clip-path=\"url(#p3274d853a0)\">\n     <use xlink:href=\"#C4_0_3702706369\" x=\"-49.798498\" y=\"262.475485\" style=\"fill: #8e8bc1\"/>\n    </g>\n    <g clip-path=\"url(#p3274d853a0)\">\n     <use xlink:href=\"#C4_0_3702706369\" x=\"-49.798498\" y=\"250.594493\" style=\"fill: #f9f7fb\"/>\n    </g>\n    <g clip-path=\"url(#p3274d853a0)\">\n     <use xlink:href=\"#C4_0_3702706369\" x=\"-49.798498\" y=\"238.713502\" style=\"fill: #fcfbfd\"/>\n    </g>\n    <g clip-path=\"url(#p3274d853a0)\">\n     <use xlink:href=\"#C4_0_3702706369\" x=\"-49.798498\" y=\"226.83251\" style=\"fill: #fcfbfd\"/>\n    </g>\n    <g clip-path=\"url(#p3274d853a0)\">\n     <use xlink:href=\"#C4_0_3702706369\" x=\"-49.798498\" y=\"214.951518\" style=\"fill: #fcfbfd\"/>\n    </g>\n    <g clip-path=\"url(#p3274d853a0)\">\n     <use xlink:href=\"#C4_0_3702706369\" x=\"-42.947589\" y=\"333.761436\" style=\"fill: #fcfbfd\"/>\n    </g>\n    <g clip-path=\"url(#p3274d853a0)\">\n     <use xlink:href=\"#C4_0_3702706369\" x=\"-42.947589\" y=\"321.880444\" style=\"fill: #fcfbfd\"/>\n    </g>\n    <g clip-path=\"url(#p3274d853a0)\">\n     <use xlink:href=\"#C4_0_3702706369\" x=\"-42.947589\" y=\"309.999452\" style=\"fill: #c3c4e0\"/>\n    </g>\n    <g clip-path=\"url(#p3274d853a0)\">\n     <use xlink:href=\"#C4_0_3702706369\" x=\"-42.947589\" y=\"298.11846\" style=\"fill: #d2d2e7\"/>\n    </g>\n    <g clip-path=\"url(#p3274d853a0)\">\n     <use xlink:href=\"#C4_0_3702706369\" x=\"-42.947589\" y=\"286.237469\" style=\"fill: #7566ae\"/>\n    </g>\n    <g clip-path=\"url(#p3274d853a0)\">\n     <use xlink:href=\"#C4_0_3702706369\" x=\"-42.947589\" y=\"274.356477\" style=\"fill: #7a71b4\"/>\n    </g>\n    <g clip-path=\"url(#p3274d853a0)\">\n     <use xlink:href=\"#C4_0_3702706369\" x=\"-42.947589\" y=\"262.475485\" style=\"fill: #cbcbe3\"/>\n    </g>\n    <g clip-path=\"url(#p3274d853a0)\">\n     <use xlink:href=\"#C4_0_3702706369\" x=\"-42.947589\" y=\"250.594493\" style=\"fill: #9e9ac8\"/>\n    </g>\n    <g clip-path=\"url(#p3274d853a0)\">\n     <use xlink:href=\"#C4_0_3702706369\" x=\"-42.947589\" y=\"238.713502\" style=\"fill: #fcfbfd\"/>\n    </g>\n    <g clip-path=\"url(#p3274d853a0)\">\n     <use xlink:href=\"#C4_0_3702706369\" x=\"-42.947589\" y=\"226.83251\" style=\"fill: #fcfbfd\"/>\n    </g>\n    <g clip-path=\"url(#p3274d853a0)\">\n     <use xlink:href=\"#C4_0_3702706369\" x=\"-42.947589\" y=\"214.951518\" style=\"fill: #fcfbfd\"/>\n    </g>\n    <g clip-path=\"url(#p3274d853a0)\">\n     <use xlink:href=\"#C4_0_3702706369\" x=\"-36.096679\" y=\"333.761436\" style=\"fill: #fcfbfd\"/>\n    </g>\n    <g clip-path=\"url(#p3274d853a0)\">\n     <use xlink:href=\"#C4_0_3702706369\" x=\"-36.096679\" y=\"321.880444\" style=\"fill: #fcfbfd\"/>\n    </g>\n    <g clip-path=\"url(#p3274d853a0)\">\n     <use xlink:href=\"#C4_0_3702706369\" x=\"-36.096679\" y=\"309.999452\" style=\"fill: #e4e3f0\"/>\n    </g>\n    <g clip-path=\"url(#p3274d853a0)\">\n     <use xlink:href=\"#C4_0_3702706369\" x=\"-36.096679\" y=\"298.11846\" style=\"fill: #f5f4f9\"/>\n    </g>\n    <g clip-path=\"url(#p3274d853a0)\">\n     <use xlink:href=\"#C4_0_3702706369\" x=\"-36.096679\" y=\"286.237469\" style=\"fill: #9e9ac8\"/>\n    </g>\n    <g clip-path=\"url(#p3274d853a0)\">\n     <use xlink:href=\"#C4_0_3702706369\" x=\"-36.096679\" y=\"274.356477\" style=\"fill: #8784bd\"/>\n    </g>\n    <g clip-path=\"url(#p3274d853a0)\">\n     <use xlink:href=\"#C4_0_3702706369\" x=\"-36.096679\" y=\"262.475485\" style=\"fill: #b4b4d7\"/>\n    </g>\n    <g clip-path=\"url(#p3274d853a0)\">\n     <use xlink:href=\"#C4_0_3702706369\" x=\"-36.096679\" y=\"250.594493\" style=\"fill: #a5a2cd\"/>\n    </g>\n    <g clip-path=\"url(#p3274d853a0)\">\n     <use xlink:href=\"#C4_0_3702706369\" x=\"-36.096679\" y=\"238.713502\" style=\"fill: #fcfbfd\"/>\n    </g>\n    <g clip-path=\"url(#p3274d853a0)\">\n     <use xlink:href=\"#C4_0_3702706369\" x=\"-36.096679\" y=\"226.83251\" style=\"fill: #fcfbfd\"/>\n    </g>\n    <g clip-path=\"url(#p3274d853a0)\">\n     <use xlink:href=\"#C4_0_3702706369\" x=\"-36.096679\" y=\"214.951518\" style=\"fill: #fcfbfd\"/>\n    </g>\n    <g clip-path=\"url(#p3274d853a0)\">\n     <use xlink:href=\"#C4_0_3702706369\" x=\"-29.24577\" y=\"333.761436\" style=\"fill: #fcfbfd\"/>\n    </g>\n    <g clip-path=\"url(#p3274d853a0)\">\n     <use xlink:href=\"#C4_0_3702706369\" x=\"-29.24577\" y=\"321.880444\" style=\"fill: #fcfbfd\"/>\n    </g>\n    <g clip-path=\"url(#p3274d853a0)\">\n     <use xlink:href=\"#C4_0_3702706369\" x=\"-29.24577\" y=\"309.999452\" style=\"fill: #efedf5\"/>\n    </g>\n    <g clip-path=\"url(#p3274d853a0)\">\n     <use xlink:href=\"#C4_0_3702706369\" x=\"-29.24577\" y=\"298.11846\" style=\"fill: #eae8f2\"/>\n    </g>\n    <g clip-path=\"url(#p3274d853a0)\">\n     <use xlink:href=\"#C4_0_3702706369\" x=\"-29.24577\" y=\"286.237469\" style=\"fill: #9692c4\"/>\n    </g>\n    <g clip-path=\"url(#p3274d853a0)\">\n     <use xlink:href=\"#C4_0_3702706369\" x=\"-29.24577\" y=\"274.356477\" style=\"fill: #b4b4d7\"/>\n    </g>\n    <g clip-path=\"url(#p3274d853a0)\">\n     <use xlink:href=\"#C4_0_3702706369\" x=\"-29.24577\" y=\"262.475485\" style=\"fill: #8784bd\"/>\n    </g>\n    <g clip-path=\"url(#p3274d853a0)\">\n     <use xlink:href=\"#C4_0_3702706369\" x=\"-29.24577\" y=\"250.594493\" style=\"fill: #adabd2\"/>\n    </g>\n    <g clip-path=\"url(#p3274d853a0)\">\n     <use xlink:href=\"#C4_0_3702706369\" x=\"-29.24577\" y=\"238.713502\" style=\"fill: #f9f7fb\"/>\n    </g>\n    <g clip-path=\"url(#p3274d853a0)\">\n     <use xlink:href=\"#C4_0_3702706369\" x=\"-29.24577\" y=\"226.83251\" style=\"fill: #d2d2e7\"/>\n    </g>\n    <g clip-path=\"url(#p3274d853a0)\">\n     <use xlink:href=\"#C4_0_3702706369\" x=\"-29.24577\" y=\"214.951518\" style=\"fill: #fcfbfd\"/>\n    </g>\n    <g clip-path=\"url(#p3274d853a0)\">\n     <use xlink:href=\"#C4_0_3702706369\" x=\"-22.394861\" y=\"333.761436\" style=\"fill: #fcfbfd\"/>\n    </g>\n    <g clip-path=\"url(#p3274d853a0)\">\n     <use xlink:href=\"#C4_0_3702706369\" x=\"-22.394861\" y=\"321.880444\" style=\"fill: #f5f4f9\"/>\n    </g>\n    <g clip-path=\"url(#p3274d853a0)\">\n     <use xlink:href=\"#C4_0_3702706369\" x=\"-22.394861\" y=\"309.999452\" style=\"fill: #e4e3f0\"/>\n    </g>\n    <g clip-path=\"url(#p3274d853a0)\">\n     <use xlink:href=\"#C4_0_3702706369\" x=\"-22.394861\" y=\"298.11846\" style=\"fill: #dfdfed\"/>\n    </g>\n    <g clip-path=\"url(#p3274d853a0)\">\n     <use xlink:href=\"#C4_0_3702706369\" x=\"-22.394861\" y=\"286.237469\" style=\"fill: #a5a2cd\"/>\n    </g>\n    <g clip-path=\"url(#p3274d853a0)\">\n     <use xlink:href=\"#C4_0_3702706369\" x=\"-22.394861\" y=\"274.356477\" style=\"fill: #7566ae\"/>\n    </g>\n    <g clip-path=\"url(#p3274d853a0)\">\n     <use xlink:href=\"#C4_0_3702706369\" x=\"-22.394861\" y=\"262.475485\" style=\"fill: #9e9ac8\"/>\n    </g>\n    <g clip-path=\"url(#p3274d853a0)\">\n     <use xlink:href=\"#C4_0_3702706369\" x=\"-22.394861\" y=\"250.594493\" style=\"fill: #dfdfed\"/>\n    </g>\n    <g clip-path=\"url(#p3274d853a0)\">\n     <use xlink:href=\"#C4_0_3702706369\" x=\"-22.394861\" y=\"238.713502\" style=\"fill: #fcfbfd\"/>\n    </g>\n    <g clip-path=\"url(#p3274d853a0)\">\n     <use xlink:href=\"#C4_0_3702706369\" x=\"-22.394861\" y=\"226.83251\" style=\"fill: #dadaeb\"/>\n    </g>\n    <g clip-path=\"url(#p3274d853a0)\">\n     <use xlink:href=\"#C4_0_3702706369\" x=\"-22.394861\" y=\"214.951518\" style=\"fill: #f9f7fb\"/>\n    </g>\n    <g clip-path=\"url(#p3274d853a0)\">\n     <use xlink:href=\"#C4_0_3702706369\" x=\"-15.543952\" y=\"333.761436\" style=\"fill: #f9f7fb\"/>\n    </g>\n    <g clip-path=\"url(#p3274d853a0)\">\n     <use xlink:href=\"#C4_0_3702706369\" x=\"-15.543952\" y=\"321.880444\" style=\"fill: #f9f7fb\"/>\n    </g>\n    <g clip-path=\"url(#p3274d853a0)\">\n     <use xlink:href=\"#C4_0_3702706369\" x=\"-15.543952\" y=\"309.999452\" style=\"fill: #eae8f2\"/>\n    </g>\n    <g clip-path=\"url(#p3274d853a0)\">\n     <use xlink:href=\"#C4_0_3702706369\" x=\"-15.543952\" y=\"298.11846\" style=\"fill: #dadaeb\"/>\n    </g>\n    <g clip-path=\"url(#p3274d853a0)\">\n     <use xlink:href=\"#C4_0_3702706369\" x=\"-15.543952\" y=\"286.237469\" style=\"fill: #d2d2e7\"/>\n    </g>\n    <g clip-path=\"url(#p3274d853a0)\">\n     <use xlink:href=\"#C4_0_3702706369\" x=\"-15.543952\" y=\"274.356477\" style=\"fill: #b4b4d7\"/>\n    </g>\n    <g clip-path=\"url(#p3274d853a0)\">\n     <use xlink:href=\"#C4_0_3702706369\" x=\"-15.543952\" y=\"262.475485\" style=\"fill: #8784bd\"/>\n    </g>\n    <g clip-path=\"url(#p3274d853a0)\">\n     <use xlink:href=\"#C4_0_3702706369\" x=\"-15.543952\" y=\"250.594493\" style=\"fill: #f2f0f7\"/>\n    </g>\n    <g clip-path=\"url(#p3274d853a0)\">\n     <use xlink:href=\"#C4_0_3702706369\" x=\"-15.543952\" y=\"238.713502\" style=\"fill: #eae8f2\"/>\n    </g>\n    <g clip-path=\"url(#p3274d853a0)\">\n     <use xlink:href=\"#C4_0_3702706369\" x=\"-15.543952\" y=\"226.83251\" style=\"fill: #bcbddc\"/>\n    </g>\n    <g clip-path=\"url(#p3274d853a0)\">\n     <use xlink:href=\"#C4_0_3702706369\" x=\"-15.543952\" y=\"214.951518\" style=\"fill: #c3c4e0\"/>\n    </g>\n    <g clip-path=\"url(#p3274d853a0)\">\n     <use xlink:href=\"#C4_0_3702706369\" x=\"-8.693043\" y=\"333.761436\" style=\"fill: #fcfbfd\"/>\n    </g>\n    <g clip-path=\"url(#p3274d853a0)\">\n     <use xlink:href=\"#C4_0_3702706369\" x=\"-8.693043\" y=\"321.880444\" style=\"fill: #f9f7fb\"/>\n    </g>\n    <g clip-path=\"url(#p3274d853a0)\">\n     <use xlink:href=\"#C4_0_3702706369\" x=\"-8.693043\" y=\"309.999452\" style=\"fill: #fcfbfd\"/>\n    </g>\n    <g clip-path=\"url(#p3274d853a0)\">\n     <use xlink:href=\"#C4_0_3702706369\" x=\"-8.693043\" y=\"298.11846\" style=\"fill: #dadaeb\"/>\n    </g>\n    <g clip-path=\"url(#p3274d853a0)\">\n     <use xlink:href=\"#C4_0_3702706369\" x=\"-8.693043\" y=\"286.237469\" style=\"fill: #efedf5\"/>\n    </g>\n    <g clip-path=\"url(#p3274d853a0)\">\n     <use xlink:href=\"#C4_0_3702706369\" x=\"-8.693043\" y=\"274.356477\" style=\"fill: #d2d2e7\"/>\n    </g>\n    <g clip-path=\"url(#p3274d853a0)\">\n     <use xlink:href=\"#C4_0_3702706369\" x=\"-8.693043\" y=\"262.475485\" style=\"fill: #bcbddc\"/>\n    </g>\n    <g clip-path=\"url(#p3274d853a0)\">\n     <use xlink:href=\"#C4_0_3702706369\" x=\"-8.693043\" y=\"250.594493\" style=\"fill: #e4e3f0\"/>\n    </g>\n    <g clip-path=\"url(#p3274d853a0)\">\n     <use xlink:href=\"#C4_0_3702706369\" x=\"-8.693043\" y=\"238.713502\" style=\"fill: #e4e3f0\"/>\n    </g>\n    <g clip-path=\"url(#p3274d853a0)\">\n     <use xlink:href=\"#C4_0_3702706369\" x=\"-8.693043\" y=\"226.83251\" style=\"fill: #7a71b4\"/>\n    </g>\n    <g clip-path=\"url(#p3274d853a0)\">\n     <use xlink:href=\"#C4_0_3702706369\" x=\"-8.693043\" y=\"214.951518\" style=\"fill: #3f007d\"/>\n    </g>\n    <g clip-path=\"url(#p3274d853a0)\">\n     <use xlink:href=\"#C4_0_3702706369\" x=\"-1.842134\" y=\"333.761436\" style=\"fill: #f9f7fb\"/>\n    </g>\n    <g clip-path=\"url(#p3274d853a0)\">\n     <use xlink:href=\"#C4_0_3702706369\" x=\"-1.842134\" y=\"321.880444\" style=\"fill: #f9f7fb\"/>\n    </g>\n    <g clip-path=\"url(#p3274d853a0)\">\n     <use xlink:href=\"#C4_0_3702706369\" x=\"-1.842134\" y=\"309.999452\" style=\"fill: #f5f4f9\"/>\n    </g>\n    <g clip-path=\"url(#p3274d853a0)\">\n     <use xlink:href=\"#C4_0_3702706369\" x=\"-1.842134\" y=\"298.11846\" style=\"fill: #dadaeb\"/>\n    </g>\n    <g clip-path=\"url(#p3274d853a0)\">\n     <use xlink:href=\"#C4_0_3702706369\" x=\"-1.842134\" y=\"286.237469\" style=\"fill: #cbcbe3\"/>\n    </g>\n    <g clip-path=\"url(#p3274d853a0)\">\n     <use xlink:href=\"#C4_0_3702706369\" x=\"-1.842134\" y=\"274.356477\" style=\"fill: #adabd2\"/>\n    </g>\n    <g clip-path=\"url(#p3274d853a0)\">\n     <use xlink:href=\"#C4_0_3702706369\" x=\"-1.842134\" y=\"262.475485\" style=\"fill: #bcbddc\"/>\n    </g>\n    <g clip-path=\"url(#p3274d853a0)\">\n     <use xlink:href=\"#C4_0_3702706369\" x=\"-1.842134\" y=\"250.594493\" style=\"fill: #efedf5\"/>\n    </g>\n    <g clip-path=\"url(#p3274d853a0)\">\n     <use xlink:href=\"#C4_0_3702706369\" x=\"-1.842134\" y=\"238.713502\" style=\"fill: #9692c4\"/>\n    </g>\n    <g clip-path=\"url(#p3274d853a0)\">\n     <use xlink:href=\"#C4_0_3702706369\" x=\"-1.842134\" y=\"226.83251\" style=\"fill: #64459e\"/>\n    </g>\n    <g clip-path=\"url(#p3274d853a0)\">\n     <use xlink:href=\"#C4_0_3702706369\" x=\"-1.842134\" y=\"214.951518\" style=\"fill: #f5f4f9\"/>\n    </g>\n    <g clip-path=\"url(#p3274d853a0)\">\n     <use xlink:href=\"#C4_0_3702706369\" x=\"5.008775\" y=\"333.761436\" style=\"fill: #bcbddc\"/>\n    </g>\n    <g clip-path=\"url(#p3274d853a0)\">\n     <use xlink:href=\"#C4_0_3702706369\" x=\"5.008775\" y=\"321.880444\" style=\"fill: #f2f0f7\"/>\n    </g>\n    <g clip-path=\"url(#p3274d853a0)\">\n     <use xlink:href=\"#C4_0_3702706369\" x=\"5.008775\" y=\"309.999452\" style=\"fill: #efedf5\"/>\n    </g>\n    <g clip-path=\"url(#p3274d853a0)\">\n     <use xlink:href=\"#C4_0_3702706369\" x=\"5.008775\" y=\"298.11846\" style=\"fill: #d2d2e7\"/>\n    </g>\n    <g clip-path=\"url(#p3274d853a0)\">\n     <use xlink:href=\"#C4_0_3702706369\" x=\"5.008775\" y=\"286.237469\" style=\"fill: #dadaeb\"/>\n    </g>\n    <g clip-path=\"url(#p3274d853a0)\">\n     <use xlink:href=\"#C4_0_3702706369\" x=\"5.008775\" y=\"274.356477\" style=\"fill: #f5f4f9\"/>\n    </g>\n    <g clip-path=\"url(#p3274d853a0)\">\n     <use xlink:href=\"#C4_0_3702706369\" x=\"5.008775\" y=\"262.475485\" style=\"fill: #bcbddc\"/>\n    </g>\n    <g clip-path=\"url(#p3274d853a0)\">\n     <use xlink:href=\"#C4_0_3702706369\" x=\"5.008775\" y=\"250.594493\" style=\"fill: #f5f4f9\"/>\n    </g>\n    <g clip-path=\"url(#p3274d853a0)\">\n     <use xlink:href=\"#C4_0_3702706369\" x=\"5.008775\" y=\"238.713502\" style=\"fill: #e4e3f0\"/>\n    </g>\n    <g clip-path=\"url(#p3274d853a0)\">\n     <use xlink:href=\"#C4_0_3702706369\" x=\"5.008775\" y=\"226.83251\" style=\"fill: #efedf5\"/>\n    </g>\n    <g clip-path=\"url(#p3274d853a0)\">\n     <use xlink:href=\"#C4_0_3702706369\" x=\"5.008775\" y=\"214.951518\" style=\"fill: #fcfbfd\"/>\n    </g>\n    <g clip-path=\"url(#p3274d853a0)\">\n     <use xlink:href=\"#C4_0_3702706369\" x=\"11.859684\" y=\"333.761436\" style=\"fill: #f9f7fb\"/>\n    </g>\n    <g clip-path=\"url(#p3274d853a0)\">\n     <use xlink:href=\"#C4_0_3702706369\" x=\"11.859684\" y=\"321.880444\" style=\"fill: #f9f7fb\"/>\n    </g>\n    <g clip-path=\"url(#p3274d853a0)\">\n     <use xlink:href=\"#C4_0_3702706369\" x=\"11.859684\" y=\"309.999452\" style=\"fill: #fcfbfd\"/>\n    </g>\n    <g clip-path=\"url(#p3274d853a0)\">\n     <use xlink:href=\"#C4_0_3702706369\" x=\"11.859684\" y=\"298.11846\" style=\"fill: #d2d2e7\"/>\n    </g>\n    <g clip-path=\"url(#p3274d853a0)\">\n     <use xlink:href=\"#C4_0_3702706369\" x=\"11.859684\" y=\"286.237469\" style=\"fill: #efedf5\"/>\n    </g>\n    <g clip-path=\"url(#p3274d853a0)\">\n     <use xlink:href=\"#C4_0_3702706369\" x=\"11.859684\" y=\"274.356477\" style=\"fill: #f9f7fb\"/>\n    </g>\n    <g clip-path=\"url(#p3274d853a0)\">\n     <use xlink:href=\"#C4_0_3702706369\" x=\"11.859684\" y=\"262.475485\" style=\"fill: #f2f0f7\"/>\n    </g>\n    <g clip-path=\"url(#p3274d853a0)\">\n     <use xlink:href=\"#C4_0_3702706369\" x=\"11.859684\" y=\"250.594493\" style=\"fill: #fcfbfd\"/>\n    </g>\n    <g clip-path=\"url(#p3274d853a0)\">\n     <use xlink:href=\"#C4_0_3702706369\" x=\"11.859684\" y=\"238.713502\" style=\"fill: #fcfbfd\"/>\n    </g>\n    <g clip-path=\"url(#p3274d853a0)\">\n     <use xlink:href=\"#C4_0_3702706369\" x=\"11.859684\" y=\"226.83251\" style=\"fill: #fcfbfd\"/>\n    </g>\n    <g clip-path=\"url(#p3274d853a0)\">\n     <use xlink:href=\"#C4_0_3702706369\" x=\"11.859684\" y=\"214.951518\" style=\"fill: #fcfbfd\"/>\n    </g>\n    <g clip-path=\"url(#p3274d853a0)\">\n     <use xlink:href=\"#C4_0_3702706369\" x=\"18.710593\" y=\"333.761436\" style=\"fill: #fcfbfd\"/>\n    </g>\n    <g clip-path=\"url(#p3274d853a0)\">\n     <use xlink:href=\"#C4_0_3702706369\" x=\"18.710593\" y=\"321.880444\" style=\"fill: #fcfbfd\"/>\n    </g>\n    <g clip-path=\"url(#p3274d853a0)\">\n     <use xlink:href=\"#C4_0_3702706369\" x=\"18.710593\" y=\"309.999452\" style=\"fill: #f5f4f9\"/>\n    </g>\n    <g clip-path=\"url(#p3274d853a0)\">\n     <use xlink:href=\"#C4_0_3702706369\" x=\"18.710593\" y=\"298.11846\" style=\"fill: #fcfbfd\"/>\n    </g>\n    <g clip-path=\"url(#p3274d853a0)\">\n     <use xlink:href=\"#C4_0_3702706369\" x=\"18.710593\" y=\"286.237469\" style=\"fill: #fcfbfd\"/>\n    </g>\n    <g clip-path=\"url(#p3274d853a0)\">\n     <use xlink:href=\"#C4_0_3702706369\" x=\"18.710593\" y=\"274.356477\" style=\"fill: #fcfbfd\"/>\n    </g>\n    <g clip-path=\"url(#p3274d853a0)\">\n     <use xlink:href=\"#C4_0_3702706369\" x=\"18.710593\" y=\"262.475485\" style=\"fill: #fcfbfd\"/>\n    </g>\n    <g clip-path=\"url(#p3274d853a0)\">\n     <use xlink:href=\"#C4_0_3702706369\" x=\"18.710593\" y=\"250.594493\" style=\"fill: #fcfbfd\"/>\n    </g>\n    <g clip-path=\"url(#p3274d853a0)\">\n     <use xlink:href=\"#C4_0_3702706369\" x=\"18.710593\" y=\"238.713502\" style=\"fill: #fcfbfd\"/>\n    </g>\n    <g clip-path=\"url(#p3274d853a0)\">\n     <use xlink:href=\"#C4_0_3702706369\" x=\"18.710593\" y=\"226.83251\" style=\"fill: #fcfbfd\"/>\n    </g>\n    <g clip-path=\"url(#p3274d853a0)\">\n     <use xlink:href=\"#C4_0_3702706369\" x=\"18.710593\" y=\"214.951518\" style=\"fill: #fcfbfd\"/>\n    </g>\n    <g clip-path=\"url(#p3274d853a0)\">\n     <use xlink:href=\"#C4_0_3702706369\" x=\"25.561502\" y=\"333.761436\" style=\"fill: #fcfbfd\"/>\n    </g>\n    <g clip-path=\"url(#p3274d853a0)\">\n     <use xlink:href=\"#C4_0_3702706369\" x=\"25.561502\" y=\"321.880444\" style=\"fill: #fcfbfd\"/>\n    </g>\n    <g clip-path=\"url(#p3274d853a0)\">\n     <use xlink:href=\"#C4_0_3702706369\" x=\"25.561502\" y=\"309.999452\" style=\"fill: #fcfbfd\"/>\n    </g>\n    <g clip-path=\"url(#p3274d853a0)\">\n     <use xlink:href=\"#C4_0_3702706369\" x=\"25.561502\" y=\"298.11846\" style=\"fill: #fcfbfd\"/>\n    </g>\n    <g clip-path=\"url(#p3274d853a0)\">\n     <use xlink:href=\"#C4_0_3702706369\" x=\"25.561502\" y=\"286.237469\" style=\"fill: #fcfbfd\"/>\n    </g>\n    <g clip-path=\"url(#p3274d853a0)\">\n     <use xlink:href=\"#C4_0_3702706369\" x=\"25.561502\" y=\"274.356477\" style=\"fill: #fcfbfd\"/>\n    </g>\n    <g clip-path=\"url(#p3274d853a0)\">\n     <use xlink:href=\"#C4_0_3702706369\" x=\"25.561502\" y=\"262.475485\" style=\"fill: #fcfbfd\"/>\n    </g>\n    <g clip-path=\"url(#p3274d853a0)\">\n     <use xlink:href=\"#C4_0_3702706369\" x=\"25.561502\" y=\"250.594493\" style=\"fill: #fcfbfd\"/>\n    </g>\n    <g clip-path=\"url(#p3274d853a0)\">\n     <use xlink:href=\"#C4_0_3702706369\" x=\"25.561502\" y=\"238.713502\" style=\"fill: #fcfbfd\"/>\n    </g>\n    <g clip-path=\"url(#p3274d853a0)\">\n     <use xlink:href=\"#C4_0_3702706369\" x=\"25.561502\" y=\"226.83251\" style=\"fill: #fcfbfd\"/>\n    </g>\n    <g clip-path=\"url(#p3274d853a0)\">\n     <use xlink:href=\"#C4_0_3702706369\" x=\"25.561502\" y=\"214.951518\" style=\"fill: #fcfbfd\"/>\n    </g>\n    <g clip-path=\"url(#p3274d853a0)\">\n     <use xlink:href=\"#C4_0_3702706369\" x=\"32.412411\" y=\"333.761436\" style=\"fill: #fcfbfd\"/>\n    </g>\n    <g clip-path=\"url(#p3274d853a0)\">\n     <use xlink:href=\"#C4_0_3702706369\" x=\"32.412411\" y=\"321.880444\" style=\"fill: #fcfbfd\"/>\n    </g>\n    <g clip-path=\"url(#p3274d853a0)\">\n     <use xlink:href=\"#C4_0_3702706369\" x=\"32.412411\" y=\"309.999452\" style=\"fill: #fcfbfd\"/>\n    </g>\n    <g clip-path=\"url(#p3274d853a0)\">\n     <use xlink:href=\"#C4_0_3702706369\" x=\"32.412411\" y=\"298.11846\" style=\"fill: #fcfbfd\"/>\n    </g>\n    <g clip-path=\"url(#p3274d853a0)\">\n     <use xlink:href=\"#C4_0_3702706369\" x=\"32.412411\" y=\"286.237469\" style=\"fill: #fcfbfd\"/>\n    </g>\n    <g clip-path=\"url(#p3274d853a0)\">\n     <use xlink:href=\"#C4_0_3702706369\" x=\"32.412411\" y=\"274.356477\" style=\"fill: #fcfbfd\"/>\n    </g>\n    <g clip-path=\"url(#p3274d853a0)\">\n     <use xlink:href=\"#C4_0_3702706369\" x=\"32.412411\" y=\"262.475485\" style=\"fill: #fcfbfd\"/>\n    </g>\n    <g clip-path=\"url(#p3274d853a0)\">\n     <use xlink:href=\"#C4_0_3702706369\" x=\"32.412411\" y=\"250.594493\" style=\"fill: #fcfbfd\"/>\n    </g>\n    <g clip-path=\"url(#p3274d853a0)\">\n     <use xlink:href=\"#C4_0_3702706369\" x=\"32.412411\" y=\"238.713502\" style=\"fill: #fcfbfd\"/>\n    </g>\n    <g clip-path=\"url(#p3274d853a0)\">\n     <use xlink:href=\"#C4_0_3702706369\" x=\"32.412411\" y=\"226.83251\" style=\"fill: #fcfbfd\"/>\n    </g>\n    <g clip-path=\"url(#p3274d853a0)\">\n     <use xlink:href=\"#C4_0_3702706369\" x=\"32.412411\" y=\"214.951518\" style=\"fill: #fcfbfd\"/>\n    </g>\n    <g clip-path=\"url(#p3274d853a0)\">\n     <use xlink:href=\"#C4_0_3702706369\" x=\"39.263321\" y=\"333.761436\" style=\"fill: #fcfbfd\"/>\n    </g>\n    <g clip-path=\"url(#p3274d853a0)\">\n     <use xlink:href=\"#C4_0_3702706369\" x=\"39.263321\" y=\"321.880444\" style=\"fill: #fcfbfd\"/>\n    </g>\n    <g clip-path=\"url(#p3274d853a0)\">\n     <use xlink:href=\"#C4_0_3702706369\" x=\"39.263321\" y=\"309.999452\" style=\"fill: #fcfbfd\"/>\n    </g>\n    <g clip-path=\"url(#p3274d853a0)\">\n     <use xlink:href=\"#C4_0_3702706369\" x=\"39.263321\" y=\"298.11846\" style=\"fill: #fcfbfd\"/>\n    </g>\n    <g clip-path=\"url(#p3274d853a0)\">\n     <use xlink:href=\"#C4_0_3702706369\" x=\"39.263321\" y=\"286.237469\" style=\"fill: #fcfbfd\"/>\n    </g>\n    <g clip-path=\"url(#p3274d853a0)\">\n     <use xlink:href=\"#C4_0_3702706369\" x=\"39.263321\" y=\"274.356477\" style=\"fill: #f5f4f9\"/>\n    </g>\n    <g clip-path=\"url(#p3274d853a0)\">\n     <use xlink:href=\"#C4_0_3702706369\" x=\"39.263321\" y=\"262.475485\" style=\"fill: #fcfbfd\"/>\n    </g>\n    <g clip-path=\"url(#p3274d853a0)\">\n     <use xlink:href=\"#C4_0_3702706369\" x=\"39.263321\" y=\"250.594493\" style=\"fill: #fcfbfd\"/>\n    </g>\n    <g clip-path=\"url(#p3274d853a0)\">\n     <use xlink:href=\"#C4_0_3702706369\" x=\"39.263321\" y=\"238.713502\" style=\"fill: #fcfbfd\"/>\n    </g>\n    <g clip-path=\"url(#p3274d853a0)\">\n     <use xlink:href=\"#C4_0_3702706369\" x=\"39.263321\" y=\"226.83251\" style=\"fill: #fcfbfd\"/>\n    </g>\n    <g clip-path=\"url(#p3274d853a0)\">\n     <use xlink:href=\"#C4_0_3702706369\" x=\"39.263321\" y=\"214.951518\" style=\"fill: #fcfbfd\"/>\n    </g>\n    <g clip-path=\"url(#p3274d853a0)\">\n     <use xlink:href=\"#C4_0_3702706369\" x=\"46.11423\" y=\"333.761436\" style=\"fill: #fcfbfd\"/>\n    </g>\n    <g clip-path=\"url(#p3274d853a0)\">\n     <use xlink:href=\"#C4_0_3702706369\" x=\"46.11423\" y=\"321.880444\" style=\"fill: #fcfbfd\"/>\n    </g>\n    <g clip-path=\"url(#p3274d853a0)\">\n     <use xlink:href=\"#C4_0_3702706369\" x=\"46.11423\" y=\"309.999452\" style=\"fill: #fcfbfd\"/>\n    </g>\n    <g clip-path=\"url(#p3274d853a0)\">\n     <use xlink:href=\"#C4_0_3702706369\" x=\"46.11423\" y=\"298.11846\" style=\"fill: #fcfbfd\"/>\n    </g>\n    <g clip-path=\"url(#p3274d853a0)\">\n     <use xlink:href=\"#C4_0_3702706369\" x=\"46.11423\" y=\"286.237469\" style=\"fill: #f5f4f9\"/>\n    </g>\n    <g clip-path=\"url(#p3274d853a0)\">\n     <use xlink:href=\"#C4_0_3702706369\" x=\"46.11423\" y=\"274.356477\" style=\"fill: #f5f4f9\"/>\n    </g>\n    <g clip-path=\"url(#p3274d853a0)\">\n     <use xlink:href=\"#C4_0_3702706369\" x=\"46.11423\" y=\"262.475485\" style=\"fill: #fcfbfd\"/>\n    </g>\n    <g clip-path=\"url(#p3274d853a0)\">\n     <use xlink:href=\"#C4_0_3702706369\" x=\"46.11423\" y=\"250.594493\" style=\"fill: #fcfbfd\"/>\n    </g>\n    <g clip-path=\"url(#p3274d853a0)\">\n     <use xlink:href=\"#C4_0_3702706369\" x=\"46.11423\" y=\"238.713502\" style=\"fill: #fcfbfd\"/>\n    </g>\n    <g clip-path=\"url(#p3274d853a0)\">\n     <use xlink:href=\"#C4_0_3702706369\" x=\"46.11423\" y=\"226.83251\" style=\"fill: #fcfbfd\"/>\n    </g>\n    <g clip-path=\"url(#p3274d853a0)\">\n     <use xlink:href=\"#C4_0_3702706369\" x=\"46.11423\" y=\"214.951518\" style=\"fill: #fcfbfd\"/>\n    </g>\n    <g clip-path=\"url(#p3274d853a0)\">\n     <use xlink:href=\"#C4_0_3702706369\" x=\"52.965139\" y=\"333.761436\" style=\"fill: #fcfbfd\"/>\n    </g>\n    <g clip-path=\"url(#p3274d853a0)\">\n     <use xlink:href=\"#C4_0_3702706369\" x=\"52.965139\" y=\"321.880444\" style=\"fill: #fcfbfd\"/>\n    </g>\n    <g clip-path=\"url(#p3274d853a0)\">\n     <use xlink:href=\"#C4_0_3702706369\" x=\"52.965139\" y=\"309.999452\" style=\"fill: #f9f7fb\"/>\n    </g>\n    <g clip-path=\"url(#p3274d853a0)\">\n     <use xlink:href=\"#C4_0_3702706369\" x=\"52.965139\" y=\"298.11846\" style=\"fill: #efedf5\"/>\n    </g>\n    <g clip-path=\"url(#p3274d853a0)\">\n     <use xlink:href=\"#C4_0_3702706369\" x=\"52.965139\" y=\"286.237469\" style=\"fill: #e4e3f0\"/>\n    </g>\n    <g clip-path=\"url(#p3274d853a0)\">\n     <use xlink:href=\"#C4_0_3702706369\" x=\"52.965139\" y=\"274.356477\" style=\"fill: #bcbddc\"/>\n    </g>\n    <g clip-path=\"url(#p3274d853a0)\">\n     <use xlink:href=\"#C4_0_3702706369\" x=\"52.965139\" y=\"262.475485\" style=\"fill: #dfdfed\"/>\n    </g>\n    <g clip-path=\"url(#p3274d853a0)\">\n     <use xlink:href=\"#C4_0_3702706369\" x=\"52.965139\" y=\"250.594493\" style=\"fill: #cbcbe3\"/>\n    </g>\n    <g clip-path=\"url(#p3274d853a0)\">\n     <use xlink:href=\"#C4_0_3702706369\" x=\"52.965139\" y=\"238.713502\" style=\"fill: #fcfbfd\"/>\n    </g>\n    <g clip-path=\"url(#p3274d853a0)\">\n     <use xlink:href=\"#C4_0_3702706369\" x=\"52.965139\" y=\"226.83251\" style=\"fill: #fcfbfd\"/>\n    </g>\n    <g clip-path=\"url(#p3274d853a0)\">\n     <use xlink:href=\"#C4_0_3702706369\" x=\"52.965139\" y=\"214.951518\" style=\"fill: #fcfbfd\"/>\n    </g>\n    <g clip-path=\"url(#p3274d853a0)\">\n     <use xlink:href=\"#C4_0_3702706369\" x=\"59.816048\" y=\"333.761436\" style=\"fill: #fcfbfd\"/>\n    </g>\n    <g clip-path=\"url(#p3274d853a0)\">\n     <use xlink:href=\"#C4_0_3702706369\" x=\"59.816048\" y=\"321.880444\" style=\"fill: #fcfbfd\"/>\n    </g>\n    <g clip-path=\"url(#p3274d853a0)\">\n     <use xlink:href=\"#C4_0_3702706369\" x=\"59.816048\" y=\"309.999452\" style=\"fill: #f9f7fb\"/>\n    </g>\n    <g clip-path=\"url(#p3274d853a0)\">\n     <use xlink:href=\"#C4_0_3702706369\" x=\"59.816048\" y=\"298.11846\" style=\"fill: #7a71b4\"/>\n    </g>\n    <g clip-path=\"url(#p3274d853a0)\">\n     <use xlink:href=\"#C4_0_3702706369\" x=\"59.816048\" y=\"286.237469\" style=\"fill: #b4b4d7\"/>\n    </g>\n    <g clip-path=\"url(#p3274d853a0)\">\n     <use xlink:href=\"#C4_0_3702706369\" x=\"59.816048\" y=\"274.356477\" style=\"fill: #eae8f2\"/>\n    </g>\n    <g clip-path=\"url(#p3274d853a0)\">\n     <use xlink:href=\"#C4_0_3702706369\" x=\"59.816048\" y=\"262.475485\" style=\"fill: #8784bd\"/>\n    </g>\n    <g clip-path=\"url(#p3274d853a0)\">\n     <use xlink:href=\"#C4_0_3702706369\" x=\"59.816048\" y=\"250.594493\" style=\"fill: #f9f7fb\"/>\n    </g>\n    <g clip-path=\"url(#p3274d853a0)\">\n     <use xlink:href=\"#C4_0_3702706369\" x=\"59.816048\" y=\"238.713502\" style=\"fill: #fcfbfd\"/>\n    </g>\n    <g clip-path=\"url(#p3274d853a0)\">\n     <use xlink:href=\"#C4_0_3702706369\" x=\"59.816048\" y=\"226.83251\" style=\"fill: #fcfbfd\"/>\n    </g>\n    <g clip-path=\"url(#p3274d853a0)\">\n     <use xlink:href=\"#C4_0_3702706369\" x=\"59.816048\" y=\"214.951518\" style=\"fill: #fcfbfd\"/>\n    </g>\n    <g clip-path=\"url(#p3274d853a0)\">\n     <use xlink:href=\"#C4_0_3702706369\" x=\"66.666957\" y=\"333.761436\" style=\"fill: #fcfbfd\"/>\n    </g>\n    <g clip-path=\"url(#p3274d853a0)\">\n     <use xlink:href=\"#C4_0_3702706369\" x=\"66.666957\" y=\"321.880444\" style=\"fill: #fcfbfd\"/>\n    </g>\n    <g clip-path=\"url(#p3274d853a0)\">\n     <use xlink:href=\"#C4_0_3702706369\" x=\"66.666957\" y=\"309.999452\" style=\"fill: #eae8f2\"/>\n    </g>\n    <g clip-path=\"url(#p3274d853a0)\">\n     <use xlink:href=\"#C4_0_3702706369\" x=\"66.666957\" y=\"298.11846\" style=\"fill: #cbcbe3\"/>\n    </g>\n    <g clip-path=\"url(#p3274d853a0)\">\n     <use xlink:href=\"#C4_0_3702706369\" x=\"66.666957\" y=\"286.237469\" style=\"fill: #9e9ac8\"/>\n    </g>\n    <g clip-path=\"url(#p3274d853a0)\">\n     <use xlink:href=\"#C4_0_3702706369\" x=\"66.666957\" y=\"274.356477\" style=\"fill: #dfdfed\"/>\n    </g>\n    <g clip-path=\"url(#p3274d853a0)\">\n     <use xlink:href=\"#C4_0_3702706369\" x=\"66.666957\" y=\"262.475485\" style=\"fill: #f5f4f9\"/>\n    </g>\n    <g clip-path=\"url(#p3274d853a0)\">\n     <use xlink:href=\"#C4_0_3702706369\" x=\"66.666957\" y=\"250.594493\" style=\"fill: #fcfbfd\"/>\n    </g>\n    <g clip-path=\"url(#p3274d853a0)\">\n     <use xlink:href=\"#C4_0_3702706369\" x=\"66.666957\" y=\"238.713502\" style=\"fill: #fcfbfd\"/>\n    </g>\n    <g clip-path=\"url(#p3274d853a0)\">\n     <use xlink:href=\"#C4_0_3702706369\" x=\"66.666957\" y=\"226.83251\" style=\"fill: #fcfbfd\"/>\n    </g>\n    <g clip-path=\"url(#p3274d853a0)\">\n     <use xlink:href=\"#C4_0_3702706369\" x=\"66.666957\" y=\"214.951518\" style=\"fill: #fcfbfd\"/>\n    </g>\n    <g clip-path=\"url(#p3274d853a0)\">\n     <use xlink:href=\"#C4_0_3702706369\" x=\"73.517866\" y=\"333.761436\" style=\"fill: #fcfbfd\"/>\n    </g>\n    <g clip-path=\"url(#p3274d853a0)\">\n     <use xlink:href=\"#C4_0_3702706369\" x=\"73.517866\" y=\"321.880444\" style=\"fill: #fcfbfd\"/>\n    </g>\n    <g clip-path=\"url(#p3274d853a0)\">\n     <use xlink:href=\"#C4_0_3702706369\" x=\"73.517866\" y=\"309.999452\" style=\"fill: #7a71b4\"/>\n    </g>\n    <g clip-path=\"url(#p3274d853a0)\">\n     <use xlink:href=\"#C4_0_3702706369\" x=\"73.517866\" y=\"298.11846\" style=\"fill: #cbcbe3\"/>\n    </g>\n    <g clip-path=\"url(#p3274d853a0)\">\n     <use xlink:href=\"#C4_0_3702706369\" x=\"73.517866\" y=\"286.237469\" style=\"fill: #bcbddc\"/>\n    </g>\n    <g clip-path=\"url(#p3274d853a0)\">\n     <use xlink:href=\"#C4_0_3702706369\" x=\"73.517866\" y=\"274.356477\" style=\"fill: #efedf5\"/>\n    </g>\n    <g clip-path=\"url(#p3274d853a0)\">\n     <use xlink:href=\"#C4_0_3702706369\" x=\"73.517866\" y=\"262.475485\" style=\"fill: #f5f4f9\"/>\n    </g>\n    <g clip-path=\"url(#p3274d853a0)\">\n     <use xlink:href=\"#C4_0_3702706369\" x=\"73.517866\" y=\"250.594493\" style=\"fill: #fcfbfd\"/>\n    </g>\n    <g clip-path=\"url(#p3274d853a0)\">\n     <use xlink:href=\"#C4_0_3702706369\" x=\"73.517866\" y=\"238.713502\" style=\"fill: #fcfbfd\"/>\n    </g>\n    <g clip-path=\"url(#p3274d853a0)\">\n     <use xlink:href=\"#C4_0_3702706369\" x=\"73.517866\" y=\"226.83251\" style=\"fill: #fcfbfd\"/>\n    </g>\n    <g clip-path=\"url(#p3274d853a0)\">\n     <use xlink:href=\"#C4_0_3702706369\" x=\"73.517866\" y=\"214.951518\" style=\"fill: #fcfbfd\"/>\n    </g>\n    <g clip-path=\"url(#p3274d853a0)\">\n     <use xlink:href=\"#C4_0_3702706369\" x=\"80.368775\" y=\"333.761436\" style=\"fill: #fcfbfd\"/>\n    </g>\n    <g clip-path=\"url(#p3274d853a0)\">\n     <use xlink:href=\"#C4_0_3702706369\" x=\"80.368775\" y=\"321.880444\" style=\"fill: #fcfbfd\"/>\n    </g>\n    <g clip-path=\"url(#p3274d853a0)\">\n     <use xlink:href=\"#C4_0_3702706369\" x=\"80.368775\" y=\"309.999452\" style=\"fill: #c3c4e0\"/>\n    </g>\n    <g clip-path=\"url(#p3274d853a0)\">\n     <use xlink:href=\"#C4_0_3702706369\" x=\"80.368775\" y=\"298.11846\" style=\"fill: #b4b4d7\"/>\n    </g>\n    <g clip-path=\"url(#p3274d853a0)\">\n     <use xlink:href=\"#C4_0_3702706369\" x=\"80.368775\" y=\"286.237469\" style=\"fill: #cbcbe3\"/>\n    </g>\n    <g clip-path=\"url(#p3274d853a0)\">\n     <use xlink:href=\"#C4_0_3702706369\" x=\"80.368775\" y=\"274.356477\" style=\"fill: #efedf5\"/>\n    </g>\n    <g clip-path=\"url(#p3274d853a0)\">\n     <use xlink:href=\"#C4_0_3702706369\" x=\"80.368775\" y=\"262.475485\" style=\"fill: #fcfbfd\"/>\n    </g>\n    <g clip-path=\"url(#p3274d853a0)\">\n     <use xlink:href=\"#C4_0_3702706369\" x=\"80.368775\" y=\"250.594493\" style=\"fill: #fcfbfd\"/>\n    </g>\n    <g clip-path=\"url(#p3274d853a0)\">\n     <use xlink:href=\"#C4_0_3702706369\" x=\"80.368775\" y=\"238.713502\" style=\"fill: #fcfbfd\"/>\n    </g>\n    <g clip-path=\"url(#p3274d853a0)\">\n     <use xlink:href=\"#C4_0_3702706369\" x=\"80.368775\" y=\"226.83251\" style=\"fill: #fcfbfd\"/>\n    </g>\n    <g clip-path=\"url(#p3274d853a0)\">\n     <use xlink:href=\"#C4_0_3702706369\" x=\"80.368775\" y=\"214.951518\" style=\"fill: #fcfbfd\"/>\n    </g>\n   </g>\n   <g id=\"matplotlib.axis_9\"/>\n   <g id=\"matplotlib.axis_10\"/>\n   <g id=\"patch_23\">\n    <path d=\"M 170.88 341.42175 \nL 170.88 197.66175 \n\" style=\"fill: none; stroke: #000000; stroke-width: 0.8; stroke-linejoin: miter; stroke-linecap: square\"/>\n   </g>\n   <g id=\"patch_24\">\n    <path d=\"M 321.6 341.42175 \nL 321.6 197.66175 \n\" style=\"fill: none; stroke: #000000; stroke-width: 0.8; stroke-linejoin: miter; stroke-linecap: square\"/>\n   </g>\n   <g id=\"patch_25\">\n    <path d=\"M 170.88 341.42175 \nL 321.6 341.42175 \n\" style=\"fill: none; stroke: #000000; stroke-width: 0.8; stroke-linejoin: miter; stroke-linecap: square\"/>\n   </g>\n   <g id=\"patch_26\">\n    <path d=\"M 170.88 197.66175 \nL 321.6 197.66175 \n\" style=\"fill: none; stroke: #000000; stroke-width: 0.8; stroke-linejoin: miter; stroke-linecap: square\"/>\n   </g>\n   <g id=\"text_5\">\n    <!-- fear -->\n    <g transform=\"translate(231.903 191.66175) scale(0.144 -0.144)\">\n     <defs>\n      <path id=\"DejaVuSans-66\" d=\"M 2375 4863 \nL 2375 4384 \nL 1825 4384 \nQ 1516 4384 1395 4259 \nQ 1275 4134 1275 3809 \nL 1275 3500 \nL 2222 3500 \nL 2222 3053 \nL 1275 3053 \nL 1275 0 \nL 697 0 \nL 697 3053 \nL 147 3053 \nL 147 3500 \nL 697 3500 \nL 697 3744 \nQ 697 4328 969 4595 \nQ 1241 4863 1831 4863 \nL 2375 4863 \nz\n\" transform=\"scale(0.015625)\"/>\n     </defs>\n     <use xlink:href=\"#DejaVuSans-66\"/>\n     <use xlink:href=\"#DejaVuSans-65\" x=\"35.205078\"/>\n     <use xlink:href=\"#DejaVuSans-61\" x=\"96.728516\"/>\n     <use xlink:href=\"#DejaVuSans-72\" x=\"158.007812\"/>\n    </g>\n   </g>\n  </g>\n  <g id=\"axes_6\">\n   <g id=\"patch_27\">\n    <path d=\"M 334.56 341.42175 \nL 485.28 341.42175 \nL 485.28 197.66175 \nL 334.56 197.66175 \nz\n\" style=\"fill: #ffffff\"/>\n   </g>\n   <g id=\"PolyCollection_6\">\n    <defs>\n     <path id=\"C5_0_609741dced\" d=\"M 398.309156 -0.798651 \nL 398.309156 -4.758982 \nL 394.883701 -6.739147 \nL 391.458247 -4.758982 \nL 391.458247 -0.798651 \nL 394.883701 1.181514 \nz\n\"/>\n    </defs>\n    <g clip-path=\"url(#p4945393260)\">\n     <use xlink:href=\"#C5_0_609741dced\" x=\"-53.472792\" y=\"337.666021\" style=\"fill: #f7fcf5\"/>\n    </g>\n    <g clip-path=\"url(#p4945393260)\">\n     <use xlink:href=\"#C5_0_609741dced\" x=\"-53.472792\" y=\"325.785029\" style=\"fill: #f7fcf5\"/>\n    </g>\n    <g clip-path=\"url(#p4945393260)\">\n     <use xlink:href=\"#C5_0_609741dced\" x=\"-53.472792\" y=\"313.904037\" style=\"fill: #f7fcf5\"/>\n    </g>\n    <g clip-path=\"url(#p4945393260)\">\n     <use xlink:href=\"#C5_0_609741dced\" x=\"-53.472792\" y=\"302.023046\" style=\"fill: #f7fcf5\"/>\n    </g>\n    <g clip-path=\"url(#p4945393260)\">\n     <use xlink:href=\"#C5_0_609741dced\" x=\"-53.472792\" y=\"290.142054\" style=\"fill: #f7fcf5\"/>\n    </g>\n    <g clip-path=\"url(#p4945393260)\">\n     <use xlink:href=\"#C5_0_609741dced\" x=\"-53.472792\" y=\"278.261062\" style=\"fill: #98d594\"/>\n    </g>\n    <g clip-path=\"url(#p4945393260)\">\n     <use xlink:href=\"#C5_0_609741dced\" x=\"-53.472792\" y=\"266.38007\" style=\"fill: #e9f7e5\"/>\n    </g>\n    <g clip-path=\"url(#p4945393260)\">\n     <use xlink:href=\"#C5_0_609741dced\" x=\"-53.472792\" y=\"254.499079\" style=\"fill: #e9f7e5\"/>\n    </g>\n    <g clip-path=\"url(#p4945393260)\">\n     <use xlink:href=\"#C5_0_609741dced\" x=\"-53.472792\" y=\"242.618087\" style=\"fill: #f7fcf5\"/>\n    </g>\n    <g clip-path=\"url(#p4945393260)\">\n     <use xlink:href=\"#C5_0_609741dced\" x=\"-53.472792\" y=\"230.737095\" style=\"fill: #f7fcf5\"/>\n    </g>\n    <g clip-path=\"url(#p4945393260)\">\n     <use xlink:href=\"#C5_0_609741dced\" x=\"-53.472792\" y=\"218.856103\" style=\"fill: #f7fcf5\"/>\n    </g>\n    <g clip-path=\"url(#p4945393260)\">\n     <use xlink:href=\"#C5_0_609741dced\" x=\"-53.472792\" y=\"206.975112\" style=\"fill: #f7fcf5\"/>\n    </g>\n    <g clip-path=\"url(#p4945393260)\">\n     <use xlink:href=\"#C5_0_609741dced\" x=\"-46.621883\" y=\"337.666021\" style=\"fill: #f7fcf5\"/>\n    </g>\n    <g clip-path=\"url(#p4945393260)\">\n     <use xlink:href=\"#C5_0_609741dced\" x=\"-46.621883\" y=\"325.785029\" style=\"fill: #f7fcf5\"/>\n    </g>\n    <g clip-path=\"url(#p4945393260)\">\n     <use xlink:href=\"#C5_0_609741dced\" x=\"-46.621883\" y=\"313.904037\" style=\"fill: #f7fcf5\"/>\n    </g>\n    <g clip-path=\"url(#p4945393260)\">\n     <use xlink:href=\"#C5_0_609741dced\" x=\"-46.621883\" y=\"302.023046\" style=\"fill: #f7fcf5\"/>\n    </g>\n    <g clip-path=\"url(#p4945393260)\">\n     <use xlink:href=\"#C5_0_609741dced\" x=\"-46.621883\" y=\"290.142054\" style=\"fill: #006428\"/>\n    </g>\n    <g clip-path=\"url(#p4945393260)\">\n     <use xlink:href=\"#C5_0_609741dced\" x=\"-46.621883\" y=\"278.261062\" style=\"fill: #157f3b\"/>\n    </g>\n    <g clip-path=\"url(#p4945393260)\">\n     <use xlink:href=\"#C5_0_609741dced\" x=\"-46.621883\" y=\"266.38007\" style=\"fill: #d3eecd\"/>\n    </g>\n    <g clip-path=\"url(#p4945393260)\">\n     <use xlink:href=\"#C5_0_609741dced\" x=\"-46.621883\" y=\"254.499079\" style=\"fill: #f7fcf5\"/>\n    </g>\n    <g clip-path=\"url(#p4945393260)\">\n     <use xlink:href=\"#C5_0_609741dced\" x=\"-46.621883\" y=\"242.618087\" style=\"fill: #f7fcf5\"/>\n    </g>\n    <g clip-path=\"url(#p4945393260)\">\n     <use xlink:href=\"#C5_0_609741dced\" x=\"-46.621883\" y=\"230.737095\" style=\"fill: #f7fcf5\"/>\n    </g>\n    <g clip-path=\"url(#p4945393260)\">\n     <use xlink:href=\"#C5_0_609741dced\" x=\"-46.621883\" y=\"218.856103\" style=\"fill: #f7fcf5\"/>\n    </g>\n    <g clip-path=\"url(#p4945393260)\">\n     <use xlink:href=\"#C5_0_609741dced\" x=\"-46.621883\" y=\"206.975112\" style=\"fill: #f7fcf5\"/>\n    </g>\n    <g clip-path=\"url(#p4945393260)\">\n     <use xlink:href=\"#C5_0_609741dced\" x=\"-39.770974\" y=\"337.666021\" style=\"fill: #f7fcf5\"/>\n    </g>\n    <g clip-path=\"url(#p4945393260)\">\n     <use xlink:href=\"#C5_0_609741dced\" x=\"-39.770974\" y=\"325.785029\" style=\"fill: #f7fcf5\"/>\n    </g>\n    <g clip-path=\"url(#p4945393260)\">\n     <use xlink:href=\"#C5_0_609741dced\" x=\"-39.770974\" y=\"313.904037\" style=\"fill: #e9f7e5\"/>\n    </g>\n    <g clip-path=\"url(#p4945393260)\">\n     <use xlink:href=\"#C5_0_609741dced\" x=\"-39.770974\" y=\"302.023046\" style=\"fill: #e9f7e5\"/>\n    </g>\n    <g clip-path=\"url(#p4945393260)\">\n     <use xlink:href=\"#C5_0_609741dced\" x=\"-39.770974\" y=\"290.142054\" style=\"fill: #e9f7e5\"/>\n    </g>\n    <g clip-path=\"url(#p4945393260)\">\n     <use xlink:href=\"#C5_0_609741dced\" x=\"-39.770974\" y=\"278.261062\" style=\"fill: #00441b\"/>\n    </g>\n    <g clip-path=\"url(#p4945393260)\">\n     <use xlink:href=\"#C5_0_609741dced\" x=\"-39.770974\" y=\"266.38007\" style=\"fill: #b8e3b2\"/>\n    </g>\n    <g clip-path=\"url(#p4945393260)\">\n     <use xlink:href=\"#C5_0_609741dced\" x=\"-39.770974\" y=\"254.499079\" style=\"fill: #d3eecd\"/>\n    </g>\n    <g clip-path=\"url(#p4945393260)\">\n     <use xlink:href=\"#C5_0_609741dced\" x=\"-39.770974\" y=\"242.618087\" style=\"fill: #e9f7e5\"/>\n    </g>\n    <g clip-path=\"url(#p4945393260)\">\n     <use xlink:href=\"#C5_0_609741dced\" x=\"-39.770974\" y=\"230.737095\" style=\"fill: #f7fcf5\"/>\n    </g>\n    <g clip-path=\"url(#p4945393260)\">\n     <use xlink:href=\"#C5_0_609741dced\" x=\"-39.770974\" y=\"218.856103\" style=\"fill: #f7fcf5\"/>\n    </g>\n    <g clip-path=\"url(#p4945393260)\">\n     <use xlink:href=\"#C5_0_609741dced\" x=\"-39.770974\" y=\"206.975112\" style=\"fill: #f7fcf5\"/>\n    </g>\n    <g clip-path=\"url(#p4945393260)\">\n     <use xlink:href=\"#C5_0_609741dced\" x=\"-32.920065\" y=\"337.666021\" style=\"fill: #f7fcf5\"/>\n    </g>\n    <g clip-path=\"url(#p4945393260)\">\n     <use xlink:href=\"#C5_0_609741dced\" x=\"-32.920065\" y=\"325.785029\" style=\"fill: #f7fcf5\"/>\n    </g>\n    <g clip-path=\"url(#p4945393260)\">\n     <use xlink:href=\"#C5_0_609741dced\" x=\"-32.920065\" y=\"313.904037\" style=\"fill: #f7fcf5\"/>\n    </g>\n    <g clip-path=\"url(#p4945393260)\">\n     <use xlink:href=\"#C5_0_609741dced\" x=\"-32.920065\" y=\"302.023046\" style=\"fill: #d3eecd\"/>\n    </g>\n    <g clip-path=\"url(#p4945393260)\">\n     <use xlink:href=\"#C5_0_609741dced\" x=\"-32.920065\" y=\"290.142054\" style=\"fill: #f7fcf5\"/>\n    </g>\n    <g clip-path=\"url(#p4945393260)\">\n     <use xlink:href=\"#C5_0_609741dced\" x=\"-32.920065\" y=\"278.261062\" style=\"fill: #2f974e\"/>\n    </g>\n    <g clip-path=\"url(#p4945393260)\">\n     <use xlink:href=\"#C5_0_609741dced\" x=\"-32.920065\" y=\"266.38007\" style=\"fill: #98d594\"/>\n    </g>\n    <g clip-path=\"url(#p4945393260)\">\n     <use xlink:href=\"#C5_0_609741dced\" x=\"-32.920065\" y=\"254.499079\" style=\"fill: #73c476\"/>\n    </g>\n    <g clip-path=\"url(#p4945393260)\">\n     <use xlink:href=\"#C5_0_609741dced\" x=\"-32.920065\" y=\"242.618087\" style=\"fill: #b8e3b2\"/>\n    </g>\n    <g clip-path=\"url(#p4945393260)\">\n     <use xlink:href=\"#C5_0_609741dced\" x=\"-32.920065\" y=\"230.737095\" style=\"fill: #f7fcf5\"/>\n    </g>\n    <g clip-path=\"url(#p4945393260)\">\n     <use xlink:href=\"#C5_0_609741dced\" x=\"-32.920065\" y=\"218.856103\" style=\"fill: #f7fcf5\"/>\n    </g>\n    <g clip-path=\"url(#p4945393260)\">\n     <use xlink:href=\"#C5_0_609741dced\" x=\"-32.920065\" y=\"206.975112\" style=\"fill: #f7fcf5\"/>\n    </g>\n    <g clip-path=\"url(#p4945393260)\">\n     <use xlink:href=\"#C5_0_609741dced\" x=\"-26.069156\" y=\"337.666021\" style=\"fill: #f7fcf5\"/>\n    </g>\n    <g clip-path=\"url(#p4945393260)\">\n     <use xlink:href=\"#C5_0_609741dced\" x=\"-26.069156\" y=\"325.785029\" style=\"fill: #f7fcf5\"/>\n    </g>\n    <g clip-path=\"url(#p4945393260)\">\n     <use xlink:href=\"#C5_0_609741dced\" x=\"-26.069156\" y=\"313.904037\" style=\"fill: #f7fcf5\"/>\n    </g>\n    <g clip-path=\"url(#p4945393260)\">\n     <use xlink:href=\"#C5_0_609741dced\" x=\"-26.069156\" y=\"302.023046\" style=\"fill: #d3eecd\"/>\n    </g>\n    <g clip-path=\"url(#p4945393260)\">\n     <use xlink:href=\"#C5_0_609741dced\" x=\"-26.069156\" y=\"290.142054\" style=\"fill: #98d594\"/>\n    </g>\n    <g clip-path=\"url(#p4945393260)\">\n     <use xlink:href=\"#C5_0_609741dced\" x=\"-26.069156\" y=\"278.261062\" style=\"fill: #73c476\"/>\n    </g>\n    <g clip-path=\"url(#p4945393260)\">\n     <use xlink:href=\"#C5_0_609741dced\" x=\"-26.069156\" y=\"266.38007\" style=\"fill: #d3eecd\"/>\n    </g>\n    <g clip-path=\"url(#p4945393260)\">\n     <use xlink:href=\"#C5_0_609741dced\" x=\"-26.069156\" y=\"254.499079\" style=\"fill: #98d594\"/>\n    </g>\n    <g clip-path=\"url(#p4945393260)\">\n     <use xlink:href=\"#C5_0_609741dced\" x=\"-26.069156\" y=\"242.618087\" style=\"fill: #f7fcf5\"/>\n    </g>\n    <g clip-path=\"url(#p4945393260)\">\n     <use xlink:href=\"#C5_0_609741dced\" x=\"-26.069156\" y=\"230.737095\" style=\"fill: #d3eecd\"/>\n    </g>\n    <g clip-path=\"url(#p4945393260)\">\n     <use xlink:href=\"#C5_0_609741dced\" x=\"-26.069156\" y=\"218.856103\" style=\"fill: #f7fcf5\"/>\n    </g>\n    <g clip-path=\"url(#p4945393260)\">\n     <use xlink:href=\"#C5_0_609741dced\" x=\"-26.069156\" y=\"206.975112\" style=\"fill: #f7fcf5\"/>\n    </g>\n    <g clip-path=\"url(#p4945393260)\">\n     <use xlink:href=\"#C5_0_609741dced\" x=\"-19.218247\" y=\"337.666021\" style=\"fill: #f7fcf5\"/>\n    </g>\n    <g clip-path=\"url(#p4945393260)\">\n     <use xlink:href=\"#C5_0_609741dced\" x=\"-19.218247\" y=\"325.785029\" style=\"fill: #d3eecd\"/>\n    </g>\n    <g clip-path=\"url(#p4945393260)\">\n     <use xlink:href=\"#C5_0_609741dced\" x=\"-19.218247\" y=\"313.904037\" style=\"fill: #f7fcf5\"/>\n    </g>\n    <g clip-path=\"url(#p4945393260)\">\n     <use xlink:href=\"#C5_0_609741dced\" x=\"-19.218247\" y=\"302.023046\" style=\"fill: #d3eecd\"/>\n    </g>\n    <g clip-path=\"url(#p4945393260)\">\n     <use xlink:href=\"#C5_0_609741dced\" x=\"-19.218247\" y=\"290.142054\" style=\"fill: #98d594\"/>\n    </g>\n    <g clip-path=\"url(#p4945393260)\">\n     <use xlink:href=\"#C5_0_609741dced\" x=\"-19.218247\" y=\"278.261062\" style=\"fill: #b8e3b2\"/>\n    </g>\n    <g clip-path=\"url(#p4945393260)\">\n     <use xlink:href=\"#C5_0_609741dced\" x=\"-19.218247\" y=\"266.38007\" style=\"fill: #b8e3b2\"/>\n    </g>\n    <g clip-path=\"url(#p4945393260)\">\n     <use xlink:href=\"#C5_0_609741dced\" x=\"-19.218247\" y=\"254.499079\" style=\"fill: #98d594\"/>\n    </g>\n    <g clip-path=\"url(#p4945393260)\">\n     <use xlink:href=\"#C5_0_609741dced\" x=\"-19.218247\" y=\"242.618087\" style=\"fill: #d3eecd\"/>\n    </g>\n    <g clip-path=\"url(#p4945393260)\">\n     <use xlink:href=\"#C5_0_609741dced\" x=\"-19.218247\" y=\"230.737095\" style=\"fill: #f7fcf5\"/>\n    </g>\n    <g clip-path=\"url(#p4945393260)\">\n     <use xlink:href=\"#C5_0_609741dced\" x=\"-19.218247\" y=\"218.856103\" style=\"fill: #f7fcf5\"/>\n    </g>\n    <g clip-path=\"url(#p4945393260)\">\n     <use xlink:href=\"#C5_0_609741dced\" x=\"-19.218247\" y=\"206.975112\" style=\"fill: #f7fcf5\"/>\n    </g>\n    <g clip-path=\"url(#p4945393260)\">\n     <use xlink:href=\"#C5_0_609741dced\" x=\"-12.367338\" y=\"337.666021\" style=\"fill: #f7fcf5\"/>\n    </g>\n    <g clip-path=\"url(#p4945393260)\">\n     <use xlink:href=\"#C5_0_609741dced\" x=\"-12.367338\" y=\"325.785029\" style=\"fill: #f7fcf5\"/>\n    </g>\n    <g clip-path=\"url(#p4945393260)\">\n     <use xlink:href=\"#C5_0_609741dced\" x=\"-12.367338\" y=\"313.904037\" style=\"fill: #4bb062\"/>\n    </g>\n    <g clip-path=\"url(#p4945393260)\">\n     <use xlink:href=\"#C5_0_609741dced\" x=\"-12.367338\" y=\"302.023046\" style=\"fill: #e9f7e5\"/>\n    </g>\n    <g clip-path=\"url(#p4945393260)\">\n     <use xlink:href=\"#C5_0_609741dced\" x=\"-12.367338\" y=\"290.142054\" style=\"fill: #d3eecd\"/>\n    </g>\n    <g clip-path=\"url(#p4945393260)\">\n     <use xlink:href=\"#C5_0_609741dced\" x=\"-12.367338\" y=\"278.261062\" style=\"fill: #d3eecd\"/>\n    </g>\n    <g clip-path=\"url(#p4945393260)\">\n     <use xlink:href=\"#C5_0_609741dced\" x=\"-12.367338\" y=\"266.38007\" style=\"fill: #d3eecd\"/>\n    </g>\n    <g clip-path=\"url(#p4945393260)\">\n     <use xlink:href=\"#C5_0_609741dced\" x=\"-12.367338\" y=\"254.499079\" style=\"fill: #e9f7e5\"/>\n    </g>\n    <g clip-path=\"url(#p4945393260)\">\n     <use xlink:href=\"#C5_0_609741dced\" x=\"-12.367338\" y=\"242.618087\" style=\"fill: #b8e3b2\"/>\n    </g>\n    <g clip-path=\"url(#p4945393260)\">\n     <use xlink:href=\"#C5_0_609741dced\" x=\"-12.367338\" y=\"230.737095\" style=\"fill: #e9f7e5\"/>\n    </g>\n    <g clip-path=\"url(#p4945393260)\">\n     <use xlink:href=\"#C5_0_609741dced\" x=\"-12.367338\" y=\"218.856103\" style=\"fill: #d3eecd\"/>\n    </g>\n    <g clip-path=\"url(#p4945393260)\">\n     <use xlink:href=\"#C5_0_609741dced\" x=\"-12.367338\" y=\"206.975112\" style=\"fill: #d3eecd\"/>\n    </g>\n    <g clip-path=\"url(#p4945393260)\">\n     <use xlink:href=\"#C5_0_609741dced\" x=\"-5.516429\" y=\"337.666021\" style=\"fill: #f7fcf5\"/>\n    </g>\n    <g clip-path=\"url(#p4945393260)\">\n     <use xlink:href=\"#C5_0_609741dced\" x=\"-5.516429\" y=\"325.785029\" style=\"fill: #f7fcf5\"/>\n    </g>\n    <g clip-path=\"url(#p4945393260)\">\n     <use xlink:href=\"#C5_0_609741dced\" x=\"-5.516429\" y=\"313.904037\" style=\"fill: #e9f7e5\"/>\n    </g>\n    <g clip-path=\"url(#p4945393260)\">\n     <use xlink:href=\"#C5_0_609741dced\" x=\"-5.516429\" y=\"302.023046\" style=\"fill: #73c476\"/>\n    </g>\n    <g clip-path=\"url(#p4945393260)\">\n     <use xlink:href=\"#C5_0_609741dced\" x=\"-5.516429\" y=\"290.142054\" style=\"fill: #d3eecd\"/>\n    </g>\n    <g clip-path=\"url(#p4945393260)\">\n     <use xlink:href=\"#C5_0_609741dced\" x=\"-5.516429\" y=\"278.261062\" style=\"fill: #73c476\"/>\n    </g>\n    <g clip-path=\"url(#p4945393260)\">\n     <use xlink:href=\"#C5_0_609741dced\" x=\"-5.516429\" y=\"266.38007\" style=\"fill: #2f974e\"/>\n    </g>\n    <g clip-path=\"url(#p4945393260)\">\n     <use xlink:href=\"#C5_0_609741dced\" x=\"-5.516429\" y=\"254.499079\" style=\"fill: #e9f7e5\"/>\n    </g>\n    <g clip-path=\"url(#p4945393260)\">\n     <use xlink:href=\"#C5_0_609741dced\" x=\"-5.516429\" y=\"242.618087\" style=\"fill: #d3eecd\"/>\n    </g>\n    <g clip-path=\"url(#p4945393260)\">\n     <use xlink:href=\"#C5_0_609741dced\" x=\"-5.516429\" y=\"230.737095\" style=\"fill: #98d594\"/>\n    </g>\n    <g clip-path=\"url(#p4945393260)\">\n     <use xlink:href=\"#C5_0_609741dced\" x=\"-5.516429\" y=\"218.856103\" style=\"fill: #2f974e\"/>\n    </g>\n    <g clip-path=\"url(#p4945393260)\">\n     <use xlink:href=\"#C5_0_609741dced\" x=\"-5.516429\" y=\"206.975112\" style=\"fill: #e9f7e5\"/>\n    </g>\n    <g clip-path=\"url(#p4945393260)\">\n     <use xlink:href=\"#C5_0_609741dced\" x=\"1.334481\" y=\"337.666021\" style=\"fill: #f7fcf5\"/>\n    </g>\n    <g clip-path=\"url(#p4945393260)\">\n     <use xlink:href=\"#C5_0_609741dced\" x=\"1.334481\" y=\"325.785029\" style=\"fill: #d3eecd\"/>\n    </g>\n    <g clip-path=\"url(#p4945393260)\">\n     <use xlink:href=\"#C5_0_609741dced\" x=\"1.334481\" y=\"313.904037\" style=\"fill: #d3eecd\"/>\n    </g>\n    <g clip-path=\"url(#p4945393260)\">\n     <use xlink:href=\"#C5_0_609741dced\" x=\"1.334481\" y=\"302.023046\" style=\"fill: #2f974e\"/>\n    </g>\n    <g clip-path=\"url(#p4945393260)\">\n     <use xlink:href=\"#C5_0_609741dced\" x=\"1.334481\" y=\"290.142054\" style=\"fill: #157f3b\"/>\n    </g>\n    <g clip-path=\"url(#p4945393260)\">\n     <use xlink:href=\"#C5_0_609741dced\" x=\"1.334481\" y=\"278.261062\" style=\"fill: #e9f7e5\"/>\n    </g>\n    <g clip-path=\"url(#p4945393260)\">\n     <use xlink:href=\"#C5_0_609741dced\" x=\"1.334481\" y=\"266.38007\" style=\"fill: #d3eecd\"/>\n    </g>\n    <g clip-path=\"url(#p4945393260)\">\n     <use xlink:href=\"#C5_0_609741dced\" x=\"1.334481\" y=\"254.499079\" style=\"fill: #e9f7e5\"/>\n    </g>\n    <g clip-path=\"url(#p4945393260)\">\n     <use xlink:href=\"#C5_0_609741dced\" x=\"1.334481\" y=\"242.618087\" style=\"fill: #2f974e\"/>\n    </g>\n    <g clip-path=\"url(#p4945393260)\">\n     <use xlink:href=\"#C5_0_609741dced\" x=\"1.334481\" y=\"230.737095\" style=\"fill: #98d594\"/>\n    </g>\n    <g clip-path=\"url(#p4945393260)\">\n     <use xlink:href=\"#C5_0_609741dced\" x=\"1.334481\" y=\"218.856103\" style=\"fill: #e9f7e5\"/>\n    </g>\n    <g clip-path=\"url(#p4945393260)\">\n     <use xlink:href=\"#C5_0_609741dced\" x=\"1.334481\" y=\"206.975112\" style=\"fill: #f7fcf5\"/>\n    </g>\n    <g clip-path=\"url(#p4945393260)\">\n     <use xlink:href=\"#C5_0_609741dced\" x=\"8.18539\" y=\"337.666021\" style=\"fill: #d3eecd\"/>\n    </g>\n    <g clip-path=\"url(#p4945393260)\">\n     <use xlink:href=\"#C5_0_609741dced\" x=\"8.18539\" y=\"325.785029\" style=\"fill: #f7fcf5\"/>\n    </g>\n    <g clip-path=\"url(#p4945393260)\">\n     <use xlink:href=\"#C5_0_609741dced\" x=\"8.18539\" y=\"313.904037\" style=\"fill: #f7fcf5\"/>\n    </g>\n    <g clip-path=\"url(#p4945393260)\">\n     <use xlink:href=\"#C5_0_609741dced\" x=\"8.18539\" y=\"302.023046\" style=\"fill: #d3eecd\"/>\n    </g>\n    <g clip-path=\"url(#p4945393260)\">\n     <use xlink:href=\"#C5_0_609741dced\" x=\"8.18539\" y=\"290.142054\" style=\"fill: #d3eecd\"/>\n    </g>\n    <g clip-path=\"url(#p4945393260)\">\n     <use xlink:href=\"#C5_0_609741dced\" x=\"8.18539\" y=\"278.261062\" style=\"fill: #d3eecd\"/>\n    </g>\n    <g clip-path=\"url(#p4945393260)\">\n     <use xlink:href=\"#C5_0_609741dced\" x=\"8.18539\" y=\"266.38007\" style=\"fill: #98d594\"/>\n    </g>\n    <g clip-path=\"url(#p4945393260)\">\n     <use xlink:href=\"#C5_0_609741dced\" x=\"8.18539\" y=\"254.499079\" style=\"fill: #73c476\"/>\n    </g>\n    <g clip-path=\"url(#p4945393260)\">\n     <use xlink:href=\"#C5_0_609741dced\" x=\"8.18539\" y=\"242.618087\" style=\"fill: #f7fcf5\"/>\n    </g>\n    <g clip-path=\"url(#p4945393260)\">\n     <use xlink:href=\"#C5_0_609741dced\" x=\"8.18539\" y=\"230.737095\" style=\"fill: #f7fcf5\"/>\n    </g>\n    <g clip-path=\"url(#p4945393260)\">\n     <use xlink:href=\"#C5_0_609741dced\" x=\"8.18539\" y=\"218.856103\" style=\"fill: #f7fcf5\"/>\n    </g>\n    <g clip-path=\"url(#p4945393260)\">\n     <use xlink:href=\"#C5_0_609741dced\" x=\"8.18539\" y=\"206.975112\" style=\"fill: #f7fcf5\"/>\n    </g>\n    <g clip-path=\"url(#p4945393260)\">\n     <use xlink:href=\"#C5_0_609741dced\" x=\"15.036299\" y=\"337.666021\" style=\"fill: #f7fcf5\"/>\n    </g>\n    <g clip-path=\"url(#p4945393260)\">\n     <use xlink:href=\"#C5_0_609741dced\" x=\"15.036299\" y=\"325.785029\" style=\"fill: #f7fcf5\"/>\n    </g>\n    <g clip-path=\"url(#p4945393260)\">\n     <use xlink:href=\"#C5_0_609741dced\" x=\"15.036299\" y=\"313.904037\" style=\"fill: #e9f7e5\"/>\n    </g>\n    <g clip-path=\"url(#p4945393260)\">\n     <use xlink:href=\"#C5_0_609741dced\" x=\"15.036299\" y=\"302.023046\" style=\"fill: #f7fcf5\"/>\n    </g>\n    <g clip-path=\"url(#p4945393260)\">\n     <use xlink:href=\"#C5_0_609741dced\" x=\"15.036299\" y=\"290.142054\" style=\"fill: #f7fcf5\"/>\n    </g>\n    <g clip-path=\"url(#p4945393260)\">\n     <use xlink:href=\"#C5_0_609741dced\" x=\"15.036299\" y=\"278.261062\" style=\"fill: #e9f7e5\"/>\n    </g>\n    <g clip-path=\"url(#p4945393260)\">\n     <use xlink:href=\"#C5_0_609741dced\" x=\"15.036299\" y=\"266.38007\" style=\"fill: #f7fcf5\"/>\n    </g>\n    <g clip-path=\"url(#p4945393260)\">\n     <use xlink:href=\"#C5_0_609741dced\" x=\"15.036299\" y=\"254.499079\" style=\"fill: #f7fcf5\"/>\n    </g>\n    <g clip-path=\"url(#p4945393260)\">\n     <use xlink:href=\"#C5_0_609741dced\" x=\"15.036299\" y=\"242.618087\" style=\"fill: #f7fcf5\"/>\n    </g>\n    <g clip-path=\"url(#p4945393260)\">\n     <use xlink:href=\"#C5_0_609741dced\" x=\"15.036299\" y=\"230.737095\" style=\"fill: #f7fcf5\"/>\n    </g>\n    <g clip-path=\"url(#p4945393260)\">\n     <use xlink:href=\"#C5_0_609741dced\" x=\"15.036299\" y=\"218.856103\" style=\"fill: #f7fcf5\"/>\n    </g>\n    <g clip-path=\"url(#p4945393260)\">\n     <use xlink:href=\"#C5_0_609741dced\" x=\"15.036299\" y=\"206.975112\" style=\"fill: #f7fcf5\"/>\n    </g>\n    <g clip-path=\"url(#p4945393260)\">\n     <use xlink:href=\"#C5_0_609741dced\" x=\"21.887208\" y=\"337.666021\" style=\"fill: #f7fcf5\"/>\n    </g>\n    <g clip-path=\"url(#p4945393260)\">\n     <use xlink:href=\"#C5_0_609741dced\" x=\"21.887208\" y=\"325.785029\" style=\"fill: #f7fcf5\"/>\n    </g>\n    <g clip-path=\"url(#p4945393260)\">\n     <use xlink:href=\"#C5_0_609741dced\" x=\"21.887208\" y=\"313.904037\" style=\"fill: #f7fcf5\"/>\n    </g>\n    <g clip-path=\"url(#p4945393260)\">\n     <use xlink:href=\"#C5_0_609741dced\" x=\"21.887208\" y=\"302.023046\" style=\"fill: #b8e3b2\"/>\n    </g>\n    <g clip-path=\"url(#p4945393260)\">\n     <use xlink:href=\"#C5_0_609741dced\" x=\"21.887208\" y=\"290.142054\" style=\"fill: #f7fcf5\"/>\n    </g>\n    <g clip-path=\"url(#p4945393260)\">\n     <use xlink:href=\"#C5_0_609741dced\" x=\"21.887208\" y=\"278.261062\" style=\"fill: #f7fcf5\"/>\n    </g>\n    <g clip-path=\"url(#p4945393260)\">\n     <use xlink:href=\"#C5_0_609741dced\" x=\"21.887208\" y=\"266.38007\" style=\"fill: #f7fcf5\"/>\n    </g>\n    <g clip-path=\"url(#p4945393260)\">\n     <use xlink:href=\"#C5_0_609741dced\" x=\"21.887208\" y=\"254.499079\" style=\"fill: #f7fcf5\"/>\n    </g>\n    <g clip-path=\"url(#p4945393260)\">\n     <use xlink:href=\"#C5_0_609741dced\" x=\"21.887208\" y=\"242.618087\" style=\"fill: #f7fcf5\"/>\n    </g>\n    <g clip-path=\"url(#p4945393260)\">\n     <use xlink:href=\"#C5_0_609741dced\" x=\"21.887208\" y=\"230.737095\" style=\"fill: #f7fcf5\"/>\n    </g>\n    <g clip-path=\"url(#p4945393260)\">\n     <use xlink:href=\"#C5_0_609741dced\" x=\"21.887208\" y=\"218.856103\" style=\"fill: #f7fcf5\"/>\n    </g>\n    <g clip-path=\"url(#p4945393260)\">\n     <use xlink:href=\"#C5_0_609741dced\" x=\"21.887208\" y=\"206.975112\" style=\"fill: #f7fcf5\"/>\n    </g>\n    <g clip-path=\"url(#p4945393260)\">\n     <use xlink:href=\"#C5_0_609741dced\" x=\"28.738117\" y=\"337.666021\" style=\"fill: #f7fcf5\"/>\n    </g>\n    <g clip-path=\"url(#p4945393260)\">\n     <use xlink:href=\"#C5_0_609741dced\" x=\"28.738117\" y=\"325.785029\" style=\"fill: #f7fcf5\"/>\n    </g>\n    <g clip-path=\"url(#p4945393260)\">\n     <use xlink:href=\"#C5_0_609741dced\" x=\"28.738117\" y=\"313.904037\" style=\"fill: #f7fcf5\"/>\n    </g>\n    <g clip-path=\"url(#p4945393260)\">\n     <use xlink:href=\"#C5_0_609741dced\" x=\"28.738117\" y=\"302.023046\" style=\"fill: #f7fcf5\"/>\n    </g>\n    <g clip-path=\"url(#p4945393260)\">\n     <use xlink:href=\"#C5_0_609741dced\" x=\"28.738117\" y=\"290.142054\" style=\"fill: #f7fcf5\"/>\n    </g>\n    <g clip-path=\"url(#p4945393260)\">\n     <use xlink:href=\"#C5_0_609741dced\" x=\"28.738117\" y=\"278.261062\" style=\"fill: #f7fcf5\"/>\n    </g>\n    <g clip-path=\"url(#p4945393260)\">\n     <use xlink:href=\"#C5_0_609741dced\" x=\"28.738117\" y=\"266.38007\" style=\"fill: #f7fcf5\"/>\n    </g>\n    <g clip-path=\"url(#p4945393260)\">\n     <use xlink:href=\"#C5_0_609741dced\" x=\"28.738117\" y=\"254.499079\" style=\"fill: #f7fcf5\"/>\n    </g>\n    <g clip-path=\"url(#p4945393260)\">\n     <use xlink:href=\"#C5_0_609741dced\" x=\"28.738117\" y=\"242.618087\" style=\"fill: #f7fcf5\"/>\n    </g>\n    <g clip-path=\"url(#p4945393260)\">\n     <use xlink:href=\"#C5_0_609741dced\" x=\"28.738117\" y=\"230.737095\" style=\"fill: #f7fcf5\"/>\n    </g>\n    <g clip-path=\"url(#p4945393260)\">\n     <use xlink:href=\"#C5_0_609741dced\" x=\"28.738117\" y=\"218.856103\" style=\"fill: #f7fcf5\"/>\n    </g>\n    <g clip-path=\"url(#p4945393260)\">\n     <use xlink:href=\"#C5_0_609741dced\" x=\"28.738117\" y=\"206.975112\" style=\"fill: #f7fcf5\"/>\n    </g>\n    <g clip-path=\"url(#p4945393260)\">\n     <use xlink:href=\"#C5_0_609741dced\" x=\"35.589026\" y=\"337.666021\" style=\"fill: #f7fcf5\"/>\n    </g>\n    <g clip-path=\"url(#p4945393260)\">\n     <use xlink:href=\"#C5_0_609741dced\" x=\"35.589026\" y=\"325.785029\" style=\"fill: #f7fcf5\"/>\n    </g>\n    <g clip-path=\"url(#p4945393260)\">\n     <use xlink:href=\"#C5_0_609741dced\" x=\"35.589026\" y=\"313.904037\" style=\"fill: #f7fcf5\"/>\n    </g>\n    <g clip-path=\"url(#p4945393260)\">\n     <use xlink:href=\"#C5_0_609741dced\" x=\"35.589026\" y=\"302.023046\" style=\"fill: #f7fcf5\"/>\n    </g>\n    <g clip-path=\"url(#p4945393260)\">\n     <use xlink:href=\"#C5_0_609741dced\" x=\"35.589026\" y=\"290.142054\" style=\"fill: #f7fcf5\"/>\n    </g>\n    <g clip-path=\"url(#p4945393260)\">\n     <use xlink:href=\"#C5_0_609741dced\" x=\"35.589026\" y=\"278.261062\" style=\"fill: #f7fcf5\"/>\n    </g>\n    <g clip-path=\"url(#p4945393260)\">\n     <use xlink:href=\"#C5_0_609741dced\" x=\"35.589026\" y=\"266.38007\" style=\"fill: #e9f7e5\"/>\n    </g>\n    <g clip-path=\"url(#p4945393260)\">\n     <use xlink:href=\"#C5_0_609741dced\" x=\"35.589026\" y=\"254.499079\" style=\"fill: #f7fcf5\"/>\n    </g>\n    <g clip-path=\"url(#p4945393260)\">\n     <use xlink:href=\"#C5_0_609741dced\" x=\"35.589026\" y=\"242.618087\" style=\"fill: #f7fcf5\"/>\n    </g>\n    <g clip-path=\"url(#p4945393260)\">\n     <use xlink:href=\"#C5_0_609741dced\" x=\"35.589026\" y=\"230.737095\" style=\"fill: #f7fcf5\"/>\n    </g>\n    <g clip-path=\"url(#p4945393260)\">\n     <use xlink:href=\"#C5_0_609741dced\" x=\"35.589026\" y=\"218.856103\" style=\"fill: #f7fcf5\"/>\n    </g>\n    <g clip-path=\"url(#p4945393260)\">\n     <use xlink:href=\"#C5_0_609741dced\" x=\"35.589026\" y=\"206.975112\" style=\"fill: #f7fcf5\"/>\n    </g>\n    <g clip-path=\"url(#p4945393260)\">\n     <use xlink:href=\"#C5_0_609741dced\" x=\"42.439935\" y=\"337.666021\" style=\"fill: #f7fcf5\"/>\n    </g>\n    <g clip-path=\"url(#p4945393260)\">\n     <use xlink:href=\"#C5_0_609741dced\" x=\"42.439935\" y=\"325.785029\" style=\"fill: #f7fcf5\"/>\n    </g>\n    <g clip-path=\"url(#p4945393260)\">\n     <use xlink:href=\"#C5_0_609741dced\" x=\"42.439935\" y=\"313.904037\" style=\"fill: #f7fcf5\"/>\n    </g>\n    <g clip-path=\"url(#p4945393260)\">\n     <use xlink:href=\"#C5_0_609741dced\" x=\"42.439935\" y=\"302.023046\" style=\"fill: #f7fcf5\"/>\n    </g>\n    <g clip-path=\"url(#p4945393260)\">\n     <use xlink:href=\"#C5_0_609741dced\" x=\"42.439935\" y=\"290.142054\" style=\"fill: #f7fcf5\"/>\n    </g>\n    <g clip-path=\"url(#p4945393260)\">\n     <use xlink:href=\"#C5_0_609741dced\" x=\"42.439935\" y=\"278.261062\" style=\"fill: #d3eecd\"/>\n    </g>\n    <g clip-path=\"url(#p4945393260)\">\n     <use xlink:href=\"#C5_0_609741dced\" x=\"42.439935\" y=\"266.38007\" style=\"fill: #f7fcf5\"/>\n    </g>\n    <g clip-path=\"url(#p4945393260)\">\n     <use xlink:href=\"#C5_0_609741dced\" x=\"42.439935\" y=\"254.499079\" style=\"fill: #f7fcf5\"/>\n    </g>\n    <g clip-path=\"url(#p4945393260)\">\n     <use xlink:href=\"#C5_0_609741dced\" x=\"42.439935\" y=\"242.618087\" style=\"fill: #f7fcf5\"/>\n    </g>\n    <g clip-path=\"url(#p4945393260)\">\n     <use xlink:href=\"#C5_0_609741dced\" x=\"42.439935\" y=\"230.737095\" style=\"fill: #f7fcf5\"/>\n    </g>\n    <g clip-path=\"url(#p4945393260)\">\n     <use xlink:href=\"#C5_0_609741dced\" x=\"42.439935\" y=\"218.856103\" style=\"fill: #f7fcf5\"/>\n    </g>\n    <g clip-path=\"url(#p4945393260)\">\n     <use xlink:href=\"#C5_0_609741dced\" x=\"42.439935\" y=\"206.975112\" style=\"fill: #f7fcf5\"/>\n    </g>\n    <g clip-path=\"url(#p4945393260)\">\n     <use xlink:href=\"#C5_0_609741dced\" x=\"49.290844\" y=\"337.666021\" style=\"fill: #f7fcf5\"/>\n    </g>\n    <g clip-path=\"url(#p4945393260)\">\n     <use xlink:href=\"#C5_0_609741dced\" x=\"49.290844\" y=\"325.785029\" style=\"fill: #f7fcf5\"/>\n    </g>\n    <g clip-path=\"url(#p4945393260)\">\n     <use xlink:href=\"#C5_0_609741dced\" x=\"49.290844\" y=\"313.904037\" style=\"fill: #f7fcf5\"/>\n    </g>\n    <g clip-path=\"url(#p4945393260)\">\n     <use xlink:href=\"#C5_0_609741dced\" x=\"49.290844\" y=\"302.023046\" style=\"fill: #f7fcf5\"/>\n    </g>\n    <g clip-path=\"url(#p4945393260)\">\n     <use xlink:href=\"#C5_0_609741dced\" x=\"49.290844\" y=\"290.142054\" style=\"fill: #e9f7e5\"/>\n    </g>\n    <g clip-path=\"url(#p4945393260)\">\n     <use xlink:href=\"#C5_0_609741dced\" x=\"49.290844\" y=\"278.261062\" style=\"fill: #f7fcf5\"/>\n    </g>\n    <g clip-path=\"url(#p4945393260)\">\n     <use xlink:href=\"#C5_0_609741dced\" x=\"49.290844\" y=\"266.38007\" style=\"fill: #d3eecd\"/>\n    </g>\n    <g clip-path=\"url(#p4945393260)\">\n     <use xlink:href=\"#C5_0_609741dced\" x=\"49.290844\" y=\"254.499079\" style=\"fill: #b8e3b2\"/>\n    </g>\n    <g clip-path=\"url(#p4945393260)\">\n     <use xlink:href=\"#C5_0_609741dced\" x=\"49.290844\" y=\"242.618087\" style=\"fill: #f7fcf5\"/>\n    </g>\n    <g clip-path=\"url(#p4945393260)\">\n     <use xlink:href=\"#C5_0_609741dced\" x=\"49.290844\" y=\"230.737095\" style=\"fill: #f7fcf5\"/>\n    </g>\n    <g clip-path=\"url(#p4945393260)\">\n     <use xlink:href=\"#C5_0_609741dced\" x=\"49.290844\" y=\"218.856103\" style=\"fill: #f7fcf5\"/>\n    </g>\n    <g clip-path=\"url(#p4945393260)\">\n     <use xlink:href=\"#C5_0_609741dced\" x=\"49.290844\" y=\"206.975112\" style=\"fill: #f7fcf5\"/>\n    </g>\n    <g clip-path=\"url(#p4945393260)\">\n     <use xlink:href=\"#C5_0_609741dced\" x=\"56.141753\" y=\"337.666021\" style=\"fill: #f7fcf5\"/>\n    </g>\n    <g clip-path=\"url(#p4945393260)\">\n     <use xlink:href=\"#C5_0_609741dced\" x=\"56.141753\" y=\"325.785029\" style=\"fill: #f7fcf5\"/>\n    </g>\n    <g clip-path=\"url(#p4945393260)\">\n     <use xlink:href=\"#C5_0_609741dced\" x=\"56.141753\" y=\"313.904037\" style=\"fill: #f7fcf5\"/>\n    </g>\n    <g clip-path=\"url(#p4945393260)\">\n     <use xlink:href=\"#C5_0_609741dced\" x=\"56.141753\" y=\"302.023046\" style=\"fill: #e9f7e5\"/>\n    </g>\n    <g clip-path=\"url(#p4945393260)\">\n     <use xlink:href=\"#C5_0_609741dced\" x=\"56.141753\" y=\"290.142054\" style=\"fill: #e9f7e5\"/>\n    </g>\n    <g clip-path=\"url(#p4945393260)\">\n     <use xlink:href=\"#C5_0_609741dced\" x=\"56.141753\" y=\"278.261062\" style=\"fill: #4bb062\"/>\n    </g>\n    <g clip-path=\"url(#p4945393260)\">\n     <use xlink:href=\"#C5_0_609741dced\" x=\"56.141753\" y=\"266.38007\" style=\"fill: #d3eecd\"/>\n    </g>\n    <g clip-path=\"url(#p4945393260)\">\n     <use xlink:href=\"#C5_0_609741dced\" x=\"56.141753\" y=\"254.499079\" style=\"fill: #e9f7e5\"/>\n    </g>\n    <g clip-path=\"url(#p4945393260)\">\n     <use xlink:href=\"#C5_0_609741dced\" x=\"56.141753\" y=\"242.618087\" style=\"fill: #f7fcf5\"/>\n    </g>\n    <g clip-path=\"url(#p4945393260)\">\n     <use xlink:href=\"#C5_0_609741dced\" x=\"56.141753\" y=\"230.737095\" style=\"fill: #f7fcf5\"/>\n    </g>\n    <g clip-path=\"url(#p4945393260)\">\n     <use xlink:href=\"#C5_0_609741dced\" x=\"56.141753\" y=\"218.856103\" style=\"fill: #f7fcf5\"/>\n    </g>\n    <g clip-path=\"url(#p4945393260)\">\n     <use xlink:href=\"#C5_0_609741dced\" x=\"56.141753\" y=\"206.975112\" style=\"fill: #f7fcf5\"/>\n    </g>\n    <g clip-path=\"url(#p4945393260)\">\n     <use xlink:href=\"#C5_0_609741dced\" x=\"62.992662\" y=\"337.666021\" style=\"fill: #f7fcf5\"/>\n    </g>\n    <g clip-path=\"url(#p4945393260)\">\n     <use xlink:href=\"#C5_0_609741dced\" x=\"62.992662\" y=\"325.785029\" style=\"fill: #f7fcf5\"/>\n    </g>\n    <g clip-path=\"url(#p4945393260)\">\n     <use xlink:href=\"#C5_0_609741dced\" x=\"62.992662\" y=\"313.904037\" style=\"fill: #f7fcf5\"/>\n    </g>\n    <g clip-path=\"url(#p4945393260)\">\n     <use xlink:href=\"#C5_0_609741dced\" x=\"62.992662\" y=\"302.023046\" style=\"fill: #b8e3b2\"/>\n    </g>\n    <g clip-path=\"url(#p4945393260)\">\n     <use xlink:href=\"#C5_0_609741dced\" x=\"62.992662\" y=\"290.142054\" style=\"fill: #d3eecd\"/>\n    </g>\n    <g clip-path=\"url(#p4945393260)\">\n     <use xlink:href=\"#C5_0_609741dced\" x=\"62.992662\" y=\"278.261062\" style=\"fill: #98d594\"/>\n    </g>\n    <g clip-path=\"url(#p4945393260)\">\n     <use xlink:href=\"#C5_0_609741dced\" x=\"62.992662\" y=\"266.38007\" style=\"fill: #e9f7e5\"/>\n    </g>\n    <g clip-path=\"url(#p4945393260)\">\n     <use xlink:href=\"#C5_0_609741dced\" x=\"62.992662\" y=\"254.499079\" style=\"fill: #f7fcf5\"/>\n    </g>\n    <g clip-path=\"url(#p4945393260)\">\n     <use xlink:href=\"#C5_0_609741dced\" x=\"62.992662\" y=\"242.618087\" style=\"fill: #f7fcf5\"/>\n    </g>\n    <g clip-path=\"url(#p4945393260)\">\n     <use xlink:href=\"#C5_0_609741dced\" x=\"62.992662\" y=\"230.737095\" style=\"fill: #f7fcf5\"/>\n    </g>\n    <g clip-path=\"url(#p4945393260)\">\n     <use xlink:href=\"#C5_0_609741dced\" x=\"62.992662\" y=\"218.856103\" style=\"fill: #f7fcf5\"/>\n    </g>\n    <g clip-path=\"url(#p4945393260)\">\n     <use xlink:href=\"#C5_0_609741dced\" x=\"62.992662\" y=\"206.975112\" style=\"fill: #f7fcf5\"/>\n    </g>\n    <g clip-path=\"url(#p4945393260)\">\n     <use xlink:href=\"#C5_0_609741dced\" x=\"69.843571\" y=\"337.666021\" style=\"fill: #f7fcf5\"/>\n    </g>\n    <g clip-path=\"url(#p4945393260)\">\n     <use xlink:href=\"#C5_0_609741dced\" x=\"69.843571\" y=\"325.785029\" style=\"fill: #f7fcf5\"/>\n    </g>\n    <g clip-path=\"url(#p4945393260)\">\n     <use xlink:href=\"#C5_0_609741dced\" x=\"69.843571\" y=\"313.904037\" style=\"fill: #e9f7e5\"/>\n    </g>\n    <g clip-path=\"url(#p4945393260)\">\n     <use xlink:href=\"#C5_0_609741dced\" x=\"69.843571\" y=\"302.023046\" style=\"fill: #e9f7e5\"/>\n    </g>\n    <g clip-path=\"url(#p4945393260)\">\n     <use xlink:href=\"#C5_0_609741dced\" x=\"69.843571\" y=\"290.142054\" style=\"fill: #b8e3b2\"/>\n    </g>\n    <g clip-path=\"url(#p4945393260)\">\n     <use xlink:href=\"#C5_0_609741dced\" x=\"69.843571\" y=\"278.261062\" style=\"fill: #d3eecd\"/>\n    </g>\n    <g clip-path=\"url(#p4945393260)\">\n     <use xlink:href=\"#C5_0_609741dced\" x=\"69.843571\" y=\"266.38007\" style=\"fill: #73c476\"/>\n    </g>\n    <g clip-path=\"url(#p4945393260)\">\n     <use xlink:href=\"#C5_0_609741dced\" x=\"69.843571\" y=\"254.499079\" style=\"fill: #f7fcf5\"/>\n    </g>\n    <g clip-path=\"url(#p4945393260)\">\n     <use xlink:href=\"#C5_0_609741dced\" x=\"69.843571\" y=\"242.618087\" style=\"fill: #f7fcf5\"/>\n    </g>\n    <g clip-path=\"url(#p4945393260)\">\n     <use xlink:href=\"#C5_0_609741dced\" x=\"69.843571\" y=\"230.737095\" style=\"fill: #f7fcf5\"/>\n    </g>\n    <g clip-path=\"url(#p4945393260)\">\n     <use xlink:href=\"#C5_0_609741dced\" x=\"69.843571\" y=\"218.856103\" style=\"fill: #f7fcf5\"/>\n    </g>\n    <g clip-path=\"url(#p4945393260)\">\n     <use xlink:href=\"#C5_0_609741dced\" x=\"69.843571\" y=\"206.975112\" style=\"fill: #f7fcf5\"/>\n    </g>\n    <g clip-path=\"url(#p4945393260)\">\n     <use xlink:href=\"#C5_0_609741dced\" x=\"76.694481\" y=\"337.666021\" style=\"fill: #f7fcf5\"/>\n    </g>\n    <g clip-path=\"url(#p4945393260)\">\n     <use xlink:href=\"#C5_0_609741dced\" x=\"76.694481\" y=\"325.785029\" style=\"fill: #f7fcf5\"/>\n    </g>\n    <g clip-path=\"url(#p4945393260)\">\n     <use xlink:href=\"#C5_0_609741dced\" x=\"76.694481\" y=\"313.904037\" style=\"fill: #b8e3b2\"/>\n    </g>\n    <g clip-path=\"url(#p4945393260)\">\n     <use xlink:href=\"#C5_0_609741dced\" x=\"76.694481\" y=\"302.023046\" style=\"fill: #d3eecd\"/>\n    </g>\n    <g clip-path=\"url(#p4945393260)\">\n     <use xlink:href=\"#C5_0_609741dced\" x=\"76.694481\" y=\"290.142054\" style=\"fill: #d3eecd\"/>\n    </g>\n    <g clip-path=\"url(#p4945393260)\">\n     <use xlink:href=\"#C5_0_609741dced\" x=\"76.694481\" y=\"278.261062\" style=\"fill: #b8e3b2\"/>\n    </g>\n    <g clip-path=\"url(#p4945393260)\">\n     <use xlink:href=\"#C5_0_609741dced\" x=\"76.694481\" y=\"266.38007\" style=\"fill: #f7fcf5\"/>\n    </g>\n    <g clip-path=\"url(#p4945393260)\">\n     <use xlink:href=\"#C5_0_609741dced\" x=\"76.694481\" y=\"254.499079\" style=\"fill: #f7fcf5\"/>\n    </g>\n    <g clip-path=\"url(#p4945393260)\">\n     <use xlink:href=\"#C5_0_609741dced\" x=\"76.694481\" y=\"242.618087\" style=\"fill: #f7fcf5\"/>\n    </g>\n    <g clip-path=\"url(#p4945393260)\">\n     <use xlink:href=\"#C5_0_609741dced\" x=\"76.694481\" y=\"230.737095\" style=\"fill: #f7fcf5\"/>\n    </g>\n    <g clip-path=\"url(#p4945393260)\">\n     <use xlink:href=\"#C5_0_609741dced\" x=\"76.694481\" y=\"218.856103\" style=\"fill: #f7fcf5\"/>\n    </g>\n    <g clip-path=\"url(#p4945393260)\">\n     <use xlink:href=\"#C5_0_609741dced\" x=\"76.694481\" y=\"206.975112\" style=\"fill: #f7fcf5\"/>\n    </g>\n    <g clip-path=\"url(#p4945393260)\">\n     <use xlink:href=\"#C5_0_609741dced\" x=\"83.54539\" y=\"337.666021\" style=\"fill: #f7fcf5\"/>\n    </g>\n    <g clip-path=\"url(#p4945393260)\">\n     <use xlink:href=\"#C5_0_609741dced\" x=\"83.54539\" y=\"325.785029\" style=\"fill: #f7fcf5\"/>\n    </g>\n    <g clip-path=\"url(#p4945393260)\">\n     <use xlink:href=\"#C5_0_609741dced\" x=\"83.54539\" y=\"313.904037\" style=\"fill: #f7fcf5\"/>\n    </g>\n    <g clip-path=\"url(#p4945393260)\">\n     <use xlink:href=\"#C5_0_609741dced\" x=\"83.54539\" y=\"302.023046\" style=\"fill: #e9f7e5\"/>\n    </g>\n    <g clip-path=\"url(#p4945393260)\">\n     <use xlink:href=\"#C5_0_609741dced\" x=\"83.54539\" y=\"290.142054\" style=\"fill: #b8e3b2\"/>\n    </g>\n    <g clip-path=\"url(#p4945393260)\">\n     <use xlink:href=\"#C5_0_609741dced\" x=\"83.54539\" y=\"278.261062\" style=\"fill: #e9f7e5\"/>\n    </g>\n    <g clip-path=\"url(#p4945393260)\">\n     <use xlink:href=\"#C5_0_609741dced\" x=\"83.54539\" y=\"266.38007\" style=\"fill: #f7fcf5\"/>\n    </g>\n    <g clip-path=\"url(#p4945393260)\">\n     <use xlink:href=\"#C5_0_609741dced\" x=\"83.54539\" y=\"254.499079\" style=\"fill: #f7fcf5\"/>\n    </g>\n    <g clip-path=\"url(#p4945393260)\">\n     <use xlink:href=\"#C5_0_609741dced\" x=\"83.54539\" y=\"242.618087\" style=\"fill: #f7fcf5\"/>\n    </g>\n    <g clip-path=\"url(#p4945393260)\">\n     <use xlink:href=\"#C5_0_609741dced\" x=\"83.54539\" y=\"230.737095\" style=\"fill: #f7fcf5\"/>\n    </g>\n    <g clip-path=\"url(#p4945393260)\">\n     <use xlink:href=\"#C5_0_609741dced\" x=\"83.54539\" y=\"218.856103\" style=\"fill: #f7fcf5\"/>\n    </g>\n    <g clip-path=\"url(#p4945393260)\">\n     <use xlink:href=\"#C5_0_609741dced\" x=\"83.54539\" y=\"206.975112\" style=\"fill: #f7fcf5\"/>\n    </g>\n    <g clip-path=\"url(#p4945393260)\">\n     <use xlink:href=\"#C5_0_609741dced\" x=\"-50.047338\" y=\"331.725525\" style=\"fill: #f7fcf5\"/>\n    </g>\n    <g clip-path=\"url(#p4945393260)\">\n     <use xlink:href=\"#C5_0_609741dced\" x=\"-50.047338\" y=\"319.844533\" style=\"fill: #f7fcf5\"/>\n    </g>\n    <g clip-path=\"url(#p4945393260)\">\n     <use xlink:href=\"#C5_0_609741dced\" x=\"-50.047338\" y=\"307.963541\" style=\"fill: #f7fcf5\"/>\n    </g>\n    <g clip-path=\"url(#p4945393260)\">\n     <use xlink:href=\"#C5_0_609741dced\" x=\"-50.047338\" y=\"296.08255\" style=\"fill: #e9f7e5\"/>\n    </g>\n    <g clip-path=\"url(#p4945393260)\">\n     <use xlink:href=\"#C5_0_609741dced\" x=\"-50.047338\" y=\"284.201558\" style=\"fill: #f7fcf5\"/>\n    </g>\n    <g clip-path=\"url(#p4945393260)\">\n     <use xlink:href=\"#C5_0_609741dced\" x=\"-50.047338\" y=\"272.320566\" style=\"fill: #f7fcf5\"/>\n    </g>\n    <g clip-path=\"url(#p4945393260)\">\n     <use xlink:href=\"#C5_0_609741dced\" x=\"-50.047338\" y=\"260.439575\" style=\"fill: #f7fcf5\"/>\n    </g>\n    <g clip-path=\"url(#p4945393260)\">\n     <use xlink:href=\"#C5_0_609741dced\" x=\"-50.047338\" y=\"248.558583\" style=\"fill: #f7fcf5\"/>\n    </g>\n    <g clip-path=\"url(#p4945393260)\">\n     <use xlink:href=\"#C5_0_609741dced\" x=\"-50.047338\" y=\"236.677591\" style=\"fill: #f7fcf5\"/>\n    </g>\n    <g clip-path=\"url(#p4945393260)\">\n     <use xlink:href=\"#C5_0_609741dced\" x=\"-50.047338\" y=\"224.796599\" style=\"fill: #f7fcf5\"/>\n    </g>\n    <g clip-path=\"url(#p4945393260)\">\n     <use xlink:href=\"#C5_0_609741dced\" x=\"-50.047338\" y=\"212.915608\" style=\"fill: #f7fcf5\"/>\n    </g>\n    <g clip-path=\"url(#p4945393260)\">\n     <use xlink:href=\"#C5_0_609741dced\" x=\"-43.196429\" y=\"331.725525\" style=\"fill: #f7fcf5\"/>\n    </g>\n    <g clip-path=\"url(#p4945393260)\">\n     <use xlink:href=\"#C5_0_609741dced\" x=\"-43.196429\" y=\"319.844533\" style=\"fill: #f7fcf5\"/>\n    </g>\n    <g clip-path=\"url(#p4945393260)\">\n     <use xlink:href=\"#C5_0_609741dced\" x=\"-43.196429\" y=\"307.963541\" style=\"fill: #d3eecd\"/>\n    </g>\n    <g clip-path=\"url(#p4945393260)\">\n     <use xlink:href=\"#C5_0_609741dced\" x=\"-43.196429\" y=\"296.08255\" style=\"fill: #4bb062\"/>\n    </g>\n    <g clip-path=\"url(#p4945393260)\">\n     <use xlink:href=\"#C5_0_609741dced\" x=\"-43.196429\" y=\"284.201558\" style=\"fill: #006428\"/>\n    </g>\n    <g clip-path=\"url(#p4945393260)\">\n     <use xlink:href=\"#C5_0_609741dced\" x=\"-43.196429\" y=\"272.320566\" style=\"fill: #2f974e\"/>\n    </g>\n    <g clip-path=\"url(#p4945393260)\">\n     <use xlink:href=\"#C5_0_609741dced\" x=\"-43.196429\" y=\"260.439575\" style=\"fill: #4bb062\"/>\n    </g>\n    <g clip-path=\"url(#p4945393260)\">\n     <use xlink:href=\"#C5_0_609741dced\" x=\"-43.196429\" y=\"248.558583\" style=\"fill: #b8e3b2\"/>\n    </g>\n    <g clip-path=\"url(#p4945393260)\">\n     <use xlink:href=\"#C5_0_609741dced\" x=\"-43.196429\" y=\"236.677591\" style=\"fill: #f7fcf5\"/>\n    </g>\n    <g clip-path=\"url(#p4945393260)\">\n     <use xlink:href=\"#C5_0_609741dced\" x=\"-43.196429\" y=\"224.796599\" style=\"fill: #f7fcf5\"/>\n    </g>\n    <g clip-path=\"url(#p4945393260)\">\n     <use xlink:href=\"#C5_0_609741dced\" x=\"-43.196429\" y=\"212.915608\" style=\"fill: #f7fcf5\"/>\n    </g>\n    <g clip-path=\"url(#p4945393260)\">\n     <use xlink:href=\"#C5_0_609741dced\" x=\"-36.345519\" y=\"331.725525\" style=\"fill: #f7fcf5\"/>\n    </g>\n    <g clip-path=\"url(#p4945393260)\">\n     <use xlink:href=\"#C5_0_609741dced\" x=\"-36.345519\" y=\"319.844533\" style=\"fill: #f7fcf5\"/>\n    </g>\n    <g clip-path=\"url(#p4945393260)\">\n     <use xlink:href=\"#C5_0_609741dced\" x=\"-36.345519\" y=\"307.963541\" style=\"fill: #e9f7e5\"/>\n    </g>\n    <g clip-path=\"url(#p4945393260)\">\n     <use xlink:href=\"#C5_0_609741dced\" x=\"-36.345519\" y=\"296.08255\" style=\"fill: #157f3b\"/>\n    </g>\n    <g clip-path=\"url(#p4945393260)\">\n     <use xlink:href=\"#C5_0_609741dced\" x=\"-36.345519\" y=\"284.201558\" style=\"fill: #98d594\"/>\n    </g>\n    <g clip-path=\"url(#p4945393260)\">\n     <use xlink:href=\"#C5_0_609741dced\" x=\"-36.345519\" y=\"272.320566\" style=\"fill: #d3eecd\"/>\n    </g>\n    <g clip-path=\"url(#p4945393260)\">\n     <use xlink:href=\"#C5_0_609741dced\" x=\"-36.345519\" y=\"260.439575\" style=\"fill: #b8e3b2\"/>\n    </g>\n    <g clip-path=\"url(#p4945393260)\">\n     <use xlink:href=\"#C5_0_609741dced\" x=\"-36.345519\" y=\"248.558583\" style=\"fill: #98d594\"/>\n    </g>\n    <g clip-path=\"url(#p4945393260)\">\n     <use xlink:href=\"#C5_0_609741dced\" x=\"-36.345519\" y=\"236.677591\" style=\"fill: #f7fcf5\"/>\n    </g>\n    <g clip-path=\"url(#p4945393260)\">\n     <use xlink:href=\"#C5_0_609741dced\" x=\"-36.345519\" y=\"224.796599\" style=\"fill: #f7fcf5\"/>\n    </g>\n    <g clip-path=\"url(#p4945393260)\">\n     <use xlink:href=\"#C5_0_609741dced\" x=\"-36.345519\" y=\"212.915608\" style=\"fill: #f7fcf5\"/>\n    </g>\n    <g clip-path=\"url(#p4945393260)\">\n     <use xlink:href=\"#C5_0_609741dced\" x=\"-29.49461\" y=\"331.725525\" style=\"fill: #f7fcf5\"/>\n    </g>\n    <g clip-path=\"url(#p4945393260)\">\n     <use xlink:href=\"#C5_0_609741dced\" x=\"-29.49461\" y=\"319.844533\" style=\"fill: #f7fcf5\"/>\n    </g>\n    <g clip-path=\"url(#p4945393260)\">\n     <use xlink:href=\"#C5_0_609741dced\" x=\"-29.49461\" y=\"307.963541\" style=\"fill: #2f974e\"/>\n    </g>\n    <g clip-path=\"url(#p4945393260)\">\n     <use xlink:href=\"#C5_0_609741dced\" x=\"-29.49461\" y=\"296.08255\" style=\"fill: #b8e3b2\"/>\n    </g>\n    <g clip-path=\"url(#p4945393260)\">\n     <use xlink:href=\"#C5_0_609741dced\" x=\"-29.49461\" y=\"284.201558\" style=\"fill: #157f3b\"/>\n    </g>\n    <g clip-path=\"url(#p4945393260)\">\n     <use xlink:href=\"#C5_0_609741dced\" x=\"-29.49461\" y=\"272.320566\" style=\"fill: #98d594\"/>\n    </g>\n    <g clip-path=\"url(#p4945393260)\">\n     <use xlink:href=\"#C5_0_609741dced\" x=\"-29.49461\" y=\"260.439575\" style=\"fill: #73c476\"/>\n    </g>\n    <g clip-path=\"url(#p4945393260)\">\n     <use xlink:href=\"#C5_0_609741dced\" x=\"-29.49461\" y=\"248.558583\" style=\"fill: #d3eecd\"/>\n    </g>\n    <g clip-path=\"url(#p4945393260)\">\n     <use xlink:href=\"#C5_0_609741dced\" x=\"-29.49461\" y=\"236.677591\" style=\"fill: #f7fcf5\"/>\n    </g>\n    <g clip-path=\"url(#p4945393260)\">\n     <use xlink:href=\"#C5_0_609741dced\" x=\"-29.49461\" y=\"224.796599\" style=\"fill: #f7fcf5\"/>\n    </g>\n    <g clip-path=\"url(#p4945393260)\">\n     <use xlink:href=\"#C5_0_609741dced\" x=\"-29.49461\" y=\"212.915608\" style=\"fill: #f7fcf5\"/>\n    </g>\n    <g clip-path=\"url(#p4945393260)\">\n     <use xlink:href=\"#C5_0_609741dced\" x=\"-22.643701\" y=\"331.725525\" style=\"fill: #f7fcf5\"/>\n    </g>\n    <g clip-path=\"url(#p4945393260)\">\n     <use xlink:href=\"#C5_0_609741dced\" x=\"-22.643701\" y=\"319.844533\" style=\"fill: #d3eecd\"/>\n    </g>\n    <g clip-path=\"url(#p4945393260)\">\n     <use xlink:href=\"#C5_0_609741dced\" x=\"-22.643701\" y=\"307.963541\" style=\"fill: #98d594\"/>\n    </g>\n    <g clip-path=\"url(#p4945393260)\">\n     <use xlink:href=\"#C5_0_609741dced\" x=\"-22.643701\" y=\"296.08255\" style=\"fill: #98d594\"/>\n    </g>\n    <g clip-path=\"url(#p4945393260)\">\n     <use xlink:href=\"#C5_0_609741dced\" x=\"-22.643701\" y=\"284.201558\" style=\"fill: #d3eecd\"/>\n    </g>\n    <g clip-path=\"url(#p4945393260)\">\n     <use xlink:href=\"#C5_0_609741dced\" x=\"-22.643701\" y=\"272.320566\" style=\"fill: #e9f7e5\"/>\n    </g>\n    <g clip-path=\"url(#p4945393260)\">\n     <use xlink:href=\"#C5_0_609741dced\" x=\"-22.643701\" y=\"260.439575\" style=\"fill: #4bb062\"/>\n    </g>\n    <g clip-path=\"url(#p4945393260)\">\n     <use xlink:href=\"#C5_0_609741dced\" x=\"-22.643701\" y=\"248.558583\" style=\"fill: #e9f7e5\"/>\n    </g>\n    <g clip-path=\"url(#p4945393260)\">\n     <use xlink:href=\"#C5_0_609741dced\" x=\"-22.643701\" y=\"236.677591\" style=\"fill: #f7fcf5\"/>\n    </g>\n    <g clip-path=\"url(#p4945393260)\">\n     <use xlink:href=\"#C5_0_609741dced\" x=\"-22.643701\" y=\"224.796599\" style=\"fill: #f7fcf5\"/>\n    </g>\n    <g clip-path=\"url(#p4945393260)\">\n     <use xlink:href=\"#C5_0_609741dced\" x=\"-22.643701\" y=\"212.915608\" style=\"fill: #f7fcf5\"/>\n    </g>\n    <g clip-path=\"url(#p4945393260)\">\n     <use xlink:href=\"#C5_0_609741dced\" x=\"-15.792792\" y=\"331.725525\" style=\"fill: #e9f7e5\"/>\n    </g>\n    <g clip-path=\"url(#p4945393260)\">\n     <use xlink:href=\"#C5_0_609741dced\" x=\"-15.792792\" y=\"319.844533\" style=\"fill: #d3eecd\"/>\n    </g>\n    <g clip-path=\"url(#p4945393260)\">\n     <use xlink:href=\"#C5_0_609741dced\" x=\"-15.792792\" y=\"307.963541\" style=\"fill: #f7fcf5\"/>\n    </g>\n    <g clip-path=\"url(#p4945393260)\">\n     <use xlink:href=\"#C5_0_609741dced\" x=\"-15.792792\" y=\"296.08255\" style=\"fill: #b8e3b2\"/>\n    </g>\n    <g clip-path=\"url(#p4945393260)\">\n     <use xlink:href=\"#C5_0_609741dced\" x=\"-15.792792\" y=\"284.201558\" style=\"fill: #e9f7e5\"/>\n    </g>\n    <g clip-path=\"url(#p4945393260)\">\n     <use xlink:href=\"#C5_0_609741dced\" x=\"-15.792792\" y=\"272.320566\" style=\"fill: #b8e3b2\"/>\n    </g>\n    <g clip-path=\"url(#p4945393260)\">\n     <use xlink:href=\"#C5_0_609741dced\" x=\"-15.792792\" y=\"260.439575\" style=\"fill: #e9f7e5\"/>\n    </g>\n    <g clip-path=\"url(#p4945393260)\">\n     <use xlink:href=\"#C5_0_609741dced\" x=\"-15.792792\" y=\"248.558583\" style=\"fill: #98d594\"/>\n    </g>\n    <g clip-path=\"url(#p4945393260)\">\n     <use xlink:href=\"#C5_0_609741dced\" x=\"-15.792792\" y=\"236.677591\" style=\"fill: #d3eecd\"/>\n    </g>\n    <g clip-path=\"url(#p4945393260)\">\n     <use xlink:href=\"#C5_0_609741dced\" x=\"-15.792792\" y=\"224.796599\" style=\"fill: #d3eecd\"/>\n    </g>\n    <g clip-path=\"url(#p4945393260)\">\n     <use xlink:href=\"#C5_0_609741dced\" x=\"-15.792792\" y=\"212.915608\" style=\"fill: #d3eecd\"/>\n    </g>\n    <g clip-path=\"url(#p4945393260)\">\n     <use xlink:href=\"#C5_0_609741dced\" x=\"-8.941883\" y=\"331.725525\" style=\"fill: #f7fcf5\"/>\n    </g>\n    <g clip-path=\"url(#p4945393260)\">\n     <use xlink:href=\"#C5_0_609741dced\" x=\"-8.941883\" y=\"319.844533\" style=\"fill: #b8e3b2\"/>\n    </g>\n    <g clip-path=\"url(#p4945393260)\">\n     <use xlink:href=\"#C5_0_609741dced\" x=\"-8.941883\" y=\"307.963541\" style=\"fill: #e9f7e5\"/>\n    </g>\n    <g clip-path=\"url(#p4945393260)\">\n     <use xlink:href=\"#C5_0_609741dced\" x=\"-8.941883\" y=\"296.08255\" style=\"fill: #b8e3b2\"/>\n    </g>\n    <g clip-path=\"url(#p4945393260)\">\n     <use xlink:href=\"#C5_0_609741dced\" x=\"-8.941883\" y=\"284.201558\" style=\"fill: #98d594\"/>\n    </g>\n    <g clip-path=\"url(#p4945393260)\">\n     <use xlink:href=\"#C5_0_609741dced\" x=\"-8.941883\" y=\"272.320566\" style=\"fill: #b8e3b2\"/>\n    </g>\n    <g clip-path=\"url(#p4945393260)\">\n     <use xlink:href=\"#C5_0_609741dced\" x=\"-8.941883\" y=\"260.439575\" style=\"fill: #98d594\"/>\n    </g>\n    <g clip-path=\"url(#p4945393260)\">\n     <use xlink:href=\"#C5_0_609741dced\" x=\"-8.941883\" y=\"248.558583\" style=\"fill: #e9f7e5\"/>\n    </g>\n    <g clip-path=\"url(#p4945393260)\">\n     <use xlink:href=\"#C5_0_609741dced\" x=\"-8.941883\" y=\"236.677591\" style=\"fill: #d3eecd\"/>\n    </g>\n    <g clip-path=\"url(#p4945393260)\">\n     <use xlink:href=\"#C5_0_609741dced\" x=\"-8.941883\" y=\"224.796599\" style=\"fill: #98d594\"/>\n    </g>\n    <g clip-path=\"url(#p4945393260)\">\n     <use xlink:href=\"#C5_0_609741dced\" x=\"-8.941883\" y=\"212.915608\" style=\"fill: #2f974e\"/>\n    </g>\n    <g clip-path=\"url(#p4945393260)\">\n     <use xlink:href=\"#C5_0_609741dced\" x=\"-2.090974\" y=\"331.725525\" style=\"fill: #f7fcf5\"/>\n    </g>\n    <g clip-path=\"url(#p4945393260)\">\n     <use xlink:href=\"#C5_0_609741dced\" x=\"-2.090974\" y=\"319.844533\" style=\"fill: #f7fcf5\"/>\n    </g>\n    <g clip-path=\"url(#p4945393260)\">\n     <use xlink:href=\"#C5_0_609741dced\" x=\"-2.090974\" y=\"307.963541\" style=\"fill: #e9f7e5\"/>\n    </g>\n    <g clip-path=\"url(#p4945393260)\">\n     <use xlink:href=\"#C5_0_609741dced\" x=\"-2.090974\" y=\"296.08255\" style=\"fill: #b8e3b2\"/>\n    </g>\n    <g clip-path=\"url(#p4945393260)\">\n     <use xlink:href=\"#C5_0_609741dced\" x=\"-2.090974\" y=\"284.201558\" style=\"fill: #d3eecd\"/>\n    </g>\n    <g clip-path=\"url(#p4945393260)\">\n     <use xlink:href=\"#C5_0_609741dced\" x=\"-2.090974\" y=\"272.320566\" style=\"fill: #b8e3b2\"/>\n    </g>\n    <g clip-path=\"url(#p4945393260)\">\n     <use xlink:href=\"#C5_0_609741dced\" x=\"-2.090974\" y=\"260.439575\" style=\"fill: #b8e3b2\"/>\n    </g>\n    <g clip-path=\"url(#p4945393260)\">\n     <use xlink:href=\"#C5_0_609741dced\" x=\"-2.090974\" y=\"248.558583\" style=\"fill: #d3eecd\"/>\n    </g>\n    <g clip-path=\"url(#p4945393260)\">\n     <use xlink:href=\"#C5_0_609741dced\" x=\"-2.090974\" y=\"236.677591\" style=\"fill: #2f974e\"/>\n    </g>\n    <g clip-path=\"url(#p4945393260)\">\n     <use xlink:href=\"#C5_0_609741dced\" x=\"-2.090974\" y=\"224.796599\" style=\"fill: #73c476\"/>\n    </g>\n    <g clip-path=\"url(#p4945393260)\">\n     <use xlink:href=\"#C5_0_609741dced\" x=\"-2.090974\" y=\"212.915608\" style=\"fill: #e9f7e5\"/>\n    </g>\n    <g clip-path=\"url(#p4945393260)\">\n     <use xlink:href=\"#C5_0_609741dced\" x=\"4.759935\" y=\"331.725525\" style=\"fill: #e9f7e5\"/>\n    </g>\n    <g clip-path=\"url(#p4945393260)\">\n     <use xlink:href=\"#C5_0_609741dced\" x=\"4.759935\" y=\"319.844533\" style=\"fill: #f7fcf5\"/>\n    </g>\n    <g clip-path=\"url(#p4945393260)\">\n     <use xlink:href=\"#C5_0_609741dced\" x=\"4.759935\" y=\"307.963541\" style=\"fill: #d3eecd\"/>\n    </g>\n    <g clip-path=\"url(#p4945393260)\">\n     <use xlink:href=\"#C5_0_609741dced\" x=\"4.759935\" y=\"296.08255\" style=\"fill: #98d594\"/>\n    </g>\n    <g clip-path=\"url(#p4945393260)\">\n     <use xlink:href=\"#C5_0_609741dced\" x=\"4.759935\" y=\"284.201558\" style=\"fill: #98d594\"/>\n    </g>\n    <g clip-path=\"url(#p4945393260)\">\n     <use xlink:href=\"#C5_0_609741dced\" x=\"4.759935\" y=\"272.320566\" style=\"fill: #e9f7e5\"/>\n    </g>\n    <g clip-path=\"url(#p4945393260)\">\n     <use xlink:href=\"#C5_0_609741dced\" x=\"4.759935\" y=\"260.439575\" style=\"fill: #73c476\"/>\n    </g>\n    <g clip-path=\"url(#p4945393260)\">\n     <use xlink:href=\"#C5_0_609741dced\" x=\"4.759935\" y=\"248.558583\" style=\"fill: #d3eecd\"/>\n    </g>\n    <g clip-path=\"url(#p4945393260)\">\n     <use xlink:href=\"#C5_0_609741dced\" x=\"4.759935\" y=\"236.677591\" style=\"fill: #b8e3b2\"/>\n    </g>\n    <g clip-path=\"url(#p4945393260)\">\n     <use xlink:href=\"#C5_0_609741dced\" x=\"4.759935\" y=\"224.796599\" style=\"fill: #f7fcf5\"/>\n    </g>\n    <g clip-path=\"url(#p4945393260)\">\n     <use xlink:href=\"#C5_0_609741dced\" x=\"4.759935\" y=\"212.915608\" style=\"fill: #f7fcf5\"/>\n    </g>\n    <g clip-path=\"url(#p4945393260)\">\n     <use xlink:href=\"#C5_0_609741dced\" x=\"11.610844\" y=\"331.725525\" style=\"fill: #d3eecd\"/>\n    </g>\n    <g clip-path=\"url(#p4945393260)\">\n     <use xlink:href=\"#C5_0_609741dced\" x=\"11.610844\" y=\"319.844533\" style=\"fill: #f7fcf5\"/>\n    </g>\n    <g clip-path=\"url(#p4945393260)\">\n     <use xlink:href=\"#C5_0_609741dced\" x=\"11.610844\" y=\"307.963541\" style=\"fill: #f7fcf5\"/>\n    </g>\n    <g clip-path=\"url(#p4945393260)\">\n     <use xlink:href=\"#C5_0_609741dced\" x=\"11.610844\" y=\"296.08255\" style=\"fill: #b8e3b2\"/>\n    </g>\n    <g clip-path=\"url(#p4945393260)\">\n     <use xlink:href=\"#C5_0_609741dced\" x=\"11.610844\" y=\"284.201558\" style=\"fill: #e9f7e5\"/>\n    </g>\n    <g clip-path=\"url(#p4945393260)\">\n     <use xlink:href=\"#C5_0_609741dced\" x=\"11.610844\" y=\"272.320566\" style=\"fill: #e9f7e5\"/>\n    </g>\n    <g clip-path=\"url(#p4945393260)\">\n     <use xlink:href=\"#C5_0_609741dced\" x=\"11.610844\" y=\"260.439575\" style=\"fill: #e9f7e5\"/>\n    </g>\n    <g clip-path=\"url(#p4945393260)\">\n     <use xlink:href=\"#C5_0_609741dced\" x=\"11.610844\" y=\"248.558583\" style=\"fill: #f7fcf5\"/>\n    </g>\n    <g clip-path=\"url(#p4945393260)\">\n     <use xlink:href=\"#C5_0_609741dced\" x=\"11.610844\" y=\"236.677591\" style=\"fill: #f7fcf5\"/>\n    </g>\n    <g clip-path=\"url(#p4945393260)\">\n     <use xlink:href=\"#C5_0_609741dced\" x=\"11.610844\" y=\"224.796599\" style=\"fill: #f7fcf5\"/>\n    </g>\n    <g clip-path=\"url(#p4945393260)\">\n     <use xlink:href=\"#C5_0_609741dced\" x=\"11.610844\" y=\"212.915608\" style=\"fill: #f7fcf5\"/>\n    </g>\n    <g clip-path=\"url(#p4945393260)\">\n     <use xlink:href=\"#C5_0_609741dced\" x=\"18.461753\" y=\"331.725525\" style=\"fill: #f7fcf5\"/>\n    </g>\n    <g clip-path=\"url(#p4945393260)\">\n     <use xlink:href=\"#C5_0_609741dced\" x=\"18.461753\" y=\"319.844533\" style=\"fill: #e9f7e5\"/>\n    </g>\n    <g clip-path=\"url(#p4945393260)\">\n     <use xlink:href=\"#C5_0_609741dced\" x=\"18.461753\" y=\"307.963541\" style=\"fill: #e9f7e5\"/>\n    </g>\n    <g clip-path=\"url(#p4945393260)\">\n     <use xlink:href=\"#C5_0_609741dced\" x=\"18.461753\" y=\"296.08255\" style=\"fill: #e9f7e5\"/>\n    </g>\n    <g clip-path=\"url(#p4945393260)\">\n     <use xlink:href=\"#C5_0_609741dced\" x=\"18.461753\" y=\"284.201558\" style=\"fill: #f7fcf5\"/>\n    </g>\n    <g clip-path=\"url(#p4945393260)\">\n     <use xlink:href=\"#C5_0_609741dced\" x=\"18.461753\" y=\"272.320566\" style=\"fill: #f7fcf5\"/>\n    </g>\n    <g clip-path=\"url(#p4945393260)\">\n     <use xlink:href=\"#C5_0_609741dced\" x=\"18.461753\" y=\"260.439575\" style=\"fill: #f7fcf5\"/>\n    </g>\n    <g clip-path=\"url(#p4945393260)\">\n     <use xlink:href=\"#C5_0_609741dced\" x=\"18.461753\" y=\"248.558583\" style=\"fill: #f7fcf5\"/>\n    </g>\n    <g clip-path=\"url(#p4945393260)\">\n     <use xlink:href=\"#C5_0_609741dced\" x=\"18.461753\" y=\"236.677591\" style=\"fill: #f7fcf5\"/>\n    </g>\n    <g clip-path=\"url(#p4945393260)\">\n     <use xlink:href=\"#C5_0_609741dced\" x=\"18.461753\" y=\"224.796599\" style=\"fill: #f7fcf5\"/>\n    </g>\n    <g clip-path=\"url(#p4945393260)\">\n     <use xlink:href=\"#C5_0_609741dced\" x=\"18.461753\" y=\"212.915608\" style=\"fill: #f7fcf5\"/>\n    </g>\n    <g clip-path=\"url(#p4945393260)\">\n     <use xlink:href=\"#C5_0_609741dced\" x=\"25.312662\" y=\"331.725525\" style=\"fill: #f7fcf5\"/>\n    </g>\n    <g clip-path=\"url(#p4945393260)\">\n     <use xlink:href=\"#C5_0_609741dced\" x=\"25.312662\" y=\"319.844533\" style=\"fill: #f7fcf5\"/>\n    </g>\n    <g clip-path=\"url(#p4945393260)\">\n     <use xlink:href=\"#C5_0_609741dced\" x=\"25.312662\" y=\"307.963541\" style=\"fill: #f7fcf5\"/>\n    </g>\n    <g clip-path=\"url(#p4945393260)\">\n     <use xlink:href=\"#C5_0_609741dced\" x=\"25.312662\" y=\"296.08255\" style=\"fill: #f7fcf5\"/>\n    </g>\n    <g clip-path=\"url(#p4945393260)\">\n     <use xlink:href=\"#C5_0_609741dced\" x=\"25.312662\" y=\"284.201558\" style=\"fill: #f7fcf5\"/>\n    </g>\n    <g clip-path=\"url(#p4945393260)\">\n     <use xlink:href=\"#C5_0_609741dced\" x=\"25.312662\" y=\"272.320566\" style=\"fill: #f7fcf5\"/>\n    </g>\n    <g clip-path=\"url(#p4945393260)\">\n     <use xlink:href=\"#C5_0_609741dced\" x=\"25.312662\" y=\"260.439575\" style=\"fill: #f7fcf5\"/>\n    </g>\n    <g clip-path=\"url(#p4945393260)\">\n     <use xlink:href=\"#C5_0_609741dced\" x=\"25.312662\" y=\"248.558583\" style=\"fill: #f7fcf5\"/>\n    </g>\n    <g clip-path=\"url(#p4945393260)\">\n     <use xlink:href=\"#C5_0_609741dced\" x=\"25.312662\" y=\"236.677591\" style=\"fill: #f7fcf5\"/>\n    </g>\n    <g clip-path=\"url(#p4945393260)\">\n     <use xlink:href=\"#C5_0_609741dced\" x=\"25.312662\" y=\"224.796599\" style=\"fill: #f7fcf5\"/>\n    </g>\n    <g clip-path=\"url(#p4945393260)\">\n     <use xlink:href=\"#C5_0_609741dced\" x=\"25.312662\" y=\"212.915608\" style=\"fill: #f7fcf5\"/>\n    </g>\n    <g clip-path=\"url(#p4945393260)\">\n     <use xlink:href=\"#C5_0_609741dced\" x=\"32.163571\" y=\"331.725525\" style=\"fill: #f7fcf5\"/>\n    </g>\n    <g clip-path=\"url(#p4945393260)\">\n     <use xlink:href=\"#C5_0_609741dced\" x=\"32.163571\" y=\"319.844533\" style=\"fill: #f7fcf5\"/>\n    </g>\n    <g clip-path=\"url(#p4945393260)\">\n     <use xlink:href=\"#C5_0_609741dced\" x=\"32.163571\" y=\"307.963541\" style=\"fill: #f7fcf5\"/>\n    </g>\n    <g clip-path=\"url(#p4945393260)\">\n     <use xlink:href=\"#C5_0_609741dced\" x=\"32.163571\" y=\"296.08255\" style=\"fill: #f7fcf5\"/>\n    </g>\n    <g clip-path=\"url(#p4945393260)\">\n     <use xlink:href=\"#C5_0_609741dced\" x=\"32.163571\" y=\"284.201558\" style=\"fill: #f7fcf5\"/>\n    </g>\n    <g clip-path=\"url(#p4945393260)\">\n     <use xlink:href=\"#C5_0_609741dced\" x=\"32.163571\" y=\"272.320566\" style=\"fill: #f7fcf5\"/>\n    </g>\n    <g clip-path=\"url(#p4945393260)\">\n     <use xlink:href=\"#C5_0_609741dced\" x=\"32.163571\" y=\"260.439575\" style=\"fill: #f7fcf5\"/>\n    </g>\n    <g clip-path=\"url(#p4945393260)\">\n     <use xlink:href=\"#C5_0_609741dced\" x=\"32.163571\" y=\"248.558583\" style=\"fill: #f7fcf5\"/>\n    </g>\n    <g clip-path=\"url(#p4945393260)\">\n     <use xlink:href=\"#C5_0_609741dced\" x=\"32.163571\" y=\"236.677591\" style=\"fill: #f7fcf5\"/>\n    </g>\n    <g clip-path=\"url(#p4945393260)\">\n     <use xlink:href=\"#C5_0_609741dced\" x=\"32.163571\" y=\"224.796599\" style=\"fill: #f7fcf5\"/>\n    </g>\n    <g clip-path=\"url(#p4945393260)\">\n     <use xlink:href=\"#C5_0_609741dced\" x=\"32.163571\" y=\"212.915608\" style=\"fill: #f7fcf5\"/>\n    </g>\n    <g clip-path=\"url(#p4945393260)\">\n     <use xlink:href=\"#C5_0_609741dced\" x=\"39.014481\" y=\"331.725525\" style=\"fill: #f7fcf5\"/>\n    </g>\n    <g clip-path=\"url(#p4945393260)\">\n     <use xlink:href=\"#C5_0_609741dced\" x=\"39.014481\" y=\"319.844533\" style=\"fill: #f7fcf5\"/>\n    </g>\n    <g clip-path=\"url(#p4945393260)\">\n     <use xlink:href=\"#C5_0_609741dced\" x=\"39.014481\" y=\"307.963541\" style=\"fill: #f7fcf5\"/>\n    </g>\n    <g clip-path=\"url(#p4945393260)\">\n     <use xlink:href=\"#C5_0_609741dced\" x=\"39.014481\" y=\"296.08255\" style=\"fill: #f7fcf5\"/>\n    </g>\n    <g clip-path=\"url(#p4945393260)\">\n     <use xlink:href=\"#C5_0_609741dced\" x=\"39.014481\" y=\"284.201558\" style=\"fill: #f7fcf5\"/>\n    </g>\n    <g clip-path=\"url(#p4945393260)\">\n     <use xlink:href=\"#C5_0_609741dced\" x=\"39.014481\" y=\"272.320566\" style=\"fill: #f7fcf5\"/>\n    </g>\n    <g clip-path=\"url(#p4945393260)\">\n     <use xlink:href=\"#C5_0_609741dced\" x=\"39.014481\" y=\"260.439575\" style=\"fill: #f7fcf5\"/>\n    </g>\n    <g clip-path=\"url(#p4945393260)\">\n     <use xlink:href=\"#C5_0_609741dced\" x=\"39.014481\" y=\"248.558583\" style=\"fill: #f7fcf5\"/>\n    </g>\n    <g clip-path=\"url(#p4945393260)\">\n     <use xlink:href=\"#C5_0_609741dced\" x=\"39.014481\" y=\"236.677591\" style=\"fill: #f7fcf5\"/>\n    </g>\n    <g clip-path=\"url(#p4945393260)\">\n     <use xlink:href=\"#C5_0_609741dced\" x=\"39.014481\" y=\"224.796599\" style=\"fill: #f7fcf5\"/>\n    </g>\n    <g clip-path=\"url(#p4945393260)\">\n     <use xlink:href=\"#C5_0_609741dced\" x=\"39.014481\" y=\"212.915608\" style=\"fill: #f7fcf5\"/>\n    </g>\n    <g clip-path=\"url(#p4945393260)\">\n     <use xlink:href=\"#C5_0_609741dced\" x=\"45.86539\" y=\"331.725525\" style=\"fill: #f7fcf5\"/>\n    </g>\n    <g clip-path=\"url(#p4945393260)\">\n     <use xlink:href=\"#C5_0_609741dced\" x=\"45.86539\" y=\"319.844533\" style=\"fill: #f7fcf5\"/>\n    </g>\n    <g clip-path=\"url(#p4945393260)\">\n     <use xlink:href=\"#C5_0_609741dced\" x=\"45.86539\" y=\"307.963541\" style=\"fill: #f7fcf5\"/>\n    </g>\n    <g clip-path=\"url(#p4945393260)\">\n     <use xlink:href=\"#C5_0_609741dced\" x=\"45.86539\" y=\"296.08255\" style=\"fill: #f7fcf5\"/>\n    </g>\n    <g clip-path=\"url(#p4945393260)\">\n     <use xlink:href=\"#C5_0_609741dced\" x=\"45.86539\" y=\"284.201558\" style=\"fill: #f7fcf5\"/>\n    </g>\n    <g clip-path=\"url(#p4945393260)\">\n     <use xlink:href=\"#C5_0_609741dced\" x=\"45.86539\" y=\"272.320566\" style=\"fill: #d3eecd\"/>\n    </g>\n    <g clip-path=\"url(#p4945393260)\">\n     <use xlink:href=\"#C5_0_609741dced\" x=\"45.86539\" y=\"260.439575\" style=\"fill: #d3eecd\"/>\n    </g>\n    <g clip-path=\"url(#p4945393260)\">\n     <use xlink:href=\"#C5_0_609741dced\" x=\"45.86539\" y=\"248.558583\" style=\"fill: #f7fcf5\"/>\n    </g>\n    <g clip-path=\"url(#p4945393260)\">\n     <use xlink:href=\"#C5_0_609741dced\" x=\"45.86539\" y=\"236.677591\" style=\"fill: #f7fcf5\"/>\n    </g>\n    <g clip-path=\"url(#p4945393260)\">\n     <use xlink:href=\"#C5_0_609741dced\" x=\"45.86539\" y=\"224.796599\" style=\"fill: #f7fcf5\"/>\n    </g>\n    <g clip-path=\"url(#p4945393260)\">\n     <use xlink:href=\"#C5_0_609741dced\" x=\"45.86539\" y=\"212.915608\" style=\"fill: #f7fcf5\"/>\n    </g>\n    <g clip-path=\"url(#p4945393260)\">\n     <use xlink:href=\"#C5_0_609741dced\" x=\"52.716299\" y=\"331.725525\" style=\"fill: #f7fcf5\"/>\n    </g>\n    <g clip-path=\"url(#p4945393260)\">\n     <use xlink:href=\"#C5_0_609741dced\" x=\"52.716299\" y=\"319.844533\" style=\"fill: #f7fcf5\"/>\n    </g>\n    <g clip-path=\"url(#p4945393260)\">\n     <use xlink:href=\"#C5_0_609741dced\" x=\"52.716299\" y=\"307.963541\" style=\"fill: #f7fcf5\"/>\n    </g>\n    <g clip-path=\"url(#p4945393260)\">\n     <use xlink:href=\"#C5_0_609741dced\" x=\"52.716299\" y=\"296.08255\" style=\"fill: #e9f7e5\"/>\n    </g>\n    <g clip-path=\"url(#p4945393260)\">\n     <use xlink:href=\"#C5_0_609741dced\" x=\"52.716299\" y=\"284.201558\" style=\"fill: #00441b\"/>\n    </g>\n    <g clip-path=\"url(#p4945393260)\">\n     <use xlink:href=\"#C5_0_609741dced\" x=\"52.716299\" y=\"272.320566\" style=\"fill: #d3eecd\"/>\n    </g>\n    <g clip-path=\"url(#p4945393260)\">\n     <use xlink:href=\"#C5_0_609741dced\" x=\"52.716299\" y=\"260.439575\" style=\"fill: #d3eecd\"/>\n    </g>\n    <g clip-path=\"url(#p4945393260)\">\n     <use xlink:href=\"#C5_0_609741dced\" x=\"52.716299\" y=\"248.558583\" style=\"fill: #e9f7e5\"/>\n    </g>\n    <g clip-path=\"url(#p4945393260)\">\n     <use xlink:href=\"#C5_0_609741dced\" x=\"52.716299\" y=\"236.677591\" style=\"fill: #f7fcf5\"/>\n    </g>\n    <g clip-path=\"url(#p4945393260)\">\n     <use xlink:href=\"#C5_0_609741dced\" x=\"52.716299\" y=\"224.796599\" style=\"fill: #f7fcf5\"/>\n    </g>\n    <g clip-path=\"url(#p4945393260)\">\n     <use xlink:href=\"#C5_0_609741dced\" x=\"52.716299\" y=\"212.915608\" style=\"fill: #f7fcf5\"/>\n    </g>\n    <g clip-path=\"url(#p4945393260)\">\n     <use xlink:href=\"#C5_0_609741dced\" x=\"59.567208\" y=\"331.725525\" style=\"fill: #f7fcf5\"/>\n    </g>\n    <g clip-path=\"url(#p4945393260)\">\n     <use xlink:href=\"#C5_0_609741dced\" x=\"59.567208\" y=\"319.844533\" style=\"fill: #f7fcf5\"/>\n    </g>\n    <g clip-path=\"url(#p4945393260)\">\n     <use xlink:href=\"#C5_0_609741dced\" x=\"59.567208\" y=\"307.963541\" style=\"fill: #f7fcf5\"/>\n    </g>\n    <g clip-path=\"url(#p4945393260)\">\n     <use xlink:href=\"#C5_0_609741dced\" x=\"59.567208\" y=\"296.08255\" style=\"fill: #73c476\"/>\n    </g>\n    <g clip-path=\"url(#p4945393260)\">\n     <use xlink:href=\"#C5_0_609741dced\" x=\"59.567208\" y=\"284.201558\" style=\"fill: #73c476\"/>\n    </g>\n    <g clip-path=\"url(#p4945393260)\">\n     <use xlink:href=\"#C5_0_609741dced\" x=\"59.567208\" y=\"272.320566\" style=\"fill: #4bb062\"/>\n    </g>\n    <g clip-path=\"url(#p4945393260)\">\n     <use xlink:href=\"#C5_0_609741dced\" x=\"59.567208\" y=\"260.439575\" style=\"fill: #98d594\"/>\n    </g>\n    <g clip-path=\"url(#p4945393260)\">\n     <use xlink:href=\"#C5_0_609741dced\" x=\"59.567208\" y=\"248.558583\" style=\"fill: #d3eecd\"/>\n    </g>\n    <g clip-path=\"url(#p4945393260)\">\n     <use xlink:href=\"#C5_0_609741dced\" x=\"59.567208\" y=\"236.677591\" style=\"fill: #f7fcf5\"/>\n    </g>\n    <g clip-path=\"url(#p4945393260)\">\n     <use xlink:href=\"#C5_0_609741dced\" x=\"59.567208\" y=\"224.796599\" style=\"fill: #f7fcf5\"/>\n    </g>\n    <g clip-path=\"url(#p4945393260)\">\n     <use xlink:href=\"#C5_0_609741dced\" x=\"59.567208\" y=\"212.915608\" style=\"fill: #f7fcf5\"/>\n    </g>\n    <g clip-path=\"url(#p4945393260)\">\n     <use xlink:href=\"#C5_0_609741dced\" x=\"66.418117\" y=\"331.725525\" style=\"fill: #f7fcf5\"/>\n    </g>\n    <g clip-path=\"url(#p4945393260)\">\n     <use xlink:href=\"#C5_0_609741dced\" x=\"66.418117\" y=\"319.844533\" style=\"fill: #f7fcf5\"/>\n    </g>\n    <g clip-path=\"url(#p4945393260)\">\n     <use xlink:href=\"#C5_0_609741dced\" x=\"66.418117\" y=\"307.963541\" style=\"fill: #f7fcf5\"/>\n    </g>\n    <g clip-path=\"url(#p4945393260)\">\n     <use xlink:href=\"#C5_0_609741dced\" x=\"66.418117\" y=\"296.08255\" style=\"fill: #73c476\"/>\n    </g>\n    <g clip-path=\"url(#p4945393260)\">\n     <use xlink:href=\"#C5_0_609741dced\" x=\"66.418117\" y=\"284.201558\" style=\"fill: #98d594\"/>\n    </g>\n    <g clip-path=\"url(#p4945393260)\">\n     <use xlink:href=\"#C5_0_609741dced\" x=\"66.418117\" y=\"272.320566\" style=\"fill: #98d594\"/>\n    </g>\n    <g clip-path=\"url(#p4945393260)\">\n     <use xlink:href=\"#C5_0_609741dced\" x=\"66.418117\" y=\"260.439575\" style=\"fill: #e9f7e5\"/>\n    </g>\n    <g clip-path=\"url(#p4945393260)\">\n     <use xlink:href=\"#C5_0_609741dced\" x=\"66.418117\" y=\"248.558583\" style=\"fill: #f7fcf5\"/>\n    </g>\n    <g clip-path=\"url(#p4945393260)\">\n     <use xlink:href=\"#C5_0_609741dced\" x=\"66.418117\" y=\"236.677591\" style=\"fill: #f7fcf5\"/>\n    </g>\n    <g clip-path=\"url(#p4945393260)\">\n     <use xlink:href=\"#C5_0_609741dced\" x=\"66.418117\" y=\"224.796599\" style=\"fill: #f7fcf5\"/>\n    </g>\n    <g clip-path=\"url(#p4945393260)\">\n     <use xlink:href=\"#C5_0_609741dced\" x=\"66.418117\" y=\"212.915608\" style=\"fill: #f7fcf5\"/>\n    </g>\n    <g clip-path=\"url(#p4945393260)\">\n     <use xlink:href=\"#C5_0_609741dced\" x=\"73.269026\" y=\"331.725525\" style=\"fill: #f7fcf5\"/>\n    </g>\n    <g clip-path=\"url(#p4945393260)\">\n     <use xlink:href=\"#C5_0_609741dced\" x=\"73.269026\" y=\"319.844533\" style=\"fill: #f7fcf5\"/>\n    </g>\n    <g clip-path=\"url(#p4945393260)\">\n     <use xlink:href=\"#C5_0_609741dced\" x=\"73.269026\" y=\"307.963541\" style=\"fill: #d3eecd\"/>\n    </g>\n    <g clip-path=\"url(#p4945393260)\">\n     <use xlink:href=\"#C5_0_609741dced\" x=\"73.269026\" y=\"296.08255\" style=\"fill: #98d594\"/>\n    </g>\n    <g clip-path=\"url(#p4945393260)\">\n     <use xlink:href=\"#C5_0_609741dced\" x=\"73.269026\" y=\"284.201558\" style=\"fill: #b8e3b2\"/>\n    </g>\n    <g clip-path=\"url(#p4945393260)\">\n     <use xlink:href=\"#C5_0_609741dced\" x=\"73.269026\" y=\"272.320566\" style=\"fill: #f7fcf5\"/>\n    </g>\n    <g clip-path=\"url(#p4945393260)\">\n     <use xlink:href=\"#C5_0_609741dced\" x=\"73.269026\" y=\"260.439575\" style=\"fill: #b8e3b2\"/>\n    </g>\n    <g clip-path=\"url(#p4945393260)\">\n     <use xlink:href=\"#C5_0_609741dced\" x=\"73.269026\" y=\"248.558583\" style=\"fill: #f7fcf5\"/>\n    </g>\n    <g clip-path=\"url(#p4945393260)\">\n     <use xlink:href=\"#C5_0_609741dced\" x=\"73.269026\" y=\"236.677591\" style=\"fill: #f7fcf5\"/>\n    </g>\n    <g clip-path=\"url(#p4945393260)\">\n     <use xlink:href=\"#C5_0_609741dced\" x=\"73.269026\" y=\"224.796599\" style=\"fill: #f7fcf5\"/>\n    </g>\n    <g clip-path=\"url(#p4945393260)\">\n     <use xlink:href=\"#C5_0_609741dced\" x=\"73.269026\" y=\"212.915608\" style=\"fill: #f7fcf5\"/>\n    </g>\n    <g clip-path=\"url(#p4945393260)\">\n     <use xlink:href=\"#C5_0_609741dced\" x=\"80.119935\" y=\"331.725525\" style=\"fill: #f7fcf5\"/>\n    </g>\n    <g clip-path=\"url(#p4945393260)\">\n     <use xlink:href=\"#C5_0_609741dced\" x=\"80.119935\" y=\"319.844533\" style=\"fill: #f7fcf5\"/>\n    </g>\n    <g clip-path=\"url(#p4945393260)\">\n     <use xlink:href=\"#C5_0_609741dced\" x=\"80.119935\" y=\"307.963541\" style=\"fill: #d3eecd\"/>\n    </g>\n    <g clip-path=\"url(#p4945393260)\">\n     <use xlink:href=\"#C5_0_609741dced\" x=\"80.119935\" y=\"296.08255\" style=\"fill: #98d594\"/>\n    </g>\n    <g clip-path=\"url(#p4945393260)\">\n     <use xlink:href=\"#C5_0_609741dced\" x=\"80.119935\" y=\"284.201558\" style=\"fill: #b8e3b2\"/>\n    </g>\n    <g clip-path=\"url(#p4945393260)\">\n     <use xlink:href=\"#C5_0_609741dced\" x=\"80.119935\" y=\"272.320566\" style=\"fill: #d3eecd\"/>\n    </g>\n    <g clip-path=\"url(#p4945393260)\">\n     <use xlink:href=\"#C5_0_609741dced\" x=\"80.119935\" y=\"260.439575\" style=\"fill: #f7fcf5\"/>\n    </g>\n    <g clip-path=\"url(#p4945393260)\">\n     <use xlink:href=\"#C5_0_609741dced\" x=\"80.119935\" y=\"248.558583\" style=\"fill: #f7fcf5\"/>\n    </g>\n    <g clip-path=\"url(#p4945393260)\">\n     <use xlink:href=\"#C5_0_609741dced\" x=\"80.119935\" y=\"236.677591\" style=\"fill: #f7fcf5\"/>\n    </g>\n    <g clip-path=\"url(#p4945393260)\">\n     <use xlink:href=\"#C5_0_609741dced\" x=\"80.119935\" y=\"224.796599\" style=\"fill: #f7fcf5\"/>\n    </g>\n    <g clip-path=\"url(#p4945393260)\">\n     <use xlink:href=\"#C5_0_609741dced\" x=\"80.119935\" y=\"212.915608\" style=\"fill: #f7fcf5\"/>\n    </g>\n   </g>\n   <g id=\"matplotlib.axis_11\"/>\n   <g id=\"matplotlib.axis_12\"/>\n   <g id=\"patch_28\">\n    <path d=\"M 334.56 341.42175 \nL 334.56 197.66175 \n\" style=\"fill: none; stroke: #000000; stroke-width: 0.8; stroke-linejoin: miter; stroke-linecap: square\"/>\n   </g>\n   <g id=\"patch_29\">\n    <path d=\"M 485.28 341.42175 \nL 485.28 197.66175 \n\" style=\"fill: none; stroke: #000000; stroke-width: 0.8; stroke-linejoin: miter; stroke-linecap: square\"/>\n   </g>\n   <g id=\"patch_30\">\n    <path d=\"M 334.56 341.42175 \nL 485.28 341.42175 \n\" style=\"fill: none; stroke: #000000; stroke-width: 0.8; stroke-linejoin: miter; stroke-linecap: square\"/>\n   </g>\n   <g id=\"patch_31\">\n    <path d=\"M 334.56 197.66175 \nL 485.28 197.66175 \n\" style=\"fill: none; stroke: #000000; stroke-width: 0.8; stroke-linejoin: miter; stroke-linecap: square\"/>\n   </g>\n   <g id=\"text_6\">\n    <!-- surprise -->\n    <g transform=\"translate(380.934375 191.66175) scale(0.144 -0.144)\">\n     <defs>\n      <path id=\"DejaVuSans-75\" d=\"M 544 1381 \nL 544 3500 \nL 1119 3500 \nL 1119 1403 \nQ 1119 906 1312 657 \nQ 1506 409 1894 409 \nQ 2359 409 2629 706 \nQ 2900 1003 2900 1516 \nL 2900 3500 \nL 3475 3500 \nL 3475 0 \nL 2900 0 \nL 2900 538 \nQ 2691 219 2414 64 \nQ 2138 -91 1772 -91 \nQ 1169 -91 856 284 \nQ 544 659 544 1381 \nz\nM 1991 3584 \nL 1991 3584 \nz\n\" transform=\"scale(0.015625)\"/>\n      <path id=\"DejaVuSans-70\" d=\"M 1159 525 \nL 1159 -1331 \nL 581 -1331 \nL 581 3500 \nL 1159 3500 \nL 1159 2969 \nQ 1341 3281 1617 3432 \nQ 1894 3584 2278 3584 \nQ 2916 3584 3314 3078 \nQ 3713 2572 3713 1747 \nQ 3713 922 3314 415 \nQ 2916 -91 2278 -91 \nQ 1894 -91 1617 61 \nQ 1341 213 1159 525 \nz\nM 3116 1747 \nQ 3116 2381 2855 2742 \nQ 2594 3103 2138 3103 \nQ 1681 3103 1420 2742 \nQ 1159 2381 1159 1747 \nQ 1159 1113 1420 752 \nQ 1681 391 2138 391 \nQ 2594 391 2855 752 \nQ 3116 1113 3116 1747 \nz\n\" transform=\"scale(0.015625)\"/>\n      <path id=\"DejaVuSans-69\" d=\"M 603 3500 \nL 1178 3500 \nL 1178 0 \nL 603 0 \nL 603 3500 \nz\nM 603 4863 \nL 1178 4863 \nL 1178 4134 \nL 603 4134 \nL 603 4863 \nz\n\" transform=\"scale(0.015625)\"/>\n     </defs>\n     <use xlink:href=\"#DejaVuSans-73\"/>\n     <use xlink:href=\"#DejaVuSans-75\" x=\"52.099609\"/>\n     <use xlink:href=\"#DejaVuSans-72\" x=\"115.478516\"/>\n     <use xlink:href=\"#DejaVuSans-70\" x=\"156.591797\"/>\n     <use xlink:href=\"#DejaVuSans-72\" x=\"220.068359\"/>\n     <use xlink:href=\"#DejaVuSans-69\" x=\"261.181641\"/>\n     <use xlink:href=\"#DejaVuSans-73\" x=\"288.964844\"/>\n     <use xlink:href=\"#DejaVuSans-65\" x=\"341.064453\"/>\n    </g>\n   </g>\n  </g>\n </g>\n <defs>\n  <clipPath id=\"p2bd379c5d3\">\n   <rect x=\"7.2\" y=\"24.14175\" width=\"150.72\" height=\"143.76\"/>\n  </clipPath>\n  <clipPath id=\"p2ec8309aaa\">\n   <rect x=\"170.88\" y=\"24.14175\" width=\"150.72\" height=\"143.76\"/>\n  </clipPath>\n  <clipPath id=\"pd7ab39bf1b\">\n   <rect x=\"334.56\" y=\"24.14175\" width=\"150.72\" height=\"143.76\"/>\n  </clipPath>\n  <clipPath id=\"pcf6fd9e426\">\n   <rect x=\"7.2\" y=\"197.66175\" width=\"150.72\" height=\"143.76\"/>\n  </clipPath>\n  <clipPath id=\"p3274d853a0\">\n   <rect x=\"170.88\" y=\"197.66175\" width=\"150.72\" height=\"143.76\"/>\n  </clipPath>\n  <clipPath id=\"p4945393260\">\n   <rect x=\"334.56\" y=\"197.66175\" width=\"150.72\" height=\"143.76\"/>\n  </clipPath>\n </defs>\n</svg>\n",
            "application/pdf": "[encoded data removed]"
          },
          "metadata": {}
        }
      ],
      "source": [
        "fig, axes = plt.subplots(2, 3, figsize=(7,5))\n",
        "axes = axes.flatten()\n",
        "cmaps = [\"Greys\", \"Blues\", \"Oranges\", \"Reds\", \"Purples\", \"Greens\"]\n",
        "labels = emotions[\"train\"].features[\"label\"].names\n",
        "\n",
        "for i, (label, cmap) in enumerate(zip(labels, cmaps)):\n",
        "    df_emb_sub = df_emb.query(f\"label == {i}\")\n",
        "    axes[i].hexbin(df_emb_sub[\"X\"], df_emb_sub[\"Y\"], cmap=cmap,\n",
        "                   gridsize=20, linewidths=(0,))\n",
        "    axes[i].set_title(label)\n",
        "    axes[i].set_xticks([]), axes[i].set_yticks([])\n",
        "\n",
        "plt.tight_layout()\n",
        "plt.show()"
      ]
    },
    {
      "cell_type": "markdown",
      "metadata": {
        "id": "jGCV0g2VYHZp"
      },
      "source": [
        "\n",
        ">note: These are only projections onto a lower-dimensional space. Just because some categories overlap does not mean that they are not separable in the original space. Conversely, if they are separable in the projected space they will be separable in the original space.\n",
        "\n",
        "From this plot we can see some clear patterns: the negative feelings such as `sadness`, `anger`, and `fear` all occupy similar regions with slightly varying distributions. On the other hand, `joy` and `love` are well separated from the negative emotions and also share a similar space. Finally, `surprise` is scattered all over the place. Although we may have hoped for some separation, this is in no way guaranteed since the model was not trained to know the difference between these emotions. It only learned them implicitly by guessing the masked words in texts.\n",
        "\n",
        "Now that we've gained some insight into the features of our dataset, let's finally train a model on it!"
      ]
    },
    {
      "cell_type": "markdown",
      "metadata": {
        "id": "owRtbr8ZYHZp"
      },
      "source": [
        "#### Training a simple classifier\n"
      ]
    },
    {
      "cell_type": "markdown",
      "metadata": {
        "id": "XE_N9ZiXYHZp"
      },
      "source": [
        "We've seen that the hidden states are somewhat different between the emotions, although for several of them there is no obvious boundary. Let's use these hidden states to train a logistic regression model with Scikit-Learn. Training such a simple model is fast and does not require a GPU:"
      ]
    },
    {
      "cell_type": "code",
      "execution_count": 60,
      "metadata": {
        "id": "s1m9mOXIYHZp",
        "outputId": "4524d048-c897-4bc5-fa09-450dec3e28eb",
        "colab": {
          "base_uri": "https://localhost:8080/",
          "height": 74
        }
      },
      "outputs": [
        {
          "output_type": "execute_result",
          "data": {
            "text/plain": [
              "SGDClassifier(max_iter=3000)"
            ],
            "text/html": [
              "<style>#sk-container-id-3 {color: black;background-color: white;}#sk-container-id-3 pre{padding: 0;}#sk-container-id-3 div.sk-toggleable {background-color: white;}#sk-container-id-3 label.sk-toggleable__label {cursor: pointer;display: block;width: 100%;margin-bottom: 0;padding: 0.3em;box-sizing: border-box;text-align: center;}#sk-container-id-3 label.sk-toggleable__label-arrow:before {content: \"▸\";float: left;margin-right: 0.25em;color: #696969;}#sk-container-id-3 label.sk-toggleable__label-arrow:hover:before {color: black;}#sk-container-id-3 div.sk-estimator:hover label.sk-toggleable__label-arrow:before {color: black;}#sk-container-id-3 div.sk-toggleable__content {max-height: 0;max-width: 0;overflow: hidden;text-align: left;background-color: #f0f8ff;}#sk-container-id-3 div.sk-toggleable__content pre {margin: 0.2em;color: black;border-radius: 0.25em;background-color: #f0f8ff;}#sk-container-id-3 input.sk-toggleable__control:checked~div.sk-toggleable__content {max-height: 200px;max-width: 100%;overflow: auto;}#sk-container-id-3 input.sk-toggleable__control:checked~label.sk-toggleable__label-arrow:before {content: \"▾\";}#sk-container-id-3 div.sk-estimator input.sk-toggleable__control:checked~label.sk-toggleable__label {background-color: #d4ebff;}#sk-container-id-3 div.sk-label input.sk-toggleable__control:checked~label.sk-toggleable__label {background-color: #d4ebff;}#sk-container-id-3 input.sk-hidden--visually {border: 0;clip: rect(1px 1px 1px 1px);clip: rect(1px, 1px, 1px, 1px);height: 1px;margin: -1px;overflow: hidden;padding: 0;position: absolute;width: 1px;}#sk-container-id-3 div.sk-estimator {font-family: monospace;background-color: #f0f8ff;border: 1px dotted black;border-radius: 0.25em;box-sizing: border-box;margin-bottom: 0.5em;}#sk-container-id-3 div.sk-estimator:hover {background-color: #d4ebff;}#sk-container-id-3 div.sk-parallel-item::after {content: \"\";width: 100%;border-bottom: 1px solid gray;flex-grow: 1;}#sk-container-id-3 div.sk-label:hover label.sk-toggleable__label {background-color: #d4ebff;}#sk-container-id-3 div.sk-serial::before {content: \"\";position: absolute;border-left: 1px solid gray;box-sizing: border-box;top: 0;bottom: 0;left: 50%;z-index: 0;}#sk-container-id-3 div.sk-serial {display: flex;flex-direction: column;align-items: center;background-color: white;padding-right: 0.2em;padding-left: 0.2em;position: relative;}#sk-container-id-3 div.sk-item {position: relative;z-index: 1;}#sk-container-id-3 div.sk-parallel {display: flex;align-items: stretch;justify-content: center;background-color: white;position: relative;}#sk-container-id-3 div.sk-item::before, #sk-container-id-3 div.sk-parallel-item::before {content: \"\";position: absolute;border-left: 1px solid gray;box-sizing: border-box;top: 0;bottom: 0;left: 50%;z-index: -1;}#sk-container-id-3 div.sk-parallel-item {display: flex;flex-direction: column;z-index: 1;position: relative;background-color: white;}#sk-container-id-3 div.sk-parallel-item:first-child::after {align-self: flex-end;width: 50%;}#sk-container-id-3 div.sk-parallel-item:last-child::after {align-self: flex-start;width: 50%;}#sk-container-id-3 div.sk-parallel-item:only-child::after {width: 0;}#sk-container-id-3 div.sk-dashed-wrapped {border: 1px dashed gray;margin: 0 0.4em 0.5em 0.4em;box-sizing: border-box;padding-bottom: 0.4em;background-color: white;}#sk-container-id-3 div.sk-label label {font-family: monospace;font-weight: bold;display: inline-block;line-height: 1.2em;}#sk-container-id-3 div.sk-label-container {text-align: center;}#sk-container-id-3 div.sk-container {/* jupyter's `normalize.less` sets `[hidden] { display: none; }` but bootstrap.min.css set `[hidden] { display: none !important; }` so we also need the `!important` here to be able to override the default hidden behavior on the sphinx rendered scikit-learn.org. See: https://github.com/scikit-learn/scikit-learn/issues/21755 */display: inline-block !important;position: relative;}#sk-container-id-3 div.sk-text-repr-fallback {display: none;}</style><div id=\"sk-container-id-3\" class=\"sk-top-container\"><div class=\"sk-text-repr-fallback\"><pre>SGDClassifier(max_iter=3000)</pre><b>In a Jupyter environment, please rerun this cell to show the HTML representation or trust the notebook. <br />On GitHub, the HTML representation is unable to render, please try loading this page with nbviewer.org.</b></div><div class=\"sk-container\" hidden><div class=\"sk-item\"><div class=\"sk-estimator sk-toggleable\"><input class=\"sk-toggleable__control sk-hidden--visually\" id=\"sk-estimator-id-3\" type=\"checkbox\" checked><label for=\"sk-estimator-id-3\" class=\"sk-toggleable__label sk-toggleable__label-arrow\">SGDClassifier</label><div class=\"sk-toggleable__content\"><pre>SGDClassifier(max_iter=3000)</pre></div></div></div></div></div>"
            ]
          },
          "metadata": {},
          "execution_count": 60
        }
      ],
      "source": [
        "#hide_output\n",
        "# We increase `max_iter` to guarantee convergence\n",
        "from sklearn.svm import SVC\n",
        "\n",
        "model = SVC(max_iter=3000)\n",
        "lr_clf.fit(X_train, y_train)"
      ]
    },
    {
      "cell_type": "code",
      "execution_count": 61,
      "metadata": {
        "id": "DzGTU7lcYHZp",
        "outputId": "d14bc6b7-0245-4b57-aacc-5ceb9e4e0351",
        "colab": {
          "base_uri": "https://localhost:8080/"
        }
      },
      "outputs": [
        {
          "output_type": "execute_result",
          "data": {
            "text/plain": [
              "0.586"
            ]
          },
          "metadata": {},
          "execution_count": 61
        }
      ],
      "source": [
        "lr_clf.score(X_valid, y_valid)"
      ]
    },
    {
      "cell_type": "markdown",
      "metadata": {
        "id": "B9weol45YHZq"
      },
      "source": [
        "Looking at the accuracy, it might appear that our model is just a bit better than random—but since we are dealing with an unbalanced multiclass dataset, it's actually significantly better. We can examine whether our model is any good by comparing it against a simple baseline. In Scikit-Learn there is a `DummyClassifier` that can be used to build a classifier with simple heuristics such as always choosing the majority class or always drawing a random class. In this case the best-performing heuristic is to always choose the most frequent class, which yields an accuracy of about 35%:"
      ]
    },
    {
      "cell_type": "code",
      "execution_count": 62,
      "metadata": {
        "id": "DUAroofNYHZq",
        "outputId": "595ce6a8-0e3b-4079-c653-84649d982cec",
        "colab": {
          "base_uri": "https://localhost:8080/"
        }
      },
      "outputs": [
        {
          "output_type": "execute_result",
          "data": {
            "text/plain": [
              "0.352"
            ]
          },
          "metadata": {},
          "execution_count": 62
        }
      ],
      "source": [
        "from sklearn.dummy import DummyClassifier\n",
        "\n",
        "dummy_clf = DummyClassifier(strategy=\"most_frequent\")\n",
        "dummy_clf.fit(X_train, y_train)\n",
        "dummy_clf.score(X_valid, y_valid)"
      ]
    },
    {
      "cell_type": "markdown",
      "metadata": {
        "id": "vg8K9EZmYHZq"
      },
      "source": [
        "So, our simple classifier with DistilBERT embeddings is significantly better than our baseline. We can further investigate the performance of the model by looking at the confusion matrix of the classifier, which tells us the relationship between the true and predicted labels:"
      ]
    },
    {
      "cell_type": "code",
      "execution_count": 63,
      "metadata": {
        "id": "NOIA8_tKYHZq",
        "outputId": "3e9a0078-21a7-43d5-e57e-4de4bc23892e",
        "colab": {
          "base_uri": "https://localhost:8080/",
          "height": 552
        }
      },
      "outputs": [
        {
          "output_type": "display_data",
          "data": {
            "text/plain": [
              "<Figure size 600x600 with 1 Axes>"
            ],
            "image/svg+xml": "<?xml version=\"1.0\" encoding=\"utf-8\" standalone=\"no\"?>\n<!DOCTYPE svg PUBLIC \"-//W3C//DTD SVG 1.1//EN\"\n  \"http://www.w3.org/Graphics/SVG/1.1/DTD/svg11.dtd\">\n<svg xmlns:xlink=\"http://www.w3.org/1999/xlink\" width=\"418.368125pt\" height=\"398.20925pt\" viewBox=\"0 0 418.368125 398.20925\" xmlns=\"http://www.w3.org/2000/svg\" version=\"1.1\">\n <metadata>\n  <rdf:RDF xmlns:dc=\"http://purl.org/dc/elements/1.1/\" xmlns:cc=\"http://creativecommons.org/ns#\" xmlns:rdf=\"http://www.w3.org/1999/02/22-rdf-syntax-ns#\">\n   <cc:Work>\n    <dc:type rdf:resource=\"http://purl.org/dc/dcmitype/StillImage\"/>\n    <dc:date>2024-05-25T11:52:57.122027</dc:date>\n    <dc:format>image/svg+xml</dc:format>\n    <dc:creator>\n     <cc:Agent>\n      <dc:title>Matplotlib v3.7.1, https://matplotlib.org/</dc:title>\n     </cc:Agent>\n    </dc:creator>\n   </cc:Work>\n  </rdf:RDF>\n </metadata>\n <defs>\n  <style type=\"text/css\">*{stroke-linejoin: round; stroke-linecap: butt}</style>\n </defs>\n <g id=\"figure_1\">\n  <g id=\"patch_1\">\n   <path d=\"M 0 398.20925 \nL 418.368125 398.20925 \nL 418.368125 0 \nL 0 0 \nz\n\" style=\"fill: #ffffff\"/>\n  </g>\n  <g id=\"axes_1\">\n   <g id=\"patch_2\">\n    <path d=\"M 78.528125 356.78175 \nL 411.168125 356.78175 \nL 411.168125 24.14175 \nL 78.528125 24.14175 \nz\n\" style=\"fill: #ffffff\"/>\n   </g>\n   <g clip-path=\"url(#pfcf4c91493)\">\n    <image xlink:href=\"data:image/png;base64,\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\" id=\"imagec3be877f64\" transform=\"scale(1 -1) translate(0 -333.36)\" x=\"78.528125\" y=\"-23.42175\" width=\"332.64\" height=\"333.36\"/>\n   </g>\n   <g id=\"matplotlib.axis_1\">\n    <g id=\"xtick_1\">\n     <g id=\"line2d_1\">\n      <defs>\n       <path id=\"ma3dd6e7559\" d=\"M 0 0 \nL 0 3.5 \n\" style=\"stroke: #000000; stroke-width: 0.8\"/>\n      </defs>\n      <g>\n       <use xlink:href=\"#ma3dd6e7559\" x=\"106.248125\" y=\"356.78175\" style=\"stroke: #000000; stroke-width: 0.8\"/>\n      </g>\n     </g>\n     <g id=\"text_1\">\n      <!-- sadness -->\n      <g transform=\"translate(81.890937 372.899875) scale(0.12 -0.12)\">\n       <defs>\n        <path id=\"DejaVuSans-73\" d=\"M 2834 3397 \nL 2834 2853 \nQ 2591 2978 2328 3040 \nQ 2066 3103 1784 3103 \nQ 1356 3103 1142 2972 \nQ 928 2841 928 2578 \nQ 928 2378 1081 2264 \nQ 1234 2150 1697 2047 \nL 1894 2003 \nQ 2506 1872 2764 1633 \nQ 3022 1394 3022 966 \nQ 3022 478 2636 193 \nQ 2250 -91 1575 -91 \nQ 1294 -91 989 -36 \nQ 684 19 347 128 \nL 347 722 \nQ 666 556 975 473 \nQ 1284 391 1588 391 \nQ 1994 391 2212 530 \nQ 2431 669 2431 922 \nQ 2431 1156 2273 1281 \nQ 2116 1406 1581 1522 \nL 1381 1569 \nQ 847 1681 609 1914 \nQ 372 2147 372 2553 \nQ 372 3047 722 3315 \nQ 1072 3584 1716 3584 \nQ 2034 3584 2315 3537 \nQ 2597 3491 2834 3397 \nz\n\" transform=\"scale(0.015625)\"/>\n        <path id=\"DejaVuSans-61\" d=\"M 2194 1759 \nQ 1497 1759 1228 1600 \nQ 959 1441 959 1056 \nQ 959 750 1161 570 \nQ 1363 391 1709 391 \nQ 2188 391 2477 730 \nQ 2766 1069 2766 1631 \nL 2766 1759 \nL 2194 1759 \nz\nM 3341 1997 \nL 3341 0 \nL 2766 0 \nL 2766 531 \nQ 2569 213 2275 61 \nQ 1981 -91 1556 -91 \nQ 1019 -91 701 211 \nQ 384 513 384 1019 \nQ 384 1609 779 1909 \nQ 1175 2209 1959 2209 \nL 2766 2209 \nL 2766 2266 \nQ 2766 2663 2505 2880 \nQ 2244 3097 1772 3097 \nQ 1472 3097 1187 3025 \nQ 903 2953 641 2809 \nL 641 3341 \nQ 956 3463 1253 3523 \nQ 1550 3584 1831 3584 \nQ 2591 3584 2966 3190 \nQ 3341 2797 3341 1997 \nz\n\" transform=\"scale(0.015625)\"/>\n        <path id=\"DejaVuSans-64\" d=\"M 2906 2969 \nL 2906 4863 \nL 3481 4863 \nL 3481 0 \nL 2906 0 \nL 2906 525 \nQ 2725 213 2448 61 \nQ 2172 -91 1784 -91 \nQ 1150 -91 751 415 \nQ 353 922 353 1747 \nQ 353 2572 751 3078 \nQ 1150 3584 1784 3584 \nQ 2172 3584 2448 3432 \nQ 2725 3281 2906 2969 \nz\nM 947 1747 \nQ 947 1113 1208 752 \nQ 1469 391 1925 391 \nQ 2381 391 2643 752 \nQ 2906 1113 2906 1747 \nQ 2906 2381 2643 2742 \nQ 2381 3103 1925 3103 \nQ 1469 3103 1208 2742 \nQ 947 2381 947 1747 \nz\n\" transform=\"scale(0.015625)\"/>\n        <path id=\"DejaVuSans-6e\" d=\"M 3513 2113 \nL 3513 0 \nL 2938 0 \nL 2938 2094 \nQ 2938 2591 2744 2837 \nQ 2550 3084 2163 3084 \nQ 1697 3084 1428 2787 \nQ 1159 2491 1159 1978 \nL 1159 0 \nL 581 0 \nL 581 3500 \nL 1159 3500 \nL 1159 2956 \nQ 1366 3272 1645 3428 \nQ 1925 3584 2291 3584 \nQ 2894 3584 3203 3211 \nQ 3513 2838 3513 2113 \nz\n\" transform=\"scale(0.015625)\"/>\n        <path id=\"DejaVuSans-65\" d=\"M 3597 1894 \nL 3597 1613 \nL 953 1613 \nQ 991 1019 1311 708 \nQ 1631 397 2203 397 \nQ 2534 397 2845 478 \nQ 3156 559 3463 722 \nL 3463 178 \nQ 3153 47 2828 -22 \nQ 2503 -91 2169 -91 \nQ 1331 -91 842 396 \nQ 353 884 353 1716 \nQ 353 2575 817 3079 \nQ 1281 3584 2069 3584 \nQ 2775 3584 3186 3129 \nQ 3597 2675 3597 1894 \nz\nM 3022 2063 \nQ 3016 2534 2758 2815 \nQ 2500 3097 2075 3097 \nQ 1594 3097 1305 2825 \nQ 1016 2553 972 2059 \nL 3022 2063 \nz\n\" transform=\"scale(0.015625)\"/>\n       </defs>\n       <use xlink:href=\"#DejaVuSans-73\"/>\n       <use xlink:href=\"#DejaVuSans-61\" x=\"52.099609\"/>\n       <use xlink:href=\"#DejaVuSans-64\" x=\"113.378906\"/>\n       <use xlink:href=\"#DejaVuSans-6e\" x=\"176.855469\"/>\n       <use xlink:href=\"#DejaVuSans-65\" x=\"240.234375\"/>\n       <use xlink:href=\"#DejaVuSans-73\" x=\"301.757812\"/>\n       <use xlink:href=\"#DejaVuSans-73\" x=\"353.857422\"/>\n      </g>\n     </g>\n    </g>\n    <g id=\"xtick_2\">\n     <g id=\"line2d_2\">\n      <g>\n       <use xlink:href=\"#ma3dd6e7559\" x=\"161.688125\" y=\"356.78175\" style=\"stroke: #000000; stroke-width: 0.8\"/>\n      </g>\n     </g>\n     <g id=\"text_2\">\n      <!-- joy -->\n      <g transform=\"translate(152.79875 372.899875) scale(0.12 -0.12)\">\n       <defs>\n        <path id=\"DejaVuSans-6a\" d=\"M 603 3500 \nL 1178 3500 \nL 1178 -63 \nQ 1178 -731 923 -1031 \nQ 669 -1331 103 -1331 \nL -116 -1331 \nL -116 -844 \nL 38 -844 \nQ 366 -844 484 -692 \nQ 603 -541 603 -63 \nL 603 3500 \nz\nM 603 4863 \nL 1178 4863 \nL 1178 4134 \nL 603 4134 \nL 603 4863 \nz\n\" transform=\"scale(0.015625)\"/>\n        <path id=\"DejaVuSans-6f\" d=\"M 1959 3097 \nQ 1497 3097 1228 2736 \nQ 959 2375 959 1747 \nQ 959 1119 1226 758 \nQ 1494 397 1959 397 \nQ 2419 397 2687 759 \nQ 2956 1122 2956 1747 \nQ 2956 2369 2687 2733 \nQ 2419 3097 1959 3097 \nz\nM 1959 3584 \nQ 2709 3584 3137 3096 \nQ 3566 2609 3566 1747 \nQ 3566 888 3137 398 \nQ 2709 -91 1959 -91 \nQ 1206 -91 779 398 \nQ 353 888 353 1747 \nQ 353 2609 779 3096 \nQ 1206 3584 1959 3584 \nz\n\" transform=\"scale(0.015625)\"/>\n        <path id=\"DejaVuSans-79\" d=\"M 2059 -325 \nQ 1816 -950 1584 -1140 \nQ 1353 -1331 966 -1331 \nL 506 -1331 \nL 506 -850 \nL 844 -850 \nQ 1081 -850 1212 -737 \nQ 1344 -625 1503 -206 \nL 1606 56 \nL 191 3500 \nL 800 3500 \nL 1894 763 \nL 2988 3500 \nL 3597 3500 \nL 2059 -325 \nz\n\" transform=\"scale(0.015625)\"/>\n       </defs>\n       <use xlink:href=\"#DejaVuSans-6a\"/>\n       <use xlink:href=\"#DejaVuSans-6f\" x=\"27.783203\"/>\n       <use xlink:href=\"#DejaVuSans-79\" x=\"88.964844\"/>\n      </g>\n     </g>\n    </g>\n    <g id=\"xtick_3\">\n     <g id=\"line2d_3\">\n      <g>\n       <use xlink:href=\"#ma3dd6e7559\" x=\"217.128125\" y=\"356.78175\" style=\"stroke: #000000; stroke-width: 0.8\"/>\n      </g>\n     </g>\n     <g id=\"text_3\">\n      <!-- love -->\n      <g transform=\"translate(204.546875 372.899875) scale(0.12 -0.12)\">\n       <defs>\n        <path id=\"DejaVuSans-6c\" d=\"M 603 4863 \nL 1178 4863 \nL 1178 0 \nL 603 0 \nL 603 4863 \nz\n\" transform=\"scale(0.015625)\"/>\n        <path id=\"DejaVuSans-76\" d=\"M 191 3500 \nL 800 3500 \nL 1894 563 \nL 2988 3500 \nL 3597 3500 \nL 2284 0 \nL 1503 0 \nL 191 3500 \nz\n\" transform=\"scale(0.015625)\"/>\n       </defs>\n       <use xlink:href=\"#DejaVuSans-6c\"/>\n       <use xlink:href=\"#DejaVuSans-6f\" x=\"27.783203\"/>\n       <use xlink:href=\"#DejaVuSans-76\" x=\"88.964844\"/>\n       <use xlink:href=\"#DejaVuSans-65\" x=\"148.144531\"/>\n      </g>\n     </g>\n    </g>\n    <g id=\"xtick_4\">\n     <g id=\"line2d_4\">\n      <g>\n       <use xlink:href=\"#ma3dd6e7559\" x=\"272.568125\" y=\"356.78175\" style=\"stroke: #000000; stroke-width: 0.8\"/>\n      </g>\n     </g>\n     <g id=\"text_4\">\n      <!-- anger -->\n      <g transform=\"translate(255.12125 372.899875) scale(0.12 -0.12)\">\n       <defs>\n        <path id=\"DejaVuSans-67\" d=\"M 2906 1791 \nQ 2906 2416 2648 2759 \nQ 2391 3103 1925 3103 \nQ 1463 3103 1205 2759 \nQ 947 2416 947 1791 \nQ 947 1169 1205 825 \nQ 1463 481 1925 481 \nQ 2391 481 2648 825 \nQ 2906 1169 2906 1791 \nz\nM 3481 434 \nQ 3481 -459 3084 -895 \nQ 2688 -1331 1869 -1331 \nQ 1566 -1331 1297 -1286 \nQ 1028 -1241 775 -1147 \nL 775 -588 \nQ 1028 -725 1275 -790 \nQ 1522 -856 1778 -856 \nQ 2344 -856 2625 -561 \nQ 2906 -266 2906 331 \nL 2906 616 \nQ 2728 306 2450 153 \nQ 2172 0 1784 0 \nQ 1141 0 747 490 \nQ 353 981 353 1791 \nQ 353 2603 747 3093 \nQ 1141 3584 1784 3584 \nQ 2172 3584 2450 3431 \nQ 2728 3278 2906 2969 \nL 2906 3500 \nL 3481 3500 \nL 3481 434 \nz\n\" transform=\"scale(0.015625)\"/>\n        <path id=\"DejaVuSans-72\" d=\"M 2631 2963 \nQ 2534 3019 2420 3045 \nQ 2306 3072 2169 3072 \nQ 1681 3072 1420 2755 \nQ 1159 2438 1159 1844 \nL 1159 0 \nL 581 0 \nL 581 3500 \nL 1159 3500 \nL 1159 2956 \nQ 1341 3275 1631 3429 \nQ 1922 3584 2338 3584 \nQ 2397 3584 2469 3576 \nQ 2541 3569 2628 3553 \nL 2631 2963 \nz\n\" transform=\"scale(0.015625)\"/>\n       </defs>\n       <use xlink:href=\"#DejaVuSans-61\"/>\n       <use xlink:href=\"#DejaVuSans-6e\" x=\"61.279297\"/>\n       <use xlink:href=\"#DejaVuSans-67\" x=\"124.658203\"/>\n       <use xlink:href=\"#DejaVuSans-65\" x=\"188.134766\"/>\n       <use xlink:href=\"#DejaVuSans-72\" x=\"249.658203\"/>\n      </g>\n     </g>\n    </g>\n    <g id=\"xtick_5\">\n     <g id=\"line2d_5\">\n      <g>\n       <use xlink:href=\"#ma3dd6e7559\" x=\"328.008125\" y=\"356.78175\" style=\"stroke: #000000; stroke-width: 0.8\"/>\n      </g>\n     </g>\n     <g id=\"text_5\">\n      <!-- fear -->\n      <g transform=\"translate(316.060625 372.899875) scale(0.12 -0.12)\">\n       <defs>\n        <path id=\"DejaVuSans-66\" d=\"M 2375 4863 \nL 2375 4384 \nL 1825 4384 \nQ 1516 4384 1395 4259 \nQ 1275 4134 1275 3809 \nL 1275 3500 \nL 2222 3500 \nL 2222 3053 \nL 1275 3053 \nL 1275 0 \nL 697 0 \nL 697 3053 \nL 147 3053 \nL 147 3500 \nL 697 3500 \nL 697 3744 \nQ 697 4328 969 4595 \nQ 1241 4863 1831 4863 \nL 2375 4863 \nz\n\" transform=\"scale(0.015625)\"/>\n       </defs>\n       <use xlink:href=\"#DejaVuSans-66\"/>\n       <use xlink:href=\"#DejaVuSans-65\" x=\"35.205078\"/>\n       <use xlink:href=\"#DejaVuSans-61\" x=\"96.728516\"/>\n       <use xlink:href=\"#DejaVuSans-72\" x=\"158.007812\"/>\n      </g>\n     </g>\n    </g>\n    <g id=\"xtick_6\">\n     <g id=\"line2d_6\">\n      <g>\n       <use xlink:href=\"#ma3dd6e7559\" x=\"383.448125\" y=\"356.78175\" style=\"stroke: #000000; stroke-width: 0.8\"/>\n      </g>\n     </g>\n     <g id=\"text_6\">\n      <!-- surprise -->\n      <g transform=\"translate(359.293437 372.899875) scale(0.12 -0.12)\">\n       <defs>\n        <path id=\"DejaVuSans-75\" d=\"M 544 1381 \nL 544 3500 \nL 1119 3500 \nL 1119 1403 \nQ 1119 906 1312 657 \nQ 1506 409 1894 409 \nQ 2359 409 2629 706 \nQ 2900 1003 2900 1516 \nL 2900 3500 \nL 3475 3500 \nL 3475 0 \nL 2900 0 \nL 2900 538 \nQ 2691 219 2414 64 \nQ 2138 -91 1772 -91 \nQ 1169 -91 856 284 \nQ 544 659 544 1381 \nz\nM 1991 3584 \nL 1991 3584 \nz\n\" transform=\"scale(0.015625)\"/>\n        <path id=\"DejaVuSans-70\" d=\"M 1159 525 \nL 1159 -1331 \nL 581 -1331 \nL 581 3500 \nL 1159 3500 \nL 1159 2969 \nQ 1341 3281 1617 3432 \nQ 1894 3584 2278 3584 \nQ 2916 3584 3314 3078 \nQ 3713 2572 3713 1747 \nQ 3713 922 3314 415 \nQ 2916 -91 2278 -91 \nQ 1894 -91 1617 61 \nQ 1341 213 1159 525 \nz\nM 3116 1747 \nQ 3116 2381 2855 2742 \nQ 2594 3103 2138 3103 \nQ 1681 3103 1420 2742 \nQ 1159 2381 1159 1747 \nQ 1159 1113 1420 752 \nQ 1681 391 2138 391 \nQ 2594 391 2855 752 \nQ 3116 1113 3116 1747 \nz\n\" transform=\"scale(0.015625)\"/>\n        <path id=\"DejaVuSans-69\" d=\"M 603 3500 \nL 1178 3500 \nL 1178 0 \nL 603 0 \nL 603 3500 \nz\nM 603 4863 \nL 1178 4863 \nL 1178 4134 \nL 603 4134 \nL 603 4863 \nz\n\" transform=\"scale(0.015625)\"/>\n       </defs>\n       <use xlink:href=\"#DejaVuSans-73\"/>\n       <use xlink:href=\"#DejaVuSans-75\" x=\"52.099609\"/>\n       <use xlink:href=\"#DejaVuSans-72\" x=\"115.478516\"/>\n       <use xlink:href=\"#DejaVuSans-70\" x=\"156.591797\"/>\n       <use xlink:href=\"#DejaVuSans-72\" x=\"220.068359\"/>\n       <use xlink:href=\"#DejaVuSans-69\" x=\"261.181641\"/>\n       <use xlink:href=\"#DejaVuSans-73\" x=\"288.964844\"/>\n       <use xlink:href=\"#DejaVuSans-65\" x=\"341.064453\"/>\n      </g>\n     </g>\n    </g>\n    <g id=\"text_7\">\n     <!-- Predicted label -->\n     <g transform=\"translate(200.265312 388.513625) scale(0.12 -0.12)\">\n      <defs>\n       <path id=\"DejaVuSans-50\" d=\"M 1259 4147 \nL 1259 2394 \nL 2053 2394 \nQ 2494 2394 2734 2622 \nQ 2975 2850 2975 3272 \nQ 2975 3691 2734 3919 \nQ 2494 4147 2053 4147 \nL 1259 4147 \nz\nM 628 4666 \nL 2053 4666 \nQ 2838 4666 3239 4311 \nQ 3641 3956 3641 3272 \nQ 3641 2581 3239 2228 \nQ 2838 1875 2053 1875 \nL 1259 1875 \nL 1259 0 \nL 628 0 \nL 628 4666 \nz\n\" transform=\"scale(0.015625)\"/>\n       <path id=\"DejaVuSans-63\" d=\"M 3122 3366 \nL 3122 2828 \nQ 2878 2963 2633 3030 \nQ 2388 3097 2138 3097 \nQ 1578 3097 1268 2742 \nQ 959 2388 959 1747 \nQ 959 1106 1268 751 \nQ 1578 397 2138 397 \nQ 2388 397 2633 464 \nQ 2878 531 3122 666 \nL 3122 134 \nQ 2881 22 2623 -34 \nQ 2366 -91 2075 -91 \nQ 1284 -91 818 406 \nQ 353 903 353 1747 \nQ 353 2603 823 3093 \nQ 1294 3584 2113 3584 \nQ 2378 3584 2631 3529 \nQ 2884 3475 3122 3366 \nz\n\" transform=\"scale(0.015625)\"/>\n       <path id=\"DejaVuSans-74\" d=\"M 1172 4494 \nL 1172 3500 \nL 2356 3500 \nL 2356 3053 \nL 1172 3053 \nL 1172 1153 \nQ 1172 725 1289 603 \nQ 1406 481 1766 481 \nL 2356 481 \nL 2356 0 \nL 1766 0 \nQ 1100 0 847 248 \nQ 594 497 594 1153 \nL 594 3053 \nL 172 3053 \nL 172 3500 \nL 594 3500 \nL 594 4494 \nL 1172 4494 \nz\n\" transform=\"scale(0.015625)\"/>\n       <path id=\"DejaVuSans-20\" transform=\"scale(0.015625)\"/>\n       <path id=\"DejaVuSans-62\" d=\"M 3116 1747 \nQ 3116 2381 2855 2742 \nQ 2594 3103 2138 3103 \nQ 1681 3103 1420 2742 \nQ 1159 2381 1159 1747 \nQ 1159 1113 1420 752 \nQ 1681 391 2138 391 \nQ 2594 391 2855 752 \nQ 3116 1113 3116 1747 \nz\nM 1159 2969 \nQ 1341 3281 1617 3432 \nQ 1894 3584 2278 3584 \nQ 2916 3584 3314 3078 \nQ 3713 2572 3713 1747 \nQ 3713 922 3314 415 \nQ 2916 -91 2278 -91 \nQ 1894 -91 1617 61 \nQ 1341 213 1159 525 \nL 1159 0 \nL 581 0 \nL 581 4863 \nL 1159 4863 \nL 1159 2969 \nz\n\" transform=\"scale(0.015625)\"/>\n      </defs>\n      <use xlink:href=\"#DejaVuSans-50\"/>\n      <use xlink:href=\"#DejaVuSans-72\" x=\"58.552734\"/>\n      <use xlink:href=\"#DejaVuSans-65\" x=\"97.416016\"/>\n      <use xlink:href=\"#DejaVuSans-64\" x=\"158.939453\"/>\n      <use xlink:href=\"#DejaVuSans-69\" x=\"222.416016\"/>\n      <use xlink:href=\"#DejaVuSans-63\" x=\"250.199219\"/>\n      <use xlink:href=\"#DejaVuSans-74\" x=\"305.179688\"/>\n      <use xlink:href=\"#DejaVuSans-65\" x=\"344.388672\"/>\n      <use xlink:href=\"#DejaVuSans-64\" x=\"405.912109\"/>\n      <use xlink:href=\"#DejaVuSans-20\" x=\"469.388672\"/>\n      <use xlink:href=\"#DejaVuSans-6c\" x=\"501.175781\"/>\n      <use xlink:href=\"#DejaVuSans-61\" x=\"528.958984\"/>\n      <use xlink:href=\"#DejaVuSans-62\" x=\"590.238281\"/>\n      <use xlink:href=\"#DejaVuSans-65\" x=\"653.714844\"/>\n      <use xlink:href=\"#DejaVuSans-6c\" x=\"715.238281\"/>\n     </g>\n    </g>\n   </g>\n   <g id=\"matplotlib.axis_2\">\n    <g id=\"ytick_1\">\n     <g id=\"line2d_7\">\n      <defs>\n       <path id=\"m9dc1f49e45\" d=\"M 0 0 \nL -3.5 0 \n\" style=\"stroke: #000000; stroke-width: 0.8\"/>\n      </defs>\n      <g>\n       <use xlink:href=\"#m9dc1f49e45\" x=\"78.528125\" y=\"51.86175\" style=\"stroke: #000000; stroke-width: 0.8\"/>\n      </g>\n     </g>\n     <g id=\"text_8\">\n      <!-- sadness -->\n      <g transform=\"translate(22.81375 56.420812) scale(0.12 -0.12)\">\n       <use xlink:href=\"#DejaVuSans-73\"/>\n       <use xlink:href=\"#DejaVuSans-61\" x=\"52.099609\"/>\n       <use xlink:href=\"#DejaVuSans-64\" x=\"113.378906\"/>\n       <use xlink:href=\"#DejaVuSans-6e\" x=\"176.855469\"/>\n       <use xlink:href=\"#DejaVuSans-65\" x=\"240.234375\"/>\n       <use xlink:href=\"#DejaVuSans-73\" x=\"301.757812\"/>\n       <use xlink:href=\"#DejaVuSans-73\" x=\"353.857422\"/>\n      </g>\n     </g>\n    </g>\n    <g id=\"ytick_2\">\n     <g id=\"line2d_8\">\n      <g>\n       <use xlink:href=\"#m9dc1f49e45\" x=\"78.528125\" y=\"107.30175\" style=\"stroke: #000000; stroke-width: 0.8\"/>\n      </g>\n     </g>\n     <g id=\"text_9\">\n      <!-- joy -->\n      <g transform=\"translate(53.749375 111.860812) scale(0.12 -0.12)\">\n       <use xlink:href=\"#DejaVuSans-6a\"/>\n       <use xlink:href=\"#DejaVuSans-6f\" x=\"27.783203\"/>\n       <use xlink:href=\"#DejaVuSans-79\" x=\"88.964844\"/>\n      </g>\n     </g>\n    </g>\n    <g id=\"ytick_3\">\n     <g id=\"line2d_9\">\n      <g>\n       <use xlink:href=\"#m9dc1f49e45\" x=\"78.528125\" y=\"162.74175\" style=\"stroke: #000000; stroke-width: 0.8\"/>\n      </g>\n     </g>\n     <g id=\"text_10\">\n      <!-- love -->\n      <g transform=\"translate(46.365625 167.300812) scale(0.12 -0.12)\">\n       <use xlink:href=\"#DejaVuSans-6c\"/>\n       <use xlink:href=\"#DejaVuSans-6f\" x=\"27.783203\"/>\n       <use xlink:href=\"#DejaVuSans-76\" x=\"88.964844\"/>\n       <use xlink:href=\"#DejaVuSans-65\" x=\"148.144531\"/>\n      </g>\n     </g>\n    </g>\n    <g id=\"ytick_4\">\n     <g id=\"line2d_10\">\n      <g>\n       <use xlink:href=\"#m9dc1f49e45\" x=\"78.528125\" y=\"218.18175\" style=\"stroke: #000000; stroke-width: 0.8\"/>\n      </g>\n     </g>\n     <g id=\"text_11\">\n      <!-- anger -->\n      <g transform=\"translate(36.634375 222.740813) scale(0.12 -0.12)\">\n       <use xlink:href=\"#DejaVuSans-61\"/>\n       <use xlink:href=\"#DejaVuSans-6e\" x=\"61.279297\"/>\n       <use xlink:href=\"#DejaVuSans-67\" x=\"124.658203\"/>\n       <use xlink:href=\"#DejaVuSans-65\" x=\"188.134766\"/>\n       <use xlink:href=\"#DejaVuSans-72\" x=\"249.658203\"/>\n      </g>\n     </g>\n    </g>\n    <g id=\"ytick_5\">\n     <g id=\"line2d_11\">\n      <g>\n       <use xlink:href=\"#m9dc1f49e45\" x=\"78.528125\" y=\"273.62175\" style=\"stroke: #000000; stroke-width: 0.8\"/>\n      </g>\n     </g>\n     <g id=\"text_12\">\n      <!-- fear -->\n      <g transform=\"translate(47.633125 278.180813) scale(0.12 -0.12)\">\n       <use xlink:href=\"#DejaVuSans-66\"/>\n       <use xlink:href=\"#DejaVuSans-65\" x=\"35.205078\"/>\n       <use xlink:href=\"#DejaVuSans-61\" x=\"96.728516\"/>\n       <use xlink:href=\"#DejaVuSans-72\" x=\"158.007812\"/>\n      </g>\n     </g>\n    </g>\n    <g id=\"ytick_6\">\n     <g id=\"line2d_12\">\n      <g>\n       <use xlink:href=\"#m9dc1f49e45\" x=\"78.528125\" y=\"329.06175\" style=\"stroke: #000000; stroke-width: 0.8\"/>\n      </g>\n     </g>\n     <g id=\"text_13\">\n      <!-- surprise -->\n      <g transform=\"translate(23.21875 333.620812) scale(0.12 -0.12)\">\n       <use xlink:href=\"#DejaVuSans-73\"/>\n       <use xlink:href=\"#DejaVuSans-75\" x=\"52.099609\"/>\n       <use xlink:href=\"#DejaVuSans-72\" x=\"115.478516\"/>\n       <use xlink:href=\"#DejaVuSans-70\" x=\"156.591797\"/>\n       <use xlink:href=\"#DejaVuSans-72\" x=\"220.068359\"/>\n       <use xlink:href=\"#DejaVuSans-69\" x=\"261.181641\"/>\n       <use xlink:href=\"#DejaVuSans-73\" x=\"288.964844\"/>\n       <use xlink:href=\"#DejaVuSans-65\" x=\"341.064453\"/>\n      </g>\n     </g>\n    </g>\n    <g id=\"text_14\">\n     <!-- True label -->\n     <g transform=\"translate(16.318125 219.620812) rotate(-90) scale(0.12 -0.12)\">\n      <defs>\n       <path id=\"DejaVuSans-54\" d=\"M -19 4666 \nL 3928 4666 \nL 3928 4134 \nL 2272 4134 \nL 2272 0 \nL 1638 0 \nL 1638 4134 \nL -19 4134 \nL -19 4666 \nz\n\" transform=\"scale(0.015625)\"/>\n      </defs>\n      <use xlink:href=\"#DejaVuSans-54\"/>\n      <use xlink:href=\"#DejaVuSans-72\" x=\"46.333984\"/>\n      <use xlink:href=\"#DejaVuSans-75\" x=\"87.447266\"/>\n      <use xlink:href=\"#DejaVuSans-65\" x=\"150.826172\"/>\n      <use xlink:href=\"#DejaVuSans-20\" x=\"212.349609\"/>\n      <use xlink:href=\"#DejaVuSans-6c\" x=\"244.136719\"/>\n      <use xlink:href=\"#DejaVuSans-61\" x=\"271.919922\"/>\n      <use xlink:href=\"#DejaVuSans-62\" x=\"333.199219\"/>\n      <use xlink:href=\"#DejaVuSans-65\" x=\"396.675781\"/>\n      <use xlink:href=\"#DejaVuSans-6c\" x=\"458.199219\"/>\n     </g>\n    </g>\n   </g>\n   <g id=\"patch_3\">\n    <path d=\"M 78.528125 356.78175 \nL 78.528125 24.14175 \n\" style=\"fill: none; stroke: #000000; stroke-width: 0.8; stroke-linejoin: miter; stroke-linecap: square\"/>\n   </g>\n   <g id=\"patch_4\">\n    <path d=\"M 411.168125 356.78175 \nL 411.168125 24.14175 \n\" style=\"fill: none; stroke: #000000; stroke-width: 0.8; stroke-linejoin: miter; stroke-linecap: square\"/>\n   </g>\n   <g id=\"patch_5\">\n    <path d=\"M 78.528125 356.78175 \nL 411.168125 356.78175 \n\" style=\"fill: none; stroke: #000000; stroke-width: 0.8; stroke-linejoin: miter; stroke-linecap: square\"/>\n   </g>\n   <g id=\"patch_6\">\n    <path d=\"M 78.528125 24.14175 \nL 411.168125 24.14175 \n\" style=\"fill: none; stroke: #000000; stroke-width: 0.8; stroke-linejoin: miter; stroke-linecap: square\"/>\n   </g>\n   <g id=\"text_15\">\n    <!-- 0.86 -->\n    <g style=\"fill: #f7fbff\" transform=\"translate(92.88875 55.173) scale(0.12 -0.12)\">\n     <defs>\n      <path id=\"DejaVuSans-30\" d=\"M 2034 4250 \nQ 1547 4250 1301 3770 \nQ 1056 3291 1056 2328 \nQ 1056 1369 1301 889 \nQ 1547 409 2034 409 \nQ 2525 409 2770 889 \nQ 3016 1369 3016 2328 \nQ 3016 3291 2770 3770 \nQ 2525 4250 2034 4250 \nz\nM 2034 4750 \nQ 2819 4750 3233 4129 \nQ 3647 3509 3647 2328 \nQ 3647 1150 3233 529 \nQ 2819 -91 2034 -91 \nQ 1250 -91 836 529 \nQ 422 1150 422 2328 \nQ 422 3509 836 4129 \nQ 1250 4750 2034 4750 \nz\n\" transform=\"scale(0.015625)\"/>\n      <path id=\"DejaVuSans-2e\" d=\"M 684 794 \nL 1344 794 \nL 1344 0 \nL 684 0 \nL 684 794 \nz\n\" transform=\"scale(0.015625)\"/>\n      <path id=\"DejaVuSans-38\" d=\"M 2034 2216 \nQ 1584 2216 1326 1975 \nQ 1069 1734 1069 1313 \nQ 1069 891 1326 650 \nQ 1584 409 2034 409 \nQ 2484 409 2743 651 \nQ 3003 894 3003 1313 \nQ 3003 1734 2745 1975 \nQ 2488 2216 2034 2216 \nz\nM 1403 2484 \nQ 997 2584 770 2862 \nQ 544 3141 544 3541 \nQ 544 4100 942 4425 \nQ 1341 4750 2034 4750 \nQ 2731 4750 3128 4425 \nQ 3525 4100 3525 3541 \nQ 3525 3141 3298 2862 \nQ 3072 2584 2669 2484 \nQ 3125 2378 3379 2068 \nQ 3634 1759 3634 1313 \nQ 3634 634 3220 271 \nQ 2806 -91 2034 -91 \nQ 1263 -91 848 271 \nQ 434 634 434 1313 \nQ 434 1759 690 2068 \nQ 947 2378 1403 2484 \nz\nM 1172 3481 \nQ 1172 3119 1398 2916 \nQ 1625 2713 2034 2713 \nQ 2441 2713 2670 2916 \nQ 2900 3119 2900 3481 \nQ 2900 3844 2670 4047 \nQ 2441 4250 2034 4250 \nQ 1625 4250 1398 4047 \nQ 1172 3844 1172 3481 \nz\n\" transform=\"scale(0.015625)\"/>\n      <path id=\"DejaVuSans-36\" d=\"M 2113 2584 \nQ 1688 2584 1439 2293 \nQ 1191 2003 1191 1497 \nQ 1191 994 1439 701 \nQ 1688 409 2113 409 \nQ 2538 409 2786 701 \nQ 3034 994 3034 1497 \nQ 3034 2003 2786 2293 \nQ 2538 2584 2113 2584 \nz\nM 3366 4563 \nL 3366 3988 \nQ 3128 4100 2886 4159 \nQ 2644 4219 2406 4219 \nQ 1781 4219 1451 3797 \nQ 1122 3375 1075 2522 \nQ 1259 2794 1537 2939 \nQ 1816 3084 2150 3084 \nQ 2853 3084 3261 2657 \nQ 3669 2231 3669 1497 \nQ 3669 778 3244 343 \nQ 2819 -91 2113 -91 \nQ 1303 -91 875 529 \nQ 447 1150 447 2328 \nQ 447 3434 972 4092 \nQ 1497 4750 2381 4750 \nQ 2619 4750 2861 4703 \nQ 3103 4656 3366 4563 \nz\n\" transform=\"scale(0.015625)\"/>\n     </defs>\n     <use xlink:href=\"#DejaVuSans-30\"/>\n     <use xlink:href=\"#DejaVuSans-2e\" x=\"63.623047\"/>\n     <use xlink:href=\"#DejaVuSans-38\" x=\"95.410156\"/>\n     <use xlink:href=\"#DejaVuSans-36\" x=\"159.033203\"/>\n    </g>\n   </g>\n   <g id=\"text_16\">\n    <!-- 0.05 -->\n    <g style=\"fill: #08306b\" transform=\"translate(148.32875 55.173) scale(0.12 -0.12)\">\n     <defs>\n      <path id=\"DejaVuSans-35\" d=\"M 691 4666 \nL 3169 4666 \nL 3169 4134 \nL 1269 4134 \nL 1269 2991 \nQ 1406 3038 1543 3061 \nQ 1681 3084 1819 3084 \nQ 2600 3084 3056 2656 \nQ 3513 2228 3513 1497 \nQ 3513 744 3044 326 \nQ 2575 -91 1722 -91 \nQ 1428 -91 1123 -41 \nQ 819 9 494 109 \nL 494 744 \nQ 775 591 1075 516 \nQ 1375 441 1709 441 \nQ 2250 441 2565 725 \nQ 2881 1009 2881 1497 \nQ 2881 1984 2565 2268 \nQ 2250 2553 1709 2553 \nQ 1456 2553 1204 2497 \nQ 953 2441 691 2322 \nL 691 4666 \nz\n\" transform=\"scale(0.015625)\"/>\n     </defs>\n     <use xlink:href=\"#DejaVuSans-30\"/>\n     <use xlink:href=\"#DejaVuSans-2e\" x=\"63.623047\"/>\n     <use xlink:href=\"#DejaVuSans-30\" x=\"95.410156\"/>\n     <use xlink:href=\"#DejaVuSans-35\" x=\"159.033203\"/>\n    </g>\n   </g>\n   <g id=\"text_17\">\n    <!-- 0.00 -->\n    <g style=\"fill: #08306b\" transform=\"translate(203.76875 55.173) scale(0.12 -0.12)\">\n     <use xlink:href=\"#DejaVuSans-30\"/>\n     <use xlink:href=\"#DejaVuSans-2e\" x=\"63.623047\"/>\n     <use xlink:href=\"#DejaVuSans-30\" x=\"95.410156\"/>\n     <use xlink:href=\"#DejaVuSans-30\" x=\"159.033203\"/>\n    </g>\n   </g>\n   <g id=\"text_18\">\n    <!-- 0.00 -->\n    <g style=\"fill: #08306b\" transform=\"translate(259.20875 55.173) scale(0.12 -0.12)\">\n     <use xlink:href=\"#DejaVuSans-30\"/>\n     <use xlink:href=\"#DejaVuSans-2e\" x=\"63.623047\"/>\n     <use xlink:href=\"#DejaVuSans-30\" x=\"95.410156\"/>\n     <use xlink:href=\"#DejaVuSans-30\" x=\"159.033203\"/>\n    </g>\n   </g>\n   <g id=\"text_19\">\n    <!-- 0.08 -->\n    <g style=\"fill: #08306b\" transform=\"translate(314.64875 55.173) scale(0.12 -0.12)\">\n     <use xlink:href=\"#DejaVuSans-30\"/>\n     <use xlink:href=\"#DejaVuSans-2e\" x=\"63.623047\"/>\n     <use xlink:href=\"#DejaVuSans-30\" x=\"95.410156\"/>\n     <use xlink:href=\"#DejaVuSans-38\" x=\"159.033203\"/>\n    </g>\n   </g>\n   <g id=\"text_20\">\n    <!-- 0.00 -->\n    <g style=\"fill: #08306b\" transform=\"translate(370.08875 55.173) scale(0.12 -0.12)\">\n     <use xlink:href=\"#DejaVuSans-30\"/>\n     <use xlink:href=\"#DejaVuSans-2e\" x=\"63.623047\"/>\n     <use xlink:href=\"#DejaVuSans-30\" x=\"95.410156\"/>\n     <use xlink:href=\"#DejaVuSans-30\" x=\"159.033203\"/>\n    </g>\n   </g>\n   <g id=\"text_21\">\n    <!-- 0.22 -->\n    <g style=\"fill: #08306b\" transform=\"translate(92.88875 110.613) scale(0.12 -0.12)\">\n     <defs>\n      <path id=\"DejaVuSans-32\" d=\"M 1228 531 \nL 3431 531 \nL 3431 0 \nL 469 0 \nL 469 531 \nQ 828 903 1448 1529 \nQ 2069 2156 2228 2338 \nQ 2531 2678 2651 2914 \nQ 2772 3150 2772 3378 \nQ 2772 3750 2511 3984 \nQ 2250 4219 1831 4219 \nQ 1534 4219 1204 4116 \nQ 875 4013 500 3803 \nL 500 4441 \nQ 881 4594 1212 4672 \nQ 1544 4750 1819 4750 \nQ 2544 4750 2975 4387 \nQ 3406 4025 3406 3419 \nQ 3406 3131 3298 2873 \nQ 3191 2616 2906 2266 \nQ 2828 2175 2409 1742 \nQ 1991 1309 1228 531 \nz\n\" transform=\"scale(0.015625)\"/>\n     </defs>\n     <use xlink:href=\"#DejaVuSans-30\"/>\n     <use xlink:href=\"#DejaVuSans-2e\" x=\"63.623047\"/>\n     <use xlink:href=\"#DejaVuSans-32\" x=\"95.410156\"/>\n     <use xlink:href=\"#DejaVuSans-32\" x=\"159.033203\"/>\n    </g>\n   </g>\n   <g id=\"text_22\">\n    <!-- 0.70 -->\n    <g style=\"fill: #f7fbff\" transform=\"translate(148.32875 110.613) scale(0.12 -0.12)\">\n     <defs>\n      <path id=\"DejaVuSans-37\" d=\"M 525 4666 \nL 3525 4666 \nL 3525 4397 \nL 1831 0 \nL 1172 0 \nL 2766 4134 \nL 525 4134 \nL 525 4666 \nz\n\" transform=\"scale(0.015625)\"/>\n     </defs>\n     <use xlink:href=\"#DejaVuSans-30\"/>\n     <use xlink:href=\"#DejaVuSans-2e\" x=\"63.623047\"/>\n     <use xlink:href=\"#DejaVuSans-37\" x=\"95.410156\"/>\n     <use xlink:href=\"#DejaVuSans-30\" x=\"159.033203\"/>\n    </g>\n   </g>\n   <g id=\"text_23\">\n    <!-- 0.01 -->\n    <g style=\"fill: #08306b\" transform=\"translate(203.76875 110.613) scale(0.12 -0.12)\">\n     <defs>\n      <path id=\"DejaVuSans-31\" d=\"M 794 531 \nL 1825 531 \nL 1825 4091 \nL 703 3866 \nL 703 4441 \nL 1819 4666 \nL 2450 4666 \nL 2450 531 \nL 3481 531 \nL 3481 0 \nL 794 0 \nL 794 531 \nz\n\" transform=\"scale(0.015625)\"/>\n     </defs>\n     <use xlink:href=\"#DejaVuSans-30\"/>\n     <use xlink:href=\"#DejaVuSans-2e\" x=\"63.623047\"/>\n     <use xlink:href=\"#DejaVuSans-30\" x=\"95.410156\"/>\n     <use xlink:href=\"#DejaVuSans-31\" x=\"159.033203\"/>\n    </g>\n   </g>\n   <g id=\"text_24\">\n    <!-- 0.00 -->\n    <g style=\"fill: #08306b\" transform=\"translate(259.20875 110.613) scale(0.12 -0.12)\">\n     <use xlink:href=\"#DejaVuSans-30\"/>\n     <use xlink:href=\"#DejaVuSans-2e\" x=\"63.623047\"/>\n     <use xlink:href=\"#DejaVuSans-30\" x=\"95.410156\"/>\n     <use xlink:href=\"#DejaVuSans-30\" x=\"159.033203\"/>\n    </g>\n   </g>\n   <g id=\"text_25\">\n    <!-- 0.06 -->\n    <g style=\"fill: #08306b\" transform=\"translate(314.64875 110.613) scale(0.12 -0.12)\">\n     <use xlink:href=\"#DejaVuSans-30\"/>\n     <use xlink:href=\"#DejaVuSans-2e\" x=\"63.623047\"/>\n     <use xlink:href=\"#DejaVuSans-30\" x=\"95.410156\"/>\n     <use xlink:href=\"#DejaVuSans-36\" x=\"159.033203\"/>\n    </g>\n   </g>\n   <g id=\"text_26\">\n    <!-- 0.01 -->\n    <g style=\"fill: #08306b\" transform=\"translate(370.08875 110.613) scale(0.12 -0.12)\">\n     <use xlink:href=\"#DejaVuSans-30\"/>\n     <use xlink:href=\"#DejaVuSans-2e\" x=\"63.623047\"/>\n     <use xlink:href=\"#DejaVuSans-30\" x=\"95.410156\"/>\n     <use xlink:href=\"#DejaVuSans-31\" x=\"159.033203\"/>\n    </g>\n   </g>\n   <g id=\"text_27\">\n    <!-- 0.39 -->\n    <g style=\"fill: #08306b\" transform=\"translate(92.88875 166.053) scale(0.12 -0.12)\">\n     <defs>\n      <path id=\"DejaVuSans-33\" d=\"M 2597 2516 \nQ 3050 2419 3304 2112 \nQ 3559 1806 3559 1356 \nQ 3559 666 3084 287 \nQ 2609 -91 1734 -91 \nQ 1441 -91 1130 -33 \nQ 819 25 488 141 \nL 488 750 \nQ 750 597 1062 519 \nQ 1375 441 1716 441 \nQ 2309 441 2620 675 \nQ 2931 909 2931 1356 \nQ 2931 1769 2642 2001 \nQ 2353 2234 1838 2234 \nL 1294 2234 \nL 1294 2753 \nL 1863 2753 \nQ 2328 2753 2575 2939 \nQ 2822 3125 2822 3475 \nQ 2822 3834 2567 4026 \nQ 2313 4219 1838 4219 \nQ 1578 4219 1281 4162 \nQ 984 4106 628 3988 \nL 628 4550 \nQ 988 4650 1302 4700 \nQ 1616 4750 1894 4750 \nQ 2613 4750 3031 4423 \nQ 3450 4097 3450 3541 \nQ 3450 3153 3228 2886 \nQ 3006 2619 2597 2516 \nz\n\" transform=\"scale(0.015625)\"/>\n      <path id=\"DejaVuSans-39\" d=\"M 703 97 \nL 703 672 \nQ 941 559 1184 500 \nQ 1428 441 1663 441 \nQ 2288 441 2617 861 \nQ 2947 1281 2994 2138 \nQ 2813 1869 2534 1725 \nQ 2256 1581 1919 1581 \nQ 1219 1581 811 2004 \nQ 403 2428 403 3163 \nQ 403 3881 828 4315 \nQ 1253 4750 1959 4750 \nQ 2769 4750 3195 4129 \nQ 3622 3509 3622 2328 \nQ 3622 1225 3098 567 \nQ 2575 -91 1691 -91 \nQ 1453 -91 1209 -44 \nQ 966 3 703 97 \nz\nM 1959 2075 \nQ 2384 2075 2632 2365 \nQ 2881 2656 2881 3163 \nQ 2881 3666 2632 3958 \nQ 2384 4250 1959 4250 \nQ 1534 4250 1286 3958 \nQ 1038 3666 1038 3163 \nQ 1038 2656 1286 2365 \nQ 1534 2075 1959 2075 \nz\n\" transform=\"scale(0.015625)\"/>\n     </defs>\n     <use xlink:href=\"#DejaVuSans-30\"/>\n     <use xlink:href=\"#DejaVuSans-2e\" x=\"63.623047\"/>\n     <use xlink:href=\"#DejaVuSans-33\" x=\"95.410156\"/>\n     <use xlink:href=\"#DejaVuSans-39\" x=\"159.033203\"/>\n    </g>\n   </g>\n   <g id=\"text_28\">\n    <!-- 0.37 -->\n    <g style=\"fill: #08306b\" transform=\"translate(148.32875 166.053) scale(0.12 -0.12)\">\n     <use xlink:href=\"#DejaVuSans-30\"/>\n     <use xlink:href=\"#DejaVuSans-2e\" x=\"63.623047\"/>\n     <use xlink:href=\"#DejaVuSans-33\" x=\"95.410156\"/>\n     <use xlink:href=\"#DejaVuSans-37\" x=\"159.033203\"/>\n    </g>\n   </g>\n   <g id=\"text_29\">\n    <!-- 0.11 -->\n    <g style=\"fill: #08306b\" transform=\"translate(203.76875 166.053) scale(0.12 -0.12)\">\n     <use xlink:href=\"#DejaVuSans-30\"/>\n     <use xlink:href=\"#DejaVuSans-2e\" x=\"63.623047\"/>\n     <use xlink:href=\"#DejaVuSans-31\" x=\"95.410156\"/>\n     <use xlink:href=\"#DejaVuSans-31\" x=\"159.033203\"/>\n    </g>\n   </g>\n   <g id=\"text_30\">\n    <!-- 0.01 -->\n    <g style=\"fill: #08306b\" transform=\"translate(259.20875 166.053) scale(0.12 -0.12)\">\n     <use xlink:href=\"#DejaVuSans-30\"/>\n     <use xlink:href=\"#DejaVuSans-2e\" x=\"63.623047\"/>\n     <use xlink:href=\"#DejaVuSans-30\" x=\"95.410156\"/>\n     <use xlink:href=\"#DejaVuSans-31\" x=\"159.033203\"/>\n    </g>\n   </g>\n   <g id=\"text_31\">\n    <!-- 0.11 -->\n    <g style=\"fill: #08306b\" transform=\"translate(314.64875 166.053) scale(0.12 -0.12)\">\n     <use xlink:href=\"#DejaVuSans-30\"/>\n     <use xlink:href=\"#DejaVuSans-2e\" x=\"63.623047\"/>\n     <use xlink:href=\"#DejaVuSans-31\" x=\"95.410156\"/>\n     <use xlink:href=\"#DejaVuSans-31\" x=\"159.033203\"/>\n    </g>\n   </g>\n   <g id=\"text_32\">\n    <!-- 0.01 -->\n    <g style=\"fill: #08306b\" transform=\"translate(370.08875 166.053) scale(0.12 -0.12)\">\n     <use xlink:href=\"#DejaVuSans-30\"/>\n     <use xlink:href=\"#DejaVuSans-2e\" x=\"63.623047\"/>\n     <use xlink:href=\"#DejaVuSans-30\" x=\"95.410156\"/>\n     <use xlink:href=\"#DejaVuSans-31\" x=\"159.033203\"/>\n    </g>\n   </g>\n   <g id=\"text_33\">\n    <!-- 0.59 -->\n    <g style=\"fill: #f7fbff\" transform=\"translate(92.88875 221.493) scale(0.12 -0.12)\">\n     <use xlink:href=\"#DejaVuSans-30\"/>\n     <use xlink:href=\"#DejaVuSans-2e\" x=\"63.623047\"/>\n     <use xlink:href=\"#DejaVuSans-35\" x=\"95.410156\"/>\n     <use xlink:href=\"#DejaVuSans-39\" x=\"159.033203\"/>\n    </g>\n   </g>\n   <g id=\"text_34\">\n    <!-- 0.07 -->\n    <g style=\"fill: #08306b\" transform=\"translate(148.32875 221.493) scale(0.12 -0.12)\">\n     <use xlink:href=\"#DejaVuSans-30\"/>\n     <use xlink:href=\"#DejaVuSans-2e\" x=\"63.623047\"/>\n     <use xlink:href=\"#DejaVuSans-30\" x=\"95.410156\"/>\n     <use xlink:href=\"#DejaVuSans-37\" x=\"159.033203\"/>\n    </g>\n   </g>\n   <g id=\"text_35\">\n    <!-- 0.00 -->\n    <g style=\"fill: #08306b\" transform=\"translate(203.76875 221.493) scale(0.12 -0.12)\">\n     <use xlink:href=\"#DejaVuSans-30\"/>\n     <use xlink:href=\"#DejaVuSans-2e\" x=\"63.623047\"/>\n     <use xlink:href=\"#DejaVuSans-30\" x=\"95.410156\"/>\n     <use xlink:href=\"#DejaVuSans-30\" x=\"159.033203\"/>\n    </g>\n   </g>\n   <g id=\"text_36\">\n    <!-- 0.12 -->\n    <g style=\"fill: #08306b\" transform=\"translate(259.20875 221.493) scale(0.12 -0.12)\">\n     <use xlink:href=\"#DejaVuSans-30\"/>\n     <use xlink:href=\"#DejaVuSans-2e\" x=\"63.623047\"/>\n     <use xlink:href=\"#DejaVuSans-31\" x=\"95.410156\"/>\n     <use xlink:href=\"#DejaVuSans-32\" x=\"159.033203\"/>\n    </g>\n   </g>\n   <g id=\"text_37\">\n    <!-- 0.23 -->\n    <g style=\"fill: #08306b\" transform=\"translate(314.64875 221.493) scale(0.12 -0.12)\">\n     <use xlink:href=\"#DejaVuSans-30\"/>\n     <use xlink:href=\"#DejaVuSans-2e\" x=\"63.623047\"/>\n     <use xlink:href=\"#DejaVuSans-32\" x=\"95.410156\"/>\n     <use xlink:href=\"#DejaVuSans-33\" x=\"159.033203\"/>\n    </g>\n   </g>\n   <g id=\"text_38\">\n    <!-- 0.00 -->\n    <g style=\"fill: #08306b\" transform=\"translate(370.08875 221.493) scale(0.12 -0.12)\">\n     <use xlink:href=\"#DejaVuSans-30\"/>\n     <use xlink:href=\"#DejaVuSans-2e\" x=\"63.623047\"/>\n     <use xlink:href=\"#DejaVuSans-30\" x=\"95.410156\"/>\n     <use xlink:href=\"#DejaVuSans-30\" x=\"159.033203\"/>\n    </g>\n   </g>\n   <g id=\"text_39\">\n    <!-- 0.26 -->\n    <g style=\"fill: #08306b\" transform=\"translate(92.88875 276.933) scale(0.12 -0.12)\">\n     <use xlink:href=\"#DejaVuSans-30\"/>\n     <use xlink:href=\"#DejaVuSans-2e\" x=\"63.623047\"/>\n     <use xlink:href=\"#DejaVuSans-32\" x=\"95.410156\"/>\n     <use xlink:href=\"#DejaVuSans-36\" x=\"159.033203\"/>\n    </g>\n   </g>\n   <g id=\"text_40\">\n    <!-- 0.05 -->\n    <g style=\"fill: #08306b\" transform=\"translate(148.32875 276.933) scale(0.12 -0.12)\">\n     <use xlink:href=\"#DejaVuSans-30\"/>\n     <use xlink:href=\"#DejaVuSans-2e\" x=\"63.623047\"/>\n     <use xlink:href=\"#DejaVuSans-30\" x=\"95.410156\"/>\n     <use xlink:href=\"#DejaVuSans-35\" x=\"159.033203\"/>\n    </g>\n   </g>\n   <g id=\"text_41\">\n    <!-- 0.00 -->\n    <g style=\"fill: #08306b\" transform=\"translate(203.76875 276.933) scale(0.12 -0.12)\">\n     <use xlink:href=\"#DejaVuSans-30\"/>\n     <use xlink:href=\"#DejaVuSans-2e\" x=\"63.623047\"/>\n     <use xlink:href=\"#DejaVuSans-30\" x=\"95.410156\"/>\n     <use xlink:href=\"#DejaVuSans-30\" x=\"159.033203\"/>\n    </g>\n   </g>\n   <g id=\"text_42\">\n    <!-- 0.00 -->\n    <g style=\"fill: #08306b\" transform=\"translate(259.20875 276.933) scale(0.12 -0.12)\">\n     <use xlink:href=\"#DejaVuSans-30\"/>\n     <use xlink:href=\"#DejaVuSans-2e\" x=\"63.623047\"/>\n     <use xlink:href=\"#DejaVuSans-30\" x=\"95.410156\"/>\n     <use xlink:href=\"#DejaVuSans-30\" x=\"159.033203\"/>\n    </g>\n   </g>\n   <g id=\"text_43\">\n    <!-- 0.67 -->\n    <g style=\"fill: #f7fbff\" transform=\"translate(314.64875 276.933) scale(0.12 -0.12)\">\n     <use xlink:href=\"#DejaVuSans-30\"/>\n     <use xlink:href=\"#DejaVuSans-2e\" x=\"63.623047\"/>\n     <use xlink:href=\"#DejaVuSans-36\" x=\"95.410156\"/>\n     <use xlink:href=\"#DejaVuSans-37\" x=\"159.033203\"/>\n    </g>\n   </g>\n   <g id=\"text_44\">\n    <!-- 0.01 -->\n    <g style=\"fill: #08306b\" transform=\"translate(370.08875 276.933) scale(0.12 -0.12)\">\n     <use xlink:href=\"#DejaVuSans-30\"/>\n     <use xlink:href=\"#DejaVuSans-2e\" x=\"63.623047\"/>\n     <use xlink:href=\"#DejaVuSans-30\" x=\"95.410156\"/>\n     <use xlink:href=\"#DejaVuSans-31\" x=\"159.033203\"/>\n    </g>\n   </g>\n   <g id=\"text_45\">\n    <!-- 0.26 -->\n    <g style=\"fill: #08306b\" transform=\"translate(92.88875 332.373) scale(0.12 -0.12)\">\n     <use xlink:href=\"#DejaVuSans-30\"/>\n     <use xlink:href=\"#DejaVuSans-2e\" x=\"63.623047\"/>\n     <use xlink:href=\"#DejaVuSans-32\" x=\"95.410156\"/>\n     <use xlink:href=\"#DejaVuSans-36\" x=\"159.033203\"/>\n    </g>\n   </g>\n   <g id=\"text_46\">\n    <!-- 0.26 -->\n    <g style=\"fill: #08306b\" transform=\"translate(148.32875 332.373) scale(0.12 -0.12)\">\n     <use xlink:href=\"#DejaVuSans-30\"/>\n     <use xlink:href=\"#DejaVuSans-2e\" x=\"63.623047\"/>\n     <use xlink:href=\"#DejaVuSans-32\" x=\"95.410156\"/>\n     <use xlink:href=\"#DejaVuSans-36\" x=\"159.033203\"/>\n    </g>\n   </g>\n   <g id=\"text_47\">\n    <!-- 0.00 -->\n    <g style=\"fill: #08306b\" transform=\"translate(203.76875 332.373) scale(0.12 -0.12)\">\n     <use xlink:href=\"#DejaVuSans-30\"/>\n     <use xlink:href=\"#DejaVuSans-2e\" x=\"63.623047\"/>\n     <use xlink:href=\"#DejaVuSans-30\" x=\"95.410156\"/>\n     <use xlink:href=\"#DejaVuSans-30\" x=\"159.033203\"/>\n    </g>\n   </g>\n   <g id=\"text_48\">\n    <!-- 0.01 -->\n    <g style=\"fill: #08306b\" transform=\"translate(259.20875 332.373) scale(0.12 -0.12)\">\n     <use xlink:href=\"#DejaVuSans-30\"/>\n     <use xlink:href=\"#DejaVuSans-2e\" x=\"63.623047\"/>\n     <use xlink:href=\"#DejaVuSans-30\" x=\"95.410156\"/>\n     <use xlink:href=\"#DejaVuSans-31\" x=\"159.033203\"/>\n    </g>\n   </g>\n   <g id=\"text_49\">\n    <!-- 0.26 -->\n    <g style=\"fill: #08306b\" transform=\"translate(314.64875 332.373) scale(0.12 -0.12)\">\n     <use xlink:href=\"#DejaVuSans-30\"/>\n     <use xlink:href=\"#DejaVuSans-2e\" x=\"63.623047\"/>\n     <use xlink:href=\"#DejaVuSans-32\" x=\"95.410156\"/>\n     <use xlink:href=\"#DejaVuSans-36\" x=\"159.033203\"/>\n    </g>\n   </g>\n   <g id=\"text_50\">\n    <!-- 0.21 -->\n    <g style=\"fill: #08306b\" transform=\"translate(370.08875 332.373) scale(0.12 -0.12)\">\n     <use xlink:href=\"#DejaVuSans-30\"/>\n     <use xlink:href=\"#DejaVuSans-2e\" x=\"63.623047\"/>\n     <use xlink:href=\"#DejaVuSans-32\" x=\"95.410156\"/>\n     <use xlink:href=\"#DejaVuSans-31\" x=\"159.033203\"/>\n    </g>\n   </g>\n   <g id=\"text_51\">\n    <!-- Normalized confusion matrix -->\n    <g transform=\"translate(141.2255 18.14175) scale(0.144 -0.144)\">\n     <defs>\n      <path id=\"DejaVuSans-4e\" d=\"M 628 4666 \nL 1478 4666 \nL 3547 763 \nL 3547 4666 \nL 4159 4666 \nL 4159 0 \nL 3309 0 \nL 1241 3903 \nL 1241 0 \nL 628 0 \nL 628 4666 \nz\n\" transform=\"scale(0.015625)\"/>\n      <path id=\"DejaVuSans-6d\" d=\"M 3328 2828 \nQ 3544 3216 3844 3400 \nQ 4144 3584 4550 3584 \nQ 5097 3584 5394 3201 \nQ 5691 2819 5691 2113 \nL 5691 0 \nL 5113 0 \nL 5113 2094 \nQ 5113 2597 4934 2840 \nQ 4756 3084 4391 3084 \nQ 3944 3084 3684 2787 \nQ 3425 2491 3425 1978 \nL 3425 0 \nL 2847 0 \nL 2847 2094 \nQ 2847 2600 2669 2842 \nQ 2491 3084 2119 3084 \nQ 1678 3084 1418 2786 \nQ 1159 2488 1159 1978 \nL 1159 0 \nL 581 0 \nL 581 3500 \nL 1159 3500 \nL 1159 2956 \nQ 1356 3278 1631 3431 \nQ 1906 3584 2284 3584 \nQ 2666 3584 2933 3390 \nQ 3200 3197 3328 2828 \nz\n\" transform=\"scale(0.015625)\"/>\n      <path id=\"DejaVuSans-7a\" d=\"M 353 3500 \nL 3084 3500 \nL 3084 2975 \nL 922 459 \nL 3084 459 \nL 3084 0 \nL 275 0 \nL 275 525 \nL 2438 3041 \nL 353 3041 \nL 353 3500 \nz\n\" transform=\"scale(0.015625)\"/>\n      <path id=\"DejaVuSans-78\" d=\"M 3513 3500 \nL 2247 1797 \nL 3578 0 \nL 2900 0 \nL 1881 1375 \nL 863 0 \nL 184 0 \nL 1544 1831 \nL 300 3500 \nL 978 3500 \nL 1906 2253 \nL 2834 3500 \nL 3513 3500 \nz\n\" transform=\"scale(0.015625)\"/>\n     </defs>\n     <use xlink:href=\"#DejaVuSans-4e\"/>\n     <use xlink:href=\"#DejaVuSans-6f\" x=\"74.804688\"/>\n     <use xlink:href=\"#DejaVuSans-72\" x=\"135.986328\"/>\n     <use xlink:href=\"#DejaVuSans-6d\" x=\"175.349609\"/>\n     <use xlink:href=\"#DejaVuSans-61\" x=\"272.761719\"/>\n     <use xlink:href=\"#DejaVuSans-6c\" x=\"334.041016\"/>\n     <use xlink:href=\"#DejaVuSans-69\" x=\"361.824219\"/>\n     <use xlink:href=\"#DejaVuSans-7a\" x=\"389.607422\"/>\n     <use xlink:href=\"#DejaVuSans-65\" x=\"442.097656\"/>\n     <use xlink:href=\"#DejaVuSans-64\" x=\"503.621094\"/>\n     <use xlink:href=\"#DejaVuSans-20\" x=\"567.097656\"/>\n     <use xlink:href=\"#DejaVuSans-63\" x=\"598.884766\"/>\n     <use xlink:href=\"#DejaVuSans-6f\" x=\"653.865234\"/>\n     <use xlink:href=\"#DejaVuSans-6e\" x=\"715.046875\"/>\n     <use xlink:href=\"#DejaVuSans-66\" x=\"778.425781\"/>\n     <use xlink:href=\"#DejaVuSans-75\" x=\"813.630859\"/>\n     <use xlink:href=\"#DejaVuSans-73\" x=\"877.009766\"/>\n     <use xlink:href=\"#DejaVuSans-69\" x=\"929.109375\"/>\n     <use xlink:href=\"#DejaVuSans-6f\" x=\"956.892578\"/>\n     <use xlink:href=\"#DejaVuSans-6e\" x=\"1018.074219\"/>\n     <use xlink:href=\"#DejaVuSans-20\" x=\"1081.453125\"/>\n     <use xlink:href=\"#DejaVuSans-6d\" x=\"1113.240234\"/>\n     <use xlink:href=\"#DejaVuSans-61\" x=\"1210.652344\"/>\n     <use xlink:href=\"#DejaVuSans-74\" x=\"1271.931641\"/>\n     <use xlink:href=\"#DejaVuSans-72\" x=\"1311.140625\"/>\n     <use xlink:href=\"#DejaVuSans-69\" x=\"1352.253906\"/>\n     <use xlink:href=\"#DejaVuSans-78\" x=\"1380.037109\"/>\n    </g>\n   </g>\n  </g>\n </g>\n <defs>\n  <clipPath id=\"pfcf4c91493\">\n   <rect x=\"78.528125\" y=\"24.14175\" width=\"332.64\" height=\"332.64\"/>\n  </clipPath>\n </defs>\n</svg>\n",
            "application/pdf": "[encoded data removed]"
          },
          "metadata": {}
        }
      ],
      "source": [
        "from sklearn.metrics import ConfusionMatrixDisplay, confusion_matrix\n",
        "\n",
        "def plot_confusion_matrix(y_preds, y_true, labels):\n",
        "    cm = confusion_matrix(y_true, y_preds, normalize=\"true\")\n",
        "    fig, ax = plt.subplots(figsize=(6, 6))\n",
        "    disp = ConfusionMatrixDisplay(confusion_matrix=cm, display_labels=labels)\n",
        "    disp.plot(cmap=\"Blues\", values_format=\".2f\", ax=ax, colorbar=False)\n",
        "    plt.title(\"Normalized confusion matrix\")\n",
        "    plt.show()\n",
        "\n",
        "y_preds = lr_clf.predict(X_valid)\n",
        "plot_confusion_matrix(y_preds, y_valid, labels)"
      ]
    },
    {
      "cell_type": "markdown",
      "metadata": {
        "id": "kKKoY7wsYHZq"
      },
      "source": [
        "We can see that `anger` and `fear` are most often confused with `sadness`, which agrees with the observation we made when visualizing the embeddings. Also, `love` and `surprise` are frequently mistaken for `joy`."
      ]
    },
    {
      "cell_type": "markdown",
      "metadata": {
        "id": "Va06uCGWYHZq"
      },
      "source": [
        "In the next section we will explore the fine-tuning approach, which leads to superior classification performance. It is, however, important to note that doing this requires more computational resources, such as GPUs, that might not be available in your organization. In cases like these, a feature-based approach can be a good compromise between doing traditional machine learning and deep learning."
      ]
    },
    {
      "cell_type": "markdown",
      "metadata": {
        "id": "9po3YY14YHZq"
      },
      "source": [
        "### Fine-Tuning Transformers"
      ]
    },
    {
      "cell_type": "markdown",
      "metadata": {
        "id": "BRMmvwPpYHZq"
      },
      "source": [
        "\n",
        "Let's now explore what it takes to fine-tune a transformer end-to-end. With the fine-tuning approach we do not use the hidden states as fixed features, but instead train them as shown in <<encoder-tuning>>. This requires the classification head to be differentiable, which is why this method usually uses a neural network for classification.\n",
        "\n",
        "<img alt=\"encoder-tuning\" caption=\"When using the fine-tuning approach the whole DistilBERT model is trained along with the classification head\" src=\"https://github.com/nlp-with-transformers/notebooks/blob/main/images/chapter02_encoder-fine-tuning.png?raw=1\" id=\"encoder-tuning\"/>"
      ]
    },
    {
      "cell_type": "markdown",
      "metadata": {
        "id": "6D83BrpcYHZr"
      },
      "source": [
        "Training the hidden states that serve as inputs to the classification model will help us avoid the problem of working with data that may not be well suited for the classification task. Instead, the initial hidden states adapt during training to decrease the model loss and thus increase its performance.\n",
        "\n",
        "We'll be using the `Trainer` API from image:images/logo.png[hf,13,13] Transformers to simplify the training loop. Let's look at the ingredients we need to set one up!"
      ]
    },
    {
      "cell_type": "markdown",
      "metadata": {
        "id": "22o5RmRGYHZr"
      },
      "source": [
        "#### Loading a pretrained model"
      ]
    },
    {
      "cell_type": "markdown",
      "metadata": {
        "id": "TG2KaelrYHZr"
      },
      "source": [
        "The first thing we need is a pretrained DistilBERT model like the one we used in the feature-based approach. The only slight modification is that we use the `AutoModelForSequenceClassification` model instead of `AutoModel`. The difference is that the `AutoModelForSequenceClassification` model has a classification head on top of the pretrained model outputs, which can be easily trained with the base model. We just need to specify how many labels the model has to predict (six in our case), since this dictates the number of outputs the classification head has:"
      ]
    },
    {
      "cell_type": "code",
      "execution_count": 64,
      "metadata": {
        "id": "U5AecdTvYHZr"
      },
      "outputs": [],
      "source": [
        "# hide_output\n",
        "from transformers import AutoModelForSequenceClassification\n",
        "\n",
        "num_labels = 6\n",
        "model = (AutoModelForSequenceClassification\n",
        "         .from_pretrained(model_ckpt, num_labels=num_labels)\n",
        "         .to(device))"
      ]
    },
    {
      "cell_type": "markdown",
      "metadata": {
        "id": "tMfv5H4MYHZr"
      },
      "source": [
        "You will see a warning that some parts of the model are randomly initialized. This is normal since the classification head has not yet been trained. The next step is to define the metrics that we'll use to evaluate our model's performance during fine-tuning."
      ]
    },
    {
      "cell_type": "markdown",
      "metadata": {
        "id": "GMZfOX4-YHZr"
      },
      "source": [
        "#### Defining the performance metrics"
      ]
    },
    {
      "cell_type": "markdown",
      "metadata": {
        "id": "i1DTcYEIYHZr"
      },
      "source": [
        "\n",
        "To monitor metrics during training, we need to define a `compute_metrics()` function for the `Trainer`.  This function receives an `EvalPrediction` object (which is a named tuple with `predictions` and `label_ids` attributes) and needs to return a dictionary that maps each metric's name to its value. For our application, we'll compute the $F_1$-score and the accuracy of the model as follows:"
      ]
    },
    {
      "cell_type": "code",
      "execution_count": 65,
      "metadata": {
        "id": "_hqulHJcYHZr"
      },
      "outputs": [],
      "source": [
        "from sklearn.metrics import accuracy_score, f1_score\n",
        "\n",
        "def compute_metrics(pred):\n",
        "    labels = pred.label_ids\n",
        "    preds = pred.predictions.argmax(-1)\n",
        "    f1 = f1_score(labels, preds, average=\"weighted\")\n",
        "    acc = accuracy_score(labels, preds)\n",
        "    return {\"accuracy\": acc, \"f1\": f1}"
      ]
    },
    {
      "cell_type": "markdown",
      "metadata": {
        "id": "MTdFE1SdYHZr"
      },
      "source": [
        "With the dataset and metrics ready, we just have two final things to take care of before we define the `Trainer` class:\n",
        "\n",
        "1. Log in to our account on the Hugging Face Hub. This will allow us to push our fine-tuned model to our account on the Hub and share it with the community.\n",
        "2. Define all the hyperparameters for the training run.\n",
        "\n",
        "We'll tackle these steps in the next section."
      ]
    },
    {
      "cell_type": "markdown",
      "metadata": {
        "id": "AGjz7aAyYHZs"
      },
      "source": [
        "#### Training the model"
      ]
    },
    {
      "cell_type": "markdown",
      "metadata": {
        "id": "uPneJkQ1YHZs"
      },
      "source": [
        "If you're running this code in a Jupyter notebook, you can log in to the Hub with the following helper function:"
      ]
    },
    {
      "cell_type": "code",
      "execution_count": 66,
      "metadata": {
        "id": "nYBCECLFYHZs",
        "colab": {
          "base_uri": "https://localhost:8080/",
          "height": 145,
          "referenced_widgets": [
            "163ba9dd12fc46969f90db2076def77e",
            "ba519769d365428986196daa90a4ef54",
            "e79782cf70274fef8033b167d9bc9feb",
            "19e96711d3e64978a867e5e46855a164",
            "2304a2588e554ca8ab7ca242151a927f",
            "57b3b01bc51a473d9bcf7dca68eb3e9a",
            "1e63e41d982b452c8ac2e075cf982ebc",
            "02c9fd1b32df4228b09e8712b2ce2358",
            "6668e16697b14a44ae03cb3651ff4541",
            "63e350408ee947618cca4793de2929b5",
            "778e7088c116408594680dfce3d0f75d",
            "4971648ad73241a7b60612fc70b6d0f5",
            "84bdf65138c04c9d805c3d8dbbf738c7",
            "b66809a8d5684d5da277fe85e1c489f5",
            "c1ef9dbe70df4270b39dce5951490f37",
            "0b7d0715fc68426fb1bdd3016f3080c2",
            "03a81eeedea14bc58a86a5064dd9449e",
            "cad1e148ed634c668bf2d3a332e63b6a",
            "ec1775b6dcda44b28e97cf4aeb502209",
            "eaf5a40a01494fa39b181e28ac6726bc",
            "9a97694450ac4f46ab92002eee1f9d75",
            "0802acd4ff1a46cea82a9410c559104d",
            "0857559152bf471d89b3704071750679",
            "bd592a3c9b6a43bf81883261a97cb0fe",
            "e13a776529984fd3bc794177af7c1cb5",
            "fa8cc67754c3485298f3d0756a9e759a",
            "7afc0dac1a5d498a8c17833c637fd85a",
            "40dd1380f066491887c073a6846b88cd",
            "063f629c09444fe88ddb190894e9cd53",
            "1150af252e0f40ea92cba85b7a0f67e3",
            "b8c2140bdb0b4c608a966c1d0b51e371",
            "41e686cd26e64e3790f5aad1653f4833"
          ]
        },
        "outputId": "3e0d80ef-4457-4aa3-a265-7a22472a3b45"
      },
      "outputs": [
        {
          "output_type": "display_data",
          "data": {
            "text/plain": [
              "VBox(children=(HTML(value='<center> <img\\nsrc=https://huggingface.co/front/assets/huggingface_logo-noborder.sv…"
            ],
            "application/vnd.jupyter.widget-view+json": {
              "version_major": 2,
              "version_minor": 0,
              "model_id": "163ba9dd12fc46969f90db2076def77e"
            }
          },
          "metadata": {}
        }
      ],
      "source": [
        "from huggingface_hub import notebook_login\n",
        "\n",
        "notebook_login()"
      ]
    },
    {
      "cell_type": "markdown",
      "metadata": {
        "id": "TlStxwfxYHZs"
      },
      "source": [
        "This will display a widget in which you can enter your username and password, or an access token with write privileges. You can find details on how to create access tokens in the [Hub documentation](https://huggingface.co/docs/hub/security#user-access-tokens). If you're working in the terminal, you can log in by running the following command:\n",
        "\n",
        "```bash\n",
        "$ huggingface-cli login\n",
        "```"
      ]
    },
    {
      "cell_type": "markdown",
      "metadata": {
        "id": "qDmGzJZ_YHZs"
      },
      "source": [
        "To define the training parameters, we use the `TrainingArguments` class. This class stores a lot of information and gives you fine-grained control over the training and evaluation. The most important argument to specify is `output_dir`, which is where all the artifacts from training are stored. Here is an example of `TrainingArguments` in all its glory:"
      ]
    },
    {
      "cell_type": "code",
      "execution_count": 67,
      "metadata": {
        "id": "5oSMsAUGYHZs",
        "outputId": "dd06ee8a-fc6f-428f-b6e3-a2d3e723f30e",
        "colab": {
          "base_uri": "https://localhost:8080/"
        }
      },
      "outputs": [
        {
          "output_type": "stream",
          "name": "stderr",
          "text": [
            "/usr/local/lib/python3.10/dist-packages/transformers/training_args.py:1474: FutureWarning: `evaluation_strategy` is deprecated and will be removed in version 4.46 of 🤗 Transformers. Use `eval_strategy` instead\n",
            "  warnings.warn(\n"
          ]
        }
      ],
      "source": [
        "from transformers import Trainer, TrainingArguments\n",
        "\n",
        "batch_size = 64\n",
        "logging_steps = len(emotions_encoded[\"train\"]) // batch_size\n",
        "model_name = f\"{model_ckpt}-finetuned-emotion\"\n",
        "training_args = TrainingArguments(output_dir=model_name,\n",
        "                                  num_train_epochs=2,\n",
        "                                  learning_rate=2e-5,\n",
        "                                  per_device_train_batch_size=batch_size,\n",
        "                                  per_device_eval_batch_size=batch_size,\n",
        "                                  weight_decay=0.01,\n",
        "                                  evaluation_strategy=\"epoch\",\n",
        "                                  disable_tqdm=False,\n",
        "                                  logging_steps=logging_steps,\n",
        "                                  push_to_hub=True,\n",
        "                                  log_level=\"error\")"
      ]
    },
    {
      "cell_type": "markdown",
      "metadata": {
        "id": "M6Avn1tUYHZs"
      },
      "source": [
        "Here we also set the batch size, learning rate, and number of epochs, and specify to load the best model at the end of the training run. With this final ingredient, we can instantiate and fine-tune our model with the `Trainer`:"
      ]
    },
    {
      "cell_type": "code",
      "execution_count": null,
      "metadata": {
        "id": "IPab78EjYHZt",
        "outputId": "e9fe6040-b264-4f69-9744-b30939baadb2",
        "colab": {
          "base_uri": "https://localhost:8080/",
          "height": 75
        }
      },
      "outputs": [
        {
          "output_type": "display_data",
          "data": {
            "text/plain": [
              "<IPython.core.display.HTML object>"
            ],
            "text/html": [
              "\n",
              "    <div>\n",
              "      \n",
              "      <progress value='196' max='500' style='width:300px; height:20px; vertical-align: middle;'></progress>\n",
              "      [196/500 01:31 < 02:23, 2.12 it/s, Epoch 0.78/2]\n",
              "    </div>\n",
              "    <table border=\"1\" class=\"dataframe\">\n",
              "  <thead>\n",
              " <tr style=\"text-align: left;\">\n",
              "      <th>Epoch</th>\n",
              "      <th>Training Loss</th>\n",
              "      <th>Validation Loss</th>\n",
              "    </tr>\n",
              "  </thead>\n",
              "  <tbody>\n",
              "  </tbody>\n",
              "</table><p>"
            ]
          },
          "metadata": {}
        }
      ],
      "source": [
        "from transformers import Trainer\n",
        "\n",
        "trainer = Trainer(model=model, args=training_args,\n",
        "                  compute_metrics=compute_metrics,\n",
        "                  train_dataset=emotions_encoded[\"train\"],\n",
        "                  eval_dataset=emotions_encoded[\"validation\"],\n",
        "                  tokenizer=tokenizer)\n",
        "trainer.train();"
      ]
    },
    {
      "cell_type": "markdown",
      "metadata": {
        "id": "FVTp7EMlYHZt"
      },
      "source": [
        "Looking at the logs, we can see that our model has an $F_1$-score on the validation set of around 92% - this is a significant improvement over the feature-based approach!\n",
        "\n",
        "We can take a more detailed look at the training metrics by calculating the confusion matrix. To visualize the confusion matrix, we first need to get the predictions on the validation set. The `predict()` method of the `Trainer` class returns several useful objects we can use for evaluation:"
      ]
    },
    {
      "cell_type": "code",
      "execution_count": null,
      "metadata": {
        "id": "80C4Ag8BYHZt"
      },
      "outputs": [],
      "source": [
        "# hide_output\n",
        "preds_output = trainer.predict(emotions_encoded[\"validation\"])"
      ]
    },
    {
      "cell_type": "markdown",
      "metadata": {
        "id": "zLyiD7mcYHZt"
      },
      "source": [
        "The output of the `predict()` method is a `PredictionOutput` object that contains arrays of `predictions` and `label_ids`, along with the metrics we passed to the trainer. For example, the metrics on the validation set can be accessed as follows:"
      ]
    },
    {
      "cell_type": "code",
      "execution_count": null,
      "metadata": {
        "id": "2iYMm8hDYHZt"
      },
      "outputs": [],
      "source": [
        "preds_output.metrics"
      ]
    },
    {
      "cell_type": "markdown",
      "metadata": {
        "id": "Uyr0k7NVYHZt"
      },
      "source": [
        "It also contains the raw predictions for each class. We can decode the predictions greedily using `np.argmax()`. This yields the predicted labels and has the same format as the labels returned by the Scikit-Learn models in the feature-based approach:"
      ]
    },
    {
      "cell_type": "code",
      "execution_count": null,
      "metadata": {
        "id": "I5HTrSmqYHZt"
      },
      "outputs": [],
      "source": [
        "y_preds = np.argmax(preds_output.predictions, axis=1)"
      ]
    },
    {
      "cell_type": "markdown",
      "metadata": {
        "id": "woGFjc1DYHZu"
      },
      "source": [
        "With the predictions, we can plot the confusion matrix again:"
      ]
    },
    {
      "cell_type": "code",
      "execution_count": null,
      "metadata": {
        "id": "YkWeB5huYHZu"
      },
      "outputs": [],
      "source": [
        "plot_confusion_matrix(y_preds, y_valid, labels)"
      ]
    },
    {
      "cell_type": "markdown",
      "metadata": {
        "id": "JZraZ1WUYHZu"
      },
      "source": [
        "This is much closer to the ideal diagonal confusion matrix.  The `love` category is still often confused with `joy`, which seems natural. `surprise` is also frequently mistaken for `joy`, or confused with `fear`. Overall the performance of the model seems quite good, but before we call it a day, let's dive a little deeper into the types of errors our model is likely to make."
      ]
    },
    {
      "cell_type": "markdown",
      "metadata": {
        "id": "Qvjzbgd6YHZv"
      },
      "source": [
        "#### Error analysis"
      ]
    },
    {
      "cell_type": "markdown",
      "metadata": {
        "id": "5Jgyp_KBYHZv"
      },
      "source": [
        "Before moving on, we should investigate our model's predictions a little bit further. A simple yet powerful technique is to sort the validation samples by the model loss. When we pass the label during the forward pass, the loss is automatically calculated and returned. Here's a function that returns the loss along with the predicted label:"
      ]
    },
    {
      "cell_type": "code",
      "execution_count": null,
      "metadata": {
        "id": "xJqOAUS9YHZv"
      },
      "outputs": [],
      "source": [
        "from torch.nn.functional import cross_entropy\n",
        "\n",
        "def forward_pass_with_label(batch):\n",
        "    # Place all input tensors on the same device as the model\n",
        "    inputs = {k:v.to(device) for k,v in batch.items()\n",
        "              if k in tokenizer.model_input_names}\n",
        "\n",
        "    with torch.no_grad():\n",
        "        output = model(**inputs)\n",
        "        pred_label = torch.argmax(output.logits, axis=-1)\n",
        "        loss = cross_entropy(output.logits, batch[\"label\"].to(device),\n",
        "                             reduction=\"none\")\n",
        "\n",
        "    # Place outputs on CPU for compatibility with other dataset columns\n",
        "    return {\"loss\": loss.cpu().numpy(),\n",
        "            \"predicted_label\": pred_label.cpu().numpy()}"
      ]
    },
    {
      "cell_type": "markdown",
      "metadata": {
        "id": "glNWB28pYHZv"
      },
      "source": [
        "Using the `map()` method once more, we can apply this function to get the losses for all the samples:"
      ]
    },
    {
      "cell_type": "code",
      "execution_count": null,
      "metadata": {
        "id": "Aer9Mt7nYHZw"
      },
      "outputs": [],
      "source": [
        "#hide_output\n",
        "# Convert our dataset back to PyTorch tensors\n",
        "emotions_encoded.set_format(\"torch\",\n",
        "                            columns=[\"input_ids\", \"attention_mask\", \"label\"])\n",
        "# Compute loss values\n",
        "emotions_encoded[\"validation\"] = emotions_encoded[\"validation\"].map(\n",
        "    forward_pass_with_label, batched=True, batch_size=16)"
      ]
    },
    {
      "cell_type": "markdown",
      "metadata": {
        "id": "AvolYiFLYHZw"
      },
      "source": [
        "Finally, we create a `DataFrame` with the texts, losses, and predicted/true labels:"
      ]
    },
    {
      "cell_type": "code",
      "execution_count": null,
      "metadata": {
        "id": "5x1aGi-qYHZw"
      },
      "outputs": [],
      "source": [
        "emotions_encoded.set_format(\"pandas\")\n",
        "cols = [\"text\", \"label\", \"predicted_label\", \"loss\"]\n",
        "df_test = emotions_encoded[\"validation\"][:][cols]\n",
        "df_test[\"label\"] = df_test[\"label\"].apply(label_int2str)\n",
        "df_test[\"predicted_label\"] = (df_test[\"predicted_label\"]\n",
        "                              .apply(label_int2str))"
      ]
    },
    {
      "cell_type": "markdown",
      "metadata": {
        "id": "fGLpjMX_YHZw"
      },
      "source": [
        "We can now easily sort `emotions_encoded` by the losses in either ascending or descending order. The goal of this exercise is to detect one of the following:\n",
        "\n",
        "- _Wrong labels_:: Every process that adds labels to data can be flawed. Annotators can make mistakes or disagree, while labels that are inferred from other features can be wrong. If it was easy to automatically annotate data, then we would not need a model to do it. Thus, it is normal that there are some wrongly labeled examples. With this approach, we can quickly find and correct them.\n",
        "\n",
        "- _Quirks of the dataset_:: Datasets in the real world are always a bit messy. When working with text, special characters or strings in the inputs can have a big impact on the model's predictions. Inspecting the model's weakest predictions can help identify such features, and cleaning the data or injecting similar examples can make the model more robust.\n",
        "\n",
        "Let's first have a look at the data samples with the highest losses:"
      ]
    },
    {
      "cell_type": "code",
      "execution_count": null,
      "metadata": {
        "id": "Fz4mrCWYYHZw"
      },
      "outputs": [],
      "source": [
        "#hide_output\n",
        "df_test.sort_values(\"loss\", ascending=False).head(10)"
      ]
    },
    {
      "cell_type": "markdown",
      "metadata": {
        "id": "APgmhdPhYHZw"
      },
      "source": [
        "We can clearly see that the model predicted some of the labels incorrectly. On the other hand, it seems that there are quite a few examples with no clear class, which might be either mislabeled or require a new class altogether. In particular, `joy` seems to be mislabeled several times. With this information we can refine the dataset, which often can lead to as big a performance gain (or more) as having more data or larger models!"
      ]
    },
    {
      "cell_type": "markdown",
      "metadata": {
        "id": "4ByyDxi1YHZw"
      },
      "source": [
        "When looking at the samples with the lowest losses, we observe that the model seems to be most confident when predicting the `sadness` class. Deep learning models are exceptionally good at finding and exploiting shortcuts to get to a prediction. For this reason, it is also worth investing time into looking at the examples that the model is most confident about, so that we can be confident that the model does not improperly exploit certain features of the text. So, let's also look at the predictions with the smallest loss:"
      ]
    },
    {
      "cell_type": "code",
      "execution_count": null,
      "metadata": {
        "id": "5xDbm5LmYHZw"
      },
      "outputs": [],
      "source": [
        "#hide_output\n",
        "df_test.sort_values(\"loss\", ascending=True).head(10)"
      ]
    },
    {
      "cell_type": "markdown",
      "metadata": {
        "id": "xcaRCEBkYHZx"
      },
      "source": [
        "We now know that the `joy` is sometimes mislabeled and that the model is most confident about predicting the label `sadness`. With this information we can make targeted improvements to our dataset, and also keep an eye on the class the model seems to be very confident about.\n",
        "\n",
        "The last step before serving the trained model is to save it for later usage. image:images/logo.png[hf,13,13] Transformers allows us to do this in a few steps, which we'll show you in the next section."
      ]
    },
    {
      "cell_type": "markdown",
      "metadata": {
        "id": "Vy6o5jWFYHZx"
      },
      "source": [
        "#### Saving and sharing the model"
      ]
    },
    {
      "cell_type": "markdown",
      "metadata": {
        "id": "glNUBTRyYHZx"
      },
      "source": [
        "\n",
        "The NLP community benefits greatly from sharing pretrained and fine-tuned models, and everybody can share their models with others via the Hugging Face Hub. Any community-generated model can be downloaded from the Hub just like we downloaded the DistilBERT model. With the `Trainer` API, saving and sharing a model is simple:"
      ]
    },
    {
      "cell_type": "code",
      "execution_count": null,
      "metadata": {
        "id": "LYKoiSDZYHZx"
      },
      "outputs": [],
      "source": [
        "#hide_output\n",
        "trainer.push_to_hub(commit_message=\"Training completed!\")"
      ]
    },
    {
      "cell_type": "markdown",
      "metadata": {
        "id": "YNYIHvRCYHZx"
      },
      "source": [
        "We can also use the fine-tuned model to make predictions on new tweets. Since we've pushed our model to the Hub, we can now use it with the `pipeline()` function, just like we did in <<chapter_introduction>>. First, let's load the pipeline:"
      ]
    },
    {
      "cell_type": "code",
      "execution_count": null,
      "metadata": {
        "id": "e5gEijHAYHZx"
      },
      "outputs": [],
      "source": [
        "#hide_output\n",
        "from transformers import pipeline\n",
        "\n",
        "# Change `transformersbook` to your Hub username\n",
        "model_id = \"transformersbook/distilbert-base-uncased-finetuned-emotion\"\n",
        "classifier = pipeline(\"text-classification\", model=model_id)"
      ]
    },
    {
      "cell_type": "markdown",
      "metadata": {
        "id": "6aIlu2EdYHZx"
      },
      "source": [
        "Then let's test the pipeline with a sample tweet:"
      ]
    },
    {
      "cell_type": "code",
      "execution_count": null,
      "metadata": {
        "id": "jzh8kfqFYHZx"
      },
      "outputs": [],
      "source": [
        "custom_tweet = \"What the hell!\"\n",
        "preds = classifier(custom_tweet, return_all_scores=True)"
      ]
    },
    {
      "cell_type": "markdown",
      "metadata": {
        "id": "Ju2dYxiAYHZy"
      },
      "source": [
        "Finally, we can plot the probability for each class in a bar plot. Clearly, the model estimates that the most likely class is `joy`, which appears to be reasonable given the tweet:"
      ]
    },
    {
      "cell_type": "code",
      "execution_count": null,
      "metadata": {
        "id": "JFuVj6ZtYHZy"
      },
      "outputs": [],
      "source": [
        "preds_df = pd.DataFrame(preds[0])\n",
        "plt.bar(labels, 100 * preds_df[\"score\"], color='C0')\n",
        "plt.title(f'\"{custom_tweet}\"')\n",
        "plt.ylabel(\"Class probability (%)\")\n",
        "plt.show()"
      ]
    },
    {
      "cell_type": "markdown",
      "metadata": {
        "id": "m3yCdQ0XYHZy"
      },
      "source": [
        "## Conclusion"
      ]
    },
    {
      "cell_type": "markdown",
      "metadata": {
        "id": "HwIlUvGUYHZy"
      },
      "source": [
        "Congratulations, you now know how to train a transformer model to classify the emotions in tweets! We have seen two complementary approaches based on features and fine-tuning, and investigated their strengths and weaknesses.\n",
        "\n",
        "However, this is just the first step in building a real-world application with transformer models, and we have a lot more ground to cover. Here's a list of challenges you're likely to experience in your NLP journey:\n",
        "\n",
        "My boss wants my model in production yesterday!::\n",
        "In most applications, your model doesn't just sit somewhere gathering dust - you want to make sure it's serving predictions! When a model is pushed to the Hub, an inference endpoint is automatically created that can be called with HTTP requests. We recommend checking out the [documentation](https://api-inference.huggingface.co/docs/python/html/index.html) of the Inference API if you want to learn more.\n",
        "\n",
        "My users want faster predictions!::\n",
        "We've already seen one approach to this problem: using DistilBERT. In <<chapter_compression>> we'll dive into knowledge distillation (the process by which DistilBERT was created), along with other tricks to speed up your transformer models.\n",
        "\n",
        "\n",
        "Can your model also do X?::\n",
        "As we've alluded to in this chapter, transformers are extremely versatile. In the rest of the book we will be exploring a range of tasks, like question answering and named entity recognition, all using the same basic architecture.\n",
        "\n",
        "None of my texts are in English!::\n",
        "It turns out that transformers also come in a multilingual variety, and we'll use them in <<chapter_ner>> to tackle several languages at once.\n",
        "\n",
        "I don't have any labels!::\n",
        "If there is very little labeled data available, fine-tuning may not be an option. In <<chapter_fewlabels>>, we'll explore some techniques to deal with this situation.\n",
        "\n",
        "Now that we've seen what's involved in training and sharing a transformer, in the next chapter we'll explore implementing our very own transformer model from scratch."
      ]
    }
  ],
  "metadata": {
    "kernelspec": {
      "display_name": "book",
      "language": "python",
      "name": "python3"
    },
    "colab": {
      "provenance": [],
      "gpuType": "T4",
      "include_colab_link": true
    },
    "accelerator": "GPU",
    "gpuClass": "standard",
    "widgets": {
      "application/vnd.jupyter.widget-state+json": {
        "d674d2dbdc88433e98739cb0fc5a2a6f": {
          "model_module": "@jupyter-widgets/controls",
          "model_name": "HBoxModel",
          "model_module_version": "1.5.0",
          "state": {
            "_dom_classes": [],
            "_model_module": "@jupyter-widgets/controls",
            "_model_module_version": "1.5.0",
            "_model_name": "HBoxModel",
            "_view_count": null,
            "_view_module": "@jupyter-widgets/controls",
            "_view_module_version": "1.5.0",
            "_view_name": "HBoxView",
            "box_style": "",
            "children": [
              "IPY_MODEL_72a535833d52421faebacb207dbbaa75",
              "IPY_MODEL_0b15b834eae140e78faf29220f5e4402",
              "IPY_MODEL_99d8d62f666242aaa484abc5b38086bf"
            ],
            "layout": "IPY_MODEL_83aadd5e3f974da4a25943d0147bcc03"
          }
        },
        "72a535833d52421faebacb207dbbaa75": {
          "model_module": "@jupyter-widgets/controls",
          "model_name": "HTMLModel",
          "model_module_version": "1.5.0",
          "state": {
            "_dom_classes": [],
            "_model_module": "@jupyter-widgets/controls",
            "_model_module_version": "1.5.0",
            "_model_name": "HTMLModel",
            "_view_count": null,
            "_view_module": "@jupyter-widgets/controls",
            "_view_module_version": "1.5.0",
            "_view_name": "HTMLView",
            "description": "",
            "description_tooltip": null,
            "layout": "IPY_MODEL_9a8f8b9490c546aaaa416f94ef3e8ca1",
            "placeholder": "​",
            "style": "IPY_MODEL_3064c669b28c4c03bfb55b41751f02fd",
            "value": "Map: 100%"
          }
        },
        "0b15b834eae140e78faf29220f5e4402": {
          "model_module": "@jupyter-widgets/controls",
          "model_name": "FloatProgressModel",
          "model_module_version": "1.5.0",
          "state": {
            "_dom_classes": [],
            "_model_module": "@jupyter-widgets/controls",
            "_model_module_version": "1.5.0",
            "_model_name": "FloatProgressModel",
            "_view_count": null,
            "_view_module": "@jupyter-widgets/controls",
            "_view_module_version": "1.5.0",
            "_view_name": "ProgressView",
            "bar_style": "success",
            "description": "",
            "description_tooltip": null,
            "layout": "IPY_MODEL_130920df59e543afbcd3d2c981f22426",
            "max": 16000,
            "min": 0,
            "orientation": "horizontal",
            "style": "IPY_MODEL_1a5d9d1334914c569831a3d9d82489bd",
            "value": 16000
          }
        },
        "99d8d62f666242aaa484abc5b38086bf": {
          "model_module": "@jupyter-widgets/controls",
          "model_name": "HTMLModel",
          "model_module_version": "1.5.0",
          "state": {
            "_dom_classes": [],
            "_model_module": "@jupyter-widgets/controls",
            "_model_module_version": "1.5.0",
            "_model_name": "HTMLModel",
            "_view_count": null,
            "_view_module": "@jupyter-widgets/controls",
            "_view_module_version": "1.5.0",
            "_view_name": "HTMLView",
            "description": "",
            "description_tooltip": null,
            "layout": "IPY_MODEL_cf867a9057c24100bd99bf9053f9bd39",
            "placeholder": "​",
            "style": "IPY_MODEL_d1fcdc696ba84e299c2f3b8b7578bcdd",
            "value": " 16000/16000 [00:36&lt;00:00, 423.35 examples/s]"
          }
        },
        "83aadd5e3f974da4a25943d0147bcc03": {
          "model_module": "@jupyter-widgets/base",
          "model_name": "LayoutModel",
          "model_module_version": "1.2.0",
          "state": {
            "_model_module": "@jupyter-widgets/base",
            "_model_module_version": "1.2.0",
            "_model_name": "LayoutModel",
            "_view_count": null,
            "_view_module": "@jupyter-widgets/base",
            "_view_module_version": "1.2.0",
            "_view_name": "LayoutView",
            "align_content": null,
            "align_items": null,
            "align_self": null,
            "border": null,
            "bottom": null,
            "display": null,
            "flex": null,
            "flex_flow": null,
            "grid_area": null,
            "grid_auto_columns": null,
            "grid_auto_flow": null,
            "grid_auto_rows": null,
            "grid_column": null,
            "grid_gap": null,
            "grid_row": null,
            "grid_template_areas": null,
            "grid_template_columns": null,
            "grid_template_rows": null,
            "height": null,
            "justify_content": null,
            "justify_items": null,
            "left": null,
            "margin": null,
            "max_height": null,
            "max_width": null,
            "min_height": null,
            "min_width": null,
            "object_fit": null,
            "object_position": null,
            "order": null,
            "overflow": null,
            "overflow_x": null,
            "overflow_y": null,
            "padding": null,
            "right": null,
            "top": null,
            "visibility": null,
            "width": null
          }
        },
        "9a8f8b9490c546aaaa416f94ef3e8ca1": {
          "model_module": "@jupyter-widgets/base",
          "model_name": "LayoutModel",
          "model_module_version": "1.2.0",
          "state": {
            "_model_module": "@jupyter-widgets/base",
            "_model_module_version": "1.2.0",
            "_model_name": "LayoutModel",
            "_view_count": null,
            "_view_module": "@jupyter-widgets/base",
            "_view_module_version": "1.2.0",
            "_view_name": "LayoutView",
            "align_content": null,
            "align_items": null,
            "align_self": null,
            "border": null,
            "bottom": null,
            "display": null,
            "flex": null,
            "flex_flow": null,
            "grid_area": null,
            "grid_auto_columns": null,
            "grid_auto_flow": null,
            "grid_auto_rows": null,
            "grid_column": null,
            "grid_gap": null,
            "grid_row": null,
            "grid_template_areas": null,
            "grid_template_columns": null,
            "grid_template_rows": null,
            "height": null,
            "justify_content": null,
            "justify_items": null,
            "left": null,
            "margin": null,
            "max_height": null,
            "max_width": null,
            "min_height": null,
            "min_width": null,
            "object_fit": null,
            "object_position": null,
            "order": null,
            "overflow": null,
            "overflow_x": null,
            "overflow_y": null,
            "padding": null,
            "right": null,
            "top": null,
            "visibility": null,
            "width": null
          }
        },
        "3064c669b28c4c03bfb55b41751f02fd": {
          "model_module": "@jupyter-widgets/controls",
          "model_name": "DescriptionStyleModel",
          "model_module_version": "1.5.0",
          "state": {
            "_model_module": "@jupyter-widgets/controls",
            "_model_module_version": "1.5.0",
            "_model_name": "DescriptionStyleModel",
            "_view_count": null,
            "_view_module": "@jupyter-widgets/base",
            "_view_module_version": "1.2.0",
            "_view_name": "StyleView",
            "description_width": ""
          }
        },
        "130920df59e543afbcd3d2c981f22426": {
          "model_module": "@jupyter-widgets/base",
          "model_name": "LayoutModel",
          "model_module_version": "1.2.0",
          "state": {
            "_model_module": "@jupyter-widgets/base",
            "_model_module_version": "1.2.0",
            "_model_name": "LayoutModel",
            "_view_count": null,
            "_view_module": "@jupyter-widgets/base",
            "_view_module_version": "1.2.0",
            "_view_name": "LayoutView",
            "align_content": null,
            "align_items": null,
            "align_self": null,
            "border": null,
            "bottom": null,
            "display": null,
            "flex": null,
            "flex_flow": null,
            "grid_area": null,
            "grid_auto_columns": null,
            "grid_auto_flow": null,
            "grid_auto_rows": null,
            "grid_column": null,
            "grid_gap": null,
            "grid_row": null,
            "grid_template_areas": null,
            "grid_template_columns": null,
            "grid_template_rows": null,
            "height": null,
            "justify_content": null,
            "justify_items": null,
            "left": null,
            "margin": null,
            "max_height": null,
            "max_width": null,
            "min_height": null,
            "min_width": null,
            "object_fit": null,
            "object_position": null,
            "order": null,
            "overflow": null,
            "overflow_x": null,
            "overflow_y": null,
            "padding": null,
            "right": null,
            "top": null,
            "visibility": null,
            "width": null
          }
        },
        "1a5d9d1334914c569831a3d9d82489bd": {
          "model_module": "@jupyter-widgets/controls",
          "model_name": "ProgressStyleModel",
          "model_module_version": "1.5.0",
          "state": {
            "_model_module": "@jupyter-widgets/controls",
            "_model_module_version": "1.5.0",
            "_model_name": "ProgressStyleModel",
            "_view_count": null,
            "_view_module": "@jupyter-widgets/base",
            "_view_module_version": "1.2.0",
            "_view_name": "StyleView",
            "bar_color": null,
            "description_width": ""
          }
        },
        "cf867a9057c24100bd99bf9053f9bd39": {
          "model_module": "@jupyter-widgets/base",
          "model_name": "LayoutModel",
          "model_module_version": "1.2.0",
          "state": {
            "_model_module": "@jupyter-widgets/base",
            "_model_module_version": "1.2.0",
            "_model_name": "LayoutModel",
            "_view_count": null,
            "_view_module": "@jupyter-widgets/base",
            "_view_module_version": "1.2.0",
            "_view_name": "LayoutView",
            "align_content": null,
            "align_items": null,
            "align_self": null,
            "border": null,
            "bottom": null,
            "display": null,
            "flex": null,
            "flex_flow": null,
            "grid_area": null,
            "grid_auto_columns": null,
            "grid_auto_flow": null,
            "grid_auto_rows": null,
            "grid_column": null,
            "grid_gap": null,
            "grid_row": null,
            "grid_template_areas": null,
            "grid_template_columns": null,
            "grid_template_rows": null,
            "height": null,
            "justify_content": null,
            "justify_items": null,
            "left": null,
            "margin": null,
            "max_height": null,
            "max_width": null,
            "min_height": null,
            "min_width": null,
            "object_fit": null,
            "object_position": null,
            "order": null,
            "overflow": null,
            "overflow_x": null,
            "overflow_y": null,
            "padding": null,
            "right": null,
            "top": null,
            "visibility": null,
            "width": null
          }
        },
        "d1fcdc696ba84e299c2f3b8b7578bcdd": {
          "model_module": "@jupyter-widgets/controls",
          "model_name": "DescriptionStyleModel",
          "model_module_version": "1.5.0",
          "state": {
            "_model_module": "@jupyter-widgets/controls",
            "_model_module_version": "1.5.0",
            "_model_name": "DescriptionStyleModel",
            "_view_count": null,
            "_view_module": "@jupyter-widgets/base",
            "_view_module_version": "1.2.0",
            "_view_name": "StyleView",
            "description_width": ""
          }
        },
        "bc39b4c704b64a798dbdfbfc2b3bcbae": {
          "model_module": "@jupyter-widgets/controls",
          "model_name": "HBoxModel",
          "model_module_version": "1.5.0",
          "state": {
            "_dom_classes": [],
            "_model_module": "@jupyter-widgets/controls",
            "_model_module_version": "1.5.0",
            "_model_name": "HBoxModel",
            "_view_count": null,
            "_view_module": "@jupyter-widgets/controls",
            "_view_module_version": "1.5.0",
            "_view_name": "HBoxView",
            "box_style": "",
            "children": [
              "IPY_MODEL_8eb00a58a2ee4789b23bb79c8fd3ef65",
              "IPY_MODEL_fd289563b42b4f3f95a5dd5be6edc534",
              "IPY_MODEL_c5354afdbbca496da70907a65bb4d8be"
            ],
            "layout": "IPY_MODEL_d3dab9f378044a0389e82d6a30366c37"
          }
        },
        "8eb00a58a2ee4789b23bb79c8fd3ef65": {
          "model_module": "@jupyter-widgets/controls",
          "model_name": "HTMLModel",
          "model_module_version": "1.5.0",
          "state": {
            "_dom_classes": [],
            "_model_module": "@jupyter-widgets/controls",
            "_model_module_version": "1.5.0",
            "_model_name": "HTMLModel",
            "_view_count": null,
            "_view_module": "@jupyter-widgets/controls",
            "_view_module_version": "1.5.0",
            "_view_name": "HTMLView",
            "description": "",
            "description_tooltip": null,
            "layout": "IPY_MODEL_6be5b30f999c4360bac414079531b9d3",
            "placeholder": "​",
            "style": "IPY_MODEL_f4c7fbaa3eca42ff92c086872c5deb2c",
            "value": "Map: 100%"
          }
        },
        "fd289563b42b4f3f95a5dd5be6edc534": {
          "model_module": "@jupyter-widgets/controls",
          "model_name": "FloatProgressModel",
          "model_module_version": "1.5.0",
          "state": {
            "_dom_classes": [],
            "_model_module": "@jupyter-widgets/controls",
            "_model_module_version": "1.5.0",
            "_model_name": "FloatProgressModel",
            "_view_count": null,
            "_view_module": "@jupyter-widgets/controls",
            "_view_module_version": "1.5.0",
            "_view_name": "ProgressView",
            "bar_style": "success",
            "description": "",
            "description_tooltip": null,
            "layout": "IPY_MODEL_f5e0880df5024776a49e4aa73c31553f",
            "max": 2000,
            "min": 0,
            "orientation": "horizontal",
            "style": "IPY_MODEL_4e4f143f797c4f94a0d09a5ea6f6076e",
            "value": 2000
          }
        },
        "c5354afdbbca496da70907a65bb4d8be": {
          "model_module": "@jupyter-widgets/controls",
          "model_name": "HTMLModel",
          "model_module_version": "1.5.0",
          "state": {
            "_dom_classes": [],
            "_model_module": "@jupyter-widgets/controls",
            "_model_module_version": "1.5.0",
            "_model_name": "HTMLModel",
            "_view_count": null,
            "_view_module": "@jupyter-widgets/controls",
            "_view_module_version": "1.5.0",
            "_view_name": "HTMLView",
            "description": "",
            "description_tooltip": null,
            "layout": "IPY_MODEL_ad911132b52f40048eb087db06e920cf",
            "placeholder": "​",
            "style": "IPY_MODEL_e008e88b5e5a4f74a983f872a90a6bfe",
            "value": " 2000/2000 [00:03&lt;00:00, 523.74 examples/s]"
          }
        },
        "d3dab9f378044a0389e82d6a30366c37": {
          "model_module": "@jupyter-widgets/base",
          "model_name": "LayoutModel",
          "model_module_version": "1.2.0",
          "state": {
            "_model_module": "@jupyter-widgets/base",
            "_model_module_version": "1.2.0",
            "_model_name": "LayoutModel",
            "_view_count": null,
            "_view_module": "@jupyter-widgets/base",
            "_view_module_version": "1.2.0",
            "_view_name": "LayoutView",
            "align_content": null,
            "align_items": null,
            "align_self": null,
            "border": null,
            "bottom": null,
            "display": null,
            "flex": null,
            "flex_flow": null,
            "grid_area": null,
            "grid_auto_columns": null,
            "grid_auto_flow": null,
            "grid_auto_rows": null,
            "grid_column": null,
            "grid_gap": null,
            "grid_row": null,
            "grid_template_areas": null,
            "grid_template_columns": null,
            "grid_template_rows": null,
            "height": null,
            "justify_content": null,
            "justify_items": null,
            "left": null,
            "margin": null,
            "max_height": null,
            "max_width": null,
            "min_height": null,
            "min_width": null,
            "object_fit": null,
            "object_position": null,
            "order": null,
            "overflow": null,
            "overflow_x": null,
            "overflow_y": null,
            "padding": null,
            "right": null,
            "top": null,
            "visibility": null,
            "width": null
          }
        },
        "6be5b30f999c4360bac414079531b9d3": {
          "model_module": "@jupyter-widgets/base",
          "model_name": "LayoutModel",
          "model_module_version": "1.2.0",
          "state": {
            "_model_module": "@jupyter-widgets/base",
            "_model_module_version": "1.2.0",
            "_model_name": "LayoutModel",
            "_view_count": null,
            "_view_module": "@jupyter-widgets/base",
            "_view_module_version": "1.2.0",
            "_view_name": "LayoutView",
            "align_content": null,
            "align_items": null,
            "align_self": null,
            "border": null,
            "bottom": null,
            "display": null,
            "flex": null,
            "flex_flow": null,
            "grid_area": null,
            "grid_auto_columns": null,
            "grid_auto_flow": null,
            "grid_auto_rows": null,
            "grid_column": null,
            "grid_gap": null,
            "grid_row": null,
            "grid_template_areas": null,
            "grid_template_columns": null,
            "grid_template_rows": null,
            "height": null,
            "justify_content": null,
            "justify_items": null,
            "left": null,
            "margin": null,
            "max_height": null,
            "max_width": null,
            "min_height": null,
            "min_width": null,
            "object_fit": null,
            "object_position": null,
            "order": null,
            "overflow": null,
            "overflow_x": null,
            "overflow_y": null,
            "padding": null,
            "right": null,
            "top": null,
            "visibility": null,
            "width": null
          }
        },
        "f4c7fbaa3eca42ff92c086872c5deb2c": {
          "model_module": "@jupyter-widgets/controls",
          "model_name": "DescriptionStyleModel",
          "model_module_version": "1.5.0",
          "state": {
            "_model_module": "@jupyter-widgets/controls",
            "_model_module_version": "1.5.0",
            "_model_name": "DescriptionStyleModel",
            "_view_count": null,
            "_view_module": "@jupyter-widgets/base",
            "_view_module_version": "1.2.0",
            "_view_name": "StyleView",
            "description_width": ""
          }
        },
        "f5e0880df5024776a49e4aa73c31553f": {
          "model_module": "@jupyter-widgets/base",
          "model_name": "LayoutModel",
          "model_module_version": "1.2.0",
          "state": {
            "_model_module": "@jupyter-widgets/base",
            "_model_module_version": "1.2.0",
            "_model_name": "LayoutModel",
            "_view_count": null,
            "_view_module": "@jupyter-widgets/base",
            "_view_module_version": "1.2.0",
            "_view_name": "LayoutView",
            "align_content": null,
            "align_items": null,
            "align_self": null,
            "border": null,
            "bottom": null,
            "display": null,
            "flex": null,
            "flex_flow": null,
            "grid_area": null,
            "grid_auto_columns": null,
            "grid_auto_flow": null,
            "grid_auto_rows": null,
            "grid_column": null,
            "grid_gap": null,
            "grid_row": null,
            "grid_template_areas": null,
            "grid_template_columns": null,
            "grid_template_rows": null,
            "height": null,
            "justify_content": null,
            "justify_items": null,
            "left": null,
            "margin": null,
            "max_height": null,
            "max_width": null,
            "min_height": null,
            "min_width": null,
            "object_fit": null,
            "object_position": null,
            "order": null,
            "overflow": null,
            "overflow_x": null,
            "overflow_y": null,
            "padding": null,
            "right": null,
            "top": null,
            "visibility": null,
            "width": null
          }
        },
        "4e4f143f797c4f94a0d09a5ea6f6076e": {
          "model_module": "@jupyter-widgets/controls",
          "model_name": "ProgressStyleModel",
          "model_module_version": "1.5.0",
          "state": {
            "_model_module": "@jupyter-widgets/controls",
            "_model_module_version": "1.5.0",
            "_model_name": "ProgressStyleModel",
            "_view_count": null,
            "_view_module": "@jupyter-widgets/base",
            "_view_module_version": "1.2.0",
            "_view_name": "StyleView",
            "bar_color": null,
            "description_width": ""
          }
        },
        "ad911132b52f40048eb087db06e920cf": {
          "model_module": "@jupyter-widgets/base",
          "model_name": "LayoutModel",
          "model_module_version": "1.2.0",
          "state": {
            "_model_module": "@jupyter-widgets/base",
            "_model_module_version": "1.2.0",
            "_model_name": "LayoutModel",
            "_view_count": null,
            "_view_module": "@jupyter-widgets/base",
            "_view_module_version": "1.2.0",
            "_view_name": "LayoutView",
            "align_content": null,
            "align_items": null,
            "align_self": null,
            "border": null,
            "bottom": null,
            "display": null,
            "flex": null,
            "flex_flow": null,
            "grid_area": null,
            "grid_auto_columns": null,
            "grid_auto_flow": null,
            "grid_auto_rows": null,
            "grid_column": null,
            "grid_gap": null,
            "grid_row": null,
            "grid_template_areas": null,
            "grid_template_columns": null,
            "grid_template_rows": null,
            "height": null,
            "justify_content": null,
            "justify_items": null,
            "left": null,
            "margin": null,
            "max_height": null,
            "max_width": null,
            "min_height": null,
            "min_width": null,
            "object_fit": null,
            "object_position": null,
            "order": null,
            "overflow": null,
            "overflow_x": null,
            "overflow_y": null,
            "padding": null,
            "right": null,
            "top": null,
            "visibility": null,
            "width": null
          }
        },
        "e008e88b5e5a4f74a983f872a90a6bfe": {
          "model_module": "@jupyter-widgets/controls",
          "model_name": "DescriptionStyleModel",
          "model_module_version": "1.5.0",
          "state": {
            "_model_module": "@jupyter-widgets/controls",
            "_model_module_version": "1.5.0",
            "_model_name": "DescriptionStyleModel",
            "_view_count": null,
            "_view_module": "@jupyter-widgets/base",
            "_view_module_version": "1.2.0",
            "_view_name": "StyleView",
            "description_width": ""
          }
        },
        "e2ed02dfe88d447a84f69124b2b57aec": {
          "model_module": "@jupyter-widgets/controls",
          "model_name": "HBoxModel",
          "model_module_version": "1.5.0",
          "state": {
            "_dom_classes": [],
            "_model_module": "@jupyter-widgets/controls",
            "_model_module_version": "1.5.0",
            "_model_name": "HBoxModel",
            "_view_count": null,
            "_view_module": "@jupyter-widgets/controls",
            "_view_module_version": "1.5.0",
            "_view_name": "HBoxView",
            "box_style": "",
            "children": [
              "IPY_MODEL_e03ee832de90437b969b7af201cd669a",
              "IPY_MODEL_fbead73977734afea79d9afc9b13a5b4",
              "IPY_MODEL_9a19103bfd814dd7bb6be56c44175893"
            ],
            "layout": "IPY_MODEL_6cc4857f95d54c7d8e916e7f518a896a"
          }
        },
        "e03ee832de90437b969b7af201cd669a": {
          "model_module": "@jupyter-widgets/controls",
          "model_name": "HTMLModel",
          "model_module_version": "1.5.0",
          "state": {
            "_dom_classes": [],
            "_model_module": "@jupyter-widgets/controls",
            "_model_module_version": "1.5.0",
            "_model_name": "HTMLModel",
            "_view_count": null,
            "_view_module": "@jupyter-widgets/controls",
            "_view_module_version": "1.5.0",
            "_view_name": "HTMLView",
            "description": "",
            "description_tooltip": null,
            "layout": "IPY_MODEL_68389f529ac241f4aa1fc95b808d3d5a",
            "placeholder": "​",
            "style": "IPY_MODEL_54fd0e03e8f846f5b098ed72838f6e8c",
            "value": "Map: 100%"
          }
        },
        "fbead73977734afea79d9afc9b13a5b4": {
          "model_module": "@jupyter-widgets/controls",
          "model_name": "FloatProgressModel",
          "model_module_version": "1.5.0",
          "state": {
            "_dom_classes": [],
            "_model_module": "@jupyter-widgets/controls",
            "_model_module_version": "1.5.0",
            "_model_name": "FloatProgressModel",
            "_view_count": null,
            "_view_module": "@jupyter-widgets/controls",
            "_view_module_version": "1.5.0",
            "_view_name": "ProgressView",
            "bar_style": "success",
            "description": "",
            "description_tooltip": null,
            "layout": "IPY_MODEL_d26cb0e23f9e46d593d28938ad7b9201",
            "max": 2000,
            "min": 0,
            "orientation": "horizontal",
            "style": "IPY_MODEL_fc390c35aafb433dac9f708339a21e27",
            "value": 2000
          }
        },
        "9a19103bfd814dd7bb6be56c44175893": {
          "model_module": "@jupyter-widgets/controls",
          "model_name": "HTMLModel",
          "model_module_version": "1.5.0",
          "state": {
            "_dom_classes": [],
            "_model_module": "@jupyter-widgets/controls",
            "_model_module_version": "1.5.0",
            "_model_name": "HTMLModel",
            "_view_count": null,
            "_view_module": "@jupyter-widgets/controls",
            "_view_module_version": "1.5.0",
            "_view_name": "HTMLView",
            "description": "",
            "description_tooltip": null,
            "layout": "IPY_MODEL_7e9283ce8dff4777b6a5741c28dc93d2",
            "placeholder": "​",
            "style": "IPY_MODEL_e168aad3cd35494090c9f27d5838c9e4",
            "value": " 2000/2000 [00:04&lt;00:00, 505.87 examples/s]"
          }
        },
        "6cc4857f95d54c7d8e916e7f518a896a": {
          "model_module": "@jupyter-widgets/base",
          "model_name": "LayoutModel",
          "model_module_version": "1.2.0",
          "state": {
            "_model_module": "@jupyter-widgets/base",
            "_model_module_version": "1.2.0",
            "_model_name": "LayoutModel",
            "_view_count": null,
            "_view_module": "@jupyter-widgets/base",
            "_view_module_version": "1.2.0",
            "_view_name": "LayoutView",
            "align_content": null,
            "align_items": null,
            "align_self": null,
            "border": null,
            "bottom": null,
            "display": null,
            "flex": null,
            "flex_flow": null,
            "grid_area": null,
            "grid_auto_columns": null,
            "grid_auto_flow": null,
            "grid_auto_rows": null,
            "grid_column": null,
            "grid_gap": null,
            "grid_row": null,
            "grid_template_areas": null,
            "grid_template_columns": null,
            "grid_template_rows": null,
            "height": null,
            "justify_content": null,
            "justify_items": null,
            "left": null,
            "margin": null,
            "max_height": null,
            "max_width": null,
            "min_height": null,
            "min_width": null,
            "object_fit": null,
            "object_position": null,
            "order": null,
            "overflow": null,
            "overflow_x": null,
            "overflow_y": null,
            "padding": null,
            "right": null,
            "top": null,
            "visibility": null,
            "width": null
          }
        },
        "68389f529ac241f4aa1fc95b808d3d5a": {
          "model_module": "@jupyter-widgets/base",
          "model_name": "LayoutModel",
          "model_module_version": "1.2.0",
          "state": {
            "_model_module": "@jupyter-widgets/base",
            "_model_module_version": "1.2.0",
            "_model_name": "LayoutModel",
            "_view_count": null,
            "_view_module": "@jupyter-widgets/base",
            "_view_module_version": "1.2.0",
            "_view_name": "LayoutView",
            "align_content": null,
            "align_items": null,
            "align_self": null,
            "border": null,
            "bottom": null,
            "display": null,
            "flex": null,
            "flex_flow": null,
            "grid_area": null,
            "grid_auto_columns": null,
            "grid_auto_flow": null,
            "grid_auto_rows": null,
            "grid_column": null,
            "grid_gap": null,
            "grid_row": null,
            "grid_template_areas": null,
            "grid_template_columns": null,
            "grid_template_rows": null,
            "height": null,
            "justify_content": null,
            "justify_items": null,
            "left": null,
            "margin": null,
            "max_height": null,
            "max_width": null,
            "min_height": null,
            "min_width": null,
            "object_fit": null,
            "object_position": null,
            "order": null,
            "overflow": null,
            "overflow_x": null,
            "overflow_y": null,
            "padding": null,
            "right": null,
            "top": null,
            "visibility": null,
            "width": null
          }
        },
        "54fd0e03e8f846f5b098ed72838f6e8c": {
          "model_module": "@jupyter-widgets/controls",
          "model_name": "DescriptionStyleModel",
          "model_module_version": "1.5.0",
          "state": {
            "_model_module": "@jupyter-widgets/controls",
            "_model_module_version": "1.5.0",
            "_model_name": "DescriptionStyleModel",
            "_view_count": null,
            "_view_module": "@jupyter-widgets/base",
            "_view_module_version": "1.2.0",
            "_view_name": "StyleView",
            "description_width": ""
          }
        },
        "d26cb0e23f9e46d593d28938ad7b9201": {
          "model_module": "@jupyter-widgets/base",
          "model_name": "LayoutModel",
          "model_module_version": "1.2.0",
          "state": {
            "_model_module": "@jupyter-widgets/base",
            "_model_module_version": "1.2.0",
            "_model_name": "LayoutModel",
            "_view_count": null,
            "_view_module": "@jupyter-widgets/base",
            "_view_module_version": "1.2.0",
            "_view_name": "LayoutView",
            "align_content": null,
            "align_items": null,
            "align_self": null,
            "border": null,
            "bottom": null,
            "display": null,
            "flex": null,
            "flex_flow": null,
            "grid_area": null,
            "grid_auto_columns": null,
            "grid_auto_flow": null,
            "grid_auto_rows": null,
            "grid_column": null,
            "grid_gap": null,
            "grid_row": null,
            "grid_template_areas": null,
            "grid_template_columns": null,
            "grid_template_rows": null,
            "height": null,
            "justify_content": null,
            "justify_items": null,
            "left": null,
            "margin": null,
            "max_height": null,
            "max_width": null,
            "min_height": null,
            "min_width": null,
            "object_fit": null,
            "object_position": null,
            "order": null,
            "overflow": null,
            "overflow_x": null,
            "overflow_y": null,
            "padding": null,
            "right": null,
            "top": null,
            "visibility": null,
            "width": null
          }
        },
        "fc390c35aafb433dac9f708339a21e27": {
          "model_module": "@jupyter-widgets/controls",
          "model_name": "ProgressStyleModel",
          "model_module_version": "1.5.0",
          "state": {
            "_model_module": "@jupyter-widgets/controls",
            "_model_module_version": "1.5.0",
            "_model_name": "ProgressStyleModel",
            "_view_count": null,
            "_view_module": "@jupyter-widgets/base",
            "_view_module_version": "1.2.0",
            "_view_name": "StyleView",
            "bar_color": null,
            "description_width": ""
          }
        },
        "7e9283ce8dff4777b6a5741c28dc93d2": {
          "model_module": "@jupyter-widgets/base",
          "model_name": "LayoutModel",
          "model_module_version": "1.2.0",
          "state": {
            "_model_module": "@jupyter-widgets/base",
            "_model_module_version": "1.2.0",
            "_model_name": "LayoutModel",
            "_view_count": null,
            "_view_module": "@jupyter-widgets/base",
            "_view_module_version": "1.2.0",
            "_view_name": "LayoutView",
            "align_content": null,
            "align_items": null,
            "align_self": null,
            "border": null,
            "bottom": null,
            "display": null,
            "flex": null,
            "flex_flow": null,
            "grid_area": null,
            "grid_auto_columns": null,
            "grid_auto_flow": null,
            "grid_auto_rows": null,
            "grid_column": null,
            "grid_gap": null,
            "grid_row": null,
            "grid_template_areas": null,
            "grid_template_columns": null,
            "grid_template_rows": null,
            "height": null,
            "justify_content": null,
            "justify_items": null,
            "left": null,
            "margin": null,
            "max_height": null,
            "max_width": null,
            "min_height": null,
            "min_width": null,
            "object_fit": null,
            "object_position": null,
            "order": null,
            "overflow": null,
            "overflow_x": null,
            "overflow_y": null,
            "padding": null,
            "right": null,
            "top": null,
            "visibility": null,
            "width": null
          }
        },
        "e168aad3cd35494090c9f27d5838c9e4": {
          "model_module": "@jupyter-widgets/controls",
          "model_name": "DescriptionStyleModel",
          "model_module_version": "1.5.0",
          "state": {
            "_model_module": "@jupyter-widgets/controls",
            "_model_module_version": "1.5.0",
            "_model_name": "DescriptionStyleModel",
            "_view_count": null,
            "_view_module": "@jupyter-widgets/base",
            "_view_module_version": "1.2.0",
            "_view_name": "StyleView",
            "description_width": ""
          }
        },
        "163ba9dd12fc46969f90db2076def77e": {
          "model_module": "@jupyter-widgets/controls",
          "model_name": "VBoxModel",
          "model_module_version": "1.5.0",
          "state": {
            "_dom_classes": [],
            "_model_module": "@jupyter-widgets/controls",
            "_model_module_version": "1.5.0",
            "_model_name": "VBoxModel",
            "_view_count": null,
            "_view_module": "@jupyter-widgets/controls",
            "_view_module_version": "1.5.0",
            "_view_name": "VBoxView",
            "box_style": "",
            "children": [
              "IPY_MODEL_9a97694450ac4f46ab92002eee1f9d75",
              "IPY_MODEL_0802acd4ff1a46cea82a9410c559104d",
              "IPY_MODEL_0857559152bf471d89b3704071750679",
              "IPY_MODEL_bd592a3c9b6a43bf81883261a97cb0fe"
            ],
            "layout": "IPY_MODEL_1e63e41d982b452c8ac2e075cf982ebc"
          }
        },
        "ba519769d365428986196daa90a4ef54": {
          "model_module": "@jupyter-widgets/controls",
          "model_name": "HTMLModel",
          "model_module_version": "1.5.0",
          "state": {
            "_dom_classes": [],
            "_model_module": "@jupyter-widgets/controls",
            "_model_module_version": "1.5.0",
            "_model_name": "HTMLModel",
            "_view_count": null,
            "_view_module": "@jupyter-widgets/controls",
            "_view_module_version": "1.5.0",
            "_view_name": "HTMLView",
            "description": "",
            "description_tooltip": null,
            "layout": "IPY_MODEL_02c9fd1b32df4228b09e8712b2ce2358",
            "placeholder": "​",
            "style": "IPY_MODEL_6668e16697b14a44ae03cb3651ff4541",
            "value": "<center> <img\nsrc=https://huggingface.co/front/assets/huggingface_logo-noborder.svg\nalt='Hugging Face'> <br> Copy a token from <a\nhref=\"https://huggingface.co/settings/tokens\" target=\"_blank\">your Hugging Face\ntokens page</a> and paste it below. <br> Immediately click login after copying\nyour token or it might be stored in plain text in this notebook file. </center>"
          }
        },
        "e79782cf70274fef8033b167d9bc9feb": {
          "model_module": "@jupyter-widgets/controls",
          "model_name": "PasswordModel",
          "model_module_version": "1.5.0",
          "state": {
            "_dom_classes": [],
            "_model_module": "@jupyter-widgets/controls",
            "_model_module_version": "1.5.0",
            "_model_name": "PasswordModel",
            "_view_count": null,
            "_view_module": "@jupyter-widgets/controls",
            "_view_module_version": "1.5.0",
            "_view_name": "PasswordView",
            "continuous_update": true,
            "description": "Token:",
            "description_tooltip": null,
            "disabled": false,
            "layout": "IPY_MODEL_63e350408ee947618cca4793de2929b5",
            "placeholder": "​",
            "style": "IPY_MODEL_778e7088c116408594680dfce3d0f75d",
            "value": ""
          }
        },
        "19e96711d3e64978a867e5e46855a164": {
          "model_module": "@jupyter-widgets/controls",
          "model_name": "CheckboxModel",
          "model_module_version": "1.5.0",
          "state": {
            "_dom_classes": [],
            "_model_module": "@jupyter-widgets/controls",
            "_model_module_version": "1.5.0",
            "_model_name": "CheckboxModel",
            "_view_count": null,
            "_view_module": "@jupyter-widgets/controls",
            "_view_module_version": "1.5.0",
            "_view_name": "CheckboxView",
            "description": "Add token as git credential?",
            "description_tooltip": null,
            "disabled": false,
            "indent": true,
            "layout": "IPY_MODEL_4971648ad73241a7b60612fc70b6d0f5",
            "style": "IPY_MODEL_84bdf65138c04c9d805c3d8dbbf738c7",
            "value": true
          }
        },
        "2304a2588e554ca8ab7ca242151a927f": {
          "model_module": "@jupyter-widgets/controls",
          "model_name": "ButtonModel",
          "model_module_version": "1.5.0",
          "state": {
            "_dom_classes": [],
            "_model_module": "@jupyter-widgets/controls",
            "_model_module_version": "1.5.0",
            "_model_name": "ButtonModel",
            "_view_count": null,
            "_view_module": "@jupyter-widgets/controls",
            "_view_module_version": "1.5.0",
            "_view_name": "ButtonView",
            "button_style": "",
            "description": "Login",
            "disabled": false,
            "icon": "",
            "layout": "IPY_MODEL_b66809a8d5684d5da277fe85e1c489f5",
            "style": "IPY_MODEL_c1ef9dbe70df4270b39dce5951490f37",
            "tooltip": ""
          }
        },
        "57b3b01bc51a473d9bcf7dca68eb3e9a": {
          "model_module": "@jupyter-widgets/controls",
          "model_name": "HTMLModel",
          "model_module_version": "1.5.0",
          "state": {
            "_dom_classes": [],
            "_model_module": "@jupyter-widgets/controls",
            "_model_module_version": "1.5.0",
            "_model_name": "HTMLModel",
            "_view_count": null,
            "_view_module": "@jupyter-widgets/controls",
            "_view_module_version": "1.5.0",
            "_view_name": "HTMLView",
            "description": "",
            "description_tooltip": null,
            "layout": "IPY_MODEL_0b7d0715fc68426fb1bdd3016f3080c2",
            "placeholder": "​",
            "style": "IPY_MODEL_03a81eeedea14bc58a86a5064dd9449e",
            "value": "\n<b>Pro Tip:</b> If you don't already have one, you can create a dedicated\n'notebooks' token with 'write' access, that you can then easily reuse for all\nnotebooks. </center>"
          }
        },
        "1e63e41d982b452c8ac2e075cf982ebc": {
          "model_module": "@jupyter-widgets/base",
          "model_name": "LayoutModel",
          "model_module_version": "1.2.0",
          "state": {
            "_model_module": "@jupyter-widgets/base",
            "_model_module_version": "1.2.0",
            "_model_name": "LayoutModel",
            "_view_count": null,
            "_view_module": "@jupyter-widgets/base",
            "_view_module_version": "1.2.0",
            "_view_name": "LayoutView",
            "align_content": null,
            "align_items": "center",
            "align_self": null,
            "border": null,
            "bottom": null,
            "display": "flex",
            "flex": null,
            "flex_flow": "column",
            "grid_area": null,
            "grid_auto_columns": null,
            "grid_auto_flow": null,
            "grid_auto_rows": null,
            "grid_column": null,
            "grid_gap": null,
            "grid_row": null,
            "grid_template_areas": null,
            "grid_template_columns": null,
            "grid_template_rows": null,
            "height": null,
            "justify_content": null,
            "justify_items": null,
            "left": null,
            "margin": null,
            "max_height": null,
            "max_width": null,
            "min_height": null,
            "min_width": null,
            "object_fit": null,
            "object_position": null,
            "order": null,
            "overflow": null,
            "overflow_x": null,
            "overflow_y": null,
            "padding": null,
            "right": null,
            "top": null,
            "visibility": null,
            "width": "50%"
          }
        },
        "02c9fd1b32df4228b09e8712b2ce2358": {
          "model_module": "@jupyter-widgets/base",
          "model_name": "LayoutModel",
          "model_module_version": "1.2.0",
          "state": {
            "_model_module": "@jupyter-widgets/base",
            "_model_module_version": "1.2.0",
            "_model_name": "LayoutModel",
            "_view_count": null,
            "_view_module": "@jupyter-widgets/base",
            "_view_module_version": "1.2.0",
            "_view_name": "LayoutView",
            "align_content": null,
            "align_items": null,
            "align_self": null,
            "border": null,
            "bottom": null,
            "display": null,
            "flex": null,
            "flex_flow": null,
            "grid_area": null,
            "grid_auto_columns": null,
            "grid_auto_flow": null,
            "grid_auto_rows": null,
            "grid_column": null,
            "grid_gap": null,
            "grid_row": null,
            "grid_template_areas": null,
            "grid_template_columns": null,
            "grid_template_rows": null,
            "height": null,
            "justify_content": null,
            "justify_items": null,
            "left": null,
            "margin": null,
            "max_height": null,
            "max_width": null,
            "min_height": null,
            "min_width": null,
            "object_fit": null,
            "object_position": null,
            "order": null,
            "overflow": null,
            "overflow_x": null,
            "overflow_y": null,
            "padding": null,
            "right": null,
            "top": null,
            "visibility": null,
            "width": null
          }
        },
        "6668e16697b14a44ae03cb3651ff4541": {
          "model_module": "@jupyter-widgets/controls",
          "model_name": "DescriptionStyleModel",
          "model_module_version": "1.5.0",
          "state": {
            "_model_module": "@jupyter-widgets/controls",
            "_model_module_version": "1.5.0",
            "_model_name": "DescriptionStyleModel",
            "_view_count": null,
            "_view_module": "@jupyter-widgets/base",
            "_view_module_version": "1.2.0",
            "_view_name": "StyleView",
            "description_width": ""
          }
        },
        "63e350408ee947618cca4793de2929b5": {
          "model_module": "@jupyter-widgets/base",
          "model_name": "LayoutModel",
          "model_module_version": "1.2.0",
          "state": {
            "_model_module": "@jupyter-widgets/base",
            "_model_module_version": "1.2.0",
            "_model_name": "LayoutModel",
            "_view_count": null,
            "_view_module": "@jupyter-widgets/base",
            "_view_module_version": "1.2.0",
            "_view_name": "LayoutView",
            "align_content": null,
            "align_items": null,
            "align_self": null,
            "border": null,
            "bottom": null,
            "display": null,
            "flex": null,
            "flex_flow": null,
            "grid_area": null,
            "grid_auto_columns": null,
            "grid_auto_flow": null,
            "grid_auto_rows": null,
            "grid_column": null,
            "grid_gap": null,
            "grid_row": null,
            "grid_template_areas": null,
            "grid_template_columns": null,
            "grid_template_rows": null,
            "height": null,
            "justify_content": null,
            "justify_items": null,
            "left": null,
            "margin": null,
            "max_height": null,
            "max_width": null,
            "min_height": null,
            "min_width": null,
            "object_fit": null,
            "object_position": null,
            "order": null,
            "overflow": null,
            "overflow_x": null,
            "overflow_y": null,
            "padding": null,
            "right": null,
            "top": null,
            "visibility": null,
            "width": null
          }
        },
        "778e7088c116408594680dfce3d0f75d": {
          "model_module": "@jupyter-widgets/controls",
          "model_name": "DescriptionStyleModel",
          "model_module_version": "1.5.0",
          "state": {
            "_model_module": "@jupyter-widgets/controls",
            "_model_module_version": "1.5.0",
            "_model_name": "DescriptionStyleModel",
            "_view_count": null,
            "_view_module": "@jupyter-widgets/base",
            "_view_module_version": "1.2.0",
            "_view_name": "StyleView",
            "description_width": ""
          }
        },
        "4971648ad73241a7b60612fc70b6d0f5": {
          "model_module": "@jupyter-widgets/base",
          "model_name": "LayoutModel",
          "model_module_version": "1.2.0",
          "state": {
            "_model_module": "@jupyter-widgets/base",
            "_model_module_version": "1.2.0",
            "_model_name": "LayoutModel",
            "_view_count": null,
            "_view_module": "@jupyter-widgets/base",
            "_view_module_version": "1.2.0",
            "_view_name": "LayoutView",
            "align_content": null,
            "align_items": null,
            "align_self": null,
            "border": null,
            "bottom": null,
            "display": null,
            "flex": null,
            "flex_flow": null,
            "grid_area": null,
            "grid_auto_columns": null,
            "grid_auto_flow": null,
            "grid_auto_rows": null,
            "grid_column": null,
            "grid_gap": null,
            "grid_row": null,
            "grid_template_areas": null,
            "grid_template_columns": null,
            "grid_template_rows": null,
            "height": null,
            "justify_content": null,
            "justify_items": null,
            "left": null,
            "margin": null,
            "max_height": null,
            "max_width": null,
            "min_height": null,
            "min_width": null,
            "object_fit": null,
            "object_position": null,
            "order": null,
            "overflow": null,
            "overflow_x": null,
            "overflow_y": null,
            "padding": null,
            "right": null,
            "top": null,
            "visibility": null,
            "width": null
          }
        },
        "84bdf65138c04c9d805c3d8dbbf738c7": {
          "model_module": "@jupyter-widgets/controls",
          "model_name": "DescriptionStyleModel",
          "model_module_version": "1.5.0",
          "state": {
            "_model_module": "@jupyter-widgets/controls",
            "_model_module_version": "1.5.0",
            "_model_name": "DescriptionStyleModel",
            "_view_count": null,
            "_view_module": "@jupyter-widgets/base",
            "_view_module_version": "1.2.0",
            "_view_name": "StyleView",
            "description_width": ""
          }
        },
        "b66809a8d5684d5da277fe85e1c489f5": {
          "model_module": "@jupyter-widgets/base",
          "model_name": "LayoutModel",
          "model_module_version": "1.2.0",
          "state": {
            "_model_module": "@jupyter-widgets/base",
            "_model_module_version": "1.2.0",
            "_model_name": "LayoutModel",
            "_view_count": null,
            "_view_module": "@jupyter-widgets/base",
            "_view_module_version": "1.2.0",
            "_view_name": "LayoutView",
            "align_content": null,
            "align_items": null,
            "align_self": null,
            "border": null,
            "bottom": null,
            "display": null,
            "flex": null,
            "flex_flow": null,
            "grid_area": null,
            "grid_auto_columns": null,
            "grid_auto_flow": null,
            "grid_auto_rows": null,
            "grid_column": null,
            "grid_gap": null,
            "grid_row": null,
            "grid_template_areas": null,
            "grid_template_columns": null,
            "grid_template_rows": null,
            "height": null,
            "justify_content": null,
            "justify_items": null,
            "left": null,
            "margin": null,
            "max_height": null,
            "max_width": null,
            "min_height": null,
            "min_width": null,
            "object_fit": null,
            "object_position": null,
            "order": null,
            "overflow": null,
            "overflow_x": null,
            "overflow_y": null,
            "padding": null,
            "right": null,
            "top": null,
            "visibility": null,
            "width": null
          }
        },
        "c1ef9dbe70df4270b39dce5951490f37": {
          "model_module": "@jupyter-widgets/controls",
          "model_name": "ButtonStyleModel",
          "model_module_version": "1.5.0",
          "state": {
            "_model_module": "@jupyter-widgets/controls",
            "_model_module_version": "1.5.0",
            "_model_name": "ButtonStyleModel",
            "_view_count": null,
            "_view_module": "@jupyter-widgets/base",
            "_view_module_version": "1.2.0",
            "_view_name": "StyleView",
            "button_color": null,
            "font_weight": ""
          }
        },
        "0b7d0715fc68426fb1bdd3016f3080c2": {
          "model_module": "@jupyter-widgets/base",
          "model_name": "LayoutModel",
          "model_module_version": "1.2.0",
          "state": {
            "_model_module": "@jupyter-widgets/base",
            "_model_module_version": "1.2.0",
            "_model_name": "LayoutModel",
            "_view_count": null,
            "_view_module": "@jupyter-widgets/base",
            "_view_module_version": "1.2.0",
            "_view_name": "LayoutView",
            "align_content": null,
            "align_items": null,
            "align_self": null,
            "border": null,
            "bottom": null,
            "display": null,
            "flex": null,
            "flex_flow": null,
            "grid_area": null,
            "grid_auto_columns": null,
            "grid_auto_flow": null,
            "grid_auto_rows": null,
            "grid_column": null,
            "grid_gap": null,
            "grid_row": null,
            "grid_template_areas": null,
            "grid_template_columns": null,
            "grid_template_rows": null,
            "height": null,
            "justify_content": null,
            "justify_items": null,
            "left": null,
            "margin": null,
            "max_height": null,
            "max_width": null,
            "min_height": null,
            "min_width": null,
            "object_fit": null,
            "object_position": null,
            "order": null,
            "overflow": null,
            "overflow_x": null,
            "overflow_y": null,
            "padding": null,
            "right": null,
            "top": null,
            "visibility": null,
            "width": null
          }
        },
        "03a81eeedea14bc58a86a5064dd9449e": {
          "model_module": "@jupyter-widgets/controls",
          "model_name": "DescriptionStyleModel",
          "model_module_version": "1.5.0",
          "state": {
            "_model_module": "@jupyter-widgets/controls",
            "_model_module_version": "1.5.0",
            "_model_name": "DescriptionStyleModel",
            "_view_count": null,
            "_view_module": "@jupyter-widgets/base",
            "_view_module_version": "1.2.0",
            "_view_name": "StyleView",
            "description_width": ""
          }
        },
        "cad1e148ed634c668bf2d3a332e63b6a": {
          "model_module": "@jupyter-widgets/controls",
          "model_name": "LabelModel",
          "model_module_version": "1.5.0",
          "state": {
            "_dom_classes": [],
            "_model_module": "@jupyter-widgets/controls",
            "_model_module_version": "1.5.0",
            "_model_name": "LabelModel",
            "_view_count": null,
            "_view_module": "@jupyter-widgets/controls",
            "_view_module_version": "1.5.0",
            "_view_name": "LabelView",
            "description": "",
            "description_tooltip": null,
            "layout": "IPY_MODEL_ec1775b6dcda44b28e97cf4aeb502209",
            "placeholder": "​",
            "style": "IPY_MODEL_eaf5a40a01494fa39b181e28ac6726bc",
            "value": "Connecting..."
          }
        },
        "ec1775b6dcda44b28e97cf4aeb502209": {
          "model_module": "@jupyter-widgets/base",
          "model_name": "LayoutModel",
          "model_module_version": "1.2.0",
          "state": {
            "_model_module": "@jupyter-widgets/base",
            "_model_module_version": "1.2.0",
            "_model_name": "LayoutModel",
            "_view_count": null,
            "_view_module": "@jupyter-widgets/base",
            "_view_module_version": "1.2.0",
            "_view_name": "LayoutView",
            "align_content": null,
            "align_items": null,
            "align_self": null,
            "border": null,
            "bottom": null,
            "display": null,
            "flex": null,
            "flex_flow": null,
            "grid_area": null,
            "grid_auto_columns": null,
            "grid_auto_flow": null,
            "grid_auto_rows": null,
            "grid_column": null,
            "grid_gap": null,
            "grid_row": null,
            "grid_template_areas": null,
            "grid_template_columns": null,
            "grid_template_rows": null,
            "height": null,
            "justify_content": null,
            "justify_items": null,
            "left": null,
            "margin": null,
            "max_height": null,
            "max_width": null,
            "min_height": null,
            "min_width": null,
            "object_fit": null,
            "object_position": null,
            "order": null,
            "overflow": null,
            "overflow_x": null,
            "overflow_y": null,
            "padding": null,
            "right": null,
            "top": null,
            "visibility": null,
            "width": null
          }
        },
        "eaf5a40a01494fa39b181e28ac6726bc": {
          "model_module": "@jupyter-widgets/controls",
          "model_name": "DescriptionStyleModel",
          "model_module_version": "1.5.0",
          "state": {
            "_model_module": "@jupyter-widgets/controls",
            "_model_module_version": "1.5.0",
            "_model_name": "DescriptionStyleModel",
            "_view_count": null,
            "_view_module": "@jupyter-widgets/base",
            "_view_module_version": "1.2.0",
            "_view_name": "StyleView",
            "description_width": ""
          }
        },
        "9a97694450ac4f46ab92002eee1f9d75": {
          "model_module": "@jupyter-widgets/controls",
          "model_name": "LabelModel",
          "model_module_version": "1.5.0",
          "state": {
            "_dom_classes": [],
            "_model_module": "@jupyter-widgets/controls",
            "_model_module_version": "1.5.0",
            "_model_name": "LabelModel",
            "_view_count": null,
            "_view_module": "@jupyter-widgets/controls",
            "_view_module_version": "1.5.0",
            "_view_name": "LabelView",
            "description": "",
            "description_tooltip": null,
            "layout": "IPY_MODEL_e13a776529984fd3bc794177af7c1cb5",
            "placeholder": "​",
            "style": "IPY_MODEL_fa8cc67754c3485298f3d0756a9e759a",
            "value": "Token is valid (permission: write)."
          }
        },
        "0802acd4ff1a46cea82a9410c559104d": {
          "model_module": "@jupyter-widgets/controls",
          "model_name": "LabelModel",
          "model_module_version": "1.5.0",
          "state": {
            "_dom_classes": [],
            "_model_module": "@jupyter-widgets/controls",
            "_model_module_version": "1.5.0",
            "_model_name": "LabelModel",
            "_view_count": null,
            "_view_module": "@jupyter-widgets/controls",
            "_view_module_version": "1.5.0",
            "_view_name": "LabelView",
            "description": "",
            "description_tooltip": null,
            "layout": "IPY_MODEL_7afc0dac1a5d498a8c17833c637fd85a",
            "placeholder": "​",
            "style": "IPY_MODEL_40dd1380f066491887c073a6846b88cd",
            "value": "Your token has been saved in your configured git credential helpers (store)."
          }
        },
        "0857559152bf471d89b3704071750679": {
          "model_module": "@jupyter-widgets/controls",
          "model_name": "LabelModel",
          "model_module_version": "1.5.0",
          "state": {
            "_dom_classes": [],
            "_model_module": "@jupyter-widgets/controls",
            "_model_module_version": "1.5.0",
            "_model_name": "LabelModel",
            "_view_count": null,
            "_view_module": "@jupyter-widgets/controls",
            "_view_module_version": "1.5.0",
            "_view_name": "LabelView",
            "description": "",
            "description_tooltip": null,
            "layout": "IPY_MODEL_063f629c09444fe88ddb190894e9cd53",
            "placeholder": "​",
            "style": "IPY_MODEL_1150af252e0f40ea92cba85b7a0f67e3",
            "value": "Your token has been saved to /root/.cache/huggingface/token"
          }
        },
        "bd592a3c9b6a43bf81883261a97cb0fe": {
          "model_module": "@jupyter-widgets/controls",
          "model_name": "LabelModel",
          "model_module_version": "1.5.0",
          "state": {
            "_dom_classes": [],
            "_model_module": "@jupyter-widgets/controls",
            "_model_module_version": "1.5.0",
            "_model_name": "LabelModel",
            "_view_count": null,
            "_view_module": "@jupyter-widgets/controls",
            "_view_module_version": "1.5.0",
            "_view_name": "LabelView",
            "description": "",
            "description_tooltip": null,
            "layout": "IPY_MODEL_b8c2140bdb0b4c608a966c1d0b51e371",
            "placeholder": "​",
            "style": "IPY_MODEL_41e686cd26e64e3790f5aad1653f4833",
            "value": "Login successful"
          }
        },
        "e13a776529984fd3bc794177af7c1cb5": {
          "model_module": "@jupyter-widgets/base",
          "model_name": "LayoutModel",
          "model_module_version": "1.2.0",
          "state": {
            "_model_module": "@jupyter-widgets/base",
            "_model_module_version": "1.2.0",
            "_model_name": "LayoutModel",
            "_view_count": null,
            "_view_module": "@jupyter-widgets/base",
            "_view_module_version": "1.2.0",
            "_view_name": "LayoutView",
            "align_content": null,
            "align_items": null,
            "align_self": null,
            "border": null,
            "bottom": null,
            "display": null,
            "flex": null,
            "flex_flow": null,
            "grid_area": null,
            "grid_auto_columns": null,
            "grid_auto_flow": null,
            "grid_auto_rows": null,
            "grid_column": null,
            "grid_gap": null,
            "grid_row": null,
            "grid_template_areas": null,
            "grid_template_columns": null,
            "grid_template_rows": null,
            "height": null,
            "justify_content": null,
            "justify_items": null,
            "left": null,
            "margin": null,
            "max_height": null,
            "max_width": null,
            "min_height": null,
            "min_width": null,
            "object_fit": null,
            "object_position": null,
            "order": null,
            "overflow": null,
            "overflow_x": null,
            "overflow_y": null,
            "padding": null,
            "right": null,
            "top": null,
            "visibility": null,
            "width": null
          }
        },
        "fa8cc67754c3485298f3d0756a9e759a": {
          "model_module": "@jupyter-widgets/controls",
          "model_name": "DescriptionStyleModel",
          "model_module_version": "1.5.0",
          "state": {
            "_model_module": "@jupyter-widgets/controls",
            "_model_module_version": "1.5.0",
            "_model_name": "DescriptionStyleModel",
            "_view_count": null,
            "_view_module": "@jupyter-widgets/base",
            "_view_module_version": "1.2.0",
            "_view_name": "StyleView",
            "description_width": ""
          }
        },
        "7afc0dac1a5d498a8c17833c637fd85a": {
          "model_module": "@jupyter-widgets/base",
          "model_name": "LayoutModel",
          "model_module_version": "1.2.0",
          "state": {
            "_model_module": "@jupyter-widgets/base",
            "_model_module_version": "1.2.0",
            "_model_name": "LayoutModel",
            "_view_count": null,
            "_view_module": "@jupyter-widgets/base",
            "_view_module_version": "1.2.0",
            "_view_name": "LayoutView",
            "align_content": null,
            "align_items": null,
            "align_self": null,
            "border": null,
            "bottom": null,
            "display": null,
            "flex": null,
            "flex_flow": null,
            "grid_area": null,
            "grid_auto_columns": null,
            "grid_auto_flow": null,
            "grid_auto_rows": null,
            "grid_column": null,
            "grid_gap": null,
            "grid_row": null,
            "grid_template_areas": null,
            "grid_template_columns": null,
            "grid_template_rows": null,
            "height": null,
            "justify_content": null,
            "justify_items": null,
            "left": null,
            "margin": null,
            "max_height": null,
            "max_width": null,
            "min_height": null,
            "min_width": null,
            "object_fit": null,
            "object_position": null,
            "order": null,
            "overflow": null,
            "overflow_x": null,
            "overflow_y": null,
            "padding": null,
            "right": null,
            "top": null,
            "visibility": null,
            "width": null
          }
        },
        "40dd1380f066491887c073a6846b88cd": {
          "model_module": "@jupyter-widgets/controls",
          "model_name": "DescriptionStyleModel",
          "model_module_version": "1.5.0",
          "state": {
            "_model_module": "@jupyter-widgets/controls",
            "_model_module_version": "1.5.0",
            "_model_name": "DescriptionStyleModel",
            "_view_count": null,
            "_view_module": "@jupyter-widgets/base",
            "_view_module_version": "1.2.0",
            "_view_name": "StyleView",
            "description_width": ""
          }
        },
        "063f629c09444fe88ddb190894e9cd53": {
          "model_module": "@jupyter-widgets/base",
          "model_name": "LayoutModel",
          "model_module_version": "1.2.0",
          "state": {
            "_model_module": "@jupyter-widgets/base",
            "_model_module_version": "1.2.0",
            "_model_name": "LayoutModel",
            "_view_count": null,
            "_view_module": "@jupyter-widgets/base",
            "_view_module_version": "1.2.0",
            "_view_name": "LayoutView",
            "align_content": null,
            "align_items": null,
            "align_self": null,
            "border": null,
            "bottom": null,
            "display": null,
            "flex": null,
            "flex_flow": null,
            "grid_area": null,
            "grid_auto_columns": null,
            "grid_auto_flow": null,
            "grid_auto_rows": null,
            "grid_column": null,
            "grid_gap": null,
            "grid_row": null,
            "grid_template_areas": null,
            "grid_template_columns": null,
            "grid_template_rows": null,
            "height": null,
            "justify_content": null,
            "justify_items": null,
            "left": null,
            "margin": null,
            "max_height": null,
            "max_width": null,
            "min_height": null,
            "min_width": null,
            "object_fit": null,
            "object_position": null,
            "order": null,
            "overflow": null,
            "overflow_x": null,
            "overflow_y": null,
            "padding": null,
            "right": null,
            "top": null,
            "visibility": null,
            "width": null
          }
        },
        "1150af252e0f40ea92cba85b7a0f67e3": {
          "model_module": "@jupyter-widgets/controls",
          "model_name": "DescriptionStyleModel",
          "model_module_version": "1.5.0",
          "state": {
            "_model_module": "@jupyter-widgets/controls",
            "_model_module_version": "1.5.0",
            "_model_name": "DescriptionStyleModel",
            "_view_count": null,
            "_view_module": "@jupyter-widgets/base",
            "_view_module_version": "1.2.0",
            "_view_name": "StyleView",
            "description_width": ""
          }
        },
        "b8c2140bdb0b4c608a966c1d0b51e371": {
          "model_module": "@jupyter-widgets/base",
          "model_name": "LayoutModel",
          "model_module_version": "1.2.0",
          "state": {
            "_model_module": "@jupyter-widgets/base",
            "_model_module_version": "1.2.0",
            "_model_name": "LayoutModel",
            "_view_count": null,
            "_view_module": "@jupyter-widgets/base",
            "_view_module_version": "1.2.0",
            "_view_name": "LayoutView",
            "align_content": null,
            "align_items": null,
            "align_self": null,
            "border": null,
            "bottom": null,
            "display": null,
            "flex": null,
            "flex_flow": null,
            "grid_area": null,
            "grid_auto_columns": null,
            "grid_auto_flow": null,
            "grid_auto_rows": null,
            "grid_column": null,
            "grid_gap": null,
            "grid_row": null,
            "grid_template_areas": null,
            "grid_template_columns": null,
            "grid_template_rows": null,
            "height": null,
            "justify_content": null,
            "justify_items": null,
            "left": null,
            "margin": null,
            "max_height": null,
            "max_width": null,
            "min_height": null,
            "min_width": null,
            "object_fit": null,
            "object_position": null,
            "order": null,
            "overflow": null,
            "overflow_x": null,
            "overflow_y": null,
            "padding": null,
            "right": null,
            "top": null,
            "visibility": null,
            "width": null
          }
        },
        "41e686cd26e64e3790f5aad1653f4833": {
          "model_module": "@jupyter-widgets/controls",
          "model_name": "DescriptionStyleModel",
          "model_module_version": "1.5.0",
          "state": {
            "_model_module": "@jupyter-widgets/controls",
            "_model_module_version": "1.5.0",
            "_model_name": "DescriptionStyleModel",
            "_view_count": null,
            "_view_module": "@jupyter-widgets/base",
            "_view_module_version": "1.2.0",
            "_view_name": "StyleView",
            "description_width": ""
          }
        }
      }
    }
  },
  "nbformat": 4,
  "nbformat_minor": 0
}